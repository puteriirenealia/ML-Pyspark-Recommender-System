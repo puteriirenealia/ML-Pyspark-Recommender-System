{
  "cells": [
    {
      "cell_type": "markdown",
      "metadata": {
        "id": "D1JMp22fk-XB"
      },
      "source": [
        "# **Content-Based Product Recommender System with PySpark & OpenAI**"
      ]
    },
    {
      "cell_type": "markdown",
      "metadata": {
        "id": "WSq024bak3oY"
      },
      "source": [
        "### Task 1 - Set up the project"
      ]
    },
    {
      "cell_type": "markdown",
      "metadata": {
        "id": "yZ2xad8skFPi"
      },
      "source": [
        "Installing the needed modules."
      ]
    },
    {
      "cell_type": "code",
      "execution_count": 1,
      "metadata": {
        "id": "9TysdMWOkEfm"
      },
      "outputs": [
        {
          "name": "stdout",
          "output_type": "stream",
          "text": [
            "Requirement already satisfied: openai==1.16.2 in c:\\users\\puter\\repositories\\ml-pyspark-recommender-system\\openai_env\\lib\\site-packages (1.16.2)\n",
            "Requirement already satisfied: python-dotenv in c:\\users\\puter\\repositories\\ml-pyspark-recommender-system\\openai_env\\lib\\site-packages (1.1.1)\n",
            "Requirement already satisfied: pyspark in c:\\users\\puter\\repositories\\ml-pyspark-recommender-system\\openai_env\\lib\\site-packages (3.5.1)\n",
            "Requirement already satisfied: anyio<5,>=3.5.0 in c:\\users\\puter\\repositories\\ml-pyspark-recommender-system\\openai_env\\lib\\site-packages (from openai==1.16.2) (4.9.0)\n",
            "Requirement already satisfied: distro<2,>=1.7.0 in c:\\users\\puter\\repositories\\ml-pyspark-recommender-system\\openai_env\\lib\\site-packages (from openai==1.16.2) (1.9.0)\n",
            "Requirement already satisfied: httpx<1,>=0.23.0 in c:\\users\\puter\\repositories\\ml-pyspark-recommender-system\\openai_env\\lib\\site-packages (from openai==1.16.2) (0.24.1)\n",
            "Requirement already satisfied: pydantic<3,>=1.9.0 in c:\\users\\puter\\repositories\\ml-pyspark-recommender-system\\openai_env\\lib\\site-packages (from openai==1.16.2) (2.11.7)\n",
            "Requirement already satisfied: sniffio in c:\\users\\puter\\repositories\\ml-pyspark-recommender-system\\openai_env\\lib\\site-packages (from openai==1.16.2) (1.3.1)\n",
            "Requirement already satisfied: tqdm>4 in c:\\users\\puter\\repositories\\ml-pyspark-recommender-system\\openai_env\\lib\\site-packages (from openai==1.16.2) (4.67.1)\n",
            "Requirement already satisfied: typing-extensions<5,>=4.7 in c:\\users\\puter\\repositories\\ml-pyspark-recommender-system\\openai_env\\lib\\site-packages (from openai==1.16.2) (4.14.0)\n",
            "Requirement already satisfied: idna>=2.8 in c:\\users\\puter\\repositories\\ml-pyspark-recommender-system\\openai_env\\lib\\site-packages (from anyio<5,>=3.5.0->openai==1.16.2) (3.10)\n",
            "Requirement already satisfied: certifi in c:\\users\\puter\\repositories\\ml-pyspark-recommender-system\\openai_env\\lib\\site-packages (from httpx<1,>=0.23.0->openai==1.16.2) (2025.6.15)\n",
            "Requirement already satisfied: httpcore<0.18.0,>=0.15.0 in c:\\users\\puter\\repositories\\ml-pyspark-recommender-system\\openai_env\\lib\\site-packages (from httpx<1,>=0.23.0->openai==1.16.2) (0.17.3)\n",
            "Requirement already satisfied: h11<0.15,>=0.13 in c:\\users\\puter\\repositories\\ml-pyspark-recommender-system\\openai_env\\lib\\site-packages (from httpcore<0.18.0,>=0.15.0->httpx<1,>=0.23.0->openai==1.16.2) (0.14.0)\n",
            "Requirement already satisfied: annotated-types>=0.6.0 in c:\\users\\puter\\repositories\\ml-pyspark-recommender-system\\openai_env\\lib\\site-packages (from pydantic<3,>=1.9.0->openai==1.16.2) (0.7.0)\n",
            "Requirement already satisfied: pydantic-core==2.33.2 in c:\\users\\puter\\repositories\\ml-pyspark-recommender-system\\openai_env\\lib\\site-packages (from pydantic<3,>=1.9.0->openai==1.16.2) (2.33.2)\n",
            "Requirement already satisfied: typing-inspection>=0.4.0 in c:\\users\\puter\\repositories\\ml-pyspark-recommender-system\\openai_env\\lib\\site-packages (from pydantic<3,>=1.9.0->openai==1.16.2) (0.4.1)\n",
            "Requirement already satisfied: py4j==0.10.9.7 in c:\\users\\puter\\repositories\\ml-pyspark-recommender-system\\openai_env\\lib\\site-packages (from pyspark) (0.10.9.7)\n",
            "Requirement already satisfied: colorama in c:\\users\\puter\\repositories\\ml-pyspark-recommender-system\\openai_env\\lib\\site-packages (from tqdm>4->openai==1.16.2) (0.4.6)\n"
          ]
        }
      ],
      "source": [
        "!pip install openai==1.16.2 python-dotenv pyspark"
      ]
    },
    {
      "cell_type": "markdown",
      "metadata": {
        "id": "BW-TNHnokK9R"
      },
      "source": [
        "Import the modules"
      ]
    },
    {
      "cell_type": "code",
      "execution_count": 2,
      "metadata": {
        "id": "471JgJHHkM4j"
      },
      "outputs": [],
      "source": [
        "from dotenv import load_dotenv\n",
        "import os\n",
        "from openai import OpenAI\n",
        "import pandas as pd\n",
        "import numpy as np\n",
        "\n",
        "from pyspark.sql import SparkSession\n",
        "from pyspark.sql.functions import concat_ws\n",
        "from pyspark.sql import functions as F\n",
        "from pyspark.sql.types import ArrayType, FloatType\n",
        "\n",
        "from pyspark.ml.feature import VectorAssembler, PCA\n",
        "from pyspark.ml.clustering import KMeans\n",
        "import findspark\n",
        "import plotly.express as px\n"
      ]
    },
    {
      "cell_type": "markdown",
      "metadata": {
        "id": "5B9C7nK-n_PH"
      },
      "source": [
        "Setup the OpenAI API"
      ]
    },
    {
      "cell_type": "code",
      "execution_count": 3,
      "metadata": {},
      "outputs": [
        {
          "data": {
            "text/plain": [
              "<openai.OpenAI at 0x22ed2c28d50>"
            ]
          },
          "execution_count": 3,
          "metadata": {},
          "output_type": "execute_result"
        }
      ],
      "source": [
        "# Load environment variables\n",
        "load_dotenv(dotenv_path='apikey.env.txt')\n",
        "# Initialize OpenAI client\n",
        "APIKEY=os.getenv('apikey')\n",
        "\n",
        "#Create an Instance of the OpenAI client\n",
        "client = OpenAI(api_key=APIKEY)\n",
        "client"
      ]
    },
    {
      "cell_type": "markdown",
      "metadata": {
        "id": "-ZdObqeMkOig"
      },
      "source": [
        "Create a Spark session"
      ]
    },
    {
      "cell_type": "code",
      "execution_count": 4,
      "metadata": {
        "id": "_Qv5GsOYjg6-"
      },
      "outputs": [
        {
          "data": {
            "text/html": [
              "\n",
              "            <div>\n",
              "                <p><b>SparkSession - in-memory</b></p>\n",
              "                \n",
              "        <div>\n",
              "            <p><b>SparkContext</b></p>\n",
              "\n",
              "            <p><a href=\"http://192.168.50.164:4040\">Spark UI</a></p>\n",
              "\n",
              "            <dl>\n",
              "              <dt>Version</dt>\n",
              "                <dd><code>v3.5.1</code></dd>\n",
              "              <dt>Master</dt>\n",
              "                <dd><code>local[*]</code></dd>\n",
              "              <dt>AppName</dt>\n",
              "                <dd><code>ProductRecommenderSystem</code></dd>\n",
              "            </dl>\n",
              "        </div>\n",
              "        \n",
              "            </div>\n",
              "        "
            ],
            "text/plain": [
              "<pyspark.sql.session.SparkSession at 0x22ed4814550>"
            ]
          },
          "execution_count": 4,
          "metadata": {},
          "output_type": "execute_result"
        }
      ],
      "source": [
        "#Create a Spark session\n",
        "spark = SparkSession.builder.appName(\"ProductRecommenderSystem\").getOrCreate()\n",
        "spark"
      ]
    },
    {
      "cell_type": "code",
      "execution_count": 5,
      "metadata": {},
      "outputs": [
        {
          "name": "stdout",
          "output_type": "stream",
          "text": [
            "Creating a new Spark session with 12GB of driver memory...\n",
            "\n",
            "✅ Spark session created successfully!\n",
            "✅ Spark Version: 3.5.1\n"
          ]
        }
      ],
      "source": [
        "from pyspark.sql import SparkSession\n",
        "import os\n",
        "\n",
        "print(\"Creating a new Spark session with 12GB of driver memory...\")\n",
        "\n",
        "try:\n",
        "    spark = SparkSession.builder \\\n",
        "        .appName(\"RecommenderSystemWithMemory\") \\\n",
        "        .master(\"local[*]\") \\\n",
        "        .config(\"spark.driver.host\", \"127.0.0.1\") \\\n",
        "        .config(\"spark.driver.memory\", \"12g\") \\\n",
        "        .getOrCreate()\n",
        "\n",
        "    print(\"\\n✅ Spark session created successfully!\")\n",
        "    print(f\"✅ Spark Version: {spark.version}\")\n",
        "\n",
        "except Exception as e:\n",
        "    print(\"\\n❌ Test failed. Error details:\", e)"
      ]
    },
    {
      "cell_type": "markdown",
      "metadata": {
        "id": "vrVs7c7VkdAU"
      },
      "source": [
        "Loading the dataset"
      ]
    },
    {
      "cell_type": "code",
      "execution_count": 7,
      "metadata": {
        "id": "7nN4tpI2kpJH"
      },
      "outputs": [
        {
          "name": "stdout",
          "output_type": "stream",
          "text": [
            "+----------+--------------------+--------------------+\n",
            "|product_id|               title|         description|\n",
            "+----------+--------------------+--------------------+\n",
            "|        P0|Men's 3X Large Ca...|This heavyweight,...|\n",
            "|        P1|Turmode 30 ft. RP...|If you need more ...|\n",
            "|        P2|Large Tapestry Bo...|Polyester cover r...|\n",
            "|        P3|16-Gauge-Sinks Ve...|It features a rec...|\n",
            "|        P4|Men's Crazy Horse...|This 9 in. black ...|\n",
            "+----------+--------------------+--------------------+\n",
            "only showing top 5 rows\n",
            "\n"
          ]
        }
      ],
      "source": [
        "file_path = 'products_dataset.csv'\n",
        "# Load the dataset\n",
        "df = spark.read.csv(file_path, header=True, inferSchema=True, samplingRatio=1)\n",
        "df.show(5)"
      ]
    },
    {
      "cell_type": "markdown",
      "metadata": {
        "id": "J3iLfvXQqxg1"
      },
      "source": [
        "List of 8 products recently viewed by the user."
      ]
    },
    {
      "cell_type": "code",
      "execution_count": 8,
      "metadata": {
        "id": "Y2tAbjKgqxKs"
      },
      "outputs": [],
      "source": [
        "recently_viewed_products = [\n",
        "    'P316',\n",
        "    'P333',\n",
        "    'P1115',\n",
        "    'P1691',\n",
        "    'P1082',\n",
        "    'P397',\n",
        "    'P1441',\n",
        "    'P1054',\n",
        "]"
      ]
    },
    {
      "cell_type": "markdown",
      "metadata": {
        "id": "p8GVRghclHxs"
      },
      "source": [
        "### Task 2 - Prepare the dataset"
      ]
    },
    {
      "cell_type": "markdown",
      "metadata": {
        "id": "QgtmOENUl6uS"
      },
      "source": [
        "Combine `title` and `description` Columns"
      ]
    },
    {
      "cell_type": "code",
      "execution_count": 9,
      "metadata": {
        "id": "pIV-mogSlLPa"
      },
      "outputs": [
        {
          "name": "stdout",
          "output_type": "stream",
          "text": [
            "+----------+--------------------+--------------------+--------------------+\n",
            "|product_id|               title|         description|       combined_text|\n",
            "+----------+--------------------+--------------------+--------------------+\n",
            "|        P0|Men's 3X Large Ca...|This heavyweight,...|Men's 3X Large Ca...|\n",
            "|        P1|Turmode 30 ft. RP...|If you need more ...|Turmode 30 ft. RP...|\n",
            "|        P2|Large Tapestry Bo...|Polyester cover r...|Large Tapestry Bo...|\n",
            "|        P3|16-Gauge-Sinks Ve...|It features a rec...|16-Gauge-Sinks Ve...|\n",
            "|        P4|Men's Crazy Horse...|This 9 in. black ...|Men's Crazy Horse...|\n",
            "+----------+--------------------+--------------------+--------------------+\n",
            "only showing top 5 rows\n",
            "\n"
          ]
        }
      ],
      "source": [
        "df = df.withColumn('combined_text', concat_ws(\"\", df.title, df.description))\n",
        "df.show(5)"
      ]
    },
    {
      "cell_type": "markdown",
      "metadata": {
        "id": "wbgC0Iy5rO4M"
      },
      "source": [
        "get the combined_text column and convert it into a list"
      ]
    },
    {
      "cell_type": "code",
      "execution_count": 10,
      "metadata": {},
      "outputs": [
        {
          "name": "stdout",
          "output_type": "stream",
          "text": [
            "[\"Men's 3X Large Carbon Heather Cotton/Polyester Rain Defender Paxton Heavyweight Hooded Zip-Front SweatshirtThis heavyweight, water-repellent hooded sweatshirt has a zip front for fast layering. ORIGINAL FIT. 13 oz., 75% cotton/25% polyester blend with Rain Defender durable water repellent. Attached, jersey-lined three-piece hood with drawcord closure. Antique-finish brass front zipper. Two front hand-warmer pockets have a hidden security pocket inside. Stretchable, spandex-reinforced rib-knit cuffs and waistband. Locker loop facilitates hanging.\", \"Turmode 30 ft. RP TNC Female to RP TNC Male Adapter CableIf you need more length between your existing wireless device and Hi-Gain Antenna, this is the product for you. It's compatible with most Wi-Fi Antennas, so it is easy for you to extend your wireless network. Just replace your existing cable that runs between your wireless device and Antenna and you're ready to use your network with extended range.\", 'Large Tapestry Bolster BedPolyester cover resembling rich Italian tapestries wraps your pet in comfort and style. 100% recycled polyester high loft MemoryFiber fill keeps pets elevated off cold floors for relief on tired joints and pressure points. A great fit for pets up to 100 lbs. Zippered removable cover is machine washable in cold water only. To dry, use a delicate cycle or gentle setting with very low heat.']\n"
          ]
        }
      ],
      "source": [
        "list_combined_text = df.select('combined_text').rdd.flatMap(lambda x: x).collect()\n",
        "print (list_combined_text[:3])"
      ]
    },
    {
      "cell_type": "markdown",
      "metadata": {
        "id": "cR-Nbn3jrN6F"
      },
      "source": [
        "Use OpenAI text embedding model to create the vector embeddings."
      ]
    },
    {
      "cell_type": "code",
      "execution_count": 11,
      "metadata": {
        "id": "2Lc54tWKmldh"
      },
      "outputs": [
        {
          "data": {
            "text/plain": [
              "[[0.03746229410171509,\n",
              "  0.030402367934584618,\n",
              "  -0.013690895400941372,\n",
              "  -0.0015493858372792602,\n",
              "  0.007462074514478445,\n",
              "  -0.03556773066520691,\n",
              "  0.021412132307887077,\n",
              "  0.08193089812994003,\n",
              "  0.04915138706564903,\n",
              "  -0.05765904486179352,\n",
              "  0.04196634888648987,\n",
              "  0.042502544820308685,\n",
              "  -0.05869569256901741,\n",
              "  0.03108154982328415,\n",
              "  0.02277049794793129,\n",
              "  0.06452237069606781,\n",
              "  0.10430818051099777,\n",
              "  -0.03749804198741913,\n",
              "  -0.08779331296682358,\n",
              "  0.06441512703895569,\n",
              "  -0.05637217313051224,\n",
              "  0.05848121643066406,\n",
              "  -0.026702608913183212,\n",
              "  -0.07714086771011353,\n",
              "  0.02629152499139309,\n",
              "  0.038034237921237946,\n",
              "  -0.04811473935842514,\n",
              "  0.032529283314943314,\n",
              "  0.05569298937916756,\n",
              "  -0.015916112810373306,\n",
              "  0.003541134065017104,\n",
              "  -0.023574793711304665,\n",
              "  0.018516669049859047,\n",
              "  -0.026041299104690552,\n",
              "  0.0442541241645813,\n",
              "  -0.07067076116800308,\n",
              "  -0.021590864285826683,\n",
              "  0.10938417911529541,\n",
              "  -0.033816155046224594,\n",
              "  0.02857929840683937,\n",
              "  0.031260281801223755,\n",
              "  -0.05748031288385391,\n",
              "  0.013887501321732998,\n",
              "  -0.05933912843465805,\n",
              "  0.026881340891122818,\n",
              "  0.03699759021401405,\n",
              "  0.014057297259569168,\n",
              "  0.025505101308226585,\n",
              "  -0.02981255017220974,\n",
              "  0.02184109017252922,\n",
              "  -0.034459590911865234,\n",
              "  -0.018677527084946632,\n",
              "  -0.05447760969400406,\n",
              "  0.044754572212696075,\n",
              "  -0.02952658012509346,\n",
              "  -0.028793776407837868,\n",
              "  -0.04207358881831169,\n",
              "  -0.04232381284236908,\n",
              "  0.02341393381357193,\n",
              "  -0.02019675262272358,\n",
              "  -0.021626610308885574,\n",
              "  -0.0208223145455122,\n",
              "  -0.025558721274137497,\n",
              "  -0.014396888203918934,\n",
              "  -0.031242409721016884,\n",
              "  -0.034423843026161194,\n",
              "  0.019481822848320007,\n",
              "  -0.01983928680419922,\n",
              "  0.006023279391229153,\n",
              "  -0.05301200598478317,\n",
              "  0.06137667968869209,\n",
              "  0.051188938319683075,\n",
              "  0.030330874025821686,\n",
              "  -0.026827720925211906,\n",
              "  -0.07478160411119461,\n",
              "  -0.0021559586748480797,\n",
              "  0.006693525239825249,\n",
              "  -0.08250284194946289,\n",
              "  0.008449570275843143,\n",
              "  0.031242409721016884,\n",
              "  -0.020286118611693382,\n",
              "  0.07252957671880722,\n",
              "  -0.02311008982360363,\n",
              "  -0.03587157651782036,\n",
              "  -0.05004505068063736,\n",
              "  -0.001347194891422987,\n",
              "  -0.026130665093660355,\n",
              "  0.007104609627276659,\n",
              "  -0.008217218331992626,\n",
              "  -0.0144326351583004,\n",
              "  0.02337818779051304,\n",
              "  0.012466579675674438,\n",
              "  0.024218229576945305,\n",
              "  -0.024879539385437965,\n",
              "  -0.055335525423288345,\n",
              "  0.00561666302382946,\n",
              "  -0.028043100610375404,\n",
              "  -0.03967857360839844,\n",
              "  -0.033798281103372574,\n",
              "  0.009070665575563908,\n",
              "  -0.032922495156526566,\n",
              "  -0.007676552981138229,\n",
              "  0.0005976362153887749,\n",
              "  0.011519297957420349,\n",
              "  -0.06498707085847855,\n",
              "  -0.007899968884885311,\n",
              "  -0.11074254661798477,\n",
              "  -0.005259198602288961,\n",
              "  0.00959792546927929,\n",
              "  -0.02722093276679516,\n",
              "  -0.10066204518079758,\n",
              "  0.07556802779436111,\n",
              "  0.03229692950844765,\n",
              "  0.06956262141466141,\n",
              "  -0.03549623861908913,\n",
              "  -0.03342294320464134,\n",
              "  0.035460490733385086,\n",
              "  0.017908979207277298,\n",
              "  -0.009883897379040718,\n",
              "  0.06298527121543884,\n",
              "  0.023324567824602127,\n",
              "  0.05683687701821327,\n",
              "  -0.02280624397099018,\n",
              "  -0.023306693881750107,\n",
              "  -0.0045241620391607285,\n",
              "  -0.013199381530284882,\n",
              "  -0.03472768887877464,\n",
              "  -0.04361068457365036,\n",
              "  0.004995568189769983,\n",
              "  0.0070733316242694855,\n",
              "  0.052154090255498886,\n",
              "  0.028168214485049248,\n",
              "  0.08343224972486496,\n",
              "  -0.030277255922555923,\n",
              "  -0.01185888983309269,\n",
              "  0.017846422269940376,\n",
              "  0.04271702468395233,\n",
              "  0.011018847115337849,\n",
              "  -0.035406872630119324,\n",
              "  -0.13054609298706055,\n",
              "  -0.04654189571738243,\n",
              "  -0.042824264615774155,\n",
              "  -0.021876836195588112,\n",
              "  6.65358966216445e-05,\n",
              "  0.025415735319256783,\n",
              "  0.014504128135740757,\n",
              "  -0.019356710836291313,\n",
              "  -0.009066197089850903,\n",
              "  -0.03817722201347351,\n",
              "  0.07664041966199875,\n",
              "  -0.05344096198678017,\n",
              "  -0.06584499031305313,\n",
              "  0.07435264438390732,\n",
              "  0.018105583265423775,\n",
              "  -0.09808829426765442,\n",
              "  -0.016273578628897667,\n",
              "  0.07034903764724731,\n",
              "  0.04711383953690529,\n",
              "  -0.049222879111766815,\n",
              "  -0.03372678905725479,\n",
              "  -0.06255631148815155,\n",
              "  0.006072430405765772,\n",
              "  -0.004682786762714386,\n",
              "  0.0008361321524716914,\n",
              "  0.1226818636059761,\n",
              "  0.008181472308933735,\n",
              "  0.06327123939990997,\n",
              "  -0.07878520339727402,\n",
              "  -0.09358423948287964,\n",
              "  -0.03658650442957878,\n",
              "  0.004023711197078228,\n",
              "  -0.04629167169332504,\n",
              "  0.0063673388212919235,\n",
              "  0.023985877633094788,\n",
              "  0.027149438858032227,\n",
              "  0.025898313149809837,\n",
              "  -0.07671191543340683,\n",
              "  0.014468381181359291,\n",
              "  -0.03083132579922676,\n",
              "  -0.10995612293481827,\n",
              "  0.001108140335418284,\n",
              "  -0.04432561621069908,\n",
              "  0.06763231009244919,\n",
              "  -0.03731931000947952,\n",
              "  -0.05322648584842682,\n",
              "  -0.03601456433534622,\n",
              "  0.029079748317599297,\n",
              "  0.012600628659129143,\n",
              "  0.010312855243682861,\n",
              "  0.010813305154442787,\n",
              "  0.011438868939876556,\n",
              "  0.03597881644964218,\n",
              "  -0.036711618304252625,\n",
              "  -0.005277071613818407,\n",
              "  -0.036515012383461,\n",
              "  -0.09058153629302979,\n",
              "  0.02727455273270607,\n",
              "  0.0748530924320221,\n",
              "  0.009678355418145657,\n",
              "  0.08736436069011688,\n",
              "  -0.04300299659371376,\n",
              "  0.08378971368074417,\n",
              "  0.019642682746052742,\n",
              "  0.016604231670498848,\n",
              "  -0.04650614783167839,\n",
              "  -0.0016342836897820234,\n",
              "  -0.01668466255068779,\n",
              "  -0.02369990572333336,\n",
              "  -0.06945537775754929,\n",
              "  -0.03637202829122543,\n",
              "  0.055978961288928986,\n",
              "  -0.00712695112451911,\n",
              "  -0.040286265313625336,\n",
              "  0.0015192247228696942,\n",
              "  -0.003672949271276593,\n",
              "  -0.0029848297126591206,\n",
              "  0.011635473929345608,\n",
              "  -0.018132394179701805,\n",
              "  0.017426401376724243,\n",
              "  0.05672963708639145,\n",
              "  -0.07013456523418427,\n",
              "  0.025737453252077103,\n",
              "  -0.05608620122075081,\n",
              "  0.016425499692559242,\n",
              "  -0.0545133575797081,\n",
              "  0.060447271913290024,\n",
              "  0.06902642548084259,\n",
              "  0.0404292494058609,\n",
              "  0.007511225529015064,\n",
              "  -0.06280653923749924,\n",
              "  0.033494435250759125,\n",
              "  0.013905374333262444,\n",
              "  -0.07220786064863205,\n",
              "  0.005665814504027367,\n",
              "  -0.05794501677155495,\n",
              "  0.05998256802558899,\n",
              "  0.0002704722573980689,\n",
              "  -0.03699759021401405,\n",
              "  -0.03914237767457962,\n",
              "  -0.009383446536958218,\n",
              "  -0.07113546133041382,\n",
              "  -0.0003775720251724124,\n",
              "  0.011742713861167431,\n",
              "  0.0704205334186554,\n",
              "  0.014155599288642406,\n",
              "  0.0002376581251155585,\n",
              "  -0.029455086216330528,\n",
              "  -0.03778401389718056,\n",
              "  0.04707809165120125,\n",
              "  -0.023539045825600624,\n",
              "  0.039285365492105484,\n",
              "  -0.032922495156526566,\n",
              "  -0.050509754568338394,\n",
              "  0.041823361068964005,\n",
              "  0.031939465552568436,\n",
              "  0.05126043036580086,\n",
              "  0.006139455363154411,\n",
              "  0.0035835830494761467,\n",
              "  -0.021054666489362717,\n",
              "  -0.03265439346432686,\n",
              "  -0.06030428409576416,\n",
              "  -0.003020576201379299,\n",
              "  -0.01697956956923008,\n",
              "  -0.0013103312812745571,\n",
              "  -0.026720480993390083,\n",
              "  0.050509754568338394,\n",
              "  0.03885640576481819,\n",
              "  -0.054692089557647705,\n",
              "  0.02307434193789959,\n",
              "  0.04289575666189194,\n",
              "  -0.00372880301438272,\n",
              "  0.0685974657535553,\n",
              "  0.03243991732597351,\n",
              "  0.09923218190670013,\n",
              "  -0.03917812556028366,\n",
              "  0.05201110616326332,\n",
              "  -0.007301215082406998,\n",
              "  0.06566625088453293,\n",
              "  0.020697202533483505,\n",
              "  0.07378070056438446,\n",
              "  -0.06602372229099274,\n",
              "  -0.04003604128956795,\n",
              "  0.009910707361996174,\n",
              "  0.025344243273139,\n",
              "  0.015487155877053738,\n",
              "  0.029419340193271637,\n",
              "  0.03839170187711716,\n",
              "  0.06455811113119125,\n",
              "  0.0036796515341848135,\n",
              "  -0.004512991290539503,\n",
              "  0.022001948207616806,\n",
              "  -0.020000146701931953,\n",
              "  -0.02023249864578247,\n",
              "  -0.015478218905627728,\n",
              "  -0.0494731068611145,\n",
              "  -0.026809848845005035,\n",
              "  -0.09780232608318329,\n",
              "  0.04014327749609947,\n",
              "  -0.0195175688713789,\n",
              "  -0.05612194910645485,\n",
              "  0.01759619638323784,\n",
              "  0.061412423849105835,\n",
              "  -0.06470110267400742,\n",
              "  0.05104595050215721,\n",
              "  0.04643465578556061,\n",
              "  0.08636345714330673,\n",
              "  0.031296029686927795,\n",
              "  -0.03453108295798302,\n",
              "  -0.03664012625813484,\n",
              "  -0.014048360288143158,\n",
              "  0.0020274948328733444,\n",
              "  0.036425646394491196,\n",
              "  -0.049866318702697754,\n",
              "  -0.004562142305076122,\n",
              "  -0.02627365104854107,\n",
              "  -0.046398911625146866,\n",
              "  0.02089380845427513,\n",
              "  0.052154090255498886,\n",
              "  -0.043825164437294006,\n",
              "  -0.04707809165120125,\n",
              "  0.06627394258975983,\n",
              "  0.03412000089883804,\n",
              "  -0.02375352568924427,\n",
              "  -0.08593449741601944,\n",
              "  0.014280712231993675,\n",
              "  -0.03558560460805893,\n",
              "  -0.08057253062725067,\n",
              "  -0.05101020261645317,\n",
              "  -0.041859108954668045,\n",
              "  -0.03587157651782036,\n",
              "  -0.022395160049200058,\n",
              "  0.008060827851295471,\n",
              "  -0.0023637348785996437,\n",
              "  -0.05161789432168007,\n",
              "  0.014852656051516533,\n",
              "  -0.008574683219194412,\n",
              "  0.026041299104690552,\n",
              "  -0.048936910927295685,\n",
              "  0.026077045127749443,\n",
              "  0.010795432142913342,\n",
              "  -0.022699004039168358,\n",
              "  -0.0372120700776577,\n",
              "  -0.025451483204960823,\n",
              "  -0.01571057178080082,\n",
              "  0.04643465578556061,\n",
              "  -0.060125552117824554,\n",
              "  0.02178747020661831,\n",
              "  0.019392456859350204,\n",
              "  0.0027971607632935047,\n",
              "  -0.0017895573982968926,\n",
              "  0.009003641083836555,\n",
              "  0.05061699450016022,\n",
              "  -0.02017887867987156,\n",
              "  -0.017140429466962814,\n",
              "  0.018427303060889244,\n",
              "  -0.018337935209274292,\n",
              "  0.06198436766862869,\n",
              "  -0.05265454202890396,\n",
              "  0.05808800458908081,\n",
              "  0.017721310257911682,\n",
              "  0.017435338348150253,\n",
              "  0.11474614590406418,\n",
              "  -0.021269146353006363,\n",
              "  -0.02784649468958378,\n",
              "  0.007171634119004011,\n",
              "  0.05333372578024864,\n",
              "  -0.039321109652519226,\n",
              "  0.022538146004080772,\n",
              "  -0.0037734860088676214,\n",
              "  -0.03785550594329834,\n",
              "  0.028060974553227425,\n",
              "  0.06902642548084259,\n",
              "  0.030581099912524223,\n",
              "  -0.017113620415329933,\n",
              "  -0.05333372578024864,\n",
              "  0.033512309193611145,\n",
              "  0.021322766318917274,\n",
              "  0.0698128417134285,\n",
              "  -0.029580198228359222,\n",
              "  -0.02888314239680767,\n",
              "  0.044790320098400116,\n",
              "  0.04875817522406578,\n",
              "  0.027810748666524887,\n",
              "  0.097373366355896,\n",
              "  0.08829376846551895,\n",
              "  0.00022146051924210042,\n",
              "  -0.02311008982360363,\n",
              "  0.00992858037352562,\n",
              "  0.06391467899084091,\n",
              "  -0.03202883154153824,\n",
              "  0.04818623512983322,\n",
              "  -0.07277979701757431,\n",
              "  -0.0018532307585701346,\n",
              "  -0.045755475759506226,\n",
              "  -0.014673923142254353,\n",
              "  -0.012162734754383564,\n",
              "  0.04682786762714386,\n",
              "  0.03613967448472977,\n",
              "  0.020446976646780968,\n",
              "  0.0752105638384819,\n",
              "  -0.008217218331992626,\n",
              "  0.06101921573281288,\n",
              "  -0.06473684310913086,\n",
              "  0.04775727540254593,\n",
              "  0.0266489889472723,\n",
              "  -0.0008891932666301727,\n",
              "  -0.02466505952179432,\n",
              "  0.07678340375423431,\n",
              "  -0.0647725909948349,\n",
              "  -0.0454695038497448,\n",
              "  -0.030402367934584618,\n",
              "  0.028758030384778976,\n",
              "  0.003326655365526676,\n",
              "  0.03985730558633804,\n",
              "  0.02666686289012432,\n",
              "  0.12175245583057404,\n",
              "  0.04078671708703041,\n",
              "  0.0035925195552408695,\n",
              "  -0.05104595050215721,\n",
              "  0.07160016894340515,\n",
              "  -0.050902966409921646,\n",
              "  -0.03524601459503174,\n",
              "  -0.009168967604637146,\n",
              "  -0.03681885823607445,\n",
              "  -0.01923159696161747,\n",
              "  0.049544598907232285,\n",
              "  0.043825164437294006,\n",
              "  -0.10237787663936615,\n",
              "  -0.09086751192808151,\n",
              "  0.007564845494925976,\n",
              "  -0.0073280250653624535,\n",
              "  -0.027489030733704567,\n",
              "  0.09808829426765442,\n",
              "  0.034817054867744446,\n",
              "  -0.08057253062725067,\n",
              "  -0.002513423329219222,\n",
              "  -0.0653802827000618,\n",
              "  -0.005428994074463844,\n",
              "  -0.0031635621562600136,\n",
              "  0.04872243106365204,\n",
              "  -0.00898129865527153,\n",
              "  0.05647941306233406,\n",
              "  0.009714101441204548,\n",
              "  -0.024557821452617645,\n",
              "  0.00696609215810895,\n",
              "  -0.011510360985994339,\n",
              "  0.054656341671943665,\n",
              "  0.01092054508626461,\n",
              "  -0.06269929558038712,\n",
              "  -0.06084048002958298,\n",
              "  0.0144326351583004,\n",
              "  0.023556919768452644,\n",
              "  -0.0872928649187088,\n",
              "  0.0326901413500309,\n",
              "  -0.02368203178048134,\n",
              "  0.06509431451559067,\n",
              "  -0.0033512311056256294,\n",
              "  0.04271702468395233,\n",
              "  -0.009615798480808735,\n",
              "  0.010652446188032627,\n",
              "  0.0442541241645813,\n",
              "  -0.06670290231704712,\n",
              "  0.06230608746409416,\n",
              "  -0.029901918023824692,\n",
              "  -0.0698128417134285,\n",
              "  0.009562179446220398,\n",
              "  0.02507614530622959,\n",
              "  0.0010897086467593908,\n",
              "  0.09201139956712723,\n",
              "  -0.0404292494058609,\n",
              "  -0.02307434193789959,\n",
              "  -0.04529076814651489,\n",
              "  0.01282404363155365,\n",
              "  0.027024326846003532,\n",
              "  0.04264553263783455,\n",
              "  0.023932257667183876,\n",
              "  -0.004030413925647736,\n",
              "  -0.013717705383896828,\n",
              "  -0.059875328093767166,\n",
              "  -0.0627707913517952,\n",
              "  0.0018822747515514493,\n",
              "  -0.008905338123440742,\n",
              "  -0.03594306856393814,\n",
              "  -0.031617745757102966,\n",
              "  -0.012627438642084599,\n",
              "  0.008570214733481407,\n",
              "  -0.028078846633434296,\n",
              "  0.08421866595745087,\n",
              "  -0.04428986832499504,\n",
              "  -0.04085820913314819,\n",
              "  0.023521173745393753,\n",
              "  -0.019017118960618973,\n",
              "  -0.0029714247211813927,\n",
              "  -0.017837485298514366,\n",
              "  -0.0003016107948496938,\n",
              "  -0.03020576201379299,\n",
              "  -0.03588945046067238,\n",
              "  -0.04596995189785957,\n",
              "  0.11024209856987,\n",
              "  -0.03113516978919506,\n",
              "  0.036461394280195236,\n",
              "  0.03077770583331585,\n",
              "  0.03299398720264435,\n",
              "  -0.08965212851762772,\n",
              "  0.02278837002813816,\n",
              "  0.05361969769001007,\n",
              "  0.061412423849105835,\n",
              "  0.023038595914840698,\n",
              "  0.0034093190915882587,\n",
              "  0.0228241179138422,\n",
              "  0.01525480393320322,\n",
              "  0.0442541241645813],\n",
              " [0.03523961082100868,\n",
              "  0.013278326019644737,\n",
              "  0.022189784795045853,\n",
              "  -0.014124618843197823,\n",
              "  -0.0888945460319519,\n",
              "  -0.036356717348098755,\n",
              "  0.004392256960272789,\n",
              "  0.015918757766485214,\n",
              "  0.04004655033349991,\n",
              "  0.07291654497385025,\n",
              "  -0.010942559689283371,\n",
              "  0.035375017672777176,\n",
              "  -0.007481223903596401,\n",
              "  -0.007451603654772043,\n",
              "  0.04786629229784012,\n",
              "  -0.08171798288822174,\n",
              "  -0.01656194031238556,\n",
              "  -0.03412250429391861,\n",
              "  -0.07955147325992584,\n",
              "  0.1306675374507904,\n",
              "  0.0038210097700357437,\n",
              "  0.07366128265857697,\n",
              "  -0.02572728507220745,\n",
              "  -0.03075426258146763,\n",
              "  -0.024694809690117836,\n",
              "  0.04028351232409477,\n",
              "  0.020158682018518448,\n",
              "  0.06959907710552216,\n",
              "  0.04478578642010689,\n",
              "  -0.035375017672777176,\n",
              "  -0.026235060766339302,\n",
              "  -0.0638781413435936,\n",
              "  -0.03639056906104088,\n",
              "  -0.04211150482296944,\n",
              "  -0.024796364828944206,\n",
              "  -0.014370042830705643,\n",
              "  -0.016815828159451485,\n",
              "  -0.004612293094396591,\n",
              "  0.04214535653591156,\n",
              "  -0.042483873665332794,\n",
              "  0.028520049527287483,\n",
              "  0.013693009503185749,\n",
              "  -0.02642124518752098,\n",
              "  -0.0013826300855726004,\n",
              "  0.008060934022068977,\n",
              "  0.005196234676986933,\n",
              "  0.0060890731401741505,\n",
              "  0.04116365686058998,\n",
              "  0.042585428804159164,\n",
              "  -0.003410557983443141,\n",
              "  -0.008860680274665356,\n",
              "  0.052267011255025864,\n",
              "  -0.0729842483997345,\n",
              "  0.04333016648888588,\n",
              "  -0.08063472807407379,\n",
              "  0.10852852463722229,\n",
              "  -0.018042951822280884,\n",
              "  -0.019363166764378548,\n",
              "  0.0008298953762277961,\n",
              "  -0.02056490257382393,\n",
              "  -0.08259812742471695,\n",
              "  -0.04888184368610382,\n",
              "  0.033885542303323746,\n",
              "  -0.06367503106594086,\n",
              "  0.021140381693840027,\n",
              "  0.005306252744048834,\n",
              "  -0.012085054069757462,\n",
              "  -0.01177192572504282,\n",
              "  -0.08984238654375076,\n",
              "  0.006689940579235554,\n",
              "  0.0348333902657032,\n",
              "  -0.04143447056412697,\n",
              "  -0.04146832227706909,\n",
              "  -0.014860892668366432,\n",
              "  0.004161642398685217,\n",
              "  -0.017086641862988472,\n",
              "  -0.056058403104543686,\n",
              "  0.033191584050655365,\n",
              "  0.038150858134031296,\n",
              "  0.02511795610189438,\n",
              "  -0.024593254551291466,\n",
              "  0.0120681282132864,\n",
              "  -0.08110865205526352,\n",
              "  0.0023209566716104746,\n",
              "  0.00645297858864069,\n",
              "  -0.0014439861988648772,\n",
              "  -0.07135936617851257,\n",
              "  -0.06573998183012009,\n",
              "  -0.03957262635231018,\n",
              "  0.02936634235084057,\n",
              "  0.05439966917037964,\n",
              "  -0.049626581370830536,\n",
              "  0.09248282015323639,\n",
              "  -0.03828626498579979,\n",
              "  -0.041806839406490326,\n",
              "  -0.07014070451259613,\n",
              "  -0.04945732280611992,\n",
              "  -0.01657886616885662,\n",
              "  0.03967418149113655,\n",
              "  0.04102825000882149,\n",
              "  0.04817095771431923,\n",
              "  0.014623930677771568,\n",
              "  -0.017484398558735847,\n",
              "  -0.026878243312239647,\n",
              "  0.008818365633487701,\n",
              "  -0.05121760815382004,\n",
              "  -0.02115730755031109,\n",
              "  -0.046444520354270935,\n",
              "  -0.02620120905339718,\n",
              "  0.06831271201372147,\n",
              "  -0.036661382764577866,\n",
              "  -0.03930181264877319,\n",
              "  0.005826722364872694,\n",
              "  -0.06154237687587738,\n",
              "  -0.01360838022083044,\n",
              "  -0.016731198877096176,\n",
              "  0.08564478158950806,\n",
              "  0.02048027329146862,\n",
              "  0.048611029982566833,\n",
              "  0.006486830301582813,\n",
              "  -0.04874643683433533,\n",
              "  0.03503650054335594,\n",
              "  0.02097112312912941,\n",
              "  -0.1305321305990219,\n",
              "  0.010003174655139446,\n",
              "  -0.020260237157344818,\n",
              "  -0.05592299625277519,\n",
              "  0.009783138521015644,\n",
              "  0.033682432025671005,\n",
              "  0.045056600123643875,\n",
              "  0.05798794701695442,\n",
              "  0.0053824190981686115,\n",
              "  0.019126206636428833,\n",
              "  -0.0025896544102579355,\n",
              "  -0.04302550107240677,\n",
              "  0.005357030313462019,\n",
              "  -0.018330691382288933,\n",
              "  -0.027047501876950264,\n",
              "  0.02007405273616314,\n",
              "  -0.028130756691098213,\n",
              "  0.036052051931619644,\n",
              "  -0.039403367787599564,\n",
              "  0.024407070130109787,\n",
              "  -0.04207765311002731,\n",
              "  -0.019041577354073524,\n",
              "  0.04038506746292114,\n",
              "  -0.0706823319196701,\n",
              "  0.0008838465437293053,\n",
              "  -0.05798794701695442,\n",
              "  -0.006042527034878731,\n",
              "  -0.12003809958696365,\n",
              "  -0.04410875588655472,\n",
              "  -0.06360732764005661,\n",
              "  -0.03215910866856575,\n",
              "  0.011805777437984943,\n",
              "  -0.05724320933222771,\n",
              "  -0.00450227502733469,\n",
              "  0.034579504281282425,\n",
              "  -0.020649531856179237,\n",
              "  -0.033293139189481735,\n",
              "  -0.04305935278534889,\n",
              "  0.0011340316850692034,\n",
              "  -0.0900454968214035,\n",
              "  0.03750767558813095,\n",
              "  -0.017755212262272835,\n",
              "  0.013075215741991997,\n",
              "  0.046749185770750046,\n",
              "  -0.01320215966552496,\n",
              "  -0.10040412098169327,\n",
              "  0.002725061262026429,\n",
              "  -0.019515499472618103,\n",
              "  -0.04874643683433533,\n",
              "  -0.06926055997610092,\n",
              "  0.045936744660139084,\n",
              "  0.06326881051063538,\n",
              "  0.001378398621454835,\n",
              "  0.010544802062213421,\n",
              "  -0.0611361563205719,\n",
              "  0.03371628373861313,\n",
              "  0.03038189373910427,\n",
              "  -0.037236861884593964,\n",
              "  -0.02968793362379074,\n",
              "  0.05619380995631218,\n",
              "  -0.029518675059080124,\n",
              "  -0.028841640800237656,\n",
              "  -0.02857082709670067,\n",
              "  0.028655456379055977,\n",
              "  0.06293029338121414,\n",
              "  -0.020327940583229065,\n",
              "  -0.02591346949338913,\n",
              "  0.04261928051710129,\n",
              "  0.07345817238092422,\n",
              "  -0.03591664507985115,\n",
              "  -0.011856555007398129,\n",
              "  -0.02097112312912941,\n",
              "  -0.006571459583938122,\n",
              "  0.012482811696827412,\n",
              "  -0.03066963329911232,\n",
              "  0.0052427807822823524,\n",
              "  -0.014911670237779617,\n",
              "  0.06787264347076416,\n",
              "  -0.03679678961634636,\n",
              "  0.007058077957481146,\n",
              "  0.02048027329146862,\n",
              "  -0.08896224945783615,\n",
              "  -0.028740085661411285,\n",
              "  -0.021512750536203384,\n",
              "  0.013379881158471107,\n",
              "  -0.00036655034637078643,\n",
              "  -0.029010899364948273,\n",
              "  0.07745266705751419,\n",
              "  0.021038826555013657,\n",
              "  0.0029006667900830507,\n",
              "  -0.011788851581513882,\n",
              "  -0.001040939474478364,\n",
              "  0.0011530732735991478,\n",
              "  -0.05808950215578079,\n",
              "  0.013269863091409206,\n",
              "  0.0027652601711452007,\n",
              "  0.008293664082884789,\n",
              "  -0.011230298317968845,\n",
              "  0.009114568121731281,\n",
              "  0.017924470826983452,\n",
              "  0.016037238761782646,\n",
              "  -0.01831376552581787,\n",
              "  0.019058503210544586,\n",
              "  -0.0014397547347471118,\n",
              "  -0.028029201552271843,\n",
              "  0.04729081317782402,\n",
              "  0.011120281182229519,\n",
              "  -0.0063175722025334835,\n",
              "  0.06323496252298355,\n",
              "  -0.017247436568140984,\n",
              "  -0.06898974627256393,\n",
              "  -0.03422405943274498,\n",
              "  0.027352167293429375,\n",
              "  0.03578123822808266,\n",
              "  -0.026133505627512932,\n",
              "  -0.02620120905339718,\n",
              "  -0.015876444056630135,\n",
              "  -0.006723792292177677,\n",
              "  0.0009674179018475115,\n",
              "  0.06320110708475113,\n",
              "  0.09749287366867065,\n",
              "  -0.040012698620557785,\n",
              "  -0.06441976875066757,\n",
              "  -0.033479321748018265,\n",
              "  -0.029654081910848618,\n",
              "  0.014403894543647766,\n",
              "  -0.058698832988739014,\n",
              "  0.02186819352209568,\n",
              "  0.05389189347624779,\n",
              "  0.08605100214481354,\n",
              "  -0.02858775295317173,\n",
              "  0.0669247955083847,\n",
              "  0.09397229552268982,\n",
              "  -0.1062266081571579,\n",
              "  0.001984555507078767,\n",
              "  -0.0018258756026625633,\n",
              "  -0.04404105246067047,\n",
              "  0.014395431615412235,\n",
              "  -0.028909344226121902,\n",
              "  0.016985086724162102,\n",
              "  0.03652597591280937,\n",
              "  0.03132973983883858,\n",
              "  0.003404210787266493,\n",
              "  0.050202060490846634,\n",
              "  0.010367080569267273,\n",
              "  0.030737336724996567,\n",
              "  0.013963823206722736,\n",
              "  0.07027611136436462,\n",
              "  -0.012533589266240597,\n",
              "  0.011433408595621586,\n",
              "  0.016731198877096176,\n",
              "  -0.07020840793848038,\n",
              "  0.11062733083963394,\n",
              "  0.07521846145391464,\n",
              "  -0.0023421139921993017,\n",
              "  0.04333016648888588,\n",
              "  -0.04068973287940025,\n",
              "  -0.02540569379925728,\n",
              "  -0.07190099358558655,\n",
              "  -0.006973448675125837,\n",
              "  0.01880461536347866,\n",
              "  -0.04211150482296944,\n",
              "  -0.07156247645616531,\n",
              "  0.04187454283237457,\n",
              "  0.08794669806957245,\n",
              "  0.007900138385593891,\n",
              "  -0.08232731372117996,\n",
              "  0.040215808898210526,\n",
              "  0.04326246306300163,\n",
              "  -0.057514023035764694,\n",
              "  0.02840156853199005,\n",
              "  0.03322543576359749,\n",
              "  -0.005699778441339731,\n",
              "  0.0031947533134371042,\n",
              "  0.06844811886548996,\n",
              "  0.0071469382382929325,\n",
              "  -0.07088544219732285,\n",
              "  -0.04194224625825882,\n",
              "  0.08259812742471695,\n",
              "  0.05724320933222771,\n",
              "  -0.014793189242482185,\n",
              "  0.02196974866092205,\n",
              "  0.014903207309544086,\n",
              "  0.014522375538945198,\n",
              "  -0.024965623393654823,\n",
              "  -0.015961073338985443,\n",
              "  -0.025253362953662872,\n",
              "  0.03710145503282547,\n",
              "  0.01370147243142128,\n",
              "  -0.012846716679632664,\n",
              "  -0.040012698620557785,\n",
              "  0.027876868844032288,\n",
              "  0.021140381693840027,\n",
              "  -0.01280440203845501,\n",
              "  -0.02582884021103382,\n",
              "  -0.020209459587931633,\n",
              "  -0.030229561030864716,\n",
              "  -0.05379033833742142,\n",
              "  -0.04197609797120094,\n",
              "  -0.0032814983278512955,\n",
              "  -0.039606478065252304,\n",
              "  -0.006914208177477121,\n",
              "  -0.049423471093177795,\n",
              "  -0.018381468951702118,\n",
              "  -0.0530456006526947,\n",
              "  -0.038252413272857666,\n",
              "  0.0445149764418602,\n",
              "  -0.027233686298131943,\n",
              "  0.01271130982786417,\n",
              "  0.12369408458471298,\n",
              "  -0.07217180728912354,\n",
              "  -0.010468635708093643,\n",
              "  0.0729842483997345,\n",
              "  -0.03740612044930458,\n",
              "  0.012355867773294449,\n",
              "  -0.011069503612816334,\n",
              "  0.03364858031272888,\n",
              "  0.0146323936060071,\n",
              "  -0.015385594218969345,\n",
              "  -0.05409500375390053,\n",
              "  0.08002539724111557,\n",
              "  0.02027716301381588,\n",
              "  0.04976198822259903,\n",
              "  0.08104094862937927,\n",
              "  0.01290595717728138,\n",
              "  0.038150858134031296,\n",
              "  0.1254543662071228,\n",
              "  -0.04136676713824272,\n",
              "  0.04661377891898155,\n",
              "  0.08300434798002243,\n",
              "  0.0024415531661361456,\n",
              "  0.04806940257549286,\n",
              "  0.0001449275587219745,\n",
              "  0.0987115353345871,\n",
              "  -0.040012698620557785,\n",
              "  0.04360098019242287,\n",
              "  0.0028456577565521,\n",
              "  -0.032412994652986526,\n",
              "  0.06181319057941437,\n",
              "  -0.026675133034586906,\n",
              "  -0.014361579902470112,\n",
              "  0.004280123393982649,\n",
              "  0.05057442933320999,\n",
              "  0.013354492373764515,\n",
              "  0.06817730516195297,\n",
              "  -0.09329526126384735,\n",
              "  -0.05609225481748581,\n",
              "  -0.039911143481731415,\n",
              "  0.09566488116979599,\n",
              "  -0.015774888917803764,\n",
              "  0.05175923556089401,\n",
              "  -0.11556967347860336,\n",
              "  0.06164393201470375,\n",
              "  0.04245002195239067,\n",
              "  0.02136041782796383,\n",
              "  0.017569027841091156,\n",
              "  -0.012601292692124844,\n",
              "  0.0429239459335804,\n",
              "  -0.027352167293429375,\n",
              "  -0.018347617238759995,\n",
              "  -0.00011299324251012877,\n",
              "  -0.032802287489175797,\n",
              "  0.006914208177477121,\n",
              "  -0.034274838864803314,\n",
              "  -0.05511055514216423,\n",
              "  -0.029857192188501358,\n",
              "  0.0051539200358092785,\n",
              "  0.025101030245423317,\n",
              "  -0.035578127950429916,\n",
              "  0.030026450753211975,\n",
              "  -0.02779223956167698,\n",
              "  -0.04058817774057388,\n",
              "  -0.021918971091508865,\n",
              "  0.051386866718530655,\n",
              "  -0.0008648049551993608,\n",
              "  0.023763887584209442,\n",
              "  -0.004608061630278826,\n",
              "  -0.031498998403549194,\n",
              "  -0.054162707179784775,\n",
              "  -0.11211680620908737,\n",
              "  0.06509680300951004,\n",
              "  -0.038150858134031296,\n",
              "  -0.013523750938475132,\n",
              "  0.018076803535223007,\n",
              "  0.10169047862291336,\n",
              "  0.04424416273832321,\n",
              "  -0.02631969004869461,\n",
              "  -0.038353968411684036,\n",
              "  -0.12552207708358765,\n",
              "  0.056532327085733414,\n",
              "  0.08794669806957245,\n",
              "  -0.02246059663593769,\n",
              "  -0.008564477786421776,\n",
              "  -0.02076801285147667,\n",
              "  0.04112980514764786,\n",
              "  0.001727494178339839,\n",
              "  -0.09160267561674118,\n",
              "  0.03168518468737602,\n",
              "  0.028604678809642792,\n",
              "  -0.023577703163027763,\n",
              "  -0.02511795610189438,\n",
              "  -0.07359357923269272,\n",
              "  -0.024864068254828453,\n",
              "  -0.06293029338121414,\n",
              "  0.030720410868525505,\n",
              "  0.002763144439086318,\n",
              "  -0.03788004443049431,\n",
              "  0.05460277944803238,\n",
              "  0.008843754418194294,\n",
              "  0.0026362005155533552,\n",
              "  0.06022216007113457,\n",
              "  0.004013541154563427,\n",
              "  0.05808950215578079,\n",
              "  -0.007815509103238583,\n",
              "  0.11340316385030746,\n",
              "  0.02513488195836544,\n",
              "  0.010714060626924038,\n",
              "  -0.004144716542214155,\n",
              "  -0.02877393737435341,\n",
              "  -0.023188408464193344,\n",
              "  -0.0163334421813488,\n",
              "  -0.024102404713630676,\n",
              "  0.024474773555994034,\n",
              "  -0.03371628373861313,\n",
              "  0.06658627837896347,\n",
              "  -0.044955044984817505,\n",
              "  0.05609225481748581,\n",
              "  -0.0338178388774395,\n",
              "  0.021445047110319138,\n",
              "  0.0035438488703221083,\n",
              "  0.07420291006565094,\n",
              "  -0.03315773233771324,\n",
              "  0.005619380623102188,\n",
              "  0.024390144273638725,\n",
              "  0.05206390097737312,\n",
              "  0.010857930406928062,\n",
              "  -0.010375543497502804,\n",
              "  -0.0060340641066432,\n",
              "  -0.008022851310670376,\n",
              "  -0.005103142466396093,\n",
              "  -0.0804993212223053,\n",
              "  -0.03341161832213402,\n",
              "  -0.013811490498483181,\n",
              "  -0.004085476044565439,\n",
              "  0.0062583317048847675,\n",
              "  0.055347517132759094,\n",
              "  0.010849467478692532,\n",
              "  -0.030212635174393654,\n",
              "  -0.020852642133831978,\n",
              "  -0.020497199147939682,\n",
              "  -0.06174548715353012,\n",
              "  0.03513805568218231,\n",
              "  0.05243626981973648,\n",
              "  0.07569238543510437,\n",
              "  0.06526606529951096,\n",
              "  0.012313553132116795,\n",
              "  0.00038506300188601017,\n",
              "  -0.04918650910258293,\n",
              "  0.06042527034878731,\n",
              "  -0.03689834475517273,\n",
              "  0.005640537943691015,\n",
              "  -0.01790754497051239,\n",
              "  0.07230721414089203,\n",
              "  0.052774786949157715,\n",
              "  0.05863112956285477,\n",
              "  -0.01760287955403328,\n",
              "  -0.039403367787599564,\n",
              "  -0.02313763089478016,\n",
              "  -0.009080716408789158,\n",
              "  -0.016113406047225,\n",
              "  -0.013879193924367428,\n",
              "  0.05666773021221161,\n",
              "  0.007942453026771545,\n",
              "  -0.02691209502518177,\n",
              "  -0.035476572811603546,\n",
              "  -0.054264262318611145,\n",
              "  0.06685709208250046,\n",
              "  0.00040436902781948447,\n",
              "  0.02811383083462715,\n",
              "  0.0471215546131134,\n",
              "  0.03479953855276108,\n",
              "  0.045090451836586,\n",
              "  0.02956945262849331,\n",
              "  0.02809690497815609,\n",
              "  -0.006562996655702591,\n",
              "  -0.057717133313417435,\n",
              "  0.04265313223004341,\n",
              "  -0.01578335091471672,\n",
              "  0.005098911002278328]]"
            ]
          },
          "execution_count": 11,
          "metadata": {},
          "output_type": "execute_result"
        }
      ],
      "source": [
        "#Use OpenAI's embeddings API to generate embeddings for the combined text\n",
        "response = client.embeddings.create(input=list_combined_text, model=\"text-embedding-3-small\", dimensions=512)\n",
        "\n",
        "embedding_vectors = [d.embedding for d in response.data]\n",
        "embedding_vectors[:2]"
      ]
    },
    {
      "cell_type": "markdown",
      "metadata": {
        "id": "DHuwaf1us-l1"
      },
      "source": [
        "Let't put the embedding vectors into our original dataframe\n",
        "\n",
        "Convert embedding vectors list into a Pyspark DataFrame"
      ]
    },
    {
      "cell_type": "code",
      "execution_count": 12,
      "metadata": {
        "id": "EQRJmM3RhmK1"
      },
      "outputs": [
        {
          "name": "stdout",
          "output_type": "stream",
          "text": [
            "+--------------------+--------------------+--------------------+--------------------+--------------------+--------------------+--------------------+--------------------+--------------------+--------------------+--------------------+--------------------+--------------------+--------------------+--------------------+--------------------+--------------------+--------------------+--------------------+--------------------+--------------------+--------------------+--------------------+--------------------+--------------------+--------------------+--------------------+--------------------+--------------------+--------------------+--------------------+--------------------+--------------------+--------------------+--------------------+--------------------+--------------------+--------------------+--------------------+--------------------+--------------------+--------------------+--------------------+--------------------+--------------------+--------------------+--------------------+--------------------+--------------------+--------------------+--------------------+--------------------+--------------------+--------------------+--------------------+--------------------+--------------------+--------------------+--------------------+--------------------+--------------------+--------------------+--------------------+--------------------+--------------------+--------------------+--------------------+--------------------+--------------------+--------------------+--------------------+--------------------+--------------------+--------------------+--------------------+--------------------+--------------------+--------------------+--------------------+--------------------+--------------------+--------------------+--------------------+--------------------+--------------------+--------------------+--------------------+--------------------+--------------------+--------------------+--------------------+--------------------+--------------------+--------------------+--------------------+--------------------+--------------------+--------------------+--------------------+--------------------+--------------------+--------------------+--------------------+--------------------+--------------------+--------------------+--------------------+--------------------+--------------------+--------------------+--------------------+--------------------+--------------------+--------------------+--------------------+--------------------+--------------------+--------------------+--------------------+--------------------+--------------------+--------------------+--------------------+--------------------+--------------------+--------------------+--------------------+--------------------+--------------------+--------------------+--------------------+--------------------+--------------------+--------------------+--------------------+--------------------+--------------------+--------------------+--------------------+--------------------+--------------------+--------------------+--------------------+--------------------+--------------------+--------------------+--------------------+--------------------+--------------------+--------------------+--------------------+--------------------+--------------------+--------------------+--------------------+--------------------+--------------------+--------------------+--------------------+--------------------+--------------------+--------------------+--------------------+--------------------+--------------------+--------------------+--------------------+--------------------+--------------------+--------------------+--------------------+--------------------+--------------------+--------------------+--------------------+--------------------+--------------------+--------------------+--------------------+--------------------+--------------------+--------------------+--------------------+--------------------+--------------------+--------------------+--------------------+--------------------+--------------------+--------------------+--------------------+--------------------+--------------------+--------------------+--------------------+--------------------+--------------------+--------------------+--------------------+--------------------+--------------------+--------------------+--------------------+--------------------+--------------------+--------------------+--------------------+--------------------+--------------------+--------------------+--------------------+--------------------+--------------------+--------------------+--------------------+--------------------+--------------------+--------------------+--------------------+--------------------+--------------------+--------------------+--------------------+--------------------+--------------------+--------------------+--------------------+--------------------+--------------------+--------------------+--------------------+--------------------+--------------------+--------------------+--------------------+--------------------+--------------------+--------------------+--------------------+--------------------+--------------------+--------------------+--------------------+--------------------+--------------------+--------------------+--------------------+--------------------+--------------------+--------------------+--------------------+--------------------+--------------------+--------------------+--------------------+--------------------+--------------------+--------------------+--------------------+--------------------+--------------------+--------------------+--------------------+--------------------+--------------------+--------------------+--------------------+--------------------+--------------------+--------------------+--------------------+--------------------+--------------------+--------------------+--------------------+--------------------+--------------------+--------------------+--------------------+--------------------+--------------------+--------------------+--------------------+--------------------+--------------------+--------------------+--------------------+--------------------+--------------------+--------------------+--------------------+--------------------+--------------------+--------------------+--------------------+--------------------+--------------------+--------------------+--------------------+--------------------+--------------------+--------------------+--------------------+--------------------+--------------------+--------------------+--------------------+--------------------+--------------------+--------------------+--------------------+--------------------+--------------------+--------------------+--------------------+--------------------+--------------------+--------------------+--------------------+--------------------+--------------------+--------------------+--------------------+--------------------+--------------------+--------------------+--------------------+--------------------+--------------------+--------------------+--------------------+--------------------+--------------------+--------------------+--------------------+--------------------+--------------------+--------------------+--------------------+--------------------+--------------------+--------------------+--------------------+--------------------+--------------------+--------------------+--------------------+--------------------+--------------------+--------------------+--------------------+--------------------+--------------------+--------------------+--------------------+--------------------+--------------------+--------------------+--------------------+--------------------+--------------------+--------------------+--------------------+--------------------+--------------------+--------------------+--------------------+--------------------+--------------------+--------------------+--------------------+-------------------+--------------------+--------------------+--------------------+--------------------+--------------------+--------------------+--------------------+--------------------+--------------------+--------------------+--------------------+--------------------+--------------------+--------------------+--------------------+--------------------+--------------------+--------------------+--------------------+--------------------+--------------------+--------------------+--------------------+--------------------+--------------------+--------------------+--------------------+--------------------+--------------------+--------------------+--------------------+--------------------+--------------------+--------------------+--------------------+--------------------+--------------------+--------------------+--------------------+--------------------+--------------------+--------------------+--------------------+--------------------+--------------------+--------------------+--------------------+--------------------+--------------------+--------------------+--------------------+--------------------+--------------------+--------------------+--------------------+--------------------+--------------------+--------------------+--------------------+--------------------+--------------------+--------------------+--------------------+--------------------+--------------------+--------------------+--------------------+--------------------+--------------------+--------------------+--------------------+--------------------+--------------------+--------------------+--------------------+--------------------+--------------------+--------------------+--------------------+--------------------+--------------------+--------------------+--------------------+--------------------+--------------------+--------------------+--------------------+--------------------+--------------------+--------------------+--------------------+--------------------+--------------------+--------------------+--------------------+--------------------+--------------------+--------------------+--------------------+--------------------+--------------------+--------------------+--------------------+--------------------+--------------------+--------------------+--------------------+--------------------+--------------------+--------------------+--------------------+--------------------+--------------------+--------------------+--------------------+--------------------+--------------------+--------------------+--------------------+--------------------+--------------------+--------------------+--------------------+--------------------+--------------------+--------------------+--------------------+--------------------+--------------------+--------------------+--------------------+--------------------+--------------------+--------------------+--------------------+--------------------+--------------------+--------------------+--------------------+--------------------+\n",
            "|         embedding_0|         embedding_1|         embedding_2|         embedding_3|         embedding_4|         embedding_5|         embedding_6|         embedding_7|         embedding_8|         embedding_9|        embedding_10|        embedding_11|        embedding_12|        embedding_13|        embedding_14|        embedding_15|        embedding_16|        embedding_17|        embedding_18|        embedding_19|        embedding_20|        embedding_21|        embedding_22|        embedding_23|        embedding_24|        embedding_25|        embedding_26|        embedding_27|        embedding_28|        embedding_29|        embedding_30|        embedding_31|        embedding_32|        embedding_33|        embedding_34|        embedding_35|        embedding_36|        embedding_37|        embedding_38|        embedding_39|        embedding_40|        embedding_41|        embedding_42|        embedding_43|        embedding_44|        embedding_45|        embedding_46|        embedding_47|        embedding_48|        embedding_49|        embedding_50|        embedding_51|        embedding_52|        embedding_53|        embedding_54|        embedding_55|        embedding_56|        embedding_57|        embedding_58|        embedding_59|        embedding_60|        embedding_61|        embedding_62|        embedding_63|        embedding_64|        embedding_65|        embedding_66|        embedding_67|        embedding_68|        embedding_69|        embedding_70|        embedding_71|        embedding_72|        embedding_73|        embedding_74|        embedding_75|        embedding_76|        embedding_77|        embedding_78|        embedding_79|        embedding_80|        embedding_81|        embedding_82|        embedding_83|        embedding_84|        embedding_85|        embedding_86|        embedding_87|        embedding_88|        embedding_89|        embedding_90|        embedding_91|        embedding_92|        embedding_93|        embedding_94|        embedding_95|        embedding_96|        embedding_97|        embedding_98|        embedding_99|       embedding_100|       embedding_101|       embedding_102|       embedding_103|       embedding_104|       embedding_105|       embedding_106|       embedding_107|       embedding_108|       embedding_109|       embedding_110|       embedding_111|       embedding_112|       embedding_113|       embedding_114|       embedding_115|       embedding_116|       embedding_117|       embedding_118|       embedding_119|       embedding_120|       embedding_121|       embedding_122|       embedding_123|       embedding_124|       embedding_125|       embedding_126|       embedding_127|       embedding_128|       embedding_129|       embedding_130|       embedding_131|       embedding_132|       embedding_133|       embedding_134|       embedding_135|       embedding_136|       embedding_137|       embedding_138|       embedding_139|       embedding_140|       embedding_141|       embedding_142|       embedding_143|       embedding_144|       embedding_145|       embedding_146|       embedding_147|       embedding_148|       embedding_149|       embedding_150|       embedding_151|       embedding_152|       embedding_153|       embedding_154|       embedding_155|       embedding_156|       embedding_157|       embedding_158|       embedding_159|       embedding_160|       embedding_161|       embedding_162|       embedding_163|       embedding_164|       embedding_165|       embedding_166|       embedding_167|       embedding_168|       embedding_169|       embedding_170|       embedding_171|       embedding_172|       embedding_173|       embedding_174|       embedding_175|       embedding_176|       embedding_177|       embedding_178|       embedding_179|       embedding_180|       embedding_181|       embedding_182|       embedding_183|       embedding_184|       embedding_185|       embedding_186|       embedding_187|       embedding_188|       embedding_189|       embedding_190|       embedding_191|       embedding_192|       embedding_193|       embedding_194|       embedding_195|       embedding_196|       embedding_197|       embedding_198|       embedding_199|       embedding_200|       embedding_201|       embedding_202|       embedding_203|       embedding_204|       embedding_205|       embedding_206|       embedding_207|       embedding_208|       embedding_209|       embedding_210|       embedding_211|       embedding_212|       embedding_213|       embedding_214|       embedding_215|       embedding_216|       embedding_217|       embedding_218|       embedding_219|       embedding_220|       embedding_221|       embedding_222|       embedding_223|       embedding_224|       embedding_225|       embedding_226|       embedding_227|       embedding_228|       embedding_229|       embedding_230|       embedding_231|       embedding_232|       embedding_233|       embedding_234|       embedding_235|       embedding_236|       embedding_237|       embedding_238|       embedding_239|       embedding_240|       embedding_241|       embedding_242|       embedding_243|       embedding_244|       embedding_245|       embedding_246|       embedding_247|       embedding_248|       embedding_249|       embedding_250|       embedding_251|       embedding_252|       embedding_253|       embedding_254|       embedding_255|       embedding_256|       embedding_257|       embedding_258|       embedding_259|       embedding_260|       embedding_261|       embedding_262|       embedding_263|       embedding_264|       embedding_265|       embedding_266|       embedding_267|       embedding_268|       embedding_269|       embedding_270|       embedding_271|       embedding_272|       embedding_273|       embedding_274|       embedding_275|       embedding_276|       embedding_277|       embedding_278|       embedding_279|       embedding_280|       embedding_281|       embedding_282|       embedding_283|       embedding_284|       embedding_285|       embedding_286|       embedding_287|       embedding_288|       embedding_289|       embedding_290|       embedding_291|       embedding_292|       embedding_293|       embedding_294|       embedding_295|       embedding_296|       embedding_297|       embedding_298|       embedding_299|       embedding_300|       embedding_301|       embedding_302|       embedding_303|       embedding_304|       embedding_305|       embedding_306|       embedding_307|       embedding_308|       embedding_309|       embedding_310|       embedding_311|       embedding_312|       embedding_313|       embedding_314|       embedding_315|       embedding_316|       embedding_317|       embedding_318|       embedding_319|       embedding_320|       embedding_321|       embedding_322|       embedding_323|       embedding_324|       embedding_325|       embedding_326|       embedding_327|       embedding_328|       embedding_329|       embedding_330|       embedding_331|       embedding_332|       embedding_333|       embedding_334|       embedding_335|       embedding_336|       embedding_337|       embedding_338|       embedding_339|       embedding_340|       embedding_341|       embedding_342|       embedding_343|       embedding_344|       embedding_345|       embedding_346|       embedding_347|       embedding_348|       embedding_349|       embedding_350|       embedding_351|       embedding_352|       embedding_353|       embedding_354|       embedding_355|       embedding_356|       embedding_357|       embedding_358|       embedding_359|       embedding_360|       embedding_361|       embedding_362|       embedding_363|       embedding_364|       embedding_365|       embedding_366|       embedding_367|       embedding_368|       embedding_369|       embedding_370|      embedding_371|       embedding_372|       embedding_373|       embedding_374|       embedding_375|       embedding_376|       embedding_377|       embedding_378|       embedding_379|       embedding_380|       embedding_381|       embedding_382|       embedding_383|       embedding_384|       embedding_385|       embedding_386|       embedding_387|       embedding_388|       embedding_389|       embedding_390|       embedding_391|       embedding_392|       embedding_393|       embedding_394|       embedding_395|       embedding_396|       embedding_397|       embedding_398|       embedding_399|       embedding_400|       embedding_401|       embedding_402|       embedding_403|       embedding_404|       embedding_405|       embedding_406|       embedding_407|       embedding_408|       embedding_409|       embedding_410|       embedding_411|       embedding_412|       embedding_413|       embedding_414|       embedding_415|       embedding_416|       embedding_417|       embedding_418|       embedding_419|       embedding_420|       embedding_421|       embedding_422|       embedding_423|       embedding_424|       embedding_425|       embedding_426|       embedding_427|       embedding_428|       embedding_429|       embedding_430|       embedding_431|       embedding_432|       embedding_433|       embedding_434|       embedding_435|       embedding_436|       embedding_437|       embedding_438|       embedding_439|       embedding_440|       embedding_441|       embedding_442|       embedding_443|       embedding_444|       embedding_445|       embedding_446|       embedding_447|       embedding_448|       embedding_449|       embedding_450|       embedding_451|       embedding_452|       embedding_453|       embedding_454|       embedding_455|       embedding_456|       embedding_457|       embedding_458|       embedding_459|       embedding_460|       embedding_461|       embedding_462|       embedding_463|       embedding_464|       embedding_465|       embedding_466|       embedding_467|       embedding_468|       embedding_469|       embedding_470|       embedding_471|       embedding_472|       embedding_473|       embedding_474|       embedding_475|       embedding_476|       embedding_477|       embedding_478|       embedding_479|       embedding_480|       embedding_481|       embedding_482|       embedding_483|       embedding_484|       embedding_485|       embedding_486|       embedding_487|       embedding_488|       embedding_489|       embedding_490|       embedding_491|       embedding_492|       embedding_493|       embedding_494|       embedding_495|       embedding_496|       embedding_497|       embedding_498|       embedding_499|       embedding_500|       embedding_501|       embedding_502|       embedding_503|       embedding_504|       embedding_505|       embedding_506|       embedding_507|       embedding_508|       embedding_509|       embedding_510|       embedding_511|\n",
            "+--------------------+--------------------+--------------------+--------------------+--------------------+--------------------+--------------------+--------------------+--------------------+--------------------+--------------------+--------------------+--------------------+--------------------+--------------------+--------------------+--------------------+--------------------+--------------------+--------------------+--------------------+--------------------+--------------------+--------------------+--------------------+--------------------+--------------------+--------------------+--------------------+--------------------+--------------------+--------------------+--------------------+--------------------+--------------------+--------------------+--------------------+--------------------+--------------------+--------------------+--------------------+--------------------+--------------------+--------------------+--------------------+--------------------+--------------------+--------------------+--------------------+--------------------+--------------------+--------------------+--------------------+--------------------+--------------------+--------------------+--------------------+--------------------+--------------------+--------------------+--------------------+--------------------+--------------------+--------------------+--------------------+--------------------+--------------------+--------------------+--------------------+--------------------+--------------------+--------------------+--------------------+--------------------+--------------------+--------------------+--------------------+--------------------+--------------------+--------------------+--------------------+--------------------+--------------------+--------------------+--------------------+--------------------+--------------------+--------------------+--------------------+--------------------+--------------------+--------------------+--------------------+--------------------+--------------------+--------------------+--------------------+--------------------+--------------------+--------------------+--------------------+--------------------+--------------------+--------------------+--------------------+--------------------+--------------------+--------------------+--------------------+--------------------+--------------------+--------------------+--------------------+--------------------+--------------------+--------------------+--------------------+--------------------+--------------------+--------------------+--------------------+--------------------+--------------------+--------------------+--------------------+--------------------+--------------------+--------------------+--------------------+--------------------+--------------------+--------------------+--------------------+--------------------+--------------------+--------------------+--------------------+--------------------+--------------------+--------------------+--------------------+--------------------+--------------------+--------------------+--------------------+--------------------+--------------------+--------------------+--------------------+--------------------+--------------------+--------------------+--------------------+--------------------+--------------------+--------------------+--------------------+--------------------+--------------------+--------------------+--------------------+--------------------+--------------------+--------------------+--------------------+--------------------+--------------------+--------------------+--------------------+--------------------+--------------------+--------------------+--------------------+--------------------+--------------------+--------------------+--------------------+--------------------+--------------------+--------------------+--------------------+--------------------+--------------------+--------------------+--------------------+--------------------+--------------------+--------------------+--------------------+--------------------+--------------------+--------------------+--------------------+--------------------+--------------------+--------------------+--------------------+--------------------+--------------------+--------------------+--------------------+--------------------+--------------------+--------------------+--------------------+--------------------+--------------------+--------------------+--------------------+--------------------+--------------------+--------------------+--------------------+--------------------+--------------------+--------------------+--------------------+--------------------+--------------------+--------------------+--------------------+--------------------+--------------------+--------------------+--------------------+--------------------+--------------------+--------------------+--------------------+--------------------+--------------------+--------------------+--------------------+--------------------+--------------------+--------------------+--------------------+--------------------+--------------------+--------------------+--------------------+--------------------+--------------------+--------------------+--------------------+--------------------+--------------------+--------------------+--------------------+--------------------+--------------------+--------------------+--------------------+--------------------+--------------------+--------------------+--------------------+--------------------+--------------------+--------------------+--------------------+--------------------+--------------------+--------------------+--------------------+--------------------+--------------------+--------------------+--------------------+--------------------+--------------------+--------------------+--------------------+--------------------+--------------------+--------------------+--------------------+--------------------+--------------------+--------------------+--------------------+--------------------+--------------------+--------------------+--------------------+--------------------+--------------------+--------------------+--------------------+--------------------+--------------------+--------------------+--------------------+--------------------+--------------------+--------------------+--------------------+--------------------+--------------------+--------------------+--------------------+--------------------+--------------------+--------------------+--------------------+--------------------+--------------------+--------------------+--------------------+--------------------+--------------------+--------------------+--------------------+--------------------+--------------------+--------------------+--------------------+--------------------+--------------------+--------------------+--------------------+--------------------+--------------------+--------------------+--------------------+--------------------+--------------------+--------------------+--------------------+--------------------+--------------------+--------------------+--------------------+--------------------+--------------------+--------------------+--------------------+--------------------+--------------------+--------------------+--------------------+--------------------+--------------------+--------------------+--------------------+--------------------+--------------------+--------------------+--------------------+--------------------+--------------------+--------------------+--------------------+--------------------+--------------------+--------------------+--------------------+--------------------+--------------------+--------------------+--------------------+--------------------+--------------------+--------------------+--------------------+--------------------+--------------------+--------------------+--------------------+--------------------+--------------------+-------------------+--------------------+--------------------+--------------------+--------------------+--------------------+--------------------+--------------------+--------------------+--------------------+--------------------+--------------------+--------------------+--------------------+--------------------+--------------------+--------------------+--------------------+--------------------+--------------------+--------------------+--------------------+--------------------+--------------------+--------------------+--------------------+--------------------+--------------------+--------------------+--------------------+--------------------+--------------------+--------------------+--------------------+--------------------+--------------------+--------------------+--------------------+--------------------+--------------------+--------------------+--------------------+--------------------+--------------------+--------------------+--------------------+--------------------+--------------------+--------------------+--------------------+--------------------+--------------------+--------------------+--------------------+--------------------+--------------------+--------------------+--------------------+--------------------+--------------------+--------------------+--------------------+--------------------+--------------------+--------------------+--------------------+--------------------+--------------------+--------------------+--------------------+--------------------+--------------------+--------------------+--------------------+--------------------+--------------------+--------------------+--------------------+--------------------+--------------------+--------------------+--------------------+--------------------+--------------------+--------------------+--------------------+--------------------+--------------------+--------------------+--------------------+--------------------+--------------------+--------------------+--------------------+--------------------+--------------------+--------------------+--------------------+--------------------+--------------------+--------------------+--------------------+--------------------+--------------------+--------------------+--------------------+--------------------+--------------------+--------------------+--------------------+--------------------+--------------------+--------------------+--------------------+--------------------+--------------------+--------------------+--------------------+--------------------+--------------------+--------------------+--------------------+--------------------+--------------------+--------------------+--------------------+--------------------+--------------------+--------------------+--------------------+--------------------+--------------------+--------------------+--------------------+--------------------+--------------------+--------------------+--------------------+--------------------+--------------------+--------------------+\n",
            "| 0.03746229410171509|0.030402367934584618|-0.01369089540094...|-0.00154938583727...|0.007462074514478445|-0.03556773066520691|0.021412132307887077| 0.08193089812994003| 0.04915138706564903|-0.05765904486179352| 0.04196634888648987|0.042502544820308685|-0.05869569256901741| 0.03108154982328415| 0.02277049794793129| 0.06452237069606781| 0.10430818051099777|-0.03749804198741913|-0.08779331296682358| 0.06441512703895569|-0.05637217313051224| 0.05848121643066406|-0.02670260891318...|-0.07714086771011353| 0.02629152499139309|0.038034237921237946|-0.04811473935842514|0.032529283314943314| 0.05569298937916756|-0.01591611281037...|0.003541134065017104|-0.02357479371130...|0.018516669049859047|-0.02604129910469...|  0.0442541241645813|-0.07067076116800308|-0.02159086428582...| 0.10938417911529541|-0.03381615504622...| 0.02857929840683937|0.031260281801223755|-0.05748031288385391|0.013887501321732998|-0.05933912843465805|0.026881340891122818| 0.03699759021401405|0.014057297259569168|0.025505101308226585|-0.02981255017220974| 0.02184109017252922|-0.03445959091186...|-0.01867752708494...|-0.05447760969400406|0.044754572212696075|-0.02952658012509346|-0.02879377640783...|-0.04207358881831169|-0.04232381284236908| 0.02341393381357193|-0.02019675262272358|-0.02162661030888...| -0.0208223145455122|-0.02555872127413...|-0.01439688820391...|-0.03124240972101...|-0.03442384302616...|0.019481822848320007|-0.01983928680419922|0.006023279391229153|-0.05301200598478317| 0.06137667968869209|0.051188938319683075|0.030330874025821686|-0.02682772092521...|-0.07478160411119461|-0.00215595867484...|0.006693525239825249|-0.08250284194946289|0.008449570275843143|0.031242409721016884|-0.02028611861169...| 0.07252957671880722|-0.02311008982360363|-0.03587157651782036|-0.05004505068063736|-0.00134719489142...|-0.02613066509366...|0.007104609627276659|-0.00821721833199...| -0.0144326351583004| 0.02337818779051304|0.012466579675674438|0.024218229576945305|-0.02487953938543...|-0.05533552542328...| 0.00561666302382946|-0.02804310061037...|-0.03967857360839844|-0.03379828110337...|0.009070665575563908|-0.03292249515652...|-0.00767655298113...|5.976362153887749E-4|0.011519297957420349|-0.06498707085847855|-0.00789996888488...|-0.11074254661798477|-0.00525919860228...| 0.00959792546927929|-0.02722093276679516|-0.10066204518079758| 0.07556802779436111| 0.03229692950844765| 0.06956262141466141|-0.03549623861908913|-0.03342294320464134|0.035460490733385086|0.017908979207277298|-0.00988389737904...| 0.06298527121543884|0.023324567824602127| 0.05683687701821327|-0.02280624397099018|-0.02330669388175...|-0.00452416203916...|-0.01319938153028...|-0.03472768887877464|-0.04361068457365036|0.004995568189769983|0.007073331624269...|0.052154090255498886|0.028168214485049248| 0.08343224972486496|-0.03027725592255...|-0.01185888983309269|0.017846422269940376| 0.04271702468395233|0.011018847115337849|-0.03540687263011...|-0.13054609298706055|-0.04654189571738243|-0.04282426461577...|-0.02187683619558...| 6.65358966216445E-5|0.025415735319256783|0.014504128135740757|-0.01935671083629...|-0.00906619708985...|-0.03817722201347351| 0.07664041966199875|-0.05344096198678017|-0.06584499031305313| 0.07435264438390732|0.018105583265423775|-0.09808829426765442|-0.01627357862889...| 0.07034903764724731| 0.04711383953690529|-0.04922287911176...|-0.03372678905725479|-0.06255631148815155|0.006072430405765772|-0.00468278676271...|8.361321524716914E-4|  0.1226818636059761|0.008181472308933735| 0.06327123939990997|-0.07878520339727402|-0.09358423948287964|-0.03658650442957878|0.004023711197078228|-0.04629167169332504|0.006367338821291...|0.023985877633094788|0.027149438858032227|0.025898313149809837|-0.07671191543340683|0.014468381181359291|-0.03083132579922676|-0.10995612293481827|0.001108140335418284|-0.04432561621069908| 0.06763231009244919|-0.03731931000947952|-0.05322648584842682|-0.03601456433534622|0.029079748317599297|0.012600628659129143|0.010312855243682861|0.010813305154442787|0.011438868939876556| 0.03597881644964218|-0.03671161830425...|-0.00527707161381...|  -0.036515012383461|-0.09058153629302979| 0.02727455273270607|  0.0748530924320221|0.009678355418145657| 0.08736436069011688|-0.04300299659371376| 0.08378971368074417|0.019642682746052742|0.016604231670498848|-0.04650614783167839|-0.00163428368978...|-0.01668466255068779|-0.02369990572333336|-0.06945537775754929|-0.03637202829122543|0.055978961288928986|-0.00712695112451911|-0.04028626531362...|0.001519224722869...|-0.00367294927127...|-0.00298482971265...|0.011635473929345608|-0.01813239417970...|0.017426401376724243| 0.05672963708639145|-0.07013456523418427|0.025737453252077103|-0.05608620122075081|0.016425499692559242| -0.0545133575797081|0.060447271913290024| 0.06902642548084259|  0.0404292494058609|0.007511225529015064|-0.06280653923749924|0.033494435250759125|0.013905374333262444|-0.07220786064863205|0.005665814504027367|-0.05794501677155495| 0.05998256802558899|2.704722573980689E-4|-0.03699759021401405|-0.03914237767457962|-0.00938344653695...|-0.07113546133041382|-3.77572025172412...|0.011742713861167431|  0.0704205334186554|0.014155599288642406|2.376581251155585E-4|-0.02945508621633...|-0.03778401389718056| 0.04707809165120125|-0.02353904582560...|0.039285365492105484|-0.03292249515652...|-0.05050975456833...|0.041823361068964005|0.031939465552568436| 0.05126043036580086|0.006139455363154411|0.003583583049476...|-0.02105466648936...|-0.03265439346432686|-0.06030428409576416|-0.00302057620137...|-0.01697956956923008|-0.00131033128127...|-0.02672048099339...|0.050509754568338394| 0.03885640576481819|-0.05469208955764...| 0.02307434193789959| 0.04289575666189194|-0.00372880301438272|  0.0685974657535553| 0.03243991732597351| 0.09923218190670013|-0.03917812556028366| 0.05201110616326332|-0.00730121508240...| 0.06566625088453293|0.020697202533483505| 0.07378070056438446|-0.06602372229099274|-0.04003604128956795|0.009910707361996174|   0.025344243273139|0.015487155877053738|0.029419340193271637| 0.03839170187711716| 0.06455811113119125|0.003679651534184...|-0.00451299129053...|0.022001948207616806|-0.02000014670193...|-0.02023249864578247|-0.01547821890562...| -0.0494731068611145|-0.02680984884500...|-0.09780232608318329| 0.04014327749609947| -0.0195175688713789|-0.05612194910645485| 0.01759619638323784|0.061412423849105835|-0.06470110267400742| 0.05104595050215721| 0.04643465578556061| 0.08636345714330673|0.031296029686927795|-0.03453108295798302|-0.03664012625813484|-0.01404836028814...|0.002027494832873...|0.036425646394491196|-0.04986631870269...|-0.00456214230507...|-0.02627365104854107|-0.04639891162514...| 0.02089380845427513|0.052154090255498886|-0.04382516443729...|-0.04707809165120125| 0.06627394258975983| 0.03412000089883804|-0.02375352568924427|-0.08593449741601944|0.014280712231993675|-0.03558560460805893|-0.08057253062725067|-0.05101020261645317|-0.04185910895466...|-0.03587157651782036|-0.02239516004920...|0.008060827851295471|-0.00236373487859...|-0.05161789432168007|0.014852656051516533|-0.00857468321919...|0.026041299104690552|-0.04893691092729...|0.026077045127749443|0.010795432142913342|-0.02269900403916...| -0.0372120700776577|-0.02545148320496...|-0.01571057178080082| 0.04643465578556061|-0.06012555211782...| 0.02178747020661831|0.019392456859350204|0.002797160763293...|-0.00178955739829...|0.009003641083836555| 0.05061699450016022|-0.02017887867987156|-0.01714042946696...|0.018427303060889244|-0.01833793520927...| 0.06198436766862869|-0.05265454202890396| 0.05808800458908081|0.017721310257911682|0.017435338348150253| 0.11474614590406418|-0.02126914635300...|-0.02784649468958378|0.007171634119004011| 0.05333372578024864|-0.03932110965251...|0.022538146004080772|-0.00377348600886...|-0.03785550594329834|0.028060974553227425|0.06902642548084259|0.030581099912524223|-0.01711362041532...|-0.05333372578024864|0.033512309193611145|0.021322766318917274|  0.0698128417134285|-0.02958019822835...|-0.02888314239680767|0.044790320098400116| 0.04875817522406578|0.027810748666524887|   0.097373366355896| 0.08829376846551895|2.214605192421004...|-0.02311008982360363| 0.00992858037352562| 0.06391467899084091|-0.03202883154153824| 0.04818623512983322|-0.07277979701757431|-0.00185323075857...|-0.04575547575950...|-0.01467392314225...|-0.01216273475438...| 0.04682786762714386| 0.03613967448472977|0.020446976646780968|  0.0752105638384819|-0.00821721833199...| 0.06101921573281288|-0.06473684310913086| 0.04775727540254593|  0.0266489889472723|-8.89193266630172...|-0.02466505952179432| 0.07678340375423431| -0.0647725909948349| -0.0454695038497448|-0.03040236793458...|0.028758030384778976|0.003326655365526676| 0.03985730558633804| 0.02666686289012432| 0.12175245583057404| 0.04078671708703041|0.003592519555240...|-0.05104595050215721| 0.07160016894340515|-0.05090296640992...|-0.03524601459503174|-0.00916896760463...|-0.03681885823607445|-0.01923159696161747|0.049544598907232285|0.043825164437294006|-0.10237787663936615|-0.09086751192808151|0.007564845494925976|-0.00732802506536...|-0.02748903073370...| 0.09808829426765442|0.034817054867744446|-0.08057253062725067|-0.00251342332921...| -0.0653802827000618|-0.00542899407446...|-0.00316356215626...| 0.04872243106365204|-0.00898129865527153| 0.05647941306233406|0.009714101441204548|-0.02455782145261...| 0.00696609215810895|-0.01151036098599...|0.054656341671943665| 0.01092054508626461|-0.06269929558038712|-0.06084048002958298|  0.0144326351583004|0.023556919768452644| -0.0872928649187088|  0.0326901413500309|-0.02368203178048134| 0.06509431451559067|-0.00335123110562...| 0.04271702468395233|-0.00961579848080...|0.010652446188032627|  0.0442541241645813|-0.06670290231704712| 0.06230608746409416|-0.02990191802382...| -0.0698128417134285|0.009562179446220398| 0.02507614530622959|0.001089708646759...| 0.09201139956712723| -0.0404292494058609|-0.02307434193789959|-0.04529076814651489| 0.01282404363155365|0.027024326846003532| 0.04264553263783455|0.023932257667183876|-0.00403041392564...|-0.01371770538389...|-0.05987532809376...| -0.0627707913517952|0.001882274751551...|-0.00890533812344...|-0.03594306856393814|-0.03161774575710...|-0.01262743864208...|0.008570214733481407|-0.02807884663343...| 0.08421866595745087|-0.04428986832499504|-0.04085820913314819|0.023521173745393753|-0.01901711896061...|-0.00297142472118...|-0.01783748529851...|-3.01610794849693...|-0.03020576201379299|-0.03588945046067238|-0.04596995189785957|    0.11024209856987|-0.03113516978919506|0.036461394280195236| 0.03077770583331585| 0.03299398720264435|-0.08965212851762772| 0.02278837002813816| 0.05361969769001007|0.061412423849105835|0.023038595914840698|0.003409319091588...|  0.0228241179138422| 0.01525480393320322|  0.0442541241645813|\n",
            "| 0.03523961082100868|0.013278326019644737|0.022189784795045853|-0.01412461884319...| -0.0888945460319519|-0.03635671734809...|0.004392256960272789|0.015918757766485214| 0.04004655033349991| 0.07291654497385025|-0.01094255968928...|0.035375017672777176|-0.00748122390359...|-0.00745160365477...| 0.04786629229784012|-0.08171798288822174|-0.01656194031238556|-0.03412250429391861|-0.07955147325992584|  0.1306675374507904|0.003821009770035...| 0.07366128265857697|-0.02572728507220745|-0.03075426258146763|-0.02469480969011...| 0.04028351232409477|0.020158682018518448| 0.06959907710552216| 0.04478578642010689|-0.03537501767277...|-0.02623506076633...| -0.0638781413435936|-0.03639056906104088|-0.04211150482296944|-0.02479636482894...|-0.01437004283070...|-0.01681582815945...|-0.00461229309439...| 0.04214535653591156|-0.04248387366533...|0.028520049527287483|0.013693009503185749|-0.02642124518752098|-0.00138263008557...|0.008060934022068977|0.005196234676986933|0.006089073140174...| 0.04116365686058998|0.042585428804159164|-0.00341055798344...|-0.00886068027466...|0.052267011255025864| -0.0729842483997345| 0.04333016648888588|-0.08063472807407379| 0.10852852463722229|-0.01804295182228...|-0.01936316676437...|8.298953762277961E-4|-0.02056490257382393|-0.08259812742471695|-0.04888184368610382|0.033885542303323746|-0.06367503106594086|0.021140381693840027|0.005306252744048834|-0.01208505406975...|-0.01177192572504282|-0.08984238654375076|0.006689940579235554|  0.0348333902657032|-0.04143447056412697|-0.04146832227706909|-0.01486089266836...|0.004161642398685217|-0.01708664186298...|-0.05605840310454...|0.033191584050655365|0.038150858134031296| 0.02511795610189438|-0.02459325455129...|  0.0120681282132864|-0.08110865205526352|0.002320956671610...| 0.00645297858864069|-0.00144398619886...|-0.07135936617851257|-0.06573998183012009|-0.03957262635231018| 0.02936634235084057| 0.05439966917037964|-0.04962658137083...| 0.09248282015323639|-0.03828626498579979|-0.04180683940649...|-0.07014070451259613|-0.04945732280611992|-0.01657886616885662| 0.03967418149113655| 0.04102825000882149| 0.04817095771431923|0.014623930677771568|-0.01748439855873...|-0.02687824331223...|0.008818365633487701|-0.05121760815382004|-0.02115730755031109|-0.04644452035427...|-0.02620120905339718| 0.06831271201372147|-0.03666138276457...|-0.03930181264877319|0.005826722364872694|-0.06154237687587738|-0.01360838022083044|-0.01673119887709...| 0.08564478158950806| 0.02048027329146862|0.048611029982566833|0.006486830301582813|-0.04874643683433533| 0.03503650054335594| 0.02097112312912941| -0.1305321305990219|0.010003174655139446|-0.02026023715734...|-0.05592299625277519|0.009783138521015644|0.033682432025671005|0.045056600123643875| 0.05798794701695442|0.005382419098168...|0.019126206636428833|-0.00258965441025...|-0.04302550107240677|0.005357030313462019|-0.01833069138228...|-0.02704750187695...| 0.02007405273616314|-0.02813075669109...|0.036052051931619644|-0.03940336778759...|0.024407070130109787|-0.04207765311002731|-0.01904157735407...| 0.04038506746292114| -0.0706823319196701|8.838465437293053E-4|-0.05798794701695442|-0.00604252703487...|-0.12003809958696365|-0.04410875588655472|-0.06360732764005661|-0.03215910866856575|0.011805777437984943|-0.05724320933222771|-0.00450227502733469|0.034579504281282425|-0.02064953185617...|-0.03329313918948...|-0.04305935278534889|0.001134031685069...| -0.0900454968214035| 0.03750767558813095|-0.01775521226227...|0.013075215741991997|0.046749185770750046|-0.01320215966552496|-0.10040412098169327|0.002725061262026429|-0.01951549947261...|-0.04874643683433533|-0.06926055997610092|0.045936744660139084| 0.06326881051063538|0.001378398621454835|0.010544802062213421| -0.0611361563205719| 0.03371628373861313| 0.03038189373910427|-0.03723686188459...|-0.02968793362379074| 0.05619380995631218|-0.02951867505908...|-0.02884164080023...|-0.02857082709670067|0.028655456379055977| 0.06293029338121414|-0.02032794058322...|-0.02591346949338913| 0.04261928051710129| 0.07345817238092422|-0.03591664507985115|-0.01185655500739...|-0.02097112312912941|-0.00657145958393...|0.012482811696827412|-0.03066963329911232|0.005242780782282...|-0.01491167023777...| 0.06787264347076416|-0.03679678961634636|0.007058077957481146| 0.02048027329146862|-0.08896224945783615|-0.02874008566141...|-0.02151275053620...|0.013379881158471107|-3.66550346370786...|-0.02901089936494...| 0.07745266705751419|0.021038826555013657|0.002900666790083...|-0.01178885158151...|-0.00104093947447...|0.001153073273599...|-0.05808950215578079|0.013269863091409206|0.002765260171145...|0.008293664082884789|-0.01123029831796...|0.009114568121731281|0.017924470826983452|0.016037238761782646|-0.01831376552581787|0.019058503210544586|-0.00143975473474...|-0.02802920155227...| 0.04729081317782402|0.011120281182229519|-0.00631757220253...| 0.06323496252298355|-0.01724743656814...|-0.06898974627256393|-0.03422405943274498|0.027352167293429375| 0.03578123822808266|-0.02613350562751...|-0.02620120905339718|-0.01587644405663...|-0.00672379229217...|9.674179018475115E-4| 0.06320110708475113| 0.09749287366867065|-0.04001269862055...|-0.06441976875066757|-0.03347932174801...|-0.02965408191084...|0.014403894543647766|-0.05869883298873...| 0.02186819352209568| 0.05389189347624779| 0.08605100214481354|-0.02858775295317173|  0.0669247955083847| 0.09397229552268982| -0.1062266081571579|0.001984555507078767|-0.00182587560266...|-0.04404105246067047|0.014395431615412235|-0.02890934422612...|0.016985086724162102| 0.03652597591280937| 0.03132973983883858|0.003404210787266493|0.050202060490846634|0.010367080569267273|0.030737336724996567|0.013963823206722736| 0.07027611136436462|-0.01253358926624...|0.011433408595621586|0.016731198877096176|-0.07020840793848038| 0.11062733083963394| 0.07521846145391464|-0.00234211399219...| 0.04333016648888588|-0.04068973287940025|-0.02540569379925728|-0.07190099358558655|-0.00697344867512...| 0.01880461536347866|-0.04211150482296944|-0.07156247645616531| 0.04187454283237457| 0.08794669806957245|0.007900138385593891|-0.08232731372117996|0.040215808898210526| 0.04326246306300163|-0.05751402303576...| 0.02840156853199005| 0.03322543576359749|-0.00569977844133...|0.003194753313437...| 0.06844811886548996|0.007146938238292...|-0.07088544219732285|-0.04194224625825882| 0.08259812742471695| 0.05724320933222771|-0.01479318924248...| 0.02196974866092205|0.014903207309544086|0.014522375538945198|-0.02496562339365...|-0.01596107333898...|-0.02525336295366...| 0.03710145503282547| 0.01370147243142128|-0.01284671667963...|-0.04001269862055...|0.027876868844032288|0.021140381693840027|-0.01280440203845501|-0.02582884021103382|-0.02020945958793...|-0.03022956103086...|-0.05379033833742142|-0.04197609797120094|-0.00328149832785...|-0.03960647806525...|-0.00691420817747...|-0.04942347109317...|-0.01838146895170...| -0.0530456006526947|-0.03825241327285...|  0.0445149764418602|-0.02723368629813...| 0.01271130982786417| 0.12369408458471298|-0.07217180728912354|-0.01046863570809...|  0.0729842483997345|-0.03740612044930458|0.012355867773294449|-0.01106950361281...| 0.03364858031272888|  0.0146323936060071|-0.01538559421896...|-0.05409500375390053| 0.08002539724111557| 0.02027716301381588| 0.04976198822259903| 0.08104094862937927| 0.01290595717728138|0.038150858134031296|  0.1254543662071228|-0.04136676713824272| 0.04661377891898155| 0.08300434798002243|0.002441553166136...| 0.04806940257549286|1.449275587219745E-4|  0.0987115353345871|-0.04001269862055...| 0.04360098019242287|  0.0028456577565521|-0.03241299465298...| 0.06181319057941437|-0.02667513303458...|-0.01436157990247...|0.004280123393982649| 0.05057442933320999|0.013354492373764515| 0.06817730516195297|-0.09329526126384735|-0.05609225481748581|-0.03991114348173...|0.09566488116979599|-0.01577488891780...| 0.05175923556089401|-0.11556967347860336| 0.06164393201470375| 0.04245002195239067| 0.02136041782796383|0.017569027841091156|-0.01260129269212...|  0.0429239459335804|-0.02735216729342...|-0.01834761723875...|-1.12993242510128...|-0.03280228748917...|0.006914208177477121|-0.03427483886480...|-0.05511055514216423|-0.02985719218850...|0.005153920035809...|0.025101030245423317|-0.03557812795042...|0.030026450753211975|-0.02779223956167698|-0.04058817774057388|-0.02191897109150...|0.051386866718530655|-8.64804955199360...|0.023763887584209442|-0.00460806163027...|-0.03149899840354...|-0.05416270717978...|-0.11211680620908737| 0.06509680300951004|-0.03815085813403...|-0.01352375093847...|0.018076803535223007| 0.10169047862291336| 0.04424416273832321|-0.02631969004869461|-0.03835396841168...|-0.12552207708358765|0.056532327085733414| 0.08794669806957245|-0.02246059663593769|-0.00856447778642...|-0.02076801285147667| 0.04112980514764786|0.001727494178339839|-0.09160267561674118| 0.03168518468737602|0.028604678809642792|-0.02357770316302...|-0.02511795610189438|-0.07359357923269272|-0.02486406825482...|-0.06293029338121414|0.030720410868525505|0.002763144439086318|-0.03788004443049431| 0.05460277944803238|0.008843754418194294|0.002636200515553...| 0.06022216007113457|0.004013541154563427| 0.05808950215578079|-0.00781550910323...| 0.11340316385030746| 0.02513488195836544|0.010714060626924038|-0.00414471654221...|-0.02877393737435341|-0.02318840846419...| -0.0163334421813488|-0.02410240471363...|0.024474773555994034|-0.03371628373861313| 0.06658627837896347|-0.04495504498481...| 0.05609225481748581| -0.0338178388774395|0.021445047110319138|0.003543848870322...| 0.07420291006565094|-0.03315773233771324|0.005619380623102188|0.024390144273638725| 0.05206390097737312|0.010857930406928062|-0.01037554349750...| -0.0060340641066432|-0.00802285131067...|-0.00510314246639...| -0.0804993212223053|-0.03341161832213402|-0.01381149049848...|-0.00408547604456...|0.006258331704884...|0.055347517132759094|0.010849467478692532|-0.03021263517439...|-0.02085264213383...|-0.02049719914793...|-0.06174548715353012| 0.03513805568218231| 0.05243626981973648| 0.07569238543510437| 0.06526606529951096|0.012313553132116795|3.850630018860101...|-0.04918650910258293| 0.06042527034878731|-0.03689834475517273|0.005640537943691015|-0.01790754497051239| 0.07230721414089203|0.052774786949157715| 0.05863112956285477|-0.01760287955403328|-0.03940336778759...|-0.02313763089478016|-0.00908071640878...|  -0.016113406047225|-0.01387919392436...| 0.05666773021221161|0.007942453026771545|-0.02691209502518177|-0.03547657281160...|-0.05426426231861...| 0.06685709208250046|4.043690278194844...| 0.02811383083462715|  0.0471215546131134| 0.03479953855276108|   0.045090451836586| 0.02956945262849331| 0.02809690497815609|-0.00656299665570...|-0.05771713331341...| 0.04265313223004341|-0.01578335091471672|0.005098911002278328|\n",
            "|0.035860564559698105|-0.05905349925160408| 0.01142880879342556| 0.04862133786082268|-0.04642312973737717|-0.04567797482013...|-0.00807095598429...|0.032879944890737534|0.010665024630725384|-0.05059599503874779|-0.03343881294131279|0.011447437107563019|-0.02880022488534...|-0.00525799719616...|0.010264504700899124|0.026844194158911705| 0.04623684287071228|-0.04959003627300...|-0.04526814073324...|  0.0491056889295578|-0.04400137811899185|-0.00472707441076...|-0.06359894573688507|-0.07824122905731201| 0.11833054572343826|-0.02041723579168...|0.010469421744346619|-0.00652475981041...| 0.08092378824949265|-0.03062585368752...|-0.05122937634587288|-0.03578604757785797|-0.01683118008077...| -0.0953797847032547| 0.03107294626533985|-0.05238436907529831|-0.02064078114926815|-0.00575166195631...|-0.01633751392364502|0.019783854484558105|-0.02321156486868...|  0.0436660572886467| 0.03522718325257301|-0.03669886291027069|0.026024524122476578|0.042287521064281464|0.055849336087703705|0.008834739215672016|-0.00812218524515...| 0.09493269771337509| 0.03122197650372982| 0.02848353423178196|-0.04985084012150...| -0.0636734589934349|0.004070406779646...| 0.01365495752543211|5.414013867266476E-5|0.012472025118768215|-0.00915142986923...|-0.01342209707945...|-0.00660858955234...|-0.06240669637918472| 0.08055120706558228| -0.0723545104265213|-0.04143059626221657|0.025894122198224068|-0.08897145837545395|0.034016307443380356| 0.02131142094731331|-0.04899391531944275| 0.08554374426603317|6.653997697867453E-4|-0.02945223450660...|-0.01511732395738...| 0.05175098776817322|0.003979591187089682| 0.04221300780773163|-0.03470557555556297| 0.07958251237869263|-0.02164673991501...|0.015247725881636143|0.001112492522224784|-0.04273461550474167|0.039903029799461365|0.023863576352596283|-0.01060913875699...| 0.01588110625743866|-0.05413547903299332|0.006706391461193...|-0.01541538536548...|  0.0882263034582138|-3.87422158382833E-4| -0.0603947788476944|-0.02069666795432...|6.665640394203365E-4|-0.01624437049031...| 0.06113993376493454|-0.06806986778974533|-0.04232478141784668| 0.05979865416884422|8.336416794918478E-4|-0.00796849653124...|-0.04303267598152...| 0.03923238813877106| -0.0851711705327034|-0.06806986778974533| 0.03384864702820778|-0.00297828973270...|0.022242864593863487|0.016831180080771446|-0.06076735630631447|-0.02419889532029...| 0.01970933936536312|0.017911653965711594| 0.01692432351410389|-0.03979125618934...|-0.01811657100915...| 0.05655723437666893|-0.01207150425761...|-0.03971673920750618| 0.03319663554430008|  0.0354134701192379|-0.05078228563070297|-0.07596851140260696|-0.06747374683618546|-0.02200068905949...|-0.06449312716722488| 0.03004835918545723|-0.06013397499918938|-0.02228012122213...| 0.03470557555556297|-0.08666148036718369| 0.10312939435243607|-0.07764510810375214|-0.07846477627754211|0.010637082159519196|-0.03084939904510975|  0.0475781187415123|0.026341214776039124|-0.00506239384412...| 0.07853929698467255|-0.07771962136030197|-0.08107282221317291|0.012341623194515705|-0.04061092436313629|0.001965345116332...|-1.12155221358989...|0.050633255392313004|0.045417170971632004|0.006645847577601671|-0.01240682415664196|  0.0341094508767128| -0.0135245556011796| 0.03554387390613556|-0.02449695765972...|-0.03703418374061...| 0.06594618409872055|-0.02485090494155...|-0.06356168538331985|-0.00549085764214...|-0.02514896728098...|-0.01828423142433...| 0.04999987408518791|0.028781596571207047| 0.05212356150150299| 0.08986563980579376|-0.03798425570130348| 0.03926964849233627|-0.09172853082418442|-0.06650504469871521| 0.07667640596628189|-0.02239189483225...|-0.01623505540192...|0.061847832053899765| 0.02559605985879898|-0.02133004926145...|-0.01182932872325182| 0.02809232845902443|0.017436617985367775|-0.01950442045927...|0.004983221180737019|0.014064792543649673| 0.05711609870195389|0.016290942206978798|-0.14605030417442322|0.005360455717891455|-0.01399959158152...| 0.08926951885223389|-0.03233971074223...| 0.09612493962049484|0.009333061054348946|-0.02064078114926815| 0.03871078044176102|  0.0317249558866024|-0.01251859683543...|3.376481763552874...|-0.00639435788616...|0.036624349653720856|-0.04426218196749687|0.026434358209371567|-0.00277104368433...|0.007912610657513142| 0.03496637940406799|-0.01109348889440298|  0.0024031235370785|3.024279722012579...|-0.14843478798866272|0.031538669019937515|-0.07652737945318222|-0.08740663528442383| 0.04698199778795242|-0.01784645207226...|-0.04202671721577...|0.032339710742235184|  0.0057842624373734|-0.01496829278767109| 0.08002959936857224|0.022522296756505966|-0.01349661219865...| 0.04783892259001732|-0.05271968618035...|0.035748790949583054|0.020733926445245743|0.014558457769453526|-0.04884488135576248|-0.00358838494867...|0.004298610612750053|-0.07295063138008118| -0.0399775430560112|0.012937746942043304|-0.02619218453764...|0.026285327970981598|0.006124239414930344|0.008713651448488235|-0.01507075130939...| 0.06650504469871521|-0.03697829693555832|0.017138555645942688|0.029731668531894684|-0.03735087439417839|0.021590854972600937|  0.0438896045088768|-0.05629643052816391| 0.08189249038696289| -0.0827866718173027|-0.00594260776415...|-0.04254832863807678|-0.07965702563524246|0.060283005237579346|  0.0423620380461216|0.029228689149022102| 0.06568537652492523| 0.04634861648082733| 0.02444107085466385| 0.07488803565502167| 3.14544013235718E-5|-0.03064448200166...|-0.01047873590141...|-0.06631875783205032|0.016505174338817596|0.004973907023668289|-5.04725787322968...|-0.06933663785457611|-0.00594260776415...| 0.03109157457947731|-0.00267789931967...|-0.00405876385048...|0.028297245502471924|-0.01916910149157...|0.029340460896492004|0.001234162249602...|-0.02153496816754341|-0.01608602516353...| 0.06695213913917542| 0.03004835918545723| 0.04843504726886749|-0.05629643052816391|-0.01939264871180...|  0.0673619732260704|0.002738443203270...|-0.04318170994520...| -0.0925481989979744|0.011168004013597965|-0.08308473974466324| 0.04452298581600189|0.008462161757051945|0.003308952087536454|0.013487298041582108|-0.00455475738272...|0.004165879916399717| 0.04314444959163666| 0.01195973064750433|-0.02814821526408...| 0.03291720524430275|-3.70248686522245...|-0.01456777192652...| -0.0647539347410202|   0.029005141928792| 0.03235833719372749|-0.05324129387736...|-0.02760797739028...| 0.01946716383099556|0.019523050636053085|-0.06725019961595535|-0.02876296639442444| 0.05644546076655388|0.010646396316587925|   -0.12861368060112|-0.04728005826473236|-0.01615122519433...|-0.01530361268669...|0.020845700055360794|-0.07622931152582169|-1.00348457635845...|-0.01680323667824...|-0.03230245038866997|-0.00673433439806...|-0.02255955524742...|-0.02818547189235...|-0.04571523517370224| 0.05849463492631912|-0.01286323089152...| 0.07943347841501236| 0.01024587545543909|  0.0265088751912117| -0.0436660572886467|-0.07786865532398224|0.018954869359731674|-0.00862982124090...|0.014893777668476105|-0.01394370477646...|0.009272517636418343|0.001100267283618...|0.008471475914120674|-0.02531662769615...|0.010320390574634075|-0.04970180988311...|-0.02352825552225113|0.021609483286738396| 0.06892679631710052|-0.06505199521780014|-0.07876283675432205|-0.07220547646284103| 0.07675091922283173|-0.00720005622133...|0.045379914343357086|0.054023709148168564|0.015173209831118584|0.016570374369621277|  0.0751860961318016|-0.02876296639442444| 0.07101323455572128|0.008578591980040073|-0.00476898951455...|-0.02082706987857...|0.019951514899730682| 0.04713102802634239|-0.03062585368752...|-0.04090898856520653|-0.00268488517031...|0.006915966048836708|0.007269914261996746|-0.01948579214513302| 0.01931813172996044| 0.03068174049258232|0.016030138358473778| 0.03211616352200508| 0.03183672949671745|  0.0180327408015728|-0.03600959479808...|  0.0775705948472023|0.03919513151049614|4.599000967573374...|-0.01527566928416...|-0.02853942103683...| 0.02337922528386116|0.027216771617531776|0.006874050945043564|-0.04429943859577179|-0.02947086468338...|-0.03794699907302...| 0.10067038238048553|0.038338202983140945| 0.03412808105349541| 0.02757071889936924|0.020808441564440727|-0.03014150261878...|0.019411277025938034|-4.94829204399138...|0.003034176304936409|-0.02958263643085...|-0.06013397499918938|-0.02187028713524...|-0.04232478141784668|0.015461958013474941|-0.02982481196522...|-0.01500555034726...|-2.06955039175227...|-0.02669516392052...|0.011372921988368034|0.024329297244548798|-0.04728005826473236|-0.03029053471982479|-0.02883748151361...|-0.06013397499918938|-0.00796849653124...| 0.00903965625911951|-0.01773467846214...| 0.03437025472521782|-0.06915034353733063|-0.02866982296109...|-0.05923978984355...|-0.01184795796871...|0.051676470786333084|-0.09657203406095505| 0.11184770613908768|0.017781252041459084| 0.03444477170705795|-0.02239189483225...|-0.03826368972659111|-0.08181797713041306|  0.0354134701192379|-0.06505199521780014|-0.00169406237546...|-0.02157222479581833|-0.00114567519631...|0.010413534939289093|-0.05093131586909294|-0.09508172422647476|0.015769334509968758| 0.02013780176639557|0.011521953158080578|0.023584142327308655|0.027794266119599342|-0.06207137554883957|-0.00173248443752...|-0.05309226363897...| 0.05413547903299332|-0.00227970723062...|-0.02540977112948...|-0.01371084433048...|-0.01535018440335989|-0.01540607120841...|0.040573667734861374|-0.06814438849687576|-0.07861381024122238|0.048286017030477524|  0.0219448022544384|0.005998494569212198|0.014167251996695995|-0.02984344027936...|-0.01660763286054...|-0.01536881364881...|0.046199582517147064| 0.08986563980579376| 0.04936649277806282|-0.02913554385304451|0.001532224123366177| 0.06274201720952988|-0.05938882008194...| 0.10611001402139664|0.002289021853357...|0.002045682165771723|-5.26556512340903...| 0.02218697778880596|-0.00993849895894...| 0.05316678062081337|0.009072257205843925| 0.03291720524430275|-0.06900131702423096|-0.05607288330793381|-0.04690748080611229|0.007921924814581871|-0.08032766729593277| 0.04925471916794777| -0.0619223453104496|0.024888163432478905| 0.03967948257923126|0.001192247378639...|-0.01396233402192...|-0.00455708615481...|0.014204509556293488|-0.02529799751937...|0.011875901371240616|-5.87245849601458...| 0.11989537626504898|-0.03418396785855293| -0.0245528444647789|-0.00471310270950...|-0.01413930859416...|-0.05394919216632843|0.011335664428770542|  0.0675855204463005|-0.01888035424053669| 0.03712732717394829|-0.00993849895894...|-0.00313197798095...|-0.10953772068023682| 0.07682543992996216|-0.01649585925042...|  0.0402010902762413|0.010050272569060326|-0.02024957537651062|0.040946245193481445|0.003942333627492189| 0.08979112654924393| 0.03863626345992088| 3.03010136121884E-4|-0.05991042777895...| 0.09485817700624466|-0.02334196679294...| 0.06579715013504028|\n",
            "|-0.05834035575389862|-0.00796995311975...| 0.01931559294462204|0.015213300473988056|-0.02882201410830021|-0.03581558912992...|-0.01771100610494...|-0.00691788876429...| 0.02942751720547676|-0.03738990053534508|-0.01211765874177...|0.004299081861972809|-0.08368071913719177|0.006713530980050564| 0.08380182087421417| 0.08489172905683517|-0.01958806999027729|0.004034173674881458|-0.04147705808281...| 0.05479815602302551| 0.01886146515607834|-0.01501651108264...|-0.03098669275641...|-0.07683851569890976|0.041446782648563385|-0.04002384468913078|-0.03160733357071...|-0.04247613996267319|-0.02665733546018...|-0.02058715187013...|-0.02706605009734...|-0.04259724169969559|0.046351369470357895|-0.03047201409935...|0.027626141905784607|0.031213756650686264|0.016333483159542084|0.013873621821403503|-0.00989999808371067|-0.01042224559932...| 0.00996811781078577|   0.049106415361166|-0.02158623561263...|-0.02350871078670025| 0.02375091426074505|0.008484631776809692|-0.08083485066890717| 0.01983027160167694|-0.01317729149013...|-0.03272751718759537| 0.06993576884269714| 0.07580915838479996|-0.04223393648862839|-0.03124403208494...|-0.00317889847792...|0.022736692801117897| 0.03844953328371048|-0.02712660096585...|-0.01251123659312725|-0.01525871269404...|0.007250916212797165|-0.06154952943325043|-0.05746237561106682|   0.024401830509305|-0.04032659903168678|-0.00678921910002...|0.025264674797654152|0.036209169775247574|-0.00689518218860...|-0.04114402830600...|0.003913072869181633|-0.01583394221961...|-0.01866467483341694| 0.03487705811858177|0.022766968235373497|-0.01004380546510...| -0.0482889823615551|-0.04408072680234909|-0.02708118781447...| 0.02411421574652195|-0.10372291505336761|-0.01621238328516...|0.010157337412238121|-0.04368714988231659| -9.2481350293383E-4| 0.01453210785984993| 0.00482889823615551| 0.03502843528985977|-0.09288439154624939|0.050711002200841904|-0.05331467092037201|-0.05273944139480591|-0.01337407995015...|-0.00658107688650...|-0.03493760898709297|0.012322016060352325| 0.06351742148399353|2.597046550363302E-4|0.015500915236771107| 0.06400182098150253| 0.06321466714143753|-0.02279724366962...|-0.01031628251075...|-0.02744449116289...|-0.00301806139759...|-0.05155870690941...|-0.00642970064654...|0.010876374319195747|-0.02411421574652195|-0.01911880448460579|-0.02583990432322...| -0.0488944873213768|-0.01097476854920...|-0.04498898237943649|-0.03599724173545...|  0.0239779781550169|0.026172932237386703|-0.04059907421469...|-0.01369197014719...|-0.01967889629304409| 0.07429540157318115|0.031577058136463165|-0.05722017213702202| -0.1426568627357483|0.003233772469684...| 0.07659631967544556|-0.10239081084728241| 0.05758347734808922|-0.09203667938709259|-0.03415045142173767| 0.02462889440357685|-0.04326329380273819| 0.02856467477977276|-0.04468623176217079|-0.01042981445789...|-0.00540791172534...|-0.02309999614953...| 0.07132843136787415|-0.00544575601816...|0.022827519103884697| 0.05325412005186081|0.004208256024867296| 0.13224217295646667|-0.00828027352690...|-0.01291238330304...|5.459001404233277E-4|-0.04011467099189758| 0.01880091428756714|-0.02714173868298...| 0.06442567706108093|-0.02154082246124...|0.020980730652809143|0.060610998421907425|-0.03947889059782028|-0.00278532062657...|-0.10378346592187881| 0.06460732966661453|0.008923622779548168|-0.06273026764392853|-0.01597018167376...|-0.03309081867337227| -0.0243866927921772|0.008893347345292568|-0.03133485838770...| 0.01454724557697773|-0.00461318716406...|-0.00949128251522...|-0.03127430751919...|-0.04283944144845009| 0.03863118588924408| 0.07677797228097916| 0.12013208866119385|0.056039441376924515| 0.07066237181425095|-0.00389036629348...|-0.00922637432813...| 0.00938531942665577|-0.00270963250659...| 0.08925136178731918|0.011118575930595398|0.005498737562447786|0.025446325540542603|0.007557452656328678|-0.03160733357071...|0.002883715089410...|-0.02070825360715...| 0.06509172916412354|-0.00201141019351...|-0.00438990769907...|-0.04604861512780...|-0.04411100223660469|-0.05879448726773262|-0.01410068571567...|-0.00203222432173...| 0.05843118205666542|-0.05137705430388...|-0.00381467817351...| 0.11335043609142303|0.031940363347530365| 0.03551283851265907|-0.08004768937826157|-0.01824082247912...| 0.00240120361559093| 0.03408990427851677|-0.07659631967544556|-0.10602383315563202|-0.02261559292674...|-0.01707522571086...| 0.03272751718759537| 0.06587889045476913|0.030108710750937462| 0.08531558513641357|0.030926141887903214|0.005124081857502...|-0.00759151251986...|-0.00932476948946...|0.036633022129535675|-0.03021467290818...|0.050650451332330704|-6.38618017546832...|-0.07042016834020615|0.041022930294275284|0.013124309480190277|-0.06145870685577...|-0.03010871075093...|-2.11335252970457...|0.013283254578709602|0.008439218625426292|-0.02685412392020...|-0.00901444815099...|-0.01687843725085...|0.035815589129924774|-0.05561558529734...|-0.01541008893400...|-0.02583990432322...|-0.03290916979312897|-0.06920916587114334|-0.01378279551863...|0.027898618951439857|0.046199992299079895|-0.07350824773311615|0.013480043970048428|0.029942195862531662|0.016439447179436684|-3.60937439836561...|-0.00508245313540...|-0.00849220063537...|-0.03720825165510...| 0.05967246741056442|0.012571786530315876|-0.01537981349974...|-0.02020871266722679|-0.03956971690058708|0.007992658764123917| 0.07017797231674194|-0.01415366772562...|-0.01798348315060...|-0.03551283851265907|-0.04674494639039...|-0.03675412386655...|-0.06654494255781174|-2.12990926229394...|-0.01502407994121...| 0.07520365715026855|0.017771556973457336|-0.01571284048259...| 0.03275779262185097|0.026505958288908005| 0.08791925013065338|0.027217427268624306| 0.03920641541481018|  0.0493788905441761| 0.08440732210874557|0.020435776561498642| 0.07393209636211395|0.029972471296787262|-0.06830090284347534|0.015379813499748707|0.031698159873485565|0.017499079927802086|-0.01527385041117...|-0.08834310621023178|-0.01998164877295494| 0.05803760513663292|-0.04193118587136...|-0.01828623563051...|0.017589904367923737| 0.01874036341905594|0.005865824874490...|0.008091053925454617| 0.06860365718603134| 0.06430457532405853|-0.00784885231405...|-0.03209173679351...|0.027066050097346306|-0.02334219776093...|0.003527063643559...| 0.08646604418754578|0.013199998065829277| -0.0945192500948906|  0.0947614535689354| 0.10602383315563202| 0.05279999226331711|-0.01625779457390...|-0.00934747513383627| 0.02953348122537136|0.013646556995809078|-0.07060182094573975|0.014668346382677555|-0.03696604818105...|0.014963530004024506|0.016212383285164833|0.017362840473651886|-0.02331192232668...| 0.07835227996110916|-0.05037797242403...|-0.10911190509796143| 0.07689906656742096|0.040629349648952484|0.022418804466724396| 0.17196327447891235| 0.06164035573601723| 0.04465595632791519|-0.01783210784196...|  0.0490155890583992|0.018104584887623787|0.051407329738140106|-0.06987521797418594| 0.02983623370528221|-0.06478898227214813|0.011867888271808624|0.005059747025370598|-3.24039516272023...| -0.0470779724419117|-0.05894586071372032|  0.0122690349817276|0.010255732573568821|-0.01005894318222...|-0.01830137334764...|0.015637153759598732|  0.0249013714492321|-0.07005687057971954|1.054310996551066...|0.036996323615312576|-0.01615183241665...|0.031365133821964264|-0.00698979245498...|-0.10553943365812302|0.011126144789159298|  0.0499238446354866|-0.04623026773333...|0.013449768535792828|-0.02305458299815...|0.060338523238897324| 0.00484025152400136|-0.08095595240592957|0.022358253598213196|-0.06333576887845993|-0.03950916603207588| 0.01925504207611084|  0.0481678806245327| 0.03554311394691467|-0.05228531360626221|0.007693691179156303| 0.03312109410762787|-0.00354598555713892| 0.05316329374909401|-0.02904907800257206|-0.03303026780486107|-0.05286054313182831|  0.0481678806245327|0.09191557765007019|0.002221444621682167| 0.03826788440346718|-0.03098669275641...| 0.07423485070466995|-0.04365687444806099|-0.00117505714297...|-0.01366169471293...|-0.02408394031226635| 0.05927889049053192|-4.21251374064013...|-0.07471925020217896|-0.08053209632635117| 0.05967246741056442|-0.02025412581861019| 0.04535228759050369| 0.06939081102609634| 0.02405366487801075| -0.0476834774017334|-0.01453210785984993| 0.04526146128773689| 0.10457062721252441|-0.06926971673965454|  0.0471990741789341|0.017166052013635635| 0.02835274673998356|-0.00967293418943882| -0.0499843955039978|-0.02817109599709...|0.020965592935681343|-0.10136145353317261|0.012291740626096725|0.001719065126962...|-0.01176192425191...|0.036148618906736374| 0.08283301442861557|-0.02025412581861019| 0.02352384850382805|-0.05561558529734...|-0.03654219582676...|-0.05116512998938...| 0.03757155314087868|7.237670943140984E-4|-0.03342384845018387|0.004662384744733572|  0.0244321059435606|-0.02862522378563881|-0.04538256302475929|-0.02179816178977...|-0.03142568096518...|-0.00711846211925149|-0.03660274669528...|0.001937614404596...|0.007459058426320553|  0.0478045791387558|-0.01549334637820...| 0.01933073066174984|-0.04544311016798...|-0.03536146134138107|0.005173278972506523|-0.06745319813489914|-0.00852247606962...|-0.04023577272891998|-0.03917613998055458|-0.08913026005029678|0.017877519130706787|-0.07599081099033356|0.040962379425764084| 0.04262751713395119|-0.04314219579100609|-0.01810458488762...|-0.01537981349974...|-0.02185871265828...|-0.06139815598726...|0.059944942593574524|-0.03378714993596077|-0.02939724363386631|-0.08168255537748337|-0.02151054702699...|0.001130590448155...|-0.02216146327555...|-0.07774677872657776|  0.0121555021032691| 0.07011742144823074|-0.01429747510701418|  0.0481073297560215|-0.00436720112338...|-0.01005894318222...|0.012904814444482327| 0.06297246366739273|-0.03393852710723877|-0.02350871078670025|0.002611238043755293| 0.05410182476043701| 0.04308164492249489|-0.00591880641877...|0.016621097922325134| 0.08386237174272537|-0.02214632742106...|-0.12521833181381226|0.027308251708745956|0.055343110114336014|0.002866685390472412|-6.77881180308759...|-0.05470732972025871|0.006047476083040237|-0.02956375665962696|  0.0250376109033823| 0.03796513006091118|-0.07508255541324615|0.007742888759821653|-0.01447912584990263|-0.00204546982422...| 0.02859495021402836|0.041174303740262985|-0.04302109405398369| 0.03548256307840347|-0.03732934966683388|-0.04450457915663719|-0.04541283473372...|0.014161236584186554| 0.00999839324504137|-0.01082339230924...| 0.07314494252204895|-0.02585504204034...| 0.06678714603185654|-0.06908806413412094|-0.06442567706108093|0.021465133875608444|0.023160547018051147|0.027232564985752106|0.011156420223414898|0.017075225710868835|0.030517425388097763|-0.00250338250771...|0.018346786499023438|0.008386237546801567| 0.06999631971120834|-0.04335412010550499|-0.00614965474233...|-0.02311513386666...|\n",
            "| 0.01998496614396572| 0.05075598508119583|-0.01050263457000...|-0.01779860444366932|-0.03779976442456...|-0.08382672816514969|-0.00134319544304...| 0.03221239522099495|0.034949399530887604|-0.01484296750277...| 0.03692522272467613|-0.05716931074857712|  -0.055938471108675|-0.02058419212698...|0.046124134212732315| 0.06027880311012268|-0.00968477316200...|-0.03527330234646797|-0.05703974887728691|0.024973109364509583|-0.00952281989157...|0.014446183107793331|-0.00619064271450...|-0.04019666463136673| 0.13306036591529846| 0.09276652336120605|-0.06196311116218567|-4.02604346163570...|0.003927353769540787| 0.01703742705285549|-0.03779976442456...|-0.03799410909414...|0.049460362643003464|0.008057148195803165|-0.01503731030970...|-0.04680433869361...|0.043079424649477005|-0.00722309155389...| 0.03643936291337013|0.009061254560947418| 0.03559720888733864|0.014097984880208969|0.030706236138939857|0.002939441939815879| 0.10209500044584274|-0.02466540038585663|-0.02330499701201...| 0.07203657180070877|-0.00779802352190...| 0.06105617806315422|0.014567647129297256|0.005810054019093...|0.015612242743372917|0.047095853835344315|-0.02618775516748...|0.009182719513773918|-0.03637458011507988|0.014300425536930561|0.049654703587293625|0.034463539719581604|0.024552032351493835|-0.00819480791687...|-0.05619759485125542|-0.01362832169979...|0.006437620613723993|-0.02194459363818...|-0.01366881001740694|-0.02000116184353...|-0.12224191427230835|-0.02466540038585663|-0.01697264611721...|-0.05891840159893036|-0.07793164998292923|-0.01132859289646...| 0.04761410132050514| 0.04988143965601921|3.659119247458875E-4|-0.03397767990827...|-0.01885129697620...|-0.04158946126699...|-0.04971948638558388| 0.09814335405826569|-0.02061658166348...|-0.02327260747551918|0.028957147151231766| 0.04207531735301018|-0.03295737877488136|-0.03527330234646797|0.005882932804524...|-0.05665106326341629|0.059857726097106934|-0.00467233592644...|  0.0772838369011879|-0.00940135587006...|-0.02192839980125...|-0.02068136259913...|-0.03358899429440...|0.055420223623514175|-0.04524959251284599|-0.00238475389778...|0.027645330876111984|-0.00556307611986...| 0.04301464185118675|-0.04233444109559059|0.018462611362338066|-0.00979004241526...|-0.00338278757408...|-0.09503386169672012|-0.01039736531674...|-0.00108811992686...|-0.09477473795413971|-0.02280294336378...|0.030754823237657547|0.020956682041287422|-0.00152438005898...|-0.02589624002575...| 0.08402107656002045|0.004020476248115301| 0.04881254956126213|-0.00984672550112009|0.011085663922131062|0.014810577034950256|-0.10902657359838486|-0.10280758887529373|-0.06610910594463348| 0.06951010972261429|-0.01933715492486...|-0.03472266346216202| 0.06079705432057381|-0.03498178720474243| -0.0463508702814579| 0.03305455297231674|0.062287017703056335|0.007162359077483416|-0.04466656222939491|0.043565284460783005|0.014421890489757061|-0.05959860235452652|-0.09963331371545792| 0.00476545887067914|-0.01296431571245...|0.009919604286551476| 0.02471398562192917|-0.02374226972460...|-0.01271328888833...|0.003382787574082613|-0.02746718190610...|0.013150561600923538|-0.06912142038345337|0.004939557984471321|0.025944827124476433|-0.05924230813980...| 0.03362138569355011|-0.04282030090689659| -0.0317913182079792|-0.05305571109056473| 0.06795535981655121|-0.03002603538334...|-0.05150096490979...|-0.04560588672757149|-6.32121751550585E-4| 0.05950143188238144| 0.07929205149412155|  0.0439215786755085|0.036892831325531006|0.014519061893224716|0.004295796155929565|-0.08622363209724426|-0.07216613739728928|-0.01540980208665...| 0.05354157090187073|-0.00225519179366529|-0.03517613187432289|-0.05299093201756...|-0.02641448937356472|0.024778766557574272|-0.01385505590587...|-0.00644571846351...|-0.02226850017905...| 0.00393140222877264|-0.04618891701102257|-0.01039736531674...|0.028195969760417938| 0.03812367096543312|-0.03413963317871094|0.019466716796159744| -0.0357915535569191|-0.03326509147882...|0.037799764424562454|-0.05661867186427...| -0.0163815189152956| 0.06031119450926781|-0.00193027406930...|-0.07112963497638702|-0.03686043992638588|-0.06180116161704...|-0.01197640411555767| 0.04418070241808891| 0.01818729005753994| 0.06584997475147247|-0.07320263236761093| 0.09101743251085281| 0.04716063290834427|0.009717163629829884|-0.02346695028245449| 0.07695993781089783|-0.03605067729949951| 0.03637458011507988| 0.05195443332195282|-0.02678698115050...| 0.06607671082019806|-0.02557233534753...|0.038479968905448914|-0.00596795789897...| 0.09134133905172348|-0.03128926455974579|-0.01292382739484...|-0.08266066759824753|-0.02330499701201...| 0.05966338515281677|-0.09380301833152771|0.019806819036602974|-0.01096419990062...|0.008672568015754223|-0.00195861584506...| 0.00987101811915636| 0.07080572843551636|-0.03064145520329...|-0.01775001920759678|-0.01256753131747...|-0.04291747137904167| 0.06808492541313171|-0.02845509350299...|-0.02131297811865...|-0.02267338149249...|-0.03094916604459...|-0.10481580346822739| 0.04090925678610802|0.020260285586118698|0.029038123786449432|-0.12392622232437134|-0.00884261913597...|0.020729947835206985|0.014470475725829601|-0.00741338590160...|-0.01032448653131...| 0.01289143692702055|-0.01212216168642044|-0.01569321937859...| 0.09995722025632858| -0.0463508702814579|-0.10345540195703506|0.029232466593384743| 0.05334722623229027| 0.04272313043475151|0.026398293673992157|-0.03242293372750282|-0.01257562916725874| 0.04090925678610802|-0.01018682681024...|0.028795193880796432|-0.00112658366560...|-0.03595350310206413|0.006453816313296...|-0.01949910819530487|0.011012785136699677|0.014551452361047268|-0.05979294702410698|0.016219565644860268| 0.01521545834839344|0.060149241238832474| 0.05185726284980774|-0.01428423076868...| 0.03472266346216202|-0.01809011958539486| -0.0793568342924118|  0.0091908173635602|-0.03145121783018112| 0.03575916215777397| 0.05276419594883919|0.023920416831970215|  0.0487801618874073| 0.05146857723593712| 0.07236047834157944|0.055420223623514175|-0.01187113486230...| 0.03948407247662544| 0.02398519776761532| 0.02259240485727787|7.778792059980333E-4| 0.03922494873404503|0.006393083836883...|-0.00785875599831...|-0.04003471508622...|0.042399223893880844| 0.01881890743970871|-0.03018798865377903|-0.00158713664859...| -0.0487801618874073|-0.08648275583982468|0.012802362442016602| 0.04502285644412041|0.039160169661045074|0.001384695759043...| 0.02834172733128071| 0.06665974110364914| 0.04855342581868172|-0.06970445066690445|-0.02571809291839...|-0.05188965424895...|0.003933426924049854|-0.01206547766923...|-0.02089190110564232| 0.01645439676940441|0.001276389928534627| -0.1068888008594513|-0.01434901170432...| 0.03550003841519356|-0.05347678810358...|-0.10714792460203171|0.011863037012517452|-0.00862398277968...|0.057687561959028244|-0.01925617828965187|-9.74246882833540...|0.003641911782324314|-0.06487826257944107|-0.04686911776661873|-0.00345971505157...|-0.03776737675070...|-0.04204292595386505|6.306034047156572E-4|0.010980394668877125|0.027564354240894318|0.038771484047174454|0.021539712324738503|-0.02464920468628...|-0.00756724085658...| 0.06332351267337799|-0.00779802352190...|-0.08104114234447479|-0.00706518767401576|0.041524678468704224|0.058659277856349945| 0.06183354929089546|-0.03449593111872673| 0.06277287751436234|-0.02686795778572...|0.018252072855830193| 0.01291572954505682|-0.03094916604459...|-0.01796055771410...|  0.0279692355543375|0.043662454932928085|-0.03103014267981...|0.008672568015754223|-0.07475737482309341|-0.10300192981958389|-0.04981665685772896| 0.06938054412603378|-0.08259589225053787|  0.0687975138425827|-0.03945168480277...|-0.06257852911949158| 0.06633583456277847| 0.05762277916073799|-0.10513971000909805|-0.05286137014627457| 0.02351553551852703|-0.01094800420105...|0.046512823551893234|0.09114699065685272|0.011879232712090015|-0.01424374245107174|-0.02275435812771...| 0.05587368831038475|0.004554920364171...|0.017976751551032066|-0.00468448270112...| 0.03284401074051857|-0.01671352051198...| 0.03313552588224411| 0.01306148711591959| 0.00505697401240468|-0.00155677052680403|-0.00838105380535...|-0.01568512059748...| 0.10287237167358398| 0.03958124667406082|-0.01374978665262...|0.029864082112908363|-0.06905664503574371|0.014851064421236515|-0.01980681903660...|0.010624098591506481|-0.01460813544690609| 0.07119441777467728|0.008453932590782642|-0.00209526345133...|-0.02213893830776...|0.010405462235212326|-0.01679449714720...|-0.00287263654172...| -0.0822719857096672|0.014187058433890343|-0.04045579209923744|-0.06364741921424866| 0.09393258392810822|-0.01034068129956...|-0.06957489252090454| 0.07495172321796417| 0.02142634615302086|0.003058882197365...| 0.02519984357059002|0.009887213818728924|-0.00185030989814...|0.048456255346536636|-0.07495172321796417|-0.07521084696054459| 0.05911274626851082|-0.04729019477963...|-0.01993638090789318|-0.02226850017905...|0.027661524713039398|0.013029096648097038|-0.01804153434932232|0.007992367260158062|-0.00588698172941...|0.013903641141951084| 0.00984672550112009|-0.00164078350644...|-0.00391723169013...|0.011603912338614464|   0.101188063621521| -0.0649106502532959|-0.01867314986884594| -0.0372491255402565| -0.0357915535569191|0.016413908451795578| 0.06724277138710022|-0.06665974110364914|-0.02657644264400...|-0.01596853882074356|-0.02035745792090...| 0.00789924431592226|  0.0822719857096672|-0.04087686911225319|-0.02936202846467495|-0.06267570704221725|-0.04398636147379875| 0.05652150139212608|-0.01571751199662...|0.006077276077121496|0.008955985307693481|-0.04787322506308...| 0.03501417860388756|  0.0473225861787796|-0.04087686911225319|-0.01702123135328293|0.007267628330737352|0.057298872619867325|-0.03222859278321266|0.034463539719581604|-0.01932095922529...|-7.97617190983146...|-0.04191336408257...|  0.0658823698759079| 0.04625369980931282|0.040034715086221695|0.013717396184802055| -0.0149239432066679|0.018932273611426353| -0.0606674924492836|-0.00402857409790...|0.043953970074653625| 0.08136504888534546| 0.04958992451429367| 0.03721673786640167|-0.04890972375869751| -0.0195962805300951|-0.05075598508119583|-0.01374978665262...|-0.12295451015233994|-0.03159697726368904| 0.02322402037680149|0.003963793162256479|0.010267802514135838|0.055711738765239716|-0.13293080031871796|-0.00598010420799...|-0.05639193952083...|-0.01690786518156...|-0.00469662901014...|-0.01186303701251...|-0.02315923944115...| 0.02767772041261196|-0.03103014267981...|-0.06497543305158615|  0.0411359928548336| 0.02728903479874134| 0.01455955021083355|-0.01472960039973259|-0.04204292595386505|-0.04035861790180206|-0.04333854839205742|0.004692580085247755|0.005482099950313568|-0.00141101307235...|-0.02030887082219124|0.012251723557710648|0.008089538663625717| 0.10008678585290909|\n",
            "+--------------------+--------------------+--------------------+--------------------+--------------------+--------------------+--------------------+--------------------+--------------------+--------------------+--------------------+--------------------+--------------------+--------------------+--------------------+--------------------+--------------------+--------------------+--------------------+--------------------+--------------------+--------------------+--------------------+--------------------+--------------------+--------------------+--------------------+--------------------+--------------------+--------------------+--------------------+--------------------+--------------------+--------------------+--------------------+--------------------+--------------------+--------------------+--------------------+--------------------+--------------------+--------------------+--------------------+--------------------+--------------------+--------------------+--------------------+--------------------+--------------------+--------------------+--------------------+--------------------+--------------------+--------------------+--------------------+--------------------+--------------------+--------------------+--------------------+--------------------+--------------------+--------------------+--------------------+--------------------+--------------------+--------------------+--------------------+--------------------+--------------------+--------------------+--------------------+--------------------+--------------------+--------------------+--------------------+--------------------+--------------------+--------------------+--------------------+--------------------+--------------------+--------------------+--------------------+--------------------+--------------------+--------------------+--------------------+--------------------+--------------------+--------------------+--------------------+--------------------+--------------------+--------------------+--------------------+--------------------+--------------------+--------------------+--------------------+--------------------+--------------------+--------------------+--------------------+--------------------+--------------------+--------------------+--------------------+--------------------+--------------------+--------------------+--------------------+--------------------+--------------------+--------------------+--------------------+--------------------+--------------------+--------------------+--------------------+--------------------+--------------------+--------------------+--------------------+--------------------+--------------------+--------------------+--------------------+--------------------+--------------------+--------------------+--------------------+--------------------+--------------------+--------------------+--------------------+--------------------+--------------------+--------------------+--------------------+--------------------+--------------------+--------------------+--------------------+--------------------+--------------------+--------------------+--------------------+--------------------+--------------------+--------------------+--------------------+--------------------+--------------------+--------------------+--------------------+--------------------+--------------------+--------------------+--------------------+--------------------+--------------------+--------------------+--------------------+--------------------+--------------------+--------------------+--------------------+--------------------+--------------------+--------------------+--------------------+--------------------+--------------------+--------------------+--------------------+--------------------+--------------------+--------------------+--------------------+--------------------+--------------------+--------------------+--------------------+--------------------+--------------------+--------------------+--------------------+--------------------+--------------------+--------------------+--------------------+--------------------+--------------------+--------------------+--------------------+--------------------+--------------------+--------------------+--------------------+--------------------+--------------------+--------------------+--------------------+--------------------+--------------------+--------------------+--------------------+--------------------+--------------------+--------------------+--------------------+--------------------+--------------------+--------------------+--------------------+--------------------+--------------------+--------------------+--------------------+--------------------+--------------------+--------------------+--------------------+--------------------+--------------------+--------------------+--------------------+--------------------+--------------------+--------------------+--------------------+--------------------+--------------------+--------------------+--------------------+--------------------+--------------------+--------------------+--------------------+--------------------+--------------------+--------------------+--------------------+--------------------+--------------------+--------------------+--------------------+--------------------+--------------------+--------------------+--------------------+--------------------+--------------------+--------------------+--------------------+--------------------+--------------------+--------------------+--------------------+--------------------+--------------------+--------------------+--------------------+--------------------+--------------------+--------------------+--------------------+--------------------+--------------------+--------------------+--------------------+--------------------+--------------------+--------------------+--------------------+--------------------+--------------------+--------------------+--------------------+--------------------+--------------------+--------------------+--------------------+--------------------+--------------------+--------------------+--------------------+--------------------+--------------------+--------------------+--------------------+--------------------+--------------------+--------------------+--------------------+--------------------+--------------------+--------------------+--------------------+--------------------+--------------------+--------------------+--------------------+--------------------+--------------------+--------------------+--------------------+--------------------+--------------------+--------------------+--------------------+--------------------+--------------------+--------------------+--------------------+--------------------+--------------------+--------------------+--------------------+--------------------+--------------------+--------------------+--------------------+--------------------+--------------------+--------------------+--------------------+--------------------+--------------------+--------------------+--------------------+--------------------+--------------------+--------------------+--------------------+--------------------+--------------------+--------------------+--------------------+--------------------+--------------------+--------------------+--------------------+--------------------+--------------------+--------------------+--------------------+--------------------+--------------------+--------------------+--------------------+--------------------+--------------------+--------------------+--------------------+--------------------+--------------------+--------------------+--------------------+--------------------+--------------------+--------------------+--------------------+--------------------+--------------------+--------------------+--------------------+--------------------+--------------------+--------------------+--------------------+-------------------+--------------------+--------------------+--------------------+--------------------+--------------------+--------------------+--------------------+--------------------+--------------------+--------------------+--------------------+--------------------+--------------------+--------------------+--------------------+--------------------+--------------------+--------------------+--------------------+--------------------+--------------------+--------------------+--------------------+--------------------+--------------------+--------------------+--------------------+--------------------+--------------------+--------------------+--------------------+--------------------+--------------------+--------------------+--------------------+--------------------+--------------------+--------------------+--------------------+--------------------+--------------------+--------------------+--------------------+--------------------+--------------------+--------------------+--------------------+--------------------+--------------------+--------------------+--------------------+--------------------+--------------------+--------------------+--------------------+--------------------+--------------------+--------------------+--------------------+--------------------+--------------------+--------------------+--------------------+--------------------+--------------------+--------------------+--------------------+--------------------+--------------------+--------------------+--------------------+--------------------+--------------------+--------------------+--------------------+--------------------+--------------------+--------------------+--------------------+--------------------+--------------------+--------------------+--------------------+--------------------+--------------------+--------------------+--------------------+--------------------+--------------------+--------------------+--------------------+--------------------+--------------------+--------------------+--------------------+--------------------+--------------------+--------------------+--------------------+--------------------+--------------------+--------------------+--------------------+--------------------+--------------------+--------------------+--------------------+--------------------+--------------------+--------------------+--------------------+--------------------+--------------------+--------------------+--------------------+--------------------+--------------------+--------------------+--------------------+--------------------+--------------------+--------------------+--------------------+--------------------+--------------------+--------------------+--------------------+--------------------+--------------------+--------------------+--------------------+--------------------+--------------------+--------------------+--------------------+--------------------+--------------------+--------------------+--------------------+--------------------+\n",
            "only showing top 5 rows\n",
            "\n"
          ]
        }
      ],
      "source": [
        "features_column_names = [f\"embedding_{i}\" for i in range(len(embedding_vectors[0]))]\n",
        "embeddings_df = spark.createDataFrame(embedding_vectors, schema=features_column_names)\n",
        "embeddings_df.show(5)"
      ]
    },
    {
      "cell_type": "markdown",
      "metadata": {
        "id": "aGzNmNuen5ol"
      },
      "source": [
        "Add unique `row_id` to each row in the pysaprk dataframe"
      ]
    },
    {
      "cell_type": "code",
      "execution_count": 13,
      "metadata": {
        "id": "VoQDjRGmne3o"
      },
      "outputs": [
        {
          "name": "stdout",
          "output_type": "stream",
          "text": [
            "+--------------------+--------------------+--------------------+--------------------+--------------------+--------------------+--------------------+--------------------+--------------------+--------------------+--------------------+--------------------+--------------------+--------------------+--------------------+--------------------+--------------------+--------------------+--------------------+--------------------+--------------------+--------------------+--------------------+--------------------+--------------------+--------------------+--------------------+--------------------+--------------------+--------------------+--------------------+--------------------+--------------------+--------------------+--------------------+--------------------+--------------------+--------------------+--------------------+--------------------+--------------------+--------------------+--------------------+--------------------+--------------------+--------------------+--------------------+--------------------+--------------------+--------------------+--------------------+--------------------+--------------------+--------------------+--------------------+--------------------+--------------------+--------------------+--------------------+--------------------+--------------------+--------------------+--------------------+--------------------+--------------------+--------------------+--------------------+--------------------+--------------------+--------------------+--------------------+--------------------+--------------------+--------------------+--------------------+--------------------+--------------------+--------------------+--------------------+--------------------+--------------------+--------------------+--------------------+--------------------+--------------------+--------------------+--------------------+--------------------+--------------------+--------------------+--------------------+--------------------+--------------------+--------------------+--------------------+--------------------+--------------------+--------------------+--------------------+--------------------+--------------------+--------------------+--------------------+--------------------+--------------------+--------------------+--------------------+--------------------+--------------------+--------------------+--------------------+--------------------+--------------------+--------------------+--------------------+--------------------+--------------------+--------------------+--------------------+--------------------+--------------------+--------------------+--------------------+--------------------+--------------------+--------------------+--------------------+--------------------+--------------------+--------------------+--------------------+--------------------+--------------------+--------------------+--------------------+--------------------+--------------------+--------------------+--------------------+--------------------+--------------------+--------------------+--------------------+--------------------+--------------------+--------------------+--------------------+--------------------+--------------------+--------------------+--------------------+--------------------+--------------------+--------------------+--------------------+--------------------+--------------------+--------------------+--------------------+--------------------+--------------------+--------------------+--------------------+--------------------+--------------------+--------------------+--------------------+--------------------+--------------------+--------------------+--------------------+--------------------+--------------------+--------------------+--------------------+--------------------+--------------------+--------------------+--------------------+--------------------+--------------------+--------------------+--------------------+--------------------+--------------------+--------------------+--------------------+--------------------+--------------------+--------------------+--------------------+--------------------+--------------------+--------------------+--------------------+--------------------+--------------------+--------------------+--------------------+--------------------+--------------------+--------------------+--------------------+--------------------+--------------------+--------------------+--------------------+--------------------+--------------------+--------------------+--------------------+--------------------+--------------------+--------------------+--------------------+--------------------+--------------------+--------------------+--------------------+--------------------+--------------------+--------------------+--------------------+--------------------+--------------------+--------------------+--------------------+--------------------+--------------------+--------------------+--------------------+--------------------+--------------------+--------------------+--------------------+--------------------+--------------------+--------------------+--------------------+--------------------+--------------------+--------------------+--------------------+--------------------+--------------------+--------------------+--------------------+--------------------+--------------------+--------------------+--------------------+--------------------+--------------------+--------------------+--------------------+--------------------+--------------------+--------------------+--------------------+--------------------+--------------------+--------------------+--------------------+--------------------+--------------------+--------------------+--------------------+--------------------+--------------------+--------------------+--------------------+--------------------+--------------------+--------------------+--------------------+--------------------+--------------------+--------------------+--------------------+--------------------+--------------------+--------------------+--------------------+--------------------+--------------------+--------------------+--------------------+--------------------+--------------------+--------------------+--------------------+--------------------+--------------------+--------------------+--------------------+--------------------+--------------------+--------------------+--------------------+--------------------+--------------------+--------------------+--------------------+--------------------+--------------------+--------------------+--------------------+--------------------+--------------------+--------------------+--------------------+--------------------+--------------------+--------------------+--------------------+--------------------+--------------------+--------------------+--------------------+--------------------+--------------------+--------------------+--------------------+--------------------+--------------------+--------------------+--------------------+--------------------+--------------------+--------------------+--------------------+--------------------+--------------------+--------------------+--------------------+--------------------+--------------------+--------------------+--------------------+--------------------+--------------------+--------------------+--------------------+--------------------+--------------------+--------------------+--------------------+--------------------+--------------------+--------------------+--------------------+--------------------+--------------------+--------------------+--------------------+--------------------+--------------------+--------------------+--------------------+--------------------+--------------------+--------------------+--------------------+--------------------+--------------------+--------------------+--------------------+--------------------+--------------------+--------------------+--------------------+-------------------+--------------------+--------------------+--------------------+--------------------+--------------------+--------------------+--------------------+--------------------+--------------------+--------------------+--------------------+--------------------+--------------------+--------------------+--------------------+--------------------+--------------------+--------------------+--------------------+--------------------+--------------------+--------------------+--------------------+--------------------+--------------------+--------------------+--------------------+--------------------+--------------------+--------------------+--------------------+--------------------+--------------------+--------------------+--------------------+--------------------+--------------------+--------------------+--------------------+--------------------+--------------------+--------------------+--------------------+--------------------+--------------------+--------------------+--------------------+--------------------+--------------------+--------------------+--------------------+--------------------+--------------------+--------------------+--------------------+--------------------+--------------------+--------------------+--------------------+--------------------+--------------------+--------------------+--------------------+--------------------+--------------------+--------------------+--------------------+--------------------+--------------------+--------------------+--------------------+--------------------+--------------------+--------------------+--------------------+--------------------+--------------------+--------------------+--------------------+--------------------+--------------------+--------------------+--------------------+--------------------+--------------------+--------------------+--------------------+--------------------+--------------------+--------------------+--------------------+--------------------+--------------------+--------------------+--------------------+--------------------+--------------------+--------------------+--------------------+--------------------+--------------------+--------------------+--------------------+--------------------+--------------------+--------------------+--------------------+--------------------+--------------------+--------------------+--------------------+--------------------+--------------------+--------------------+--------------------+--------------------+--------------------+--------------------+--------------------+--------------------+--------------------+--------------------+--------------------+--------------------+--------------------+--------------------+--------------------+--------------------+--------------------+--------------------+--------------------+--------------------+--------------------+--------------------+--------------------+--------------------+--------------------+--------------------+--------------------+--------------------+---+\n",
            "|         embedding_0|         embedding_1|         embedding_2|         embedding_3|         embedding_4|         embedding_5|         embedding_6|         embedding_7|         embedding_8|         embedding_9|        embedding_10|        embedding_11|        embedding_12|        embedding_13|        embedding_14|        embedding_15|        embedding_16|        embedding_17|        embedding_18|        embedding_19|        embedding_20|        embedding_21|        embedding_22|        embedding_23|        embedding_24|        embedding_25|        embedding_26|        embedding_27|        embedding_28|        embedding_29|        embedding_30|        embedding_31|        embedding_32|        embedding_33|        embedding_34|        embedding_35|        embedding_36|        embedding_37|        embedding_38|        embedding_39|        embedding_40|        embedding_41|        embedding_42|        embedding_43|        embedding_44|        embedding_45|        embedding_46|        embedding_47|        embedding_48|        embedding_49|        embedding_50|        embedding_51|        embedding_52|        embedding_53|        embedding_54|        embedding_55|        embedding_56|        embedding_57|        embedding_58|        embedding_59|        embedding_60|        embedding_61|        embedding_62|        embedding_63|        embedding_64|        embedding_65|        embedding_66|        embedding_67|        embedding_68|        embedding_69|        embedding_70|        embedding_71|        embedding_72|        embedding_73|        embedding_74|        embedding_75|        embedding_76|        embedding_77|        embedding_78|        embedding_79|        embedding_80|        embedding_81|        embedding_82|        embedding_83|        embedding_84|        embedding_85|        embedding_86|        embedding_87|        embedding_88|        embedding_89|        embedding_90|        embedding_91|        embedding_92|        embedding_93|        embedding_94|        embedding_95|        embedding_96|        embedding_97|        embedding_98|        embedding_99|       embedding_100|       embedding_101|       embedding_102|       embedding_103|       embedding_104|       embedding_105|       embedding_106|       embedding_107|       embedding_108|       embedding_109|       embedding_110|       embedding_111|       embedding_112|       embedding_113|       embedding_114|       embedding_115|       embedding_116|       embedding_117|       embedding_118|       embedding_119|       embedding_120|       embedding_121|       embedding_122|       embedding_123|       embedding_124|       embedding_125|       embedding_126|       embedding_127|       embedding_128|       embedding_129|       embedding_130|       embedding_131|       embedding_132|       embedding_133|       embedding_134|       embedding_135|       embedding_136|       embedding_137|       embedding_138|       embedding_139|       embedding_140|       embedding_141|       embedding_142|       embedding_143|       embedding_144|       embedding_145|       embedding_146|       embedding_147|       embedding_148|       embedding_149|       embedding_150|       embedding_151|       embedding_152|       embedding_153|       embedding_154|       embedding_155|       embedding_156|       embedding_157|       embedding_158|       embedding_159|       embedding_160|       embedding_161|       embedding_162|       embedding_163|       embedding_164|       embedding_165|       embedding_166|       embedding_167|       embedding_168|       embedding_169|       embedding_170|       embedding_171|       embedding_172|       embedding_173|       embedding_174|       embedding_175|       embedding_176|       embedding_177|       embedding_178|       embedding_179|       embedding_180|       embedding_181|       embedding_182|       embedding_183|       embedding_184|       embedding_185|       embedding_186|       embedding_187|       embedding_188|       embedding_189|       embedding_190|       embedding_191|       embedding_192|       embedding_193|       embedding_194|       embedding_195|       embedding_196|       embedding_197|       embedding_198|       embedding_199|       embedding_200|       embedding_201|       embedding_202|       embedding_203|       embedding_204|       embedding_205|       embedding_206|       embedding_207|       embedding_208|       embedding_209|       embedding_210|       embedding_211|       embedding_212|       embedding_213|       embedding_214|       embedding_215|       embedding_216|       embedding_217|       embedding_218|       embedding_219|       embedding_220|       embedding_221|       embedding_222|       embedding_223|       embedding_224|       embedding_225|       embedding_226|       embedding_227|       embedding_228|       embedding_229|       embedding_230|       embedding_231|       embedding_232|       embedding_233|       embedding_234|       embedding_235|       embedding_236|       embedding_237|       embedding_238|       embedding_239|       embedding_240|       embedding_241|       embedding_242|       embedding_243|       embedding_244|       embedding_245|       embedding_246|       embedding_247|       embedding_248|       embedding_249|       embedding_250|       embedding_251|       embedding_252|       embedding_253|       embedding_254|       embedding_255|       embedding_256|       embedding_257|       embedding_258|       embedding_259|       embedding_260|       embedding_261|       embedding_262|       embedding_263|       embedding_264|       embedding_265|       embedding_266|       embedding_267|       embedding_268|       embedding_269|       embedding_270|       embedding_271|       embedding_272|       embedding_273|       embedding_274|       embedding_275|       embedding_276|       embedding_277|       embedding_278|       embedding_279|       embedding_280|       embedding_281|       embedding_282|       embedding_283|       embedding_284|       embedding_285|       embedding_286|       embedding_287|       embedding_288|       embedding_289|       embedding_290|       embedding_291|       embedding_292|       embedding_293|       embedding_294|       embedding_295|       embedding_296|       embedding_297|       embedding_298|       embedding_299|       embedding_300|       embedding_301|       embedding_302|       embedding_303|       embedding_304|       embedding_305|       embedding_306|       embedding_307|       embedding_308|       embedding_309|       embedding_310|       embedding_311|       embedding_312|       embedding_313|       embedding_314|       embedding_315|       embedding_316|       embedding_317|       embedding_318|       embedding_319|       embedding_320|       embedding_321|       embedding_322|       embedding_323|       embedding_324|       embedding_325|       embedding_326|       embedding_327|       embedding_328|       embedding_329|       embedding_330|       embedding_331|       embedding_332|       embedding_333|       embedding_334|       embedding_335|       embedding_336|       embedding_337|       embedding_338|       embedding_339|       embedding_340|       embedding_341|       embedding_342|       embedding_343|       embedding_344|       embedding_345|       embedding_346|       embedding_347|       embedding_348|       embedding_349|       embedding_350|       embedding_351|       embedding_352|       embedding_353|       embedding_354|       embedding_355|       embedding_356|       embedding_357|       embedding_358|       embedding_359|       embedding_360|       embedding_361|       embedding_362|       embedding_363|       embedding_364|       embedding_365|       embedding_366|       embedding_367|       embedding_368|       embedding_369|       embedding_370|      embedding_371|       embedding_372|       embedding_373|       embedding_374|       embedding_375|       embedding_376|       embedding_377|       embedding_378|       embedding_379|       embedding_380|       embedding_381|       embedding_382|       embedding_383|       embedding_384|       embedding_385|       embedding_386|       embedding_387|       embedding_388|       embedding_389|       embedding_390|       embedding_391|       embedding_392|       embedding_393|       embedding_394|       embedding_395|       embedding_396|       embedding_397|       embedding_398|       embedding_399|       embedding_400|       embedding_401|       embedding_402|       embedding_403|       embedding_404|       embedding_405|       embedding_406|       embedding_407|       embedding_408|       embedding_409|       embedding_410|       embedding_411|       embedding_412|       embedding_413|       embedding_414|       embedding_415|       embedding_416|       embedding_417|       embedding_418|       embedding_419|       embedding_420|       embedding_421|       embedding_422|       embedding_423|       embedding_424|       embedding_425|       embedding_426|       embedding_427|       embedding_428|       embedding_429|       embedding_430|       embedding_431|       embedding_432|       embedding_433|       embedding_434|       embedding_435|       embedding_436|       embedding_437|       embedding_438|       embedding_439|       embedding_440|       embedding_441|       embedding_442|       embedding_443|       embedding_444|       embedding_445|       embedding_446|       embedding_447|       embedding_448|       embedding_449|       embedding_450|       embedding_451|       embedding_452|       embedding_453|       embedding_454|       embedding_455|       embedding_456|       embedding_457|       embedding_458|       embedding_459|       embedding_460|       embedding_461|       embedding_462|       embedding_463|       embedding_464|       embedding_465|       embedding_466|       embedding_467|       embedding_468|       embedding_469|       embedding_470|       embedding_471|       embedding_472|       embedding_473|       embedding_474|       embedding_475|       embedding_476|       embedding_477|       embedding_478|       embedding_479|       embedding_480|       embedding_481|       embedding_482|       embedding_483|       embedding_484|       embedding_485|       embedding_486|       embedding_487|       embedding_488|       embedding_489|       embedding_490|       embedding_491|       embedding_492|       embedding_493|       embedding_494|       embedding_495|       embedding_496|       embedding_497|       embedding_498|       embedding_499|       embedding_500|       embedding_501|       embedding_502|       embedding_503|       embedding_504|       embedding_505|       embedding_506|       embedding_507|       embedding_508|       embedding_509|       embedding_510|       embedding_511| id|\n",
            "+--------------------+--------------------+--------------------+--------------------+--------------------+--------------------+--------------------+--------------------+--------------------+--------------------+--------------------+--------------------+--------------------+--------------------+--------------------+--------------------+--------------------+--------------------+--------------------+--------------------+--------------------+--------------------+--------------------+--------------------+--------------------+--------------------+--------------------+--------------------+--------------------+--------------------+--------------------+--------------------+--------------------+--------------------+--------------------+--------------------+--------------------+--------------------+--------------------+--------------------+--------------------+--------------------+--------------------+--------------------+--------------------+--------------------+--------------------+--------------------+--------------------+--------------------+--------------------+--------------------+--------------------+--------------------+--------------------+--------------------+--------------------+--------------------+--------------------+--------------------+--------------------+--------------------+--------------------+--------------------+--------------------+--------------------+--------------------+--------------------+--------------------+--------------------+--------------------+--------------------+--------------------+--------------------+--------------------+--------------------+--------------------+--------------------+--------------------+--------------------+--------------------+--------------------+--------------------+--------------------+--------------------+--------------------+--------------------+--------------------+--------------------+--------------------+--------------------+--------------------+--------------------+--------------------+--------------------+--------------------+--------------------+--------------------+--------------------+--------------------+--------------------+--------------------+--------------------+--------------------+--------------------+--------------------+--------------------+--------------------+--------------------+--------------------+--------------------+--------------------+--------------------+--------------------+--------------------+--------------------+--------------------+--------------------+--------------------+--------------------+--------------------+--------------------+--------------------+--------------------+--------------------+--------------------+--------------------+--------------------+--------------------+--------------------+--------------------+--------------------+--------------------+--------------------+--------------------+--------------------+--------------------+--------------------+--------------------+--------------------+--------------------+--------------------+--------------------+--------------------+--------------------+--------------------+--------------------+--------------------+--------------------+--------------------+--------------------+--------------------+--------------------+--------------------+--------------------+--------------------+--------------------+--------------------+--------------------+--------------------+--------------------+--------------------+--------------------+--------------------+--------------------+--------------------+--------------------+--------------------+--------------------+--------------------+--------------------+--------------------+--------------------+--------------------+--------------------+--------------------+--------------------+--------------------+--------------------+--------------------+--------------------+--------------------+--------------------+--------------------+--------------------+--------------------+--------------------+--------------------+--------------------+--------------------+--------------------+--------------------+--------------------+--------------------+--------------------+--------------------+--------------------+--------------------+--------------------+--------------------+--------------------+--------------------+--------------------+--------------------+--------------------+--------------------+--------------------+--------------------+--------------------+--------------------+--------------------+--------------------+--------------------+--------------------+--------------------+--------------------+--------------------+--------------------+--------------------+--------------------+--------------------+--------------------+--------------------+--------------------+--------------------+--------------------+--------------------+--------------------+--------------------+--------------------+--------------------+--------------------+--------------------+--------------------+--------------------+--------------------+--------------------+--------------------+--------------------+--------------------+--------------------+--------------------+--------------------+--------------------+--------------------+--------------------+--------------------+--------------------+--------------------+--------------------+--------------------+--------------------+--------------------+--------------------+--------------------+--------------------+--------------------+--------------------+--------------------+--------------------+--------------------+--------------------+--------------------+--------------------+--------------------+--------------------+--------------------+--------------------+--------------------+--------------------+--------------------+--------------------+--------------------+--------------------+--------------------+--------------------+--------------------+--------------------+--------------------+--------------------+--------------------+--------------------+--------------------+--------------------+--------------------+--------------------+--------------------+--------------------+--------------------+--------------------+--------------------+--------------------+--------------------+--------------------+--------------------+--------------------+--------------------+--------------------+--------------------+--------------------+--------------------+--------------------+--------------------+--------------------+--------------------+--------------------+--------------------+--------------------+--------------------+--------------------+--------------------+--------------------+--------------------+--------------------+--------------------+--------------------+--------------------+--------------------+--------------------+--------------------+--------------------+--------------------+--------------------+--------------------+--------------------+--------------------+--------------------+--------------------+--------------------+--------------------+--------------------+--------------------+--------------------+--------------------+--------------------+--------------------+--------------------+--------------------+--------------------+--------------------+--------------------+--------------------+--------------------+--------------------+--------------------+--------------------+--------------------+--------------------+--------------------+--------------------+--------------------+--------------------+--------------------+--------------------+--------------------+--------------------+--------------------+--------------------+--------------------+--------------------+--------------------+--------------------+--------------------+--------------------+--------------------+--------------------+--------------------+--------------------+--------------------+--------------------+--------------------+-------------------+--------------------+--------------------+--------------------+--------------------+--------------------+--------------------+--------------------+--------------------+--------------------+--------------------+--------------------+--------------------+--------------------+--------------------+--------------------+--------------------+--------------------+--------------------+--------------------+--------------------+--------------------+--------------------+--------------------+--------------------+--------------------+--------------------+--------------------+--------------------+--------------------+--------------------+--------------------+--------------------+--------------------+--------------------+--------------------+--------------------+--------------------+--------------------+--------------------+--------------------+--------------------+--------------------+--------------------+--------------------+--------------------+--------------------+--------------------+--------------------+--------------------+--------------------+--------------------+--------------------+--------------------+--------------------+--------------------+--------------------+--------------------+--------------------+--------------------+--------------------+--------------------+--------------------+--------------------+--------------------+--------------------+--------------------+--------------------+--------------------+--------------------+--------------------+--------------------+--------------------+--------------------+--------------------+--------------------+--------------------+--------------------+--------------------+--------------------+--------------------+--------------------+--------------------+--------------------+--------------------+--------------------+--------------------+--------------------+--------------------+--------------------+--------------------+--------------------+--------------------+--------------------+--------------------+--------------------+--------------------+--------------------+--------------------+--------------------+--------------------+--------------------+--------------------+--------------------+--------------------+--------------------+--------------------+--------------------+--------------------+--------------------+--------------------+--------------------+--------------------+--------------------+--------------------+--------------------+--------------------+--------------------+--------------------+--------------------+--------------------+--------------------+--------------------+--------------------+--------------------+--------------------+--------------------+--------------------+--------------------+--------------------+--------------------+--------------------+--------------------+--------------------+--------------------+--------------------+--------------------+--------------------+--------------------+--------------------+--------------------+---+\n",
            "| 0.03746229410171509|0.030402367934584618|-0.01369089540094...|-0.00154938583727...|0.007462074514478445|-0.03556773066520691|0.021412132307887077| 0.08193089812994003| 0.04915138706564903|-0.05765904486179352| 0.04196634888648987|0.042502544820308685|-0.05869569256901741| 0.03108154982328415| 0.02277049794793129| 0.06452237069606781| 0.10430818051099777|-0.03749804198741913|-0.08779331296682358| 0.06441512703895569|-0.05637217313051224| 0.05848121643066406|-0.02670260891318...|-0.07714086771011353| 0.02629152499139309|0.038034237921237946|-0.04811473935842514|0.032529283314943314| 0.05569298937916756|-0.01591611281037...|0.003541134065017104|-0.02357479371130...|0.018516669049859047|-0.02604129910469...|  0.0442541241645813|-0.07067076116800308|-0.02159086428582...| 0.10938417911529541|-0.03381615504622...| 0.02857929840683937|0.031260281801223755|-0.05748031288385391|0.013887501321732998|-0.05933912843465805|0.026881340891122818| 0.03699759021401405|0.014057297259569168|0.025505101308226585|-0.02981255017220974| 0.02184109017252922|-0.03445959091186...|-0.01867752708494...|-0.05447760969400406|0.044754572212696075|-0.02952658012509346|-0.02879377640783...|-0.04207358881831169|-0.04232381284236908| 0.02341393381357193|-0.02019675262272358|-0.02162661030888...| -0.0208223145455122|-0.02555872127413...|-0.01439688820391...|-0.03124240972101...|-0.03442384302616...|0.019481822848320007|-0.01983928680419922|0.006023279391229153|-0.05301200598478317| 0.06137667968869209|0.051188938319683075|0.030330874025821686|-0.02682772092521...|-0.07478160411119461|-0.00215595867484...|0.006693525239825249|-0.08250284194946289|0.008449570275843143|0.031242409721016884|-0.02028611861169...| 0.07252957671880722|-0.02311008982360363|-0.03587157651782036|-0.05004505068063736|-0.00134719489142...|-0.02613066509366...|0.007104609627276659|-0.00821721833199...| -0.0144326351583004| 0.02337818779051304|0.012466579675674438|0.024218229576945305|-0.02487953938543...|-0.05533552542328...| 0.00561666302382946|-0.02804310061037...|-0.03967857360839844|-0.03379828110337...|0.009070665575563908|-0.03292249515652...|-0.00767655298113...|5.976362153887749E-4|0.011519297957420349|-0.06498707085847855|-0.00789996888488...|-0.11074254661798477|-0.00525919860228...| 0.00959792546927929|-0.02722093276679516|-0.10066204518079758| 0.07556802779436111| 0.03229692950844765| 0.06956262141466141|-0.03549623861908913|-0.03342294320464134|0.035460490733385086|0.017908979207277298|-0.00988389737904...| 0.06298527121543884|0.023324567824602127| 0.05683687701821327|-0.02280624397099018|-0.02330669388175...|-0.00452416203916...|-0.01319938153028...|-0.03472768887877464|-0.04361068457365036|0.004995568189769983|0.007073331624269...|0.052154090255498886|0.028168214485049248| 0.08343224972486496|-0.03027725592255...|-0.01185888983309269|0.017846422269940376| 0.04271702468395233|0.011018847115337849|-0.03540687263011...|-0.13054609298706055|-0.04654189571738243|-0.04282426461577...|-0.02187683619558...| 6.65358966216445E-5|0.025415735319256783|0.014504128135740757|-0.01935671083629...|-0.00906619708985...|-0.03817722201347351| 0.07664041966199875|-0.05344096198678017|-0.06584499031305313| 0.07435264438390732|0.018105583265423775|-0.09808829426765442|-0.01627357862889...| 0.07034903764724731| 0.04711383953690529|-0.04922287911176...|-0.03372678905725479|-0.06255631148815155|0.006072430405765772|-0.00468278676271...|8.361321524716914E-4|  0.1226818636059761|0.008181472308933735| 0.06327123939990997|-0.07878520339727402|-0.09358423948287964|-0.03658650442957878|0.004023711197078228|-0.04629167169332504|0.006367338821291...|0.023985877633094788|0.027149438858032227|0.025898313149809837|-0.07671191543340683|0.014468381181359291|-0.03083132579922676|-0.10995612293481827|0.001108140335418284|-0.04432561621069908| 0.06763231009244919|-0.03731931000947952|-0.05322648584842682|-0.03601456433534622|0.029079748317599297|0.012600628659129143|0.010312855243682861|0.010813305154442787|0.011438868939876556| 0.03597881644964218|-0.03671161830425...|-0.00527707161381...|  -0.036515012383461|-0.09058153629302979| 0.02727455273270607|  0.0748530924320221|0.009678355418145657| 0.08736436069011688|-0.04300299659371376| 0.08378971368074417|0.019642682746052742|0.016604231670498848|-0.04650614783167839|-0.00163428368978...|-0.01668466255068779|-0.02369990572333336|-0.06945537775754929|-0.03637202829122543|0.055978961288928986|-0.00712695112451911|-0.04028626531362...|0.001519224722869...|-0.00367294927127...|-0.00298482971265...|0.011635473929345608|-0.01813239417970...|0.017426401376724243| 0.05672963708639145|-0.07013456523418427|0.025737453252077103|-0.05608620122075081|0.016425499692559242| -0.0545133575797081|0.060447271913290024| 0.06902642548084259|  0.0404292494058609|0.007511225529015064|-0.06280653923749924|0.033494435250759125|0.013905374333262444|-0.07220786064863205|0.005665814504027367|-0.05794501677155495| 0.05998256802558899|2.704722573980689E-4|-0.03699759021401405|-0.03914237767457962|-0.00938344653695...|-0.07113546133041382|-3.77572025172412...|0.011742713861167431|  0.0704205334186554|0.014155599288642406|2.376581251155585E-4|-0.02945508621633...|-0.03778401389718056| 0.04707809165120125|-0.02353904582560...|0.039285365492105484|-0.03292249515652...|-0.05050975456833...|0.041823361068964005|0.031939465552568436| 0.05126043036580086|0.006139455363154411|0.003583583049476...|-0.02105466648936...|-0.03265439346432686|-0.06030428409576416|-0.00302057620137...|-0.01697956956923008|-0.00131033128127...|-0.02672048099339...|0.050509754568338394| 0.03885640576481819|-0.05469208955764...| 0.02307434193789959| 0.04289575666189194|-0.00372880301438272|  0.0685974657535553| 0.03243991732597351| 0.09923218190670013|-0.03917812556028366| 0.05201110616326332|-0.00730121508240...| 0.06566625088453293|0.020697202533483505| 0.07378070056438446|-0.06602372229099274|-0.04003604128956795|0.009910707361996174|   0.025344243273139|0.015487155877053738|0.029419340193271637| 0.03839170187711716| 0.06455811113119125|0.003679651534184...|-0.00451299129053...|0.022001948207616806|-0.02000014670193...|-0.02023249864578247|-0.01547821890562...| -0.0494731068611145|-0.02680984884500...|-0.09780232608318329| 0.04014327749609947| -0.0195175688713789|-0.05612194910645485| 0.01759619638323784|0.061412423849105835|-0.06470110267400742| 0.05104595050215721| 0.04643465578556061| 0.08636345714330673|0.031296029686927795|-0.03453108295798302|-0.03664012625813484|-0.01404836028814...|0.002027494832873...|0.036425646394491196|-0.04986631870269...|-0.00456214230507...|-0.02627365104854107|-0.04639891162514...| 0.02089380845427513|0.052154090255498886|-0.04382516443729...|-0.04707809165120125| 0.06627394258975983| 0.03412000089883804|-0.02375352568924427|-0.08593449741601944|0.014280712231993675|-0.03558560460805893|-0.08057253062725067|-0.05101020261645317|-0.04185910895466...|-0.03587157651782036|-0.02239516004920...|0.008060827851295471|-0.00236373487859...|-0.05161789432168007|0.014852656051516533|-0.00857468321919...|0.026041299104690552|-0.04893691092729...|0.026077045127749443|0.010795432142913342|-0.02269900403916...| -0.0372120700776577|-0.02545148320496...|-0.01571057178080082| 0.04643465578556061|-0.06012555211782...| 0.02178747020661831|0.019392456859350204|0.002797160763293...|-0.00178955739829...|0.009003641083836555| 0.05061699450016022|-0.02017887867987156|-0.01714042946696...|0.018427303060889244|-0.01833793520927...| 0.06198436766862869|-0.05265454202890396| 0.05808800458908081|0.017721310257911682|0.017435338348150253| 0.11474614590406418|-0.02126914635300...|-0.02784649468958378|0.007171634119004011| 0.05333372578024864|-0.03932110965251...|0.022538146004080772|-0.00377348600886...|-0.03785550594329834|0.028060974553227425|0.06902642548084259|0.030581099912524223|-0.01711362041532...|-0.05333372578024864|0.033512309193611145|0.021322766318917274|  0.0698128417134285|-0.02958019822835...|-0.02888314239680767|0.044790320098400116| 0.04875817522406578|0.027810748666524887|   0.097373366355896| 0.08829376846551895|2.214605192421004...|-0.02311008982360363| 0.00992858037352562| 0.06391467899084091|-0.03202883154153824| 0.04818623512983322|-0.07277979701757431|-0.00185323075857...|-0.04575547575950...|-0.01467392314225...|-0.01216273475438...| 0.04682786762714386| 0.03613967448472977|0.020446976646780968|  0.0752105638384819|-0.00821721833199...| 0.06101921573281288|-0.06473684310913086| 0.04775727540254593|  0.0266489889472723|-8.89193266630172...|-0.02466505952179432| 0.07678340375423431| -0.0647725909948349| -0.0454695038497448|-0.03040236793458...|0.028758030384778976|0.003326655365526676| 0.03985730558633804| 0.02666686289012432| 0.12175245583057404| 0.04078671708703041|0.003592519555240...|-0.05104595050215721| 0.07160016894340515|-0.05090296640992...|-0.03524601459503174|-0.00916896760463...|-0.03681885823607445|-0.01923159696161747|0.049544598907232285|0.043825164437294006|-0.10237787663936615|-0.09086751192808151|0.007564845494925976|-0.00732802506536...|-0.02748903073370...| 0.09808829426765442|0.034817054867744446|-0.08057253062725067|-0.00251342332921...| -0.0653802827000618|-0.00542899407446...|-0.00316356215626...| 0.04872243106365204|-0.00898129865527153| 0.05647941306233406|0.009714101441204548|-0.02455782145261...| 0.00696609215810895|-0.01151036098599...|0.054656341671943665| 0.01092054508626461|-0.06269929558038712|-0.06084048002958298|  0.0144326351583004|0.023556919768452644| -0.0872928649187088|  0.0326901413500309|-0.02368203178048134| 0.06509431451559067|-0.00335123110562...| 0.04271702468395233|-0.00961579848080...|0.010652446188032627|  0.0442541241645813|-0.06670290231704712| 0.06230608746409416|-0.02990191802382...| -0.0698128417134285|0.009562179446220398| 0.02507614530622959|0.001089708646759...| 0.09201139956712723| -0.0404292494058609|-0.02307434193789959|-0.04529076814651489| 0.01282404363155365|0.027024326846003532| 0.04264553263783455|0.023932257667183876|-0.00403041392564...|-0.01371770538389...|-0.05987532809376...| -0.0627707913517952|0.001882274751551...|-0.00890533812344...|-0.03594306856393814|-0.03161774575710...|-0.01262743864208...|0.008570214733481407|-0.02807884663343...| 0.08421866595745087|-0.04428986832499504|-0.04085820913314819|0.023521173745393753|-0.01901711896061...|-0.00297142472118...|-0.01783748529851...|-3.01610794849693...|-0.03020576201379299|-0.03588945046067238|-0.04596995189785957|    0.11024209856987|-0.03113516978919506|0.036461394280195236| 0.03077770583331585| 0.03299398720264435|-0.08965212851762772| 0.02278837002813816| 0.05361969769001007|0.061412423849105835|0.023038595914840698|0.003409319091588...|  0.0228241179138422| 0.01525480393320322|  0.0442541241645813|  0|\n",
            "| 0.03523961082100868|0.013278326019644737|0.022189784795045853|-0.01412461884319...| -0.0888945460319519|-0.03635671734809...|0.004392256960272789|0.015918757766485214| 0.04004655033349991| 0.07291654497385025|-0.01094255968928...|0.035375017672777176|-0.00748122390359...|-0.00745160365477...| 0.04786629229784012|-0.08171798288822174|-0.01656194031238556|-0.03412250429391861|-0.07955147325992584|  0.1306675374507904|0.003821009770035...| 0.07366128265857697|-0.02572728507220745|-0.03075426258146763|-0.02469480969011...| 0.04028351232409477|0.020158682018518448| 0.06959907710552216| 0.04478578642010689|-0.03537501767277...|-0.02623506076633...| -0.0638781413435936|-0.03639056906104088|-0.04211150482296944|-0.02479636482894...|-0.01437004283070...|-0.01681582815945...|-0.00461229309439...| 0.04214535653591156|-0.04248387366533...|0.028520049527287483|0.013693009503185749|-0.02642124518752098|-0.00138263008557...|0.008060934022068977|0.005196234676986933|0.006089073140174...| 0.04116365686058998|0.042585428804159164|-0.00341055798344...|-0.00886068027466...|0.052267011255025864| -0.0729842483997345| 0.04333016648888588|-0.08063472807407379| 0.10852852463722229|-0.01804295182228...|-0.01936316676437...|8.298953762277961E-4|-0.02056490257382393|-0.08259812742471695|-0.04888184368610382|0.033885542303323746|-0.06367503106594086|0.021140381693840027|0.005306252744048834|-0.01208505406975...|-0.01177192572504282|-0.08984238654375076|0.006689940579235554|  0.0348333902657032|-0.04143447056412697|-0.04146832227706909|-0.01486089266836...|0.004161642398685217|-0.01708664186298...|-0.05605840310454...|0.033191584050655365|0.038150858134031296| 0.02511795610189438|-0.02459325455129...|  0.0120681282132864|-0.08110865205526352|0.002320956671610...| 0.00645297858864069|-0.00144398619886...|-0.07135936617851257|-0.06573998183012009|-0.03957262635231018| 0.02936634235084057| 0.05439966917037964|-0.04962658137083...| 0.09248282015323639|-0.03828626498579979|-0.04180683940649...|-0.07014070451259613|-0.04945732280611992|-0.01657886616885662| 0.03967418149113655| 0.04102825000882149| 0.04817095771431923|0.014623930677771568|-0.01748439855873...|-0.02687824331223...|0.008818365633487701|-0.05121760815382004|-0.02115730755031109|-0.04644452035427...|-0.02620120905339718| 0.06831271201372147|-0.03666138276457...|-0.03930181264877319|0.005826722364872694|-0.06154237687587738|-0.01360838022083044|-0.01673119887709...| 0.08564478158950806| 0.02048027329146862|0.048611029982566833|0.006486830301582813|-0.04874643683433533| 0.03503650054335594| 0.02097112312912941| -0.1305321305990219|0.010003174655139446|-0.02026023715734...|-0.05592299625277519|0.009783138521015644|0.033682432025671005|0.045056600123643875| 0.05798794701695442|0.005382419098168...|0.019126206636428833|-0.00258965441025...|-0.04302550107240677|0.005357030313462019|-0.01833069138228...|-0.02704750187695...| 0.02007405273616314|-0.02813075669109...|0.036052051931619644|-0.03940336778759...|0.024407070130109787|-0.04207765311002731|-0.01904157735407...| 0.04038506746292114| -0.0706823319196701|8.838465437293053E-4|-0.05798794701695442|-0.00604252703487...|-0.12003809958696365|-0.04410875588655472|-0.06360732764005661|-0.03215910866856575|0.011805777437984943|-0.05724320933222771|-0.00450227502733469|0.034579504281282425|-0.02064953185617...|-0.03329313918948...|-0.04305935278534889|0.001134031685069...| -0.0900454968214035| 0.03750767558813095|-0.01775521226227...|0.013075215741991997|0.046749185770750046|-0.01320215966552496|-0.10040412098169327|0.002725061262026429|-0.01951549947261...|-0.04874643683433533|-0.06926055997610092|0.045936744660139084| 0.06326881051063538|0.001378398621454835|0.010544802062213421| -0.0611361563205719| 0.03371628373861313| 0.03038189373910427|-0.03723686188459...|-0.02968793362379074| 0.05619380995631218|-0.02951867505908...|-0.02884164080023...|-0.02857082709670067|0.028655456379055977| 0.06293029338121414|-0.02032794058322...|-0.02591346949338913| 0.04261928051710129| 0.07345817238092422|-0.03591664507985115|-0.01185655500739...|-0.02097112312912941|-0.00657145958393...|0.012482811696827412|-0.03066963329911232|0.005242780782282...|-0.01491167023777...| 0.06787264347076416|-0.03679678961634636|0.007058077957481146| 0.02048027329146862|-0.08896224945783615|-0.02874008566141...|-0.02151275053620...|0.013379881158471107|-3.66550346370786...|-0.02901089936494...| 0.07745266705751419|0.021038826555013657|0.002900666790083...|-0.01178885158151...|-0.00104093947447...|0.001153073273599...|-0.05808950215578079|0.013269863091409206|0.002765260171145...|0.008293664082884789|-0.01123029831796...|0.009114568121731281|0.017924470826983452|0.016037238761782646|-0.01831376552581787|0.019058503210544586|-0.00143975473474...|-0.02802920155227...| 0.04729081317782402|0.011120281182229519|-0.00631757220253...| 0.06323496252298355|-0.01724743656814...|-0.06898974627256393|-0.03422405943274498|0.027352167293429375| 0.03578123822808266|-0.02613350562751...|-0.02620120905339718|-0.01587644405663...|-0.00672379229217...|9.674179018475115E-4| 0.06320110708475113| 0.09749287366867065|-0.04001269862055...|-0.06441976875066757|-0.03347932174801...|-0.02965408191084...|0.014403894543647766|-0.05869883298873...| 0.02186819352209568| 0.05389189347624779| 0.08605100214481354|-0.02858775295317173|  0.0669247955083847| 0.09397229552268982| -0.1062266081571579|0.001984555507078767|-0.00182587560266...|-0.04404105246067047|0.014395431615412235|-0.02890934422612...|0.016985086724162102| 0.03652597591280937| 0.03132973983883858|0.003404210787266493|0.050202060490846634|0.010367080569267273|0.030737336724996567|0.013963823206722736| 0.07027611136436462|-0.01253358926624...|0.011433408595621586|0.016731198877096176|-0.07020840793848038| 0.11062733083963394| 0.07521846145391464|-0.00234211399219...| 0.04333016648888588|-0.04068973287940025|-0.02540569379925728|-0.07190099358558655|-0.00697344867512...| 0.01880461536347866|-0.04211150482296944|-0.07156247645616531| 0.04187454283237457| 0.08794669806957245|0.007900138385593891|-0.08232731372117996|0.040215808898210526| 0.04326246306300163|-0.05751402303576...| 0.02840156853199005| 0.03322543576359749|-0.00569977844133...|0.003194753313437...| 0.06844811886548996|0.007146938238292...|-0.07088544219732285|-0.04194224625825882| 0.08259812742471695| 0.05724320933222771|-0.01479318924248...| 0.02196974866092205|0.014903207309544086|0.014522375538945198|-0.02496562339365...|-0.01596107333898...|-0.02525336295366...| 0.03710145503282547| 0.01370147243142128|-0.01284671667963...|-0.04001269862055...|0.027876868844032288|0.021140381693840027|-0.01280440203845501|-0.02582884021103382|-0.02020945958793...|-0.03022956103086...|-0.05379033833742142|-0.04197609797120094|-0.00328149832785...|-0.03960647806525...|-0.00691420817747...|-0.04942347109317...|-0.01838146895170...| -0.0530456006526947|-0.03825241327285...|  0.0445149764418602|-0.02723368629813...| 0.01271130982786417| 0.12369408458471298|-0.07217180728912354|-0.01046863570809...|  0.0729842483997345|-0.03740612044930458|0.012355867773294449|-0.01106950361281...| 0.03364858031272888|  0.0146323936060071|-0.01538559421896...|-0.05409500375390053| 0.08002539724111557| 0.02027716301381588| 0.04976198822259903| 0.08104094862937927| 0.01290595717728138|0.038150858134031296|  0.1254543662071228|-0.04136676713824272| 0.04661377891898155| 0.08300434798002243|0.002441553166136...| 0.04806940257549286|1.449275587219745E-4|  0.0987115353345871|-0.04001269862055...| 0.04360098019242287|  0.0028456577565521|-0.03241299465298...| 0.06181319057941437|-0.02667513303458...|-0.01436157990247...|0.004280123393982649| 0.05057442933320999|0.013354492373764515| 0.06817730516195297|-0.09329526126384735|-0.05609225481748581|-0.03991114348173...|0.09566488116979599|-0.01577488891780...| 0.05175923556089401|-0.11556967347860336| 0.06164393201470375| 0.04245002195239067| 0.02136041782796383|0.017569027841091156|-0.01260129269212...|  0.0429239459335804|-0.02735216729342...|-0.01834761723875...|-1.12993242510128...|-0.03280228748917...|0.006914208177477121|-0.03427483886480...|-0.05511055514216423|-0.02985719218850...|0.005153920035809...|0.025101030245423317|-0.03557812795042...|0.030026450753211975|-0.02779223956167698|-0.04058817774057388|-0.02191897109150...|0.051386866718530655|-8.64804955199360...|0.023763887584209442|-0.00460806163027...|-0.03149899840354...|-0.05416270717978...|-0.11211680620908737| 0.06509680300951004|-0.03815085813403...|-0.01352375093847...|0.018076803535223007| 0.10169047862291336| 0.04424416273832321|-0.02631969004869461|-0.03835396841168...|-0.12552207708358765|0.056532327085733414| 0.08794669806957245|-0.02246059663593769|-0.00856447778642...|-0.02076801285147667| 0.04112980514764786|0.001727494178339839|-0.09160267561674118| 0.03168518468737602|0.028604678809642792|-0.02357770316302...|-0.02511795610189438|-0.07359357923269272|-0.02486406825482...|-0.06293029338121414|0.030720410868525505|0.002763144439086318|-0.03788004443049431| 0.05460277944803238|0.008843754418194294|0.002636200515553...| 0.06022216007113457|0.004013541154563427| 0.05808950215578079|-0.00781550910323...| 0.11340316385030746| 0.02513488195836544|0.010714060626924038|-0.00414471654221...|-0.02877393737435341|-0.02318840846419...| -0.0163334421813488|-0.02410240471363...|0.024474773555994034|-0.03371628373861313| 0.06658627837896347|-0.04495504498481...| 0.05609225481748581| -0.0338178388774395|0.021445047110319138|0.003543848870322...| 0.07420291006565094|-0.03315773233771324|0.005619380623102188|0.024390144273638725| 0.05206390097737312|0.010857930406928062|-0.01037554349750...| -0.0060340641066432|-0.00802285131067...|-0.00510314246639...| -0.0804993212223053|-0.03341161832213402|-0.01381149049848...|-0.00408547604456...|0.006258331704884...|0.055347517132759094|0.010849467478692532|-0.03021263517439...|-0.02085264213383...|-0.02049719914793...|-0.06174548715353012| 0.03513805568218231| 0.05243626981973648| 0.07569238543510437| 0.06526606529951096|0.012313553132116795|3.850630018860101...|-0.04918650910258293| 0.06042527034878731|-0.03689834475517273|0.005640537943691015|-0.01790754497051239| 0.07230721414089203|0.052774786949157715| 0.05863112956285477|-0.01760287955403328|-0.03940336778759...|-0.02313763089478016|-0.00908071640878...|  -0.016113406047225|-0.01387919392436...| 0.05666773021221161|0.007942453026771545|-0.02691209502518177|-0.03547657281160...|-0.05426426231861...| 0.06685709208250046|4.043690278194844...| 0.02811383083462715|  0.0471215546131134| 0.03479953855276108|   0.045090451836586| 0.02956945262849331| 0.02809690497815609|-0.00656299665570...|-0.05771713331341...| 0.04265313223004341|-0.01578335091471672|0.005098911002278328|  1|\n",
            "|0.035860564559698105|-0.05905349925160408| 0.01142880879342556| 0.04862133786082268|-0.04642312973737717|-0.04567797482013...|-0.00807095598429...|0.032879944890737534|0.010665024630725384|-0.05059599503874779|-0.03343881294131279|0.011447437107563019|-0.02880022488534...|-0.00525799719616...|0.010264504700899124|0.026844194158911705| 0.04623684287071228|-0.04959003627300...|-0.04526814073324...|  0.0491056889295578|-0.04400137811899185|-0.00472707441076...|-0.06359894573688507|-0.07824122905731201| 0.11833054572343826|-0.02041723579168...|0.010469421744346619|-0.00652475981041...| 0.08092378824949265|-0.03062585368752...|-0.05122937634587288|-0.03578604757785797|-0.01683118008077...| -0.0953797847032547| 0.03107294626533985|-0.05238436907529831|-0.02064078114926815|-0.00575166195631...|-0.01633751392364502|0.019783854484558105|-0.02321156486868...|  0.0436660572886467| 0.03522718325257301|-0.03669886291027069|0.026024524122476578|0.042287521064281464|0.055849336087703705|0.008834739215672016|-0.00812218524515...| 0.09493269771337509| 0.03122197650372982| 0.02848353423178196|-0.04985084012150...| -0.0636734589934349|0.004070406779646...| 0.01365495752543211|5.414013867266476E-5|0.012472025118768215|-0.00915142986923...|-0.01342209707945...|-0.00660858955234...|-0.06240669637918472| 0.08055120706558228| -0.0723545104265213|-0.04143059626221657|0.025894122198224068|-0.08897145837545395|0.034016307443380356| 0.02131142094731331|-0.04899391531944275| 0.08554374426603317|6.653997697867453E-4|-0.02945223450660...|-0.01511732395738...| 0.05175098776817322|0.003979591187089682| 0.04221300780773163|-0.03470557555556297| 0.07958251237869263|-0.02164673991501...|0.015247725881636143|0.001112492522224784|-0.04273461550474167|0.039903029799461365|0.023863576352596283|-0.01060913875699...| 0.01588110625743866|-0.05413547903299332|0.006706391461193...|-0.01541538536548...|  0.0882263034582138|-3.87422158382833E-4| -0.0603947788476944|-0.02069666795432...|6.665640394203365E-4|-0.01624437049031...| 0.06113993376493454|-0.06806986778974533|-0.04232478141784668| 0.05979865416884422|8.336416794918478E-4|-0.00796849653124...|-0.04303267598152...| 0.03923238813877106| -0.0851711705327034|-0.06806986778974533| 0.03384864702820778|-0.00297828973270...|0.022242864593863487|0.016831180080771446|-0.06076735630631447|-0.02419889532029...| 0.01970933936536312|0.017911653965711594| 0.01692432351410389|-0.03979125618934...|-0.01811657100915...| 0.05655723437666893|-0.01207150425761...|-0.03971673920750618| 0.03319663554430008|  0.0354134701192379|-0.05078228563070297|-0.07596851140260696|-0.06747374683618546|-0.02200068905949...|-0.06449312716722488| 0.03004835918545723|-0.06013397499918938|-0.02228012122213...| 0.03470557555556297|-0.08666148036718369| 0.10312939435243607|-0.07764510810375214|-0.07846477627754211|0.010637082159519196|-0.03084939904510975|  0.0475781187415123|0.026341214776039124|-0.00506239384412...| 0.07853929698467255|-0.07771962136030197|-0.08107282221317291|0.012341623194515705|-0.04061092436313629|0.001965345116332...|-1.12155221358989...|0.050633255392313004|0.045417170971632004|0.006645847577601671|-0.01240682415664196|  0.0341094508767128| -0.0135245556011796| 0.03554387390613556|-0.02449695765972...|-0.03703418374061...| 0.06594618409872055|-0.02485090494155...|-0.06356168538331985|-0.00549085764214...|-0.02514896728098...|-0.01828423142433...| 0.04999987408518791|0.028781596571207047| 0.05212356150150299| 0.08986563980579376|-0.03798425570130348| 0.03926964849233627|-0.09172853082418442|-0.06650504469871521| 0.07667640596628189|-0.02239189483225...|-0.01623505540192...|0.061847832053899765| 0.02559605985879898|-0.02133004926145...|-0.01182932872325182| 0.02809232845902443|0.017436617985367775|-0.01950442045927...|0.004983221180737019|0.014064792543649673| 0.05711609870195389|0.016290942206978798|-0.14605030417442322|0.005360455717891455|-0.01399959158152...| 0.08926951885223389|-0.03233971074223...| 0.09612493962049484|0.009333061054348946|-0.02064078114926815| 0.03871078044176102|  0.0317249558866024|-0.01251859683543...|3.376481763552874...|-0.00639435788616...|0.036624349653720856|-0.04426218196749687|0.026434358209371567|-0.00277104368433...|0.007912610657513142| 0.03496637940406799|-0.01109348889440298|  0.0024031235370785|3.024279722012579...|-0.14843478798866272|0.031538669019937515|-0.07652737945318222|-0.08740663528442383| 0.04698199778795242|-0.01784645207226...|-0.04202671721577...|0.032339710742235184|  0.0057842624373734|-0.01496829278767109| 0.08002959936857224|0.022522296756505966|-0.01349661219865...| 0.04783892259001732|-0.05271968618035...|0.035748790949583054|0.020733926445245743|0.014558457769453526|-0.04884488135576248|-0.00358838494867...|0.004298610612750053|-0.07295063138008118| -0.0399775430560112|0.012937746942043304|-0.02619218453764...|0.026285327970981598|0.006124239414930344|0.008713651448488235|-0.01507075130939...| 0.06650504469871521|-0.03697829693555832|0.017138555645942688|0.029731668531894684|-0.03735087439417839|0.021590854972600937|  0.0438896045088768|-0.05629643052816391| 0.08189249038696289| -0.0827866718173027|-0.00594260776415...|-0.04254832863807678|-0.07965702563524246|0.060283005237579346|  0.0423620380461216|0.029228689149022102| 0.06568537652492523| 0.04634861648082733| 0.02444107085466385| 0.07488803565502167| 3.14544013235718E-5|-0.03064448200166...|-0.01047873590141...|-0.06631875783205032|0.016505174338817596|0.004973907023668289|-5.04725787322968...|-0.06933663785457611|-0.00594260776415...| 0.03109157457947731|-0.00267789931967...|-0.00405876385048...|0.028297245502471924|-0.01916910149157...|0.029340460896492004|0.001234162249602...|-0.02153496816754341|-0.01608602516353...| 0.06695213913917542| 0.03004835918545723| 0.04843504726886749|-0.05629643052816391|-0.01939264871180...|  0.0673619732260704|0.002738443203270...|-0.04318170994520...| -0.0925481989979744|0.011168004013597965|-0.08308473974466324| 0.04452298581600189|0.008462161757051945|0.003308952087536454|0.013487298041582108|-0.00455475738272...|0.004165879916399717| 0.04314444959163666| 0.01195973064750433|-0.02814821526408...| 0.03291720524430275|-3.70248686522245...|-0.01456777192652...| -0.0647539347410202|   0.029005141928792| 0.03235833719372749|-0.05324129387736...|-0.02760797739028...| 0.01946716383099556|0.019523050636053085|-0.06725019961595535|-0.02876296639442444| 0.05644546076655388|0.010646396316587925|   -0.12861368060112|-0.04728005826473236|-0.01615122519433...|-0.01530361268669...|0.020845700055360794|-0.07622931152582169|-1.00348457635845...|-0.01680323667824...|-0.03230245038866997|-0.00673433439806...|-0.02255955524742...|-0.02818547189235...|-0.04571523517370224| 0.05849463492631912|-0.01286323089152...| 0.07943347841501236| 0.01024587545543909|  0.0265088751912117| -0.0436660572886467|-0.07786865532398224|0.018954869359731674|-0.00862982124090...|0.014893777668476105|-0.01394370477646...|0.009272517636418343|0.001100267283618...|0.008471475914120674|-0.02531662769615...|0.010320390574634075|-0.04970180988311...|-0.02352825552225113|0.021609483286738396| 0.06892679631710052|-0.06505199521780014|-0.07876283675432205|-0.07220547646284103| 0.07675091922283173|-0.00720005622133...|0.045379914343357086|0.054023709148168564|0.015173209831118584|0.016570374369621277|  0.0751860961318016|-0.02876296639442444| 0.07101323455572128|0.008578591980040073|-0.00476898951455...|-0.02082706987857...|0.019951514899730682| 0.04713102802634239|-0.03062585368752...|-0.04090898856520653|-0.00268488517031...|0.006915966048836708|0.007269914261996746|-0.01948579214513302| 0.01931813172996044| 0.03068174049258232|0.016030138358473778| 0.03211616352200508| 0.03183672949671745|  0.0180327408015728|-0.03600959479808...|  0.0775705948472023|0.03919513151049614|4.599000967573374...|-0.01527566928416...|-0.02853942103683...| 0.02337922528386116|0.027216771617531776|0.006874050945043564|-0.04429943859577179|-0.02947086468338...|-0.03794699907302...| 0.10067038238048553|0.038338202983140945| 0.03412808105349541| 0.02757071889936924|0.020808441564440727|-0.03014150261878...|0.019411277025938034|-4.94829204399138...|0.003034176304936409|-0.02958263643085...|-0.06013397499918938|-0.02187028713524...|-0.04232478141784668|0.015461958013474941|-0.02982481196522...|-0.01500555034726...|-2.06955039175227...|-0.02669516392052...|0.011372921988368034|0.024329297244548798|-0.04728005826473236|-0.03029053471982479|-0.02883748151361...|-0.06013397499918938|-0.00796849653124...| 0.00903965625911951|-0.01773467846214...| 0.03437025472521782|-0.06915034353733063|-0.02866982296109...|-0.05923978984355...|-0.01184795796871...|0.051676470786333084|-0.09657203406095505| 0.11184770613908768|0.017781252041459084| 0.03444477170705795|-0.02239189483225...|-0.03826368972659111|-0.08181797713041306|  0.0354134701192379|-0.06505199521780014|-0.00169406237546...|-0.02157222479581833|-0.00114567519631...|0.010413534939289093|-0.05093131586909294|-0.09508172422647476|0.015769334509968758| 0.02013780176639557|0.011521953158080578|0.023584142327308655|0.027794266119599342|-0.06207137554883957|-0.00173248443752...|-0.05309226363897...| 0.05413547903299332|-0.00227970723062...|-0.02540977112948...|-0.01371084433048...|-0.01535018440335989|-0.01540607120841...|0.040573667734861374|-0.06814438849687576|-0.07861381024122238|0.048286017030477524|  0.0219448022544384|0.005998494569212198|0.014167251996695995|-0.02984344027936...|-0.01660763286054...|-0.01536881364881...|0.046199582517147064| 0.08986563980579376| 0.04936649277806282|-0.02913554385304451|0.001532224123366177| 0.06274201720952988|-0.05938882008194...| 0.10611001402139664|0.002289021853357...|0.002045682165771723|-5.26556512340903...| 0.02218697778880596|-0.00993849895894...| 0.05316678062081337|0.009072257205843925| 0.03291720524430275|-0.06900131702423096|-0.05607288330793381|-0.04690748080611229|0.007921924814581871|-0.08032766729593277| 0.04925471916794777| -0.0619223453104496|0.024888163432478905| 0.03967948257923126|0.001192247378639...|-0.01396233402192...|-0.00455708615481...|0.014204509556293488|-0.02529799751937...|0.011875901371240616|-5.87245849601458...| 0.11989537626504898|-0.03418396785855293| -0.0245528444647789|-0.00471310270950...|-0.01413930859416...|-0.05394919216632843|0.011335664428770542|  0.0675855204463005|-0.01888035424053669| 0.03712732717394829|-0.00993849895894...|-0.00313197798095...|-0.10953772068023682| 0.07682543992996216|-0.01649585925042...|  0.0402010902762413|0.010050272569060326|-0.02024957537651062|0.040946245193481445|0.003942333627492189| 0.08979112654924393| 0.03863626345992088| 3.03010136121884E-4|-0.05991042777895...| 0.09485817700624466|-0.02334196679294...| 0.06579715013504028|  2|\n",
            "|-0.05834035575389862|-0.00796995311975...| 0.01931559294462204|0.015213300473988056|-0.02882201410830021|-0.03581558912992...|-0.01771100610494...|-0.00691788876429...| 0.02942751720547676|-0.03738990053534508|-0.01211765874177...|0.004299081861972809|-0.08368071913719177|0.006713530980050564| 0.08380182087421417| 0.08489172905683517|-0.01958806999027729|0.004034173674881458|-0.04147705808281...| 0.05479815602302551| 0.01886146515607834|-0.01501651108264...|-0.03098669275641...|-0.07683851569890976|0.041446782648563385|-0.04002384468913078|-0.03160733357071...|-0.04247613996267319|-0.02665733546018...|-0.02058715187013...|-0.02706605009734...|-0.04259724169969559|0.046351369470357895|-0.03047201409935...|0.027626141905784607|0.031213756650686264|0.016333483159542084|0.013873621821403503|-0.00989999808371067|-0.01042224559932...| 0.00996811781078577|   0.049106415361166|-0.02158623561263...|-0.02350871078670025| 0.02375091426074505|0.008484631776809692|-0.08083485066890717| 0.01983027160167694|-0.01317729149013...|-0.03272751718759537| 0.06993576884269714| 0.07580915838479996|-0.04223393648862839|-0.03124403208494...|-0.00317889847792...|0.022736692801117897| 0.03844953328371048|-0.02712660096585...|-0.01251123659312725|-0.01525871269404...|0.007250916212797165|-0.06154952943325043|-0.05746237561106682|   0.024401830509305|-0.04032659903168678|-0.00678921910002...|0.025264674797654152|0.036209169775247574|-0.00689518218860...|-0.04114402830600...|0.003913072869181633|-0.01583394221961...|-0.01866467483341694| 0.03487705811858177|0.022766968235373497|-0.01004380546510...| -0.0482889823615551|-0.04408072680234909|-0.02708118781447...| 0.02411421574652195|-0.10372291505336761|-0.01621238328516...|0.010157337412238121|-0.04368714988231659| -9.2481350293383E-4| 0.01453210785984993| 0.00482889823615551| 0.03502843528985977|-0.09288439154624939|0.050711002200841904|-0.05331467092037201|-0.05273944139480591|-0.01337407995015...|-0.00658107688650...|-0.03493760898709297|0.012322016060352325| 0.06351742148399353|2.597046550363302E-4|0.015500915236771107| 0.06400182098150253| 0.06321466714143753|-0.02279724366962...|-0.01031628251075...|-0.02744449116289...|-0.00301806139759...|-0.05155870690941...|-0.00642970064654...|0.010876374319195747|-0.02411421574652195|-0.01911880448460579|-0.02583990432322...| -0.0488944873213768|-0.01097476854920...|-0.04498898237943649|-0.03599724173545...|  0.0239779781550169|0.026172932237386703|-0.04059907421469...|-0.01369197014719...|-0.01967889629304409| 0.07429540157318115|0.031577058136463165|-0.05722017213702202| -0.1426568627357483|0.003233772469684...| 0.07659631967544556|-0.10239081084728241| 0.05758347734808922|-0.09203667938709259|-0.03415045142173767| 0.02462889440357685|-0.04326329380273819| 0.02856467477977276|-0.04468623176217079|-0.01042981445789...|-0.00540791172534...|-0.02309999614953...| 0.07132843136787415|-0.00544575601816...|0.022827519103884697| 0.05325412005186081|0.004208256024867296| 0.13224217295646667|-0.00828027352690...|-0.01291238330304...|5.459001404233277E-4|-0.04011467099189758| 0.01880091428756714|-0.02714173868298...| 0.06442567706108093|-0.02154082246124...|0.020980730652809143|0.060610998421907425|-0.03947889059782028|-0.00278532062657...|-0.10378346592187881| 0.06460732966661453|0.008923622779548168|-0.06273026764392853|-0.01597018167376...|-0.03309081867337227| -0.0243866927921772|0.008893347345292568|-0.03133485838770...| 0.01454724557697773|-0.00461318716406...|-0.00949128251522...|-0.03127430751919...|-0.04283944144845009| 0.03863118588924408| 0.07677797228097916| 0.12013208866119385|0.056039441376924515| 0.07066237181425095|-0.00389036629348...|-0.00922637432813...| 0.00938531942665577|-0.00270963250659...| 0.08925136178731918|0.011118575930595398|0.005498737562447786|0.025446325540542603|0.007557452656328678|-0.03160733357071...|0.002883715089410...|-0.02070825360715...| 0.06509172916412354|-0.00201141019351...|-0.00438990769907...|-0.04604861512780...|-0.04411100223660469|-0.05879448726773262|-0.01410068571567...|-0.00203222432173...| 0.05843118205666542|-0.05137705430388...|-0.00381467817351...| 0.11335043609142303|0.031940363347530365| 0.03551283851265907|-0.08004768937826157|-0.01824082247912...| 0.00240120361559093| 0.03408990427851677|-0.07659631967544556|-0.10602383315563202|-0.02261559292674...|-0.01707522571086...| 0.03272751718759537| 0.06587889045476913|0.030108710750937462| 0.08531558513641357|0.030926141887903214|0.005124081857502...|-0.00759151251986...|-0.00932476948946...|0.036633022129535675|-0.03021467290818...|0.050650451332330704|-6.38618017546832...|-0.07042016834020615|0.041022930294275284|0.013124309480190277|-0.06145870685577...|-0.03010871075093...|-2.11335252970457...|0.013283254578709602|0.008439218625426292|-0.02685412392020...|-0.00901444815099...|-0.01687843725085...|0.035815589129924774|-0.05561558529734...|-0.01541008893400...|-0.02583990432322...|-0.03290916979312897|-0.06920916587114334|-0.01378279551863...|0.027898618951439857|0.046199992299079895|-0.07350824773311615|0.013480043970048428|0.029942195862531662|0.016439447179436684|-3.60937439836561...|-0.00508245313540...|-0.00849220063537...|-0.03720825165510...| 0.05967246741056442|0.012571786530315876|-0.01537981349974...|-0.02020871266722679|-0.03956971690058708|0.007992658764123917| 0.07017797231674194|-0.01415366772562...|-0.01798348315060...|-0.03551283851265907|-0.04674494639039...|-0.03675412386655...|-0.06654494255781174|-2.12990926229394...|-0.01502407994121...| 0.07520365715026855|0.017771556973457336|-0.01571284048259...| 0.03275779262185097|0.026505958288908005| 0.08791925013065338|0.027217427268624306| 0.03920641541481018|  0.0493788905441761| 0.08440732210874557|0.020435776561498642| 0.07393209636211395|0.029972471296787262|-0.06830090284347534|0.015379813499748707|0.031698159873485565|0.017499079927802086|-0.01527385041117...|-0.08834310621023178|-0.01998164877295494| 0.05803760513663292|-0.04193118587136...|-0.01828623563051...|0.017589904367923737| 0.01874036341905594|0.005865824874490...|0.008091053925454617| 0.06860365718603134| 0.06430457532405853|-0.00784885231405...|-0.03209173679351...|0.027066050097346306|-0.02334219776093...|0.003527063643559...| 0.08646604418754578|0.013199998065829277| -0.0945192500948906|  0.0947614535689354| 0.10602383315563202| 0.05279999226331711|-0.01625779457390...|-0.00934747513383627| 0.02953348122537136|0.013646556995809078|-0.07060182094573975|0.014668346382677555|-0.03696604818105...|0.014963530004024506|0.016212383285164833|0.017362840473651886|-0.02331192232668...| 0.07835227996110916|-0.05037797242403...|-0.10911190509796143| 0.07689906656742096|0.040629349648952484|0.022418804466724396| 0.17196327447891235| 0.06164035573601723| 0.04465595632791519|-0.01783210784196...|  0.0490155890583992|0.018104584887623787|0.051407329738140106|-0.06987521797418594| 0.02983623370528221|-0.06478898227214813|0.011867888271808624|0.005059747025370598|-3.24039516272023...| -0.0470779724419117|-0.05894586071372032|  0.0122690349817276|0.010255732573568821|-0.01005894318222...|-0.01830137334764...|0.015637153759598732|  0.0249013714492321|-0.07005687057971954|1.054310996551066...|0.036996323615312576|-0.01615183241665...|0.031365133821964264|-0.00698979245498...|-0.10553943365812302|0.011126144789159298|  0.0499238446354866|-0.04623026773333...|0.013449768535792828|-0.02305458299815...|0.060338523238897324| 0.00484025152400136|-0.08095595240592957|0.022358253598213196|-0.06333576887845993|-0.03950916603207588| 0.01925504207611084|  0.0481678806245327| 0.03554311394691467|-0.05228531360626221|0.007693691179156303| 0.03312109410762787|-0.00354598555713892| 0.05316329374909401|-0.02904907800257206|-0.03303026780486107|-0.05286054313182831|  0.0481678806245327|0.09191557765007019|0.002221444621682167| 0.03826788440346718|-0.03098669275641...| 0.07423485070466995|-0.04365687444806099|-0.00117505714297...|-0.01366169471293...|-0.02408394031226635| 0.05927889049053192|-4.21251374064013...|-0.07471925020217896|-0.08053209632635117| 0.05967246741056442|-0.02025412581861019| 0.04535228759050369| 0.06939081102609634| 0.02405366487801075| -0.0476834774017334|-0.01453210785984993| 0.04526146128773689| 0.10457062721252441|-0.06926971673965454|  0.0471990741789341|0.017166052013635635| 0.02835274673998356|-0.00967293418943882| -0.0499843955039978|-0.02817109599709...|0.020965592935681343|-0.10136145353317261|0.012291740626096725|0.001719065126962...|-0.01176192425191...|0.036148618906736374| 0.08283301442861557|-0.02025412581861019| 0.02352384850382805|-0.05561558529734...|-0.03654219582676...|-0.05116512998938...| 0.03757155314087868|7.237670943140984E-4|-0.03342384845018387|0.004662384744733572|  0.0244321059435606|-0.02862522378563881|-0.04538256302475929|-0.02179816178977...|-0.03142568096518...|-0.00711846211925149|-0.03660274669528...|0.001937614404596...|0.007459058426320553|  0.0478045791387558|-0.01549334637820...| 0.01933073066174984|-0.04544311016798...|-0.03536146134138107|0.005173278972506523|-0.06745319813489914|-0.00852247606962...|-0.04023577272891998|-0.03917613998055458|-0.08913026005029678|0.017877519130706787|-0.07599081099033356|0.040962379425764084| 0.04262751713395119|-0.04314219579100609|-0.01810458488762...|-0.01537981349974...|-0.02185871265828...|-0.06139815598726...|0.059944942593574524|-0.03378714993596077|-0.02939724363386631|-0.08168255537748337|-0.02151054702699...|0.001130590448155...|-0.02216146327555...|-0.07774677872657776|  0.0121555021032691| 0.07011742144823074|-0.01429747510701418|  0.0481073297560215|-0.00436720112338...|-0.01005894318222...|0.012904814444482327| 0.06297246366739273|-0.03393852710723877|-0.02350871078670025|0.002611238043755293| 0.05410182476043701| 0.04308164492249489|-0.00591880641877...|0.016621097922325134| 0.08386237174272537|-0.02214632742106...|-0.12521833181381226|0.027308251708745956|0.055343110114336014|0.002866685390472412|-6.77881180308759...|-0.05470732972025871|0.006047476083040237|-0.02956375665962696|  0.0250376109033823| 0.03796513006091118|-0.07508255541324615|0.007742888759821653|-0.01447912584990263|-0.00204546982422...| 0.02859495021402836|0.041174303740262985|-0.04302109405398369| 0.03548256307840347|-0.03732934966683388|-0.04450457915663719|-0.04541283473372...|0.014161236584186554| 0.00999839324504137|-0.01082339230924...| 0.07314494252204895|-0.02585504204034...| 0.06678714603185654|-0.06908806413412094|-0.06442567706108093|0.021465133875608444|0.023160547018051147|0.027232564985752106|0.011156420223414898|0.017075225710868835|0.030517425388097763|-0.00250338250771...|0.018346786499023438|0.008386237546801567| 0.06999631971120834|-0.04335412010550499|-0.00614965474233...|-0.02311513386666...|  3|\n",
            "| 0.01998496614396572| 0.05075598508119583|-0.01050263457000...|-0.01779860444366932|-0.03779976442456...|-0.08382672816514969|-0.00134319544304...| 0.03221239522099495|0.034949399530887604|-0.01484296750277...| 0.03692522272467613|-0.05716931074857712|  -0.055938471108675|-0.02058419212698...|0.046124134212732315| 0.06027880311012268|-0.00968477316200...|-0.03527330234646797|-0.05703974887728691|0.024973109364509583|-0.00952281989157...|0.014446183107793331|-0.00619064271450...|-0.04019666463136673| 0.13306036591529846| 0.09276652336120605|-0.06196311116218567|-4.02604346163570...|0.003927353769540787| 0.01703742705285549|-0.03779976442456...|-0.03799410909414...|0.049460362643003464|0.008057148195803165|-0.01503731030970...|-0.04680433869361...|0.043079424649477005|-0.00722309155389...| 0.03643936291337013|0.009061254560947418| 0.03559720888733864|0.014097984880208969|0.030706236138939857|0.002939441939815879| 0.10209500044584274|-0.02466540038585663|-0.02330499701201...| 0.07203657180070877|-0.00779802352190...| 0.06105617806315422|0.014567647129297256|0.005810054019093...|0.015612242743372917|0.047095853835344315|-0.02618775516748...|0.009182719513773918|-0.03637458011507988|0.014300425536930561|0.049654703587293625|0.034463539719581604|0.024552032351493835|-0.00819480791687...|-0.05619759485125542|-0.01362832169979...|0.006437620613723993|-0.02194459363818...|-0.01366881001740694|-0.02000116184353...|-0.12224191427230835|-0.02466540038585663|-0.01697264611721...|-0.05891840159893036|-0.07793164998292923|-0.01132859289646...| 0.04761410132050514| 0.04988143965601921|3.659119247458875E-4|-0.03397767990827...|-0.01885129697620...|-0.04158946126699...|-0.04971948638558388| 0.09814335405826569|-0.02061658166348...|-0.02327260747551918|0.028957147151231766| 0.04207531735301018|-0.03295737877488136|-0.03527330234646797|0.005882932804524...|-0.05665106326341629|0.059857726097106934|-0.00467233592644...|  0.0772838369011879|-0.00940135587006...|-0.02192839980125...|-0.02068136259913...|-0.03358899429440...|0.055420223623514175|-0.04524959251284599|-0.00238475389778...|0.027645330876111984|-0.00556307611986...| 0.04301464185118675|-0.04233444109559059|0.018462611362338066|-0.00979004241526...|-0.00338278757408...|-0.09503386169672012|-0.01039736531674...|-0.00108811992686...|-0.09477473795413971|-0.02280294336378...|0.030754823237657547|0.020956682041287422|-0.00152438005898...|-0.02589624002575...| 0.08402107656002045|0.004020476248115301| 0.04881254956126213|-0.00984672550112009|0.011085663922131062|0.014810577034950256|-0.10902657359838486|-0.10280758887529373|-0.06610910594463348| 0.06951010972261429|-0.01933715492486...|-0.03472266346216202| 0.06079705432057381|-0.03498178720474243| -0.0463508702814579| 0.03305455297231674|0.062287017703056335|0.007162359077483416|-0.04466656222939491|0.043565284460783005|0.014421890489757061|-0.05959860235452652|-0.09963331371545792| 0.00476545887067914|-0.01296431571245...|0.009919604286551476| 0.02471398562192917|-0.02374226972460...|-0.01271328888833...|0.003382787574082613|-0.02746718190610...|0.013150561600923538|-0.06912142038345337|0.004939557984471321|0.025944827124476433|-0.05924230813980...| 0.03362138569355011|-0.04282030090689659| -0.0317913182079792|-0.05305571109056473| 0.06795535981655121|-0.03002603538334...|-0.05150096490979...|-0.04560588672757149|-6.32121751550585E-4| 0.05950143188238144| 0.07929205149412155|  0.0439215786755085|0.036892831325531006|0.014519061893224716|0.004295796155929565|-0.08622363209724426|-0.07216613739728928|-0.01540980208665...| 0.05354157090187073|-0.00225519179366529|-0.03517613187432289|-0.05299093201756...|-0.02641448937356472|0.024778766557574272|-0.01385505590587...|-0.00644571846351...|-0.02226850017905...| 0.00393140222877264|-0.04618891701102257|-0.01039736531674...|0.028195969760417938| 0.03812367096543312|-0.03413963317871094|0.019466716796159744| -0.0357915535569191|-0.03326509147882...|0.037799764424562454|-0.05661867186427...| -0.0163815189152956| 0.06031119450926781|-0.00193027406930...|-0.07112963497638702|-0.03686043992638588|-0.06180116161704...|-0.01197640411555767| 0.04418070241808891| 0.01818729005753994| 0.06584997475147247|-0.07320263236761093| 0.09101743251085281| 0.04716063290834427|0.009717163629829884|-0.02346695028245449| 0.07695993781089783|-0.03605067729949951| 0.03637458011507988| 0.05195443332195282|-0.02678698115050...| 0.06607671082019806|-0.02557233534753...|0.038479968905448914|-0.00596795789897...| 0.09134133905172348|-0.03128926455974579|-0.01292382739484...|-0.08266066759824753|-0.02330499701201...| 0.05966338515281677|-0.09380301833152771|0.019806819036602974|-0.01096419990062...|0.008672568015754223|-0.00195861584506...| 0.00987101811915636| 0.07080572843551636|-0.03064145520329...|-0.01775001920759678|-0.01256753131747...|-0.04291747137904167| 0.06808492541313171|-0.02845509350299...|-0.02131297811865...|-0.02267338149249...|-0.03094916604459...|-0.10481580346822739| 0.04090925678610802|0.020260285586118698|0.029038123786449432|-0.12392622232437134|-0.00884261913597...|0.020729947835206985|0.014470475725829601|-0.00741338590160...|-0.01032448653131...| 0.01289143692702055|-0.01212216168642044|-0.01569321937859...| 0.09995722025632858| -0.0463508702814579|-0.10345540195703506|0.029232466593384743| 0.05334722623229027| 0.04272313043475151|0.026398293673992157|-0.03242293372750282|-0.01257562916725874| 0.04090925678610802|-0.01018682681024...|0.028795193880796432|-0.00112658366560...|-0.03595350310206413|0.006453816313296...|-0.01949910819530487|0.011012785136699677|0.014551452361047268|-0.05979294702410698|0.016219565644860268| 0.01521545834839344|0.060149241238832474| 0.05185726284980774|-0.01428423076868...| 0.03472266346216202|-0.01809011958539486| -0.0793568342924118|  0.0091908173635602|-0.03145121783018112| 0.03575916215777397| 0.05276419594883919|0.023920416831970215|  0.0487801618874073| 0.05146857723593712| 0.07236047834157944|0.055420223623514175|-0.01187113486230...| 0.03948407247662544| 0.02398519776761532| 0.02259240485727787|7.778792059980333E-4| 0.03922494873404503|0.006393083836883...|-0.00785875599831...|-0.04003471508622...|0.042399223893880844| 0.01881890743970871|-0.03018798865377903|-0.00158713664859...| -0.0487801618874073|-0.08648275583982468|0.012802362442016602| 0.04502285644412041|0.039160169661045074|0.001384695759043...| 0.02834172733128071| 0.06665974110364914| 0.04855342581868172|-0.06970445066690445|-0.02571809291839...|-0.05188965424895...|0.003933426924049854|-0.01206547766923...|-0.02089190110564232| 0.01645439676940441|0.001276389928534627| -0.1068888008594513|-0.01434901170432...| 0.03550003841519356|-0.05347678810358...|-0.10714792460203171|0.011863037012517452|-0.00862398277968...|0.057687561959028244|-0.01925617828965187|-9.74246882833540...|0.003641911782324314|-0.06487826257944107|-0.04686911776661873|-0.00345971505157...|-0.03776737675070...|-0.04204292595386505|6.306034047156572E-4|0.010980394668877125|0.027564354240894318|0.038771484047174454|0.021539712324738503|-0.02464920468628...|-0.00756724085658...| 0.06332351267337799|-0.00779802352190...|-0.08104114234447479|-0.00706518767401576|0.041524678468704224|0.058659277856349945| 0.06183354929089546|-0.03449593111872673| 0.06277287751436234|-0.02686795778572...|0.018252072855830193| 0.01291572954505682|-0.03094916604459...|-0.01796055771410...|  0.0279692355543375|0.043662454932928085|-0.03103014267981...|0.008672568015754223|-0.07475737482309341|-0.10300192981958389|-0.04981665685772896| 0.06938054412603378|-0.08259589225053787|  0.0687975138425827|-0.03945168480277...|-0.06257852911949158| 0.06633583456277847| 0.05762277916073799|-0.10513971000909805|-0.05286137014627457| 0.02351553551852703|-0.01094800420105...|0.046512823551893234|0.09114699065685272|0.011879232712090015|-0.01424374245107174|-0.02275435812771...| 0.05587368831038475|0.004554920364171...|0.017976751551032066|-0.00468448270112...| 0.03284401074051857|-0.01671352051198...| 0.03313552588224411| 0.01306148711591959| 0.00505697401240468|-0.00155677052680403|-0.00838105380535...|-0.01568512059748...| 0.10287237167358398| 0.03958124667406082|-0.01374978665262...|0.029864082112908363|-0.06905664503574371|0.014851064421236515|-0.01980681903660...|0.010624098591506481|-0.01460813544690609| 0.07119441777467728|0.008453932590782642|-0.00209526345133...|-0.02213893830776...|0.010405462235212326|-0.01679449714720...|-0.00287263654172...| -0.0822719857096672|0.014187058433890343|-0.04045579209923744|-0.06364741921424866| 0.09393258392810822|-0.01034068129956...|-0.06957489252090454| 0.07495172321796417| 0.02142634615302086|0.003058882197365...| 0.02519984357059002|0.009887213818728924|-0.00185030989814...|0.048456255346536636|-0.07495172321796417|-0.07521084696054459| 0.05911274626851082|-0.04729019477963...|-0.01993638090789318|-0.02226850017905...|0.027661524713039398|0.013029096648097038|-0.01804153434932232|0.007992367260158062|-0.00588698172941...|0.013903641141951084| 0.00984672550112009|-0.00164078350644...|-0.00391723169013...|0.011603912338614464|   0.101188063621521| -0.0649106502532959|-0.01867314986884594| -0.0372491255402565| -0.0357915535569191|0.016413908451795578| 0.06724277138710022|-0.06665974110364914|-0.02657644264400...|-0.01596853882074356|-0.02035745792090...| 0.00789924431592226|  0.0822719857096672|-0.04087686911225319|-0.02936202846467495|-0.06267570704221725|-0.04398636147379875| 0.05652150139212608|-0.01571751199662...|0.006077276077121496|0.008955985307693481|-0.04787322506308...| 0.03501417860388756|  0.0473225861787796|-0.04087686911225319|-0.01702123135328293|0.007267628330737352|0.057298872619867325|-0.03222859278321266|0.034463539719581604|-0.01932095922529...|-7.97617190983146...|-0.04191336408257...|  0.0658823698759079| 0.04625369980931282|0.040034715086221695|0.013717396184802055| -0.0149239432066679|0.018932273611426353| -0.0606674924492836|-0.00402857409790...|0.043953970074653625| 0.08136504888534546| 0.04958992451429367| 0.03721673786640167|-0.04890972375869751| -0.0195962805300951|-0.05075598508119583|-0.01374978665262...|-0.12295451015233994|-0.03159697726368904| 0.02322402037680149|0.003963793162256479|0.010267802514135838|0.055711738765239716|-0.13293080031871796|-0.00598010420799...|-0.05639193952083...|-0.01690786518156...|-0.00469662901014...|-0.01186303701251...|-0.02315923944115...| 0.02767772041261196|-0.03103014267981...|-0.06497543305158615|  0.0411359928548336| 0.02728903479874134| 0.01455955021083355|-0.01472960039973259|-0.04204292595386505|-0.04035861790180206|-0.04333854839205742|0.004692580085247755|0.005482099950313568|-0.00141101307235...|-0.02030887082219124|0.012251723557710648|0.008089538663625717| 0.10008678585290909|  4|\n",
            "+--------------------+--------------------+--------------------+--------------------+--------------------+--------------------+--------------------+--------------------+--------------------+--------------------+--------------------+--------------------+--------------------+--------------------+--------------------+--------------------+--------------------+--------------------+--------------------+--------------------+--------------------+--------------------+--------------------+--------------------+--------------------+--------------------+--------------------+--------------------+--------------------+--------------------+--------------------+--------------------+--------------------+--------------------+--------------------+--------------------+--------------------+--------------------+--------------------+--------------------+--------------------+--------------------+--------------------+--------------------+--------------------+--------------------+--------------------+--------------------+--------------------+--------------------+--------------------+--------------------+--------------------+--------------------+--------------------+--------------------+--------------------+--------------------+--------------------+--------------------+--------------------+--------------------+--------------------+--------------------+--------------------+--------------------+--------------------+--------------------+--------------------+--------------------+--------------------+--------------------+--------------------+--------------------+--------------------+--------------------+--------------------+--------------------+--------------------+--------------------+--------------------+--------------------+--------------------+--------------------+--------------------+--------------------+--------------------+--------------------+--------------------+--------------------+--------------------+--------------------+--------------------+--------------------+--------------------+--------------------+--------------------+--------------------+--------------------+--------------------+--------------------+--------------------+--------------------+--------------------+--------------------+--------------------+--------------------+--------------------+--------------------+--------------------+--------------------+--------------------+--------------------+--------------------+--------------------+--------------------+--------------------+--------------------+--------------------+--------------------+--------------------+--------------------+--------------------+--------------------+--------------------+--------------------+--------------------+--------------------+--------------------+--------------------+--------------------+--------------------+--------------------+--------------------+--------------------+--------------------+--------------------+--------------------+--------------------+--------------------+--------------------+--------------------+--------------------+--------------------+--------------------+--------------------+--------------------+--------------------+--------------------+--------------------+--------------------+--------------------+--------------------+--------------------+--------------------+--------------------+--------------------+--------------------+--------------------+--------------------+--------------------+--------------------+--------------------+--------------------+--------------------+--------------------+--------------------+--------------------+--------------------+--------------------+--------------------+--------------------+--------------------+--------------------+--------------------+--------------------+--------------------+--------------------+--------------------+--------------------+--------------------+--------------------+--------------------+--------------------+--------------------+--------------------+--------------------+--------------------+--------------------+--------------------+--------------------+--------------------+--------------------+--------------------+--------------------+--------------------+--------------------+--------------------+--------------------+--------------------+--------------------+--------------------+--------------------+--------------------+--------------------+--------------------+--------------------+--------------------+--------------------+--------------------+--------------------+--------------------+--------------------+--------------------+--------------------+--------------------+--------------------+--------------------+--------------------+--------------------+--------------------+--------------------+--------------------+--------------------+--------------------+--------------------+--------------------+--------------------+--------------------+--------------------+--------------------+--------------------+--------------------+--------------------+--------------------+--------------------+--------------------+--------------------+--------------------+--------------------+--------------------+--------------------+--------------------+--------------------+--------------------+--------------------+--------------------+--------------------+--------------------+--------------------+--------------------+--------------------+--------------------+--------------------+--------------------+--------------------+--------------------+--------------------+--------------------+--------------------+--------------------+--------------------+--------------------+--------------------+--------------------+--------------------+--------------------+--------------------+--------------------+--------------------+--------------------+--------------------+--------------------+--------------------+--------------------+--------------------+--------------------+--------------------+--------------------+--------------------+--------------------+--------------------+--------------------+--------------------+--------------------+--------------------+--------------------+--------------------+--------------------+--------------------+--------------------+--------------------+--------------------+--------------------+--------------------+--------------------+--------------------+--------------------+--------------------+--------------------+--------------------+--------------------+--------------------+--------------------+--------------------+--------------------+--------------------+--------------------+--------------------+--------------------+--------------------+--------------------+--------------------+--------------------+--------------------+--------------------+--------------------+--------------------+--------------------+--------------------+--------------------+--------------------+--------------------+--------------------+--------------------+--------------------+--------------------+--------------------+--------------------+--------------------+--------------------+--------------------+--------------------+--------------------+--------------------+--------------------+--------------------+--------------------+--------------------+--------------------+--------------------+--------------------+--------------------+--------------------+--------------------+--------------------+--------------------+--------------------+--------------------+--------------------+--------------------+--------------------+--------------------+--------------------+--------------------+--------------------+--------------------+--------------------+--------------------+--------------------+--------------------+--------------------+--------------------+--------------------+--------------------+--------------------+--------------------+--------------------+--------------------+--------------------+--------------------+-------------------+--------------------+--------------------+--------------------+--------------------+--------------------+--------------------+--------------------+--------------------+--------------------+--------------------+--------------------+--------------------+--------------------+--------------------+--------------------+--------------------+--------------------+--------------------+--------------------+--------------------+--------------------+--------------------+--------------------+--------------------+--------------------+--------------------+--------------------+--------------------+--------------------+--------------------+--------------------+--------------------+--------------------+--------------------+--------------------+--------------------+--------------------+--------------------+--------------------+--------------------+--------------------+--------------------+--------------------+--------------------+--------------------+--------------------+--------------------+--------------------+--------------------+--------------------+--------------------+--------------------+--------------------+--------------------+--------------------+--------------------+--------------------+--------------------+--------------------+--------------------+--------------------+--------------------+--------------------+--------------------+--------------------+--------------------+--------------------+--------------------+--------------------+--------------------+--------------------+--------------------+--------------------+--------------------+--------------------+--------------------+--------------------+--------------------+--------------------+--------------------+--------------------+--------------------+--------------------+--------------------+--------------------+--------------------+--------------------+--------------------+--------------------+--------------------+--------------------+--------------------+--------------------+--------------------+--------------------+--------------------+--------------------+--------------------+--------------------+--------------------+--------------------+--------------------+--------------------+--------------------+--------------------+--------------------+--------------------+--------------------+--------------------+--------------------+--------------------+--------------------+--------------------+--------------------+--------------------+--------------------+--------------------+--------------------+--------------------+--------------------+--------------------+--------------------+--------------------+--------------------+--------------------+--------------------+--------------------+--------------------+--------------------+--------------------+--------------------+--------------------+--------------------+--------------------+--------------------+--------------------+--------------------+--------------------+--------------------+--------------------+---+\n",
            "only showing top 5 rows\n",
            "\n"
          ]
        }
      ],
      "source": [
        "embeddings_df = embeddings_df.repartition(1).withColumn(\"id\", F.monotonically_increasing_id()) \n",
        "embeddings_df.show(5)"
      ]
    },
    {
      "cell_type": "markdown",
      "metadata": {
        "id": "S2DhHJRXoJo7"
      },
      "source": [
        "Add unique `row_id` to each row in our main pyspark dataframe `df`"
      ]
    },
    {
      "cell_type": "code",
      "execution_count": 14,
      "metadata": {
        "id": "c8V61FsgnkLs"
      },
      "outputs": [
        {
          "name": "stdout",
          "output_type": "stream",
          "text": [
            "+----------+--------------------+--------------------+--------------------+---+\n",
            "|product_id|               title|         description|       combined_text| id|\n",
            "+----------+--------------------+--------------------+--------------------+---+\n",
            "|        P0|Men's 3X Large Ca...|This heavyweight,...|Men's 3X Large Ca...|  0|\n",
            "|        P1|Turmode 30 ft. RP...|If you need more ...|Turmode 30 ft. RP...|  1|\n",
            "|        P2|Large Tapestry Bo...|Polyester cover r...|Large Tapestry Bo...|  2|\n",
            "|        P3|16-Gauge-Sinks Ve...|It features a rec...|16-Gauge-Sinks Ve...|  3|\n",
            "|        P4|Men's Crazy Horse...|This 9 in. black ...|Men's Crazy Horse...|  4|\n",
            "+----------+--------------------+--------------------+--------------------+---+\n",
            "only showing top 5 rows\n",
            "\n"
          ]
        }
      ],
      "source": [
        "df = df.repartition(1).withColumn(\"id\", F.monotonically_increasing_id())\n",
        "df.show(5)"
      ]
    },
    {
      "cell_type": "markdown",
      "metadata": {
        "id": "pgvT5LdZoPp3"
      },
      "source": [
        "Let's join the two dataframes"
      ]
    },
    {
      "cell_type": "code",
      "execution_count": 15,
      "metadata": {
        "id": "uTELw9sknntv"
      },
      "outputs": [
        {
          "name": "stdout",
          "output_type": "stream",
          "text": [
            "+----------+--------------------+--------------------+--------------------+--------------------+--------------------+--------------------+--------------------+--------------------+--------------------+--------------------+--------------------+--------------------+--------------------+--------------------+--------------------+--------------------+--------------------+--------------------+--------------------+--------------------+--------------------+--------------------+--------------------+--------------------+--------------------+--------------------+--------------------+--------------------+--------------------+--------------------+--------------------+--------------------+--------------------+--------------------+--------------------+--------------------+--------------------+--------------------+--------------------+--------------------+--------------------+--------------------+--------------------+--------------------+--------------------+--------------------+--------------------+--------------------+--------------------+--------------------+--------------------+--------------------+--------------------+--------------------+--------------------+--------------------+--------------------+--------------------+--------------------+--------------------+--------------------+--------------------+--------------------+--------------------+--------------------+--------------------+--------------------+--------------------+--------------------+--------------------+--------------------+--------------------+--------------------+--------------------+--------------------+--------------------+--------------------+--------------------+--------------------+--------------------+--------------------+--------------------+--------------------+--------------------+--------------------+--------------------+--------------------+--------------------+--------------------+--------------------+--------------------+--------------------+--------------------+--------------------+--------------------+--------------------+--------------------+--------------------+--------------------+--------------------+--------------------+--------------------+--------------------+--------------------+--------------------+--------------------+--------------------+--------------------+--------------------+--------------------+--------------------+--------------------+--------------------+--------------------+--------------------+--------------------+--------------------+--------------------+--------------------+--------------------+--------------------+--------------------+--------------------+--------------------+--------------------+--------------------+--------------------+--------------------+--------------------+--------------------+--------------------+--------------------+--------------------+--------------------+--------------------+--------------------+--------------------+--------------------+--------------------+--------------------+--------------------+--------------------+--------------------+--------------------+--------------------+--------------------+--------------------+--------------------+--------------------+--------------------+--------------------+--------------------+--------------------+--------------------+--------------------+--------------------+--------------------+--------------------+--------------------+--------------------+--------------------+--------------------+--------------------+--------------------+--------------------+--------------------+--------------------+--------------------+--------------------+--------------------+--------------------+--------------------+--------------------+--------------------+--------------------+--------------------+--------------------+--------------------+--------------------+--------------------+--------------------+--------------------+--------------------+--------------------+--------------------+--------------------+--------------------+--------------------+--------------------+--------------------+--------------------+--------------------+--------------------+--------------------+--------------------+--------------------+--------------------+--------------------+--------------------+--------------------+--------------------+--------------------+--------------------+--------------------+--------------------+--------------------+--------------------+--------------------+--------------------+--------------------+--------------------+--------------------+--------------------+--------------------+--------------------+--------------------+--------------------+--------------------+--------------------+--------------------+--------------------+--------------------+--------------------+--------------------+--------------------+--------------------+--------------------+--------------------+--------------------+--------------------+--------------------+--------------------+--------------------+--------------------+--------------------+--------------------+--------------------+--------------------+--------------------+--------------------+--------------------+--------------------+--------------------+--------------------+--------------------+--------------------+--------------------+--------------------+--------------------+--------------------+--------------------+--------------------+--------------------+--------------------+--------------------+--------------------+--------------------+--------------------+--------------------+--------------------+--------------------+--------------------+--------------------+--------------------+--------------------+--------------------+--------------------+--------------------+--------------------+--------------------+--------------------+--------------------+--------------------+--------------------+--------------------+--------------------+--------------------+--------------------+--------------------+--------------------+--------------------+--------------------+--------------------+--------------------+--------------------+--------------------+--------------------+--------------------+--------------------+--------------------+--------------------+--------------------+--------------------+--------------------+--------------------+--------------------+--------------------+--------------------+--------------------+--------------------+--------------------+--------------------+--------------------+--------------------+--------------------+--------------------+--------------------+--------------------+--------------------+--------------------+--------------------+--------------------+--------------------+--------------------+--------------------+--------------------+--------------------+--------------------+--------------------+--------------------+--------------------+--------------------+--------------------+--------------------+--------------------+--------------------+--------------------+--------------------+--------------------+--------------------+--------------------+--------------------+--------------------+--------------------+--------------------+--------------------+--------------------+--------------------+--------------------+--------------------+--------------------+--------------------+--------------------+--------------------+--------------------+--------------------+--------------------+--------------------+--------------------+--------------------+--------------------+--------------------+--------------------+--------------------+--------------------+--------------------+--------------------+--------------------+--------------------+--------------------+--------------------+--------------------+--------------------+--------------------+--------------------+--------------------+--------------------+--------------------+--------------------+--------------------+--------------------+--------------------+--------------------+--------------------+-------------------+--------------------+--------------------+--------------------+--------------------+--------------------+--------------------+--------------------+--------------------+--------------------+--------------------+--------------------+--------------------+--------------------+--------------------+--------------------+--------------------+--------------------+--------------------+--------------------+--------------------+--------------------+--------------------+--------------------+--------------------+--------------------+--------------------+--------------------+--------------------+--------------------+--------------------+--------------------+--------------------+--------------------+--------------------+--------------------+--------------------+--------------------+--------------------+--------------------+--------------------+--------------------+--------------------+--------------------+--------------------+--------------------+--------------------+--------------------+--------------------+--------------------+--------------------+--------------------+--------------------+--------------------+--------------------+--------------------+--------------------+--------------------+--------------------+--------------------+--------------------+--------------------+--------------------+--------------------+--------------------+--------------------+--------------------+--------------------+--------------------+--------------------+--------------------+--------------------+--------------------+--------------------+--------------------+--------------------+--------------------+--------------------+--------------------+--------------------+--------------------+--------------------+--------------------+--------------------+--------------------+--------------------+--------------------+--------------------+--------------------+--------------------+--------------------+--------------------+--------------------+--------------------+--------------------+--------------------+--------------------+--------------------+--------------------+--------------------+--------------------+--------------------+--------------------+--------------------+--------------------+--------------------+--------------------+--------------------+--------------------+--------------------+--------------------+--------------------+--------------------+--------------------+--------------------+--------------------+--------------------+--------------------+--------------------+--------------------+--------------------+--------------------+--------------------+--------------------+--------------------+--------------------+--------------------+--------------------+--------------------+--------------------+--------------------+--------------------+--------------------+--------------------+--------------------+--------------------+--------------------+--------------------+--------------------+--------------------+--------------------+\n",
            "|product_id|               title|         description|       combined_text|         embedding_0|         embedding_1|         embedding_2|         embedding_3|         embedding_4|         embedding_5|         embedding_6|         embedding_7|         embedding_8|         embedding_9|        embedding_10|        embedding_11|        embedding_12|        embedding_13|        embedding_14|        embedding_15|        embedding_16|        embedding_17|        embedding_18|        embedding_19|        embedding_20|        embedding_21|        embedding_22|        embedding_23|        embedding_24|        embedding_25|        embedding_26|        embedding_27|        embedding_28|        embedding_29|        embedding_30|        embedding_31|        embedding_32|        embedding_33|        embedding_34|        embedding_35|        embedding_36|        embedding_37|        embedding_38|        embedding_39|        embedding_40|        embedding_41|        embedding_42|        embedding_43|        embedding_44|        embedding_45|        embedding_46|        embedding_47|        embedding_48|        embedding_49|        embedding_50|        embedding_51|        embedding_52|        embedding_53|        embedding_54|        embedding_55|        embedding_56|        embedding_57|        embedding_58|        embedding_59|        embedding_60|        embedding_61|        embedding_62|        embedding_63|        embedding_64|        embedding_65|        embedding_66|        embedding_67|        embedding_68|        embedding_69|        embedding_70|        embedding_71|        embedding_72|        embedding_73|        embedding_74|        embedding_75|        embedding_76|        embedding_77|        embedding_78|        embedding_79|        embedding_80|        embedding_81|        embedding_82|        embedding_83|        embedding_84|        embedding_85|        embedding_86|        embedding_87|        embedding_88|        embedding_89|        embedding_90|        embedding_91|        embedding_92|        embedding_93|        embedding_94|        embedding_95|        embedding_96|        embedding_97|        embedding_98|        embedding_99|       embedding_100|       embedding_101|       embedding_102|       embedding_103|       embedding_104|       embedding_105|       embedding_106|       embedding_107|       embedding_108|       embedding_109|       embedding_110|       embedding_111|       embedding_112|       embedding_113|       embedding_114|       embedding_115|       embedding_116|       embedding_117|       embedding_118|       embedding_119|       embedding_120|       embedding_121|       embedding_122|       embedding_123|       embedding_124|       embedding_125|       embedding_126|       embedding_127|       embedding_128|       embedding_129|       embedding_130|       embedding_131|       embedding_132|       embedding_133|       embedding_134|       embedding_135|       embedding_136|       embedding_137|       embedding_138|       embedding_139|       embedding_140|       embedding_141|       embedding_142|       embedding_143|       embedding_144|       embedding_145|       embedding_146|       embedding_147|       embedding_148|       embedding_149|       embedding_150|       embedding_151|       embedding_152|       embedding_153|       embedding_154|       embedding_155|       embedding_156|       embedding_157|       embedding_158|       embedding_159|       embedding_160|       embedding_161|       embedding_162|       embedding_163|       embedding_164|       embedding_165|       embedding_166|       embedding_167|       embedding_168|       embedding_169|       embedding_170|       embedding_171|       embedding_172|       embedding_173|       embedding_174|       embedding_175|       embedding_176|       embedding_177|       embedding_178|       embedding_179|       embedding_180|       embedding_181|       embedding_182|       embedding_183|       embedding_184|       embedding_185|       embedding_186|       embedding_187|       embedding_188|       embedding_189|       embedding_190|       embedding_191|       embedding_192|       embedding_193|       embedding_194|       embedding_195|       embedding_196|       embedding_197|       embedding_198|       embedding_199|       embedding_200|       embedding_201|       embedding_202|       embedding_203|       embedding_204|       embedding_205|       embedding_206|       embedding_207|       embedding_208|       embedding_209|       embedding_210|       embedding_211|       embedding_212|       embedding_213|       embedding_214|       embedding_215|       embedding_216|       embedding_217|       embedding_218|       embedding_219|       embedding_220|       embedding_221|       embedding_222|       embedding_223|       embedding_224|       embedding_225|       embedding_226|       embedding_227|       embedding_228|       embedding_229|       embedding_230|       embedding_231|       embedding_232|       embedding_233|       embedding_234|       embedding_235|       embedding_236|       embedding_237|       embedding_238|       embedding_239|       embedding_240|       embedding_241|       embedding_242|       embedding_243|       embedding_244|       embedding_245|       embedding_246|       embedding_247|       embedding_248|       embedding_249|       embedding_250|       embedding_251|       embedding_252|       embedding_253|       embedding_254|       embedding_255|       embedding_256|       embedding_257|       embedding_258|       embedding_259|       embedding_260|       embedding_261|       embedding_262|       embedding_263|       embedding_264|       embedding_265|       embedding_266|       embedding_267|       embedding_268|       embedding_269|       embedding_270|       embedding_271|       embedding_272|       embedding_273|       embedding_274|       embedding_275|       embedding_276|       embedding_277|       embedding_278|       embedding_279|       embedding_280|       embedding_281|       embedding_282|       embedding_283|       embedding_284|       embedding_285|       embedding_286|       embedding_287|       embedding_288|       embedding_289|       embedding_290|       embedding_291|       embedding_292|       embedding_293|       embedding_294|       embedding_295|       embedding_296|       embedding_297|       embedding_298|       embedding_299|       embedding_300|       embedding_301|       embedding_302|       embedding_303|       embedding_304|       embedding_305|       embedding_306|       embedding_307|       embedding_308|       embedding_309|       embedding_310|       embedding_311|       embedding_312|       embedding_313|       embedding_314|       embedding_315|       embedding_316|       embedding_317|       embedding_318|       embedding_319|       embedding_320|       embedding_321|       embedding_322|       embedding_323|       embedding_324|       embedding_325|       embedding_326|       embedding_327|       embedding_328|       embedding_329|       embedding_330|       embedding_331|       embedding_332|       embedding_333|       embedding_334|       embedding_335|       embedding_336|       embedding_337|       embedding_338|       embedding_339|       embedding_340|       embedding_341|       embedding_342|       embedding_343|       embedding_344|       embedding_345|       embedding_346|       embedding_347|       embedding_348|       embedding_349|       embedding_350|       embedding_351|       embedding_352|       embedding_353|       embedding_354|       embedding_355|       embedding_356|       embedding_357|       embedding_358|       embedding_359|       embedding_360|       embedding_361|       embedding_362|       embedding_363|       embedding_364|       embedding_365|       embedding_366|       embedding_367|       embedding_368|       embedding_369|       embedding_370|      embedding_371|       embedding_372|       embedding_373|       embedding_374|       embedding_375|       embedding_376|       embedding_377|       embedding_378|       embedding_379|       embedding_380|       embedding_381|       embedding_382|       embedding_383|       embedding_384|       embedding_385|       embedding_386|       embedding_387|       embedding_388|       embedding_389|       embedding_390|       embedding_391|       embedding_392|       embedding_393|       embedding_394|       embedding_395|       embedding_396|       embedding_397|       embedding_398|       embedding_399|       embedding_400|       embedding_401|       embedding_402|       embedding_403|       embedding_404|       embedding_405|       embedding_406|       embedding_407|       embedding_408|       embedding_409|       embedding_410|       embedding_411|       embedding_412|       embedding_413|       embedding_414|       embedding_415|       embedding_416|       embedding_417|       embedding_418|       embedding_419|       embedding_420|       embedding_421|       embedding_422|       embedding_423|       embedding_424|       embedding_425|       embedding_426|       embedding_427|       embedding_428|       embedding_429|       embedding_430|       embedding_431|       embedding_432|       embedding_433|       embedding_434|       embedding_435|       embedding_436|       embedding_437|       embedding_438|       embedding_439|       embedding_440|       embedding_441|       embedding_442|       embedding_443|       embedding_444|       embedding_445|       embedding_446|       embedding_447|       embedding_448|       embedding_449|       embedding_450|       embedding_451|       embedding_452|       embedding_453|       embedding_454|       embedding_455|       embedding_456|       embedding_457|       embedding_458|       embedding_459|       embedding_460|       embedding_461|       embedding_462|       embedding_463|       embedding_464|       embedding_465|       embedding_466|       embedding_467|       embedding_468|       embedding_469|       embedding_470|       embedding_471|       embedding_472|       embedding_473|       embedding_474|       embedding_475|       embedding_476|       embedding_477|       embedding_478|       embedding_479|       embedding_480|       embedding_481|       embedding_482|       embedding_483|       embedding_484|       embedding_485|       embedding_486|       embedding_487|       embedding_488|       embedding_489|       embedding_490|       embedding_491|       embedding_492|       embedding_493|       embedding_494|       embedding_495|       embedding_496|       embedding_497|       embedding_498|       embedding_499|       embedding_500|       embedding_501|       embedding_502|       embedding_503|       embedding_504|       embedding_505|       embedding_506|       embedding_507|       embedding_508|       embedding_509|       embedding_510|       embedding_511|\n",
            "+----------+--------------------+--------------------+--------------------+--------------------+--------------------+--------------------+--------------------+--------------------+--------------------+--------------------+--------------------+--------------------+--------------------+--------------------+--------------------+--------------------+--------------------+--------------------+--------------------+--------------------+--------------------+--------------------+--------------------+--------------------+--------------------+--------------------+--------------------+--------------------+--------------------+--------------------+--------------------+--------------------+--------------------+--------------------+--------------------+--------------------+--------------------+--------------------+--------------------+--------------------+--------------------+--------------------+--------------------+--------------------+--------------------+--------------------+--------------------+--------------------+--------------------+--------------------+--------------------+--------------------+--------------------+--------------------+--------------------+--------------------+--------------------+--------------------+--------------------+--------------------+--------------------+--------------------+--------------------+--------------------+--------------------+--------------------+--------------------+--------------------+--------------------+--------------------+--------------------+--------------------+--------------------+--------------------+--------------------+--------------------+--------------------+--------------------+--------------------+--------------------+--------------------+--------------------+--------------------+--------------------+--------------------+--------------------+--------------------+--------------------+--------------------+--------------------+--------------------+--------------------+--------------------+--------------------+--------------------+--------------------+--------------------+--------------------+--------------------+--------------------+--------------------+--------------------+--------------------+--------------------+--------------------+--------------------+--------------------+--------------------+--------------------+--------------------+--------------------+--------------------+--------------------+--------------------+--------------------+--------------------+--------------------+--------------------+--------------------+--------------------+--------------------+--------------------+--------------------+--------------------+--------------------+--------------------+--------------------+--------------------+--------------------+--------------------+--------------------+--------------------+--------------------+--------------------+--------------------+--------------------+--------------------+--------------------+--------------------+--------------------+--------------------+--------------------+--------------------+--------------------+--------------------+--------------------+--------------------+--------------------+--------------------+--------------------+--------------------+--------------------+--------------------+--------------------+--------------------+--------------------+--------------------+--------------------+--------------------+--------------------+--------------------+--------------------+--------------------+--------------------+--------------------+--------------------+--------------------+--------------------+--------------------+--------------------+--------------------+--------------------+--------------------+--------------------+--------------------+--------------------+--------------------+--------------------+--------------------+--------------------+--------------------+--------------------+--------------------+--------------------+--------------------+--------------------+--------------------+--------------------+--------------------+--------------------+--------------------+--------------------+--------------------+--------------------+--------------------+--------------------+--------------------+--------------------+--------------------+--------------------+--------------------+--------------------+--------------------+--------------------+--------------------+--------------------+--------------------+--------------------+--------------------+--------------------+--------------------+--------------------+--------------------+--------------------+--------------------+--------------------+--------------------+--------------------+--------------------+--------------------+--------------------+--------------------+--------------------+--------------------+--------------------+--------------------+--------------------+--------------------+--------------------+--------------------+--------------------+--------------------+--------------------+--------------------+--------------------+--------------------+--------------------+--------------------+--------------------+--------------------+--------------------+--------------------+--------------------+--------------------+--------------------+--------------------+--------------------+--------------------+--------------------+--------------------+--------------------+--------------------+--------------------+--------------------+--------------------+--------------------+--------------------+--------------------+--------------------+--------------------+--------------------+--------------------+--------------------+--------------------+--------------------+--------------------+--------------------+--------------------+--------------------+--------------------+--------------------+--------------------+--------------------+--------------------+--------------------+--------------------+--------------------+--------------------+--------------------+--------------------+--------------------+--------------------+--------------------+--------------------+--------------------+--------------------+--------------------+--------------------+--------------------+--------------------+--------------------+--------------------+--------------------+--------------------+--------------------+--------------------+--------------------+--------------------+--------------------+--------------------+--------------------+--------------------+--------------------+--------------------+--------------------+--------------------+--------------------+--------------------+--------------------+--------------------+--------------------+--------------------+--------------------+--------------------+--------------------+--------------------+--------------------+--------------------+--------------------+--------------------+--------------------+--------------------+--------------------+--------------------+--------------------+--------------------+--------------------+--------------------+--------------------+--------------------+--------------------+--------------------+--------------------+--------------------+--------------------+--------------------+--------------------+--------------------+--------------------+--------------------+--------------------+--------------------+--------------------+--------------------+--------------------+--------------------+--------------------+--------------------+--------------------+--------------------+--------------------+--------------------+--------------------+--------------------+--------------------+--------------------+--------------------+--------------------+--------------------+--------------------+--------------------+--------------------+--------------------+--------------------+--------------------+--------------------+--------------------+--------------------+--------------------+--------------------+--------------------+--------------------+--------------------+--------------------+-------------------+--------------------+--------------------+--------------------+--------------------+--------------------+--------------------+--------------------+--------------------+--------------------+--------------------+--------------------+--------------------+--------------------+--------------------+--------------------+--------------------+--------------------+--------------------+--------------------+--------------------+--------------------+--------------------+--------------------+--------------------+--------------------+--------------------+--------------------+--------------------+--------------------+--------------------+--------------------+--------------------+--------------------+--------------------+--------------------+--------------------+--------------------+--------------------+--------------------+--------------------+--------------------+--------------------+--------------------+--------------------+--------------------+--------------------+--------------------+--------------------+--------------------+--------------------+--------------------+--------------------+--------------------+--------------------+--------------------+--------------------+--------------------+--------------------+--------------------+--------------------+--------------------+--------------------+--------------------+--------------------+--------------------+--------------------+--------------------+--------------------+--------------------+--------------------+--------------------+--------------------+--------------------+--------------------+--------------------+--------------------+--------------------+--------------------+--------------------+--------------------+--------------------+--------------------+--------------------+--------------------+--------------------+--------------------+--------------------+--------------------+--------------------+--------------------+--------------------+--------------------+--------------------+--------------------+--------------------+--------------------+--------------------+--------------------+--------------------+--------------------+--------------------+--------------------+--------------------+--------------------+--------------------+--------------------+--------------------+--------------------+--------------------+--------------------+--------------------+--------------------+--------------------+--------------------+--------------------+--------------------+--------------------+--------------------+--------------------+--------------------+--------------------+--------------------+--------------------+--------------------+--------------------+--------------------+--------------------+--------------------+--------------------+--------------------+--------------------+--------------------+--------------------+--------------------+--------------------+--------------------+--------------------+--------------------+--------------------+--------------------+\n",
            "|        P0|Men's 3X Large Ca...|This heavyweight,...|Men's 3X Large Ca...| 0.03746229410171509|0.030402367934584618|-0.01369089540094...|-0.00154938583727...|0.007462074514478445|-0.03556773066520691|0.021412132307887077| 0.08193089812994003| 0.04915138706564903|-0.05765904486179352| 0.04196634888648987|0.042502544820308685|-0.05869569256901741| 0.03108154982328415| 0.02277049794793129| 0.06452237069606781| 0.10430818051099777|-0.03749804198741913|-0.08779331296682358| 0.06441512703895569|-0.05637217313051224| 0.05848121643066406|-0.02670260891318...|-0.07714086771011353| 0.02629152499139309|0.038034237921237946|-0.04811473935842514|0.032529283314943314| 0.05569298937916756|-0.01591611281037...|0.003541134065017104|-0.02357479371130...|0.018516669049859047|-0.02604129910469...|  0.0442541241645813|-0.07067076116800308|-0.02159086428582...| 0.10938417911529541|-0.03381615504622...| 0.02857929840683937|0.031260281801223755|-0.05748031288385391|0.013887501321732998|-0.05933912843465805|0.026881340891122818| 0.03699759021401405|0.014057297259569168|0.025505101308226585|-0.02981255017220974| 0.02184109017252922|-0.03445959091186...|-0.01867752708494...|-0.05447760969400406|0.044754572212696075|-0.02952658012509346|-0.02879377640783...|-0.04207358881831169|-0.04232381284236908| 0.02341393381357193|-0.02019675262272358|-0.02162661030888...| -0.0208223145455122|-0.02555872127413...|-0.01439688820391...|-0.03124240972101...|-0.03442384302616...|0.019481822848320007|-0.01983928680419922|0.006023279391229153|-0.05301200598478317| 0.06137667968869209|0.051188938319683075|0.030330874025821686|-0.02682772092521...|-0.07478160411119461|-0.00215595867484...|0.006693525239825249|-0.08250284194946289|0.008449570275843143|0.031242409721016884|-0.02028611861169...| 0.07252957671880722|-0.02311008982360363|-0.03587157651782036|-0.05004505068063736|-0.00134719489142...|-0.02613066509366...|0.007104609627276659|-0.00821721833199...| -0.0144326351583004| 0.02337818779051304|0.012466579675674438|0.024218229576945305|-0.02487953938543...|-0.05533552542328...| 0.00561666302382946|-0.02804310061037...|-0.03967857360839844|-0.03379828110337...|0.009070665575563908|-0.03292249515652...|-0.00767655298113...|5.976362153887749E-4|0.011519297957420349|-0.06498707085847855|-0.00789996888488...|-0.11074254661798477|-0.00525919860228...| 0.00959792546927929|-0.02722093276679516|-0.10066204518079758| 0.07556802779436111| 0.03229692950844765| 0.06956262141466141|-0.03549623861908913|-0.03342294320464134|0.035460490733385086|0.017908979207277298|-0.00988389737904...| 0.06298527121543884|0.023324567824602127| 0.05683687701821327|-0.02280624397099018|-0.02330669388175...|-0.00452416203916...|-0.01319938153028...|-0.03472768887877464|-0.04361068457365036|0.004995568189769983|0.007073331624269...|0.052154090255498886|0.028168214485049248| 0.08343224972486496|-0.03027725592255...|-0.01185888983309269|0.017846422269940376| 0.04271702468395233|0.011018847115337849|-0.03540687263011...|-0.13054609298706055|-0.04654189571738243|-0.04282426461577...|-0.02187683619558...| 6.65358966216445E-5|0.025415735319256783|0.014504128135740757|-0.01935671083629...|-0.00906619708985...|-0.03817722201347351| 0.07664041966199875|-0.05344096198678017|-0.06584499031305313| 0.07435264438390732|0.018105583265423775|-0.09808829426765442|-0.01627357862889...| 0.07034903764724731| 0.04711383953690529|-0.04922287911176...|-0.03372678905725479|-0.06255631148815155|0.006072430405765772|-0.00468278676271...|8.361321524716914E-4|  0.1226818636059761|0.008181472308933735| 0.06327123939990997|-0.07878520339727402|-0.09358423948287964|-0.03658650442957878|0.004023711197078228|-0.04629167169332504|0.006367338821291...|0.023985877633094788|0.027149438858032227|0.025898313149809837|-0.07671191543340683|0.014468381181359291|-0.03083132579922676|-0.10995612293481827|0.001108140335418284|-0.04432561621069908| 0.06763231009244919|-0.03731931000947952|-0.05322648584842682|-0.03601456433534622|0.029079748317599297|0.012600628659129143|0.010312855243682861|0.010813305154442787|0.011438868939876556| 0.03597881644964218|-0.03671161830425...|-0.00527707161381...|  -0.036515012383461|-0.09058153629302979| 0.02727455273270607|  0.0748530924320221|0.009678355418145657| 0.08736436069011688|-0.04300299659371376| 0.08378971368074417|0.019642682746052742|0.016604231670498848|-0.04650614783167839|-0.00163428368978...|-0.01668466255068779|-0.02369990572333336|-0.06945537775754929|-0.03637202829122543|0.055978961288928986|-0.00712695112451911|-0.04028626531362...|0.001519224722869...|-0.00367294927127...|-0.00298482971265...|0.011635473929345608|-0.01813239417970...|0.017426401376724243| 0.05672963708639145|-0.07013456523418427|0.025737453252077103|-0.05608620122075081|0.016425499692559242| -0.0545133575797081|0.060447271913290024| 0.06902642548084259|  0.0404292494058609|0.007511225529015064|-0.06280653923749924|0.033494435250759125|0.013905374333262444|-0.07220786064863205|0.005665814504027367|-0.05794501677155495| 0.05998256802558899|2.704722573980689E-4|-0.03699759021401405|-0.03914237767457962|-0.00938344653695...|-0.07113546133041382|-3.77572025172412...|0.011742713861167431|  0.0704205334186554|0.014155599288642406|2.376581251155585E-4|-0.02945508621633...|-0.03778401389718056| 0.04707809165120125|-0.02353904582560...|0.039285365492105484|-0.03292249515652...|-0.05050975456833...|0.041823361068964005|0.031939465552568436| 0.05126043036580086|0.006139455363154411|0.003583583049476...|-0.02105466648936...|-0.03265439346432686|-0.06030428409576416|-0.00302057620137...|-0.01697956956923008|-0.00131033128127...|-0.02672048099339...|0.050509754568338394| 0.03885640576481819|-0.05469208955764...| 0.02307434193789959| 0.04289575666189194|-0.00372880301438272|  0.0685974657535553| 0.03243991732597351| 0.09923218190670013|-0.03917812556028366| 0.05201110616326332|-0.00730121508240...| 0.06566625088453293|0.020697202533483505| 0.07378070056438446|-0.06602372229099274|-0.04003604128956795|0.009910707361996174|   0.025344243273139|0.015487155877053738|0.029419340193271637| 0.03839170187711716| 0.06455811113119125|0.003679651534184...|-0.00451299129053...|0.022001948207616806|-0.02000014670193...|-0.02023249864578247|-0.01547821890562...| -0.0494731068611145|-0.02680984884500...|-0.09780232608318329| 0.04014327749609947| -0.0195175688713789|-0.05612194910645485| 0.01759619638323784|0.061412423849105835|-0.06470110267400742| 0.05104595050215721| 0.04643465578556061| 0.08636345714330673|0.031296029686927795|-0.03453108295798302|-0.03664012625813484|-0.01404836028814...|0.002027494832873...|0.036425646394491196|-0.04986631870269...|-0.00456214230507...|-0.02627365104854107|-0.04639891162514...| 0.02089380845427513|0.052154090255498886|-0.04382516443729...|-0.04707809165120125| 0.06627394258975983| 0.03412000089883804|-0.02375352568924427|-0.08593449741601944|0.014280712231993675|-0.03558560460805893|-0.08057253062725067|-0.05101020261645317|-0.04185910895466...|-0.03587157651782036|-0.02239516004920...|0.008060827851295471|-0.00236373487859...|-0.05161789432168007|0.014852656051516533|-0.00857468321919...|0.026041299104690552|-0.04893691092729...|0.026077045127749443|0.010795432142913342|-0.02269900403916...| -0.0372120700776577|-0.02545148320496...|-0.01571057178080082| 0.04643465578556061|-0.06012555211782...| 0.02178747020661831|0.019392456859350204|0.002797160763293...|-0.00178955739829...|0.009003641083836555| 0.05061699450016022|-0.02017887867987156|-0.01714042946696...|0.018427303060889244|-0.01833793520927...| 0.06198436766862869|-0.05265454202890396| 0.05808800458908081|0.017721310257911682|0.017435338348150253| 0.11474614590406418|-0.02126914635300...|-0.02784649468958378|0.007171634119004011| 0.05333372578024864|-0.03932110965251...|0.022538146004080772|-0.00377348600886...|-0.03785550594329834|0.028060974553227425|0.06902642548084259|0.030581099912524223|-0.01711362041532...|-0.05333372578024864|0.033512309193611145|0.021322766318917274|  0.0698128417134285|-0.02958019822835...|-0.02888314239680767|0.044790320098400116| 0.04875817522406578|0.027810748666524887|   0.097373366355896| 0.08829376846551895|2.214605192421004...|-0.02311008982360363| 0.00992858037352562| 0.06391467899084091|-0.03202883154153824| 0.04818623512983322|-0.07277979701757431|-0.00185323075857...|-0.04575547575950...|-0.01467392314225...|-0.01216273475438...| 0.04682786762714386| 0.03613967448472977|0.020446976646780968|  0.0752105638384819|-0.00821721833199...| 0.06101921573281288|-0.06473684310913086| 0.04775727540254593|  0.0266489889472723|-8.89193266630172...|-0.02466505952179432| 0.07678340375423431| -0.0647725909948349| -0.0454695038497448|-0.03040236793458...|0.028758030384778976|0.003326655365526676| 0.03985730558633804| 0.02666686289012432| 0.12175245583057404| 0.04078671708703041|0.003592519555240...|-0.05104595050215721| 0.07160016894340515|-0.05090296640992...|-0.03524601459503174|-0.00916896760463...|-0.03681885823607445|-0.01923159696161747|0.049544598907232285|0.043825164437294006|-0.10237787663936615|-0.09086751192808151|0.007564845494925976|-0.00732802506536...|-0.02748903073370...| 0.09808829426765442|0.034817054867744446|-0.08057253062725067|-0.00251342332921...| -0.0653802827000618|-0.00542899407446...|-0.00316356215626...| 0.04872243106365204|-0.00898129865527153| 0.05647941306233406|0.009714101441204548|-0.02455782145261...| 0.00696609215810895|-0.01151036098599...|0.054656341671943665| 0.01092054508626461|-0.06269929558038712|-0.06084048002958298|  0.0144326351583004|0.023556919768452644| -0.0872928649187088|  0.0326901413500309|-0.02368203178048134| 0.06509431451559067|-0.00335123110562...| 0.04271702468395233|-0.00961579848080...|0.010652446188032627|  0.0442541241645813|-0.06670290231704712| 0.06230608746409416|-0.02990191802382...| -0.0698128417134285|0.009562179446220398| 0.02507614530622959|0.001089708646759...| 0.09201139956712723| -0.0404292494058609|-0.02307434193789959|-0.04529076814651489| 0.01282404363155365|0.027024326846003532| 0.04264553263783455|0.023932257667183876|-0.00403041392564...|-0.01371770538389...|-0.05987532809376...| -0.0627707913517952|0.001882274751551...|-0.00890533812344...|-0.03594306856393814|-0.03161774575710...|-0.01262743864208...|0.008570214733481407|-0.02807884663343...| 0.08421866595745087|-0.04428986832499504|-0.04085820913314819|0.023521173745393753|-0.01901711896061...|-0.00297142472118...|-0.01783748529851...|-3.01610794849693...|-0.03020576201379299|-0.03588945046067238|-0.04596995189785957|    0.11024209856987|-0.03113516978919506|0.036461394280195236| 0.03077770583331585| 0.03299398720264435|-0.08965212851762772| 0.02278837002813816| 0.05361969769001007|0.061412423849105835|0.023038595914840698|0.003409319091588...|  0.0228241179138422| 0.01525480393320322|  0.0442541241645813|\n",
            "|        P1|Turmode 30 ft. RP...|If you need more ...|Turmode 30 ft. RP...| 0.03523961082100868|0.013278326019644737|0.022189784795045853|-0.01412461884319...| -0.0888945460319519|-0.03635671734809...|0.004392256960272789|0.015918757766485214| 0.04004655033349991| 0.07291654497385025|-0.01094255968928...|0.035375017672777176|-0.00748122390359...|-0.00745160365477...| 0.04786629229784012|-0.08171798288822174|-0.01656194031238556|-0.03412250429391861|-0.07955147325992584|  0.1306675374507904|0.003821009770035...| 0.07366128265857697|-0.02572728507220745|-0.03075426258146763|-0.02469480969011...| 0.04028351232409477|0.020158682018518448| 0.06959907710552216| 0.04478578642010689|-0.03537501767277...|-0.02623506076633...| -0.0638781413435936|-0.03639056906104088|-0.04211150482296944|-0.02479636482894...|-0.01437004283070...|-0.01681582815945...|-0.00461229309439...| 0.04214535653591156|-0.04248387366533...|0.028520049527287483|0.013693009503185749|-0.02642124518752098|-0.00138263008557...|0.008060934022068977|0.005196234676986933|0.006089073140174...| 0.04116365686058998|0.042585428804159164|-0.00341055798344...|-0.00886068027466...|0.052267011255025864| -0.0729842483997345| 0.04333016648888588|-0.08063472807407379| 0.10852852463722229|-0.01804295182228...|-0.01936316676437...|8.298953762277961E-4|-0.02056490257382393|-0.08259812742471695|-0.04888184368610382|0.033885542303323746|-0.06367503106594086|0.021140381693840027|0.005306252744048834|-0.01208505406975...|-0.01177192572504282|-0.08984238654375076|0.006689940579235554|  0.0348333902657032|-0.04143447056412697|-0.04146832227706909|-0.01486089266836...|0.004161642398685217|-0.01708664186298...|-0.05605840310454...|0.033191584050655365|0.038150858134031296| 0.02511795610189438|-0.02459325455129...|  0.0120681282132864|-0.08110865205526352|0.002320956671610...| 0.00645297858864069|-0.00144398619886...|-0.07135936617851257|-0.06573998183012009|-0.03957262635231018| 0.02936634235084057| 0.05439966917037964|-0.04962658137083...| 0.09248282015323639|-0.03828626498579979|-0.04180683940649...|-0.07014070451259613|-0.04945732280611992|-0.01657886616885662| 0.03967418149113655| 0.04102825000882149| 0.04817095771431923|0.014623930677771568|-0.01748439855873...|-0.02687824331223...|0.008818365633487701|-0.05121760815382004|-0.02115730755031109|-0.04644452035427...|-0.02620120905339718| 0.06831271201372147|-0.03666138276457...|-0.03930181264877319|0.005826722364872694|-0.06154237687587738|-0.01360838022083044|-0.01673119887709...| 0.08564478158950806| 0.02048027329146862|0.048611029982566833|0.006486830301582813|-0.04874643683433533| 0.03503650054335594| 0.02097112312912941| -0.1305321305990219|0.010003174655139446|-0.02026023715734...|-0.05592299625277519|0.009783138521015644|0.033682432025671005|0.045056600123643875| 0.05798794701695442|0.005382419098168...|0.019126206636428833|-0.00258965441025...|-0.04302550107240677|0.005357030313462019|-0.01833069138228...|-0.02704750187695...| 0.02007405273616314|-0.02813075669109...|0.036052051931619644|-0.03940336778759...|0.024407070130109787|-0.04207765311002731|-0.01904157735407...| 0.04038506746292114| -0.0706823319196701|8.838465437293053E-4|-0.05798794701695442|-0.00604252703487...|-0.12003809958696365|-0.04410875588655472|-0.06360732764005661|-0.03215910866856575|0.011805777437984943|-0.05724320933222771|-0.00450227502733469|0.034579504281282425|-0.02064953185617...|-0.03329313918948...|-0.04305935278534889|0.001134031685069...| -0.0900454968214035| 0.03750767558813095|-0.01775521226227...|0.013075215741991997|0.046749185770750046|-0.01320215966552496|-0.10040412098169327|0.002725061262026429|-0.01951549947261...|-0.04874643683433533|-0.06926055997610092|0.045936744660139084| 0.06326881051063538|0.001378398621454835|0.010544802062213421| -0.0611361563205719| 0.03371628373861313| 0.03038189373910427|-0.03723686188459...|-0.02968793362379074| 0.05619380995631218|-0.02951867505908...|-0.02884164080023...|-0.02857082709670067|0.028655456379055977| 0.06293029338121414|-0.02032794058322...|-0.02591346949338913| 0.04261928051710129| 0.07345817238092422|-0.03591664507985115|-0.01185655500739...|-0.02097112312912941|-0.00657145958393...|0.012482811696827412|-0.03066963329911232|0.005242780782282...|-0.01491167023777...| 0.06787264347076416|-0.03679678961634636|0.007058077957481146| 0.02048027329146862|-0.08896224945783615|-0.02874008566141...|-0.02151275053620...|0.013379881158471107|-3.66550346370786...|-0.02901089936494...| 0.07745266705751419|0.021038826555013657|0.002900666790083...|-0.01178885158151...|-0.00104093947447...|0.001153073273599...|-0.05808950215578079|0.013269863091409206|0.002765260171145...|0.008293664082884789|-0.01123029831796...|0.009114568121731281|0.017924470826983452|0.016037238761782646|-0.01831376552581787|0.019058503210544586|-0.00143975473474...|-0.02802920155227...| 0.04729081317782402|0.011120281182229519|-0.00631757220253...| 0.06323496252298355|-0.01724743656814...|-0.06898974627256393|-0.03422405943274498|0.027352167293429375| 0.03578123822808266|-0.02613350562751...|-0.02620120905339718|-0.01587644405663...|-0.00672379229217...|9.674179018475115E-4| 0.06320110708475113| 0.09749287366867065|-0.04001269862055...|-0.06441976875066757|-0.03347932174801...|-0.02965408191084...|0.014403894543647766|-0.05869883298873...| 0.02186819352209568| 0.05389189347624779| 0.08605100214481354|-0.02858775295317173|  0.0669247955083847| 0.09397229552268982| -0.1062266081571579|0.001984555507078767|-0.00182587560266...|-0.04404105246067047|0.014395431615412235|-0.02890934422612...|0.016985086724162102| 0.03652597591280937| 0.03132973983883858|0.003404210787266493|0.050202060490846634|0.010367080569267273|0.030737336724996567|0.013963823206722736| 0.07027611136436462|-0.01253358926624...|0.011433408595621586|0.016731198877096176|-0.07020840793848038| 0.11062733083963394| 0.07521846145391464|-0.00234211399219...| 0.04333016648888588|-0.04068973287940025|-0.02540569379925728|-0.07190099358558655|-0.00697344867512...| 0.01880461536347866|-0.04211150482296944|-0.07156247645616531| 0.04187454283237457| 0.08794669806957245|0.007900138385593891|-0.08232731372117996|0.040215808898210526| 0.04326246306300163|-0.05751402303576...| 0.02840156853199005| 0.03322543576359749|-0.00569977844133...|0.003194753313437...| 0.06844811886548996|0.007146938238292...|-0.07088544219732285|-0.04194224625825882| 0.08259812742471695| 0.05724320933222771|-0.01479318924248...| 0.02196974866092205|0.014903207309544086|0.014522375538945198|-0.02496562339365...|-0.01596107333898...|-0.02525336295366...| 0.03710145503282547| 0.01370147243142128|-0.01284671667963...|-0.04001269862055...|0.027876868844032288|0.021140381693840027|-0.01280440203845501|-0.02582884021103382|-0.02020945958793...|-0.03022956103086...|-0.05379033833742142|-0.04197609797120094|-0.00328149832785...|-0.03960647806525...|-0.00691420817747...|-0.04942347109317...|-0.01838146895170...| -0.0530456006526947|-0.03825241327285...|  0.0445149764418602|-0.02723368629813...| 0.01271130982786417| 0.12369408458471298|-0.07217180728912354|-0.01046863570809...|  0.0729842483997345|-0.03740612044930458|0.012355867773294449|-0.01106950361281...| 0.03364858031272888|  0.0146323936060071|-0.01538559421896...|-0.05409500375390053| 0.08002539724111557| 0.02027716301381588| 0.04976198822259903| 0.08104094862937927| 0.01290595717728138|0.038150858134031296|  0.1254543662071228|-0.04136676713824272| 0.04661377891898155| 0.08300434798002243|0.002441553166136...| 0.04806940257549286|1.449275587219745E-4|  0.0987115353345871|-0.04001269862055...| 0.04360098019242287|  0.0028456577565521|-0.03241299465298...| 0.06181319057941437|-0.02667513303458...|-0.01436157990247...|0.004280123393982649| 0.05057442933320999|0.013354492373764515| 0.06817730516195297|-0.09329526126384735|-0.05609225481748581|-0.03991114348173...|0.09566488116979599|-0.01577488891780...| 0.05175923556089401|-0.11556967347860336| 0.06164393201470375| 0.04245002195239067| 0.02136041782796383|0.017569027841091156|-0.01260129269212...|  0.0429239459335804|-0.02735216729342...|-0.01834761723875...|-1.12993242510128...|-0.03280228748917...|0.006914208177477121|-0.03427483886480...|-0.05511055514216423|-0.02985719218850...|0.005153920035809...|0.025101030245423317|-0.03557812795042...|0.030026450753211975|-0.02779223956167698|-0.04058817774057388|-0.02191897109150...|0.051386866718530655|-8.64804955199360...|0.023763887584209442|-0.00460806163027...|-0.03149899840354...|-0.05416270717978...|-0.11211680620908737| 0.06509680300951004|-0.03815085813403...|-0.01352375093847...|0.018076803535223007| 0.10169047862291336| 0.04424416273832321|-0.02631969004869461|-0.03835396841168...|-0.12552207708358765|0.056532327085733414| 0.08794669806957245|-0.02246059663593769|-0.00856447778642...|-0.02076801285147667| 0.04112980514764786|0.001727494178339839|-0.09160267561674118| 0.03168518468737602|0.028604678809642792|-0.02357770316302...|-0.02511795610189438|-0.07359357923269272|-0.02486406825482...|-0.06293029338121414|0.030720410868525505|0.002763144439086318|-0.03788004443049431| 0.05460277944803238|0.008843754418194294|0.002636200515553...| 0.06022216007113457|0.004013541154563427| 0.05808950215578079|-0.00781550910323...| 0.11340316385030746| 0.02513488195836544|0.010714060626924038|-0.00414471654221...|-0.02877393737435341|-0.02318840846419...| -0.0163334421813488|-0.02410240471363...|0.024474773555994034|-0.03371628373861313| 0.06658627837896347|-0.04495504498481...| 0.05609225481748581| -0.0338178388774395|0.021445047110319138|0.003543848870322...| 0.07420291006565094|-0.03315773233771324|0.005619380623102188|0.024390144273638725| 0.05206390097737312|0.010857930406928062|-0.01037554349750...| -0.0060340641066432|-0.00802285131067...|-0.00510314246639...| -0.0804993212223053|-0.03341161832213402|-0.01381149049848...|-0.00408547604456...|0.006258331704884...|0.055347517132759094|0.010849467478692532|-0.03021263517439...|-0.02085264213383...|-0.02049719914793...|-0.06174548715353012| 0.03513805568218231| 0.05243626981973648| 0.07569238543510437| 0.06526606529951096|0.012313553132116795|3.850630018860101...|-0.04918650910258293| 0.06042527034878731|-0.03689834475517273|0.005640537943691015|-0.01790754497051239| 0.07230721414089203|0.052774786949157715| 0.05863112956285477|-0.01760287955403328|-0.03940336778759...|-0.02313763089478016|-0.00908071640878...|  -0.016113406047225|-0.01387919392436...| 0.05666773021221161|0.007942453026771545|-0.02691209502518177|-0.03547657281160...|-0.05426426231861...| 0.06685709208250046|4.043690278194844...| 0.02811383083462715|  0.0471215546131134| 0.03479953855276108|   0.045090451836586| 0.02956945262849331| 0.02809690497815609|-0.00656299665570...|-0.05771713331341...| 0.04265313223004341|-0.01578335091471672|0.005098911002278328|\n",
            "|        P2|Large Tapestry Bo...|Polyester cover r...|Large Tapestry Bo...|0.035860564559698105|-0.05905349925160408| 0.01142880879342556| 0.04862133786082268|-0.04642312973737717|-0.04567797482013...|-0.00807095598429...|0.032879944890737534|0.010665024630725384|-0.05059599503874779|-0.03343881294131279|0.011447437107563019|-0.02880022488534...|-0.00525799719616...|0.010264504700899124|0.026844194158911705| 0.04623684287071228|-0.04959003627300...|-0.04526814073324...|  0.0491056889295578|-0.04400137811899185|-0.00472707441076...|-0.06359894573688507|-0.07824122905731201| 0.11833054572343826|-0.02041723579168...|0.010469421744346619|-0.00652475981041...| 0.08092378824949265|-0.03062585368752...|-0.05122937634587288|-0.03578604757785797|-0.01683118008077...| -0.0953797847032547| 0.03107294626533985|-0.05238436907529831|-0.02064078114926815|-0.00575166195631...|-0.01633751392364502|0.019783854484558105|-0.02321156486868...|  0.0436660572886467| 0.03522718325257301|-0.03669886291027069|0.026024524122476578|0.042287521064281464|0.055849336087703705|0.008834739215672016|-0.00812218524515...| 0.09493269771337509| 0.03122197650372982| 0.02848353423178196|-0.04985084012150...| -0.0636734589934349|0.004070406779646...| 0.01365495752543211|5.414013867266476E-5|0.012472025118768215|-0.00915142986923...|-0.01342209707945...|-0.00660858955234...|-0.06240669637918472| 0.08055120706558228| -0.0723545104265213|-0.04143059626221657|0.025894122198224068|-0.08897145837545395|0.034016307443380356| 0.02131142094731331|-0.04899391531944275| 0.08554374426603317|6.653997697867453E-4|-0.02945223450660...|-0.01511732395738...| 0.05175098776817322|0.003979591187089682| 0.04221300780773163|-0.03470557555556297| 0.07958251237869263|-0.02164673991501...|0.015247725881636143|0.001112492522224784|-0.04273461550474167|0.039903029799461365|0.023863576352596283|-0.01060913875699...| 0.01588110625743866|-0.05413547903299332|0.006706391461193...|-0.01541538536548...|  0.0882263034582138|-3.87422158382833E-4| -0.0603947788476944|-0.02069666795432...|6.665640394203365E-4|-0.01624437049031...| 0.06113993376493454|-0.06806986778974533|-0.04232478141784668| 0.05979865416884422|8.336416794918478E-4|-0.00796849653124...|-0.04303267598152...| 0.03923238813877106| -0.0851711705327034|-0.06806986778974533| 0.03384864702820778|-0.00297828973270...|0.022242864593863487|0.016831180080771446|-0.06076735630631447|-0.02419889532029...| 0.01970933936536312|0.017911653965711594| 0.01692432351410389|-0.03979125618934...|-0.01811657100915...| 0.05655723437666893|-0.01207150425761...|-0.03971673920750618| 0.03319663554430008|  0.0354134701192379|-0.05078228563070297|-0.07596851140260696|-0.06747374683618546|-0.02200068905949...|-0.06449312716722488| 0.03004835918545723|-0.06013397499918938|-0.02228012122213...| 0.03470557555556297|-0.08666148036718369| 0.10312939435243607|-0.07764510810375214|-0.07846477627754211|0.010637082159519196|-0.03084939904510975|  0.0475781187415123|0.026341214776039124|-0.00506239384412...| 0.07853929698467255|-0.07771962136030197|-0.08107282221317291|0.012341623194515705|-0.04061092436313629|0.001965345116332...|-1.12155221358989...|0.050633255392313004|0.045417170971632004|0.006645847577601671|-0.01240682415664196|  0.0341094508767128| -0.0135245556011796| 0.03554387390613556|-0.02449695765972...|-0.03703418374061...| 0.06594618409872055|-0.02485090494155...|-0.06356168538331985|-0.00549085764214...|-0.02514896728098...|-0.01828423142433...| 0.04999987408518791|0.028781596571207047| 0.05212356150150299| 0.08986563980579376|-0.03798425570130348| 0.03926964849233627|-0.09172853082418442|-0.06650504469871521| 0.07667640596628189|-0.02239189483225...|-0.01623505540192...|0.061847832053899765| 0.02559605985879898|-0.02133004926145...|-0.01182932872325182| 0.02809232845902443|0.017436617985367775|-0.01950442045927...|0.004983221180737019|0.014064792543649673| 0.05711609870195389|0.016290942206978798|-0.14605030417442322|0.005360455717891455|-0.01399959158152...| 0.08926951885223389|-0.03233971074223...| 0.09612493962049484|0.009333061054348946|-0.02064078114926815| 0.03871078044176102|  0.0317249558866024|-0.01251859683543...|3.376481763552874...|-0.00639435788616...|0.036624349653720856|-0.04426218196749687|0.026434358209371567|-0.00277104368433...|0.007912610657513142| 0.03496637940406799|-0.01109348889440298|  0.0024031235370785|3.024279722012579...|-0.14843478798866272|0.031538669019937515|-0.07652737945318222|-0.08740663528442383| 0.04698199778795242|-0.01784645207226...|-0.04202671721577...|0.032339710742235184|  0.0057842624373734|-0.01496829278767109| 0.08002959936857224|0.022522296756505966|-0.01349661219865...| 0.04783892259001732|-0.05271968618035...|0.035748790949583054|0.020733926445245743|0.014558457769453526|-0.04884488135576248|-0.00358838494867...|0.004298610612750053|-0.07295063138008118| -0.0399775430560112|0.012937746942043304|-0.02619218453764...|0.026285327970981598|0.006124239414930344|0.008713651448488235|-0.01507075130939...| 0.06650504469871521|-0.03697829693555832|0.017138555645942688|0.029731668531894684|-0.03735087439417839|0.021590854972600937|  0.0438896045088768|-0.05629643052816391| 0.08189249038696289| -0.0827866718173027|-0.00594260776415...|-0.04254832863807678|-0.07965702563524246|0.060283005237579346|  0.0423620380461216|0.029228689149022102| 0.06568537652492523| 0.04634861648082733| 0.02444107085466385| 0.07488803565502167| 3.14544013235718E-5|-0.03064448200166...|-0.01047873590141...|-0.06631875783205032|0.016505174338817596|0.004973907023668289|-5.04725787322968...|-0.06933663785457611|-0.00594260776415...| 0.03109157457947731|-0.00267789931967...|-0.00405876385048...|0.028297245502471924|-0.01916910149157...|0.029340460896492004|0.001234162249602...|-0.02153496816754341|-0.01608602516353...| 0.06695213913917542| 0.03004835918545723| 0.04843504726886749|-0.05629643052816391|-0.01939264871180...|  0.0673619732260704|0.002738443203270...|-0.04318170994520...| -0.0925481989979744|0.011168004013597965|-0.08308473974466324| 0.04452298581600189|0.008462161757051945|0.003308952087536454|0.013487298041582108|-0.00455475738272...|0.004165879916399717| 0.04314444959163666| 0.01195973064750433|-0.02814821526408...| 0.03291720524430275|-3.70248686522245...|-0.01456777192652...| -0.0647539347410202|   0.029005141928792| 0.03235833719372749|-0.05324129387736...|-0.02760797739028...| 0.01946716383099556|0.019523050636053085|-0.06725019961595535|-0.02876296639442444| 0.05644546076655388|0.010646396316587925|   -0.12861368060112|-0.04728005826473236|-0.01615122519433...|-0.01530361268669...|0.020845700055360794|-0.07622931152582169|-1.00348457635845...|-0.01680323667824...|-0.03230245038866997|-0.00673433439806...|-0.02255955524742...|-0.02818547189235...|-0.04571523517370224| 0.05849463492631912|-0.01286323089152...| 0.07943347841501236| 0.01024587545543909|  0.0265088751912117| -0.0436660572886467|-0.07786865532398224|0.018954869359731674|-0.00862982124090...|0.014893777668476105|-0.01394370477646...|0.009272517636418343|0.001100267283618...|0.008471475914120674|-0.02531662769615...|0.010320390574634075|-0.04970180988311...|-0.02352825552225113|0.021609483286738396| 0.06892679631710052|-0.06505199521780014|-0.07876283675432205|-0.07220547646284103| 0.07675091922283173|-0.00720005622133...|0.045379914343357086|0.054023709148168564|0.015173209831118584|0.016570374369621277|  0.0751860961318016|-0.02876296639442444| 0.07101323455572128|0.008578591980040073|-0.00476898951455...|-0.02082706987857...|0.019951514899730682| 0.04713102802634239|-0.03062585368752...|-0.04090898856520653|-0.00268488517031...|0.006915966048836708|0.007269914261996746|-0.01948579214513302| 0.01931813172996044| 0.03068174049258232|0.016030138358473778| 0.03211616352200508| 0.03183672949671745|  0.0180327408015728|-0.03600959479808...|  0.0775705948472023|0.03919513151049614|4.599000967573374...|-0.01527566928416...|-0.02853942103683...| 0.02337922528386116|0.027216771617531776|0.006874050945043564|-0.04429943859577179|-0.02947086468338...|-0.03794699907302...| 0.10067038238048553|0.038338202983140945| 0.03412808105349541| 0.02757071889936924|0.020808441564440727|-0.03014150261878...|0.019411277025938034|-4.94829204399138...|0.003034176304936409|-0.02958263643085...|-0.06013397499918938|-0.02187028713524...|-0.04232478141784668|0.015461958013474941|-0.02982481196522...|-0.01500555034726...|-2.06955039175227...|-0.02669516392052...|0.011372921988368034|0.024329297244548798|-0.04728005826473236|-0.03029053471982479|-0.02883748151361...|-0.06013397499918938|-0.00796849653124...| 0.00903965625911951|-0.01773467846214...| 0.03437025472521782|-0.06915034353733063|-0.02866982296109...|-0.05923978984355...|-0.01184795796871...|0.051676470786333084|-0.09657203406095505| 0.11184770613908768|0.017781252041459084| 0.03444477170705795|-0.02239189483225...|-0.03826368972659111|-0.08181797713041306|  0.0354134701192379|-0.06505199521780014|-0.00169406237546...|-0.02157222479581833|-0.00114567519631...|0.010413534939289093|-0.05093131586909294|-0.09508172422647476|0.015769334509968758| 0.02013780176639557|0.011521953158080578|0.023584142327308655|0.027794266119599342|-0.06207137554883957|-0.00173248443752...|-0.05309226363897...| 0.05413547903299332|-0.00227970723062...|-0.02540977112948...|-0.01371084433048...|-0.01535018440335989|-0.01540607120841...|0.040573667734861374|-0.06814438849687576|-0.07861381024122238|0.048286017030477524|  0.0219448022544384|0.005998494569212198|0.014167251996695995|-0.02984344027936...|-0.01660763286054...|-0.01536881364881...|0.046199582517147064| 0.08986563980579376| 0.04936649277806282|-0.02913554385304451|0.001532224123366177| 0.06274201720952988|-0.05938882008194...| 0.10611001402139664|0.002289021853357...|0.002045682165771723|-5.26556512340903...| 0.02218697778880596|-0.00993849895894...| 0.05316678062081337|0.009072257205843925| 0.03291720524430275|-0.06900131702423096|-0.05607288330793381|-0.04690748080611229|0.007921924814581871|-0.08032766729593277| 0.04925471916794777| -0.0619223453104496|0.024888163432478905| 0.03967948257923126|0.001192247378639...|-0.01396233402192...|-0.00455708615481...|0.014204509556293488|-0.02529799751937...|0.011875901371240616|-5.87245849601458...| 0.11989537626504898|-0.03418396785855293| -0.0245528444647789|-0.00471310270950...|-0.01413930859416...|-0.05394919216632843|0.011335664428770542|  0.0675855204463005|-0.01888035424053669| 0.03712732717394829|-0.00993849895894...|-0.00313197798095...|-0.10953772068023682| 0.07682543992996216|-0.01649585925042...|  0.0402010902762413|0.010050272569060326|-0.02024957537651062|0.040946245193481445|0.003942333627492189| 0.08979112654924393| 0.03863626345992088| 3.03010136121884E-4|-0.05991042777895...| 0.09485817700624466|-0.02334196679294...| 0.06579715013504028|\n",
            "|        P3|16-Gauge-Sinks Ve...|It features a rec...|16-Gauge-Sinks Ve...|-0.05834035575389862|-0.00796995311975...| 0.01931559294462204|0.015213300473988056|-0.02882201410830021|-0.03581558912992...|-0.01771100610494...|-0.00691788876429...| 0.02942751720547676|-0.03738990053534508|-0.01211765874177...|0.004299081861972809|-0.08368071913719177|0.006713530980050564| 0.08380182087421417| 0.08489172905683517|-0.01958806999027729|0.004034173674881458|-0.04147705808281...| 0.05479815602302551| 0.01886146515607834|-0.01501651108264...|-0.03098669275641...|-0.07683851569890976|0.041446782648563385|-0.04002384468913078|-0.03160733357071...|-0.04247613996267319|-0.02665733546018...|-0.02058715187013...|-0.02706605009734...|-0.04259724169969559|0.046351369470357895|-0.03047201409935...|0.027626141905784607|0.031213756650686264|0.016333483159542084|0.013873621821403503|-0.00989999808371067|-0.01042224559932...| 0.00996811781078577|   0.049106415361166|-0.02158623561263...|-0.02350871078670025| 0.02375091426074505|0.008484631776809692|-0.08083485066890717| 0.01983027160167694|-0.01317729149013...|-0.03272751718759537| 0.06993576884269714| 0.07580915838479996|-0.04223393648862839|-0.03124403208494...|-0.00317889847792...|0.022736692801117897| 0.03844953328371048|-0.02712660096585...|-0.01251123659312725|-0.01525871269404...|0.007250916212797165|-0.06154952943325043|-0.05746237561106682|   0.024401830509305|-0.04032659903168678|-0.00678921910002...|0.025264674797654152|0.036209169775247574|-0.00689518218860...|-0.04114402830600...|0.003913072869181633|-0.01583394221961...|-0.01866467483341694| 0.03487705811858177|0.022766968235373497|-0.01004380546510...| -0.0482889823615551|-0.04408072680234909|-0.02708118781447...| 0.02411421574652195|-0.10372291505336761|-0.01621238328516...|0.010157337412238121|-0.04368714988231659| -9.2481350293383E-4| 0.01453210785984993| 0.00482889823615551| 0.03502843528985977|-0.09288439154624939|0.050711002200841904|-0.05331467092037201|-0.05273944139480591|-0.01337407995015...|-0.00658107688650...|-0.03493760898709297|0.012322016060352325| 0.06351742148399353|2.597046550363302E-4|0.015500915236771107| 0.06400182098150253| 0.06321466714143753|-0.02279724366962...|-0.01031628251075...|-0.02744449116289...|-0.00301806139759...|-0.05155870690941...|-0.00642970064654...|0.010876374319195747|-0.02411421574652195|-0.01911880448460579|-0.02583990432322...| -0.0488944873213768|-0.01097476854920...|-0.04498898237943649|-0.03599724173545...|  0.0239779781550169|0.026172932237386703|-0.04059907421469...|-0.01369197014719...|-0.01967889629304409| 0.07429540157318115|0.031577058136463165|-0.05722017213702202| -0.1426568627357483|0.003233772469684...| 0.07659631967544556|-0.10239081084728241| 0.05758347734808922|-0.09203667938709259|-0.03415045142173767| 0.02462889440357685|-0.04326329380273819| 0.02856467477977276|-0.04468623176217079|-0.01042981445789...|-0.00540791172534...|-0.02309999614953...| 0.07132843136787415|-0.00544575601816...|0.022827519103884697| 0.05325412005186081|0.004208256024867296| 0.13224217295646667|-0.00828027352690...|-0.01291238330304...|5.459001404233277E-4|-0.04011467099189758| 0.01880091428756714|-0.02714173868298...| 0.06442567706108093|-0.02154082246124...|0.020980730652809143|0.060610998421907425|-0.03947889059782028|-0.00278532062657...|-0.10378346592187881| 0.06460732966661453|0.008923622779548168|-0.06273026764392853|-0.01597018167376...|-0.03309081867337227| -0.0243866927921772|0.008893347345292568|-0.03133485838770...| 0.01454724557697773|-0.00461318716406...|-0.00949128251522...|-0.03127430751919...|-0.04283944144845009| 0.03863118588924408| 0.07677797228097916| 0.12013208866119385|0.056039441376924515| 0.07066237181425095|-0.00389036629348...|-0.00922637432813...| 0.00938531942665577|-0.00270963250659...| 0.08925136178731918|0.011118575930595398|0.005498737562447786|0.025446325540542603|0.007557452656328678|-0.03160733357071...|0.002883715089410...|-0.02070825360715...| 0.06509172916412354|-0.00201141019351...|-0.00438990769907...|-0.04604861512780...|-0.04411100223660469|-0.05879448726773262|-0.01410068571567...|-0.00203222432173...| 0.05843118205666542|-0.05137705430388...|-0.00381467817351...| 0.11335043609142303|0.031940363347530365| 0.03551283851265907|-0.08004768937826157|-0.01824082247912...| 0.00240120361559093| 0.03408990427851677|-0.07659631967544556|-0.10602383315563202|-0.02261559292674...|-0.01707522571086...| 0.03272751718759537| 0.06587889045476913|0.030108710750937462| 0.08531558513641357|0.030926141887903214|0.005124081857502...|-0.00759151251986...|-0.00932476948946...|0.036633022129535675|-0.03021467290818...|0.050650451332330704|-6.38618017546832...|-0.07042016834020615|0.041022930294275284|0.013124309480190277|-0.06145870685577...|-0.03010871075093...|-2.11335252970457...|0.013283254578709602|0.008439218625426292|-0.02685412392020...|-0.00901444815099...|-0.01687843725085...|0.035815589129924774|-0.05561558529734...|-0.01541008893400...|-0.02583990432322...|-0.03290916979312897|-0.06920916587114334|-0.01378279551863...|0.027898618951439857|0.046199992299079895|-0.07350824773311615|0.013480043970048428|0.029942195862531662|0.016439447179436684|-3.60937439836561...|-0.00508245313540...|-0.00849220063537...|-0.03720825165510...| 0.05967246741056442|0.012571786530315876|-0.01537981349974...|-0.02020871266722679|-0.03956971690058708|0.007992658764123917| 0.07017797231674194|-0.01415366772562...|-0.01798348315060...|-0.03551283851265907|-0.04674494639039...|-0.03675412386655...|-0.06654494255781174|-2.12990926229394...|-0.01502407994121...| 0.07520365715026855|0.017771556973457336|-0.01571284048259...| 0.03275779262185097|0.026505958288908005| 0.08791925013065338|0.027217427268624306| 0.03920641541481018|  0.0493788905441761| 0.08440732210874557|0.020435776561498642| 0.07393209636211395|0.029972471296787262|-0.06830090284347534|0.015379813499748707|0.031698159873485565|0.017499079927802086|-0.01527385041117...|-0.08834310621023178|-0.01998164877295494| 0.05803760513663292|-0.04193118587136...|-0.01828623563051...|0.017589904367923737| 0.01874036341905594|0.005865824874490...|0.008091053925454617| 0.06860365718603134| 0.06430457532405853|-0.00784885231405...|-0.03209173679351...|0.027066050097346306|-0.02334219776093...|0.003527063643559...| 0.08646604418754578|0.013199998065829277| -0.0945192500948906|  0.0947614535689354| 0.10602383315563202| 0.05279999226331711|-0.01625779457390...|-0.00934747513383627| 0.02953348122537136|0.013646556995809078|-0.07060182094573975|0.014668346382677555|-0.03696604818105...|0.014963530004024506|0.016212383285164833|0.017362840473651886|-0.02331192232668...| 0.07835227996110916|-0.05037797242403...|-0.10911190509796143| 0.07689906656742096|0.040629349648952484|0.022418804466724396| 0.17196327447891235| 0.06164035573601723| 0.04465595632791519|-0.01783210784196...|  0.0490155890583992|0.018104584887623787|0.051407329738140106|-0.06987521797418594| 0.02983623370528221|-0.06478898227214813|0.011867888271808624|0.005059747025370598|-3.24039516272023...| -0.0470779724419117|-0.05894586071372032|  0.0122690349817276|0.010255732573568821|-0.01005894318222...|-0.01830137334764...|0.015637153759598732|  0.0249013714492321|-0.07005687057971954|1.054310996551066...|0.036996323615312576|-0.01615183241665...|0.031365133821964264|-0.00698979245498...|-0.10553943365812302|0.011126144789159298|  0.0499238446354866|-0.04623026773333...|0.013449768535792828|-0.02305458299815...|0.060338523238897324| 0.00484025152400136|-0.08095595240592957|0.022358253598213196|-0.06333576887845993|-0.03950916603207588| 0.01925504207611084|  0.0481678806245327| 0.03554311394691467|-0.05228531360626221|0.007693691179156303| 0.03312109410762787|-0.00354598555713892| 0.05316329374909401|-0.02904907800257206|-0.03303026780486107|-0.05286054313182831|  0.0481678806245327|0.09191557765007019|0.002221444621682167| 0.03826788440346718|-0.03098669275641...| 0.07423485070466995|-0.04365687444806099|-0.00117505714297...|-0.01366169471293...|-0.02408394031226635| 0.05927889049053192|-4.21251374064013...|-0.07471925020217896|-0.08053209632635117| 0.05967246741056442|-0.02025412581861019| 0.04535228759050369| 0.06939081102609634| 0.02405366487801075| -0.0476834774017334|-0.01453210785984993| 0.04526146128773689| 0.10457062721252441|-0.06926971673965454|  0.0471990741789341|0.017166052013635635| 0.02835274673998356|-0.00967293418943882| -0.0499843955039978|-0.02817109599709...|0.020965592935681343|-0.10136145353317261|0.012291740626096725|0.001719065126962...|-0.01176192425191...|0.036148618906736374| 0.08283301442861557|-0.02025412581861019| 0.02352384850382805|-0.05561558529734...|-0.03654219582676...|-0.05116512998938...| 0.03757155314087868|7.237670943140984E-4|-0.03342384845018387|0.004662384744733572|  0.0244321059435606|-0.02862522378563881|-0.04538256302475929|-0.02179816178977...|-0.03142568096518...|-0.00711846211925149|-0.03660274669528...|0.001937614404596...|0.007459058426320553|  0.0478045791387558|-0.01549334637820...| 0.01933073066174984|-0.04544311016798...|-0.03536146134138107|0.005173278972506523|-0.06745319813489914|-0.00852247606962...|-0.04023577272891998|-0.03917613998055458|-0.08913026005029678|0.017877519130706787|-0.07599081099033356|0.040962379425764084| 0.04262751713395119|-0.04314219579100609|-0.01810458488762...|-0.01537981349974...|-0.02185871265828...|-0.06139815598726...|0.059944942593574524|-0.03378714993596077|-0.02939724363386631|-0.08168255537748337|-0.02151054702699...|0.001130590448155...|-0.02216146327555...|-0.07774677872657776|  0.0121555021032691| 0.07011742144823074|-0.01429747510701418|  0.0481073297560215|-0.00436720112338...|-0.01005894318222...|0.012904814444482327| 0.06297246366739273|-0.03393852710723877|-0.02350871078670025|0.002611238043755293| 0.05410182476043701| 0.04308164492249489|-0.00591880641877...|0.016621097922325134| 0.08386237174272537|-0.02214632742106...|-0.12521833181381226|0.027308251708745956|0.055343110114336014|0.002866685390472412|-6.77881180308759...|-0.05470732972025871|0.006047476083040237|-0.02956375665962696|  0.0250376109033823| 0.03796513006091118|-0.07508255541324615|0.007742888759821653|-0.01447912584990263|-0.00204546982422...| 0.02859495021402836|0.041174303740262985|-0.04302109405398369| 0.03548256307840347|-0.03732934966683388|-0.04450457915663719|-0.04541283473372...|0.014161236584186554| 0.00999839324504137|-0.01082339230924...| 0.07314494252204895|-0.02585504204034...| 0.06678714603185654|-0.06908806413412094|-0.06442567706108093|0.021465133875608444|0.023160547018051147|0.027232564985752106|0.011156420223414898|0.017075225710868835|0.030517425388097763|-0.00250338250771...|0.018346786499023438|0.008386237546801567| 0.06999631971120834|-0.04335412010550499|-0.00614965474233...|-0.02311513386666...|\n",
            "|        P4|Men's Crazy Horse...|This 9 in. black ...|Men's Crazy Horse...| 0.01998496614396572| 0.05075598508119583|-0.01050263457000...|-0.01779860444366932|-0.03779976442456...|-0.08382672816514969|-0.00134319544304...| 0.03221239522099495|0.034949399530887604|-0.01484296750277...| 0.03692522272467613|-0.05716931074857712|  -0.055938471108675|-0.02058419212698...|0.046124134212732315| 0.06027880311012268|-0.00968477316200...|-0.03527330234646797|-0.05703974887728691|0.024973109364509583|-0.00952281989157...|0.014446183107793331|-0.00619064271450...|-0.04019666463136673| 0.13306036591529846| 0.09276652336120605|-0.06196311116218567|-4.02604346163570...|0.003927353769540787| 0.01703742705285549|-0.03779976442456...|-0.03799410909414...|0.049460362643003464|0.008057148195803165|-0.01503731030970...|-0.04680433869361...|0.043079424649477005|-0.00722309155389...| 0.03643936291337013|0.009061254560947418| 0.03559720888733864|0.014097984880208969|0.030706236138939857|0.002939441939815879| 0.10209500044584274|-0.02466540038585663|-0.02330499701201...| 0.07203657180070877|-0.00779802352190...| 0.06105617806315422|0.014567647129297256|0.005810054019093...|0.015612242743372917|0.047095853835344315|-0.02618775516748...|0.009182719513773918|-0.03637458011507988|0.014300425536930561|0.049654703587293625|0.034463539719581604|0.024552032351493835|-0.00819480791687...|-0.05619759485125542|-0.01362832169979...|0.006437620613723993|-0.02194459363818...|-0.01366881001740694|-0.02000116184353...|-0.12224191427230835|-0.02466540038585663|-0.01697264611721...|-0.05891840159893036|-0.07793164998292923|-0.01132859289646...| 0.04761410132050514| 0.04988143965601921|3.659119247458875E-4|-0.03397767990827...|-0.01885129697620...|-0.04158946126699...|-0.04971948638558388| 0.09814335405826569|-0.02061658166348...|-0.02327260747551918|0.028957147151231766| 0.04207531735301018|-0.03295737877488136|-0.03527330234646797|0.005882932804524...|-0.05665106326341629|0.059857726097106934|-0.00467233592644...|  0.0772838369011879|-0.00940135587006...|-0.02192839980125...|-0.02068136259913...|-0.03358899429440...|0.055420223623514175|-0.04524959251284599|-0.00238475389778...|0.027645330876111984|-0.00556307611986...| 0.04301464185118675|-0.04233444109559059|0.018462611362338066|-0.00979004241526...|-0.00338278757408...|-0.09503386169672012|-0.01039736531674...|-0.00108811992686...|-0.09477473795413971|-0.02280294336378...|0.030754823237657547|0.020956682041287422|-0.00152438005898...|-0.02589624002575...| 0.08402107656002045|0.004020476248115301| 0.04881254956126213|-0.00984672550112009|0.011085663922131062|0.014810577034950256|-0.10902657359838486|-0.10280758887529373|-0.06610910594463348| 0.06951010972261429|-0.01933715492486...|-0.03472266346216202| 0.06079705432057381|-0.03498178720474243| -0.0463508702814579| 0.03305455297231674|0.062287017703056335|0.007162359077483416|-0.04466656222939491|0.043565284460783005|0.014421890489757061|-0.05959860235452652|-0.09963331371545792| 0.00476545887067914|-0.01296431571245...|0.009919604286551476| 0.02471398562192917|-0.02374226972460...|-0.01271328888833...|0.003382787574082613|-0.02746718190610...|0.013150561600923538|-0.06912142038345337|0.004939557984471321|0.025944827124476433|-0.05924230813980...| 0.03362138569355011|-0.04282030090689659| -0.0317913182079792|-0.05305571109056473| 0.06795535981655121|-0.03002603538334...|-0.05150096490979...|-0.04560588672757149|-6.32121751550585E-4| 0.05950143188238144| 0.07929205149412155|  0.0439215786755085|0.036892831325531006|0.014519061893224716|0.004295796155929565|-0.08622363209724426|-0.07216613739728928|-0.01540980208665...| 0.05354157090187073|-0.00225519179366529|-0.03517613187432289|-0.05299093201756...|-0.02641448937356472|0.024778766557574272|-0.01385505590587...|-0.00644571846351...|-0.02226850017905...| 0.00393140222877264|-0.04618891701102257|-0.01039736531674...|0.028195969760417938| 0.03812367096543312|-0.03413963317871094|0.019466716796159744| -0.0357915535569191|-0.03326509147882...|0.037799764424562454|-0.05661867186427...| -0.0163815189152956| 0.06031119450926781|-0.00193027406930...|-0.07112963497638702|-0.03686043992638588|-0.06180116161704...|-0.01197640411555767| 0.04418070241808891| 0.01818729005753994| 0.06584997475147247|-0.07320263236761093| 0.09101743251085281| 0.04716063290834427|0.009717163629829884|-0.02346695028245449| 0.07695993781089783|-0.03605067729949951| 0.03637458011507988| 0.05195443332195282|-0.02678698115050...| 0.06607671082019806|-0.02557233534753...|0.038479968905448914|-0.00596795789897...| 0.09134133905172348|-0.03128926455974579|-0.01292382739484...|-0.08266066759824753|-0.02330499701201...| 0.05966338515281677|-0.09380301833152771|0.019806819036602974|-0.01096419990062...|0.008672568015754223|-0.00195861584506...| 0.00987101811915636| 0.07080572843551636|-0.03064145520329...|-0.01775001920759678|-0.01256753131747...|-0.04291747137904167| 0.06808492541313171|-0.02845509350299...|-0.02131297811865...|-0.02267338149249...|-0.03094916604459...|-0.10481580346822739| 0.04090925678610802|0.020260285586118698|0.029038123786449432|-0.12392622232437134|-0.00884261913597...|0.020729947835206985|0.014470475725829601|-0.00741338590160...|-0.01032448653131...| 0.01289143692702055|-0.01212216168642044|-0.01569321937859...| 0.09995722025632858| -0.0463508702814579|-0.10345540195703506|0.029232466593384743| 0.05334722623229027| 0.04272313043475151|0.026398293673992157|-0.03242293372750282|-0.01257562916725874| 0.04090925678610802|-0.01018682681024...|0.028795193880796432|-0.00112658366560...|-0.03595350310206413|0.006453816313296...|-0.01949910819530487|0.011012785136699677|0.014551452361047268|-0.05979294702410698|0.016219565644860268| 0.01521545834839344|0.060149241238832474| 0.05185726284980774|-0.01428423076868...| 0.03472266346216202|-0.01809011958539486| -0.0793568342924118|  0.0091908173635602|-0.03145121783018112| 0.03575916215777397| 0.05276419594883919|0.023920416831970215|  0.0487801618874073| 0.05146857723593712| 0.07236047834157944|0.055420223623514175|-0.01187113486230...| 0.03948407247662544| 0.02398519776761532| 0.02259240485727787|7.778792059980333E-4| 0.03922494873404503|0.006393083836883...|-0.00785875599831...|-0.04003471508622...|0.042399223893880844| 0.01881890743970871|-0.03018798865377903|-0.00158713664859...| -0.0487801618874073|-0.08648275583982468|0.012802362442016602| 0.04502285644412041|0.039160169661045074|0.001384695759043...| 0.02834172733128071| 0.06665974110364914| 0.04855342581868172|-0.06970445066690445|-0.02571809291839...|-0.05188965424895...|0.003933426924049854|-0.01206547766923...|-0.02089190110564232| 0.01645439676940441|0.001276389928534627| -0.1068888008594513|-0.01434901170432...| 0.03550003841519356|-0.05347678810358...|-0.10714792460203171|0.011863037012517452|-0.00862398277968...|0.057687561959028244|-0.01925617828965187|-9.74246882833540...|0.003641911782324314|-0.06487826257944107|-0.04686911776661873|-0.00345971505157...|-0.03776737675070...|-0.04204292595386505|6.306034047156572E-4|0.010980394668877125|0.027564354240894318|0.038771484047174454|0.021539712324738503|-0.02464920468628...|-0.00756724085658...| 0.06332351267337799|-0.00779802352190...|-0.08104114234447479|-0.00706518767401576|0.041524678468704224|0.058659277856349945| 0.06183354929089546|-0.03449593111872673| 0.06277287751436234|-0.02686795778572...|0.018252072855830193| 0.01291572954505682|-0.03094916604459...|-0.01796055771410...|  0.0279692355543375|0.043662454932928085|-0.03103014267981...|0.008672568015754223|-0.07475737482309341|-0.10300192981958389|-0.04981665685772896| 0.06938054412603378|-0.08259589225053787|  0.0687975138425827|-0.03945168480277...|-0.06257852911949158| 0.06633583456277847| 0.05762277916073799|-0.10513971000909805|-0.05286137014627457| 0.02351553551852703|-0.01094800420105...|0.046512823551893234|0.09114699065685272|0.011879232712090015|-0.01424374245107174|-0.02275435812771...| 0.05587368831038475|0.004554920364171...|0.017976751551032066|-0.00468448270112...| 0.03284401074051857|-0.01671352051198...| 0.03313552588224411| 0.01306148711591959| 0.00505697401240468|-0.00155677052680403|-0.00838105380535...|-0.01568512059748...| 0.10287237167358398| 0.03958124667406082|-0.01374978665262...|0.029864082112908363|-0.06905664503574371|0.014851064421236515|-0.01980681903660...|0.010624098591506481|-0.01460813544690609| 0.07119441777467728|0.008453932590782642|-0.00209526345133...|-0.02213893830776...|0.010405462235212326|-0.01679449714720...|-0.00287263654172...| -0.0822719857096672|0.014187058433890343|-0.04045579209923744|-0.06364741921424866| 0.09393258392810822|-0.01034068129956...|-0.06957489252090454| 0.07495172321796417| 0.02142634615302086|0.003058882197365...| 0.02519984357059002|0.009887213818728924|-0.00185030989814...|0.048456255346536636|-0.07495172321796417|-0.07521084696054459| 0.05911274626851082|-0.04729019477963...|-0.01993638090789318|-0.02226850017905...|0.027661524713039398|0.013029096648097038|-0.01804153434932232|0.007992367260158062|-0.00588698172941...|0.013903641141951084| 0.00984672550112009|-0.00164078350644...|-0.00391723169013...|0.011603912338614464|   0.101188063621521| -0.0649106502532959|-0.01867314986884594| -0.0372491255402565| -0.0357915535569191|0.016413908451795578| 0.06724277138710022|-0.06665974110364914|-0.02657644264400...|-0.01596853882074356|-0.02035745792090...| 0.00789924431592226|  0.0822719857096672|-0.04087686911225319|-0.02936202846467495|-0.06267570704221725|-0.04398636147379875| 0.05652150139212608|-0.01571751199662...|0.006077276077121496|0.008955985307693481|-0.04787322506308...| 0.03501417860388756|  0.0473225861787796|-0.04087686911225319|-0.01702123135328293|0.007267628330737352|0.057298872619867325|-0.03222859278321266|0.034463539719581604|-0.01932095922529...|-7.97617190983146...|-0.04191336408257...|  0.0658823698759079| 0.04625369980931282|0.040034715086221695|0.013717396184802055| -0.0149239432066679|0.018932273611426353| -0.0606674924492836|-0.00402857409790...|0.043953970074653625| 0.08136504888534546| 0.04958992451429367| 0.03721673786640167|-0.04890972375869751| -0.0195962805300951|-0.05075598508119583|-0.01374978665262...|-0.12295451015233994|-0.03159697726368904| 0.02322402037680149|0.003963793162256479|0.010267802514135838|0.055711738765239716|-0.13293080031871796|-0.00598010420799...|-0.05639193952083...|-0.01690786518156...|-0.00469662901014...|-0.01186303701251...|-0.02315923944115...| 0.02767772041261196|-0.03103014267981...|-0.06497543305158615|  0.0411359928548336| 0.02728903479874134| 0.01455955021083355|-0.01472960039973259|-0.04204292595386505|-0.04035861790180206|-0.04333854839205742|0.004692580085247755|0.005482099950313568|-0.00141101307235...|-0.02030887082219124|0.012251723557710648|0.008089538663625717| 0.10008678585290909|\n",
            "+----------+--------------------+--------------------+--------------------+--------------------+--------------------+--------------------+--------------------+--------------------+--------------------+--------------------+--------------------+--------------------+--------------------+--------------------+--------------------+--------------------+--------------------+--------------------+--------------------+--------------------+--------------------+--------------------+--------------------+--------------------+--------------------+--------------------+--------------------+--------------------+--------------------+--------------------+--------------------+--------------------+--------------------+--------------------+--------------------+--------------------+--------------------+--------------------+--------------------+--------------------+--------------------+--------------------+--------------------+--------------------+--------------------+--------------------+--------------------+--------------------+--------------------+--------------------+--------------------+--------------------+--------------------+--------------------+--------------------+--------------------+--------------------+--------------------+--------------------+--------------------+--------------------+--------------------+--------------------+--------------------+--------------------+--------------------+--------------------+--------------------+--------------------+--------------------+--------------------+--------------------+--------------------+--------------------+--------------------+--------------------+--------------------+--------------------+--------------------+--------------------+--------------------+--------------------+--------------------+--------------------+--------------------+--------------------+--------------------+--------------------+--------------------+--------------------+--------------------+--------------------+--------------------+--------------------+--------------------+--------------------+--------------------+--------------------+--------------------+--------------------+--------------------+--------------------+--------------------+--------------------+--------------------+--------------------+--------------------+--------------------+--------------------+--------------------+--------------------+--------------------+--------------------+--------------------+--------------------+--------------------+--------------------+--------------------+--------------------+--------------------+--------------------+--------------------+--------------------+--------------------+--------------------+--------------------+--------------------+--------------------+--------------------+--------------------+--------------------+--------------------+--------------------+--------------------+--------------------+--------------------+--------------------+--------------------+--------------------+--------------------+--------------------+--------------------+--------------------+--------------------+--------------------+--------------------+--------------------+--------------------+--------------------+--------------------+--------------------+--------------------+--------------------+--------------------+--------------------+--------------------+--------------------+--------------------+--------------------+--------------------+--------------------+--------------------+--------------------+--------------------+--------------------+--------------------+--------------------+--------------------+--------------------+--------------------+--------------------+--------------------+--------------------+--------------------+--------------------+--------------------+--------------------+--------------------+--------------------+--------------------+--------------------+--------------------+--------------------+--------------------+--------------------+--------------------+--------------------+--------------------+--------------------+--------------------+--------------------+--------------------+--------------------+--------------------+--------------------+--------------------+--------------------+--------------------+--------------------+--------------------+--------------------+--------------------+--------------------+--------------------+--------------------+--------------------+--------------------+--------------------+--------------------+--------------------+--------------------+--------------------+--------------------+--------------------+--------------------+--------------------+--------------------+--------------------+--------------------+--------------------+--------------------+--------------------+--------------------+--------------------+--------------------+--------------------+--------------------+--------------------+--------------------+--------------------+--------------------+--------------------+--------------------+--------------------+--------------------+--------------------+--------------------+--------------------+--------------------+--------------------+--------------------+--------------------+--------------------+--------------------+--------------------+--------------------+--------------------+--------------------+--------------------+--------------------+--------------------+--------------------+--------------------+--------------------+--------------------+--------------------+--------------------+--------------------+--------------------+--------------------+--------------------+--------------------+--------------------+--------------------+--------------------+--------------------+--------------------+--------------------+--------------------+--------------------+--------------------+--------------------+--------------------+--------------------+--------------------+--------------------+--------------------+--------------------+--------------------+--------------------+--------------------+--------------------+--------------------+--------------------+--------------------+--------------------+--------------------+--------------------+--------------------+--------------------+--------------------+--------------------+--------------------+--------------------+--------------------+--------------------+--------------------+--------------------+--------------------+--------------------+--------------------+--------------------+--------------------+--------------------+--------------------+--------------------+--------------------+--------------------+--------------------+--------------------+--------------------+--------------------+--------------------+--------------------+--------------------+--------------------+--------------------+--------------------+--------------------+--------------------+--------------------+--------------------+--------------------+--------------------+--------------------+--------------------+--------------------+--------------------+--------------------+--------------------+--------------------+--------------------+--------------------+--------------------+--------------------+--------------------+--------------------+--------------------+--------------------+--------------------+--------------------+--------------------+--------------------+--------------------+--------------------+--------------------+--------------------+--------------------+--------------------+--------------------+--------------------+--------------------+--------------------+--------------------+--------------------+--------------------+--------------------+--------------------+--------------------+--------------------+--------------------+--------------------+--------------------+--------------------+--------------------+--------------------+--------------------+--------------------+--------------------+--------------------+--------------------+--------------------+--------------------+--------------------+-------------------+--------------------+--------------------+--------------------+--------------------+--------------------+--------------------+--------------------+--------------------+--------------------+--------------------+--------------------+--------------------+--------------------+--------------------+--------------------+--------------------+--------------------+--------------------+--------------------+--------------------+--------------------+--------------------+--------------------+--------------------+--------------------+--------------------+--------------------+--------------------+--------------------+--------------------+--------------------+--------------------+--------------------+--------------------+--------------------+--------------------+--------------------+--------------------+--------------------+--------------------+--------------------+--------------------+--------------------+--------------------+--------------------+--------------------+--------------------+--------------------+--------------------+--------------------+--------------------+--------------------+--------------------+--------------------+--------------------+--------------------+--------------------+--------------------+--------------------+--------------------+--------------------+--------------------+--------------------+--------------------+--------------------+--------------------+--------------------+--------------------+--------------------+--------------------+--------------------+--------------------+--------------------+--------------------+--------------------+--------------------+--------------------+--------------------+--------------------+--------------------+--------------------+--------------------+--------------------+--------------------+--------------------+--------------------+--------------------+--------------------+--------------------+--------------------+--------------------+--------------------+--------------------+--------------------+--------------------+--------------------+--------------------+--------------------+--------------------+--------------------+--------------------+--------------------+--------------------+--------------------+--------------------+--------------------+--------------------+--------------------+--------------------+--------------------+--------------------+--------------------+--------------------+--------------------+--------------------+--------------------+--------------------+--------------------+--------------------+--------------------+--------------------+--------------------+--------------------+--------------------+--------------------+--------------------+--------------------+--------------------+--------------------+--------------------+--------------------+--------------------+--------------------+--------------------+--------------------+--------------------+--------------------+--------------------+--------------------+--------------------+\n",
            "only showing top 5 rows\n",
            "\n"
          ]
        }
      ],
      "source": [
        "df=df.join(embeddings_df, on=\"id\", how=\"inner\").drop(\"id\")\n",
        "df.show(5)"
      ]
    },
    {
      "cell_type": "markdown",
      "metadata": {
        "id": "hY4One5i4VXh"
      },
      "source": [
        "### Task 3 - Cluster products using K-means"
      ]
    },
    {
      "cell_type": "markdown",
      "metadata": {
        "id": "QVGiIJZC22Yo"
      },
      "source": [
        "Assemble the 512 Embedding Columns into a Single 'features' Column"
      ]
    },
    {
      "cell_type": "code",
      "execution_count": 16,
      "metadata": {
        "id": "uCBdSiRb23Wx"
      },
      "outputs": [
        {
          "name": "stdout",
          "output_type": "stream",
          "text": [
            "+----------+--------------------+--------------------+--------------------+\n",
            "|product_id|               title|         description|            features|\n",
            "+----------+--------------------+--------------------+--------------------+\n",
            "|        P0|Men's 3X Large Ca...|This heavyweight,...|[0.03746229410171...|\n",
            "|        P1|Turmode 30 ft. RP...|If you need more ...|[0.03523961082100...|\n",
            "|        P2|Large Tapestry Bo...|Polyester cover r...|[0.03586056455969...|\n",
            "|        P3|16-Gauge-Sinks Ve...|It features a rec...|[-0.0583403557538...|\n",
            "|        P4|Men's Crazy Horse...|This 9 in. black ...|[0.01998496614396...|\n",
            "+----------+--------------------+--------------------+--------------------+\n",
            "only showing top 5 rows\n",
            "\n"
          ]
        }
      ],
      "source": [
        "# Create a VectorAssembler to combine the embedding columns into a single vector column\n",
        "vector_assembler = VectorAssembler(inputCols=features_column_names, outputCol=\"features\")\n",
        "df_vector = vector_assembler.transform(df)\n",
        "df_vector = df_vector.select(\"product_id\", \"title\", \"description\", \"features\")\n",
        "df_vector.show(5)"
      ]
    },
    {
      "cell_type": "markdown",
      "metadata": {
        "id": "7VFW7IQN3nGw"
      },
      "source": [
        "Apply K-Means Clustering with 5 Clusters on the `features` Column"
      ]
    },
    {
      "cell_type": "code",
      "execution_count": 17,
      "metadata": {
        "id": "rW42NbueuByN"
      },
      "outputs": [
        {
          "name": "stdout",
          "output_type": "stream",
          "text": [
            "+----------+--------------------+--------------------+--------------------+-------+\n",
            "|product_id|               title|         description|            features|cluster|\n",
            "+----------+--------------------+--------------------+--------------------+-------+\n",
            "|        P0|Men's 3X Large Ca...|This heavyweight,...|[0.03746229410171...|      1|\n",
            "|        P1|Turmode 30 ft. RP...|If you need more ...|[0.03523961082100...|      1|\n",
            "|        P2|Large Tapestry Bo...|Polyester cover r...|[0.03586056455969...|      2|\n",
            "|        P3|16-Gauge-Sinks Ve...|It features a rec...|[-0.0583403557538...|      3|\n",
            "|        P4|Men's Crazy Horse...|This 9 in. black ...|[0.01998496614396...|      1|\n",
            "+----------+--------------------+--------------------+--------------------+-------+\n",
            "only showing top 5 rows\n",
            "\n"
          ]
        }
      ],
      "source": [
        "#Apply KMeans clustering to the vectorized data\n",
        "kmeans = KMeans(k=5, featuresCol=\"features\", predictionCol=\"cluster\")\n",
        "kmeans_model = kmeans.fit(df_vector)\n",
        "# Make predictions\n",
        "clustered_data = kmeans_model.transform(df_vector)\n",
        "clustered_data.show(5)"
      ]
    },
    {
      "cell_type": "markdown",
      "metadata": {
        "id": "tmQsXruiibQN"
      },
      "source": [
        "### Task 4 - Visualize the clusters"
      ]
    },
    {
      "cell_type": "markdown",
      "metadata": {
        "id": "RcKNghIQ7tmW"
      },
      "source": [
        "Let's reduce the dimensionality of our features for visualization purpose\n",
        "\n",
        "`512 dimensions => 2 dimensions`"
      ]
    },
    {
      "cell_type": "code",
      "execution_count": 18,
      "metadata": {
        "id": "j4nInmIO3kef"
      },
      "outputs": [
        {
          "name": "stdout",
          "output_type": "stream",
          "text": [
            "+----------+--------------------+--------------------+--------------------+-------+--------------------+\n",
            "|product_id|               title|         description|            features|cluster|        pca_features|\n",
            "+----------+--------------------+--------------------+--------------------+-------+--------------------+\n",
            "|        P0|Men's 3X Large Ca...|This heavyweight,...|[0.03746229410171...|      1|[0.17175422895204...|\n",
            "|        P1|Turmode 30 ft. RP...|If you need more ...|[0.03523961082100...|      1|[-0.1712201838770...|\n",
            "|        P2|Large Tapestry Bo...|Polyester cover r...|[0.03586056455969...|      2|[-0.0157152123515...|\n",
            "|        P3|16-Gauge-Sinks Ve...|It features a rec...|[-0.0583403557538...|      3|[0.00184801379850...|\n",
            "|        P4|Men's Crazy Horse...|This 9 in. black ...|[0.01998496614396...|      1|[-0.0290300480526...|\n",
            "+----------+--------------------+--------------------+--------------------+-------+--------------------+\n",
            "only showing top 5 rows\n",
            "\n"
          ]
        }
      ],
      "source": [
        "#Reduce the dimensionality of the data using PCA\n",
        "pca = PCA(k=2, inputCol=\"features\", outputCol=\"pca_features\")\n",
        "pca_model = pca.fit(clustered_data)\n",
        "# Transform the data using PCA\n",
        "pca_predictions = pca_model.transform(clustered_data)\n",
        "pca_predictions.show(5)"
      ]
    },
    {
      "cell_type": "code",
      "execution_count": 19,
      "metadata": {
        "id": "GTDBB6hfl5B1"
      },
      "outputs": [
        {
          "data": {
            "text/html": [
              "<div>\n",
              "<style scoped>\n",
              "    .dataframe tbody tr th:only-of-type {\n",
              "        vertical-align: middle;\n",
              "    }\n",
              "\n",
              "    .dataframe tbody tr th {\n",
              "        vertical-align: top;\n",
              "    }\n",
              "\n",
              "    .dataframe thead th {\n",
              "        text-align: right;\n",
              "    }\n",
              "</style>\n",
              "<table border=\"1\" class=\"dataframe\">\n",
              "  <thead>\n",
              "    <tr style=\"text-align: right;\">\n",
              "      <th></th>\n",
              "      <th>product_id</th>\n",
              "      <th>cluster</th>\n",
              "      <th>pca_features</th>\n",
              "    </tr>\n",
              "  </thead>\n",
              "  <tbody>\n",
              "    <tr>\n",
              "      <th>0</th>\n",
              "      <td>P0</td>\n",
              "      <td>1</td>\n",
              "      <td>[0.1717542289520449, -0.030842862242463177]</td>\n",
              "    </tr>\n",
              "    <tr>\n",
              "      <th>1</th>\n",
              "      <td>P1</td>\n",
              "      <td>1</td>\n",
              "      <td>[-0.1712201838770119, 0.13222755896218577]</td>\n",
              "    </tr>\n",
              "    <tr>\n",
              "      <th>2</th>\n",
              "      <td>P2</td>\n",
              "      <td>2</td>\n",
              "      <td>[-0.01571521235154917, -0.3101509581758502]</td>\n",
              "    </tr>\n",
              "    <tr>\n",
              "      <th>3</th>\n",
              "      <td>P3</td>\n",
              "      <td>3</td>\n",
              "      <td>[0.0018480137985098844, -0.05692967020347345]</td>\n",
              "    </tr>\n",
              "    <tr>\n",
              "      <th>4</th>\n",
              "      <td>P4</td>\n",
              "      <td>1</td>\n",
              "      <td>[-0.02903004805265498, 0.03971240652884337]</td>\n",
              "    </tr>\n",
              "  </tbody>\n",
              "</table>\n",
              "</div>"
            ],
            "text/plain": [
              "  product_id  cluster                                   pca_features\n",
              "0         P0        1    [0.1717542289520449, -0.030842862242463177]\n",
              "1         P1        1     [-0.1712201838770119, 0.13222755896218577]\n",
              "2         P2        2    [-0.01571521235154917, -0.3101509581758502]\n",
              "3         P3        3  [0.0018480137985098844, -0.05692967020347345]\n",
              "4         P4        1    [-0.02903004805265498, 0.03971240652884337]"
            ]
          },
          "execution_count": 19,
          "metadata": {},
          "output_type": "execute_result"
        }
      ],
      "source": [
        "pca_df = pca_predictions.select(\"product_id\", \"cluster\", \"pca_features\").toPandas()\n",
        "pca_df.head(5)"
      ]
    },
    {
      "cell_type": "markdown",
      "metadata": {
        "id": "7aKKtmrtz6JI"
      },
      "source": [
        "Let's plot the Clusters"
      ]
    },
    {
      "cell_type": "code",
      "execution_count": 20,
      "metadata": {},
      "outputs": [
        {
          "data": {
            "text/html": [
              "<div>\n",
              "<style scoped>\n",
              "    .dataframe tbody tr th:only-of-type {\n",
              "        vertical-align: middle;\n",
              "    }\n",
              "\n",
              "    .dataframe tbody tr th {\n",
              "        vertical-align: top;\n",
              "    }\n",
              "\n",
              "    .dataframe thead th {\n",
              "        text-align: right;\n",
              "    }\n",
              "</style>\n",
              "<table border=\"1\" class=\"dataframe\">\n",
              "  <thead>\n",
              "    <tr style=\"text-align: right;\">\n",
              "      <th></th>\n",
              "      <th>product_id</th>\n",
              "      <th>cluster</th>\n",
              "      <th>pca_features</th>\n",
              "      <th>x</th>\n",
              "      <th>y</th>\n",
              "    </tr>\n",
              "  </thead>\n",
              "  <tbody>\n",
              "    <tr>\n",
              "      <th>0</th>\n",
              "      <td>P0</td>\n",
              "      <td>1</td>\n",
              "      <td>[0.1717542289520449, -0.030842862242463177]</td>\n",
              "      <td>0.171754</td>\n",
              "      <td>-0.030843</td>\n",
              "    </tr>\n",
              "    <tr>\n",
              "      <th>1</th>\n",
              "      <td>P1</td>\n",
              "      <td>1</td>\n",
              "      <td>[-0.1712201838770119, 0.13222755896218577]</td>\n",
              "      <td>-0.171220</td>\n",
              "      <td>0.132228</td>\n",
              "    </tr>\n",
              "    <tr>\n",
              "      <th>2</th>\n",
              "      <td>P2</td>\n",
              "      <td>2</td>\n",
              "      <td>[-0.01571521235154917, -0.3101509581758502]</td>\n",
              "      <td>-0.015715</td>\n",
              "      <td>-0.310151</td>\n",
              "    </tr>\n",
              "    <tr>\n",
              "      <th>3</th>\n",
              "      <td>P3</td>\n",
              "      <td>3</td>\n",
              "      <td>[0.0018480137985098844, -0.05692967020347345]</td>\n",
              "      <td>0.001848</td>\n",
              "      <td>-0.056930</td>\n",
              "    </tr>\n",
              "    <tr>\n",
              "      <th>4</th>\n",
              "      <td>P4</td>\n",
              "      <td>1</td>\n",
              "      <td>[-0.02903004805265498, 0.03971240652884337]</td>\n",
              "      <td>-0.029030</td>\n",
              "      <td>0.039712</td>\n",
              "    </tr>\n",
              "  </tbody>\n",
              "</table>\n",
              "</div>"
            ],
            "text/plain": [
              "  product_id  cluster                                   pca_features  \\\n",
              "0         P0        1    [0.1717542289520449, -0.030842862242463177]   \n",
              "1         P1        1     [-0.1712201838770119, 0.13222755896218577]   \n",
              "2         P2        2    [-0.01571521235154917, -0.3101509581758502]   \n",
              "3         P3        3  [0.0018480137985098844, -0.05692967020347345]   \n",
              "4         P4        1    [-0.02903004805265498, 0.03971240652884337]   \n",
              "\n",
              "          x         y  \n",
              "0  0.171754 -0.030843  \n",
              "1 -0.171220  0.132228  \n",
              "2 -0.015715 -0.310151  \n",
              "3  0.001848 -0.056930  \n",
              "4 -0.029030  0.039712  "
            ]
          },
          "execution_count": 20,
          "metadata": {},
          "output_type": "execute_result"
        }
      ],
      "source": [
        "pca_df['x'] = pca_df['pca_features'].apply(lambda x: x[0])\n",
        "pca_df['y'] = pca_df['pca_features'].apply(lambda x: x[1])\n",
        "pca_df.head(5)"
      ]
    },
    {
      "cell_type": "code",
      "execution_count": 21,
      "metadata": {
        "id": "wyWDqBw63yyo"
      },
      "outputs": [
        {
          "data": {
            "application/vnd.plotly.v1+json": {
              "config": {
                "plotlyServerURL": "https://plot.ly"
              },
              "data": [
                {
                  "customdata": [
                    [
                      "P0"
                    ],
                    [
                      "P1"
                    ],
                    [
                      "P4"
                    ],
                    [
                      "P7"
                    ],
                    [
                      "P13"
                    ],
                    [
                      "P22"
                    ],
                    [
                      "P23"
                    ],
                    [
                      "P28"
                    ],
                    [
                      "P37"
                    ],
                    [
                      "P46"
                    ],
                    [
                      "P47"
                    ],
                    [
                      "P57"
                    ],
                    [
                      "P82"
                    ],
                    [
                      "P94"
                    ],
                    [
                      "P96"
                    ],
                    [
                      "P102"
                    ],
                    [
                      "P114"
                    ],
                    [
                      "P115"
                    ],
                    [
                      "P139"
                    ],
                    [
                      "P150"
                    ],
                    [
                      "P153"
                    ],
                    [
                      "P161"
                    ],
                    [
                      "P163"
                    ],
                    [
                      "P169"
                    ],
                    [
                      "P170"
                    ],
                    [
                      "P174"
                    ],
                    [
                      "P181"
                    ],
                    [
                      "P190"
                    ],
                    [
                      "P191"
                    ],
                    [
                      "P196"
                    ],
                    [
                      "P202"
                    ],
                    [
                      "P206"
                    ],
                    [
                      "P216"
                    ],
                    [
                      "P217"
                    ],
                    [
                      "P226"
                    ],
                    [
                      "P232"
                    ],
                    [
                      "P239"
                    ],
                    [
                      "P245"
                    ],
                    [
                      "P256"
                    ],
                    [
                      "P266"
                    ],
                    [
                      "P272"
                    ],
                    [
                      "P273"
                    ],
                    [
                      "P274"
                    ],
                    [
                      "P281"
                    ],
                    [
                      "P284"
                    ],
                    [
                      "P285"
                    ],
                    [
                      "P288"
                    ],
                    [
                      "P289"
                    ],
                    [
                      "P308"
                    ],
                    [
                      "P309"
                    ],
                    [
                      "P319"
                    ],
                    [
                      "P322"
                    ],
                    [
                      "P326"
                    ],
                    [
                      "P328"
                    ],
                    [
                      "P331"
                    ],
                    [
                      "P334"
                    ],
                    [
                      "P344"
                    ],
                    [
                      "P346"
                    ],
                    [
                      "P348"
                    ],
                    [
                      "P349"
                    ],
                    [
                      "P354"
                    ],
                    [
                      "P357"
                    ],
                    [
                      "P360"
                    ],
                    [
                      "P367"
                    ],
                    [
                      "P368"
                    ],
                    [
                      "P373"
                    ],
                    [
                      "P374"
                    ],
                    [
                      "P395"
                    ],
                    [
                      "P403"
                    ],
                    [
                      "P410"
                    ],
                    [
                      "P411"
                    ],
                    [
                      "P419"
                    ],
                    [
                      "P431"
                    ],
                    [
                      "P434"
                    ],
                    [
                      "P437"
                    ],
                    [
                      "P438"
                    ],
                    [
                      "P439"
                    ],
                    [
                      "P446"
                    ],
                    [
                      "P455"
                    ],
                    [
                      "P457"
                    ],
                    [
                      "P467"
                    ],
                    [
                      "P472"
                    ],
                    [
                      "P482"
                    ],
                    [
                      "P494"
                    ],
                    [
                      "P499"
                    ],
                    [
                      "P507"
                    ],
                    [
                      "P514"
                    ],
                    [
                      "P517"
                    ],
                    [
                      "P519"
                    ],
                    [
                      "P523"
                    ],
                    [
                      "P525"
                    ],
                    [
                      "P527"
                    ],
                    [
                      "P544"
                    ],
                    [
                      "P547"
                    ],
                    [
                      "P548"
                    ],
                    [
                      "P554"
                    ],
                    [
                      "P556"
                    ],
                    [
                      "P577"
                    ],
                    [
                      "P579"
                    ],
                    [
                      "P582"
                    ],
                    [
                      "P587"
                    ],
                    [
                      "P597"
                    ],
                    [
                      "P605"
                    ],
                    [
                      "P609"
                    ],
                    [
                      "P615"
                    ],
                    [
                      "P617"
                    ],
                    [
                      "P618"
                    ],
                    [
                      "P624"
                    ],
                    [
                      "P626"
                    ],
                    [
                      "P628"
                    ],
                    [
                      "P633"
                    ],
                    [
                      "P636"
                    ],
                    [
                      "P637"
                    ],
                    [
                      "P641"
                    ],
                    [
                      "P643"
                    ],
                    [
                      "P646"
                    ],
                    [
                      "P648"
                    ],
                    [
                      "P654"
                    ],
                    [
                      "P661"
                    ],
                    [
                      "P665"
                    ],
                    [
                      "P669"
                    ],
                    [
                      "P670"
                    ],
                    [
                      "P671"
                    ],
                    [
                      "P674"
                    ],
                    [
                      "P675"
                    ],
                    [
                      "P676"
                    ],
                    [
                      "P680"
                    ],
                    [
                      "P697"
                    ],
                    [
                      "P698"
                    ],
                    [
                      "P700"
                    ],
                    [
                      "P701"
                    ],
                    [
                      "P706"
                    ],
                    [
                      "P709"
                    ],
                    [
                      "P711"
                    ],
                    [
                      "P713"
                    ],
                    [
                      "P714"
                    ],
                    [
                      "P743"
                    ],
                    [
                      "P745"
                    ],
                    [
                      "P746"
                    ],
                    [
                      "P748"
                    ],
                    [
                      "P757"
                    ],
                    [
                      "P760"
                    ],
                    [
                      "P764"
                    ],
                    [
                      "P773"
                    ],
                    [
                      "P778"
                    ],
                    [
                      "P788"
                    ],
                    [
                      "P790"
                    ],
                    [
                      "P793"
                    ],
                    [
                      "P795"
                    ],
                    [
                      "P800"
                    ],
                    [
                      "P804"
                    ],
                    [
                      "P805"
                    ],
                    [
                      "P808"
                    ],
                    [
                      "P815"
                    ],
                    [
                      "P818"
                    ],
                    [
                      "P822"
                    ],
                    [
                      "P823"
                    ],
                    [
                      "P827"
                    ],
                    [
                      "P828"
                    ],
                    [
                      "P830"
                    ],
                    [
                      "P838"
                    ],
                    [
                      "P842"
                    ],
                    [
                      "P870"
                    ],
                    [
                      "P885"
                    ],
                    [
                      "P896"
                    ],
                    [
                      "P897"
                    ],
                    [
                      "P903"
                    ],
                    [
                      "P905"
                    ],
                    [
                      "P908"
                    ],
                    [
                      "P912"
                    ],
                    [
                      "P919"
                    ],
                    [
                      "P923"
                    ],
                    [
                      "P929"
                    ],
                    [
                      "P939"
                    ],
                    [
                      "P957"
                    ],
                    [
                      "P961"
                    ],
                    [
                      "P962"
                    ],
                    [
                      "P965"
                    ],
                    [
                      "P969"
                    ],
                    [
                      "P972"
                    ],
                    [
                      "P981"
                    ],
                    [
                      "P982"
                    ],
                    [
                      "P984"
                    ],
                    [
                      "P985"
                    ],
                    [
                      "P996"
                    ],
                    [
                      "P997"
                    ],
                    [
                      "P1010"
                    ],
                    [
                      "P1016"
                    ],
                    [
                      "P1022"
                    ],
                    [
                      "P1028"
                    ],
                    [
                      "P1032"
                    ],
                    [
                      "P1034"
                    ],
                    [
                      "P1036"
                    ],
                    [
                      "P1049"
                    ],
                    [
                      "P1055"
                    ],
                    [
                      "P1066"
                    ],
                    [
                      "P1067"
                    ],
                    [
                      "P1068"
                    ],
                    [
                      "P1075"
                    ],
                    [
                      "P1092"
                    ],
                    [
                      "P1093"
                    ],
                    [
                      "P1097"
                    ],
                    [
                      "P1098"
                    ],
                    [
                      "P1100"
                    ],
                    [
                      "P1106"
                    ],
                    [
                      "P1111"
                    ],
                    [
                      "P1124"
                    ],
                    [
                      "P1127"
                    ],
                    [
                      "P1152"
                    ],
                    [
                      "P1156"
                    ],
                    [
                      "P1157"
                    ],
                    [
                      "P1158"
                    ],
                    [
                      "P1160"
                    ],
                    [
                      "P1163"
                    ],
                    [
                      "P1178"
                    ],
                    [
                      "P1182"
                    ],
                    [
                      "P1184"
                    ],
                    [
                      "P1186"
                    ],
                    [
                      "P1191"
                    ],
                    [
                      "P1192"
                    ],
                    [
                      "P1193"
                    ],
                    [
                      "P1210"
                    ],
                    [
                      "P1219"
                    ],
                    [
                      "P1227"
                    ],
                    [
                      "P1230"
                    ],
                    [
                      "P1238"
                    ],
                    [
                      "P1241"
                    ],
                    [
                      "P1244"
                    ],
                    [
                      "P1250"
                    ],
                    [
                      "P1251"
                    ],
                    [
                      "P1256"
                    ],
                    [
                      "P1264"
                    ],
                    [
                      "P1273"
                    ],
                    [
                      "P1280"
                    ],
                    [
                      "P1288"
                    ],
                    [
                      "P1293"
                    ],
                    [
                      "P1294"
                    ],
                    [
                      "P1304"
                    ],
                    [
                      "P1307"
                    ],
                    [
                      "P1314"
                    ],
                    [
                      "P1319"
                    ],
                    [
                      "P1329"
                    ],
                    [
                      "P1332"
                    ],
                    [
                      "P1338"
                    ],
                    [
                      "P1340"
                    ],
                    [
                      "P1347"
                    ],
                    [
                      "P1353"
                    ],
                    [
                      "P1366"
                    ],
                    [
                      "P1369"
                    ],
                    [
                      "P1371"
                    ],
                    [
                      "P1379"
                    ],
                    [
                      "P1390"
                    ],
                    [
                      "P1392"
                    ],
                    [
                      "P1393"
                    ],
                    [
                      "P1395"
                    ],
                    [
                      "P1396"
                    ],
                    [
                      "P1399"
                    ],
                    [
                      "P1427"
                    ],
                    [
                      "P1431"
                    ],
                    [
                      "P1439"
                    ],
                    [
                      "P1442"
                    ],
                    [
                      "P1451"
                    ],
                    [
                      "P1464"
                    ],
                    [
                      "P1472"
                    ],
                    [
                      "P1473"
                    ],
                    [
                      "P1482"
                    ],
                    [
                      "P1485"
                    ],
                    [
                      "P1488"
                    ],
                    [
                      "P1493"
                    ],
                    [
                      "P1500"
                    ],
                    [
                      "P1507"
                    ],
                    [
                      "P1508"
                    ],
                    [
                      "P1509"
                    ],
                    [
                      "P1512"
                    ],
                    [
                      "P1513"
                    ],
                    [
                      "P1514"
                    ],
                    [
                      "P1517"
                    ],
                    [
                      "P1520"
                    ],
                    [
                      "P1524"
                    ],
                    [
                      "P1525"
                    ],
                    [
                      "P1535"
                    ],
                    [
                      "P1547"
                    ],
                    [
                      "P1552"
                    ],
                    [
                      "P1554"
                    ],
                    [
                      "P1562"
                    ],
                    [
                      "P1566"
                    ],
                    [
                      "P1568"
                    ],
                    [
                      "P1570"
                    ],
                    [
                      "P1576"
                    ],
                    [
                      "P1577"
                    ],
                    [
                      "P1582"
                    ],
                    [
                      "P1587"
                    ],
                    [
                      "P1588"
                    ],
                    [
                      "P1589"
                    ],
                    [
                      "P1592"
                    ],
                    [
                      "P1603"
                    ],
                    [
                      "P1607"
                    ],
                    [
                      "P1609"
                    ],
                    [
                      "P1620"
                    ],
                    [
                      "P1630"
                    ],
                    [
                      "P1633"
                    ],
                    [
                      "P1653"
                    ],
                    [
                      "P1656"
                    ],
                    [
                      "P1658"
                    ],
                    [
                      "P1659"
                    ],
                    [
                      "P1668"
                    ],
                    [
                      "P1682"
                    ],
                    [
                      "P1684"
                    ],
                    [
                      "P1686"
                    ],
                    [
                      "P1687"
                    ],
                    [
                      "P1692"
                    ],
                    [
                      "P1711"
                    ],
                    [
                      "P1720"
                    ],
                    [
                      "P1724"
                    ],
                    [
                      "P1737"
                    ],
                    [
                      "P1740"
                    ],
                    [
                      "P1744"
                    ],
                    [
                      "P1753"
                    ],
                    [
                      "P1757"
                    ],
                    [
                      "P1763"
                    ],
                    [
                      "P1776"
                    ],
                    [
                      "P1779"
                    ],
                    [
                      "P1783"
                    ],
                    [
                      "P1784"
                    ],
                    [
                      "P1785"
                    ],
                    [
                      "P1800"
                    ],
                    [
                      "P1806"
                    ],
                    [
                      "P1809"
                    ],
                    [
                      "P1810"
                    ],
                    [
                      "P1814"
                    ],
                    [
                      "P1820"
                    ],
                    [
                      "P1821"
                    ],
                    [
                      "P1823"
                    ],
                    [
                      "P1829"
                    ],
                    [
                      "P1839"
                    ],
                    [
                      "P1841"
                    ],
                    [
                      "P1843"
                    ],
                    [
                      "P1844"
                    ],
                    [
                      "P1847"
                    ],
                    [
                      "P1848"
                    ],
                    [
                      "P1857"
                    ],
                    [
                      "P1875"
                    ],
                    [
                      "P1879"
                    ],
                    [
                      "P1881"
                    ],
                    [
                      "P1883"
                    ],
                    [
                      "P1887"
                    ],
                    [
                      "P1888"
                    ],
                    [
                      "P1897"
                    ],
                    [
                      "P1902"
                    ],
                    [
                      "P1914"
                    ],
                    [
                      "P1919"
                    ],
                    [
                      "P1923"
                    ],
                    [
                      "P1941"
                    ],
                    [
                      "P1948"
                    ],
                    [
                      "P1949"
                    ],
                    [
                      "P1954"
                    ],
                    [
                      "P1956"
                    ],
                    [
                      "P1960"
                    ],
                    [
                      "P1966"
                    ],
                    [
                      "P1972"
                    ],
                    [
                      "P1982"
                    ],
                    [
                      "P1985"
                    ],
                    [
                      "P1986"
                    ],
                    [
                      "P1993"
                    ]
                  ],
                  "hovertemplate": "color=1<br>PCA Component 1=%{x}<br>PCA Component 2=%{y}<br>product_id=%{customdata[0]}<extra></extra>",
                  "legendgroup": "1",
                  "marker": {
                    "color": "#636efa",
                    "opacity": 0.6,
                    "symbol": "circle"
                  },
                  "mode": "markers",
                  "name": "1",
                  "showlegend": true,
                  "type": "scattergl",
                  "x": {
                    "bdata": "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",
                    "dtype": "f8"
                  },
                  "xaxis": "x",
                  "y": {
                    "bdata": "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",
                    "dtype": "f8"
                  },
                  "yaxis": "y"
                },
                {
                  "customdata": [
                    [
                      "P2"
                    ],
                    [
                      "P21"
                    ],
                    [
                      "P52"
                    ],
                    [
                      "P71"
                    ],
                    [
                      "P87"
                    ],
                    [
                      "P101"
                    ],
                    [
                      "P108"
                    ],
                    [
                      "P119"
                    ],
                    [
                      "P126"
                    ],
                    [
                      "P145"
                    ],
                    [
                      "P148"
                    ],
                    [
                      "P149"
                    ],
                    [
                      "P179"
                    ],
                    [
                      "P180"
                    ],
                    [
                      "P187"
                    ],
                    [
                      "P188"
                    ],
                    [
                      "P214"
                    ],
                    [
                      "P224"
                    ],
                    [
                      "P251"
                    ],
                    [
                      "P261"
                    ],
                    [
                      "P262"
                    ],
                    [
                      "P263"
                    ],
                    [
                      "P265"
                    ],
                    [
                      "P269"
                    ],
                    [
                      "P275"
                    ],
                    [
                      "P279"
                    ],
                    [
                      "P292"
                    ],
                    [
                      "P302"
                    ],
                    [
                      "P306"
                    ],
                    [
                      "P316"
                    ],
                    [
                      "P333"
                    ],
                    [
                      "P355"
                    ],
                    [
                      "P383"
                    ],
                    [
                      "P389"
                    ],
                    [
                      "P393"
                    ],
                    [
                      "P405"
                    ],
                    [
                      "P408"
                    ],
                    [
                      "P421"
                    ],
                    [
                      "P422"
                    ],
                    [
                      "P424"
                    ],
                    [
                      "P436"
                    ],
                    [
                      "P445"
                    ],
                    [
                      "P451"
                    ],
                    [
                      "P468"
                    ],
                    [
                      "P470"
                    ],
                    [
                      "P487"
                    ],
                    [
                      "P492"
                    ],
                    [
                      "P502"
                    ],
                    [
                      "P531"
                    ],
                    [
                      "P534"
                    ],
                    [
                      "P535"
                    ],
                    [
                      "P536"
                    ],
                    [
                      "P538"
                    ],
                    [
                      "P565"
                    ],
                    [
                      "P568"
                    ],
                    [
                      "P571"
                    ],
                    [
                      "P584"
                    ],
                    [
                      "P598"
                    ],
                    [
                      "P602"
                    ],
                    [
                      "P614"
                    ],
                    [
                      "P622"
                    ],
                    [
                      "P652"
                    ],
                    [
                      "P655"
                    ],
                    [
                      "P683"
                    ],
                    [
                      "P708"
                    ],
                    [
                      "P738"
                    ],
                    [
                      "P741"
                    ],
                    [
                      "P817"
                    ],
                    [
                      "P821"
                    ],
                    [
                      "P824"
                    ],
                    [
                      "P831"
                    ],
                    [
                      "P834"
                    ],
                    [
                      "P836"
                    ],
                    [
                      "P848"
                    ],
                    [
                      "P849"
                    ],
                    [
                      "P872"
                    ],
                    [
                      "P884"
                    ],
                    [
                      "P927"
                    ],
                    [
                      "P967"
                    ],
                    [
                      "P968"
                    ],
                    [
                      "P995"
                    ],
                    [
                      "P1001"
                    ],
                    [
                      "P1038"
                    ],
                    [
                      "P1043"
                    ],
                    [
                      "P1045"
                    ],
                    [
                      "P1050"
                    ],
                    [
                      "P1077"
                    ],
                    [
                      "P1078"
                    ],
                    [
                      "P1081"
                    ],
                    [
                      "P1091"
                    ],
                    [
                      "P1095"
                    ],
                    [
                      "P1103"
                    ],
                    [
                      "P1105"
                    ],
                    [
                      "P1113"
                    ],
                    [
                      "P1115"
                    ],
                    [
                      "P1119"
                    ],
                    [
                      "P1134"
                    ],
                    [
                      "P1146"
                    ],
                    [
                      "P1147"
                    ],
                    [
                      "P1149"
                    ],
                    [
                      "P1166"
                    ],
                    [
                      "P1167"
                    ],
                    [
                      "P1168"
                    ],
                    [
                      "P1179"
                    ],
                    [
                      "P1223"
                    ],
                    [
                      "P1228"
                    ],
                    [
                      "P1237"
                    ],
                    [
                      "P1252"
                    ],
                    [
                      "P1253"
                    ],
                    [
                      "P1279"
                    ],
                    [
                      "P1290"
                    ],
                    [
                      "P1318"
                    ],
                    [
                      "P1321"
                    ],
                    [
                      "P1322"
                    ],
                    [
                      "P1323"
                    ],
                    [
                      "P1326"
                    ],
                    [
                      "P1337"
                    ],
                    [
                      "P1343"
                    ],
                    [
                      "P1376"
                    ],
                    [
                      "P1380"
                    ],
                    [
                      "P1386"
                    ],
                    [
                      "P1397"
                    ],
                    [
                      "P1398"
                    ],
                    [
                      "P1408"
                    ],
                    [
                      "P1430"
                    ],
                    [
                      "P1433"
                    ],
                    [
                      "P1437"
                    ],
                    [
                      "P1448"
                    ],
                    [
                      "P1457"
                    ],
                    [
                      "P1476"
                    ],
                    [
                      "P1478"
                    ],
                    [
                      "P1479"
                    ],
                    [
                      "P1502"
                    ],
                    [
                      "P1523"
                    ],
                    [
                      "P1526"
                    ],
                    [
                      "P1599"
                    ],
                    [
                      "P1605"
                    ],
                    [
                      "P1617"
                    ],
                    [
                      "P1654"
                    ],
                    [
                      "P1667"
                    ],
                    [
                      "P1669"
                    ],
                    [
                      "P1671"
                    ],
                    [
                      "P1677"
                    ],
                    [
                      "P1680"
                    ],
                    [
                      "P1690"
                    ],
                    [
                      "P1691"
                    ],
                    [
                      "P1706"
                    ],
                    [
                      "P1707"
                    ],
                    [
                      "P1714"
                    ],
                    [
                      "P1721"
                    ],
                    [
                      "P1735"
                    ],
                    [
                      "P1736"
                    ],
                    [
                      "P1738"
                    ],
                    [
                      "P1743"
                    ],
                    [
                      "P1746"
                    ],
                    [
                      "P1754"
                    ],
                    [
                      "P1805"
                    ],
                    [
                      "P1807"
                    ],
                    [
                      "P1808"
                    ],
                    [
                      "P1824"
                    ],
                    [
                      "P1826"
                    ],
                    [
                      "P1842"
                    ],
                    [
                      "P1859"
                    ],
                    [
                      "P1863"
                    ],
                    [
                      "P1880"
                    ],
                    [
                      "P1885"
                    ],
                    [
                      "P1894"
                    ],
                    [
                      "P1895"
                    ],
                    [
                      "P1903"
                    ],
                    [
                      "P1908"
                    ],
                    [
                      "P1910"
                    ],
                    [
                      "P1916"
                    ],
                    [
                      "P1921"
                    ],
                    [
                      "P1927"
                    ],
                    [
                      "P1931"
                    ],
                    [
                      "P1932"
                    ],
                    [
                      "P1951"
                    ],
                    [
                      "P1959"
                    ],
                    [
                      "P1974"
                    ],
                    [
                      "P1991"
                    ],
                    [
                      "P1996"
                    ],
                    [
                      "P1999"
                    ]
                  ],
                  "hovertemplate": "color=2<br>PCA Component 1=%{x}<br>PCA Component 2=%{y}<br>product_id=%{customdata[0]}<extra></extra>",
                  "legendgroup": "2",
                  "marker": {
                    "color": "#EF553B",
                    "opacity": 0.6,
                    "symbol": "circle"
                  },
                  "mode": "markers",
                  "name": "2",
                  "showlegend": true,
                  "type": "scattergl",
                  "x": {
                    "bdata": "RP1lDKYXkL/7yBt7hki0v9oxQzkw1qi/ft+vbKRpwL99lzcKMFOyv/XL9rM70ra/HUNbkycFpr8jnr57Ye+yv/tSzvoF8qK/2g4P+86IqL/Ur+NJS8Czvz9Znav0yLm/CA6gqE0dwL/0Opjcsbq9v6kFZhfI0pq/3RRRMQAAqz+DP3/rLayiv/w+nRG2Iba/Bze4sNXrxr/IkXCxhsWOP+ey23qbCrq/JprzF3KlnL+66793xpC3v0FwN+mOCMO/asiypPD0tL/19Xq1nuZ3vwCr8/Ujj6+/JoNw5iqDsL+y4x8RIA28v2nhhTVr4aW/ypmgCZG4rr9cOUzKuouOvyKMWcSHqLy/PO0Y3E5fub/JUO6Eedi5v1gX9mpX/ay/gLVUPz59sr9OCT24V3XOvwvZQuLOGJ2/MDF38TKio7+ixcLfzD7Bv02xN8k97KW/EAOkyQdrfb8cNkYHCYe6vzGLZBGnCrU/gQuDsWf2vr8JEmVlnf+wv3v0fd3bjIi/uJqeYngnnr/FdoNL7rGyv2FguLWDaMO/4mtkP4kOnb9LnYZW02GwvzRFgU4ZhL+/cHO4c0oum7/Enhpms0akv3Fu0Fk3Wai/2VvOVZ3Tlj9dIYzeGy2wv/2mN3Q+gJQ/SH+wBezYyr9Ott0Z8s+7v827P6avN7G/NqExjh4SsT9OU44tVyC9v3DU4D+oqo8/TTPQluzjp7+kewMBvr2Uv3TEfPj6VLe/2jIBR0WmtL8/aqOcE+O1v23hV2JCVsC/04gLjkk2vb+AEJUSwBSQv/+Sc09Jtri/luHU5iW0w78fYHmSPqq8v4383RUaRLi/cYtcGfqJwr9/GYoSSDrBv7WV7jaXVr6/VN5RTG1JZ783Mkj9owLGv9t1t3AOZru/1lsygBPSuL+DhIRLMjLBv3REHWU7H72/fUr/i5Eiw7/mTYYZwASdP23W7vTJoL+/UVed2GEPdL9b6AIEbDWmv7kCIgu166O/2/dw86RwqL+xOaSdT2Ouv8uLxYIeUsC/+TcKjH0ruL8tYaGZmnN7PzUisAO/ebG/Rl52IHNSwb/+QutujoPFvxCH+6jFnHI/UKoL4SixtL99WbXGDQuHvysKZus3tsS/rf9HSBErur9W5EFS7wigPy7ywZsofrO/89A6ARCgwL/YBcYMCjvBvwRcXxCBb6a/NiMDAKp3r7+IEIMNPWSyvyJ8R5b0D5M/DvNUIEq/xb9t2FDtmMTCv/SR3O1eG8G/lY1MygztzD+BXbXjsnB5v4ehdp3kS7i/kxtVHPnnoz8SbRXgYqO2v1ZD7Ec4OqW/Jzpf/dgopb8TRHoE+6W0v88N2FJ41aO/1et0Cdkxwz/hxdWkb9WzvwQHBnqOsa2/Bmp12hI5sr+p8OoQt/LBv5o+zqSQaMG/e2oLUPpJo7+GXxuUJ3LDv1hYgaPw776/36kIx2gKwr8rDoDpX4yVv55GVw/aTaK/YXzWSNZfo7887h2znqCjP/HOssI0tb+/2GMEz9gcpj9qxY/YYaWtv10VjF6Hwq+/rSlmmtRItL/5f5lpLOW0v1RVx9L0rcK/+zbngpvXpr+sHnrAG0nAv6s8J0NeV7m/ciN2S+A2sb862vnbX7uZv9slnOE9fqy/p7k8LqAqqL9HGOOb81i5v0hSpsI5F7e/7BLHd2zFt7+9bNE6j8Stv/xSNm4IGL6/L8+6/reQwr96BLwWDS+qv3K6rf09Aau/eVOqS0j3Qj+5rKNqgMrDv/oH3B9VzbS/Vzg6lQoAqL/7RamK0p+zv8WNMU3qArC/PjZA2fVbsL9CiRkVG7utv6O3M69FG8C/lcDa/nPay7+iBd2lf1upvx/4edlkfMa/JI5P2+CPvL+SAf3WHPJyP2+T5ELOd6e/Y3lBn1Vftr9UpeoH2F6qv5M3BwfrWcC/URAgrBlzr7/dXmJFmo+4vw==",
                    "dtype": "f8"
                  },
                  "xaxis": "x",
                  "y": {
                    "bdata": "xQ2MZ4PZ078HXHgejTjiv9TePASaXOK/XO2VhSuT3b/Cw5ffAxHgvyKPmA/uHeC/x3FFTvCy27/jyy7sv7fhv512qGXdHeG/C2sjIFNy4L/cj9xJjZ/hv7yfBwoTBt2/4KzL1ef44L8+Pv0kC8/gv2IBjq87qeG/wclgRVP63b/zbClQk17hvyjO58wHU+G/2e8YuiJF4b8VNKkI60rbv0gOkdFNtOC/j/3qcFox3L9HbXMu81ziv8SmAw6UfeK/u62oH0Ru3r8EZ1a3pvTfv8YE7fhclde/cLX+1jyr4L8SlNyGqjLhv8R3Ycw1luG/X28fQsaL4b/DzOzz1oPcv4YoyShXat+/RTg9r+N74L9tqngDe3vdvzXse143md+/pSFGBWtG4r+ao8B06ozgv30x4aMe79y/LGVHkwr+3r9Zw1BAQojfv5MR83oM8OO/feApGfwS4b8wQyYcFW/lvwB0YTr3B8+//WOUXv3K4b96ovawbULhv/RYNgnn4d2/BgWMpag13b+o7L2VzdLjv4mk7ah0aOK/ZY4TKCXT47+jZMh9TV/ev+eNCxD73+G/WuUJmPup4L9nBiZ+Q7jhv3MyS3O4Zt6/bt+Rr5Or3b9uE4eFwnbjvy8KexA0N8e/8LYT3FIj4r//va+qnBHgv698heD9odu/uYpAalpU4r+DvfrKcWrgv8t/LqH5HuG//3AM6mwa4b/fX7mbDeDgv1ijPbzmvOG/leUYocDW378OzVcH6ebhvyWGdx2Js+C/j+q+CNGc4L9PnSSqw1vhv+wBAd6D5N6/t1dKl6Np4r+G9QcfKEvev/zRZbhDv+W/JrLcCy2M4b+jlkv3frngv8bD6NR1EuK/6bjnRtCe4b/yJBw58QPhv69hnY/NCeG/40/1AtWV37/dRwRdO/3gv7toLOUUqt+/9FYxz5gR2r/KhIikNBXhv083OqrBQuK/i6MUwF8y3r/pMcx/2OTgv5wFzsN0auG/gEg9uewB378kNMORwBnjv7XlUnjLEeC/tDn2ItSa4L87/mp3VwLgvwOoQ1m2r92/canVnapZ4b/uoS/VL4/gv8JQKXNjfeC/lrk3og4137+HxT/K86nev34s9ihFk+G/fUxxiYv74r8UKTG45eThv+rwoB+mJeG//IsBJ9rE4r9nC08ZcH3gv+rNxBfA1eG/JF2t/2Eh4r+UzyDr/0rgv9AbKgCiYty/hf5f8vA+4b/2L9D/xIbfv9rddyTXc+C/JBQmgjlr179ufimQkBTgv3Wxq+BLhOC/UalEM9hI4L+Gc0wWxCPiv5Igxr4rxOK/PilX/KsS4r9TJewWgMLiv8h8Cjr9meK/yXuCemC8179HnzDubxXhv1tdrtVjBeG/xCaww4jv3L9yzvz6xP3gv6qmZ9PbON+/GAeGQTQ74L9+DhWBstfcv1L17bKCFOK/r2cbTqy/4L+SQc6LAo3iv7o/YkdLb+S/dHATdyB32b+Zq/Vaj8Tfv1Zt5XxQN9+/01wf8W5m3r8PA1c/6HndvwYxQ2s9/dO/yq8UQHw+4L9kYmvLVQjhv5jvjrxP+eG/YpiLPoKo3L9H5w8nmurgv0Byj8WX89i/qtB630hm4r+cr1doa+Phv0/f/nyIYOC/1poa9lDJ4b9+CQ3JXzXiv3vmrvPB4d6/x/04hI5J4L/1hQdcFIvgvxTV63BvDuC/dobKLnb04L/EzjcIbFPhv/nWG0Eei+C/82MBnCZ14b8qBRDzRHHfv0LkDHb0bOK/5zY+k8OH379f3inqj+Pfv1kXsetid+G/xpO7oNFT4r+IcgpuGYnivxb5fPqTh+K//r7sV4kS4L+iSFyFFmjhv3kU1KjE6+C/fh4lNfz/378feRuFf7Tev+cxnl4xMuC/1mxCRPZ+3r/ZfINH8QPgv1xnYmINleK/25pFJD2x4r8BuaS4OBrhvw==",
                    "dtype": "f8"
                  },
                  "yaxis": "y"
                },
                {
                  "customdata": [
                    [
                      "P3"
                    ],
                    [
                      "P8"
                    ],
                    [
                      "P9"
                    ],
                    [
                      "P14"
                    ],
                    [
                      "P17"
                    ],
                    [
                      "P20"
                    ],
                    [
                      "P27"
                    ],
                    [
                      "P29"
                    ],
                    [
                      "P32"
                    ],
                    [
                      "P34"
                    ],
                    [
                      "P35"
                    ],
                    [
                      "P36"
                    ],
                    [
                      "P39"
                    ],
                    [
                      "P42"
                    ],
                    [
                      "P44"
                    ],
                    [
                      "P48"
                    ],
                    [
                      "P49"
                    ],
                    [
                      "P55"
                    ],
                    [
                      "P56"
                    ],
                    [
                      "P60"
                    ],
                    [
                      "P61"
                    ],
                    [
                      "P62"
                    ],
                    [
                      "P64"
                    ],
                    [
                      "P66"
                    ],
                    [
                      "P67"
                    ],
                    [
                      "P68"
                    ],
                    [
                      "P73"
                    ],
                    [
                      "P74"
                    ],
                    [
                      "P75"
                    ],
                    [
                      "P76"
                    ],
                    [
                      "P77"
                    ],
                    [
                      "P78"
                    ],
                    [
                      "P79"
                    ],
                    [
                      "P85"
                    ],
                    [
                      "P86"
                    ],
                    [
                      "P91"
                    ],
                    [
                      "P95"
                    ],
                    [
                      "P99"
                    ],
                    [
                      "P103"
                    ],
                    [
                      "P104"
                    ],
                    [
                      "P109"
                    ],
                    [
                      "P110"
                    ],
                    [
                      "P116"
                    ],
                    [
                      "P120"
                    ],
                    [
                      "P121"
                    ],
                    [
                      "P127"
                    ],
                    [
                      "P130"
                    ],
                    [
                      "P134"
                    ],
                    [
                      "P136"
                    ],
                    [
                      "P137"
                    ],
                    [
                      "P144"
                    ],
                    [
                      "P147"
                    ],
                    [
                      "P151"
                    ],
                    [
                      "P162"
                    ],
                    [
                      "P164"
                    ],
                    [
                      "P168"
                    ],
                    [
                      "P172"
                    ],
                    [
                      "P184"
                    ],
                    [
                      "P193"
                    ],
                    [
                      "P194"
                    ],
                    [
                      "P197"
                    ],
                    [
                      "P207"
                    ],
                    [
                      "P227"
                    ],
                    [
                      "P228"
                    ],
                    [
                      "P233"
                    ],
                    [
                      "P235"
                    ],
                    [
                      "P236"
                    ],
                    [
                      "P238"
                    ],
                    [
                      "P243"
                    ],
                    [
                      "P247"
                    ],
                    [
                      "P250"
                    ],
                    [
                      "P255"
                    ],
                    [
                      "P257"
                    ],
                    [
                      "P270"
                    ],
                    [
                      "P276"
                    ],
                    [
                      "P277"
                    ],
                    [
                      "P286"
                    ],
                    [
                      "P290"
                    ],
                    [
                      "P293"
                    ],
                    [
                      "P296"
                    ],
                    [
                      "P297"
                    ],
                    [
                      "P303"
                    ],
                    [
                      "P304"
                    ],
                    [
                      "P307"
                    ],
                    [
                      "P310"
                    ],
                    [
                      "P315"
                    ],
                    [
                      "P317"
                    ],
                    [
                      "P330"
                    ],
                    [
                      "P335"
                    ],
                    [
                      "P337"
                    ],
                    [
                      "P343"
                    ],
                    [
                      "P345"
                    ],
                    [
                      "P347"
                    ],
                    [
                      "P352"
                    ],
                    [
                      "P353"
                    ],
                    [
                      "P356"
                    ],
                    [
                      "P358"
                    ],
                    [
                      "P361"
                    ],
                    [
                      "P363"
                    ],
                    [
                      "P369"
                    ],
                    [
                      "P370"
                    ],
                    [
                      "P371"
                    ],
                    [
                      "P372"
                    ],
                    [
                      "P376"
                    ],
                    [
                      "P379"
                    ],
                    [
                      "P385"
                    ],
                    [
                      "P388"
                    ],
                    [
                      "P392"
                    ],
                    [
                      "P396"
                    ],
                    [
                      "P407"
                    ],
                    [
                      "P413"
                    ],
                    [
                      "P417"
                    ],
                    [
                      "P429"
                    ],
                    [
                      "P435"
                    ],
                    [
                      "P440"
                    ],
                    [
                      "P442"
                    ],
                    [
                      "P443"
                    ],
                    [
                      "P458"
                    ],
                    [
                      "P461"
                    ],
                    [
                      "P463"
                    ],
                    [
                      "P465"
                    ],
                    [
                      "P466"
                    ],
                    [
                      "P471"
                    ],
                    [
                      "P474"
                    ],
                    [
                      "P475"
                    ],
                    [
                      "P477"
                    ],
                    [
                      "P481"
                    ],
                    [
                      "P484"
                    ],
                    [
                      "P488"
                    ],
                    [
                      "P489"
                    ],
                    [
                      "P495"
                    ],
                    [
                      "P500"
                    ],
                    [
                      "P501"
                    ],
                    [
                      "P509"
                    ],
                    [
                      "P510"
                    ],
                    [
                      "P511"
                    ],
                    [
                      "P512"
                    ],
                    [
                      "P522"
                    ],
                    [
                      "P526"
                    ],
                    [
                      "P532"
                    ],
                    [
                      "P539"
                    ],
                    [
                      "P546"
                    ],
                    [
                      "P551"
                    ],
                    [
                      "P552"
                    ],
                    [
                      "P559"
                    ],
                    [
                      "P561"
                    ],
                    [
                      "P562"
                    ],
                    [
                      "P563"
                    ],
                    [
                      "P569"
                    ],
                    [
                      "P570"
                    ],
                    [
                      "P572"
                    ],
                    [
                      "P573"
                    ],
                    [
                      "P574"
                    ],
                    [
                      "P578"
                    ],
                    [
                      "P588"
                    ],
                    [
                      "P589"
                    ],
                    [
                      "P590"
                    ],
                    [
                      "P591"
                    ],
                    [
                      "P593"
                    ],
                    [
                      "P595"
                    ],
                    [
                      "P600"
                    ],
                    [
                      "P606"
                    ],
                    [
                      "P611"
                    ],
                    [
                      "P613"
                    ],
                    [
                      "P616"
                    ],
                    [
                      "P621"
                    ],
                    [
                      "P625"
                    ],
                    [
                      "P629"
                    ],
                    [
                      "P630"
                    ],
                    [
                      "P639"
                    ],
                    [
                      "P644"
                    ],
                    [
                      "P649"
                    ],
                    [
                      "P656"
                    ],
                    [
                      "P657"
                    ],
                    [
                      "P658"
                    ],
                    [
                      "P662"
                    ],
                    [
                      "P666"
                    ],
                    [
                      "P668"
                    ],
                    [
                      "P673"
                    ],
                    [
                      "P677"
                    ],
                    [
                      "P682"
                    ],
                    [
                      "P684"
                    ],
                    [
                      "P685"
                    ],
                    [
                      "P694"
                    ],
                    [
                      "P696"
                    ],
                    [
                      "P702"
                    ],
                    [
                      "P704"
                    ],
                    [
                      "P710"
                    ],
                    [
                      "P715"
                    ],
                    [
                      "P717"
                    ],
                    [
                      "P720"
                    ],
                    [
                      "P721"
                    ],
                    [
                      "P722"
                    ],
                    [
                      "P726"
                    ],
                    [
                      "P730"
                    ],
                    [
                      "P732"
                    ],
                    [
                      "P734"
                    ],
                    [
                      "P737"
                    ],
                    [
                      "P739"
                    ],
                    [
                      "P740"
                    ],
                    [
                      "P742"
                    ],
                    [
                      "P744"
                    ],
                    [
                      "P751"
                    ],
                    [
                      "P752"
                    ],
                    [
                      "P753"
                    ],
                    [
                      "P754"
                    ],
                    [
                      "P756"
                    ],
                    [
                      "P759"
                    ],
                    [
                      "P765"
                    ],
                    [
                      "P767"
                    ],
                    [
                      "P768"
                    ],
                    [
                      "P769"
                    ],
                    [
                      "P771"
                    ],
                    [
                      "P772"
                    ],
                    [
                      "P774"
                    ],
                    [
                      "P775"
                    ],
                    [
                      "P776"
                    ],
                    [
                      "P780"
                    ],
                    [
                      "P781"
                    ],
                    [
                      "P785"
                    ],
                    [
                      "P786"
                    ],
                    [
                      "P787"
                    ],
                    [
                      "P791"
                    ],
                    [
                      "P794"
                    ],
                    [
                      "P798"
                    ],
                    [
                      "P801"
                    ],
                    [
                      "P809"
                    ],
                    [
                      "P810"
                    ],
                    [
                      "P812"
                    ],
                    [
                      "P826"
                    ],
                    [
                      "P832"
                    ],
                    [
                      "P833"
                    ],
                    [
                      "P835"
                    ],
                    [
                      "P846"
                    ],
                    [
                      "P847"
                    ],
                    [
                      "P853"
                    ],
                    [
                      "P856"
                    ],
                    [
                      "P858"
                    ],
                    [
                      "P861"
                    ],
                    [
                      "P862"
                    ],
                    [
                      "P867"
                    ],
                    [
                      "P876"
                    ],
                    [
                      "P879"
                    ],
                    [
                      "P883"
                    ],
                    [
                      "P890"
                    ],
                    [
                      "P893"
                    ],
                    [
                      "P894"
                    ],
                    [
                      "P895"
                    ],
                    [
                      "P899"
                    ],
                    [
                      "P901"
                    ],
                    [
                      "P902"
                    ],
                    [
                      "P904"
                    ],
                    [
                      "P911"
                    ],
                    [
                      "P914"
                    ],
                    [
                      "P915"
                    ],
                    [
                      "P916"
                    ],
                    [
                      "P917"
                    ],
                    [
                      "P921"
                    ],
                    [
                      "P925"
                    ],
                    [
                      "P930"
                    ],
                    [
                      "P931"
                    ],
                    [
                      "P933"
                    ],
                    [
                      "P936"
                    ],
                    [
                      "P940"
                    ],
                    [
                      "P942"
                    ],
                    [
                      "P946"
                    ],
                    [
                      "P947"
                    ],
                    [
                      "P948"
                    ],
                    [
                      "P953"
                    ],
                    [
                      "P956"
                    ],
                    [
                      "P964"
                    ],
                    [
                      "P966"
                    ],
                    [
                      "P970"
                    ],
                    [
                      "P973"
                    ],
                    [
                      "P974"
                    ],
                    [
                      "P975"
                    ],
                    [
                      "P980"
                    ],
                    [
                      "P983"
                    ],
                    [
                      "P987"
                    ],
                    [
                      "P991"
                    ],
                    [
                      "P992"
                    ],
                    [
                      "P999"
                    ],
                    [
                      "P1003"
                    ],
                    [
                      "P1005"
                    ],
                    [
                      "P1006"
                    ],
                    [
                      "P1007"
                    ],
                    [
                      "P1008"
                    ],
                    [
                      "P1009"
                    ],
                    [
                      "P1012"
                    ],
                    [
                      "P1013"
                    ],
                    [
                      "P1014"
                    ],
                    [
                      "P1018"
                    ],
                    [
                      "P1019"
                    ],
                    [
                      "P1020"
                    ],
                    [
                      "P1021"
                    ],
                    [
                      "P1023"
                    ],
                    [
                      "P1026"
                    ],
                    [
                      "P1029"
                    ],
                    [
                      "P1041"
                    ],
                    [
                      "P1047"
                    ],
                    [
                      "P1053"
                    ],
                    [
                      "P1060"
                    ],
                    [
                      "P1064"
                    ],
                    [
                      "P1065"
                    ],
                    [
                      "P1069"
                    ],
                    [
                      "P1071"
                    ],
                    [
                      "P1072"
                    ],
                    [
                      "P1074"
                    ],
                    [
                      "P1085"
                    ],
                    [
                      "P1089"
                    ],
                    [
                      "P1090"
                    ],
                    [
                      "P1102"
                    ],
                    [
                      "P1104"
                    ],
                    [
                      "P1108"
                    ],
                    [
                      "P1110"
                    ],
                    [
                      "P1118"
                    ],
                    [
                      "P1120"
                    ],
                    [
                      "P1122"
                    ],
                    [
                      "P1123"
                    ],
                    [
                      "P1126"
                    ],
                    [
                      "P1128"
                    ],
                    [
                      "P1130"
                    ],
                    [
                      "P1136"
                    ],
                    [
                      "P1137"
                    ],
                    [
                      "P1138"
                    ],
                    [
                      "P1140"
                    ],
                    [
                      "P1142"
                    ],
                    [
                      "P1150"
                    ],
                    [
                      "P1151"
                    ],
                    [
                      "P1153"
                    ],
                    [
                      "P1154"
                    ],
                    [
                      "P1155"
                    ],
                    [
                      "P1159"
                    ],
                    [
                      "P1162"
                    ],
                    [
                      "P1165"
                    ],
                    [
                      "P1169"
                    ],
                    [
                      "P1170"
                    ],
                    [
                      "P1172"
                    ],
                    [
                      "P1173"
                    ],
                    [
                      "P1174"
                    ],
                    [
                      "P1176"
                    ],
                    [
                      "P1180"
                    ],
                    [
                      "P1185"
                    ],
                    [
                      "P1187"
                    ],
                    [
                      "P1188"
                    ],
                    [
                      "P1190"
                    ],
                    [
                      "P1195"
                    ],
                    [
                      "P1197"
                    ],
                    [
                      "P1198"
                    ],
                    [
                      "P1205"
                    ],
                    [
                      "P1206"
                    ],
                    [
                      "P1208"
                    ],
                    [
                      "P1209"
                    ],
                    [
                      "P1213"
                    ],
                    [
                      "P1214"
                    ],
                    [
                      "P1216"
                    ],
                    [
                      "P1217"
                    ],
                    [
                      "P1226"
                    ],
                    [
                      "P1229"
                    ],
                    [
                      "P1231"
                    ],
                    [
                      "P1232"
                    ],
                    [
                      "P1236"
                    ],
                    [
                      "P1239"
                    ],
                    [
                      "P1242"
                    ],
                    [
                      "P1245"
                    ],
                    [
                      "P1247"
                    ],
                    [
                      "P1249"
                    ],
                    [
                      "P1254"
                    ],
                    [
                      "P1257"
                    ],
                    [
                      "P1259"
                    ],
                    [
                      "P1262"
                    ],
                    [
                      "P1265"
                    ],
                    [
                      "P1269"
                    ],
                    [
                      "P1272"
                    ],
                    [
                      "P1281"
                    ],
                    [
                      "P1283"
                    ],
                    [
                      "P1286"
                    ],
                    [
                      "P1289"
                    ],
                    [
                      "P1295"
                    ],
                    [
                      "P1303"
                    ],
                    [
                      "P1305"
                    ],
                    [
                      "P1311"
                    ],
                    [
                      "P1317"
                    ],
                    [
                      "P1328"
                    ],
                    [
                      "P1330"
                    ],
                    [
                      "P1331"
                    ],
                    [
                      "P1335"
                    ],
                    [
                      "P1336"
                    ],
                    [
                      "P1341"
                    ],
                    [
                      "P1348"
                    ],
                    [
                      "P1349"
                    ],
                    [
                      "P1351"
                    ],
                    [
                      "P1352"
                    ],
                    [
                      "P1354"
                    ],
                    [
                      "P1355"
                    ],
                    [
                      "P1356"
                    ],
                    [
                      "P1357"
                    ],
                    [
                      "P1358"
                    ],
                    [
                      "P1360"
                    ],
                    [
                      "P1362"
                    ],
                    [
                      "P1363"
                    ],
                    [
                      "P1367"
                    ],
                    [
                      "P1368"
                    ],
                    [
                      "P1373"
                    ],
                    [
                      "P1377"
                    ],
                    [
                      "P1382"
                    ],
                    [
                      "P1383"
                    ],
                    [
                      "P1384"
                    ],
                    [
                      "P1385"
                    ],
                    [
                      "P1388"
                    ],
                    [
                      "P1391"
                    ],
                    [
                      "P1394"
                    ],
                    [
                      "P1403"
                    ],
                    [
                      "P1404"
                    ],
                    [
                      "P1406"
                    ],
                    [
                      "P1413"
                    ],
                    [
                      "P1418"
                    ],
                    [
                      "P1419"
                    ],
                    [
                      "P1420"
                    ],
                    [
                      "P1421"
                    ],
                    [
                      "P1422"
                    ],
                    [
                      "P1423"
                    ],
                    [
                      "P1424"
                    ],
                    [
                      "P1429"
                    ],
                    [
                      "P1436"
                    ],
                    [
                      "P1438"
                    ],
                    [
                      "P1447"
                    ],
                    [
                      "P1449"
                    ],
                    [
                      "P1458"
                    ],
                    [
                      "P1461"
                    ],
                    [
                      "P1462"
                    ],
                    [
                      "P1466"
                    ],
                    [
                      "P1468"
                    ],
                    [
                      "P1469"
                    ],
                    [
                      "P1474"
                    ],
                    [
                      "P1489"
                    ],
                    [
                      "P1491"
                    ],
                    [
                      "P1495"
                    ],
                    [
                      "P1498"
                    ],
                    [
                      "P1506"
                    ],
                    [
                      "P1511"
                    ],
                    [
                      "P1516"
                    ],
                    [
                      "P1518"
                    ],
                    [
                      "P1519"
                    ],
                    [
                      "P1530"
                    ],
                    [
                      "P1531"
                    ],
                    [
                      "P1532"
                    ],
                    [
                      "P1534"
                    ],
                    [
                      "P1538"
                    ],
                    [
                      "P1540"
                    ],
                    [
                      "P1543"
                    ],
                    [
                      "P1544"
                    ],
                    [
                      "P1545"
                    ],
                    [
                      "P1548"
                    ],
                    [
                      "P1550"
                    ],
                    [
                      "P1555"
                    ],
                    [
                      "P1557"
                    ],
                    [
                      "P1559"
                    ],
                    [
                      "P1563"
                    ],
                    [
                      "P1567"
                    ],
                    [
                      "P1569"
                    ],
                    [
                      "P1571"
                    ],
                    [
                      "P1572"
                    ],
                    [
                      "P1574"
                    ],
                    [
                      "P1586"
                    ],
                    [
                      "P1593"
                    ],
                    [
                      "P1594"
                    ],
                    [
                      "P1595"
                    ],
                    [
                      "P1596"
                    ],
                    [
                      "P1600"
                    ],
                    [
                      "P1601"
                    ],
                    [
                      "P1602"
                    ],
                    [
                      "P1604"
                    ],
                    [
                      "P1610"
                    ],
                    [
                      "P1611"
                    ],
                    [
                      "P1612"
                    ],
                    [
                      "P1614"
                    ],
                    [
                      "P1615"
                    ],
                    [
                      "P1619"
                    ],
                    [
                      "P1622"
                    ],
                    [
                      "P1625"
                    ],
                    [
                      "P1628"
                    ],
                    [
                      "P1631"
                    ],
                    [
                      "P1634"
                    ],
                    [
                      "P1635"
                    ],
                    [
                      "P1637"
                    ],
                    [
                      "P1638"
                    ],
                    [
                      "P1639"
                    ],
                    [
                      "P1641"
                    ],
                    [
                      "P1643"
                    ],
                    [
                      "P1649"
                    ],
                    [
                      "P1650"
                    ],
                    [
                      "P1651"
                    ],
                    [
                      "P1663"
                    ],
                    [
                      "P1665"
                    ],
                    [
                      "P1666"
                    ],
                    [
                      "P1681"
                    ],
                    [
                      "P1683"
                    ],
                    [
                      "P1685"
                    ],
                    [
                      "P1688"
                    ],
                    [
                      "P1695"
                    ],
                    [
                      "P1697"
                    ],
                    [
                      "P1698"
                    ],
                    [
                      "P1700"
                    ],
                    [
                      "P1703"
                    ],
                    [
                      "P1708"
                    ],
                    [
                      "P1722"
                    ],
                    [
                      "P1726"
                    ],
                    [
                      "P1727"
                    ],
                    [
                      "P1728"
                    ],
                    [
                      "P1734"
                    ],
                    [
                      "P1739"
                    ],
                    [
                      "P1741"
                    ],
                    [
                      "P1742"
                    ],
                    [
                      "P1751"
                    ],
                    [
                      "P1752"
                    ],
                    [
                      "P1755"
                    ],
                    [
                      "P1756"
                    ],
                    [
                      "P1760"
                    ],
                    [
                      "P1764"
                    ],
                    [
                      "P1765"
                    ],
                    [
                      "P1766"
                    ],
                    [
                      "P1768"
                    ],
                    [
                      "P1769"
                    ],
                    [
                      "P1770"
                    ],
                    [
                      "P1774"
                    ],
                    [
                      "P1778"
                    ],
                    [
                      "P1780"
                    ],
                    [
                      "P1781"
                    ],
                    [
                      "P1787"
                    ],
                    [
                      "P1793"
                    ],
                    [
                      "P1794"
                    ],
                    [
                      "P1795"
                    ],
                    [
                      "P1796"
                    ],
                    [
                      "P1797"
                    ],
                    [
                      "P1799"
                    ],
                    [
                      "P1803"
                    ],
                    [
                      "P1804"
                    ],
                    [
                      "P1811"
                    ],
                    [
                      "P1812"
                    ],
                    [
                      "P1825"
                    ],
                    [
                      "P1827"
                    ],
                    [
                      "P1852"
                    ],
                    [
                      "P1854"
                    ],
                    [
                      "P1855"
                    ],
                    [
                      "P1856"
                    ],
                    [
                      "P1858"
                    ],
                    [
                      "P1860"
                    ],
                    [
                      "P1864"
                    ],
                    [
                      "P1866"
                    ],
                    [
                      "P1868"
                    ],
                    [
                      "P1872"
                    ],
                    [
                      "P1873"
                    ],
                    [
                      "P1876"
                    ],
                    [
                      "P1884"
                    ],
                    [
                      "P1890"
                    ],
                    [
                      "P1893"
                    ],
                    [
                      "P1898"
                    ],
                    [
                      "P1905"
                    ],
                    [
                      "P1906"
                    ],
                    [
                      "P1911"
                    ],
                    [
                      "P1913"
                    ],
                    [
                      "P1915"
                    ],
                    [
                      "P1917"
                    ],
                    [
                      "P1918"
                    ],
                    [
                      "P1924"
                    ],
                    [
                      "P1933"
                    ],
                    [
                      "P1934"
                    ],
                    [
                      "P1935"
                    ],
                    [
                      "P1936"
                    ],
                    [
                      "P1940"
                    ],
                    [
                      "P1943"
                    ],
                    [
                      "P1945"
                    ],
                    [
                      "P1946"
                    ],
                    [
                      "P1961"
                    ],
                    [
                      "P1967"
                    ],
                    [
                      "P1971"
                    ],
                    [
                      "P1973"
                    ],
                    [
                      "P1978"
                    ],
                    [
                      "P1980"
                    ],
                    [
                      "P1981"
                    ],
                    [
                      "P1983"
                    ],
                    [
                      "P1989"
                    ],
                    [
                      "P1992"
                    ],
                    [
                      "P1995"
                    ]
                  ],
                  "hovertemplate": "color=3<br>PCA Component 1=%{x}<br>PCA Component 2=%{y}<br>product_id=%{customdata[0]}<extra></extra>",
                  "legendgroup": "3",
                  "marker": {
                    "color": "#00cc96",
                    "opacity": 0.6,
                    "symbol": "circle"
                  },
                  "mode": "markers",
                  "name": "3",
                  "showlegend": true,
                  "type": "scattergl",
                  "x": {
                    "bdata": "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",
                    "dtype": "f8"
                  },
                  "xaxis": "x",
                  "y": {
                    "bdata": "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",
                    "dtype": "f8"
                  },
                  "yaxis": "y"
                },
                {
                  "customdata": [
                    [
                      "P5"
                    ],
                    [
                      "P10"
                    ],
                    [
                      "P12"
                    ],
                    [
                      "P15"
                    ],
                    [
                      "P19"
                    ],
                    [
                      "P25"
                    ],
                    [
                      "P31"
                    ],
                    [
                      "P38"
                    ],
                    [
                      "P41"
                    ],
                    [
                      "P43"
                    ],
                    [
                      "P45"
                    ],
                    [
                      "P51"
                    ],
                    [
                      "P54"
                    ],
                    [
                      "P70"
                    ],
                    [
                      "P83"
                    ],
                    [
                      "P84"
                    ],
                    [
                      "P92"
                    ],
                    [
                      "P97"
                    ],
                    [
                      "P100"
                    ],
                    [
                      "P107"
                    ],
                    [
                      "P112"
                    ],
                    [
                      "P123"
                    ],
                    [
                      "P124"
                    ],
                    [
                      "P128"
                    ],
                    [
                      "P138"
                    ],
                    [
                      "P140"
                    ],
                    [
                      "P141"
                    ],
                    [
                      "P143"
                    ],
                    [
                      "P146"
                    ],
                    [
                      "P152"
                    ],
                    [
                      "P155"
                    ],
                    [
                      "P158"
                    ],
                    [
                      "P171"
                    ],
                    [
                      "P173"
                    ],
                    [
                      "P175"
                    ],
                    [
                      "P176"
                    ],
                    [
                      "P178"
                    ],
                    [
                      "P186"
                    ],
                    [
                      "P192"
                    ],
                    [
                      "P195"
                    ],
                    [
                      "P203"
                    ],
                    [
                      "P204"
                    ],
                    [
                      "P209"
                    ],
                    [
                      "P210"
                    ],
                    [
                      "P218"
                    ],
                    [
                      "P223"
                    ],
                    [
                      "P230"
                    ],
                    [
                      "P231"
                    ],
                    [
                      "P234"
                    ],
                    [
                      "P240"
                    ],
                    [
                      "P244"
                    ],
                    [
                      "P249"
                    ],
                    [
                      "P252"
                    ],
                    [
                      "P258"
                    ],
                    [
                      "P259"
                    ],
                    [
                      "P260"
                    ],
                    [
                      "P268"
                    ],
                    [
                      "P271"
                    ],
                    [
                      "P282"
                    ],
                    [
                      "P294"
                    ],
                    [
                      "P298"
                    ],
                    [
                      "P299"
                    ],
                    [
                      "P301"
                    ],
                    [
                      "P311"
                    ],
                    [
                      "P313"
                    ],
                    [
                      "P320"
                    ],
                    [
                      "P321"
                    ],
                    [
                      "P325"
                    ],
                    [
                      "P332"
                    ],
                    [
                      "P339"
                    ],
                    [
                      "P340"
                    ],
                    [
                      "P341"
                    ],
                    [
                      "P362"
                    ],
                    [
                      "P375"
                    ],
                    [
                      "P384"
                    ],
                    [
                      "P399"
                    ],
                    [
                      "P401"
                    ],
                    [
                      "P404"
                    ],
                    [
                      "P415"
                    ],
                    [
                      "P416"
                    ],
                    [
                      "P420"
                    ],
                    [
                      "P423"
                    ],
                    [
                      "P433"
                    ],
                    [
                      "P441"
                    ],
                    [
                      "P450"
                    ],
                    [
                      "P454"
                    ],
                    [
                      "P460"
                    ],
                    [
                      "P462"
                    ],
                    [
                      "P478"
                    ],
                    [
                      "P479"
                    ],
                    [
                      "P483"
                    ],
                    [
                      "P485"
                    ],
                    [
                      "P496"
                    ],
                    [
                      "P497"
                    ],
                    [
                      "P515"
                    ],
                    [
                      "P516"
                    ],
                    [
                      "P528"
                    ],
                    [
                      "P530"
                    ],
                    [
                      "P533"
                    ],
                    [
                      "P537"
                    ],
                    [
                      "P540"
                    ],
                    [
                      "P541"
                    ],
                    [
                      "P542"
                    ],
                    [
                      "P543"
                    ],
                    [
                      "P553"
                    ],
                    [
                      "P555"
                    ],
                    [
                      "P557"
                    ],
                    [
                      "P558"
                    ],
                    [
                      "P566"
                    ],
                    [
                      "P585"
                    ],
                    [
                      "P586"
                    ],
                    [
                      "P596"
                    ],
                    [
                      "P599"
                    ],
                    [
                      "P603"
                    ],
                    [
                      "P612"
                    ],
                    [
                      "P631"
                    ],
                    [
                      "P634"
                    ],
                    [
                      "P638"
                    ],
                    [
                      "P640"
                    ],
                    [
                      "P650"
                    ],
                    [
                      "P651"
                    ],
                    [
                      "P653"
                    ],
                    [
                      "P660"
                    ],
                    [
                      "P663"
                    ],
                    [
                      "P667"
                    ],
                    [
                      "P679"
                    ],
                    [
                      "P681"
                    ],
                    [
                      "P687"
                    ],
                    [
                      "P688"
                    ],
                    [
                      "P689"
                    ],
                    [
                      "P690"
                    ],
                    [
                      "P691"
                    ],
                    [
                      "P693"
                    ],
                    [
                      "P707"
                    ],
                    [
                      "P712"
                    ],
                    [
                      "P718"
                    ],
                    [
                      "P719"
                    ],
                    [
                      "P727"
                    ],
                    [
                      "P728"
                    ],
                    [
                      "P736"
                    ],
                    [
                      "P747"
                    ],
                    [
                      "P761"
                    ],
                    [
                      "P762"
                    ],
                    [
                      "P763"
                    ],
                    [
                      "P770"
                    ],
                    [
                      "P779"
                    ],
                    [
                      "P782"
                    ],
                    [
                      "P784"
                    ],
                    [
                      "P796"
                    ],
                    [
                      "P797"
                    ],
                    [
                      "P807"
                    ],
                    [
                      "P814"
                    ],
                    [
                      "P837"
                    ],
                    [
                      "P839"
                    ],
                    [
                      "P840"
                    ],
                    [
                      "P844"
                    ],
                    [
                      "P855"
                    ],
                    [
                      "P859"
                    ],
                    [
                      "P864"
                    ],
                    [
                      "P871"
                    ],
                    [
                      "P874"
                    ],
                    [
                      "P875"
                    ],
                    [
                      "P878"
                    ],
                    [
                      "P886"
                    ],
                    [
                      "P889"
                    ],
                    [
                      "P891"
                    ],
                    [
                      "P892"
                    ],
                    [
                      "P898"
                    ],
                    [
                      "P900"
                    ],
                    [
                      "P918"
                    ],
                    [
                      "P920"
                    ],
                    [
                      "P928"
                    ],
                    [
                      "P932"
                    ],
                    [
                      "P937"
                    ],
                    [
                      "P941"
                    ],
                    [
                      "P954"
                    ],
                    [
                      "P959"
                    ],
                    [
                      "P971"
                    ],
                    [
                      "P977"
                    ],
                    [
                      "P990"
                    ],
                    [
                      "P993"
                    ],
                    [
                      "P994"
                    ],
                    [
                      "P1000"
                    ],
                    [
                      "P1011"
                    ],
                    [
                      "P1025"
                    ],
                    [
                      "P1027"
                    ],
                    [
                      "P1030"
                    ],
                    [
                      "P1033"
                    ],
                    [
                      "P1035"
                    ],
                    [
                      "P1039"
                    ],
                    [
                      "P1040"
                    ],
                    [
                      "P1052"
                    ],
                    [
                      "P1056"
                    ],
                    [
                      "P1057"
                    ],
                    [
                      "P1073"
                    ],
                    [
                      "P1076"
                    ],
                    [
                      "P1080"
                    ],
                    [
                      "P1083"
                    ],
                    [
                      "P1084"
                    ],
                    [
                      "P1087"
                    ],
                    [
                      "P1088"
                    ],
                    [
                      "P1109"
                    ],
                    [
                      "P1132"
                    ],
                    [
                      "P1143"
                    ],
                    [
                      "P1148"
                    ],
                    [
                      "P1171"
                    ],
                    [
                      "P1177"
                    ],
                    [
                      "P1200"
                    ],
                    [
                      "P1202"
                    ],
                    [
                      "P1204"
                    ],
                    [
                      "P1218"
                    ],
                    [
                      "P1220"
                    ],
                    [
                      "P1221"
                    ],
                    [
                      "P1222"
                    ],
                    [
                      "P1224"
                    ],
                    [
                      "P1233"
                    ],
                    [
                      "P1234"
                    ],
                    [
                      "P1243"
                    ],
                    [
                      "P1258"
                    ],
                    [
                      "P1261"
                    ],
                    [
                      "P1271"
                    ],
                    [
                      "P1275"
                    ],
                    [
                      "P1278"
                    ],
                    [
                      "P1284"
                    ],
                    [
                      "P1287"
                    ],
                    [
                      "P1298"
                    ],
                    [
                      "P1301"
                    ],
                    [
                      "P1308"
                    ],
                    [
                      "P1309"
                    ],
                    [
                      "P1315"
                    ],
                    [
                      "P1316"
                    ],
                    [
                      "P1324"
                    ],
                    [
                      "P1325"
                    ],
                    [
                      "P1344"
                    ],
                    [
                      "P1365"
                    ],
                    [
                      "P1389"
                    ],
                    [
                      "P1401"
                    ],
                    [
                      "P1412"
                    ],
                    [
                      "P1414"
                    ],
                    [
                      "P1416"
                    ],
                    [
                      "P1425"
                    ],
                    [
                      "P1435"
                    ],
                    [
                      "P1443"
                    ],
                    [
                      "P1446"
                    ],
                    [
                      "P1453"
                    ],
                    [
                      "P1454"
                    ],
                    [
                      "P1456"
                    ],
                    [
                      "P1459"
                    ],
                    [
                      "P1465"
                    ],
                    [
                      "P1467"
                    ],
                    [
                      "P1486"
                    ],
                    [
                      "P1494"
                    ],
                    [
                      "P1496"
                    ],
                    [
                      "P1499"
                    ],
                    [
                      "P1521"
                    ],
                    [
                      "P1528"
                    ],
                    [
                      "P1529"
                    ],
                    [
                      "P1539"
                    ],
                    [
                      "P1542"
                    ],
                    [
                      "P1558"
                    ],
                    [
                      "P1560"
                    ],
                    [
                      "P1561"
                    ],
                    [
                      "P1565"
                    ],
                    [
                      "P1575"
                    ],
                    [
                      "P1579"
                    ],
                    [
                      "P1581"
                    ],
                    [
                      "P1583"
                    ],
                    [
                      "P1590"
                    ],
                    [
                      "P1597"
                    ],
                    [
                      "P1613"
                    ],
                    [
                      "P1616"
                    ],
                    [
                      "P1624"
                    ],
                    [
                      "P1627"
                    ],
                    [
                      "P1636"
                    ],
                    [
                      "P1642"
                    ],
                    [
                      "P1655"
                    ],
                    [
                      "P1657"
                    ],
                    [
                      "P1673"
                    ],
                    [
                      "P1674"
                    ],
                    [
                      "P1679"
                    ],
                    [
                      "P1694"
                    ],
                    [
                      "P1696"
                    ],
                    [
                      "P1704"
                    ],
                    [
                      "P1709"
                    ],
                    [
                      "P1715"
                    ],
                    [
                      "P1723"
                    ],
                    [
                      "P1730"
                    ],
                    [
                      "P1731"
                    ],
                    [
                      "P1745"
                    ],
                    [
                      "P1749"
                    ],
                    [
                      "P1758"
                    ],
                    [
                      "P1761"
                    ],
                    [
                      "P1762"
                    ],
                    [
                      "P1767"
                    ],
                    [
                      "P1772"
                    ],
                    [
                      "P1773"
                    ],
                    [
                      "P1775"
                    ],
                    [
                      "P1777"
                    ],
                    [
                      "P1788"
                    ],
                    [
                      "P1789"
                    ],
                    [
                      "P1790"
                    ],
                    [
                      "P1798"
                    ],
                    [
                      "P1802"
                    ],
                    [
                      "P1828"
                    ],
                    [
                      "P1834"
                    ],
                    [
                      "P1840"
                    ],
                    [
                      "P1849"
                    ],
                    [
                      "P1850"
                    ],
                    [
                      "P1865"
                    ],
                    [
                      "P1867"
                    ],
                    [
                      "P1869"
                    ],
                    [
                      "P1874"
                    ],
                    [
                      "P1877"
                    ],
                    [
                      "P1889"
                    ],
                    [
                      "P1896"
                    ],
                    [
                      "P1900"
                    ],
                    [
                      "P1912"
                    ],
                    [
                      "P1922"
                    ],
                    [
                      "P1926"
                    ],
                    [
                      "P1929"
                    ],
                    [
                      "P1939"
                    ],
                    [
                      "P1944"
                    ],
                    [
                      "P1947"
                    ],
                    [
                      "P1952"
                    ],
                    [
                      "P1955"
                    ],
                    [
                      "P1957"
                    ],
                    [
                      "P1958"
                    ],
                    [
                      "P1976"
                    ],
                    [
                      "P1984"
                    ],
                    [
                      "P1987"
                    ],
                    [
                      "P1997"
                    ]
                  ],
                  "hovertemplate": "color=4<br>PCA Component 1=%{x}<br>PCA Component 2=%{y}<br>product_id=%{customdata[0]}<extra></extra>",
                  "legendgroup": "4",
                  "marker": {
                    "color": "#ab63fa",
                    "opacity": 0.6,
                    "symbol": "circle"
                  },
                  "mode": "markers",
                  "name": "4",
                  "showlegend": true,
                  "type": "scattergl",
                  "x": {
                    "bdata": "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",
                    "dtype": "f8"
                  },
                  "xaxis": "x",
                  "y": {
                    "bdata": "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",
                    "dtype": "f8"
                  },
                  "yaxis": "y"
                },
                {
                  "customdata": [
                    [
                      "P6"
                    ],
                    [
                      "P11"
                    ],
                    [
                      "P16"
                    ],
                    [
                      "P18"
                    ],
                    [
                      "P24"
                    ],
                    [
                      "P26"
                    ],
                    [
                      "P30"
                    ],
                    [
                      "P33"
                    ],
                    [
                      "P40"
                    ],
                    [
                      "P50"
                    ],
                    [
                      "P53"
                    ],
                    [
                      "P58"
                    ],
                    [
                      "P59"
                    ],
                    [
                      "P63"
                    ],
                    [
                      "P65"
                    ],
                    [
                      "P69"
                    ],
                    [
                      "P72"
                    ],
                    [
                      "P80"
                    ],
                    [
                      "P81"
                    ],
                    [
                      "P88"
                    ],
                    [
                      "P89"
                    ],
                    [
                      "P90"
                    ],
                    [
                      "P93"
                    ],
                    [
                      "P98"
                    ],
                    [
                      "P105"
                    ],
                    [
                      "P106"
                    ],
                    [
                      "P111"
                    ],
                    [
                      "P113"
                    ],
                    [
                      "P117"
                    ],
                    [
                      "P118"
                    ],
                    [
                      "P122"
                    ],
                    [
                      "P125"
                    ],
                    [
                      "P129"
                    ],
                    [
                      "P131"
                    ],
                    [
                      "P132"
                    ],
                    [
                      "P133"
                    ],
                    [
                      "P135"
                    ],
                    [
                      "P142"
                    ],
                    [
                      "P154"
                    ],
                    [
                      "P156"
                    ],
                    [
                      "P157"
                    ],
                    [
                      "P159"
                    ],
                    [
                      "P160"
                    ],
                    [
                      "P165"
                    ],
                    [
                      "P166"
                    ],
                    [
                      "P167"
                    ],
                    [
                      "P177"
                    ],
                    [
                      "P182"
                    ],
                    [
                      "P183"
                    ],
                    [
                      "P185"
                    ],
                    [
                      "P189"
                    ],
                    [
                      "P198"
                    ],
                    [
                      "P199"
                    ],
                    [
                      "P200"
                    ],
                    [
                      "P201"
                    ],
                    [
                      "P205"
                    ],
                    [
                      "P208"
                    ],
                    [
                      "P211"
                    ],
                    [
                      "P212"
                    ],
                    [
                      "P213"
                    ],
                    [
                      "P215"
                    ],
                    [
                      "P219"
                    ],
                    [
                      "P220"
                    ],
                    [
                      "P221"
                    ],
                    [
                      "P222"
                    ],
                    [
                      "P225"
                    ],
                    [
                      "P229"
                    ],
                    [
                      "P237"
                    ],
                    [
                      "P241"
                    ],
                    [
                      "P242"
                    ],
                    [
                      "P246"
                    ],
                    [
                      "P248"
                    ],
                    [
                      "P253"
                    ],
                    [
                      "P254"
                    ],
                    [
                      "P264"
                    ],
                    [
                      "P267"
                    ],
                    [
                      "P278"
                    ],
                    [
                      "P280"
                    ],
                    [
                      "P283"
                    ],
                    [
                      "P287"
                    ],
                    [
                      "P291"
                    ],
                    [
                      "P295"
                    ],
                    [
                      "P300"
                    ],
                    [
                      "P305"
                    ],
                    [
                      "P312"
                    ],
                    [
                      "P314"
                    ],
                    [
                      "P318"
                    ],
                    [
                      "P323"
                    ],
                    [
                      "P324"
                    ],
                    [
                      "P327"
                    ],
                    [
                      "P329"
                    ],
                    [
                      "P336"
                    ],
                    [
                      "P338"
                    ],
                    [
                      "P342"
                    ],
                    [
                      "P350"
                    ],
                    [
                      "P351"
                    ],
                    [
                      "P359"
                    ],
                    [
                      "P364"
                    ],
                    [
                      "P365"
                    ],
                    [
                      "P366"
                    ],
                    [
                      "P377"
                    ],
                    [
                      "P378"
                    ],
                    [
                      "P380"
                    ],
                    [
                      "P381"
                    ],
                    [
                      "P382"
                    ],
                    [
                      "P386"
                    ],
                    [
                      "P387"
                    ],
                    [
                      "P390"
                    ],
                    [
                      "P391"
                    ],
                    [
                      "P394"
                    ],
                    [
                      "P397"
                    ],
                    [
                      "P398"
                    ],
                    [
                      "P400"
                    ],
                    [
                      "P402"
                    ],
                    [
                      "P406"
                    ],
                    [
                      "P409"
                    ],
                    [
                      "P412"
                    ],
                    [
                      "P414"
                    ],
                    [
                      "P418"
                    ],
                    [
                      "P425"
                    ],
                    [
                      "P426"
                    ],
                    [
                      "P427"
                    ],
                    [
                      "P428"
                    ],
                    [
                      "P430"
                    ],
                    [
                      "P432"
                    ],
                    [
                      "P444"
                    ],
                    [
                      "P447"
                    ],
                    [
                      "P448"
                    ],
                    [
                      "P449"
                    ],
                    [
                      "P452"
                    ],
                    [
                      "P453"
                    ],
                    [
                      "P456"
                    ],
                    [
                      "P459"
                    ],
                    [
                      "P464"
                    ],
                    [
                      "P469"
                    ],
                    [
                      "P473"
                    ],
                    [
                      "P476"
                    ],
                    [
                      "P480"
                    ],
                    [
                      "P486"
                    ],
                    [
                      "P490"
                    ],
                    [
                      "P491"
                    ],
                    [
                      "P493"
                    ],
                    [
                      "P498"
                    ],
                    [
                      "P503"
                    ],
                    [
                      "P504"
                    ],
                    [
                      "P505"
                    ],
                    [
                      "P506"
                    ],
                    [
                      "P508"
                    ],
                    [
                      "P513"
                    ],
                    [
                      "P518"
                    ],
                    [
                      "P520"
                    ],
                    [
                      "P521"
                    ],
                    [
                      "P524"
                    ],
                    [
                      "P529"
                    ],
                    [
                      "P545"
                    ],
                    [
                      "P549"
                    ],
                    [
                      "P550"
                    ],
                    [
                      "P560"
                    ],
                    [
                      "P564"
                    ],
                    [
                      "P567"
                    ],
                    [
                      "P575"
                    ],
                    [
                      "P576"
                    ],
                    [
                      "P580"
                    ],
                    [
                      "P581"
                    ],
                    [
                      "P583"
                    ],
                    [
                      "P592"
                    ],
                    [
                      "P594"
                    ],
                    [
                      "P601"
                    ],
                    [
                      "P604"
                    ],
                    [
                      "P607"
                    ],
                    [
                      "P608"
                    ],
                    [
                      "P610"
                    ],
                    [
                      "P619"
                    ],
                    [
                      "P620"
                    ],
                    [
                      "P623"
                    ],
                    [
                      "P627"
                    ],
                    [
                      "P632"
                    ],
                    [
                      "P635"
                    ],
                    [
                      "P642"
                    ],
                    [
                      "P645"
                    ],
                    [
                      "P647"
                    ],
                    [
                      "P659"
                    ],
                    [
                      "P664"
                    ],
                    [
                      "P672"
                    ],
                    [
                      "P678"
                    ],
                    [
                      "P686"
                    ],
                    [
                      "P692"
                    ],
                    [
                      "P695"
                    ],
                    [
                      "P699"
                    ],
                    [
                      "P703"
                    ],
                    [
                      "P705"
                    ],
                    [
                      "P716"
                    ],
                    [
                      "P723"
                    ],
                    [
                      "P724"
                    ],
                    [
                      "P725"
                    ],
                    [
                      "P729"
                    ],
                    [
                      "P731"
                    ],
                    [
                      "P733"
                    ],
                    [
                      "P735"
                    ],
                    [
                      "P749"
                    ],
                    [
                      "P750"
                    ],
                    [
                      "P755"
                    ],
                    [
                      "P758"
                    ],
                    [
                      "P766"
                    ],
                    [
                      "P777"
                    ],
                    [
                      "P783"
                    ],
                    [
                      "P789"
                    ],
                    [
                      "P792"
                    ],
                    [
                      "P799"
                    ],
                    [
                      "P802"
                    ],
                    [
                      "P803"
                    ],
                    [
                      "P806"
                    ],
                    [
                      "P811"
                    ],
                    [
                      "P813"
                    ],
                    [
                      "P816"
                    ],
                    [
                      "P819"
                    ],
                    [
                      "P820"
                    ],
                    [
                      "P825"
                    ],
                    [
                      "P829"
                    ],
                    [
                      "P841"
                    ],
                    [
                      "P843"
                    ],
                    [
                      "P845"
                    ],
                    [
                      "P850"
                    ],
                    [
                      "P851"
                    ],
                    [
                      "P852"
                    ],
                    [
                      "P854"
                    ],
                    [
                      "P857"
                    ],
                    [
                      "P860"
                    ],
                    [
                      "P863"
                    ],
                    [
                      "P865"
                    ],
                    [
                      "P866"
                    ],
                    [
                      "P868"
                    ],
                    [
                      "P869"
                    ],
                    [
                      "P873"
                    ],
                    [
                      "P877"
                    ],
                    [
                      "P880"
                    ],
                    [
                      "P881"
                    ],
                    [
                      "P882"
                    ],
                    [
                      "P887"
                    ],
                    [
                      "P888"
                    ],
                    [
                      "P906"
                    ],
                    [
                      "P907"
                    ],
                    [
                      "P909"
                    ],
                    [
                      "P910"
                    ],
                    [
                      "P913"
                    ],
                    [
                      "P922"
                    ],
                    [
                      "P924"
                    ],
                    [
                      "P926"
                    ],
                    [
                      "P934"
                    ],
                    [
                      "P935"
                    ],
                    [
                      "P938"
                    ],
                    [
                      "P943"
                    ],
                    [
                      "P944"
                    ],
                    [
                      "P945"
                    ],
                    [
                      "P949"
                    ],
                    [
                      "P950"
                    ],
                    [
                      "P951"
                    ],
                    [
                      "P952"
                    ],
                    [
                      "P955"
                    ],
                    [
                      "P958"
                    ],
                    [
                      "P960"
                    ],
                    [
                      "P963"
                    ],
                    [
                      "P976"
                    ],
                    [
                      "P978"
                    ],
                    [
                      "P979"
                    ],
                    [
                      "P986"
                    ],
                    [
                      "P988"
                    ],
                    [
                      "P989"
                    ],
                    [
                      "P998"
                    ],
                    [
                      "P1002"
                    ],
                    [
                      "P1004"
                    ],
                    [
                      "P1015"
                    ],
                    [
                      "P1017"
                    ],
                    [
                      "P1024"
                    ],
                    [
                      "P1031"
                    ],
                    [
                      "P1037"
                    ],
                    [
                      "P1042"
                    ],
                    [
                      "P1044"
                    ],
                    [
                      "P1046"
                    ],
                    [
                      "P1048"
                    ],
                    [
                      "P1051"
                    ],
                    [
                      "P1054"
                    ],
                    [
                      "P1058"
                    ],
                    [
                      "P1059"
                    ],
                    [
                      "P1061"
                    ],
                    [
                      "P1062"
                    ],
                    [
                      "P1063"
                    ],
                    [
                      "P1070"
                    ],
                    [
                      "P1079"
                    ],
                    [
                      "P1082"
                    ],
                    [
                      "P1086"
                    ],
                    [
                      "P1094"
                    ],
                    [
                      "P1096"
                    ],
                    [
                      "P1099"
                    ],
                    [
                      "P1101"
                    ],
                    [
                      "P1107"
                    ],
                    [
                      "P1112"
                    ],
                    [
                      "P1114"
                    ],
                    [
                      "P1116"
                    ],
                    [
                      "P1117"
                    ],
                    [
                      "P1121"
                    ],
                    [
                      "P1125"
                    ],
                    [
                      "P1129"
                    ],
                    [
                      "P1131"
                    ],
                    [
                      "P1133"
                    ],
                    [
                      "P1135"
                    ],
                    [
                      "P1139"
                    ],
                    [
                      "P1141"
                    ],
                    [
                      "P1144"
                    ],
                    [
                      "P1145"
                    ],
                    [
                      "P1161"
                    ],
                    [
                      "P1164"
                    ],
                    [
                      "P1175"
                    ],
                    [
                      "P1181"
                    ],
                    [
                      "P1183"
                    ],
                    [
                      "P1189"
                    ],
                    [
                      "P1194"
                    ],
                    [
                      "P1196"
                    ],
                    [
                      "P1199"
                    ],
                    [
                      "P1201"
                    ],
                    [
                      "P1203"
                    ],
                    [
                      "P1207"
                    ],
                    [
                      "P1211"
                    ],
                    [
                      "P1212"
                    ],
                    [
                      "P1215"
                    ],
                    [
                      "P1225"
                    ],
                    [
                      "P1235"
                    ],
                    [
                      "P1240"
                    ],
                    [
                      "P1246"
                    ],
                    [
                      "P1248"
                    ],
                    [
                      "P1255"
                    ],
                    [
                      "P1260"
                    ],
                    [
                      "P1263"
                    ],
                    [
                      "P1266"
                    ],
                    [
                      "P1267"
                    ],
                    [
                      "P1268"
                    ],
                    [
                      "P1270"
                    ],
                    [
                      "P1274"
                    ],
                    [
                      "P1276"
                    ],
                    [
                      "P1277"
                    ],
                    [
                      "P1282"
                    ],
                    [
                      "P1285"
                    ],
                    [
                      "P1291"
                    ],
                    [
                      "P1292"
                    ],
                    [
                      "P1296"
                    ],
                    [
                      "P1297"
                    ],
                    [
                      "P1299"
                    ],
                    [
                      "P1300"
                    ],
                    [
                      "P1302"
                    ],
                    [
                      "P1306"
                    ],
                    [
                      "P1310"
                    ],
                    [
                      "P1312"
                    ],
                    [
                      "P1313"
                    ],
                    [
                      "P1320"
                    ],
                    [
                      "P1327"
                    ],
                    [
                      "P1333"
                    ],
                    [
                      "P1334"
                    ],
                    [
                      "P1339"
                    ],
                    [
                      "P1342"
                    ],
                    [
                      "P1345"
                    ],
                    [
                      "P1346"
                    ],
                    [
                      "P1350"
                    ],
                    [
                      "P1359"
                    ],
                    [
                      "P1361"
                    ],
                    [
                      "P1364"
                    ],
                    [
                      "P1370"
                    ],
                    [
                      "P1372"
                    ],
                    [
                      "P1374"
                    ],
                    [
                      "P1375"
                    ],
                    [
                      "P1378"
                    ],
                    [
                      "P1381"
                    ],
                    [
                      "P1387"
                    ],
                    [
                      "P1400"
                    ],
                    [
                      "P1402"
                    ],
                    [
                      "P1405"
                    ],
                    [
                      "P1407"
                    ],
                    [
                      "P1409"
                    ],
                    [
                      "P1410"
                    ],
                    [
                      "P1411"
                    ],
                    [
                      "P1415"
                    ],
                    [
                      "P1417"
                    ],
                    [
                      "P1426"
                    ],
                    [
                      "P1428"
                    ],
                    [
                      "P1432"
                    ],
                    [
                      "P1434"
                    ],
                    [
                      "P1440"
                    ],
                    [
                      "P1441"
                    ],
                    [
                      "P1444"
                    ],
                    [
                      "P1445"
                    ],
                    [
                      "P1450"
                    ],
                    [
                      "P1452"
                    ],
                    [
                      "P1455"
                    ],
                    [
                      "P1460"
                    ],
                    [
                      "P1463"
                    ],
                    [
                      "P1470"
                    ],
                    [
                      "P1471"
                    ],
                    [
                      "P1475"
                    ],
                    [
                      "P1477"
                    ],
                    [
                      "P1480"
                    ],
                    [
                      "P1481"
                    ],
                    [
                      "P1483"
                    ],
                    [
                      "P1484"
                    ],
                    [
                      "P1487"
                    ],
                    [
                      "P1490"
                    ],
                    [
                      "P1492"
                    ],
                    [
                      "P1497"
                    ],
                    [
                      "P1501"
                    ],
                    [
                      "P1503"
                    ],
                    [
                      "P1504"
                    ],
                    [
                      "P1505"
                    ],
                    [
                      "P1510"
                    ],
                    [
                      "P1515"
                    ],
                    [
                      "P1522"
                    ],
                    [
                      "P1527"
                    ],
                    [
                      "P1533"
                    ],
                    [
                      "P1536"
                    ],
                    [
                      "P1537"
                    ],
                    [
                      "P1541"
                    ],
                    [
                      "P1546"
                    ],
                    [
                      "P1549"
                    ],
                    [
                      "P1551"
                    ],
                    [
                      "P1553"
                    ],
                    [
                      "P1556"
                    ],
                    [
                      "P1564"
                    ],
                    [
                      "P1573"
                    ],
                    [
                      "P1578"
                    ],
                    [
                      "P1580"
                    ],
                    [
                      "P1584"
                    ],
                    [
                      "P1585"
                    ],
                    [
                      "P1591"
                    ],
                    [
                      "P1598"
                    ],
                    [
                      "P1606"
                    ],
                    [
                      "P1608"
                    ],
                    [
                      "P1618"
                    ],
                    [
                      "P1621"
                    ],
                    [
                      "P1623"
                    ],
                    [
                      "P1626"
                    ],
                    [
                      "P1629"
                    ],
                    [
                      "P1632"
                    ],
                    [
                      "P1640"
                    ],
                    [
                      "P1644"
                    ],
                    [
                      "P1645"
                    ],
                    [
                      "P1646"
                    ],
                    [
                      "P1647"
                    ],
                    [
                      "P1648"
                    ],
                    [
                      "P1652"
                    ],
                    [
                      "P1660"
                    ],
                    [
                      "P1661"
                    ],
                    [
                      "P1662"
                    ],
                    [
                      "P1664"
                    ],
                    [
                      "P1670"
                    ],
                    [
                      "P1672"
                    ],
                    [
                      "P1675"
                    ],
                    [
                      "P1676"
                    ],
                    [
                      "P1678"
                    ],
                    [
                      "P1689"
                    ],
                    [
                      "P1693"
                    ],
                    [
                      "P1699"
                    ],
                    [
                      "P1701"
                    ],
                    [
                      "P1702"
                    ],
                    [
                      "P1705"
                    ],
                    [
                      "P1710"
                    ],
                    [
                      "P1712"
                    ],
                    [
                      "P1713"
                    ],
                    [
                      "P1716"
                    ],
                    [
                      "P1717"
                    ],
                    [
                      "P1718"
                    ],
                    [
                      "P1719"
                    ],
                    [
                      "P1725"
                    ],
                    [
                      "P1729"
                    ],
                    [
                      "P1732"
                    ],
                    [
                      "P1733"
                    ],
                    [
                      "P1747"
                    ],
                    [
                      "P1748"
                    ],
                    [
                      "P1750"
                    ],
                    [
                      "P1759"
                    ],
                    [
                      "P1771"
                    ],
                    [
                      "P1782"
                    ],
                    [
                      "P1786"
                    ],
                    [
                      "P1791"
                    ],
                    [
                      "P1792"
                    ],
                    [
                      "P1801"
                    ],
                    [
                      "P1813"
                    ],
                    [
                      "P1815"
                    ],
                    [
                      "P1816"
                    ],
                    [
                      "P1817"
                    ],
                    [
                      "P1818"
                    ],
                    [
                      "P1819"
                    ],
                    [
                      "P1822"
                    ],
                    [
                      "P1830"
                    ],
                    [
                      "P1831"
                    ],
                    [
                      "P1832"
                    ],
                    [
                      "P1833"
                    ],
                    [
                      "P1835"
                    ],
                    [
                      "P1836"
                    ],
                    [
                      "P1837"
                    ],
                    [
                      "P1838"
                    ],
                    [
                      "P1845"
                    ],
                    [
                      "P1846"
                    ],
                    [
                      "P1851"
                    ],
                    [
                      "P1853"
                    ],
                    [
                      "P1861"
                    ],
                    [
                      "P1862"
                    ],
                    [
                      "P1870"
                    ],
                    [
                      "P1871"
                    ],
                    [
                      "P1878"
                    ],
                    [
                      "P1882"
                    ],
                    [
                      "P1886"
                    ],
                    [
                      "P1891"
                    ],
                    [
                      "P1892"
                    ],
                    [
                      "P1899"
                    ],
                    [
                      "P1901"
                    ],
                    [
                      "P1904"
                    ],
                    [
                      "P1907"
                    ],
                    [
                      "P1909"
                    ],
                    [
                      "P1920"
                    ],
                    [
                      "P1925"
                    ],
                    [
                      "P1928"
                    ],
                    [
                      "P1930"
                    ],
                    [
                      "P1937"
                    ],
                    [
                      "P1938"
                    ],
                    [
                      "P1942"
                    ],
                    [
                      "P1950"
                    ],
                    [
                      "P1953"
                    ],
                    [
                      "P1962"
                    ],
                    [
                      "P1963"
                    ],
                    [
                      "P1964"
                    ],
                    [
                      "P1965"
                    ],
                    [
                      "P1968"
                    ],
                    [
                      "P1969"
                    ],
                    [
                      "P1970"
                    ],
                    [
                      "P1975"
                    ],
                    [
                      "P1977"
                    ],
                    [
                      "P1979"
                    ],
                    [
                      "P1988"
                    ],
                    [
                      "P1990"
                    ],
                    [
                      "P1994"
                    ],
                    [
                      "P1998"
                    ]
                  ],
                  "hovertemplate": "color=0<br>PCA Component 1=%{x}<br>PCA Component 2=%{y}<br>product_id=%{customdata[0]}<extra></extra>",
                  "legendgroup": "0",
                  "marker": {
                    "color": "#FFA15A",
                    "opacity": 0.6,
                    "symbol": "circle"
                  },
                  "mode": "markers",
                  "name": "0",
                  "showlegend": true,
                  "type": "scattergl",
                  "x": {
                    "bdata": "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",
                    "dtype": "f8"
                  },
                  "xaxis": "x",
                  "y": {
                    "bdata": "qRRW8rsGw7/wErsycozAv+ki0oiVgMK/bexA/Go9oL9HU11fR4+qv6D/OaE9g8G/gSjM4LpYvL8i1HR3WF3Hv1e2pTI3Srq/6IuoTyamwr+208KRX0vGv1LVTQaH98S/wWXFtL2mwL8cWJclvOTCv4XGcRaKpK2/BEhf8Didwb963PA9R9LGv3nTHD2+2qu/ngu9IEjotr+8rid/6aGzv5qKE6fvQcq/PFEdVG1CyL8AV6CysRrHv3Xo8XENx7y/FHVK3+P0q78DdC4Tjv6yv829NUBfRcS/ZbtVp2SdwL+eS403Oey1v/yALVvY6sm/ylL7BhcatL+3Z1STR122vxKaRWErIbC/Uc3jOR2YuL9jhcPl9APCv9+QZyozYMG/L+ha1sTXvL/dq8CGOHnJv4sR8goPG7y/pauvGX4OxL+todC3RxO1v9l+f4/RCcC/XUJDSehgOD+OLQFbVVfGv3h+G++mh8G/Cwi3sAuXxL/64eelEhvCv2rvNwu5H8m/G6NmhjSQvr8D+lYDV3e7v+qPg/VETce/HgqDAvzdur9US6t+ioS1v38iNVQ33qa/svW372xDtr8VrrI7OwvHv9c46dHJ/sK/Tx2CVnXexb8AKxAmK/2/v2ULO9kqGLq/McJMQaO6wr9EG6+03gjHv8HYUp9jF7e/XmzfL+6zsr8vf6wfsdm6v39mHoTFBr2/nV8tNocFwb9AEC72OZHGv0F5mElX+8O/6JiqL3+Jxb/1/Pzcyee2v4fBotGMoLW/yedW/foiwr9JLAr/33O+v6ooFMwshL2/5xrAPDD4wL8FcCX6d0zDvzrmFCagwcK/t3b/hRcnxr+Nmnr3otTHv+Zjo/4wzMu/5dP+S0cpvr/ioOxQkGXGv5h91QVk+7K/ntudgHW4sr9zlgRDPMfEvzavLEjZ3ba/NGE+YKg9w78NHNQUj+rBv291eMikhcW/Idx1wM/kwr9mtX2SwLjFvwrooZVLMb2/eGw62znZzL9vO9+rs/fDvy88JhqRg7K/MLshBfg0u7/ivR7dGZq9v7Cc9iWcrra/ELQqdWrEtL9QcTjehUbDv9uF0kef08O/i+Qxu+AyyL/m8r99/WK1v2pqjek5bcG/qC1U715Gwb8bEZ2Cwla7v+SXspRzBre/kOLMSsHBxL/KuEkusbOsvzvfNoGz9LS/Csz1o0Upxr8PWPTahI/Dv44PNLlqksi/yFxaHFw/xr84LfAkBKm0v/CRqGzhbra/HYvWMD5pur+77P4QL4mzv6r7Ydzmv8O/q/agv1rbwL8kn4sOY4XGv7NKlsDTJL+/TDXdaqlhv7+pzYMIlCC4vwXXVUz2uMW/mkPL3kBtu7899QqpWODAv/KJOP8cw5y/nz3KtF+8wr/S4mDCWU7Dv90UEbVgkMa/UF9te1eDsr8CUUSUqRKwv8gU3iK9Isi/D4eWCQn1vL8jmrmjJNS2vxafhnrNuLS/JqTmKR5Ywb/vrxbXjgPBv9//1HnUBq+/qybH4IT+pL/ZEysbSRvJv0yNtEcnvce/yUOtlg6ExL9/zP6uzg+yv+T4YcgMLMO/G5yk9/lewb/lLrB0ZC7Cv9GO8aRzWLi/Vi6TEI/0v7+I0ATaMve6v7qrzDUz+sO/7Z+E3DaWxb+s6xlYtmK4v0YHlRP578e/q6b7YijCur+/t9PWPgS2v4hTYunJxMe/oDlaVTtBu79lbIT6obTAv+mXr/7dWMa/roTOspy/s78rbdCy2I3Bv+b7j0yjnL6/y115vzd8t7+Dplx9uNvDvwpL2SRDh7q/tclsnJbIwr+NaxznUvXGv2KSjnGlBMa/XdgfR1EGwb/PGzf+kaXDv3HXak0iO8K/K9EaQ8W3xb/eqoa7xcqxvyD8VfKlSsC/E7k1Uy78mb+CyO1uqKjFv7ZmR3Copr2/UttamFJgwL9d0HimlbLDv5ZpsRkqIMK/RnDQDS0cwL+1fSNLXgTEv3lJt+CtzcO/XWAFEearwr+zuIrVhvu1v0N7a3HyObu/JCoWM2fTp78sUa7RhTDDv3yMjC0tH8e/CbcX8gCNs79EVKgACxOuv9nqNvHVnLy/0Sbr2Z+yv7/t+VUpWi3Cv4rnNQn9+7y/ccAqs1WQsb/OV63q4l7Avy32/NKVJ7S/3yudFH6tw78ICsCT5W3Ev746dVuWBbi/PUuisfkyuL80it7aiJK9v+9yl+c8PMS/z+lMES9Syb+OYjB6J+LFv/GubAqFucK/GxbtxhW5ur9Ym8t/f0HDv5rMkhZtwsC/QxyN5yxXvb/fBGhCvB/BvzuKNjHFyLC/cdNKlW6Sur/iElvQbYO3vysZa61xT8W/qDMHYPiynr+JieTCQGTEv/jQK0XsVsW/Vxfyy40tw78fkDmUJdHHv2wY62taori/ie/HyOPKw79T77kPskC9v5fUfwgw7sC/aeyoYlrLpL+rUHMvnbGrvzISF6y29MK/KOdGQXeUsb8ZfQZuGObCvxa7fhxcUb+/P6W3JHfrub/XRbPlqlrAv//7QEbtqsO/y3m1BfdJt7/d3kP/qZ/FvxXz982NZcC/9GX7+66wub+P02etKD/Dv6nOg8s1Q8i/XfZoApeZw7/g4ZU+y+2gv2XrfVnLm8a/b0V9TFEFwL+d466lT969v0R/A67eULG/ILsq9gn5w785MkRry0m7vwmkjUkqCrS/HMTgaM0dx7/k5QYaYYDAvxbu8ahsNaS/KLEIW8/rub98ZkUC0XnEv9wvFu2BrMG/T1/1LSesv7/Gj6jL/Y3Ev/Sssw7JsLW/o7WXB4dGwL/XCmDQ+oDDv32vFiZejcO/TFLeNiCaob9MLmLEmcbGvwVAdGnRhsm/dySWUL2Uxb9EBptYPRjDv0fNPGmoHsS/3VZBZW6fxr85buestNXDv+FJpEUGaMS/USCUfHoWx7+EY9OreSa0vxzJXLaujMq/M7E9kfASwr+JlgkkyzHDv9h/pSzZO8K/+x4eLvqqwb+Q4oSfy2uvvwhV0SHUUb+/JEeiucVjv7+f0+OlbRzEv2Sh/vW7o8W/LQpbCbrxwr+X72BsFsHGv65tqtQ7ZL6/3pvQapSSwb8J/1RuHlG9v3cEEUiMD8a/2KkSxRPlvr+P0Z9+rXq9v12dZmnYNsG/w+RtULn9v7+7ciNDRx7Bv8E6TrQKSsW/+FX/9aeUw7/UdUmpB0G4v2x/UUXZH8G/XWbg4/lPvL/z0cO/ZeXIv/TpJQs4/cC/njdZcDvYw79fSpnUrTy8v5jQcrLUVbW/nxBo20a9xL8saeSvwsq7vzJSMwx9s8i/WcL9GaBxxL+I1c6IlVWUv7xyURbbEbq/MZR9aznVwb+LKLEvroS/v7yJVulYbMK/IgZdTVxhw791Byrecj+4v8QHaLjpfrC/p+RBon9Zv798Rw0b++TFv9E8T4Nt0L6/4x8J7JrfwL9Z+mFiFHS4v6DKGEW1/Ya/WGdcEvvlr78XEb6QNofBv2v0ZjQP972/WHfgzp1/sj9YUA2THJrAv903isB6Lb+/kIKkIa9xwb9liePpFmaxv00h4zTTssG/uY9MEZvZw7+8G6ugEIzBv9C5KL/D98K/68A9I++bw7+qT+Wt9OrDv+5cDB++j8a/k3HDic68s7/qfiYSnKS0v6QRbZ6NqLi/4x1aOq5vvb+zoio45bfAv3fVWgDB3ce/2rlVfpNLw79JzOkwQQfKv4qz3YQr2Le/PblfFXaFwb/3XjV8XFe7v5OPgbRA8cO/t0c+5QI/xL98eYQocMK6v84kXi0ngcm/Eh6ZKD+Vxb8YOPG8kGTFv3l1A2sERbu/Ye7HOk9RoL81E89CESjCv3AwkwqhtMO/FR3GjT0ex78wwBGK+by5v+p68FR8SsK/5mmXQFqty7+fxL8yRRK6v36mFyu8DMa/+M3FmXHOxr/LK3mbs8nSv/nRMSzvVca/4SJdqDhIsr/P6tpBA+68v9ycAeEmbMS/HnYSVIlnwb/EAFjaZ162vwI6bfGftbi/tObW3HNTwb8I6VHt78nFvwuz2ltoSLu/d93VV9fPyr9wwrhuHxTEv2d9MmISU76/yUeFXoiLs79lYa8pwgzDv+oswuAubsC/avGQxpcDx7/v7gl+Q4bFv1QJmsciMMG/2y/IFeRsxL8Oa31q+ni8v7cH+8ubOb2/5hY8FQ4QyL9Y4mxRObjCv3vjWSS8MMO/WnVNURzGwL8b5B5+3u7EvwCtF4lr5cG/i6966Hhju7/YMPKsZJS2v8ZKUbg4K8S/MzwXpwP+w78zmT5G+f20v9xeoedni8a/NLGyQfUFxL8mPY93WyvDv/9ScN471LG/du9dMVOnt7+noAWqi1rCv+ngcqXS9ra//8PhIJUMxr+O3mGIP/TBvw/eqTGHvsG/8/ESNU51v781aaHha0XEv7g3S4E3/6q/vKP4/Cv7w79mKAyTgm+hv7E8SsV+n6G/DqveHiv9xr9+ozBq6Ou5v5Su8w7+l7W/F8rOMgJIw78V0cM6iBG1v56TUn76oLu/v/nH8/9+wb8qs0I3YEiuv37z3s/YBMK/yPj4HqQkxL9+cZaiFgOpvzOXKpnz77q/5Aan4Ar1vr9sTh3ADmG1v+t3j8TKaaq/eM8rowq/wr9ZC8YwlLvAv64wAKjAoMK/vK5UbtXBw7+QAHXGBNTEv9eBaluARcG/p/r5tmqoxL8BQYAN8oHCvzBgzr5t/MK/AFZodx7vxb8GnJ6UxeHAv0d0824Cecm/hcjgCsK8wL+zIA9VJdrBvybuKMrJmMm/Z8eWJDNExL+Z1doQEEi1v/s0K6tLS8W/9F4Dp821yL+2Qy/wpSXAv4FRoSpJlq6/nMGiBkV7oz97nOfRzkXDv9ms2bsC+Le/lOSOoUYhwr83ixd/BYTHv/XHtZruE8O/qbPD2Rwqx79iHDcbagvCvx2XCgpc3sa/+1D5zwYrt79SQkvecTXHv+Ye0kGT1Ly/sXNl/Hi/lT/jzyFs/pm8v1etm/m3DMG/wDpjGHJUwb8rME/QUa+3v4GV+8uaSLS/WZ1in3qGwL/+tAq9djnAv8C1UuWVPrS/8oiwxRRyzb+ePMLwjkClv3koaq0iJMO/5A9AIUFIxL+cfqmJ6k3Fv6ouiQtAPbq/X99VAMHFwb9+Xcg2fBfHv8sBAAAK8Me/BAm5J9GhuL8YEPehZmvCv9VswSd04Ly/BaUFu4aIyL+64WxVOiLBv+wnA9VVh7W/13QComORxL+fsA060wOhv4RqqVzJmcC/Bm1xU3JPqr9LgsuG74O8v8AnLqTHbJK/TcZwMAyUs79n6pKVcYLEv7odL96/2sO/vCCw/hIxwr8yxGcffX7Cv2xRHn5Y3bS//EtvO57Uyr+2xWnzYzLFv999FrGyNrS/dsfC5fEstb9NMXA3ZVC6v/Vn+WGpQrm/nizX2B/2t79Lpb1n5u3Bv2+snNvrXL6/Dtb6n507yL8148TRuHrEv91uWGbKPcW/iehPT5+Hp78DNBGbi42/v49DrkqyDry//Ey9a9jcvb+eUViOozuuv5tr4Lgno7G/WdRi1VmBx78LdrXXoQjEv2lIWtSgbau/xBbmNnHKtb8jbeD7QX26v4Tmg1NswMC/VU3kRRFSxb/AmQKphxjJv5CxoNRBfLS/T5uIBLTawr/TzsffI9XHv567HhxAgcO/DfsWRhqbur8VUSn9p4Gsvzx2ESrEqrm/mt+r7Lnorr8pThxt1qjGv3S7Wjs3VrS/+hyGeuXGuL8=",
                    "dtype": "f8"
                  },
                  "yaxis": "y"
                }
              ],
              "layout": {
                "height": 500,
                "legend": {
                  "title": {
                    "text": "Clusters"
                  },
                  "tracegroupgap": 0,
                  "x": 1,
                  "y": 1
                },
                "template": {
                  "data": {
                    "bar": [
                      {
                        "error_x": {
                          "color": "#2a3f5f"
                        },
                        "error_y": {
                          "color": "#2a3f5f"
                        },
                        "marker": {
                          "line": {
                            "color": "#E5ECF6",
                            "width": 0.5
                          },
                          "pattern": {
                            "fillmode": "overlay",
                            "size": 10,
                            "solidity": 0.2
                          }
                        },
                        "type": "bar"
                      }
                    ],
                    "barpolar": [
                      {
                        "marker": {
                          "line": {
                            "color": "#E5ECF6",
                            "width": 0.5
                          },
                          "pattern": {
                            "fillmode": "overlay",
                            "size": 10,
                            "solidity": 0.2
                          }
                        },
                        "type": "barpolar"
                      }
                    ],
                    "carpet": [
                      {
                        "aaxis": {
                          "endlinecolor": "#2a3f5f",
                          "gridcolor": "white",
                          "linecolor": "white",
                          "minorgridcolor": "white",
                          "startlinecolor": "#2a3f5f"
                        },
                        "baxis": {
                          "endlinecolor": "#2a3f5f",
                          "gridcolor": "white",
                          "linecolor": "white",
                          "minorgridcolor": "white",
                          "startlinecolor": "#2a3f5f"
                        },
                        "type": "carpet"
                      }
                    ],
                    "choropleth": [
                      {
                        "colorbar": {
                          "outlinewidth": 0,
                          "ticks": ""
                        },
                        "type": "choropleth"
                      }
                    ],
                    "contour": [
                      {
                        "colorbar": {
                          "outlinewidth": 0,
                          "ticks": ""
                        },
                        "colorscale": [
                          [
                            0,
                            "#0d0887"
                          ],
                          [
                            0.1111111111111111,
                            "#46039f"
                          ],
                          [
                            0.2222222222222222,
                            "#7201a8"
                          ],
                          [
                            0.3333333333333333,
                            "#9c179e"
                          ],
                          [
                            0.4444444444444444,
                            "#bd3786"
                          ],
                          [
                            0.5555555555555556,
                            "#d8576b"
                          ],
                          [
                            0.6666666666666666,
                            "#ed7953"
                          ],
                          [
                            0.7777777777777778,
                            "#fb9f3a"
                          ],
                          [
                            0.8888888888888888,
                            "#fdca26"
                          ],
                          [
                            1,
                            "#f0f921"
                          ]
                        ],
                        "type": "contour"
                      }
                    ],
                    "contourcarpet": [
                      {
                        "colorbar": {
                          "outlinewidth": 0,
                          "ticks": ""
                        },
                        "type": "contourcarpet"
                      }
                    ],
                    "heatmap": [
                      {
                        "colorbar": {
                          "outlinewidth": 0,
                          "ticks": ""
                        },
                        "colorscale": [
                          [
                            0,
                            "#0d0887"
                          ],
                          [
                            0.1111111111111111,
                            "#46039f"
                          ],
                          [
                            0.2222222222222222,
                            "#7201a8"
                          ],
                          [
                            0.3333333333333333,
                            "#9c179e"
                          ],
                          [
                            0.4444444444444444,
                            "#bd3786"
                          ],
                          [
                            0.5555555555555556,
                            "#d8576b"
                          ],
                          [
                            0.6666666666666666,
                            "#ed7953"
                          ],
                          [
                            0.7777777777777778,
                            "#fb9f3a"
                          ],
                          [
                            0.8888888888888888,
                            "#fdca26"
                          ],
                          [
                            1,
                            "#f0f921"
                          ]
                        ],
                        "type": "heatmap"
                      }
                    ],
                    "histogram": [
                      {
                        "marker": {
                          "pattern": {
                            "fillmode": "overlay",
                            "size": 10,
                            "solidity": 0.2
                          }
                        },
                        "type": "histogram"
                      }
                    ],
                    "histogram2d": [
                      {
                        "colorbar": {
                          "outlinewidth": 0,
                          "ticks": ""
                        },
                        "colorscale": [
                          [
                            0,
                            "#0d0887"
                          ],
                          [
                            0.1111111111111111,
                            "#46039f"
                          ],
                          [
                            0.2222222222222222,
                            "#7201a8"
                          ],
                          [
                            0.3333333333333333,
                            "#9c179e"
                          ],
                          [
                            0.4444444444444444,
                            "#bd3786"
                          ],
                          [
                            0.5555555555555556,
                            "#d8576b"
                          ],
                          [
                            0.6666666666666666,
                            "#ed7953"
                          ],
                          [
                            0.7777777777777778,
                            "#fb9f3a"
                          ],
                          [
                            0.8888888888888888,
                            "#fdca26"
                          ],
                          [
                            1,
                            "#f0f921"
                          ]
                        ],
                        "type": "histogram2d"
                      }
                    ],
                    "histogram2dcontour": [
                      {
                        "colorbar": {
                          "outlinewidth": 0,
                          "ticks": ""
                        },
                        "colorscale": [
                          [
                            0,
                            "#0d0887"
                          ],
                          [
                            0.1111111111111111,
                            "#46039f"
                          ],
                          [
                            0.2222222222222222,
                            "#7201a8"
                          ],
                          [
                            0.3333333333333333,
                            "#9c179e"
                          ],
                          [
                            0.4444444444444444,
                            "#bd3786"
                          ],
                          [
                            0.5555555555555556,
                            "#d8576b"
                          ],
                          [
                            0.6666666666666666,
                            "#ed7953"
                          ],
                          [
                            0.7777777777777778,
                            "#fb9f3a"
                          ],
                          [
                            0.8888888888888888,
                            "#fdca26"
                          ],
                          [
                            1,
                            "#f0f921"
                          ]
                        ],
                        "type": "histogram2dcontour"
                      }
                    ],
                    "mesh3d": [
                      {
                        "colorbar": {
                          "outlinewidth": 0,
                          "ticks": ""
                        },
                        "type": "mesh3d"
                      }
                    ],
                    "parcoords": [
                      {
                        "line": {
                          "colorbar": {
                            "outlinewidth": 0,
                            "ticks": ""
                          }
                        },
                        "type": "parcoords"
                      }
                    ],
                    "pie": [
                      {
                        "automargin": true,
                        "type": "pie"
                      }
                    ],
                    "scatter": [
                      {
                        "fillpattern": {
                          "fillmode": "overlay",
                          "size": 10,
                          "solidity": 0.2
                        },
                        "type": "scatter"
                      }
                    ],
                    "scatter3d": [
                      {
                        "line": {
                          "colorbar": {
                            "outlinewidth": 0,
                            "ticks": ""
                          }
                        },
                        "marker": {
                          "colorbar": {
                            "outlinewidth": 0,
                            "ticks": ""
                          }
                        },
                        "type": "scatter3d"
                      }
                    ],
                    "scattercarpet": [
                      {
                        "marker": {
                          "colorbar": {
                            "outlinewidth": 0,
                            "ticks": ""
                          }
                        },
                        "type": "scattercarpet"
                      }
                    ],
                    "scattergeo": [
                      {
                        "marker": {
                          "colorbar": {
                            "outlinewidth": 0,
                            "ticks": ""
                          }
                        },
                        "type": "scattergeo"
                      }
                    ],
                    "scattergl": [
                      {
                        "marker": {
                          "colorbar": {
                            "outlinewidth": 0,
                            "ticks": ""
                          }
                        },
                        "type": "scattergl"
                      }
                    ],
                    "scattermap": [
                      {
                        "marker": {
                          "colorbar": {
                            "outlinewidth": 0,
                            "ticks": ""
                          }
                        },
                        "type": "scattermap"
                      }
                    ],
                    "scattermapbox": [
                      {
                        "marker": {
                          "colorbar": {
                            "outlinewidth": 0,
                            "ticks": ""
                          }
                        },
                        "type": "scattermapbox"
                      }
                    ],
                    "scatterpolar": [
                      {
                        "marker": {
                          "colorbar": {
                            "outlinewidth": 0,
                            "ticks": ""
                          }
                        },
                        "type": "scatterpolar"
                      }
                    ],
                    "scatterpolargl": [
                      {
                        "marker": {
                          "colorbar": {
                            "outlinewidth": 0,
                            "ticks": ""
                          }
                        },
                        "type": "scatterpolargl"
                      }
                    ],
                    "scatterternary": [
                      {
                        "marker": {
                          "colorbar": {
                            "outlinewidth": 0,
                            "ticks": ""
                          }
                        },
                        "type": "scatterternary"
                      }
                    ],
                    "surface": [
                      {
                        "colorbar": {
                          "outlinewidth": 0,
                          "ticks": ""
                        },
                        "colorscale": [
                          [
                            0,
                            "#0d0887"
                          ],
                          [
                            0.1111111111111111,
                            "#46039f"
                          ],
                          [
                            0.2222222222222222,
                            "#7201a8"
                          ],
                          [
                            0.3333333333333333,
                            "#9c179e"
                          ],
                          [
                            0.4444444444444444,
                            "#bd3786"
                          ],
                          [
                            0.5555555555555556,
                            "#d8576b"
                          ],
                          [
                            0.6666666666666666,
                            "#ed7953"
                          ],
                          [
                            0.7777777777777778,
                            "#fb9f3a"
                          ],
                          [
                            0.8888888888888888,
                            "#fdca26"
                          ],
                          [
                            1,
                            "#f0f921"
                          ]
                        ],
                        "type": "surface"
                      }
                    ],
                    "table": [
                      {
                        "cells": {
                          "fill": {
                            "color": "#EBF0F8"
                          },
                          "line": {
                            "color": "white"
                          }
                        },
                        "header": {
                          "fill": {
                            "color": "#C8D4E3"
                          },
                          "line": {
                            "color": "white"
                          }
                        },
                        "type": "table"
                      }
                    ]
                  },
                  "layout": {
                    "annotationdefaults": {
                      "arrowcolor": "#2a3f5f",
                      "arrowhead": 0,
                      "arrowwidth": 1
                    },
                    "autotypenumbers": "strict",
                    "coloraxis": {
                      "colorbar": {
                        "outlinewidth": 0,
                        "ticks": ""
                      }
                    },
                    "colorscale": {
                      "diverging": [
                        [
                          0,
                          "#8e0152"
                        ],
                        [
                          0.1,
                          "#c51b7d"
                        ],
                        [
                          0.2,
                          "#de77ae"
                        ],
                        [
                          0.3,
                          "#f1b6da"
                        ],
                        [
                          0.4,
                          "#fde0ef"
                        ],
                        [
                          0.5,
                          "#f7f7f7"
                        ],
                        [
                          0.6,
                          "#e6f5d0"
                        ],
                        [
                          0.7,
                          "#b8e186"
                        ],
                        [
                          0.8,
                          "#7fbc41"
                        ],
                        [
                          0.9,
                          "#4d9221"
                        ],
                        [
                          1,
                          "#276419"
                        ]
                      ],
                      "sequential": [
                        [
                          0,
                          "#0d0887"
                        ],
                        [
                          0.1111111111111111,
                          "#46039f"
                        ],
                        [
                          0.2222222222222222,
                          "#7201a8"
                        ],
                        [
                          0.3333333333333333,
                          "#9c179e"
                        ],
                        [
                          0.4444444444444444,
                          "#bd3786"
                        ],
                        [
                          0.5555555555555556,
                          "#d8576b"
                        ],
                        [
                          0.6666666666666666,
                          "#ed7953"
                        ],
                        [
                          0.7777777777777778,
                          "#fb9f3a"
                        ],
                        [
                          0.8888888888888888,
                          "#fdca26"
                        ],
                        [
                          1,
                          "#f0f921"
                        ]
                      ],
                      "sequentialminus": [
                        [
                          0,
                          "#0d0887"
                        ],
                        [
                          0.1111111111111111,
                          "#46039f"
                        ],
                        [
                          0.2222222222222222,
                          "#7201a8"
                        ],
                        [
                          0.3333333333333333,
                          "#9c179e"
                        ],
                        [
                          0.4444444444444444,
                          "#bd3786"
                        ],
                        [
                          0.5555555555555556,
                          "#d8576b"
                        ],
                        [
                          0.6666666666666666,
                          "#ed7953"
                        ],
                        [
                          0.7777777777777778,
                          "#fb9f3a"
                        ],
                        [
                          0.8888888888888888,
                          "#fdca26"
                        ],
                        [
                          1,
                          "#f0f921"
                        ]
                      ]
                    },
                    "colorway": [
                      "#636efa",
                      "#EF553B",
                      "#00cc96",
                      "#ab63fa",
                      "#FFA15A",
                      "#19d3f3",
                      "#FF6692",
                      "#B6E880",
                      "#FF97FF",
                      "#FECB52"
                    ],
                    "font": {
                      "color": "#2a3f5f"
                    },
                    "geo": {
                      "bgcolor": "white",
                      "lakecolor": "white",
                      "landcolor": "#E5ECF6",
                      "showlakes": true,
                      "showland": true,
                      "subunitcolor": "white"
                    },
                    "hoverlabel": {
                      "align": "left"
                    },
                    "hovermode": "closest",
                    "mapbox": {
                      "style": "light"
                    },
                    "paper_bgcolor": "white",
                    "plot_bgcolor": "#E5ECF6",
                    "polar": {
                      "angularaxis": {
                        "gridcolor": "white",
                        "linecolor": "white",
                        "ticks": ""
                      },
                      "bgcolor": "#E5ECF6",
                      "radialaxis": {
                        "gridcolor": "white",
                        "linecolor": "white",
                        "ticks": ""
                      }
                    },
                    "scene": {
                      "xaxis": {
                        "backgroundcolor": "#E5ECF6",
                        "gridcolor": "white",
                        "gridwidth": 2,
                        "linecolor": "white",
                        "showbackground": true,
                        "ticks": "",
                        "zerolinecolor": "white"
                      },
                      "yaxis": {
                        "backgroundcolor": "#E5ECF6",
                        "gridcolor": "white",
                        "gridwidth": 2,
                        "linecolor": "white",
                        "showbackground": true,
                        "ticks": "",
                        "zerolinecolor": "white"
                      },
                      "zaxis": {
                        "backgroundcolor": "#E5ECF6",
                        "gridcolor": "white",
                        "gridwidth": 2,
                        "linecolor": "white",
                        "showbackground": true,
                        "ticks": "",
                        "zerolinecolor": "white"
                      }
                    },
                    "shapedefaults": {
                      "line": {
                        "color": "#2a3f5f"
                      }
                    },
                    "ternary": {
                      "aaxis": {
                        "gridcolor": "white",
                        "linecolor": "white",
                        "ticks": ""
                      },
                      "baxis": {
                        "gridcolor": "white",
                        "linecolor": "white",
                        "ticks": ""
                      },
                      "bgcolor": "#E5ECF6",
                      "caxis": {
                        "gridcolor": "white",
                        "linecolor": "white",
                        "ticks": ""
                      }
                    },
                    "title": {
                      "x": 0.05
                    },
                    "xaxis": {
                      "automargin": true,
                      "gridcolor": "white",
                      "linecolor": "white",
                      "ticks": "",
                      "title": {
                        "standoff": 15
                      },
                      "zerolinecolor": "white",
                      "zerolinewidth": 2
                    },
                    "yaxis": {
                      "automargin": true,
                      "gridcolor": "white",
                      "linecolor": "white",
                      "ticks": "",
                      "title": {
                        "standoff": 15
                      },
                      "zerolinecolor": "white",
                      "zerolinewidth": 2
                    }
                  }
                },
                "title": {
                  "text": "2D Visualization of Clusters with Recently Viewed Products"
                },
                "width": 600,
                "xaxis": {
                  "anchor": "y",
                  "domain": [
                    0,
                    1
                  ],
                  "title": {
                    "text": "PCA Component 1"
                  }
                },
                "yaxis": {
                  "anchor": "x",
                  "domain": [
                    0,
                    1
                  ],
                  "title": {
                    "text": "PCA Component 2"
                  }
                }
              }
            }
          },
          "metadata": {},
          "output_type": "display_data"
        }
      ],
      "source": [
        "def plot_clusters(pca_df, num_clusters=5):\n",
        "    \"\"\"\n",
        "    Plots a 2D visualization of clusters using Plotly Express.\n",
        "\n",
        "    Parameters:\n",
        "    - pca_df (DataFrame): A Pandas DataFrame containing columns 'x', 'y', and 'cluster'.\n",
        "      'x' and 'y' are the 2D PCA components, and 'cluster' indicates the cluster label.\n",
        "    - num_clusters (int): The number of unique clusters to display.\n",
        "    - recently_viewed_df (DataFrame, optional): DataFrame with 'x' and 'y' coordinates for recently viewed products.\n",
        "\n",
        "    This function creates an interactive scatter plot where each point is colored according to its cluster.\n",
        "    Recently viewed products are marked as black crosses if provided.\n",
        "\n",
        "    Returns:\n",
        "    - fig (Figure): The Plotly figure object for the plot.\n",
        "    \"\"\"\n",
        "\n",
        "    # Create the base cluster plot\n",
        "    fig = px.scatter(\n",
        "        pca_df,\n",
        "        x='x',\n",
        "        y='y',\n",
        "        opacity=0.6,\n",
        "        size_max=4,\n",
        "        color= pca_df.cluster.astype(str),\n",
        "        title='2D Visualization of Clusters with Recently Viewed Products',\n",
        "        labels={'x': 'PCA Component 1', 'y': 'PCA Component 2'},\n",
        "        category_orders={'cluster': list(range(num_clusters))},\n",
        "        # show the product id in the tooltip\n",
        "        hover_data={'product_id': True}\n",
        "\n",
        "    )\n",
        "\n",
        "    # Update layout to add legend title and adjust plot settings\n",
        "    fig.update_layout(legend_title_text='Clusters', legend=dict(x=1, y=1), width=600, height=500)\n",
        "\n",
        "    return fig\n",
        "\n",
        "fig = plot_clusters(pca_df)\n",
        "fig.show()"
      ]
    },
    {
      "cell_type": "markdown",
      "metadata": {
        "id": "wUf0_1QE9x36"
      },
      "source": [
        "### Task 5 - Highlight recently viewed products"
      ]
    },
    {
      "cell_type": "code",
      "execution_count": 25,
      "metadata": {
        "id": "5aVSaE-194HQ"
      },
      "outputs": [
        {
          "name": "stdout",
          "output_type": "stream",
          "text": [
            "The user has recently viewed the following products:  ['P316', 'P333', 'P1115', 'P1691', 'P1082', 'P397', 'P1441', 'P1054']\n"
          ]
        }
      ],
      "source": [
        "print(\"The user has recently viewed the following products: \", recently_viewed_products)"
      ]
    },
    {
      "cell_type": "markdown",
      "metadata": {
        "id": "-7XYwmVhKviT"
      },
      "source": [
        "Let's have a look at the records in our `clustered_data` dataframe related to the recently viewed products."
      ]
    },
    {
      "cell_type": "code",
      "execution_count": 26,
      "metadata": {
        "id": "G__WrqP3RreI"
      },
      "outputs": [
        {
          "name": "stdout",
          "output_type": "stream",
          "text": [
            "+----------+--------------------+--------------------+--------------------+-------+\n",
            "|product_id|               title|         description|            features|cluster|\n",
            "+----------+--------------------+--------------------+--------------------+-------+\n",
            "|      P316|Mystic Fitz Roy B...|With its distress...|[-0.0203592479228...|      2|\n",
            "|      P333|Florida Shag Beig...|Lavish natural mo...|[-0.0176252555102...|      2|\n",
            "|      P397|1 gal. #M250-3 Ap...|BEHR ULTRA SCUFF ...|[-0.0041810967959...|      0|\n",
            "|     P1054|1 gal. #HDPG60 Mi...|The improved PPG ...|[-0.0088056623935...|      0|\n",
            "|     P1082|1 qt. #S220-7 Mol...|BEHR ULTRA SCUFF ...|[-0.0200616624206...|      0|\n",
            "|     P1115|Modern Gray/Multi...|This Modern Gray/...|[-0.0280533097684...|      2|\n",
            "|     P1441|1 qt. #PPU6-06 Ho...|BEHR PREMIUM PLUS...|[-0.0061895805411...|      0|\n",
            "|     P1691|Genet Rust/Red-Br...|Add a refreshing ...|[-0.0354774855077...|      2|\n",
            "+----------+--------------------+--------------------+--------------------+-------+\n",
            "\n"
          ]
        }
      ],
      "source": [
        "filtered_data = clustered_data.filter(clustered_data.product_id.isin(recently_viewed_products))\n",
        "filtered_data.show()"
      ]
    },
    {
      "cell_type": "code",
      "execution_count": 27,
      "metadata": {},
      "outputs": [
        {
          "data": {
            "text/plain": [
              "[2, 0]"
            ]
          },
          "execution_count": 27,
          "metadata": {},
          "output_type": "execute_result"
        }
      ],
      "source": [
        "unique_clusters = filtered_data.select(\"cluster\").distinct().rdd.flatMap(lambda x:x).collect()\n",
        "unique_clusters"
      ]
    },
    {
      "cell_type": "markdown",
      "metadata": {
        "id": "IgvR7IZBdfRP"
      },
      "source": [
        "### Task 6 - Recommend products based on recently viewed products"
      ]
    },
    {
      "cell_type": "markdown",
      "metadata": {
        "id": "WGXK0C8iHcqv"
      },
      "source": [
        "Let's have a look at the recently viewed products titles"
      ]
    },
    {
      "cell_type": "markdown",
      "metadata": {
        "id": "-VDv_TunhyAx"
      },
      "source": [
        "Let's see the distinct clusters of the recenetly viewed products."
      ]
    },
    {
      "cell_type": "code",
      "execution_count": 28,
      "metadata": {
        "id": "vcIpAoXdDgjK"
      },
      "outputs": [
        {
          "data": {
            "text/plain": [
              "[\"Mystic Fitz Roy Beige 9' 0 x 12' 0 Area Rug\",\n",
              " 'Florida Shag Beige/Multi 3 ft. x 5 ft. Floral Area Rug',\n",
              " '1 gal. #M250-3 Apple Turnover Extra Durable Flat Interior Paint & Primer',\n",
              " '1 gal. #HDPG60 Misty Emerald Lake Flat Interior Paint and Primer',\n",
              " '1 qt. #S220-7 Molasses Extra Durable Flat Interior Paint & Primer',\n",
              " 'Modern Gray/Multi 9 ft. x 12 ft. Vibrant Abstract Polyester Area Rug',\n",
              " '1 qt. #PPU6-06 Honey Locust Eggshell Enamel Low Odor Interior Paint & Primer',\n",
              " 'Genet Rust/Red-Brown 8 ft. x 11 ft. Abstract Wool Area Rug']"
            ]
          },
          "execution_count": 28,
          "metadata": {},
          "output_type": "execute_result"
        }
      ],
      "source": [
        "filtered_data.select(\"title\").rdd.flatMap(lambda x: x).collect()"
      ]
    },
    {
      "cell_type": "markdown",
      "metadata": {
        "id": "fmoLOKthh2f_"
      },
      "source": [
        "Let's find the possible products for the recommendation."
      ]
    },
    {
      "cell_type": "code",
      "execution_count": 29,
      "metadata": {
        "id": "unKBWkemiLR4"
      },
      "outputs": [
        {
          "name": "stdout",
          "output_type": "stream",
          "text": [
            "+----------+--------------------+--------------------+--------------------+-------+\n",
            "|product_id|               title|         description|            features|cluster|\n",
            "+----------+--------------------+--------------------+--------------------+-------+\n",
            "|        P2|Large Tapestry Bo...|Polyester cover r...|[0.03586056455969...|      2|\n",
            "|        P6|5 gal. #650C-2 Po...|BEHR PRO i300 Sem...|[0.00177027715835...|      0|\n",
            "|       P11|1 qt. #350F-7 Wil...|BEHR PREMIUM PLUS...|[0.00107431644573...|      0|\n",
            "|       P16|5 gal. #BL-W10 Ma...|BEHR PREMIUM PLUS...|[-0.0082466555759...|      0|\n",
            "|       P18|1 qt. #M400-5 Bab...|BEHR PREMIUM PLUS...|[0.00725177722051...|      0|\n",
            "|       P21|Whimsicle Blue Mu...|In true bohemian ...|[0.03499031439423...|      2|\n",
            "|       P24|5-gal. #HDGO64U C...|The Glidden 5-gal...|[-0.0455830655992...|      0|\n",
            "|       P26|5 gal. #W-B-320 W...|BEHR ULTRA SCUFF ...|[0.00336035597138...|      0|\n",
            "|       P30|1 qt. Bermuda San...|This Glidden Exte...|[-0.0577026866376...|      0|\n",
            "|       P33|1 gal. #N210-6 Sw...|Love your space l...|[0.03455594182014...|      0|\n",
            "|       P40|1 gal. #110B-6 Cr...|BEHR PREMIUM PLUS...|[-0.0088544785976...|      0|\n",
            "|       P50|1 qt. #640A-1 Sof...|BEHR PREMIUM PLUS...|[-0.0330735743045...|      0|\n",
            "|       P52|Irenea Tan/Ivory ...|Inspired by the v...|[-0.0244116280227...|      2|\n",
            "|       P53|8 oz. #P140-7 No ...|The BEHR PREMIUM ...|[-0.0029280104208...|      0|\n",
            "|       P58|1 qt. #MQ2-4 Butt...|BEHR ULTRA SCUFF ...|[0.00691818399354...|      0|\n",
            "|       P59|1 gal. #HDGV43U I...|Glidden Premium e...|[0.00916070211678...|      0|\n",
            "|       P63|1 qt. #BIC-44 Cha...|BEHR PREMIUM PLUS...|[0.04772670194506...|      0|\n",
            "|       P65|1 qt. #230F-5 Sun...|BEHR ULTRA Exteri...|[-0.0085597839206...|      0|\n",
            "|       P69|5 gal. PPG1128-2 ...|Glidden Diamond O...|[-0.0137615613639...|      0|\n",
            "|       P71|Chelsea Light Gre...|100% pure virgin ...|[0.01490151416510...|      2|\n",
            "+----------+--------------------+--------------------+--------------------+-------+\n",
            "only showing top 20 rows\n",
            "\n"
          ]
        }
      ],
      "source": [
        "possible_recommendations = clustered_data.filter(clustered_data.cluster.isin(unique_clusters)).filter(~clustered_data.product_id.isin(recently_viewed_products))\n",
        "possible_recommendations.show()"
      ]
    },
    {
      "cell_type": "markdown",
      "metadata": {
        "id": "zZxLGRiN41hy"
      },
      "source": [
        "Let's perform a groupby and generate a list of product IDs that can be recommended for each of the clusters."
      ]
    },
    {
      "cell_type": "code",
      "execution_count": 33,
      "metadata": {},
      "outputs": [
        {
          "name": "stdout",
          "output_type": "stream",
          "text": [
            "+-------+--------------------+\n",
            "|cluster|recommended_products|\n",
            "+-------+--------------------+\n",
            "|      2|[P2, P21, P52, P7...|\n",
            "|      0|[P6, P11, P16, P1...|\n",
            "+-------+--------------------+\n",
            "\n"
          ]
        }
      ],
      "source": [
        "recommendations = possible_recommendations.groupby(\"cluster\").agg(F.collect_list(\"product_id\").alias(\"recommended_products\"))\n",
        "recommendations.show()                                                                  "
      ]
    },
    {
      "cell_type": "code",
      "execution_count": 35,
      "metadata": {},
      "outputs": [
        {
          "data": {
            "text/html": [
              "<div>\n",
              "<style scoped>\n",
              "    .dataframe tbody tr th:only-of-type {\n",
              "        vertical-align: middle;\n",
              "    }\n",
              "\n",
              "    .dataframe tbody tr th {\n",
              "        vertical-align: top;\n",
              "    }\n",
              "\n",
              "    .dataframe thead th {\n",
              "        text-align: right;\n",
              "    }\n",
              "</style>\n",
              "<table border=\"1\" class=\"dataframe\">\n",
              "  <thead>\n",
              "    <tr style=\"text-align: right;\">\n",
              "      <th></th>\n",
              "      <th>cluster</th>\n",
              "      <th>recommended_products</th>\n",
              "    </tr>\n",
              "  </thead>\n",
              "  <tbody>\n",
              "    <tr>\n",
              "      <th>0</th>\n",
              "      <td>2</td>\n",
              "      <td>[P1146, P383, P180, P1667, P1448]</td>\n",
              "    </tr>\n",
              "    <tr>\n",
              "      <th>1</th>\n",
              "      <td>0</td>\n",
              "      <td>[P1503, P1693, P1830, P887, P1632]</td>\n",
              "    </tr>\n",
              "  </tbody>\n",
              "</table>\n",
              "</div>"
            ],
            "text/plain": [
              "   cluster                recommended_products\n",
              "0        2   [P1146, P383, P180, P1667, P1448]\n",
              "1        0  [P1503, P1693, P1830, P887, P1632]"
            ]
          },
          "execution_count": 35,
          "metadata": {},
          "output_type": "execute_result"
        }
      ],
      "source": [
        "#Convert to pandas and apply random recommendations \n",
        "recommendations_df = recommendations.toPandas()\n",
        "recommendations_df['recommended_products'] = recommendations_df['recommended_products'].apply(lambda x: np.random.choice(x, size=5, replace=False).tolist())\n",
        "recommendations_df.head()"
      ]
    },
    {
      "cell_type": "code",
      "execution_count": 37,
      "metadata": {
        "id": "JdjExGZS5HNV"
      },
      "outputs": [
        {
          "name": "stdout",
          "output_type": "stream",
          "text": [
            "\n",
            "\n",
            "Recommendations for Cluster: 2\n",
            "Vintage Hamadan Blue/Black 5 ft. x 8 ft. Floral Medallion Area Rug\n",
            "Margie Tribal Fringe Black 8 ft. x 10 ft. Area Rug\n",
            "Courtyard Natural/Red 2 ft. x 14 ft. Floral Indoor/Outdoor Runner Rug\n",
            "Evie 1 Gold 5 ft. x 7 ft. 6 in. Area Rug\n",
            "Watercolor Green/Fuchsia 2 ft. x 6 ft. Abstract Runner Rug\n",
            "\n",
            "\n",
            "Recommendations for Cluster: 0\n",
            "1 qt. PPG1231-6 Azure Tide Satin Interior Latex Paint\n",
            "1 gal. #BXC-72 Evergreen Trail Satin Enamel Exterior Paint & Primer\n",
            "5 gal. #P280-2 Gold Thread Eggshell Enamel Interior Paint & Primer\n",
            "1 gal. #470C-2 Winter Fresh Eggshell Enamel Low Odor Interior Paint & Primer\n",
            "1 gal. #S140-5 Red Gerbera Eggshell Enamel Low Odor Interior Paint & Primer\n"
          ]
        },
        {
          "data": {
            "text/plain": [
              "0    None\n",
              "1    None\n",
              "dtype: object"
            ]
          },
          "execution_count": 37,
          "metadata": {},
          "output_type": "execute_result"
        }
      ],
      "source": [
        "# write a python function to display the recommendations\n",
        "def display_recommendations(row):\n",
        "    # find the title of the product in df\n",
        "    product_ids = row['recommended_products']\n",
        "    cluster = row.cluster\n",
        "\n",
        "    titles = df.filter(df[\"product_id\"].isin(product_ids)).select(\"title\").collect()\n",
        "\n",
        "    print(\"\\n\")\n",
        "    print(\"Recommendations for Cluster:\", cluster)\n",
        "    for title in titles:\n",
        "        print(title[0])\n",
        "\n",
        "recommendations_df.apply(display_recommendations, axis=1)\n",
        "# End of the notebook"
      ]
    }
  ],
  "metadata": {
    "colab": {
      "collapsed_sections": [
        "WSq024bak3oY",
        "p8GVRghclHxs",
        "hY4One5i4VXh",
        "tmQsXruiibQN",
        "wUf0_1QE9x36",
        "IgvR7IZBdfRP"
      ],
      "provenance": []
    },
    "kernelspec": {
      "display_name": "openai_env",
      "language": "python",
      "name": "python3"
    },
    "language_info": {
      "codemirror_mode": {
        "name": "ipython",
        "version": 3
      },
      "file_extension": ".py",
      "mimetype": "text/x-python",
      "name": "python",
      "nbconvert_exporter": "python",
      "pygments_lexer": "ipython3",
      "version": "3.11.9"
    }
  },
  "nbformat": 4,
  "nbformat_minor": 0
}
