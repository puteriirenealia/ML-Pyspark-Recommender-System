{
  "cells": [
    {
      "cell_type": "markdown",
      "metadata": {
        "id": "D1JMp22fk-XB"
      },
      "source": [
        "# **Content-Based Product Recommender System with PySpark & OpenAI**"
      ]
    },
    {
      "cell_type": "markdown",
      "metadata": {
        "id": "WSq024bak3oY"
      },
      "source": [
        "### Task 1 - Set up the project"
      ]
    },
    {
      "cell_type": "markdown",
      "metadata": {
        "id": "yZ2xad8skFPi"
      },
      "source": [
        "Installing the needed modules."
      ]
    },
    {
      "cell_type": "code",
      "execution_count": 2,
      "metadata": {
        "id": "9TysdMWOkEfm"
      },
      "outputs": [
        {
          "name": "stdout",
          "output_type": "stream",
          "text": [
            "Requirement already satisfied: openai==1.16.2 in c:\\users\\puter\\repositories\\ml-pyspark-recommender-system\\openai_env\\lib\\site-packages (1.16.2)\n",
            "Requirement already satisfied: python-dotenv in c:\\users\\puter\\repositories\\ml-pyspark-recommender-system\\openai_env\\lib\\site-packages (1.1.1)\n",
            "Requirement already satisfied: pyspark in c:\\users\\puter\\repositories\\ml-pyspark-recommender-system\\openai_env\\lib\\site-packages (3.5.1)\n",
            "Requirement already satisfied: anyio<5,>=3.5.0 in c:\\users\\puter\\repositories\\ml-pyspark-recommender-system\\openai_env\\lib\\site-packages (from openai==1.16.2) (4.9.0)\n",
            "Requirement already satisfied: distro<2,>=1.7.0 in c:\\users\\puter\\repositories\\ml-pyspark-recommender-system\\openai_env\\lib\\site-packages (from openai==1.16.2) (1.9.0)\n",
            "Requirement already satisfied: httpx<1,>=0.23.0 in c:\\users\\puter\\repositories\\ml-pyspark-recommender-system\\openai_env\\lib\\site-packages (from openai==1.16.2) (0.24.1)\n",
            "Requirement already satisfied: pydantic<3,>=1.9.0 in c:\\users\\puter\\repositories\\ml-pyspark-recommender-system\\openai_env\\lib\\site-packages (from openai==1.16.2) (2.11.7)\n",
            "Requirement already satisfied: sniffio in c:\\users\\puter\\repositories\\ml-pyspark-recommender-system\\openai_env\\lib\\site-packages (from openai==1.16.2) (1.3.1)\n",
            "Requirement already satisfied: tqdm>4 in c:\\users\\puter\\repositories\\ml-pyspark-recommender-system\\openai_env\\lib\\site-packages (from openai==1.16.2) (4.67.1)\n",
            "Requirement already satisfied: typing-extensions<5,>=4.7 in c:\\users\\puter\\repositories\\ml-pyspark-recommender-system\\openai_env\\lib\\site-packages (from openai==1.16.2) (4.14.0)\n",
            "Requirement already satisfied: idna>=2.8 in c:\\users\\puter\\repositories\\ml-pyspark-recommender-system\\openai_env\\lib\\site-packages (from anyio<5,>=3.5.0->openai==1.16.2) (3.10)\n",
            "Requirement already satisfied: certifi in c:\\users\\puter\\repositories\\ml-pyspark-recommender-system\\openai_env\\lib\\site-packages (from httpx<1,>=0.23.0->openai==1.16.2) (2025.6.15)\n",
            "Requirement already satisfied: httpcore<0.18.0,>=0.15.0 in c:\\users\\puter\\repositories\\ml-pyspark-recommender-system\\openai_env\\lib\\site-packages (from httpx<1,>=0.23.0->openai==1.16.2) (0.17.3)\n",
            "Requirement already satisfied: h11<0.15,>=0.13 in c:\\users\\puter\\repositories\\ml-pyspark-recommender-system\\openai_env\\lib\\site-packages (from httpcore<0.18.0,>=0.15.0->httpx<1,>=0.23.0->openai==1.16.2) (0.14.0)\n",
            "Requirement already satisfied: annotated-types>=0.6.0 in c:\\users\\puter\\repositories\\ml-pyspark-recommender-system\\openai_env\\lib\\site-packages (from pydantic<3,>=1.9.0->openai==1.16.2) (0.7.0)\n",
            "Requirement already satisfied: pydantic-core==2.33.2 in c:\\users\\puter\\repositories\\ml-pyspark-recommender-system\\openai_env\\lib\\site-packages (from pydantic<3,>=1.9.0->openai==1.16.2) (2.33.2)\n",
            "Requirement already satisfied: typing-inspection>=0.4.0 in c:\\users\\puter\\repositories\\ml-pyspark-recommender-system\\openai_env\\lib\\site-packages (from pydantic<3,>=1.9.0->openai==1.16.2) (0.4.1)\n",
            "Requirement already satisfied: py4j==0.10.9.7 in c:\\users\\puter\\repositories\\ml-pyspark-recommender-system\\openai_env\\lib\\site-packages (from pyspark) (0.10.9.7)\n",
            "Requirement already satisfied: colorama in c:\\users\\puter\\repositories\\ml-pyspark-recommender-system\\openai_env\\lib\\site-packages (from tqdm>4->openai==1.16.2) (0.4.6)\n"
          ]
        }
      ],
      "source": [
        "!pip install openai==1.16.2 python-dotenv pyspark"
      ]
    },
    {
      "cell_type": "markdown",
      "metadata": {
        "id": "BW-TNHnokK9R"
      },
      "source": [
        "Imporint the modules"
      ]
    },
    {
      "cell_type": "code",
      "execution_count": 3,
      "metadata": {
        "id": "471JgJHHkM4j"
      },
      "outputs": [],
      "source": [
        "from dotenv import load_dotenv\n",
        "import os\n",
        "from openai import OpenAI\n",
        "import pandas as pd\n",
        "import numpy as np\n",
        "\n",
        "from pyspark.sql import SparkSession\n",
        "from pyspark.sql.functions import concat_ws\n",
        "from pyspark.sql import functions as F\n",
        "from pyspark.sql.types import ArrayType, FloatType\n",
        "\n",
        "from pyspark.ml.feature import VectorAssembler, PCA\n",
        "from pyspark.ml.clustering import KMeans\n",
        "import findspark\n",
        "import plotly.express as px\n"
      ]
    },
    {
      "cell_type": "markdown",
      "metadata": {
        "id": "5B9C7nK-n_PH"
      },
      "source": [
        "Setup the OpenAI API"
      ]
    },
    {
      "cell_type": "code",
      "execution_count": 4,
      "metadata": {},
      "outputs": [
        {
          "data": {
            "text/plain": [
              "<openai.OpenAI at 0x22b3c3e41d0>"
            ]
          },
          "execution_count": 4,
          "metadata": {},
          "output_type": "execute_result"
        }
      ],
      "source": [
        "# Load environment variables\n",
        "load_dotenv(dotenv_path='apikey.env.txt')\n",
        "# Initialize OpenAI client\n",
        "APIKEY=os.getenv('apikey')\n",
        "\n",
        "#Create an Instance of the OpenAI client\n",
        "client = OpenAI(api_key=APIKEY)\n",
        "client"
      ]
    },
    {
      "cell_type": "markdown",
      "metadata": {
        "id": "-ZdObqeMkOig"
      },
      "source": [
        "Create a Spark session"
      ]
    },
    {
      "cell_type": "code",
      "execution_count": 5,
      "metadata": {
        "id": "_Qv5GsOYjg6-"
      },
      "outputs": [
        {
          "data": {
            "text/html": [
              "\n",
              "            <div>\n",
              "                <p><b>SparkSession - in-memory</b></p>\n",
              "                \n",
              "        <div>\n",
              "            <p><b>SparkContext</b></p>\n",
              "\n",
              "            <p><a href=\"http://192.168.50.164:4040\">Spark UI</a></p>\n",
              "\n",
              "            <dl>\n",
              "              <dt>Version</dt>\n",
              "                <dd><code>v3.5.1</code></dd>\n",
              "              <dt>Master</dt>\n",
              "                <dd><code>local[*]</code></dd>\n",
              "              <dt>AppName</dt>\n",
              "                <dd><code>ProductRecommenderSystem</code></dd>\n",
              "            </dl>\n",
              "        </div>\n",
              "        \n",
              "            </div>\n",
              "        "
            ],
            "text/plain": [
              "<pyspark.sql.session.SparkSession at 0x22b4db3a9d0>"
            ]
          },
          "execution_count": 5,
          "metadata": {},
          "output_type": "execute_result"
        }
      ],
      "source": [
        "#Create a Spark session\n",
        "spark = SparkSession.builder.appName(\"ProductRecommenderSystem\").getOrCreate()\n",
        "spark"
      ]
    },
    {
      "cell_type": "code",
      "execution_count": 6,
      "metadata": {},
      "outputs": [
        {
          "name": "stdout",
          "output_type": "stream",
          "text": [
            "Creating a new Spark session with 12GB of driver memory...\n",
            "\n",
            "✅ Spark session created successfully!\n",
            "✅ Spark Version: 3.5.1\n"
          ]
        }
      ],
      "source": [
        "from pyspark.sql import SparkSession\n",
        "import os\n",
        "\n",
        "print(\"Creating a new Spark session with 12GB of driver memory...\")\n",
        "\n",
        "try:\n",
        "    spark = SparkSession.builder \\\n",
        "        .appName(\"RecommenderSystemWithMemory\") \\\n",
        "        .master(\"local[*]\") \\\n",
        "        .config(\"spark.driver.host\", \"127.0.0.1\") \\\n",
        "        .config(\"spark.driver.memory\", \"12g\") \\\n",
        "        .getOrCreate()\n",
        "\n",
        "    print(\"\\n✅ Spark session created successfully!\")\n",
        "    print(f\"✅ Spark Version: {spark.version}\")\n",
        "\n",
        "except Exception as e:\n",
        "    print(\"\\n❌ Test failed. Error details:\", e)"
      ]
    },
    {
      "cell_type": "markdown",
      "metadata": {
        "id": "vrVs7c7VkdAU"
      },
      "source": [
        "Loading the dataset"
      ]
    },
    {
      "cell_type": "code",
      "execution_count": 7,
      "metadata": {
        "id": "7nN4tpI2kpJH"
      },
      "outputs": [
        {
          "name": "stdout",
          "output_type": "stream",
          "text": [
            "+----------+--------------------+--------------------+\n",
            "|product_id|               title|         description|\n",
            "+----------+--------------------+--------------------+\n",
            "|        P0|Men's 3X Large Ca...|This heavyweight,...|\n",
            "|        P1|Turmode 30 ft. RP...|If you need more ...|\n",
            "|        P2|Large Tapestry Bo...|Polyester cover r...|\n",
            "|        P3|16-Gauge-Sinks Ve...|It features a rec...|\n",
            "|        P4|Men's Crazy Horse...|This 9 in. black ...|\n",
            "+----------+--------------------+--------------------+\n",
            "only showing top 5 rows\n",
            "\n"
          ]
        }
      ],
      "source": [
        "file_path = 'products_dataset.csv'\n",
        "# Load the dataset\n",
        "df = spark.read.csv(file_path, header=True, inferSchema=True, samplingRatio=1)\n",
        "df.show(5)"
      ]
    },
    {
      "cell_type": "markdown",
      "metadata": {
        "id": "J3iLfvXQqxg1"
      },
      "source": [
        "List of 8 products recently viewed by the user."
      ]
    },
    {
      "cell_type": "code",
      "execution_count": 8,
      "metadata": {
        "id": "Y2tAbjKgqxKs"
      },
      "outputs": [],
      "source": [
        "recently_viewed_products = [\n",
        "    'P316',\n",
        "    'P333',\n",
        "    'P1115',\n",
        "    'P1691',\n",
        "    'P1082',\n",
        "    'P397',\n",
        "    'P1441',\n",
        "    'P1054',\n",
        "]"
      ]
    },
    {
      "cell_type": "markdown",
      "metadata": {
        "id": "p8GVRghclHxs"
      },
      "source": [
        "### Task 2 - Prepare the dataset"
      ]
    },
    {
      "cell_type": "markdown",
      "metadata": {
        "id": "QgtmOENUl6uS"
      },
      "source": [
        "Combine `title` and `description` Columns"
      ]
    },
    {
      "cell_type": "code",
      "execution_count": 9,
      "metadata": {
        "id": "pIV-mogSlLPa"
      },
      "outputs": [
        {
          "name": "stdout",
          "output_type": "stream",
          "text": [
            "+----------+--------------------+--------------------+--------------------+\n",
            "|product_id|               title|         description|       combined_text|\n",
            "+----------+--------------------+--------------------+--------------------+\n",
            "|        P0|Men's 3X Large Ca...|This heavyweight,...|Men's 3X Large Ca...|\n",
            "|        P1|Turmode 30 ft. RP...|If you need more ...|Turmode 30 ft. RP...|\n",
            "|        P2|Large Tapestry Bo...|Polyester cover r...|Large Tapestry Bo...|\n",
            "|        P3|16-Gauge-Sinks Ve...|It features a rec...|16-Gauge-Sinks Ve...|\n",
            "|        P4|Men's Crazy Horse...|This 9 in. black ...|Men's Crazy Horse...|\n",
            "+----------+--------------------+--------------------+--------------------+\n",
            "only showing top 5 rows\n",
            "\n"
          ]
        }
      ],
      "source": [
        "df = df.withColumn('combined_text', concat_ws(\"\", df.title, df.description))\n",
        "df.show(5)"
      ]
    },
    {
      "cell_type": "markdown",
      "metadata": {
        "id": "wbgC0Iy5rO4M"
      },
      "source": [
        "get the combined_text column and convert it into a list"
      ]
    },
    {
      "cell_type": "code",
      "execution_count": 10,
      "metadata": {},
      "outputs": [
        {
          "name": "stdout",
          "output_type": "stream",
          "text": [
            "[\"Men's 3X Large Carbon Heather Cotton/Polyester Rain Defender Paxton Heavyweight Hooded Zip-Front SweatshirtThis heavyweight, water-repellent hooded sweatshirt has a zip front for fast layering. ORIGINAL FIT. 13 oz., 75% cotton/25% polyester blend with Rain Defender durable water repellent. Attached, jersey-lined three-piece hood with drawcord closure. Antique-finish brass front zipper. Two front hand-warmer pockets have a hidden security pocket inside. Stretchable, spandex-reinforced rib-knit cuffs and waistband. Locker loop facilitates hanging.\", \"Turmode 30 ft. RP TNC Female to RP TNC Male Adapter CableIf you need more length between your existing wireless device and Hi-Gain Antenna, this is the product for you. It's compatible with most Wi-Fi Antennas, so it is easy for you to extend your wireless network. Just replace your existing cable that runs between your wireless device and Antenna and you're ready to use your network with extended range.\", 'Large Tapestry Bolster BedPolyester cover resembling rich Italian tapestries wraps your pet in comfort and style. 100% recycled polyester high loft MemoryFiber fill keeps pets elevated off cold floors for relief on tired joints and pressure points. A great fit for pets up to 100 lbs. Zippered removable cover is machine washable in cold water only. To dry, use a delicate cycle or gentle setting with very low heat.']\n"
          ]
        }
      ],
      "source": [
        "list_combined_text = df.select('combined_text').rdd.flatMap(lambda x: x).collect()\n",
        "print (list_combined_text[:3])"
      ]
    },
    {
      "cell_type": "markdown",
      "metadata": {
        "id": "cR-Nbn3jrN6F"
      },
      "source": [
        "Use OpenAI text embedding model to create the vector embeddings."
      ]
    },
    {
      "cell_type": "code",
      "execution_count": 11,
      "metadata": {
        "id": "2Lc54tWKmldh"
      },
      "outputs": [
        {
          "data": {
            "text/plain": [
              "[[0.037482116371393204,\n",
              "  0.030425189062952995,\n",
              "  -0.013667216524481773,\n",
              "  -0.0015252791345119476,\n",
              "  0.007516968995332718,\n",
              "  -0.03558835759758949,\n",
              "  0.021474501118063927,\n",
              "  0.0818961039185524,\n",
              "  0.0491662472486496,\n",
              "  -0.05770602449774742,\n",
              "  0.04201998934149742,\n",
              "  0.04255595803260803,\n",
              "  -0.0586707666516304,\n",
              "  0.031104082241654396,\n",
              "  0.022832291200757027,\n",
              "  0.06453070044517517,\n",
              "  0.10433535277843475,\n",
              "  -0.037482116371393204,\n",
              "  -0.08775603026151657,\n",
              "  0.06442350149154663,\n",
              "  -0.05638396739959717,\n",
              "  0.05842065066099167,\n",
              "  -0.026691269129514694,\n",
              "  -0.07710810750722885,\n",
              "  0.026262493804097176,\n",
              "  0.03805381804704666,\n",
              "  -0.048094309866428375,\n",
              "  0.032551199197769165,\n",
              "  0.055633608251810074,\n",
              "  -0.015891488641500473,\n",
              "  0.003608859609812498,\n",
              "  -0.023582646623253822,\n",
              "  0.018508804962038994,\n",
              "  -0.02608383819460869,\n",
              "  0.044163867831230164,\n",
              "  -0.07074794173240662,\n",
              "  -0.021563829854130745,\n",
              "  0.10948065668344498,\n",
              "  -0.03380179405212402,\n",
              "  0.02860289253294468,\n",
              "  0.03126487508416176,\n",
              "  -0.05749163776636124,\n",
              "  0.013953066430985928,\n",
              "  -0.0593496635556221,\n",
              "  0.02681632898747921,\n",
              "  0.03698188066482544,\n",
              "  0.014006663113832474,\n",
              "  0.02545854076743126,\n",
              "  -0.02981775626540184,\n",
              "  0.021867545321583748,\n",
              "  -0.034391362220048904,\n",
              "  -0.018669595941901207,\n",
              "  -0.05449020862579346,\n",
              "  0.04473556578159332,\n",
              "  -0.029567638412117958,\n",
              "  -0.028763683512806892,\n",
              "  -0.04212718456983566,\n",
              "  -0.04227010905742645,\n",
              "  0.023457588627934456,\n",
              "  -0.020206041634082794,\n",
              "  -0.02163529209792614,\n",
              "  -0.02086707018315792,\n",
              "  -0.025530003011226654,\n",
              "  -0.014444371685385704,\n",
              "  -0.031247008591890335,\n",
              "  -0.034391362220048904,\n",
              "  0.019491415470838547,\n",
              "  -0.019884459674358368,\n",
              "  0.006007322110235691,\n",
              "  -0.05298949405550957,\n",
              "  0.06142207607626915,\n",
              "  0.051238659769296646,\n",
              "  0.03035372495651245,\n",
              "  -0.026834193617105484,\n",
              "  -0.07482130825519562,\n",
              "  -0.002110379049554467,\n",
              "  0.006775544956326485,\n",
              "  -0.08253926783800125,\n",
              "  0.008392385207116604,\n",
              "  0.031247008591890335,\n",
              "  -0.020295368507504463,\n",
              "  0.07253450900316238,\n",
              "  -0.023064544424414635,\n",
              "  -0.03590993955731392,\n",
              "  -0.050023797899484634,\n",
              "  -0.001360021997243166,\n",
              "  -0.026119569316506386,\n",
              "  0.007079260423779488,\n",
              "  -0.008186930790543556,\n",
              "  -0.014417572878301144,\n",
              "  0.023403991013765335,\n",
              "  0.012514881789684296,\n",
              "  0.024243677034974098,\n",
              "  -0.0248868390917778,\n",
              "  -0.05531202629208565,\n",
              "  0.005600878968834877,\n",
              "  -0.02803119271993637,\n",
              "  -0.03973318636417389,\n",
              "  -0.033766064792871475,\n",
              "  0.009089145809412003,\n",
              "  -0.03297997638583183,\n",
              "  -0.007628628984093666,\n",
              "  0.0005496476660482585,\n",
              "  0.01145187672227621,\n",
              "  -0.06499520689249039,\n",
              "  -0.007887681014835835,\n",
              "  -0.11076697707176208,\n",
              "  -0.005243565887212753,\n",
              "  0.00961171556264162,\n",
              "  -0.02720937319099903,\n",
              "  -0.10061929374933243,\n",
              "  0.07560739666223526,\n",
              "  0.032301079481840134,\n",
              "  0.06949734687805176,\n",
              "  -0.0355168953537941,\n",
              "  -0.0334087498486042,\n",
              "  0.03548116609454155,\n",
              "  0.017928171902894974,\n",
              "  -0.009915431030094624,\n",
              "  0.06295852363109589,\n",
              "  0.02333252876996994,\n",
              "  0.05681274086236954,\n",
              "  -0.022868022322654724,\n",
              "  -0.023261066526174545,\n",
              "  -0.004528940189629793,\n",
              "  -0.013220574706792831,\n",
              "  -0.034677211195230484,\n",
              "  -0.043592166155576706,\n",
              "  0.00509617431089282,\n",
              "  0.0070524620823562145,\n",
              "  0.05223913863301277,\n",
              "  0.028138386085629463,\n",
              "  0.08346828073263168,\n",
              "  -0.030264398083090782,\n",
              "  -0.011844920925796032,\n",
              "  0.01785670965909958,\n",
              "  0.04273461550474167,\n",
              "  0.010987370274960995,\n",
              "  -0.03539183735847473,\n",
              "  -0.13056211173534393,\n",
              "  -0.04652213305234909,\n",
              "  -0.04284181073307991,\n",
              "  -0.02192114293575287,\n",
              "  8.318689651787281e-05,\n",
              "  0.025351345539093018,\n",
              "  0.014533699490129948,\n",
              "  -0.019348490983247757,\n",
              "  -0.009040014818310738,\n",
              "  -0.038161009550094604,\n",
              "  0.07660787552595139,\n",
              "  -0.05334680527448654,\n",
              "  -0.06585275381803513,\n",
              "  0.07432106882333755,\n",
              "  0.01815149188041687,\n",
              "  -0.0981895700097084,\n",
              "  -0.016275599598884583,\n",
              "  0.07024770230054855,\n",
              "  0.047129563987255096,\n",
              "  -0.04923770949244499,\n",
              "  -0.03373033180832863,\n",
              "  -0.06260120868682861,\n",
              "  0.006092183757573366,\n",
              "  -0.004703130107372999,\n",
              "  0.0007665476878173649,\n",
              "  0.12262976914644241,\n",
              "  0.008218195289373398,\n",
              "  0.06320863962173462,\n",
              "  -0.07875175029039383,\n",
              "  -0.09368743002414703,\n",
              "  -0.03655310347676277,\n",
              "  0.004022002685815096,\n",
              "  -0.04627201333642006,\n",
              "  0.006360168568789959,\n",
              "  0.02395782619714737,\n",
              "  0.027120044454932213,\n",
              "  0.025887316092848778,\n",
              "  -0.07675080001354218,\n",
              "  0.01449796836823225,\n",
              "  -0.030871829017996788,\n",
              "  -0.10998088866472244,\n",
              "  0.001098737004213035,\n",
              "  -0.04437825456261635,\n",
              "  0.0676393210887909,\n",
              "  -0.037339191883802414,\n",
              "  -0.053168151527643204,\n",
              "  -0.035981401801109314,\n",
              "  0.02904953435063362,\n",
              "  0.012586344964802265,\n",
              "  0.010353139601647854,\n",
              "  0.010835511609911919,\n",
              "  0.011434011161327362,\n",
              "  0.03601713478565216,\n",
              "  -0.036767490208148956,\n",
              "  -0.005279297009110451,\n",
              "  -0.036570969969034195,\n",
              "  -0.09061453491449356,\n",
              "  0.027262968942523003,\n",
              "  0.07489277422428131,\n",
              "  0.009701043367385864,\n",
              "  0.0873987227678299,\n",
              "  -0.04294900223612785,\n",
              "  0.08375412970781326,\n",
              "  0.01970580220222473,\n",
              "  0.01659718155860901,\n",
              "  -0.04652213305234909,\n",
              "  -0.0016481054481118917,\n",
              "  -0.01669544167816639,\n",
              "  -0.023689841851592064,\n",
              "  -0.06942588835954666,\n",
              "  -0.03633871674537659,\n",
              "  0.05591946095228195,\n",
              "  -0.007159655913710594,\n",
              "  -0.0402691587805748,\n",
              "  0.001540911616757512,\n",
              "  -0.0036780890077352524,\n",
              "  -0.0029813291039317846,\n",
              "  0.011657331138849258,\n",
              "  -0.018178291618824005,\n",
              "  0.01751726120710373,\n",
              "  0.05681274086236954,\n",
              "  -0.07010477781295776,\n",
              "  0.025726525112986565,\n",
              "  -0.05609811469912529,\n",
              "  0.016418524086475372,\n",
              "  -0.05449020862579346,\n",
              "  0.06045733392238617,\n",
              "  0.06903284043073654,\n",
              "  0.04041208326816559,\n",
              "  0.007557166740298271,\n",
              "  -0.0628155991435051,\n",
              "  0.03349807858467102,\n",
              "  0.01389053650200367,\n",
              "  -0.07221292704343796,\n",
              "  0.005623210687190294,\n",
              "  -0.057991873472929,\n",
              "  0.0600285567343235,\n",
              "  0.0002266703377244994,\n",
              "  -0.03694614768028259,\n",
              "  -0.03916148841381073,\n",
              "  -0.00941519346088171,\n",
              "  -0.07106952369213104,\n",
              "  -0.00035563792334869504,\n",
              "  0.011684129945933819,\n",
              "  0.07042635977268219,\n",
              "  0.014194252900779247,\n",
              "  0.00015702223754487932,\n",
              "  -0.029371116310358047,\n",
              "  -0.03783943131566048,\n",
              "  0.0470581017434597,\n",
              "  -0.023600513115525246,\n",
              "  0.03930441290140152,\n",
              "  -0.03296210989356041,\n",
              "  -0.0505240373313427,\n",
              "  0.04180560261011124,\n",
              "  0.03196163475513458,\n",
              "  0.051238659769296646,\n",
              "  0.0061323815025389194,\n",
              "  0.0036177923902869225,\n",
              "  -0.02109932340681553,\n",
              "  -0.03258693218231201,\n",
              "  -0.060385871678590775,\n",
              "  -0.0030393924098461866,\n",
              "  -0.01698129251599312,\n",
              "  -0.0013120081275701523,\n",
              "  -0.026691269129514694,\n",
              "  0.050452571362257004,\n",
              "  0.03894709795713425,\n",
              "  -0.05470459535717964,\n",
              "  0.023100275546312332,\n",
              "  0.04287753999233246,\n",
              "  -0.003762950887903571,\n",
              "  0.06860406696796417,\n",
              "  0.03244400769472122,\n",
              "  0.09911858290433884,\n",
              "  -0.03919721767306328,\n",
              "  0.05202474817633629,\n",
              "  -0.00727131636813283,\n",
              "  0.06563837081193924,\n",
              "  0.02075987681746483,\n",
              "  0.0737493708729744,\n",
              "  -0.06599567830562592,\n",
              "  -0.04001903906464577,\n",
              "  0.009879699908196926,\n",
              "  0.025351345539093018,\n",
              "  0.015462713316082954,\n",
              "  0.029371116310358047,\n",
              "  0.03844686225056648,\n",
              "  0.06453070044517517,\n",
              "  0.0036535237450152636,\n",
              "  -0.004531173501163721,\n",
              "  0.02197474054992199,\n",
              "  -0.01999165304005146,\n",
              "  -0.02027750387787819,\n",
              "  -0.015480578877031803,\n",
              "  -0.04941636696457863,\n",
              "  -0.02681632898747921,\n",
              "  -0.09776079654693604,\n",
              "  0.04016196355223656,\n",
              "  -0.01950928196310997,\n",
              "  -0.05613384768366814,\n",
              "  0.01761552318930626,\n",
              "  0.06142207607626915,\n",
              "  -0.06470935791730881,\n",
              "  0.05102427303791046,\n",
              "  0.04652213305234909,\n",
              "  0.08625531941652298,\n",
              "  0.03131847083568573,\n",
              "  -0.034534286707639694,\n",
              "  -0.03666029870510101,\n",
              "  -0.014024528674781322,\n",
              "  0.002072414383292198,\n",
              "  0.03639231249690056,\n",
              "  -0.049880873411893845,\n",
              "  -0.004544572904706001,\n",
              "  -0.026262493804097176,\n",
              "  -0.046343475580215454,\n",
              "  0.020920665934681892,\n",
              "  0.05223913863301277,\n",
              "  -0.04380655288696289,\n",
              "  -0.04709383100271225,\n",
              "  0.06628153473138809,\n",
              "  0.03414124250411987,\n",
              "  -0.023797035217285156,\n",
              "  -0.0859694704413414,\n",
              "  0.014274648390710354,\n",
              "  -0.035552628338336945,\n",
              "  -0.0805383175611496,\n",
              "  -0.05102427303791046,\n",
              "  -0.041841331869363785,\n",
              "  -0.035892073065042496,\n",
              "  -0.022332051768898964,\n",
              "  0.00803507212549448,\n",
              "  -0.0024073952808976173,\n",
              "  -0.05159597471356392,\n",
              "  0.014783819206058979,\n",
              "  -0.008575508370995522,\n",
              "  0.02604810521006584,\n",
              "  -0.04898758977651596,\n",
              "  0.02608383819460869,\n",
              "  0.010737250559031963,\n",
              "  -0.022689364850521088,\n",
              "  -0.037196267396211624,\n",
              "  -0.025440674275159836,\n",
              "  -0.015712833032011986,\n",
              "  0.046486400067806244,\n",
              "  -0.06006428971886635,\n",
              "  0.021760351955890656,\n",
              "  0.01940208673477173,\n",
              "  0.0027892733924090862,\n",
              "  -0.0017508328892290592,\n",
              "  0.00900428369641304,\n",
              "  0.050559766590595245,\n",
              "  -0.020152444019913673,\n",
              "  -0.017204612493515015,\n",
              "  0.018419476225972176,\n",
              "  -0.01834801398217678,\n",
              "  0.062029510736465454,\n",
              "  -0.05263218283653259,\n",
              "  0.058063335716724396,\n",
              "  0.01766912080347538,\n",
              "  0.017445798963308334,\n",
              "  0.11476888507604599,\n",
              "  -0.021260114386677742,\n",
              "  -0.027852535247802734,\n",
              "  0.007181988097727299,\n",
              "  0.05334680527448654,\n",
              "  -0.03934014216065407,\n",
              "  0.022546440362930298,\n",
              "  -0.0038232472725212574,\n",
              "  -0.03783943131566048,\n",
              "  0.02812051959335804,\n",
              "  0.0689971074461937,\n",
              "  0.03058597818017006,\n",
              "  -0.017168881371617317,\n",
              "  -0.053418271243572235,\n",
              "  0.033515945076942444,\n",
              "  0.02134944126009941,\n",
              "  0.06989039480686188,\n",
              "  -0.029567638412117958,\n",
              "  -0.02885301224887371,\n",
              "  0.044842761009931564,\n",
              "  0.048773203045129776,\n",
              "  0.027798939496278763,\n",
              "  0.09733201563358307,\n",
              "  0.08825626969337463,\n",
              "  0.0002745446690823883,\n",
              "  -0.02308240905404091,\n",
              "  0.009915431030094624,\n",
              "  0.06388753652572632,\n",
              "  -0.032015230506658554,\n",
              "  0.04816577211022377,\n",
              "  -0.07271316647529602,\n",
              "  -0.001892641419544816,\n",
              "  -0.04573604464530945,\n",
              "  -0.014757020398974419,\n",
              "  -0.012184367515146732,\n",
              "  0.046879444271326065,\n",
              "  0.03616005927324295,\n",
              "  0.020402563735842705,\n",
              "  0.07532154768705368,\n",
              "  -0.008160131983458996,\n",
              "  0.06099330261349678,\n",
              "  -0.0647808164358139,\n",
              "  0.0478084571659565,\n",
              "  0.026637671515345573,\n",
              "  -0.000888257403858006,\n",
              "  -0.02463672123849392,\n",
              "  0.07682225853204727,\n",
              "  -0.06470935791730881,\n",
              "  -0.045378729701042175,\n",
              "  -0.030425189062952995,\n",
              "  0.028835145756602287,\n",
              "  0.003340875031426549,\n",
              "  0.03987611457705498,\n",
              "  0.026691269129514694,\n",
              "  0.12184368073940277,\n",
              "  0.04084085673093796,\n",
              "  0.0035329307429492474,\n",
              "  -0.051095735281705856,\n",
              "  0.0716412216424942,\n",
              "  -0.05088134855031967,\n",
              "  -0.03524891287088394,\n",
              "  -0.009142742492258549,\n",
              "  -0.0368032231926918,\n",
              "  -0.01925916224718094,\n",
              "  0.04952355846762657,\n",
              "  0.04384228587150574,\n",
              "  -0.1023343950510025,\n",
              "  -0.09082892537117004,\n",
              "  0.0075973644852638245,\n",
              "  -0.007387442979961634,\n",
              "  -0.02749522216618061,\n",
              "  0.09811810404062271,\n",
              "  0.0348380021750927,\n",
              "  -0.08068124204874039,\n",
              "  -0.0025034230202436447,\n",
              "  -0.06538824737071991,\n",
              "  -0.005417755804955959,\n",
              "  -0.003135420149192214,\n",
              "  0.04873747006058693,\n",
              "  -0.008968552574515343,\n",
              "  0.05649115890264511,\n",
              "  0.009665312245488167,\n",
              "  -0.024565257132053375,\n",
              "  0.007012264337390661,\n",
              "  -0.011505473405122757,\n",
              "  0.0545974001288414,\n",
              "  0.010933772660791874,\n",
              "  -0.06260120868682861,\n",
              "  -0.060778915882110596,\n",
              "  0.014435438439249992,\n",
              "  0.023546915501356125,\n",
              "  -0.08718433231115341,\n",
              "  0.03267626091837883,\n",
              "  -0.023689841851592064,\n",
              "  0.06503093987703323,\n",
              "  -0.003345341421663761,\n",
              "  0.042770348489284515,\n",
              "  -0.00965637993067503,\n",
              "  0.010692587122321129,\n",
              "  0.04427105933427811,\n",
              "  -0.06671030819416046,\n",
              "  0.062315359711647034,\n",
              "  -0.02987135387957096,\n",
              "  -0.06974746286869049,\n",
              "  0.009602782316505909,\n",
              "  0.025083361193537712,\n",
              "  0.0010691470233723521,\n",
              "  0.09197232872247696,\n",
              "  -0.04041208326816559,\n",
              "  -0.023028813302516937,\n",
              "  -0.04520007595419884,\n",
              "  0.012845396995544434,\n",
              "  0.027030715718865395,\n",
              "  0.04269888252019882,\n",
              "  0.023922095075249672,\n",
              "  -0.004001903813332319,\n",
              "  -0.013685082085430622,\n",
              "  -0.059849899262189865,\n",
              "  -0.06277986615896225,\n",
              "  0.001922789728268981,\n",
              "  -0.008932821452617645,\n",
              "  -0.035945672541856766,\n",
              "  -0.03162218630313873,\n",
              "  -0.012639941647648811,\n",
              "  0.008664836175739765,\n",
              "  -0.02812051959335804,\n",
              "  0.08418290317058563,\n",
              "  -0.04427105933427811,\n",
              "  -0.040876589715480804,\n",
              "  0.02347545325756073,\n",
              "  -0.019009042531251907,\n",
              "  -0.00296569662168622,\n",
              "  -0.01781204529106617,\n",
              "  -0.00031711513292975724,\n",
              "  -0.030228666961193085,\n",
              "  -0.03585634380578995,\n",
              "  -0.04602189362049103,\n",
              "  0.11019527912139893,\n",
              "  -0.031139813363552094,\n",
              "  0.03653523698449135,\n",
              "  0.030746769160032272,\n",
              "  0.03297997638583183,\n",
              "  -0.08961406350135803,\n",
              "  0.02274296246469021,\n",
              "  0.05359692499041557,\n",
              "  0.0613863468170166,\n",
              "  0.02304667793214321,\n",
              "  0.00336990668438375,\n",
              "  0.022832291200757027,\n",
              "  0.015266191214323044,\n",
              "  0.04423533007502556],\n",
              " [0.035387322306632996,\n",
              "  0.013333739712834358,\n",
              "  0.022400682792067528,\n",
              "  -0.014163394458591938,\n",
              "  -0.0888577327132225,\n",
              "  -0.03647095337510109,\n",
              "  0.0044234152883291245,\n",
              "  0.01598355546593666,\n",
              "  0.040128208696842194,\n",
              "  0.07287418097257614,\n",
              "  -0.010980228893458843,\n",
              "  0.035150278359651566,\n",
              "  -0.007399167399853468,\n",
              "  -0.007530388422310352,\n",
              "  0.047882940620183945,\n",
              "  -0.081746406853199,\n",
              "  -0.01661849580705166,\n",
              "  -0.0339311920106411,\n",
              "  -0.07957914471626282,\n",
              "  0.1306452602148056,\n",
              "  0.0038858328480273485,\n",
              "  0.07375463098287582,\n",
              "  -0.02588861994445324,\n",
              "  -0.03081575408577919,\n",
              "  -0.024567944929003716,\n",
              "  0.04022979736328125,\n",
              "  0.020335011184215546,\n",
              "  0.0696910172700882,\n",
              "  0.04473363980650902,\n",
              "  -0.03548891097307205,\n",
              "  -0.02614259533584118,\n",
              "  -0.06390035897493362,\n",
              "  -0.03647095337510109,\n",
              "  -0.04229547083377838,\n",
              "  -0.024788057431578636,\n",
              "  -0.014205724000930786,\n",
              "  -0.01667775772511959,\n",
              "  -0.0046477606520056725,\n",
              "  0.042261604219675064,\n",
              "  -0.04253251478075981,\n",
              "  0.028513038530945778,\n",
              "  0.013782430440187454,\n",
              "  -0.026430435478687286,\n",
              "  -0.0014772936701774597,\n",
              "  0.008084902539849281,\n",
              "  0.005071054212749004,\n",
              "  0.006074259057641029,\n",
              "  0.041279565542936325,\n",
              "  0.04266796633601189,\n",
              "  -0.003348250174894929,\n",
              "  -0.008982283994555473,\n",
              "  0.05221746489405632,\n",
              "  -0.07300963252782822,\n",
              "  0.04327750951051712,\n",
              "  -0.08066277951002121,\n",
              "  0.10843081772327423,\n",
              "  -0.01811695471405983,\n",
              "  -0.019454561173915863,\n",
              "  0.0007820344180800021,\n",
              "  -0.020504329353570938,\n",
              "  -0.08276230841875076,\n",
              "  -0.04886498302221298,\n",
              "  0.03381267189979553,\n",
              "  -0.06346013396978378,\n",
              "  0.021096939221024513,\n",
              "  0.0054350863210856915,\n",
              "  -0.012140052393078804,\n",
              "  -0.011716759763658047,\n",
              "  -0.08973818272352219,\n",
              "  0.006683801766484976,\n",
              "  0.0348455086350441,\n",
              "  -0.0414150208234787,\n",
              "  -0.04144888371229172,\n",
              "  -0.01483219861984253,\n",
              "  0.004139808937907219,\n",
              "  -0.017355026677250862,\n",
              "  -0.056077901273965836,\n",
              "  0.03335551545023918,\n",
              "  0.03806253522634506,\n",
              "  0.025262145325541496,\n",
              "  -0.02448328584432602,\n",
              "  0.012021530419588089,\n",
              "  -0.08106914162635803,\n",
              "  0.0022117076441645622,\n",
              "  0.006590676959604025,\n",
              "  -0.001379936235025525,\n",
              "  -0.07131645828485489,\n",
              "  -0.0658644437789917,\n",
              "  -0.03972184658050537,\n",
              "  0.029342694208025932,\n",
              "  0.05435086414217949,\n",
              "  -0.04957611486315727,\n",
              "  0.0925149917602539,\n",
              "  -0.038197990506887436,\n",
              "  -0.041787516325712204,\n",
              "  -0.07002964615821838,\n",
              "  -0.04937293380498886,\n",
              "  -0.016635427251458168,\n",
              "  0.039654120802879333,\n",
              "  0.041042521595954895,\n",
              "  0.04822157695889473,\n",
              "  0.014722142368555069,\n",
              "  -0.017490480095148087,\n",
              "  -0.026921454817056656,\n",
              "  0.008821433410048485,\n",
              "  -0.051167696714401245,\n",
              "  -0.021096939221024513,\n",
              "  -0.04632522165775299,\n",
              "  -0.026278050616383553,\n",
              "  0.06820102035999298,\n",
              "  -0.036809589713811874,\n",
              "  -0.03924775868654251,\n",
              "  0.0058837770484387875,\n",
              "  -0.06159764528274536,\n",
              "  -0.013477659784257412,\n",
              "  -0.016652358695864677,\n",
              "  0.08567456901073456,\n",
              "  0.02048739790916443,\n",
              "  0.048560209572315216,\n",
              "  0.006552580744028091,\n",
              "  -0.04872952774167061,\n",
              "  0.03498096019029617,\n",
              "  0.020859895274043083,\n",
              "  -0.13050979375839233,\n",
              "  0.01000665407627821,\n",
              "  -0.020318079739809036,\n",
              "  -0.05594244599342346,\n",
              "  0.010032052174210548,\n",
              "  0.03381267189979553,\n",
              "  0.04497068375349045,\n",
              "  0.05787266418337822,\n",
              "  0.0053504277020692825,\n",
              "  0.018878882750868797,\n",
              "  -0.002592671662569046,\n",
              "  -0.04310819134116173,\n",
              "  0.005426620598882437,\n",
              "  -0.01835399866104126,\n",
              "  -0.02705691009759903,\n",
              "  0.020114898681640625,\n",
              "  -0.027869632467627525,\n",
              "  0.036098454147577286,\n",
              "  -0.039383210241794586,\n",
              "  0.02441556006669998,\n",
              "  -0.042024560272693634,\n",
              "  -0.01908206380903721,\n",
              "  0.040331389755010605,\n",
              "  -0.07077464461326599,\n",
              "  0.0008741007186472416,\n",
              "  -0.05800811946392059,\n",
              "  -0.00605732761323452,\n",
              "  -0.12001212686300278,\n",
              "  -0.04405637085437775,\n",
              "  -0.06369718164205551,\n",
              "  -0.032119497656822205,\n",
              "  0.011699827387928963,\n",
              "  -0.05733084678649902,\n",
              "  -0.0044361138716340065,\n",
              "  0.03462539613246918,\n",
              "  -0.020741373300552368,\n",
              "  -0.03345710411667824,\n",
              "  -0.04300660267472267,\n",
              "  0.0011354843154549599,\n",
              "  -0.09000909328460693,\n",
              "  0.0375884473323822,\n",
              "  -0.017761388793587685,\n",
              "  0.013113627210259438,\n",
              "  0.04683317244052887,\n",
              "  -0.013282944448292255,\n",
              "  -0.10043904185295105,\n",
              "  0.00288474396802485,\n",
              "  -0.019471492618322372,\n",
              "  -0.04876339063048363,\n",
              "  -0.06935238093137741,\n",
              "  0.04588499665260315,\n",
              "  0.06325695663690567,\n",
              "  0.0014635366387665272,\n",
              "  0.010624662972986698,\n",
              "  -0.06122514605522156,\n",
              "  0.03379574045538902,\n",
              "  0.030392460525035858,\n",
              "  -0.03718208521604538,\n",
              "  -0.029799850657582283,\n",
              "  0.05621335282921791,\n",
              "  -0.029799850657582283,\n",
              "  -0.02893633209168911,\n",
              "  -0.028411448001861572,\n",
              "  0.02871621958911419,\n",
              "  0.06305377185344696,\n",
              "  -0.02021648921072483,\n",
              "  -0.025702370330691338,\n",
              "  0.042464785277843475,\n",
              "  0.07341599464416504,\n",
              "  -0.03572595864534378,\n",
              "  -0.011886077001690865,\n",
              "  -0.02096148580312729,\n",
              "  -0.006539882160723209,\n",
              "  0.012478687800467014,\n",
              "  -0.03061257302761078,\n",
              "  0.0054350863210856915,\n",
              "  -0.014916856773197651,\n",
              "  0.06776079535484314,\n",
              "  -0.03687731549143791,\n",
              "  0.007060532923787832,\n",
              "  0.02043660171329975,\n",
              "  -0.08892546594142914,\n",
              "  -0.028767013922333717,\n",
              "  -0.021571028977632523,\n",
              "  0.01342686451971531,\n",
              "  -0.0004558340006042272,\n",
              "  -0.029071785509586334,\n",
              "  0.07747960835695267,\n",
              "  0.021063076332211494,\n",
              "  0.002654049079865217,\n",
              "  -0.011708293110132217,\n",
              "  -0.0011386590776965022,\n",
              "  0.0010751651134341955,\n",
              "  -0.057974252849817276,\n",
              "  0.013266013003885746,\n",
              "  0.0027090772055089474,\n",
              "  0.008249986916780472,\n",
              "  -0.011158011853694916,\n",
              "  0.009117738343775272,\n",
              "  0.017829114571213722,\n",
              "  0.015949692577123642,\n",
              "  -0.01835399866104126,\n",
              "  0.019115926697850227,\n",
              "  -0.0013555969344452024,\n",
              "  -0.02802201919257641,\n",
              "  0.04751044511795044,\n",
              "  0.011174944229424,\n",
              "  -0.006370564457029104,\n",
              "  0.06322309374809265,\n",
              "  -0.01718570850789547,\n",
              "  -0.06894601881504059,\n",
              "  -0.03416823595762253,\n",
              "  0.02732781693339348,\n",
              "  0.03579368442296982,\n",
              "  -0.026041004806756973,\n",
              "  -0.026278050616383553,\n",
              "  -0.015898898243904114,\n",
              "  -0.006789625156670809,\n",
              "  0.0009106097859330475,\n",
              "  0.06318923085927963,\n",
              "  0.09766224026679993,\n",
              "  -0.040128208696842194,\n",
              "  -0.0644083097577095,\n",
              "  -0.03340630978345871,\n",
              "  -0.029782919213175774,\n",
              "  0.014197258278727531,\n",
              "  -0.058685388416051865,\n",
              "  0.021943526342511177,\n",
              "  0.05384290963411331,\n",
              "  0.08601320534944534,\n",
              "  -0.028580766171216965,\n",
              "  0.06688034534454346,\n",
              "  0.09393725544214249,\n",
              "  -0.10612810403108597,\n",
              "  0.0019482075003907084,\n",
              "  -0.0019810127560049295,\n",
              "  -0.043887052685022354,\n",
              "  0.014510495588183403,\n",
              "  -0.028767013922333717,\n",
              "  0.016940198838710785,\n",
              "  0.03647095337510109,\n",
              "  0.03132370486855507,\n",
              "  0.003424443071708083,\n",
              "  0.05008406564593315,\n",
              "  0.01047227717936039,\n",
              "  0.03061257302761078,\n",
              "  0.013951747678220272,\n",
              "  0.07030055671930313,\n",
              "  -0.012664936482906342,\n",
              "  0.011361192911863327,\n",
              "  0.016880938783288002,\n",
              "  -0.07002964615821838,\n",
              "  0.11066580563783646,\n",
              "  0.07524462044239044,\n",
              "  -0.002364093204960227,\n",
              "  0.04348069056868553,\n",
              "  -0.04073774814605713,\n",
              "  -0.02541453205049038,\n",
              "  -0.07185827195644379,\n",
              "  -0.00699703861027956,\n",
              "  0.018692633137106895,\n",
              "  -0.042024560272693634,\n",
              "  -0.07165509462356567,\n",
              "  0.04185524582862854,\n",
              "  0.08784183114767075,\n",
              "  0.007822460494935513,\n",
              "  -0.08235595375299454,\n",
              "  0.04019593447446823,\n",
              "  0.04320978373289108,\n",
              "  -0.057534027844667435,\n",
              "  0.028360653668642044,\n",
              "  0.03337244689464569,\n",
              "  -0.005782186985015869,\n",
              "  0.0031323705334216356,\n",
              "  0.068234883248806,\n",
              "  0.007179054897278547,\n",
              "  -0.07091009616851807,\n",
              "  -0.04205842688679695,\n",
              "  0.08269458264112473,\n",
              "  0.057263121008872986,\n",
              "  -0.014764470979571342,\n",
              "  0.02184193581342697,\n",
              "  0.014874527230858803,\n",
              "  0.014552824199199677,\n",
              "  -0.02494044229388237,\n",
              "  -0.015881964936852455,\n",
              "  -0.025296010076999664,\n",
              "  0.037249814718961716,\n",
              "  0.01375703327357769,\n",
              "  -0.012749594636261463,\n",
              "  -0.03999275341629982,\n",
              "  0.027920428663492203,\n",
              "  0.02094455435872078,\n",
              "  -0.012842719443142414,\n",
              "  -0.025956347584724426,\n",
              "  -0.020165694877505302,\n",
              "  -0.03012155368924141,\n",
              "  -0.05394450202584267,\n",
              "  -0.04192297160625458,\n",
              "  -0.0032932220492511988,\n",
              "  -0.039620254188776016,\n",
              "  -0.006865817587822676,\n",
              "  -0.04957611486315727,\n",
              "  -0.018404794856905937,\n",
              "  -0.053030189126729965,\n",
              "  -0.03833344206213951,\n",
              "  0.04449659585952759,\n",
              "  -0.027226226404309273,\n",
              "  0.012783458456397057,\n",
              "  0.12360165268182755,\n",
              "  -0.07212918251752853,\n",
              "  -0.010548469610512257,\n",
              "  0.07307735830545425,\n",
              "  -0.037249814718961716,\n",
              "  0.012267041020095348,\n",
              "  -0.011141080409288406,\n",
              "  0.03362642228603363,\n",
              "  0.01469674427062273,\n",
              "  -0.015247025527060032,\n",
              "  -0.054012227803468704,\n",
              "  0.0799177810549736,\n",
              "  0.020267285406589508,\n",
              "  0.0498131588101387,\n",
              "  0.0810014083981514,\n",
              "  0.012791924178600311,\n",
              "  0.03802867233753204,\n",
              "  0.1253625452518463,\n",
              "  -0.0414150208234787,\n",
              "  0.04659612849354744,\n",
              "  0.08289776742458344,\n",
              "  0.002452984917908907,\n",
              "  0.0479845330119133,\n",
              "  0.0002308271505171433,\n",
              "  0.09881359338760376,\n",
              "  -0.04002661630511284,\n",
              "  0.043582282960414886,\n",
              "  0.0027852701023221016,\n",
              "  -0.03249199688434601,\n",
              "  0.06180082634091377,\n",
              "  -0.026752138510346413,\n",
              "  -0.0144597003236413,\n",
              "  0.00405515031889081,\n",
              "  0.050659745931625366,\n",
              "  0.01329987682402134,\n",
              "  0.06826874613761902,\n",
              "  -0.09319225698709488,\n",
              "  -0.05621335282921791,\n",
              "  -0.0399588905274868,\n",
              "  0.09549497812986374,\n",
              "  -0.015754977241158485,\n",
              "  0.051641784608364105,\n",
              "  -0.11581305414438248,\n",
              "  0.06159764528274536,\n",
              "  0.04236319661140442,\n",
              "  0.02143557369709015,\n",
              "  0.017575139179825783,\n",
              "  -0.012690333649516106,\n",
              "  0.04304046556353569,\n",
              "  -0.02729395404458046,\n",
              "  -0.018184682354331017,\n",
              "  -0.0002187897334806621,\n",
              "  -0.032847560942173004,\n",
              "  0.00705206673592329,\n",
              "  -0.0343036912381649,\n",
              "  -0.05506199598312378,\n",
              "  -0.029918372631072998,\n",
              "  0.005121849477291107,\n",
              "  0.025042032822966576,\n",
              "  -0.03555664047598839,\n",
              "  0.030003031715750694,\n",
              "  -0.027869632467627525,\n",
              "  -0.04067002236843109,\n",
              "  -0.02187579870223999,\n",
              "  0.05157405883073807,\n",
              "  -0.0009381238487549126,\n",
              "  0.023806016892194748,\n",
              "  -0.0046519935131073,\n",
              "  -0.03144222870469093,\n",
              "  -0.05414768308401108,\n",
              "  -0.11208807677030563,\n",
              "  0.06501785665750504,\n",
              "  -0.03809639811515808,\n",
              "  -0.013587716035544872,\n",
              "  0.01815081760287285,\n",
              "  0.10172585397958755,\n",
              "  0.0441579595208168,\n",
              "  -0.026413504034280777,\n",
              "  -0.038435034453868866,\n",
              "  -0.12549801170825958,\n",
              "  0.05645039677619934,\n",
              "  0.08777410537004471,\n",
              "  -0.022502273321151733,\n",
              "  -0.008580155670642853,\n",
              "  -0.02070751041173935,\n",
              "  0.041313428431749344,\n",
              "  0.0017757155001163483,\n",
              "  -0.09156681597232819,\n",
              "  0.03167927265167236,\n",
              "  0.028580766171216965,\n",
              "  -0.02355204150080681,\n",
              "  -0.02516055479645729,\n",
              "  -0.07361917942762375,\n",
              "  -0.024889647960662842,\n",
              "  -0.06278286874294281,\n",
              "  0.030697232112288475,\n",
              "  0.0027387079317122698,\n",
              "  -0.03779162839055061,\n",
              "  0.054486315697431564,\n",
              "  0.009016147814691067,\n",
              "  0.0026011376176029444,\n",
              "  0.06027697026729584,\n",
              "  0.0041207605972886086,\n",
              "  0.05787266418337822,\n",
              "  -0.007885954342782497,\n",
              "  0.1133071556687355,\n",
              "  0.025211350992321968,\n",
              "  0.010793980211019516,\n",
              "  -0.004482676275074482,\n",
              "  -0.028817810118198395,\n",
              "  -0.02306102029979229,\n",
              "  -0.01636452041566372,\n",
              "  -0.02397533506155014,\n",
              "  0.02446635439991951,\n",
              "  -0.03369414806365967,\n",
              "  0.0664062574505806,\n",
              "  -0.04510613530874252,\n",
              "  0.05617948994040489,\n",
              "  -0.03386346623301506,\n",
              "  0.021587960422039032,\n",
              "  0.0036191579420119524,\n",
              "  0.07422871887683868,\n",
              "  -0.033270854502916336,\n",
              "  0.00564250024035573,\n",
              "  0.024297036230564117,\n",
              "  0.05208200961351395,\n",
              "  0.010641594417393208,\n",
              "  -0.010319891385734081,\n",
              "  -0.0061165885999798775,\n",
              "  -0.008152629248797894,\n",
              "  -0.005206508096307516,\n",
              "  -0.08052732050418854,\n",
              "  -0.03337244689464569,\n",
              "  -0.013765498995780945,\n",
              "  -0.00416520657017827,\n",
              "  0.0062562753446400166,\n",
              "  0.05536676570773125,\n",
              "  0.010760116390883923,\n",
              "  -0.030155416578054428,\n",
              "  -0.020809100940823555,\n",
              "  -0.020521260797977448,\n",
              "  -0.061766963452100754,\n",
              "  0.03508255258202553,\n",
              "  0.05238678306341171,\n",
              "  0.0757187083363533,\n",
              "  0.06525489687919617,\n",
              "  0.01224164292216301,\n",
              "  0.00040318688843399286,\n",
              "  -0.04916975274682045,\n",
              "  0.06044628843665123,\n",
              "  -0.03708049654960632,\n",
              "  0.005621335469186306,\n",
              "  -0.017998432740569115,\n",
              "  0.0726032704114914,\n",
              "  0.052827008068561554,\n",
              "  0.05878697708249092,\n",
              "  -0.0176090020686388,\n",
              "  -0.03931548446416855,\n",
              "  -0.023162610828876495,\n",
              "  -0.008999216370284557,\n",
              "  -0.01609361171722412,\n",
              "  -0.013892486691474915,\n",
              "  0.05661971494555473,\n",
              "  0.007962147705256939,\n",
              "  -0.027006113901734352,\n",
              "  -0.03552277758717537,\n",
              "  -0.05431700125336647,\n",
              "  0.06684648245573044,\n",
              "  0.0002497430541552603,\n",
              "  0.028157472610473633,\n",
              "  0.04730726405978203,\n",
              "  0.03487937152385712,\n",
              "  0.04534318298101425,\n",
              "  0.02961360104382038,\n",
              "  0.028089744970202446,\n",
              "  -0.006620307452976704,\n",
              "  -0.057737208902835846,\n",
              "  0.04260024055838585,\n",
              "  -0.015738045796751976,\n",
              "  0.0051049175672233105],\n",
              " [0.03585880994796753,\n",
              "  -0.05905061215162277,\n",
              "  0.011400307528674603,\n",
              "  0.04865621402859688,\n",
              "  -0.04645811766386032,\n",
              "  -0.04563848674297333,\n",
              "  -0.00804261863231659,\n",
              "  0.032915595918893814,\n",
              "  0.010673817247152328,\n",
              "  -0.05059352144598961,\n",
              "  -0.03341854736208916,\n",
              "  0.011456191539764404,\n",
              "  -0.028798816725611687,\n",
              "  -0.005257740151137114,\n",
              "  0.010264002718031406,\n",
              "  0.02682425267994404,\n",
              "  0.04630909115076065,\n",
              "  -0.049587611109018326,\n",
              "  -0.045340441167354584,\n",
              "  0.04910328611731529,\n",
              "  -0.04396197199821472,\n",
              "  -0.004650002811104059,\n",
              "  -0.06352132558822632,\n",
              "  -0.07823740690946579,\n",
              "  0.11832476407289505,\n",
              "  -0.02041623741388321,\n",
              "  0.010459596291184425,\n",
              "  -0.006543068680912256,\n",
              "  0.08091983199119568,\n",
              "  -0.030587099492549896,\n",
              "  -0.05122687295079231,\n",
              "  -0.035765670239925385,\n",
              "  -0.016821041703224182,\n",
              "  -0.09537512063980103,\n",
              "  0.031108682975172997,\n",
              "  -0.05234454944729805,\n",
              "  -0.020639773458242416,\n",
              "  -0.005732752848416567,\n",
              "  -0.016336714848876,\n",
              "  0.019820142537355423,\n",
              "  -0.02324768714606762,\n",
              "  0.04366392269730568,\n",
              "  0.035188205540180206,\n",
              "  -0.03671569749712944,\n",
              "  0.026041878387331963,\n",
              "  0.042322710156440735,\n",
              "  0.05588386207818985,\n",
              "  0.008820336312055588,\n",
              "  -0.008098502643406391,\n",
              "  0.09492804855108261,\n",
              "  0.03129496052861214,\n",
              "  0.028482140973210335,\n",
              "  -0.04984840378165245,\n",
              "  -0.06367034465074539,\n",
              "  0.004072536248713732,\n",
              "  0.01366360392421484,\n",
              "  9.452231461182237e-05,\n",
              "  0.012508670799434185,\n",
              "  -0.009113726206123829,\n",
              "  -0.01348663866519928,\n",
              "  -0.006626894697546959,\n",
              "  -0.06240364536643028,\n",
              "  0.08047275990247726,\n",
              "  -0.07235097140073776,\n",
              "  -0.04139131307601929,\n",
              "  0.025855598971247673,\n",
              "  -0.08896710723638535,\n",
              "  0.03401464223861694,\n",
              "  0.02131037972867489,\n",
              "  -0.04899151995778084,\n",
              "  0.08561407774686813,\n",
              "  0.0006950555252842605,\n",
              "  -0.029413538053631783,\n",
              "  -0.015060700476169586,\n",
              "  0.051748454570770264,\n",
              "  0.0039607686921954155,\n",
              "  0.04209917411208153,\n",
              "  -0.034685250371694565,\n",
              "  0.07957861572504044,\n",
              "  -0.02164568193256855,\n",
              "  0.015228352509438992,\n",
              "  0.0011124381562694907,\n",
              "  -0.04273252561688423,\n",
              "  0.03993833437561989,\n",
              "  0.023881036788225174,\n",
              "  -0.010636561550199986,\n",
              "  0.015852387994527817,\n",
              "  -0.05413283407688141,\n",
              "  0.006682778242975473,\n",
              "  -0.015433259308338165,\n",
              "  0.08822198957204819,\n",
              "  -0.0003923512704204768,\n",
              "  -0.0603545717895031,\n",
              "  -0.020621145144104958,\n",
              "  0.0007008767570368946,\n",
              "  -0.01625289022922516,\n",
              "  0.06117419898509979,\n",
              "  -0.06802928447723389,\n",
              "  -0.04235996678471565,\n",
              "  0.05975847691297531,\n",
              "  0.0007998377550393343,\n",
              "  -0.007949478924274445,\n",
              "  -0.043030574917793274,\n",
              "  0.03926772624254227,\n",
              "  -0.08524151891469955,\n",
              "  -0.06799203157424927,\n",
              "  0.03388424962759018,\n",
              "  -0.0029106177389621735,\n",
              "  0.022279033437371254,\n",
              "  0.0168582983314991,\n",
              "  -0.06065261736512184,\n",
              "  -0.024197712540626526,\n",
              "  0.019745631143450737,\n",
              "  0.01790146343410015,\n",
              "  0.016904868185520172,\n",
              "  -0.039826564490795135,\n",
              "  -0.018059801310300827,\n",
              "  0.056517209857702255,\n",
              "  -0.012070913799107075,\n",
              "  -0.0397520549595356,\n",
              "  0.03323226794600487,\n",
              "  0.03543036803603172,\n",
              "  -0.0507798008620739,\n",
              "  -0.0759647935628891,\n",
              "  -0.0674331933259964,\n",
              "  -0.02198098599910736,\n",
              "  -0.06448997557163239,\n",
              "  0.030084144324064255,\n",
              "  -0.06013103574514389,\n",
              "  -0.022241776809096336,\n",
              "  0.03466662019491196,\n",
              "  -0.08665724098682404,\n",
              "  0.10312435030937195,\n",
              "  -0.0776413083076477,\n",
              "  -0.07853545248508453,\n",
              "  0.010683131404221058,\n",
              "  -0.03086651861667633,\n",
              "  0.047613050788640976,\n",
              "  0.026358554139733315,\n",
              "  -0.004987634718418121,\n",
              "  0.07853545248508453,\n",
              "  -0.07779033482074738,\n",
              "  -0.08099434524774551,\n",
              "  0.012322391383349895,\n",
              "  -0.04064619541168213,\n",
              "  0.0019047082168981433,\n",
              "  -4.5660315663553774e-05,\n",
              "  0.050668034702539444,\n",
              "  0.045489463955163956,\n",
              "  0.006692092400044203,\n",
              "  -0.012396902777254581,\n",
              "  0.03410778194665909,\n",
              "  -0.01349595282226801,\n",
              "  0.03548625111579895,\n",
              "  -0.02449575997889042,\n",
              "  -0.03708825632929802,\n",
              "  0.06594295799732208,\n",
              "  -0.02484969049692154,\n",
              "  -0.06359583139419556,\n",
              "  -0.005481275264173746,\n",
              "  -0.02516636624932289,\n",
              "  -0.018301963806152344,\n",
              "  0.04999742656946182,\n",
              "  0.02874293178319931,\n",
              "  0.05215827003121376,\n",
              "  0.08986125141382217,\n",
              "  -0.038056910037994385,\n",
              "  0.03923046961426735,\n",
              "  -0.09172404557466507,\n",
              "  -0.06650179624557495,\n",
              "  0.0765981450676918,\n",
              "  -0.022316288203001022,\n",
              "  -0.016224946826696396,\n",
              "  0.061807550489902496,\n",
              "  0.02557617984712124,\n",
              "  -0.02127312310039997,\n",
              "  -0.011828750371932983,\n",
              "  0.028109582141041756,\n",
              "  0.017435764893889427,\n",
              "  -0.019559351727366447,\n",
              "  0.005001605488359928,\n",
              "  0.014036162756383419,\n",
              "  0.05711330473423004,\n",
              "  0.016280831769108772,\n",
              "  -0.14626669883728027,\n",
              "  0.0053741647861897945,\n",
              "  -0.013998907059431076,\n",
              "  0.08926515281200409,\n",
              "  -0.03231950104236603,\n",
              "  0.09619475156068802,\n",
              "  0.009313976392149925,\n",
              "  -0.020639773458242416,\n",
              "  0.03878340125083923,\n",
              "  0.03174203261733055,\n",
              "  -0.012517984956502914,\n",
              "  0.0003029953222721815,\n",
              "  -0.00639404496178031,\n",
              "  0.036641184240579605,\n",
              "  -0.04429727420210838,\n",
              "  0.026488950476050377,\n",
              "  -0.0027546086348593235,\n",
              "  0.007902909070253372,\n",
              "  0.03500192612409592,\n",
              "  -0.011092946864664555,\n",
              "  0.0024076630361378193,\n",
              "  0.00029280813760124147,\n",
              "  -0.14850205183029175,\n",
              "  0.03153712674975395,\n",
              "  -0.07644911855459213,\n",
              "  -0.0874023586511612,\n",
              "  0.04697969928383827,\n",
              "  -0.01781763695180416,\n",
              "  -0.04202466458082199,\n",
              "  0.03235675394535065,\n",
              "  0.005788636393845081,\n",
              "  -0.0149861890822649,\n",
              "  0.08002568781375885,\n",
              "  0.02252119593322277,\n",
              "  -0.01348663866519928,\n",
              "  0.0478738397359848,\n",
              "  -0.05271710827946663,\n",
              "  0.03570978716015816,\n",
              "  0.020714284852147102,\n",
              "  0.01455774623900652,\n",
              "  -0.04884249344468117,\n",
              "  -0.003595195012167096,\n",
              "  0.00430771429091692,\n",
              "  -0.07290980964899063,\n",
              "  -0.040012843906879425,\n",
              "  0.012955741956830025,\n",
              "  -0.0262281596660614,\n",
              "  0.02628404274582863,\n",
              "  0.0061379107646644115,\n",
              "  0.008671312592923641,\n",
              "  -0.015107270330190659,\n",
              "  0.06657630950212479,\n",
              "  -0.03703237324953079,\n",
              "  0.017119089141488075,\n",
              "  0.029748842120170593,\n",
              "  -0.037349049001932144,\n",
              "  0.021589798852801323,\n",
              "  0.043887458741664886,\n",
              "  -0.05636818706989288,\n",
              "  0.08181397616863251,\n",
              "  -0.08278262615203857,\n",
              "  -0.005960945039987564,\n",
              "  -0.04254624620079994,\n",
              "  -0.07965312898159027,\n",
              "  0.06020554527640343,\n",
              "  0.04235996678471565,\n",
              "  0.029208632186055183,\n",
              "  0.06564491242170334,\n",
              "  0.04634634777903557,\n",
              "  0.02447713166475296,\n",
              "  0.07484711706638336,\n",
              "  -3.1634775950806215e-05,\n",
              "  -0.0306988675147295,\n",
              "  -0.010440967977046967,\n",
              "  -0.06635276973247528,\n",
              "  0.01648573949933052,\n",
              "  0.004982977639883757,\n",
              "  -0.0004866552772000432,\n",
              "  -0.06937050074338913,\n",
              "  -0.005914375185966492,\n",
              "  0.03105279803276062,\n",
              "  -0.002673111390322447,\n",
              "  -0.003979396540671587,\n",
              "  0.028239978477358818,\n",
              "  -0.01918679289519787,\n",
              "  0.029413538053631783,\n",
              "  0.0012410874478518963,\n",
              "  -0.021515287458896637,\n",
              "  -0.016103865578770638,\n",
              "  0.06694886833429337,\n",
              "  0.030046889558434486,\n",
              "  0.04846993461251259,\n",
              "  -0.05629367753863335,\n",
              "  -0.019428955391049385,\n",
              "  0.06739593297243118,\n",
              "  0.002708038780838251,\n",
              "  -0.043216854333877563,\n",
              "  -0.09246916323900223,\n",
              "  0.01116745825856924,\n",
              "  -0.08308067172765732,\n",
              "  0.04452081024646759,\n",
              "  0.00843846332281828,\n",
              "  0.0033087902702391148,\n",
              "  0.013514580205082893,\n",
              "  -0.004535906948149204,\n",
              "  0.00420991750434041,\n",
              "  0.04314234107732773,\n",
              "  0.012015029788017273,\n",
              "  -0.028109582141041756,\n",
              "  0.032878339290618896,\n",
              "  -0.0003513115516398102,\n",
              "  -0.014604316093027592,\n",
              "  -0.0647135078907013,\n",
              "  0.028966467827558517,\n",
              "  0.03231950104236603,\n",
              "  -0.05323868989944458,\n",
              "  -0.027550743892788887,\n",
              "  0.01952209509909153,\n",
              "  0.01954072341322899,\n",
              "  -0.06728416681289673,\n",
              "  -0.028798816725611687,\n",
              "  0.056479956954717636,\n",
              "  0.010645875707268715,\n",
              "  -0.12853288650512695,\n",
              "  -0.0472404919564724,\n",
              "  -0.016187692061066628,\n",
              "  -0.015293549746274948,\n",
              "  0.020826052874326706,\n",
              "  -0.0761883333325386,\n",
              "  -7.560329686384648e-05,\n",
              "  -0.016811728477478027,\n",
              "  -0.0322636142373085,\n",
              "  -0.00670606316998601,\n",
              "  -0.02255845256149769,\n",
              "  -0.028146838769316673,\n",
              "  -0.04571299999952316,\n",
              "  0.05852903053164482,\n",
              "  -0.01285328809171915,\n",
              "  0.07935508340597153,\n",
              "  0.010245374403893948,\n",
              "  0.026544833555817604,\n",
              "  -0.04366392269730568,\n",
              "  -0.07779033482074738,\n",
              "  0.018935315310955048,\n",
              "  -0.008601457811892033,\n",
              "  0.014930305071175098,\n",
              "  -0.013989592902362347,\n",
              "  0.00934657547622919,\n",
              "  0.0011130202328786254,\n",
              "  0.008461748249828815,\n",
              "  -0.025240877643227577,\n",
              "  0.010347828269004822,\n",
              "  -0.049736637622117996,\n",
              "  -0.023527106270194054,\n",
              "  0.021608427166938782,\n",
              "  0.06899794191122055,\n",
              "  -0.06504881381988525,\n",
              "  -0.07875898480415344,\n",
              "  -0.07227645814418793,\n",
              "  0.07667265832424164,\n",
              "  -0.007222989108413458,\n",
              "  0.045340441167354584,\n",
              "  0.05398381128907204,\n",
              "  0.015125898644328117,\n",
              "  0.01656956411898136,\n",
              "  0.07518242299556732,\n",
              "  -0.028798816725611687,\n",
              "  0.07104701548814774,\n",
              "  0.008578172884881496,\n",
              "  -0.004815326072275639,\n",
              "  -0.02078879624605179,\n",
              "  0.019950538873672485,\n",
              "  0.047091465443372726,\n",
              "  -0.030605727806687355,\n",
              "  -0.040906988084316254,\n",
              "  -0.002724338322877884,\n",
              "  0.006915627978742123,\n",
              "  0.007274216040968895,\n",
              "  -0.01950346678495407,\n",
              "  0.01931718736886978,\n",
              "  0.0306988675147295,\n",
              "  0.015992097556591034,\n",
              "  0.03217047452926636,\n",
              "  0.031816545873880386,\n",
              "  0.01800391636788845,\n",
              "  -0.03597057983279228,\n",
              "  0.07756680250167847,\n",
              "  0.03923046961426735,\n",
              "  0.0004985888372175395,\n",
              "  -0.015256294049322605,\n",
              "  -0.028500769287347794,\n",
              "  0.02339670993387699,\n",
              "  0.027215439826250076,\n",
              "  0.006883028894662857,\n",
              "  -0.04429727420210838,\n",
              "  -0.02943216636776924,\n",
              "  -0.03790788725018501,\n",
              "  0.10066546499729156,\n",
              "  0.03833632916212082,\n",
              "  0.034163668751716614,\n",
              "  0.027550743892788887,\n",
              "  0.020881935954093933,\n",
              "  -0.03014002926647663,\n",
              "  0.019428955391049385,\n",
              "  -0.0005250754184089601,\n",
              "  0.0030503275338560343,\n",
              "  -0.029543934389948845,\n",
              "  -0.060056522488594055,\n",
              "  -0.021887846291065216,\n",
              "  -0.04235996678471565,\n",
              "  0.015405317768454552,\n",
              "  -0.029841981828212738,\n",
              "  -0.015042072162032127,\n",
              "  -0.0002267371310153976,\n",
              "  -0.026712486520409584,\n",
              "  0.011335110291838646,\n",
              "  0.024383991956710815,\n",
              "  -0.047277744859457016,\n",
              "  -0.030289052054286003,\n",
              "  -0.028873328119516373,\n",
              "  -0.06009377911686897,\n",
              "  -0.008028647862374783,\n",
              "  0.009057842195034027,\n",
              "  -0.01775244064629078,\n",
              "  0.034312691539525986,\n",
              "  -0.069109708070755,\n",
              "  -0.028705677017569542,\n",
              "  -0.05927414819598198,\n",
              "  -0.01179149467498064,\n",
              "  0.051748454570770264,\n",
              "  -0.09664182364940643,\n",
              "  0.11184223741292953,\n",
              "  0.017780382186174393,\n",
              "  0.034498970955610275,\n",
              "  -0.022446684539318085,\n",
              "  -0.038261815905570984,\n",
              "  -0.08181397616863251,\n",
              "  0.03543036803603172,\n",
              "  -0.06508606672286987,\n",
              "  -0.0016741873696446419,\n",
              "  -0.021589798852801323,\n",
              "  -0.0011601722799241543,\n",
              "  0.01047822367399931,\n",
              "  -0.05092882364988327,\n",
              "  -0.09507707506418228,\n",
              "  0.01573130674660206,\n",
              "  0.020155446603894234,\n",
              "  0.011549331247806549,\n",
              "  0.02358298934996128,\n",
              "  0.02786741964519024,\n",
              "  -0.06214285269379616,\n",
              "  -0.00174171372782439,\n",
              "  -0.05305241048336029,\n",
              "  0.05413283407688141,\n",
              "  -0.0023378082551062107,\n",
              "  -0.025408528745174408,\n",
              "  -0.013700859621167183,\n",
              "  -0.01534943375736475,\n",
              "  -0.01542394608259201,\n",
              "  0.040683452039957047,\n",
              "  -0.06814105808734894,\n",
              "  -0.07860996574163437,\n",
              "  0.04832091182470322,\n",
              "  0.021925101056694984,\n",
              "  0.006016829051077366,\n",
              "  0.014138616621494293,\n",
              "  -0.02982335351407528,\n",
              "  -0.016625449061393738,\n",
              "  -0.015377376228570938,\n",
              "  0.046197324991226196,\n",
              "  0.08993575721979141,\n",
              "  0.04936407878994942,\n",
              "  -0.02911549247801304,\n",
              "  0.0015507771167904139,\n",
              "  0.06273894757032394,\n",
              "  -0.059348661452531815,\n",
              "  0.10610482096672058,\n",
              "  0.002293566707521677,\n",
              "  0.0020642101299017668,\n",
              "  -0.0005460318643599749,\n",
              "  0.02216726541519165,\n",
              "  -0.00992869958281517,\n",
              "  0.05316418036818504,\n",
              "  0.009081127122044563,\n",
              "  0.032878339290618896,\n",
              "  -0.06899794191122055,\n",
              "  -0.05610739812254906,\n",
              "  -0.04690518602728844,\n",
              "  0.008000706322491169,\n",
              "  -0.0803237333893776,\n",
              "  0.049252308905124664,\n",
              "  -0.06191931664943695,\n",
              "  0.024924201890826225,\n",
              "  0.03960302844643593,\n",
              "  0.0011991745559498668,\n",
              "  -0.013961651362478733,\n",
              "  -0.004542892333120108,\n",
              "  0.014185186475515366,\n",
              "  -0.025296760722994804,\n",
              "  0.0118101229891181,\n",
              "  -1.022354445012752e-05,\n",
              "  0.11981499940156937,\n",
              "  -0.03418229520320892,\n",
              "  -0.024626154452562332,\n",
              "  -0.0047245146706700325,\n",
              "  -0.014138616621494293,\n",
              "  -0.05394655466079712,\n",
              "  0.011372365988790989,\n",
              "  0.06761947274208069,\n",
              "  -0.01887943036854267,\n",
              "  0.03712551295757294,\n",
              "  -0.009965955279767513,\n",
              "  -0.003122510854154825,\n",
              "  -0.10945785790681839,\n",
              "  0.07682167738676071,\n",
              "  -0.016513681039214134,\n",
              "  0.040199123322963715,\n",
              "  0.010031153447926044,\n",
              "  -0.02022995799779892,\n",
              "  0.04098149761557579,\n",
              "  0.003967754077166319,\n",
              "  0.08978673815727234,\n",
              "  0.03863437473773956,\n",
              "  0.00032220539287663996,\n",
              "  -0.05990749970078468,\n",
              "  0.09485354274511337,\n",
              "  -0.023359453305602074,\n",
              "  0.06575667858123779]]"
            ]
          },
          "execution_count": 11,
          "metadata": {},
          "output_type": "execute_result"
        }
      ],
      "source": [
        "#Use OpenAI's embeddings API to generate embeddings for the combined text\n",
        "response = client.embeddings.create(input=list_combined_text, model=\"text-embedding-3-small\", dimensions=512)\n",
        "\n",
        "embedding_vectors = [d.embedding for d in response.data]\n",
        "embedding_vectors[:3]"
      ]
    },
    {
      "cell_type": "markdown",
      "metadata": {
        "id": "DHuwaf1us-l1"
      },
      "source": [
        "Let't put the embedding vectors into our original dataframe\n",
        "\n",
        "Convert embedding vectors list into a Pyspark DataFrame"
      ]
    },
    {
      "cell_type": "code",
      "execution_count": 12,
      "metadata": {
        "id": "EQRJmM3RhmK1"
      },
      "outputs": [
        {
          "name": "stdout",
          "output_type": "stream",
          "text": [
            "+--------------------+--------------------+--------------------+--------------------+--------------------+--------------------+--------------------+--------------------+--------------------+--------------------+--------------------+--------------------+--------------------+--------------------+--------------------+-------------------+--------------------+--------------------+--------------------+--------------------+--------------------+--------------------+--------------------+--------------------+--------------------+--------------------+--------------------+--------------------+--------------------+--------------------+--------------------+--------------------+--------------------+--------------------+--------------------+--------------------+--------------------+--------------------+--------------------+--------------------+--------------------+--------------------+--------------------+--------------------+--------------------+--------------------+--------------------+--------------------+--------------------+--------------------+--------------------+--------------------+--------------------+--------------------+--------------------+--------------------+--------------------+--------------------+--------------------+--------------------+--------------------+--------------------+--------------------+--------------------+--------------------+--------------------+--------------------+--------------------+--------------------+--------------------+--------------------+--------------------+--------------------+--------------------+--------------------+--------------------+--------------------+--------------------+--------------------+--------------------+--------------------+--------------------+--------------------+--------------------+--------------------+--------------------+--------------------+--------------------+--------------------+--------------------+--------------------+--------------------+--------------------+--------------------+--------------------+--------------------+--------------------+--------------------+--------------------+--------------------+--------------------+--------------------+--------------------+--------------------+--------------------+--------------------+--------------------+--------------------+--------------------+--------------------+--------------------+--------------------+--------------------+--------------------+--------------------+--------------------+--------------------+--------------------+--------------------+--------------------+--------------------+--------------------+--------------------+--------------------+--------------------+--------------------+--------------------+--------------------+--------------------+--------------------+--------------------+--------------------+--------------------+--------------------+--------------------+--------------------+--------------------+--------------------+--------------------+--------------------+--------------------+--------------------+--------------------+--------------------+--------------------+--------------------+--------------------+--------------------+--------------------+--------------------+--------------------+--------------------+--------------------+--------------------+--------------------+--------------------+--------------------+--------------------+--------------------+--------------------+--------------------+--------------------+--------------------+--------------------+--------------------+--------------------+--------------------+--------------------+--------------------+--------------------+--------------------+--------------------+--------------------+--------------------+--------------------+--------------------+--------------------+--------------------+--------------------+--------------------+--------------------+--------------------+--------------------+--------------------+--------------------+--------------------+--------------------+--------------------+--------------------+--------------------+--------------------+--------------------+--------------------+--------------------+--------------------+--------------------+--------------------+--------------------+--------------------+--------------------+--------------------+--------------------+--------------------+--------------------+--------------------+--------------------+--------------------+--------------------+--------------------+--------------------+-------------------+--------------------+--------------------+--------------------+--------------------+--------------------+--------------------+--------------------+--------------------+--------------------+--------------------+--------------------+--------------------+--------------------+--------------------+--------------------+--------------------+--------------------+--------------------+--------------------+--------------------+-------------------+--------------------+--------------------+--------------------+--------------------+--------------------+--------------------+--------------------+--------------------+--------------------+--------------------+--------------------+--------------------+--------------------+--------------------+--------------------+--------------------+--------------------+--------------------+--------------------+--------------------+--------------------+--------------------+-------------------+--------------------+--------------------+--------------------+--------------------+--------------------+--------------------+--------------------+--------------------+--------------------+--------------------+--------------------+--------------------+--------------------+--------------------+--------------------+--------------------+--------------------+--------------------+--------------------+--------------------+--------------------+--------------------+--------------------+--------------------+--------------------+--------------------+--------------------+--------------------+--------------------+--------------------+--------------------+--------------------+--------------------+--------------------+--------------------+-------------------+--------------------+--------------------+--------------------+--------------------+--------------------+--------------------+--------------------+--------------------+--------------------+--------------------+-------------------+--------------------+--------------------+--------------------+--------------------+--------------------+--------------------+--------------------+--------------------+--------------------+--------------------+--------------------+--------------------+--------------------+--------------------+--------------------+--------------------+--------------------+--------------------+--------------------+--------------------+--------------------+--------------------+--------------------+--------------------+--------------------+--------------------+--------------------+--------------------+--------------------+--------------------+--------------------+--------------------+--------------------+--------------------+--------------------+--------------------+--------------------+--------------------+--------------------+--------------------+--------------------+--------------------+--------------------+--------------------+--------------------+--------------------+--------------------+--------------------+--------------------+--------------------+--------------------+--------------------+--------------------+--------------------+--------------------+--------------------+--------------------+--------------------+--------------------+--------------------+--------------------+--------------------+--------------------+--------------------+--------------------+--------------------+--------------------+--------------------+-------------------+-------------------+--------------------+--------------------+--------------------+--------------------+--------------------+--------------------+--------------------+--------------------+--------------------+--------------------+--------------------+--------------------+--------------------+--------------------+--------------------+--------------------+--------------------+--------------------+--------------------+--------------------+--------------------+--------------------+--------------------+--------------------+--------------------+--------------------+--------------------+--------------------+--------------------+--------------------+--------------------+--------------------+--------------------+--------------------+--------------------+--------------------+--------------------+--------------------+--------------------+--------------------+--------------------+--------------------+--------------------+--------------------+--------------------+--------------------+--------------------+--------------------+--------------------+--------------------+--------------------+--------------------+--------------------+--------------------+--------------------+--------------------+--------------------+--------------------+--------------------+--------------------+--------------------+--------------------+--------------------+--------------------+--------------------+--------------------+--------------------+--------------------+--------------------+--------------------+--------------------+--------------------+--------------------+--------------------+--------------------+--------------------+--------------------+--------------------+--------------------+--------------------+--------------------+--------------------+--------------------+--------------------+--------------------+--------------------+--------------------+--------------------+--------------------+--------------------+--------------------+--------------------+--------------------+--------------------+--------------------+--------------------+--------------------+--------------------+--------------------+--------------------+--------------------+--------------------+--------------------+--------------------+--------------------+--------------------+--------------------+--------------------+--------------------+--------------------+--------------------+--------------------+--------------------+--------------------+--------------------+--------------------+--------------------+--------------------+--------------------+--------------------+--------------------+--------------------+--------------------+--------------------+--------------------+--------------------+--------------------+--------------------+--------------------+--------------------+--------------------+--------------------+--------------------+--------------------+--------------------+--------------------+--------------------+--------------------+--------------------+--------------------+\n",
            "|         embedding_0|         embedding_1|         embedding_2|         embedding_3|         embedding_4|         embedding_5|         embedding_6|         embedding_7|         embedding_8|         embedding_9|        embedding_10|        embedding_11|        embedding_12|        embedding_13|        embedding_14|       embedding_15|        embedding_16|        embedding_17|        embedding_18|        embedding_19|        embedding_20|        embedding_21|        embedding_22|        embedding_23|        embedding_24|        embedding_25|        embedding_26|        embedding_27|        embedding_28|        embedding_29|        embedding_30|        embedding_31|        embedding_32|        embedding_33|        embedding_34|        embedding_35|        embedding_36|        embedding_37|        embedding_38|        embedding_39|        embedding_40|        embedding_41|        embedding_42|        embedding_43|        embedding_44|        embedding_45|        embedding_46|        embedding_47|        embedding_48|        embedding_49|        embedding_50|        embedding_51|        embedding_52|        embedding_53|        embedding_54|        embedding_55|        embedding_56|        embedding_57|        embedding_58|        embedding_59|        embedding_60|        embedding_61|        embedding_62|        embedding_63|        embedding_64|        embedding_65|        embedding_66|        embedding_67|        embedding_68|        embedding_69|        embedding_70|        embedding_71|        embedding_72|        embedding_73|        embedding_74|        embedding_75|        embedding_76|        embedding_77|        embedding_78|        embedding_79|        embedding_80|        embedding_81|        embedding_82|        embedding_83|        embedding_84|        embedding_85|        embedding_86|        embedding_87|        embedding_88|        embedding_89|        embedding_90|        embedding_91|        embedding_92|        embedding_93|        embedding_94|        embedding_95|        embedding_96|        embedding_97|        embedding_98|        embedding_99|       embedding_100|       embedding_101|       embedding_102|       embedding_103|       embedding_104|       embedding_105|       embedding_106|       embedding_107|       embedding_108|       embedding_109|       embedding_110|       embedding_111|       embedding_112|       embedding_113|       embedding_114|       embedding_115|       embedding_116|       embedding_117|       embedding_118|       embedding_119|       embedding_120|       embedding_121|       embedding_122|       embedding_123|       embedding_124|       embedding_125|       embedding_126|       embedding_127|       embedding_128|       embedding_129|       embedding_130|       embedding_131|       embedding_132|       embedding_133|       embedding_134|       embedding_135|       embedding_136|       embedding_137|       embedding_138|       embedding_139|       embedding_140|       embedding_141|       embedding_142|       embedding_143|       embedding_144|       embedding_145|       embedding_146|       embedding_147|       embedding_148|       embedding_149|       embedding_150|       embedding_151|       embedding_152|       embedding_153|       embedding_154|       embedding_155|       embedding_156|       embedding_157|       embedding_158|       embedding_159|       embedding_160|       embedding_161|       embedding_162|       embedding_163|       embedding_164|       embedding_165|       embedding_166|       embedding_167|       embedding_168|       embedding_169|       embedding_170|       embedding_171|       embedding_172|       embedding_173|       embedding_174|       embedding_175|       embedding_176|       embedding_177|       embedding_178|       embedding_179|       embedding_180|       embedding_181|       embedding_182|       embedding_183|       embedding_184|       embedding_185|       embedding_186|       embedding_187|       embedding_188|       embedding_189|       embedding_190|       embedding_191|       embedding_192|       embedding_193|       embedding_194|       embedding_195|       embedding_196|       embedding_197|       embedding_198|       embedding_199|       embedding_200|       embedding_201|       embedding_202|       embedding_203|       embedding_204|       embedding_205|       embedding_206|       embedding_207|       embedding_208|       embedding_209|      embedding_210|       embedding_211|       embedding_212|       embedding_213|       embedding_214|       embedding_215|       embedding_216|       embedding_217|       embedding_218|       embedding_219|       embedding_220|       embedding_221|       embedding_222|       embedding_223|       embedding_224|       embedding_225|       embedding_226|       embedding_227|       embedding_228|       embedding_229|       embedding_230|      embedding_231|       embedding_232|       embedding_233|       embedding_234|       embedding_235|       embedding_236|       embedding_237|       embedding_238|       embedding_239|       embedding_240|       embedding_241|       embedding_242|       embedding_243|       embedding_244|       embedding_245|       embedding_246|       embedding_247|       embedding_248|       embedding_249|       embedding_250|       embedding_251|       embedding_252|       embedding_253|      embedding_254|       embedding_255|       embedding_256|       embedding_257|       embedding_258|       embedding_259|       embedding_260|       embedding_261|       embedding_262|       embedding_263|       embedding_264|       embedding_265|       embedding_266|       embedding_267|       embedding_268|       embedding_269|       embedding_270|       embedding_271|       embedding_272|       embedding_273|       embedding_274|       embedding_275|       embedding_276|       embedding_277|       embedding_278|       embedding_279|       embedding_280|       embedding_281|       embedding_282|       embedding_283|       embedding_284|       embedding_285|       embedding_286|       embedding_287|       embedding_288|       embedding_289|      embedding_290|       embedding_291|       embedding_292|       embedding_293|       embedding_294|       embedding_295|       embedding_296|       embedding_297|       embedding_298|       embedding_299|       embedding_300|      embedding_301|       embedding_302|       embedding_303|       embedding_304|       embedding_305|       embedding_306|       embedding_307|       embedding_308|       embedding_309|       embedding_310|       embedding_311|       embedding_312|       embedding_313|       embedding_314|       embedding_315|       embedding_316|       embedding_317|       embedding_318|       embedding_319|       embedding_320|       embedding_321|       embedding_322|       embedding_323|       embedding_324|       embedding_325|       embedding_326|       embedding_327|       embedding_328|       embedding_329|       embedding_330|       embedding_331|       embedding_332|       embedding_333|       embedding_334|       embedding_335|       embedding_336|       embedding_337|       embedding_338|       embedding_339|       embedding_340|       embedding_341|       embedding_342|       embedding_343|       embedding_344|       embedding_345|       embedding_346|       embedding_347|       embedding_348|       embedding_349|       embedding_350|       embedding_351|       embedding_352|       embedding_353|       embedding_354|       embedding_355|       embedding_356|       embedding_357|       embedding_358|       embedding_359|       embedding_360|       embedding_361|       embedding_362|       embedding_363|       embedding_364|       embedding_365|       embedding_366|       embedding_367|       embedding_368|       embedding_369|      embedding_370|      embedding_371|       embedding_372|       embedding_373|       embedding_374|       embedding_375|       embedding_376|       embedding_377|       embedding_378|       embedding_379|       embedding_380|       embedding_381|       embedding_382|       embedding_383|       embedding_384|       embedding_385|       embedding_386|       embedding_387|       embedding_388|       embedding_389|       embedding_390|       embedding_391|       embedding_392|       embedding_393|       embedding_394|       embedding_395|       embedding_396|       embedding_397|       embedding_398|       embedding_399|       embedding_400|       embedding_401|       embedding_402|       embedding_403|       embedding_404|       embedding_405|       embedding_406|       embedding_407|       embedding_408|       embedding_409|       embedding_410|       embedding_411|       embedding_412|       embedding_413|       embedding_414|       embedding_415|       embedding_416|       embedding_417|       embedding_418|       embedding_419|       embedding_420|       embedding_421|       embedding_422|       embedding_423|       embedding_424|       embedding_425|       embedding_426|       embedding_427|       embedding_428|       embedding_429|       embedding_430|       embedding_431|       embedding_432|       embedding_433|       embedding_434|       embedding_435|       embedding_436|       embedding_437|       embedding_438|       embedding_439|       embedding_440|       embedding_441|       embedding_442|       embedding_443|       embedding_444|       embedding_445|       embedding_446|       embedding_447|       embedding_448|       embedding_449|       embedding_450|       embedding_451|       embedding_452|       embedding_453|       embedding_454|       embedding_455|       embedding_456|       embedding_457|       embedding_458|       embedding_459|       embedding_460|       embedding_461|       embedding_462|       embedding_463|       embedding_464|       embedding_465|       embedding_466|       embedding_467|       embedding_468|       embedding_469|       embedding_470|       embedding_471|       embedding_472|       embedding_473|       embedding_474|       embedding_475|       embedding_476|       embedding_477|       embedding_478|       embedding_479|       embedding_480|       embedding_481|       embedding_482|       embedding_483|       embedding_484|       embedding_485|       embedding_486|       embedding_487|       embedding_488|       embedding_489|       embedding_490|       embedding_491|       embedding_492|       embedding_493|       embedding_494|       embedding_495|       embedding_496|       embedding_497|       embedding_498|       embedding_499|       embedding_500|       embedding_501|       embedding_502|       embedding_503|       embedding_504|       embedding_505|       embedding_506|       embedding_507|       embedding_508|       embedding_509|       embedding_510|       embedding_511|\n",
            "+--------------------+--------------------+--------------------+--------------------+--------------------+--------------------+--------------------+--------------------+--------------------+--------------------+--------------------+--------------------+--------------------+--------------------+--------------------+-------------------+--------------------+--------------------+--------------------+--------------------+--------------------+--------------------+--------------------+--------------------+--------------------+--------------------+--------------------+--------------------+--------------------+--------------------+--------------------+--------------------+--------------------+--------------------+--------------------+--------------------+--------------------+--------------------+--------------------+--------------------+--------------------+--------------------+--------------------+--------------------+--------------------+--------------------+--------------------+--------------------+--------------------+--------------------+--------------------+--------------------+--------------------+--------------------+--------------------+--------------------+--------------------+--------------------+--------------------+--------------------+--------------------+--------------------+--------------------+--------------------+--------------------+--------------------+--------------------+--------------------+--------------------+--------------------+--------------------+--------------------+--------------------+--------------------+--------------------+--------------------+--------------------+--------------------+--------------------+--------------------+--------------------+--------------------+--------------------+--------------------+--------------------+--------------------+--------------------+--------------------+--------------------+--------------------+--------------------+--------------------+--------------------+--------------------+--------------------+--------------------+--------------------+--------------------+--------------------+--------------------+--------------------+--------------------+--------------------+--------------------+--------------------+--------------------+--------------------+--------------------+--------------------+--------------------+--------------------+--------------------+--------------------+--------------------+--------------------+--------------------+--------------------+--------------------+--------------------+--------------------+--------------------+--------------------+--------------------+--------------------+--------------------+--------------------+--------------------+--------------------+--------------------+--------------------+--------------------+--------------------+--------------------+--------------------+--------------------+--------------------+--------------------+--------------------+--------------------+--------------------+--------------------+--------------------+--------------------+--------------------+--------------------+--------------------+--------------------+--------------------+--------------------+--------------------+--------------------+--------------------+--------------------+--------------------+--------------------+--------------------+--------------------+--------------------+--------------------+--------------------+--------------------+--------------------+--------------------+--------------------+--------------------+--------------------+--------------------+--------------------+--------------------+--------------------+--------------------+--------------------+--------------------+--------------------+--------------------+--------------------+--------------------+--------------------+--------------------+--------------------+--------------------+--------------------+--------------------+--------------------+--------------------+--------------------+--------------------+--------------------+--------------------+--------------------+--------------------+--------------------+--------------------+--------------------+--------------------+--------------------+--------------------+--------------------+--------------------+--------------------+--------------------+--------------------+--------------------+--------------------+--------------------+--------------------+--------------------+--------------------+--------------------+--------------------+-------------------+--------------------+--------------------+--------------------+--------------------+--------------------+--------------------+--------------------+--------------------+--------------------+--------------------+--------------------+--------------------+--------------------+--------------------+--------------------+--------------------+--------------------+--------------------+--------------------+--------------------+-------------------+--------------------+--------------------+--------------------+--------------------+--------------------+--------------------+--------------------+--------------------+--------------------+--------------------+--------------------+--------------------+--------------------+--------------------+--------------------+--------------------+--------------------+--------------------+--------------------+--------------------+--------------------+--------------------+-------------------+--------------------+--------------------+--------------------+--------------------+--------------------+--------------------+--------------------+--------------------+--------------------+--------------------+--------------------+--------------------+--------------------+--------------------+--------------------+--------------------+--------------------+--------------------+--------------------+--------------------+--------------------+--------------------+--------------------+--------------------+--------------------+--------------------+--------------------+--------------------+--------------------+--------------------+--------------------+--------------------+--------------------+--------------------+--------------------+-------------------+--------------------+--------------------+--------------------+--------------------+--------------------+--------------------+--------------------+--------------------+--------------------+--------------------+-------------------+--------------------+--------------------+--------------------+--------------------+--------------------+--------------------+--------------------+--------------------+--------------------+--------------------+--------------------+--------------------+--------------------+--------------------+--------------------+--------------------+--------------------+--------------------+--------------------+--------------------+--------------------+--------------------+--------------------+--------------------+--------------------+--------------------+--------------------+--------------------+--------------------+--------------------+--------------------+--------------------+--------------------+--------------------+--------------------+--------------------+--------------------+--------------------+--------------------+--------------------+--------------------+--------------------+--------------------+--------------------+--------------------+--------------------+--------------------+--------------------+--------------------+--------------------+--------------------+--------------------+--------------------+--------------------+--------------------+--------------------+--------------------+--------------------+--------------------+--------------------+--------------------+--------------------+--------------------+--------------------+--------------------+--------------------+--------------------+--------------------+-------------------+-------------------+--------------------+--------------------+--------------------+--------------------+--------------------+--------------------+--------------------+--------------------+--------------------+--------------------+--------------------+--------------------+--------------------+--------------------+--------------------+--------------------+--------------------+--------------------+--------------------+--------------------+--------------------+--------------------+--------------------+--------------------+--------------------+--------------------+--------------------+--------------------+--------------------+--------------------+--------------------+--------------------+--------------------+--------------------+--------------------+--------------------+--------------------+--------------------+--------------------+--------------------+--------------------+--------------------+--------------------+--------------------+--------------------+--------------------+--------------------+--------------------+--------------------+--------------------+--------------------+--------------------+--------------------+--------------------+--------------------+--------------------+--------------------+--------------------+--------------------+--------------------+--------------------+--------------------+--------------------+--------------------+--------------------+--------------------+--------------------+--------------------+--------------------+--------------------+--------------------+--------------------+--------------------+--------------------+--------------------+--------------------+--------------------+--------------------+--------------------+--------------------+--------------------+--------------------+--------------------+--------------------+--------------------+--------------------+--------------------+--------------------+--------------------+--------------------+--------------------+--------------------+--------------------+--------------------+--------------------+--------------------+--------------------+--------------------+--------------------+--------------------+--------------------+--------------------+--------------------+--------------------+--------------------+--------------------+--------------------+--------------------+--------------------+--------------------+--------------------+--------------------+--------------------+--------------------+--------------------+--------------------+--------------------+--------------------+--------------------+--------------------+--------------------+--------------------+--------------------+--------------------+--------------------+--------------------+--------------------+--------------------+--------------------+--------------------+--------------------+--------------------+--------------------+--------------------+--------------------+--------------------+--------------------+--------------------+--------------------+--------------------+\n",
            "|0.037482116371393204|0.030425189062952995|-0.01366721652448...|-0.00152527913451...|0.007516968995332718|-0.03558835759758949|0.021474501118063927|  0.0818961039185524|  0.0491662472486496|-0.05770602449774742| 0.04201998934149742| 0.04255595803260803| -0.0586707666516304|0.031104082241654396|0.022832291200757027|0.06453070044517517| 0.10433535277843475|-0.03748211637139...|-0.08775603026151657| 0.06442350149154663|-0.05638396739959717| 0.05842065066099167|-0.02669126912951...|-0.07710810750722885|0.026262493804097176| 0.03805381804704666|-0.04809430986642...|0.032551199197769165|0.055633608251810074|-0.01589148864150...|0.003608859609812498|-0.02358264662325...|0.018508804962038994|-0.02608383819460869|0.044163867831230164|-0.07074794173240662|-0.02156382985413...| 0.10948065668344498|-0.03380179405212402| 0.02860289253294468| 0.03126487508416176|-0.05749163776636124|0.013953066430985928| -0.0593496635556221| 0.02681632898747921| 0.03698188066482544|0.014006663113832474| 0.02545854076743126|-0.02981775626540184|0.021867545321583748|-0.03439136222004...|-0.01866959594190...|-0.05449020862579346| 0.04473556578159332|-0.02956763841211...|-0.02876368351280...|-0.04212718456983566|-0.04227010905742645|0.023457588627934456|-0.02020604163408...|-0.02163529209792614|-0.02086707018315792|-0.02553000301122...|-0.01444437168538...|-0.03124700859189...|-0.03439136222004...|0.019491415470838547|-0.01988445967435...|0.006007322110235691|-0.05298949405550957| 0.06142207607626915|0.051238659769296646| 0.03035372495651245|-0.02683419361710...|-0.07482130825519562|-0.00211037904955...|0.006775544956326485|-0.08253926783800125|0.008392385207116604|0.031247008591890335|-0.02029536850750...| 0.07253450900316238|-0.02306454442441...|-0.03590993955731392|-0.05002379789948...|-0.00136002199724...|-0.02611956931650...|0.007079260423779488|-0.00818693079054...|-0.01441757287830...|0.023403991013765335|0.012514881789684296|0.024243677034974098| -0.0248868390917778|-0.05531202629208565|0.005600878968834877|-0.02803119271993637|-0.03973318636417389|-0.03376606479287...|0.009089145809412003|-0.03297997638583183|-0.00762862898409...|5.496476660482585E-4| 0.01145187672227621|-0.06499520689249039|-0.00788768101483...|-0.11076697707176208|-0.00524356588721...| 0.00961171556264162|-0.02720937319099903|-0.10061929374933243| 0.07560739666223526|0.032301079481840134| 0.06949734687805176| -0.0355168953537941| -0.0334087498486042| 0.03548116609454155|0.017928171902894974|-0.00991543103009...| 0.06295852363109589| 0.02333252876996994| 0.05681274086236954|-0.02286802232265...|-0.02326106652617...|-0.00452894018962...|-0.01322057470679...|-0.03467721119523...|-0.04359216615557...| 0.00509617431089282|0.007052462082356...| 0.05223913863301277|0.028138386085629463| 0.08346828073263168|-0.03026439808309...|-0.01184492092579...| 0.01785670965909958| 0.04273461550474167|0.010987370274960995|-0.03539183735847473|-0.13056211173534393|-0.04652213305234909|-0.04284181073307991|-0.02192114293575287|8.318689651787281E-5|0.025351345539093018|0.014533699490129948|-0.01934849098324...|-0.00904001481831...|-0.03816100955009...| 0.07660787552595139|-0.05334680527448654|-0.06585275381803513| 0.07432106882333755| 0.01815149188041687| -0.0981895700097084|-0.01627559959888...| 0.07024770230054855|0.047129563987255096|-0.04923770949244499|-0.03373033180832863|-0.06260120868682861|0.006092183757573366|-0.00470313010737...|7.665476878173649E-4| 0.12262976914644241|0.008218195289373398| 0.06320863962173462|-0.07875175029039383|-0.09368743002414703|-0.03655310347676277|0.004022002685815096|-0.04627201333642006|0.006360168568789959| 0.02395782619714737|0.027120044454932213|0.025887316092848778|-0.07675080001354218| 0.01449796836823225|-0.03087182901799...|-0.10998088866472244|0.001098737004213035|-0.04437825456261635|  0.0676393210887909|-0.03733919188380...|-0.05316815152764...|-0.03598140180110...| 0.02904953435063362|0.012586344964802265|0.010353139601647854|0.010835511609911919|0.011434011161327362| 0.03601713478565216|-0.03676749020814...|-0.00527929700911...|-0.03657096996903...|-0.09061453491449356|0.027262968942523003| 0.07489277422428131|0.009701043367385864|  0.0873987227678299|-0.04294900223612785| 0.08375412970781326| 0.01970580220222473| 0.01659718155860901|-0.04652213305234909|-0.00164810544811...|-0.01669544167816639|-0.02368984185159...|-0.06942588835954666|-0.03633871674537659|0.05591946095228195|-0.00715965591371...| -0.0402691587805748|0.001540911616757512|-0.00367808900773...|-0.00298132910393...|0.011657331138849258|-0.01817829161882...| 0.01751726120710373| 0.05681274086236954|-0.07010477781295776|0.025726525112986565|-0.05609811469912529|0.016418524086475372|-0.05449020862579346| 0.06045733392238617| 0.06903284043073654| 0.04041208326816559|0.007557166740298271| -0.0628155991435051| 0.03349807858467102|0.01389053650200367|-0.07221292704343796|0.005623210687190294|  -0.057991873472929|  0.0600285567343235|2.266703377244994E-4|-0.03694614768028259|-0.03916148841381073|-0.00941519346088171|-0.07106952369213104|-3.55637923348695...|0.011684129945933819| 0.07042635977268219|0.014194252900779247|1.570222375448793...|-0.02937111631035...|-0.03783943131566048|  0.0470581017434597|-0.02360051311552...| 0.03930441290140152|-0.03296210989356041| -0.0505240373313427| 0.04180560261011124|0.03196163475513458|0.051238659769296646|0.006132381502538...|0.003617792390286...|-0.02109932340681553|-0.03258693218231201|-0.06038587167859...|-0.00303939240984...|-0.01698129251599312|-0.00131200812757...|-0.02669126912951...|0.050452571362257004| 0.03894709795713425|-0.05470459535717964|0.023100275546312332| 0.04287753999233246|-0.00376295088790...| 0.06860406696796417| 0.03244400769472122| 0.09911858290433884|-0.03919721767306328| 0.05202474817633629|-0.00727131636813283| 0.06563837081193924| 0.02075987681746483|  0.0737493708729744|-0.06599567830562592|-0.04001903906464577|0.009879699908196926|0.025351345539093018|0.015462713316082954|0.029371116310358047| 0.03844686225056648| 0.06453070044517517|0.003653523745015...|-0.00453117350116...|0.02197474054992199|-0.01999165304005146|-0.02027750387787819|-0.01548057887703...|-0.04941636696457863|-0.02681632898747921|-0.09776079654693604| 0.04016196355223656|-0.01950928196310997|-0.05613384768366814| 0.01761552318930626|0.06142207607626915|-0.06470935791730881| 0.05102427303791046| 0.04652213305234909| 0.08625531941652298| 0.03131847083568573|-0.03453428670763...|-0.03666029870510101|-0.01402452867478...|0.002072414383292198| 0.03639231249690056|-0.04988087341189...|-0.00454457290470...|-0.02626249380409...|-0.04634347558021...|0.020920665934681892| 0.05223913863301277|-0.04380655288696289|-0.04709383100271225| 0.06628153473138809| 0.03414124250411987|-0.02379703521728...| -0.0859694704413414|0.014274648390710354|-0.03555262833833...| -0.0805383175611496|-0.05102427303791046|-0.04184133186936...|-0.03589207306504...|-0.02233205176889...| 0.00803507212549448|-0.00240739528089...|-0.05159597471356392|0.014783819206058979|-0.00857550837099...| 0.02604810521006584|-0.04898758977651596| 0.02608383819460869|0.010737250559031963|-0.02268936485052...|-0.03719626739621...|-0.02544067427515...|-0.01571283303201...|0.046486400067806244|-0.06006428971886635|0.021760351955890656| 0.01940208673477173|0.002789273392409...|-0.00175083288922...| 0.00900428369641304|0.050559766590595245|-0.02015244401991...|-0.01720461249351...|0.018419476225972176|-0.01834801398217678|0.062029510736465454|-0.05263218283653259|0.058063335716724396| 0.01766912080347538|0.017445798963308334| 0.11476888507604599|-0.02126011438667...|-0.02785253524780...|0.007181988097727299| 0.05334680527448654|-0.03934014216065407|0.022546440362930298|-0.00382324727252...|-0.03783943131566048|0.02812051959335804| 0.0689971074461937| 0.03058597818017006|-0.01716888137161...|-0.05341827124357...|0.033515945076942444| 0.02134944126009941| 0.06989039480686188|-0.02956763841211...|-0.02885301224887371|0.044842761009931564|0.048773203045129776|0.027798939496278763| 0.09733201563358307| 0.08825626969337463|2.745446690823883E-4|-0.02308240905404091|0.009915431030094624| 0.06388753652572632|-0.03201523050665...| 0.04816577211022377|-0.07271316647529602|-0.00189264141954...|-0.04573604464530945|-0.01475702039897...|-0.01218436751514...|0.046879444271326065| 0.03616005927324295|0.020402563735842705| 0.07532154768705368|-0.00816013198345...| 0.06099330261349678| -0.0647808164358139|  0.0478084571659565|0.026637671515345573|-8.88257403858006E-4|-0.02463672123849392| 0.07682225853204727|-0.06470935791730881|-0.04537872970104...|-0.03042518906295...|0.028835145756602287|0.003340875031426549| 0.03987611457705498|0.026691269129514694| 0.12184368073940277| 0.04084085673093796|0.003532930742949...|-0.05109573528170...|  0.0716412216424942|-0.05088134855031967|-0.03524891287088394|-0.00914274249225...| -0.0368032231926918|-0.01925916224718094| 0.04952355846762657| 0.04384228587150574| -0.1023343950510025|-0.09082892537117004|0.007597364485263...|-0.00738744297996...|-0.02749522216618061| 0.09811810404062271|  0.0348380021750927|-0.08068124204874039|-0.00250342302024...|-0.06538824737071991|-0.00541775580495...|-0.00313542014919...| 0.04873747006058693|-0.00896855257451...| 0.05649115890264511|0.009665312245488167|-0.02456525713205...|0.007012264337390661|-0.01150547340512...|  0.0545974001288414|0.010933772660791874|-0.06260120868682861|-0.06077891588211...|0.014435438439249992|0.023546915501356125|-0.08718433231115341| 0.03267626091837883|-0.02368984185159...| 0.06503093987703323|-0.00334534142166...|0.042770348489284515|-0.00965637993067503|0.010692587122321129| 0.04427105933427811|-0.06671030819416046|0.062315359711647034|-0.02987135387957096|-0.06974746286869049|0.009602782316505909|0.025083361193537712|0.001069147023372...| 0.09197232872247696|-0.04041208326816559|-0.02302881330251...|-0.04520007595419884|0.012845396995544434|0.027030715718865395| 0.04269888252019882|0.023922095075249672|-0.00400190381333...|-0.01368508208543...|-0.05984989926218...|-0.06277986615896225|0.001922789728268981|-0.00893282145261...|-0.03594567254185...|-0.03162218630313873|-0.01263994164764...|0.008664836175739765|-0.02812051959335804| 0.08418290317058563|-0.04427105933427811|-0.04087658971548...| 0.02347545325756073|-0.01900904253125...|-0.00296569662168622|-0.01781204529106617|-3.17115132929757...|-0.03022866696119...|-0.03585634380578995|-0.04602189362049103| 0.11019527912139893|-0.03113981336355...| 0.03653523698449135|0.030746769160032272| 0.03297997638583183|-0.08961406350135803| 0.02274296246469021| 0.05359692499041557|  0.0613863468170166| 0.02304667793214321| 0.00336990668438375|0.022832291200757027|0.015266191214323044| 0.04423533007502556|\n",
            "|0.035387322306632996|0.013333739712834358|0.022400682792067528|-0.01416339445859...| -0.0888577327132225|-0.03647095337510109|0.004423415288329...| 0.01598355546593666|0.040128208696842194| 0.07287418097257614|-0.01098022889345...|0.035150278359651566|-0.00739916739985...|-0.00753038842231...|0.047882940620183945| -0.081746406853199|-0.01661849580705166| -0.0339311920106411|-0.07957914471626282|  0.1306452602148056|0.003885832848027...| 0.07375463098287582|-0.02588861994445324|-0.03081575408577919|-0.02456794492900...| 0.04022979736328125|0.020335011184215546|  0.0696910172700882| 0.04473363980650902|-0.03548891097307205|-0.02614259533584118|-0.06390035897493362|-0.03647095337510109|-0.04229547083377838|-0.02478805743157...|-0.01420572400093...|-0.01667775772511959|-0.00464776065200...|0.042261604219675064|-0.04253251478075981|0.028513038530945778|0.013782430440187454|-0.02643043547868...|-0.00147729367017...|0.008084902539849281|0.005071054212749004|0.006074259057641029|0.041279565542936325| 0.04266796633601189|-0.00334825017489...|-0.00898228399455...| 0.05221746489405632|-0.07300963252782822| 0.04327750951051712|-0.08066277951002121| 0.10843081772327423|-0.01811695471405983|-0.01945456117391...|7.820344180800021E-4|-0.02050432935357...|-0.08276230841875076|-0.04886498302221298| 0.03381267189979553|-0.06346013396978378|0.021096939221024513|0.005435086321085...|-0.01214005239307...|-0.01171675976365...|-0.08973818272352219|0.006683801766484976|  0.0348455086350441| -0.0414150208234787|-0.04144888371229172|-0.01483219861984253|0.004139808937907219|-0.01735502667725...|-0.05607790127396...| 0.03335551545023918| 0.03806253522634506|0.025262145325541496|-0.02448328584432602|0.012021530419588089|-0.08106914162635803|0.002211707644164...|0.006590676959604025|-0.00137993623502...|-0.07131645828485489| -0.0658644437789917|-0.03972184658050537|0.029342694208025932| 0.05435086414217949|-0.04957611486315727|  0.0925149917602539|-0.03819799050688...|-0.04178751632571...|-0.07002964615821838|-0.04937293380498886|-0.01663542725145...|0.039654120802879333|0.041042521595954895| 0.04822157695889473|0.014722142368555069|-0.01749048009514...|-0.02692145481705...|0.008821433410048485|-0.05116769671440...|-0.02109693922102...|-0.04632522165775299|-0.02627805061638...| 0.06820102035999298|-0.03680958971381...|-0.03924775868654251|0.005883777048438...|-0.06159764528274536|-0.01347765978425...|-0.01665235869586...| 0.08567456901073456| 0.02048739790916443|0.048560209572315216|0.006552580744028091|-0.04872952774167061| 0.03498096019029617|0.020859895274043083|-0.13050979375839233| 0.01000665407627821|-0.02031807973980...|-0.05594244599342346|0.010032052174210548| 0.03381267189979553| 0.04497068375349045| 0.05787266418337822|0.005350427702069...|0.018878882750868797|-0.00259267166256...|-0.04310819134116173|0.005426620598882437|-0.01835399866104126|-0.02705691009759903|0.020114898681640625|-0.02786963246762...|0.036098454147577286|-0.03938321024179...| 0.02441556006669998|-0.04202456027269...|-0.01908206380903721|0.040331389755010605|-0.07077464461326599|8.741007186472416E-4|-0.05800811946392059|-0.00605732761323452|-0.12001212686300278|-0.04405637085437775|-0.06369718164205551|-0.03211949765682...|0.011699827387928963|-0.05733084678649902|-0.00443611387163...| 0.03462539613246918|-0.02074137330055...|-0.03345710411667824|-0.04300660267472267|0.001135484315454...|-0.09000909328460693|  0.0375884473323822|-0.01776138879358...|0.013113627210259438| 0.04683317244052887|-0.01328294444829...|-0.10043904185295105| 0.00288474396802485|-0.01947149261832...|-0.04876339063048363|-0.06935238093137741| 0.04588499665260315| 0.06325695663690567|0.001463536638766...|0.010624662972986698|-0.06122514605522156| 0.03379574045538902|0.030392460525035858|-0.03718208521604538|-0.02979985065758...| 0.05621335282921791|-0.02979985065758...|-0.02893633209168911|-0.02841144800186...| 0.02871621958911419| 0.06305377185344696|-0.02021648921072483|-0.02570237033069...|0.042464785277843475| 0.07341599464416504|-0.03572595864534378|-0.01188607700169...|-0.02096148580312729|-0.00653988216072...|0.012478687800467014|-0.03061257302761078|0.005435086321085...|-0.01491685677319...| 0.06776079535484314|-0.03687731549143791|0.007060532923787832| 0.02043660171329975|-0.08892546594142914|-0.02876701392233...|-0.02157102897763...| 0.01342686451971531|-4.55834000604227...|-0.02907178550958...|0.07747960835695267|0.021063076332211494|0.002654049079865217|-0.01170829311013...|-0.00113865907769...|0.001075165113434...|-0.05797425284981...|0.013266013003885746|0.002709077205508...|0.008249986916780472|-0.01115801185369...|0.009117738343775272|0.017829114571213722|0.015949692577123642|-0.01835399866104126|0.019115926697850227|-0.00135559693444...|-0.02802201919257641| 0.04751044511795044|   0.011174944229424|-0.00637056445702...|0.06322309374809265|-0.01718570850789547|-0.06894601881504059|-0.03416823595762253| 0.02732781693339348| 0.03579368442296982|-0.02604100480675...|-0.02627805061638...|-0.01589889824390...|-0.00678962515667...|9.106097859330475E-4| 0.06318923085927963| 0.09766224026679993|-0.04012820869684...| -0.0644083097577095|-0.03340630978345871|-0.02978291921317...|0.014197258278727531|-0.05868538841605...|0.021943526342511177| 0.05384290963411331| 0.08601320534944534|-0.02858076617121...|0.06688034534454346| 0.09393725544214249|-0.10612810403108597|0.001948207500390...|-0.00198101275600...|-0.04388705268502...|0.014510495588183403|-0.02876701392233...|0.016940198838710785| 0.03647095337510109| 0.03132370486855507|0.003424443071708083| 0.05008406564593315| 0.01047227717936039| 0.03061257302761078|0.013951747678220272| 0.07030055671930313|-0.01266493648290...|0.011361192911863327|0.016880938783288002|-0.07002964615821838| 0.11066580563783646| 0.07524462044239044|-0.00236409320496...| 0.04348069056868553|-0.04073774814605713|-0.02541453205049038|-0.07185827195644379|-0.00699703861027956|0.018692633137106895|-0.04202456027269...|-0.07165509462356567| 0.04185524582862854| 0.08784183114767075|0.007822460494935513|-0.08235595375299454|0.04019593447446823| 0.04320978373289108|-0.05753402784466...|0.028360653668642044| 0.03337244689464569|-0.00578218698501...|0.003132370533421...|   0.068234883248806|0.007179054897278547|-0.07091009616851807|-0.04205842688679695|0.08269458264112473|0.057263121008872986|-0.01476447097957...| 0.02184193581342697|0.014874527230858803|0.014552824199199677|-0.02494044229388237|-0.01588196493685...|-0.02529601007699...|0.037249814718961716| 0.01375703327357769|-0.01274959463626...|-0.03999275341629982|0.027920428663492203| 0.02094455435872078|-0.01284271944314...|-0.02595634758472...|-0.02016569487750...|-0.03012155368924141|-0.05394450202584267|-0.04192297160625458|-0.00329322204925...|-0.03962025418877...|-0.00686581758782...|-0.04957611486315727|-0.01840479485690...|-0.05303018912672...|-0.03833344206213951| 0.04449659585952759|-0.02722622640430...|0.012783458456397057| 0.12360165268182755|-0.07212918251752853|-0.01054846961051...| 0.07307735830545425|-0.03724981471896...|0.012267041020095348|-0.01114108040928...| 0.03362642228603363| 0.01469674427062273|-0.01524702552706...|-0.05401222780346...|  0.0799177810549736|0.020267285406589508|  0.0498131588101387|  0.0810014083981514|0.012791924178600311| 0.03802867233753204|  0.1253625452518463| -0.0414150208234787| 0.04659612849354744| 0.08289776742458344|0.002452984917908907|  0.0479845330119133|2.308271505171433E-4| 0.09881359338760376|-0.04002661630511284|0.043582282960414886|0.002785270102322...|-0.03249199688434601| 0.06180082634091377|-0.02675213851034...| -0.0144597003236413| 0.00405515031889081|0.050659745931625366| 0.01329987682402134| 0.06826874613761902|-0.09319225698709488|-0.05621335282921791|-0.0399588905274868|0.09549497812986374|-0.01575497724115...|0.051641784608364105|-0.11581305414438248| 0.06159764528274536| 0.04236319661140442| 0.02143557369709015|0.017575139179825783|-0.01269033364951...| 0.04304046556353569|-0.02729395404458046|-0.01818468235433...|-2.18789733480662...|-0.03284756094217...| 0.00705206673592329| -0.0343036912381649|-0.05506199598312378|-0.02991837263107...|0.005121849477291107|0.025042032822966576|-0.03555664047598839|0.030003031715750694|-0.02786963246762...|-0.04067002236843109|-0.02187579870223999| 0.05157405883073807|-9.38123848754912...|0.023806016892194748| -0.0046519935131073|-0.03144222870469093|-0.05414768308401108|-0.11208807677030563| 0.06501785665750504|-0.03809639811515808|-0.01358771603554...| 0.01815081760287285| 0.10172585397958755|  0.0441579595208168|-0.02641350403428...|-0.03843503445386...|-0.12549801170825958| 0.05645039677619934| 0.08777410537004471|-0.02250227332115...|-0.00858015567064...|-0.02070751041173935|0.041313428431749344|0.001775715500116...|-0.09156681597232819| 0.03167927265167236|0.028580766171216965|-0.02355204150080681|-0.02516055479645729|-0.07361917942762375|-0.02488964796066...|-0.06278286874294281|0.030697232112288475|0.002738707931712...|-0.03779162839055061|0.054486315697431564|0.009016147814691067|0.002601137617602...| 0.06027697026729584|0.004120760597288...| 0.05787266418337822|-0.00788595434278...|  0.1133071556687355|0.025211350992321968|0.010793980211019516|-0.00448267627507...|-0.02881781011819...|-0.02306102029979229|-0.01636452041566372|-0.02397533506155014| 0.02446635439991951|-0.03369414806365967|  0.0664062574505806|-0.04510613530874252| 0.05617948994040489|-0.03386346623301506|0.021587960422039032|0.003619157942011...| 0.07422871887683868|-0.03327085450291...| 0.00564250024035573|0.024297036230564117| 0.05208200961351395|0.010641594417393208|-0.01031989138573...|-0.00611658859997...|-0.00815262924879...|-0.00520650809630...|-0.08052732050418854|-0.03337244689464569|-0.01376549899578...|-0.00416520657017827|0.006256275344640...| 0.05536676570773125|0.010760116390883923|-0.03015541657805...|-0.02080910094082...|-0.02052126079797...|-0.06176696345210...| 0.03508255258202553| 0.05238678306341171|  0.0757187083363533| 0.06525489687919617| 0.01224164292216301|4.031868884339928...|-0.04916975274682045| 0.06044628843665123|-0.03708049654960632|0.005621335469186306|-0.01799843274056...|  0.0726032704114914|0.052827008068561554| 0.05878697708249092| -0.0176090020686388|-0.03931548446416855|-0.02316261082887...|-0.00899921637028...|-0.01609361171722412|-0.01389248669147...| 0.05661971494555473|0.007962147705256939|-0.02700611390173...|-0.03552277758717537|-0.05431700125336647| 0.06684648245573044|2.497430541552603E-4|0.028157472610473633| 0.04730726405978203| 0.03487937152385712| 0.04534318298101425| 0.02961360104382038|0.028089744970202446|-0.00662030745297...|-0.05773720890283...| 0.04260024055838585|-0.01573804579675...|0.005104917567223...|\n",
            "| 0.03585880994796753|-0.05905061215162277|0.011400307528674603| 0.04865621402859688|-0.04645811766386032|-0.04563848674297333|-0.00804261863231659|0.032915595918893814|0.010673817247152328|-0.05059352144598961|-0.03341854736208916|0.011456191539764404|-0.02879881672561...|-0.00525774015113...|0.010264002718031406|0.02682425267994404| 0.04630909115076065|-0.04958761110901...|-0.04534044116735...| 0.04910328611731529|-0.04396197199821472|-0.00465000281110...|-0.06352132558822632|-0.07823740690946579| 0.11832476407289505|-0.02041623741388321|0.010459596291184425|-0.00654306868091...| 0.08091983199119568|-0.03058709949254...|-0.05122687295079231|-0.03576567023992...|-0.01682104170322...|-0.09537512063980103|0.031108682975172997|-0.05234454944729805|-0.02063977345824...|-0.00573275284841...|  -0.016336714848876|0.019820142537355423|-0.02324768714606762| 0.04366392269730568|0.035188205540180206|-0.03671569749712944|0.026041878387331963|0.042322710156440735| 0.05588386207818985|0.008820336312055588|-0.00809850264340...| 0.09492804855108261| 0.03129496052861214|0.028482140973210335|-0.04984840378165245|-0.06367034465074539|0.004072536248713732| 0.01366360392421484|9.452231461182237E-5|0.012508670799434185|-0.00911372620612...|-0.01348663866519928|-0.00662689469754...|-0.06240364536643028| 0.08047275990247726|-0.07235097140073776|-0.04139131307601929|0.025855598971247673|-0.08896710723638535| 0.03401464223861694| 0.02131037972867489|-0.04899151995778084| 0.08561407774686813|6.950555252842605E-4|-0.02941353805363...|-0.01506070047616...|0.051748454570770264|0.003960768692195...| 0.04209917411208153|-0.03468525037169...| 0.07957861572504044|-0.02164568193256855|0.015228352509438992|0.001112438156269...|-0.04273252561688423| 0.03993833437561989|0.023881036788225174|-0.01063656155019...|0.015852387994527817|-0.05413283407688141|0.006682778242975473|-0.01543325930833...| 0.08822198957204819|-3.92351270420476...| -0.0603545717895031|-0.02062114514410...|7.008767570368946E-4|-0.01625289022922516| 0.06117419898509979|-0.06802928447723389|-0.04235996678471565| 0.05975847691297531|7.998377550393343E-4|-0.00794947892427...|-0.04303057491779...| 0.03926772624254227|-0.08524151891469955|-0.06799203157424927| 0.03388424962759018|-0.00291061773896...|0.022279033437371254|  0.0168582983314991|-0.06065261736512184|-0.02419771254062...|0.019745631143450737| 0.01790146343410015|0.016904868185520172|-0.03982656449079...|-0.01805980131030...|0.056517209857702255|-0.01207091379910...| -0.0397520549595356| 0.03323226794600487| 0.03543036803603172| -0.0507798008620739| -0.0759647935628891| -0.0674331933259964|-0.02198098599910736|-0.06448997557163239|0.030084144324064255|-0.06013103574514389|-0.02224177680909...| 0.03466662019491196|-0.08665724098682404| 0.10312435030937195| -0.0776413083076477|-0.07853545248508453|0.010683131404221058|-0.03086651861667633|0.047613050788640976|0.026358554139733315|-0.00498763471841...| 0.07853545248508453|-0.07779033482074738|-0.08099434524774551|0.012322391383349895|-0.04064619541168213|0.001904708216898...|-4.56603156635537...|0.050668034702539444|0.045489463955163956|0.006692092400044203|-0.01239690277725...| 0.03410778194665909|-0.01349595282226801| 0.03548625111579895|-0.02449575997889042|-0.03708825632929802| 0.06594295799732208|-0.02484969049692154|-0.06359583139419556|-0.00548127526417...|-0.02516636624932289|-0.01830196380615...| 0.04999742656946182| 0.02874293178319931| 0.05215827003121376| 0.08986125141382217|-0.03805691003799...| 0.03923046961426735|-0.09172404557466507|-0.06650179624557495|  0.0765981450676918|-0.02231628820300...|-0.01622494682669...|0.061807550489902496| 0.02557617984712124|-0.02127312310039997|-0.01182875037193...|0.028109582141041756|0.017435764893889427|-0.01955935172736...|0.005001605488359928|0.014036162756383419| 0.05711330473423004|0.016280831769108772|-0.14626669883728027|0.005374164786189...|-0.01399890705943...| 0.08926515281200409|-0.03231950104236603| 0.09619475156068802|0.009313976392149925|-0.02063977345824...| 0.03878340125083923| 0.03174203261733055|-0.01251798495650...|3.029953222721815E-4|-0.00639404496178031|0.036641184240579605|-0.04429727420210838|0.026488950476050377|-0.00275460863485...|0.007902909070253372| 0.03500192612409592|-0.01109294686466...|0.002407663036137...|2.928081376012414...|-0.14850205183029175| 0.03153712674975395|-0.07644911855459213| -0.0874023586511612|0.04697969928383827|-0.01781763695180416|-0.04202466458082199| 0.03235675394535065|0.005788636393845081| -0.0149861890822649| 0.08002568781375885| 0.02252119593322277|-0.01348663866519928|  0.0478738397359848|-0.05271710827946663| 0.03570978716015816|0.020714284852147102| 0.01455774623900652|-0.04884249344468117|-0.00359519501216...| 0.00430771429091692|-0.07290980964899063|-0.04001284390687...|0.012955741956830025| -0.0262281596660614|0.02628404274582863|0.006137910764664...|0.008671312592923641|-0.01510727033019...| 0.06657630950212479|-0.03703237324953079|0.017119089141488075|0.029748842120170593|-0.03734904900193...|0.021589798852801323|0.043887458741664886|-0.05636818706989288| 0.08181397616863251|-0.08278262615203857|-0.00596094503998...|-0.04254624620079994|-0.07965312898159027| 0.06020554527640343| 0.04235996678471565|0.029208632186055183| 0.06564491242170334| 0.04634634777903557| 0.02447713166475296|0.07484711706638336|-3.16347759508062...| -0.0306988675147295|-0.01044096797704...|-0.06635276973247528| 0.01648573949933052|0.004982977639883757|-4.86655277200043...|-0.06937050074338913|-0.00591437518596...| 0.03105279803276062|-0.00267311139032...|-0.00397939654067...|0.028239978477358818|-0.01918679289519787|0.029413538053631783|0.001241087447851...|-0.02151528745889...|-0.01610386557877...| 0.06694886833429337|0.030046889558434486| 0.04846993461251259|-0.05629367753863335|-0.01942895539104...| 0.06739593297243118|0.002708038780838251|-0.04321685433387...|-0.09246916323900223| 0.01116745825856924|-0.08308067172765732| 0.04452081024646759| 0.00843846332281828|0.003308790270239...|0.013514580205082893|-0.00453590694814...| 0.00420991750434041|0.04314234107732773|0.012015029788017273|-0.02810958214104...|0.032878339290618896|-3.51311551639810...|-0.01460431609302...| -0.0647135078907013|0.028966467827558517| 0.03231950104236603|-0.05323868989944458|-0.02755074389278...|0.01952209509909153| 0.01954072341322899|-0.06728416681289673|-0.02879881672561...|0.056479956954717636|0.010645875707268715|-0.12853288650512695| -0.0472404919564724|-0.01618769206106...|-0.01529354974627...|0.020826052874326706| -0.0761883333325386|-7.56032968638464...|-0.01681172847747...| -0.0322636142373085|-0.00670606316998601|-0.02255845256149769|-0.02814683876931...|-0.04571299999952316| 0.05852903053164482|-0.01285328809171915| 0.07935508340597153|0.010245374403893948|0.026544833555817604|-0.04366392269730568|-0.07779033482074738|0.018935315310955048|-0.00860145781189...|0.014930305071175098|-0.01398959290236...| 0.00934657547622919|0.001113020232878...|0.008461748249828815|-0.02524087764322...|0.010347828269004822|-0.04973663762211...|-0.02352710627019...|0.021608427166938782| 0.06899794191122055|-0.06504881381988525|-0.07875898480415344|-0.07227645814418793| 0.07667265832424164|-0.00722298910841...|0.045340441167354584| 0.05398381128907204|0.015125898644328117| 0.01656956411898136| 0.07518242299556732|-0.02879881672561...| 0.07104701548814774|0.008578172884881496|-0.00481532607227...|-0.02078879624605179|0.019950538873672485|0.047091465443372726|-0.03060572780668...|-0.04090698808431...|-0.00272433832287...|0.006915627978742123|0.007274216040968895|-0.01950346678495407| 0.01931718736886978|  0.0306988675147295|0.015992097556591034| 0.03217047452926636|0.031816545873880386| 0.01800391636788845|-0.03597057983279228|0.07756680250167847|0.03923046961426735|4.985888372175395E-4|-0.01525629404932...|-0.02850076928734...| 0.02339670993387699|0.027215439826250076|0.006883028894662857|-0.04429727420210838|-0.02943216636776924|-0.03790788725018501| 0.10066546499729156| 0.03833632916212082|0.034163668751716614|0.027550743892788887|0.020881935954093933|-0.03014002926647663|0.019428955391049385|-5.25075418408960...|0.003050327533856...|-0.02954393438994...|-0.06005652248859...|-0.02188784629106...|-0.04235996678471565|0.015405317768454552|-0.02984198182821...|-0.01504207216203...|-2.26737131015397...|-0.02671248652040...|0.011335110291838646|0.024383991956710815|-0.04727774485945...|-0.03028905205428...|-0.02887332811951...|-0.06009377911686897|-0.00802864786237...|0.009057842195034027|-0.01775244064629078|0.034312691539525986|  -0.069109708070755|-0.02870567701756...|-0.05927414819598198|-0.01179149467498064|0.051748454570770264|-0.09664182364940643| 0.11184223741292953|0.017780382186174393|0.034498970955610275|-0.02244668453931...|-0.03826181590557...|-0.08181397616863251| 0.03543036803603172|-0.06508606672286987|-0.00167418736964...|-0.02158979885280...|-0.00116017227992...| 0.01047822367399931|-0.05092882364988327|-0.09507707506418228| 0.01573130674660206|0.020155446603894234|0.011549331247806549| 0.02358298934996128| 0.02786741964519024|-0.06214285269379616|-0.00174171372782439|-0.05305241048336029| 0.05413283407688141|-0.00233780825510...|-0.02540852874517...|-0.01370085962116...|-0.01534943375736475|-0.01542394608259201|0.040683452039957047|-0.06814105808734894|-0.07860996574163437| 0.04832091182470322|0.021925101056694984|0.006016829051077366|0.014138616621494293|-0.02982335351407528|-0.01662544906139...|-0.01537737622857...|0.046197324991226196| 0.08993575721979141| 0.04936407878994942|-0.02911549247801304|0.001550777116790...| 0.06273894757032394|-0.05934866145253...| 0.10610482096672058|0.002293566707521677|0.002064210129901...|-5.46031864359974...| 0.02216726541519165|-0.00992869958281517| 0.05316418036818504|0.009081127122044563|0.032878339290618896|-0.06899794191122055|-0.05610739812254906|-0.04690518602728844|0.008000706322491169| -0.0803237333893776|0.049252308905124664|-0.06191931664943695|0.024924201890826225| 0.03960302844643593|0.001199174555949...|-0.01396165136247...|-0.00454289233312...|0.014185186475515366|-0.02529676072299...|  0.0118101229891181|-1.02235444501275...| 0.11981499940156937|-0.03418229520320892|-0.02462615445256...|-0.00472451467067...|-0.01413861662149...|-0.05394655466079712|0.011372365988790989| 0.06761947274208069|-0.01887943036854267| 0.03712551295757294|-0.00996595527976...|-0.00312251085415...|-0.10945785790681839| 0.07682167738676071|-0.01651368103921...|0.040199123322963715|0.010031153447926044|-0.02022995799779892| 0.04098149761557579|0.003967754077166319| 0.08978673815727234| 0.03863437473773956|3.222053928766399...|-0.05990749970078468| 0.09485354274511337|-0.02335945330560...| 0.06575667858123779|\n",
            "|-0.05833666026592...| -0.0079921530559659|0.019299231469631195|0.015189630910754204|-0.02885046042501...|-0.03581332042813301| -0.0176796093583107|-0.00691745011135...| 0.02944078855216503|-0.03738753125071...|-0.01208661682903...|0.004257183521986008|-0.08367541432380676|0.006663911510258913| 0.08379650861024857| 0.0848863497376442|-0.01966251246631...|0.004056622739881277|-0.04147442802786827| 0.05482495576143265|0.018890542909502983|-0.01497771777212...|-0.03098472766578...|-0.07695474475622177| 0.04150469973683357|-0.04002130776643753|-0.03160532936453819| -0.0424734465777874|-0.02668591775000...|-0.02055557444691658|-0.02715515531599...|-0.04262481257319...| 0.04634843021631241|-0.03047008253633976| 0.02766980044543743|0.031242050230503082| 0.01628703810274601|0.013842469081282616|-0.00988423451781...|-0.01045185886323452|0.009959917515516281| 0.04922439530491829|-0.02153945714235...|-0.02343153767287731| 0.02373427152633667|0.008544640615582466|-0.08082972466945648|0.019768469035625458|-0.01319916080683...|-0.03275571763515...| 0.06993133574724197| 0.07580435276031494|-0.04220098629593849|-0.03133287280797...|-0.00320518622174...| 0.02270497940480709| 0.03853791579604149|-0.02714001759886...|-0.01251044310629...|-0.01521990448236...|0.007223967462778091|-0.06157590448856354|-0.05748900771141052|0.024354873225092888|-0.04032404348254204|-0.00678500439971...|0.025232799351215363| 0.03617659956216812|-0.00692880293354...|-0.04117169603705406|0.003863630583509803|-0.01583293825387...|-0.01864835619926...|0.034844573587179184| 0.02273525297641754|-0.01005830522626...|-0.04828592017292...|-0.04413847997784...|-0.02706433460116...| 0.02408241480588913|-0.10371634364128113|-0.01630217581987381|0.010141557082533836|-0.04371465370059...|-9.03468928299844...| 0.01451604999601841|0.004821023903787136| 0.03496566787362099|-0.09287849813699722| 0.05073805898427963|-0.05331129208207...|-0.05273609608411789|-0.01340350601822...|-0.00656930729746...|-0.03484457358717...|0.012336371466517448| 0.06351339817047119|2.077742101391777...|0.015492363832890987|  0.0639977678656578| 0.06327120959758759|-0.02279579825699...|-0.01036103907972...|-0.02744275145232...|-0.00301787001080...|-0.05152516439557...|-0.00647470308467...|0.010784865356981754|-0.02408241480588913|-0.01910245604813099|-0.02579285576939...|-0.04892165958881378|-0.01094380021095...|-0.04504667967557907|-0.03599495813250542|0.023915911093354225|0.026125863194465637|-0.04065704718232155|-0.01367596536874...|-0.01967764832079...|  0.0742906928062439| 0.03160532936453819|-0.05724681913852...|-0.14264781773090363|0.003216538578271866| 0.07665200531482697|-0.10238432139158249| 0.05761009827256203| -0.0919703021645546|-0.03417856246232...|0.024612197652459145|-0.04323028028011322|0.028547726571559906|-0.04465312510728836|-0.01039888057857...|-0.00544919492676...|-0.02314394153654...| 0.07144500315189362|-0.00541135342791...|0.022871481254696846|  0.0532204695045948|0.004147442989051342| 0.13235488533973694|-0.00828731711953...|-0.01290399674326...|4.831903206650167...|-0.04005158320069313| 0.01879972219467163|-0.02709460817277...| 0.06448213756084442|-0.02158486656844616|0.021009674295783043| 0.06063742935657501|-0.03944611549377...|-0.00269810832105577|-0.10371634364128113| 0.06460323184728622|0.008885215036571026|-0.06272628903388977| -0.0159237589687109|-0.03311899676918...|-0.02446082979440689|0.008923056535422802|-0.03133287280797...| 0.01451604999601841|-0.00464316830039...|-0.00949824973940...|-0.03118150494992733|-0.04280645400285721| 0.03859846293926239| 0.07677309960126877| 0.12018502503633499| 0.05603588744997978|  0.0706578940153122|-0.00392039306461...|-0.00923335831612...|0.009354451671242714|-0.00270567671395...| 0.08924570679664612|0.011102735064923763|0.005464331712573767| 0.02544471248984337|0.007488858886063099|-0.03169615194201...|0.002874071942642331|-0.02066153101623...| 0.06508760899305344|-0.00200749863870...|-0.00437827687710...| -0.0459851510822773|-0.04416875168681145|-0.05882103368639946|-0.01409979164600...|-0.00206426088698...| 0.05848802626132965|-0.05131325125694275|-0.00386363058350...|  0.1133432537317276|  0.0319080650806427|  0.0354803130030632|-0.07998207211494446|-0.01825480349361...|0.002380238613113761| 0.03408773988485336|-0.07659146189689636|-0.10595656931400299|-0.02262929640710354|-0.01708928123116...|0.032725442200899124| 0.06581416726112366|0.03007652796804905| 0.08531017601490021|0.030909044668078423|0.005104836076498032|-0.00761752063408494|-0.00936958752572...|0.036630697548389435|-0.03018248453736...| 0.05067751184105873|-6.36212411336600...|-0.07047625631093979|0.040959782898426056|0.013070499524474144|-0.06142453476786...|-0.03009166568517685|-2.67493043793365...|  0.0133051173761487|0.008453820832073689|-0.02688269503414631|-0.00896846689283...|-0.01684709452092...|0.03578304499387741|-0.05558178946375847|-0.01543938554823...|-0.02582312934100628|-0.03290708363056183|-0.06920477747917175|-0.01379705872386694| 0.02794226072728634|0.046197064220905304|-0.07350358366966248|0.013509462587535381|0.029910026118159294|0.016438404098153114|-3.87403706554323...|-0.00505564175546...|-0.00845382083207...|-0.03717561811208725| 0.05960813909769058|0.012548284605145454|-0.01537883933633...|-0.02028311416506...|-0.03956720978021622| 0.00795431062579155|0.07017352432012558|-0.01416790671646595|-0.01798234321177...| -0.0355408601462841|-0.04671170935034752|-0.03675179183483124|-0.06648017466068268|-1.66621437529101...|-0.01500042248517...| 0.07519888877868652| 0.01772502064704895|-0.01572698168456...|0.032725442200899124| 0.02654968947172165| 0.08785313367843628| 0.02727624773979187| 0.03929474949836731|0.049375761300325394| 0.08440197259187698|0.020434480160474777| 0.07386686652898788|0.029985709115862846|-0.06829657405614853|0.015348565764725208|0.031665876507759094|0.017497969791293144|-0.01524260919541...| -0.0883375033736229|-0.01998038217425...|0.057943105697631836|-0.04195880144834...|-0.01825480349361...|0.017558516934514046| 0.01872403919696808|0.005850316025316715|0.008075403980910778|0.06865985691547394| 0.06436105072498322|-0.00786349084228...|-0.03208970278501...|0.027064334601163864|-0.02329530753195...|0.003487106412649...| 0.08646056056022644|0.013199160806834698|-0.09457380324602127| 0.09469489753246307|0.10595656931400299| 0.05279664322733879|-0.01633244752883911|-0.00935445167124...|0.029546745121479034| 0.01363055594265461|-0.07053679972887039|0.014674984849989414|-0.03696370497345...|0.014909602701663971| 0.01630217581987381| 0.01736173965036869|-0.02337099239230156| 0.07840786129236221|-0.05034450814127922|-0.10910499095916748| 0.07689419388771057| 0.04065704718232155|0.022432519122958183| 0.17195236682891846| 0.06163644790649414| 0.04462285339832306|-0.01780070364475...| 0.04901248216629028| 0.01808829978108406|0.051494892686605453|-0.06987078487873077| 0.02978893183171749|-0.06478487700223923|0.011836862191557884|0.005066994577646...|-2.99185398034751...|-0.04707498848438263|-0.05900267139077...|0.012306098826229572|0.010232376866042614|-0.01004316937178...|-0.01825480349361...|0.015651298686861992|0.024899793788790703|-0.07011297345161438|1.338647707598284E-4|0.036993980407714844|-0.01610539853572...| 0.03139341622591019|-0.00695529207587...|-0.10553274303674698|0.011087598279118538| 0.04992068186402321|-0.04622733592987...|0.013441347517073154|-0.02303798496723175|  0.0603044256567955|0.004843728616833687|-0.08101136237382889|0.022402245551347733|-0.06327120959758759|-0.03950666263699...|0.019253822043538094| 0.04825564846396446|  0.0355408601462841|-0.05228199809789...|0.007696988061070442|0.033149268478155136|-0.00360441533848...|  0.0531599223613739|-0.02900182642042637|-0.03296763077378273|-0.05285719037055969|0.04816482961177826| 0.0919097512960434|0.002204274991527...| 0.03826545923948288|-0.03099986538290...|  0.0742906928062439|-0.04368437826633...|-0.00115322368219...|-0.01364569272845...|-0.02411268837749958|0.059305403381586075|-4.21224656747654...|-0.07477506250143051|-0.08052699267864227|0.059668686240911484|-0.02025284059345...| 0.04537968337535858| 0.06944695860147476| 0.02405214123427868|-0.04768045619130...|-0.01456902828067...| 0.04525859281420708| 0.10456399619579315|-0.06926532089710236| 0.04713553562760353|0.017210373654961586|  0.0283963605761528|-0.00967232137918...|-0.05007204785943031|-0.02821472100913...| 0.02093399129807949|-0.10129448026418686|0.012298529967665672|0.001705711591057...|-0.01177631597965...| 0.03614632785320282| 0.08288831263780594|-0.02026797831058...|0.023582905530929565|-0.05561206117272377|-0.03653987869620323|-0.05116188526153...| 0.03756917268037796| 7.13314744643867E-4|-0.03345200046896...|0.004673441406339407| 0.02444569393992424|-0.02859313599765...|-0.04537968337535858|-0.02179677970707...|-0.03145396336913109|-0.00709530571475625|-0.03657015413045883|0.001909110345877707|0.007424528244882822| 0.04777127504348755|-0.01547722704708...|0.019374914467334747|-0.04547050595283508| -0.0353592187166214| 0.00515024596825242| -0.0674489215016365|-0.00851436704397...|-0.04020294919610...|-0.03917365521192551|-0.08912461251020432|0.017876386642456055|-0.07598599791526794|0.040959782898426056|0.042655088007450104|-0.04316973313689232|-0.01814884692430...|-0.01539397612214...|-0.02187246270477...|-0.06142453476786...| 0.05994114279747009|-0.03375473618507385|-0.02941051684319973| -0.0816773772239685|-0.02144863642752...|0.001152277691289...|-0.02212978526949...| -0.0778629407286644|0.012185005471110344| 0.07005243003368378|-0.01424358971416...|0.048043735325336456|-0.00438206084072...|-0.01005830522626...|0.012964542955160141| 0.06296847760677338|-0.03393637388944626|-0.02347694896161...|0.002554310020059347| 0.05412866920232773| 0.04313946142792702|-0.00589951034635...| 0.01662004366517067| 0.08385705202817917|-0.02209951356053...|-0.12521038949489594| 0.02724597416818142| 0.05530932918190956| 0.00291948183439672|-6.75473129376769...|-0.05470386147499...|0.006039524450898...|-0.02956188283860...|0.025005750358104706| 0.03796272352337837|-0.07507779449224472|0.007765102665871382|-0.01448577642440...|-0.00201317481696...|0.028593135997653008| 0.04117169603705406|-0.04307891428470...|  0.0354803130030632|-0.03735725954174...|-0.04447148367762...|-0.04540995880961418|0.014122497290372849|0.009944780729711056|-0.01082270685583353| 0.07314030826091766|-0.02589881233870983| 0.06672236323356628|-0.06908368319272995|-0.06448213756084442|0.021494045853614807|0.023159079253673553|0.027200564742088318|0.011155713349580765|0.017089281231164932| 0.03047008253633976|-0.00252214469946...|0.018315348774194717|0.008385705761611462| 0.06999187916517258|-0.04335137456655502|-0.00614926498383...|-0.02312880568206...|\n",
            "|0.020017404109239578| 0.05078849568963051|-0.01053505018353...|-0.01781484298408...|-0.03776746615767479|-0.08389171212911606|-0.00136141839902848| 0.03221247345209122| 0.03501426428556442|-0.01484300289303...|   0.036925308406353|-0.05713705718517...|-0.05590621381998062|-0.02053565531969...| 0.04609185457229614|0.06027894839644432|-0.00971718691289...|-0.03527338802814...|-0.05707227811217308|0.025005560368299484|-0.00952284317463...|0.014478608034551144|-0.00614207191392...|-0.04019676148891449| 0.13306067883968353| 0.09276674687862396|-0.06196326017379761|-3.89952736441046E-4|0.003943558316677809| 0.01702127233147621|-0.03779985755681...|-0.03799420222640...|0.049460481852293015|0.008073362521827221|-0.01509403064846...|-0.04680445045232773|0.043047137558460236|-0.00729598756879...|0.036439452320337296|0.009036983363330364| 0.03556490316987038| 0.01417089719325304|0.030690114945173264|0.002957668853923...| 0.10203046351671219|-0.02468165382742...|-0.02327266335487...| 0.07197196036577225|-0.00779804261401...| 0.06105632334947586|0.014591975137591362|0.005769579671323299|0.015596085228025913| 0.04709596559405327|-0.02618781849741...| 0.00923132710158825|-0.03637466952204704|0.014373338781297207| 0.04962243512272835| 0.03446362167596817|0.024633068591356277|-0.00823531579226...|-0.05623012036085129|-0.01362025644630...|0.006465977989137173|-0.02196084149181...|-0.01368503831326...|-0.02004979550838...|-0.12230699509382248|-0.02466545999050...|-0.01697268709540367|-0.05901571363210678| -0.0779966190457344|-0.01129622943699...| 0.04754943400621414| 0.04991395026445389|4.291757650207728E-4|-0.03397776186466217|-0.01888373307883...|-0.04162194952368736|-0.04971960559487343| 0.09814358502626419|-0.02066521719098091|-0.02328885719180107|0.028892435133457184| 0.04210780933499336|-0.03294126316905022|-0.03527338802814...|0.005866751540452242|-0.05661880970001221|0.059857871383428574|-0.00464400555938...| 0.07721924781799316|-0.00935279205441475|-0.02192845195531845|-0.02068141289055...|-0.03358907625079155| 0.05545274540781975|-0.04521730914711952|-0.00232402724213...|0.027645396068692207|-0.00556308962404...| 0.04291757568717003|-0.04233454540371895|  0.0184626542031765|-0.00978196784853...|-0.00334838056005...|-0.09509886801242828|-0.01039738953113...|-0.00109217129647...|-0.09477496147155762|-0.02280299924314022| 0.03072250634431839| 0.02095673233270645|-0.00154867663513...|-0.02586391195654869| 0.08402127772569656|0.003977973479777...| 0.04884506016969681|-0.00984674971550703|0.011142374016344547|0.014818710274994373|-0.10902683436870575|-0.10280783474445343|-0.06614165008068085| 0.06957505643367767|-0.01935339719057083|-0.03469035774469...| 0.06082959100604057|-0.03491709008812...|-0.04635098204016...| 0.03305463120341301| 0.06225477531552315|0.007162376306951046|-0.04473144933581352| 0.04356538876891136|0.014397631399333477|-0.05953396484255791|-0.09963355213403702|0.004830251447856426|-0.01294815167784...|0.009887238033115864|0.024730240926146507|-0.02370993606746...|-0.01268902607262...|0.003405064111575...|-0.02738627232611...|0.013158690184354782| -0.0691215917468071|0.004976009484380484| 0.02596108429133892|-0.05930722877383232|0.033621467649936676|-0.04278801381587982|-0.03177520260214...|   -0.05308822914958| 0.06795552372932434|-0.03002610802650...|-0.05146870017051697|-0.04567077755928...|-7.09050975274294...| 0.05950157344341278| 0.07929224520921707| 0.04388929530978203|0.036828137934207916|0.014543389901518822|0.004291757475584745|-0.08622384071350098|-0.07229586690664291|-0.01548271812498...| 0.05360648036003113|-0.00226936792023...| -0.0351114347577095|-0.05302345007658005|-0.02638216316699...| 0.02484360709786415|-0.01387128420174...|-0.00647002691403...|-0.02226855233311653|0.003909143153578043|-0.04618902876973152|-0.01046217139810...|0.028228428214788437|0.038091372698545456|-0.03413971513509...|0.019418178126215935|-0.03575924783945...|-0.03320038691163063|0.037799857556819916|-0.05658641830086708|-0.01645443588495...|0.060246556997299194|-0.00191610783804...|-0.07112980633974075|-0.03679574653506279|-0.06180130690336...|-0.01198453083634...| 0.04418081045150757|0.018171139061450958| 0.06581774353981018|-0.07320281118154526| 0.09095286577939987| 0.04716074839234352|0.009709089063107967|-0.02348320186138153|  0.0770248994231224| -0.0360831543803215|0.036439452320337296| 0.05195455998182297|-0.02675465494394...| 0.0660768672823906|-0.02557239681482315|  0.0385124497115612|-0.00598011864349246| 0.09140633791685104|-0.03127314522862...|-0.01293195597827...|-0.08266086876392365|-0.02330505289137...|0.059663526713848114|-0.09380324184894562|0.019725888967514038|-0.01100471429526...|0.008648295886814594|-0.00190497352741...|  0.0098710423335433| 0.07074111700057983|-0.03064152970910...|-0.01771767064929...|-0.01251087803393...|-0.04285279288887...|0.06795552372932434|-0.02842277102172...|-0.02126444317400...|-0.02268963120877...|-0.03090065345168...|-0.10481605678796768|0.040909357368946075|0.020244140177965164|0.029038192704319954|-0.12399130314588547|-0.00881024915724...| 0.02071380242705345|0.014470511116087437|-0.00737696420401...|-0.01029212027788...| 0.01283478457480669|-0.01212219055742...|-0.01568515971302986| 0.09995745867490768|-0.04638337343931198|-0.10345564782619476|0.029200145974755287|0.053444527089595795|0.04272323101758957|0.026382163166999817| -0.0324392095208168|-0.01259185466915369|0.040909357368946075| -0.0101139722391963| 0.02873048186302185|-0.00104358536191...|-0.03588880971074104| 0.00649027107283473|-0.01943437382578...|0.011053300462663174|0.014519096352159977|-0.05982547998428345| 0.01620340906083584|0.015183104202151299| 0.06011699512600899|0.051792606711387634|-0.01424377597868...|0.034690357744693756|-0.01810635812580...|-0.07935702800750732|0.009109863080084324|-0.03148368373513222|0.035759247839450836|0.052764326333999634| 0.02396906167268753| 0.04881266877055168| 0.05143630877137184| 0.07236064970493317| 0.05545274540781975|-0.01187116280198...|  0.0394841693341732| 0.02401764690876007|0.022576263174414635|7.869909168221056E-4|0.03919265419244766|0.006393099203705788|-0.00783853046596...| -0.0399700291454792|0.042464107275009155|0.018770365044474602|-0.03020425513386...|-0.00156082317698...|-0.04884506016969681|-0.08654774725437164|0.012802394106984138|0.04502296447753906|0.039160262793302536|0.001424175221472...|0.028309404850006104| 0.06665990501642227| 0.04855354502797127|-0.06963983923196793|-0.02578293532133...|-0.05182499811053276|0.003919265232980251|-0.01208980008959...|-0.02087575569748...|0.016397753730416298|0.001255136681720...|-0.10688905417919159|-0.01429236214607954| 0.03550012409687042|-0.05337974801659584|  -0.107148177921772|0.011863065883517265|-0.00864829588681...| 0.05778487026691437|-0.01927242055535...|-9.87914041616022...|0.003593334695324...| -0.0648784190416336|-0.04686922952532768|-0.00347794312983...|-0.03776746615767479|-0.04204303026199341|6.776725640520453E-4|0.010980420745909214|0.027596810832619667| 0.03870679438114166|0.021523568779230118|-0.02460067719221115|-0.00755916163325...| 0.06338845193386078|-0.00781828630715...|-0.08097656071186066|-0.00703281396999...| 0.04152477905154228| 0.05865941941738129| 0.06189848110079765|-0.03456079587340355| 0.06274063885211945|-0.02686802111566...|0.018219726160168648|0.012948151677846909|-0.03088445961475...|-0.01799299009144...| 0.02795310690999031| 0.04366255924105644|-0.03103021718561...| 0.00869688205420971|-0.07475756108760834|-0.10300218313932419|-0.04981677606701851| 0.06931593269109726|-0.08259608596563339| 0.06873290240764618|-0.03941938653588295|-0.06254629045724869|  0.0663359984755516| 0.05765530839562416| -0.1052047461271286|-0.05292627587914467|0.023596568033099174|-0.01094803027808...|0.04651293531060219|0.09108243137598038|0.011879260651767254|-0.01422758121043...|-0.02278680354356...| 0.05593860521912575|0.004591370932757...|0.018009185791015625|-0.00469259126111...|0.032827895134687424|-0.01668117009103...|  0.0331679992377758|0.013061518780887127|0.005077230278402567|-0.00153653020970...|-0.00838917121291...|-0.01567706093192...| 0.10293740034103394| 0.03951656073331833|-0.01373362448066473|0.029831763356924057|-0.06905680894851685|0.014867295511066914|-0.01977447606623...|0.010640319436788559|-0.01454338990151...|   0.071194589138031|0.008397269062697887|-0.00211551249958...|-0.02213899046182...| 0.01038119476288557|-0.01674595288932...|-0.00284430151805...|-0.08227217942476273|0.014195190742611885| -0.0404558889567852|-0.06361518055200577| 0.09393280744552612|-0.01033260859549...|-0.06957505643367767|  0.0749519020318985| 0.02144259214401245|0.003018401097506...|0.025167513638734818|0.009919628500938416|-0.00187663175165...| 0.04845637083053589| -0.0749519020318985|-0.07514624297618866| 0.05914527550339699|-0.04729031026363373|-0.01990403793752...|-0.02230094373226...|0.027645396068692207|0.013029128313064575|-0.01800918579101...| 0.00798023957759142|-0.00583436107262969|0.013960358686745167| 0.00984674971550703|-0.00169443443883...|-0.00392938731238246|0.011636331677436829|  0.1011883020401001|-0.06491080671548843|-0.01860841363668...|-0.03728160634636879|-0.03582403063774109|0.016430143266916275| 0.06730771064758301|-0.06665990501642227|-0.02656031027436...|-0.01602526009082...|-0.02027652971446514|0.007931653410196304| 0.08227217942476273|-0.04090935736894...|-0.02934590354561...| -0.0626758560538292|-0.04395407438278198|0.056456856429576874|-0.01575803756713...|0.006048948969691992|0.008923616260290146|-0.04797051101922989|0.034981872886419296|0.047322701662778854|-0.04087696596980095|-0.01703746803104...|0.007259548176079...|0.057234231382608414| -0.0321962796151638| 0.03452840447425842|-0.01935339719057083|-8.27479176223278E-4|-0.04184868559241295|  0.0658501386642456|0.046253807842731476| 0.04009959101676941| 0.01373362448066473|-0.01492397952824831| 0.01896470971405506|-0.06066763773560524|-0.00396785140037...| 0.04395407438278198| 0.08143002539873123|0.049557652324438095| 0.03728160634636879|-0.04897462204098...| -0.0194991547614336|-0.05075610429048538|-0.01379030756652...|-0.12301958352327347|-0.03156466037034...|0.023224076256155968|0.003911167848855257|  0.0102354371920228|0.055679481476545334|-0.13293111324310303|-0.00596797233447...|-0.05639207363128662|-0.01687551476061344|-0.00471283541992...|-0.01186306588351...|-0.02315929532051...|0.027645396068692207|-0.03103021718561...|-0.06491080671548843| 0.04113608971238136| 0.02732148952782154|0.014575780369341373|-0.01472153794020...|-0.04204303026199341|-0.04032632708549...|-0.04327387362718582|0.004716884344816208|0.005453770980238...|-0.00142923626117...|-0.02029272541403...|0.012276045978069305|  0.0081098023802042| 0.10002224147319794|\n",
            "+--------------------+--------------------+--------------------+--------------------+--------------------+--------------------+--------------------+--------------------+--------------------+--------------------+--------------------+--------------------+--------------------+--------------------+--------------------+-------------------+--------------------+--------------------+--------------------+--------------------+--------------------+--------------------+--------------------+--------------------+--------------------+--------------------+--------------------+--------------------+--------------------+--------------------+--------------------+--------------------+--------------------+--------------------+--------------------+--------------------+--------------------+--------------------+--------------------+--------------------+--------------------+--------------------+--------------------+--------------------+--------------------+--------------------+--------------------+--------------------+--------------------+--------------------+--------------------+--------------------+--------------------+--------------------+--------------------+--------------------+--------------------+--------------------+--------------------+--------------------+--------------------+--------------------+--------------------+--------------------+--------------------+--------------------+--------------------+--------------------+--------------------+--------------------+--------------------+--------------------+--------------------+--------------------+--------------------+--------------------+--------------------+--------------------+--------------------+--------------------+--------------------+--------------------+--------------------+--------------------+--------------------+--------------------+--------------------+--------------------+--------------------+--------------------+--------------------+--------------------+--------------------+--------------------+--------------------+--------------------+--------------------+--------------------+--------------------+--------------------+--------------------+--------------------+--------------------+--------------------+--------------------+--------------------+--------------------+--------------------+--------------------+--------------------+--------------------+--------------------+--------------------+--------------------+--------------------+--------------------+--------------------+--------------------+--------------------+--------------------+--------------------+--------------------+--------------------+--------------------+--------------------+--------------------+--------------------+--------------------+--------------------+--------------------+--------------------+--------------------+--------------------+--------------------+--------------------+--------------------+--------------------+--------------------+--------------------+--------------------+--------------------+--------------------+--------------------+--------------------+--------------------+--------------------+--------------------+--------------------+--------------------+--------------------+--------------------+--------------------+--------------------+--------------------+--------------------+--------------------+--------------------+--------------------+--------------------+--------------------+--------------------+--------------------+--------------------+--------------------+--------------------+--------------------+--------------------+--------------------+--------------------+--------------------+--------------------+--------------------+--------------------+--------------------+--------------------+--------------------+--------------------+--------------------+--------------------+--------------------+--------------------+--------------------+--------------------+--------------------+--------------------+--------------------+--------------------+--------------------+--------------------+--------------------+--------------------+--------------------+--------------------+--------------------+--------------------+--------------------+--------------------+--------------------+--------------------+--------------------+--------------------+--------------------+--------------------+--------------------+--------------------+--------------------+--------------------+--------------------+--------------------+--------------------+-------------------+--------------------+--------------------+--------------------+--------------------+--------------------+--------------------+--------------------+--------------------+--------------------+--------------------+--------------------+--------------------+--------------------+--------------------+--------------------+--------------------+--------------------+--------------------+--------------------+--------------------+-------------------+--------------------+--------------------+--------------------+--------------------+--------------------+--------------------+--------------------+--------------------+--------------------+--------------------+--------------------+--------------------+--------------------+--------------------+--------------------+--------------------+--------------------+--------------------+--------------------+--------------------+--------------------+--------------------+-------------------+--------------------+--------------------+--------------------+--------------------+--------------------+--------------------+--------------------+--------------------+--------------------+--------------------+--------------------+--------------------+--------------------+--------------------+--------------------+--------------------+--------------------+--------------------+--------------------+--------------------+--------------------+--------------------+--------------------+--------------------+--------------------+--------------------+--------------------+--------------------+--------------------+--------------------+--------------------+--------------------+--------------------+--------------------+--------------------+-------------------+--------------------+--------------------+--------------------+--------------------+--------------------+--------------------+--------------------+--------------------+--------------------+--------------------+-------------------+--------------------+--------------------+--------------------+--------------------+--------------------+--------------------+--------------------+--------------------+--------------------+--------------------+--------------------+--------------------+--------------------+--------------------+--------------------+--------------------+--------------------+--------------------+--------------------+--------------------+--------------------+--------------------+--------------------+--------------------+--------------------+--------------------+--------------------+--------------------+--------------------+--------------------+--------------------+--------------------+--------------------+--------------------+--------------------+--------------------+--------------------+--------------------+--------------------+--------------------+--------------------+--------------------+--------------------+--------------------+--------------------+--------------------+--------------------+--------------------+--------------------+--------------------+--------------------+--------------------+--------------------+--------------------+--------------------+--------------------+--------------------+--------------------+--------------------+--------------------+--------------------+--------------------+--------------------+--------------------+--------------------+--------------------+--------------------+--------------------+-------------------+-------------------+--------------------+--------------------+--------------------+--------------------+--------------------+--------------------+--------------------+--------------------+--------------------+--------------------+--------------------+--------------------+--------------------+--------------------+--------------------+--------------------+--------------------+--------------------+--------------------+--------------------+--------------------+--------------------+--------------------+--------------------+--------------------+--------------------+--------------------+--------------------+--------------------+--------------------+--------------------+--------------------+--------------------+--------------------+--------------------+--------------------+--------------------+--------------------+--------------------+--------------------+--------------------+--------------------+--------------------+--------------------+--------------------+--------------------+--------------------+--------------------+--------------------+--------------------+--------------------+--------------------+--------------------+--------------------+--------------------+--------------------+--------------------+--------------------+--------------------+--------------------+--------------------+--------------------+--------------------+--------------------+--------------------+--------------------+--------------------+--------------------+--------------------+--------------------+--------------------+--------------------+--------------------+--------------------+--------------------+--------------------+--------------------+--------------------+--------------------+--------------------+--------------------+--------------------+--------------------+--------------------+--------------------+--------------------+--------------------+--------------------+--------------------+--------------------+--------------------+--------------------+--------------------+--------------------+--------------------+--------------------+--------------------+--------------------+--------------------+--------------------+--------------------+--------------------+--------------------+--------------------+--------------------+--------------------+--------------------+--------------------+--------------------+--------------------+--------------------+--------------------+--------------------+--------------------+--------------------+--------------------+--------------------+--------------------+--------------------+--------------------+--------------------+--------------------+--------------------+--------------------+--------------------+--------------------+--------------------+--------------------+--------------------+--------------------+--------------------+--------------------+--------------------+--------------------+--------------------+--------------------+--------------------+--------------------+--------------------+--------------------+\n",
            "only showing top 5 rows\n",
            "\n"
          ]
        }
      ],
      "source": [
        "features_column_names = [f\"embedding_{i}\" for i in range(len(embedding_vectors[0]))]\n",
        "embeddings_df = spark.createDataFrame(embedding_vectors, schema=features_column_names)\n",
        "embeddings_df.show(5)"
      ]
    },
    {
      "cell_type": "markdown",
      "metadata": {
        "id": "aGzNmNuen5ol"
      },
      "source": [
        "Add unique `row_id` to each row in the pysaprk dataframe"
      ]
    },
    {
      "cell_type": "code",
      "execution_count": 13,
      "metadata": {
        "id": "VoQDjRGmne3o"
      },
      "outputs": [
        {
          "name": "stdout",
          "output_type": "stream",
          "text": [
            "+--------------------+--------------------+--------------------+--------------------+--------------------+--------------------+--------------------+--------------------+--------------------+--------------------+--------------------+--------------------+--------------------+--------------------+--------------------+-------------------+--------------------+--------------------+--------------------+--------------------+--------------------+--------------------+--------------------+--------------------+--------------------+--------------------+--------------------+--------------------+--------------------+--------------------+--------------------+--------------------+--------------------+--------------------+--------------------+--------------------+--------------------+--------------------+--------------------+--------------------+--------------------+--------------------+--------------------+--------------------+--------------------+--------------------+--------------------+--------------------+--------------------+--------------------+--------------------+--------------------+--------------------+--------------------+--------------------+--------------------+--------------------+--------------------+--------------------+--------------------+--------------------+--------------------+--------------------+--------------------+--------------------+--------------------+--------------------+--------------------+--------------------+--------------------+--------------------+--------------------+--------------------+--------------------+--------------------+--------------------+--------------------+--------------------+--------------------+--------------------+--------------------+--------------------+--------------------+--------------------+--------------------+--------------------+--------------------+--------------------+--------------------+--------------------+--------------------+--------------------+--------------------+--------------------+--------------------+--------------------+--------------------+--------------------+--------------------+--------------------+--------------------+--------------------+--------------------+--------------------+--------------------+--------------------+--------------------+--------------------+--------------------+--------------------+--------------------+--------------------+--------------------+--------------------+--------------------+--------------------+--------------------+--------------------+--------------------+--------------------+--------------------+--------------------+--------------------+--------------------+--------------------+--------------------+--------------------+--------------------+--------------------+--------------------+--------------------+--------------------+--------------------+--------------------+--------------------+--------------------+--------------------+--------------------+--------------------+--------------------+--------------------+--------------------+--------------------+--------------------+--------------------+--------------------+--------------------+--------------------+--------------------+--------------------+--------------------+--------------------+--------------------+--------------------+--------------------+--------------------+--------------------+--------------------+--------------------+--------------------+--------------------+--------------------+--------------------+--------------------+--------------------+--------------------+--------------------+--------------------+--------------------+--------------------+--------------------+--------------------+--------------------+--------------------+--------------------+--------------------+--------------------+--------------------+--------------------+--------------------+--------------------+--------------------+--------------------+--------------------+--------------------+--------------------+--------------------+--------------------+--------------------+--------------------+--------------------+--------------------+--------------------+--------------------+--------------------+--------------------+--------------------+--------------------+--------------------+--------------------+--------------------+--------------------+--------------------+--------------------+--------------------+--------------------+--------------------+--------------------+--------------------+--------------------+-------------------+--------------------+--------------------+--------------------+--------------------+--------------------+--------------------+--------------------+--------------------+--------------------+--------------------+--------------------+--------------------+--------------------+--------------------+--------------------+--------------------+--------------------+--------------------+--------------------+--------------------+-------------------+--------------------+--------------------+--------------------+--------------------+--------------------+--------------------+--------------------+--------------------+--------------------+--------------------+--------------------+--------------------+--------------------+--------------------+--------------------+--------------------+--------------------+--------------------+--------------------+--------------------+--------------------+--------------------+-------------------+--------------------+--------------------+--------------------+--------------------+--------------------+--------------------+--------------------+--------------------+--------------------+--------------------+--------------------+--------------------+--------------------+--------------------+--------------------+--------------------+--------------------+--------------------+--------------------+--------------------+--------------------+--------------------+--------------------+--------------------+--------------------+--------------------+--------------------+--------------------+--------------------+--------------------+--------------------+--------------------+--------------------+--------------------+--------------------+-------------------+--------------------+--------------------+--------------------+--------------------+--------------------+--------------------+--------------------+--------------------+--------------------+--------------------+-------------------+--------------------+--------------------+--------------------+--------------------+--------------------+--------------------+--------------------+--------------------+--------------------+--------------------+--------------------+--------------------+--------------------+--------------------+--------------------+--------------------+--------------------+--------------------+--------------------+--------------------+--------------------+--------------------+--------------------+--------------------+--------------------+--------------------+--------------------+--------------------+--------------------+--------------------+--------------------+--------------------+--------------------+--------------------+--------------------+--------------------+--------------------+--------------------+--------------------+--------------------+--------------------+--------------------+--------------------+--------------------+--------------------+--------------------+--------------------+--------------------+--------------------+--------------------+--------------------+--------------------+--------------------+--------------------+--------------------+--------------------+--------------------+--------------------+--------------------+--------------------+--------------------+--------------------+--------------------+--------------------+--------------------+--------------------+--------------------+--------------------+-------------------+-------------------+--------------------+--------------------+--------------------+--------------------+--------------------+--------------------+--------------------+--------------------+--------------------+--------------------+--------------------+--------------------+--------------------+--------------------+--------------------+--------------------+--------------------+--------------------+--------------------+--------------------+--------------------+--------------------+--------------------+--------------------+--------------------+--------------------+--------------------+--------------------+--------------------+--------------------+--------------------+--------------------+--------------------+--------------------+--------------------+--------------------+--------------------+--------------------+--------------------+--------------------+--------------------+--------------------+--------------------+--------------------+--------------------+--------------------+--------------------+--------------------+--------------------+--------------------+--------------------+--------------------+--------------------+--------------------+--------------------+--------------------+--------------------+--------------------+--------------------+--------------------+--------------------+--------------------+--------------------+--------------------+--------------------+--------------------+--------------------+--------------------+--------------------+--------------------+--------------------+--------------------+--------------------+--------------------+--------------------+--------------------+--------------------+--------------------+--------------------+--------------------+--------------------+--------------------+--------------------+--------------------+--------------------+--------------------+--------------------+--------------------+--------------------+--------------------+--------------------+--------------------+--------------------+--------------------+--------------------+--------------------+--------------------+--------------------+--------------------+--------------------+--------------------+--------------------+--------------------+--------------------+--------------------+--------------------+--------------------+--------------------+--------------------+--------------------+--------------------+--------------------+--------------------+--------------------+--------------------+--------------------+--------------------+--------------------+--------------------+--------------------+--------------------+--------------------+--------------------+--------------------+--------------------+--------------------+--------------------+--------------------+--------------------+--------------------+--------------------+--------------------+--------------------+--------------------+--------------------+--------------------+--------------------+--------------------+--------------------+--------------------+---+\n",
            "|         embedding_0|         embedding_1|         embedding_2|         embedding_3|         embedding_4|         embedding_5|         embedding_6|         embedding_7|         embedding_8|         embedding_9|        embedding_10|        embedding_11|        embedding_12|        embedding_13|        embedding_14|       embedding_15|        embedding_16|        embedding_17|        embedding_18|        embedding_19|        embedding_20|        embedding_21|        embedding_22|        embedding_23|        embedding_24|        embedding_25|        embedding_26|        embedding_27|        embedding_28|        embedding_29|        embedding_30|        embedding_31|        embedding_32|        embedding_33|        embedding_34|        embedding_35|        embedding_36|        embedding_37|        embedding_38|        embedding_39|        embedding_40|        embedding_41|        embedding_42|        embedding_43|        embedding_44|        embedding_45|        embedding_46|        embedding_47|        embedding_48|        embedding_49|        embedding_50|        embedding_51|        embedding_52|        embedding_53|        embedding_54|        embedding_55|        embedding_56|        embedding_57|        embedding_58|        embedding_59|        embedding_60|        embedding_61|        embedding_62|        embedding_63|        embedding_64|        embedding_65|        embedding_66|        embedding_67|        embedding_68|        embedding_69|        embedding_70|        embedding_71|        embedding_72|        embedding_73|        embedding_74|        embedding_75|        embedding_76|        embedding_77|        embedding_78|        embedding_79|        embedding_80|        embedding_81|        embedding_82|        embedding_83|        embedding_84|        embedding_85|        embedding_86|        embedding_87|        embedding_88|        embedding_89|        embedding_90|        embedding_91|        embedding_92|        embedding_93|        embedding_94|        embedding_95|        embedding_96|        embedding_97|        embedding_98|        embedding_99|       embedding_100|       embedding_101|       embedding_102|       embedding_103|       embedding_104|       embedding_105|       embedding_106|       embedding_107|       embedding_108|       embedding_109|       embedding_110|       embedding_111|       embedding_112|       embedding_113|       embedding_114|       embedding_115|       embedding_116|       embedding_117|       embedding_118|       embedding_119|       embedding_120|       embedding_121|       embedding_122|       embedding_123|       embedding_124|       embedding_125|       embedding_126|       embedding_127|       embedding_128|       embedding_129|       embedding_130|       embedding_131|       embedding_132|       embedding_133|       embedding_134|       embedding_135|       embedding_136|       embedding_137|       embedding_138|       embedding_139|       embedding_140|       embedding_141|       embedding_142|       embedding_143|       embedding_144|       embedding_145|       embedding_146|       embedding_147|       embedding_148|       embedding_149|       embedding_150|       embedding_151|       embedding_152|       embedding_153|       embedding_154|       embedding_155|       embedding_156|       embedding_157|       embedding_158|       embedding_159|       embedding_160|       embedding_161|       embedding_162|       embedding_163|       embedding_164|       embedding_165|       embedding_166|       embedding_167|       embedding_168|       embedding_169|       embedding_170|       embedding_171|       embedding_172|       embedding_173|       embedding_174|       embedding_175|       embedding_176|       embedding_177|       embedding_178|       embedding_179|       embedding_180|       embedding_181|       embedding_182|       embedding_183|       embedding_184|       embedding_185|       embedding_186|       embedding_187|       embedding_188|       embedding_189|       embedding_190|       embedding_191|       embedding_192|       embedding_193|       embedding_194|       embedding_195|       embedding_196|       embedding_197|       embedding_198|       embedding_199|       embedding_200|       embedding_201|       embedding_202|       embedding_203|       embedding_204|       embedding_205|       embedding_206|       embedding_207|       embedding_208|       embedding_209|      embedding_210|       embedding_211|       embedding_212|       embedding_213|       embedding_214|       embedding_215|       embedding_216|       embedding_217|       embedding_218|       embedding_219|       embedding_220|       embedding_221|       embedding_222|       embedding_223|       embedding_224|       embedding_225|       embedding_226|       embedding_227|       embedding_228|       embedding_229|       embedding_230|      embedding_231|       embedding_232|       embedding_233|       embedding_234|       embedding_235|       embedding_236|       embedding_237|       embedding_238|       embedding_239|       embedding_240|       embedding_241|       embedding_242|       embedding_243|       embedding_244|       embedding_245|       embedding_246|       embedding_247|       embedding_248|       embedding_249|       embedding_250|       embedding_251|       embedding_252|       embedding_253|      embedding_254|       embedding_255|       embedding_256|       embedding_257|       embedding_258|       embedding_259|       embedding_260|       embedding_261|       embedding_262|       embedding_263|       embedding_264|       embedding_265|       embedding_266|       embedding_267|       embedding_268|       embedding_269|       embedding_270|       embedding_271|       embedding_272|       embedding_273|       embedding_274|       embedding_275|       embedding_276|       embedding_277|       embedding_278|       embedding_279|       embedding_280|       embedding_281|       embedding_282|       embedding_283|       embedding_284|       embedding_285|       embedding_286|       embedding_287|       embedding_288|       embedding_289|      embedding_290|       embedding_291|       embedding_292|       embedding_293|       embedding_294|       embedding_295|       embedding_296|       embedding_297|       embedding_298|       embedding_299|       embedding_300|      embedding_301|       embedding_302|       embedding_303|       embedding_304|       embedding_305|       embedding_306|       embedding_307|       embedding_308|       embedding_309|       embedding_310|       embedding_311|       embedding_312|       embedding_313|       embedding_314|       embedding_315|       embedding_316|       embedding_317|       embedding_318|       embedding_319|       embedding_320|       embedding_321|       embedding_322|       embedding_323|       embedding_324|       embedding_325|       embedding_326|       embedding_327|       embedding_328|       embedding_329|       embedding_330|       embedding_331|       embedding_332|       embedding_333|       embedding_334|       embedding_335|       embedding_336|       embedding_337|       embedding_338|       embedding_339|       embedding_340|       embedding_341|       embedding_342|       embedding_343|       embedding_344|       embedding_345|       embedding_346|       embedding_347|       embedding_348|       embedding_349|       embedding_350|       embedding_351|       embedding_352|       embedding_353|       embedding_354|       embedding_355|       embedding_356|       embedding_357|       embedding_358|       embedding_359|       embedding_360|       embedding_361|       embedding_362|       embedding_363|       embedding_364|       embedding_365|       embedding_366|       embedding_367|       embedding_368|       embedding_369|      embedding_370|      embedding_371|       embedding_372|       embedding_373|       embedding_374|       embedding_375|       embedding_376|       embedding_377|       embedding_378|       embedding_379|       embedding_380|       embedding_381|       embedding_382|       embedding_383|       embedding_384|       embedding_385|       embedding_386|       embedding_387|       embedding_388|       embedding_389|       embedding_390|       embedding_391|       embedding_392|       embedding_393|       embedding_394|       embedding_395|       embedding_396|       embedding_397|       embedding_398|       embedding_399|       embedding_400|       embedding_401|       embedding_402|       embedding_403|       embedding_404|       embedding_405|       embedding_406|       embedding_407|       embedding_408|       embedding_409|       embedding_410|       embedding_411|       embedding_412|       embedding_413|       embedding_414|       embedding_415|       embedding_416|       embedding_417|       embedding_418|       embedding_419|       embedding_420|       embedding_421|       embedding_422|       embedding_423|       embedding_424|       embedding_425|       embedding_426|       embedding_427|       embedding_428|       embedding_429|       embedding_430|       embedding_431|       embedding_432|       embedding_433|       embedding_434|       embedding_435|       embedding_436|       embedding_437|       embedding_438|       embedding_439|       embedding_440|       embedding_441|       embedding_442|       embedding_443|       embedding_444|       embedding_445|       embedding_446|       embedding_447|       embedding_448|       embedding_449|       embedding_450|       embedding_451|       embedding_452|       embedding_453|       embedding_454|       embedding_455|       embedding_456|       embedding_457|       embedding_458|       embedding_459|       embedding_460|       embedding_461|       embedding_462|       embedding_463|       embedding_464|       embedding_465|       embedding_466|       embedding_467|       embedding_468|       embedding_469|       embedding_470|       embedding_471|       embedding_472|       embedding_473|       embedding_474|       embedding_475|       embedding_476|       embedding_477|       embedding_478|       embedding_479|       embedding_480|       embedding_481|       embedding_482|       embedding_483|       embedding_484|       embedding_485|       embedding_486|       embedding_487|       embedding_488|       embedding_489|       embedding_490|       embedding_491|       embedding_492|       embedding_493|       embedding_494|       embedding_495|       embedding_496|       embedding_497|       embedding_498|       embedding_499|       embedding_500|       embedding_501|       embedding_502|       embedding_503|       embedding_504|       embedding_505|       embedding_506|       embedding_507|       embedding_508|       embedding_509|       embedding_510|       embedding_511| id|\n",
            "+--------------------+--------------------+--------------------+--------------------+--------------------+--------------------+--------------------+--------------------+--------------------+--------------------+--------------------+--------------------+--------------------+--------------------+--------------------+-------------------+--------------------+--------------------+--------------------+--------------------+--------------------+--------------------+--------------------+--------------------+--------------------+--------------------+--------------------+--------------------+--------------------+--------------------+--------------------+--------------------+--------------------+--------------------+--------------------+--------------------+--------------------+--------------------+--------------------+--------------------+--------------------+--------------------+--------------------+--------------------+--------------------+--------------------+--------------------+--------------------+--------------------+--------------------+--------------------+--------------------+--------------------+--------------------+--------------------+--------------------+--------------------+--------------------+--------------------+--------------------+--------------------+--------------------+--------------------+--------------------+--------------------+--------------------+--------------------+--------------------+--------------------+--------------------+--------------------+--------------------+--------------------+--------------------+--------------------+--------------------+--------------------+--------------------+--------------------+--------------------+--------------------+--------------------+--------------------+--------------------+--------------------+--------------------+--------------------+--------------------+--------------------+--------------------+--------------------+--------------------+--------------------+--------------------+--------------------+--------------------+--------------------+--------------------+--------------------+--------------------+--------------------+--------------------+--------------------+--------------------+--------------------+--------------------+--------------------+--------------------+--------------------+--------------------+--------------------+--------------------+--------------------+--------------------+--------------------+--------------------+--------------------+--------------------+--------------------+--------------------+--------------------+--------------------+--------------------+--------------------+--------------------+--------------------+--------------------+--------------------+--------------------+--------------------+--------------------+--------------------+--------------------+--------------------+--------------------+--------------------+--------------------+--------------------+--------------------+--------------------+--------------------+--------------------+--------------------+--------------------+--------------------+--------------------+--------------------+--------------------+--------------------+--------------------+--------------------+--------------------+--------------------+--------------------+--------------------+--------------------+--------------------+--------------------+--------------------+--------------------+--------------------+--------------------+--------------------+--------------------+--------------------+--------------------+--------------------+--------------------+--------------------+--------------------+--------------------+--------------------+--------------------+--------------------+--------------------+--------------------+--------------------+--------------------+--------------------+--------------------+--------------------+--------------------+--------------------+--------------------+--------------------+--------------------+--------------------+--------------------+--------------------+--------------------+--------------------+--------------------+--------------------+--------------------+--------------------+--------------------+--------------------+--------------------+--------------------+--------------------+--------------------+--------------------+--------------------+--------------------+--------------------+--------------------+--------------------+--------------------+--------------------+--------------------+-------------------+--------------------+--------------------+--------------------+--------------------+--------------------+--------------------+--------------------+--------------------+--------------------+--------------------+--------------------+--------------------+--------------------+--------------------+--------------------+--------------------+--------------------+--------------------+--------------------+--------------------+-------------------+--------------------+--------------------+--------------------+--------------------+--------------------+--------------------+--------------------+--------------------+--------------------+--------------------+--------------------+--------------------+--------------------+--------------------+--------------------+--------------------+--------------------+--------------------+--------------------+--------------------+--------------------+--------------------+-------------------+--------------------+--------------------+--------------------+--------------------+--------------------+--------------------+--------------------+--------------------+--------------------+--------------------+--------------------+--------------------+--------------------+--------------------+--------------------+--------------------+--------------------+--------------------+--------------------+--------------------+--------------------+--------------------+--------------------+--------------------+--------------------+--------------------+--------------------+--------------------+--------------------+--------------------+--------------------+--------------------+--------------------+--------------------+--------------------+-------------------+--------------------+--------------------+--------------------+--------------------+--------------------+--------------------+--------------------+--------------------+--------------------+--------------------+-------------------+--------------------+--------------------+--------------------+--------------------+--------------------+--------------------+--------------------+--------------------+--------------------+--------------------+--------------------+--------------------+--------------------+--------------------+--------------------+--------------------+--------------------+--------------------+--------------------+--------------------+--------------------+--------------------+--------------------+--------------------+--------------------+--------------------+--------------------+--------------------+--------------------+--------------------+--------------------+--------------------+--------------------+--------------------+--------------------+--------------------+--------------------+--------------------+--------------------+--------------------+--------------------+--------------------+--------------------+--------------------+--------------------+--------------------+--------------------+--------------------+--------------------+--------------------+--------------------+--------------------+--------------------+--------------------+--------------------+--------------------+--------------------+--------------------+--------------------+--------------------+--------------------+--------------------+--------------------+--------------------+--------------------+--------------------+--------------------+--------------------+-------------------+-------------------+--------------------+--------------------+--------------------+--------------------+--------------------+--------------------+--------------------+--------------------+--------------------+--------------------+--------------------+--------------------+--------------------+--------------------+--------------------+--------------------+--------------------+--------------------+--------------------+--------------------+--------------------+--------------------+--------------------+--------------------+--------------------+--------------------+--------------------+--------------------+--------------------+--------------------+--------------------+--------------------+--------------------+--------------------+--------------------+--------------------+--------------------+--------------------+--------------------+--------------------+--------------------+--------------------+--------------------+--------------------+--------------------+--------------------+--------------------+--------------------+--------------------+--------------------+--------------------+--------------------+--------------------+--------------------+--------------------+--------------------+--------------------+--------------------+--------------------+--------------------+--------------------+--------------------+--------------------+--------------------+--------------------+--------------------+--------------------+--------------------+--------------------+--------------------+--------------------+--------------------+--------------------+--------------------+--------------------+--------------------+--------------------+--------------------+--------------------+--------------------+--------------------+--------------------+--------------------+--------------------+--------------------+--------------------+--------------------+--------------------+--------------------+--------------------+--------------------+--------------------+--------------------+--------------------+--------------------+--------------------+--------------------+--------------------+--------------------+--------------------+--------------------+--------------------+--------------------+--------------------+--------------------+--------------------+--------------------+--------------------+--------------------+--------------------+--------------------+--------------------+--------------------+--------------------+--------------------+--------------------+--------------------+--------------------+--------------------+--------------------+--------------------+--------------------+--------------------+--------------------+--------------------+--------------------+--------------------+--------------------+--------------------+--------------------+--------------------+--------------------+--------------------+--------------------+--------------------+--------------------+--------------------+--------------------+--------------------+--------------------+---+\n",
            "|0.037482116371393204|0.030425189062952995|-0.01366721652448...|-0.00152527913451...|0.007516968995332718|-0.03558835759758949|0.021474501118063927|  0.0818961039185524|  0.0491662472486496|-0.05770602449774742| 0.04201998934149742| 0.04255595803260803| -0.0586707666516304|0.031104082241654396|0.022832291200757027|0.06453070044517517| 0.10433535277843475|-0.03748211637139...|-0.08775603026151657| 0.06442350149154663|-0.05638396739959717| 0.05842065066099167|-0.02669126912951...|-0.07710810750722885|0.026262493804097176| 0.03805381804704666|-0.04809430986642...|0.032551199197769165|0.055633608251810074|-0.01589148864150...|0.003608859609812498|-0.02358264662325...|0.018508804962038994|-0.02608383819460869|0.044163867831230164|-0.07074794173240662|-0.02156382985413...| 0.10948065668344498|-0.03380179405212402| 0.02860289253294468| 0.03126487508416176|-0.05749163776636124|0.013953066430985928| -0.0593496635556221| 0.02681632898747921| 0.03698188066482544|0.014006663113832474| 0.02545854076743126|-0.02981775626540184|0.021867545321583748|-0.03439136222004...|-0.01866959594190...|-0.05449020862579346| 0.04473556578159332|-0.02956763841211...|-0.02876368351280...|-0.04212718456983566|-0.04227010905742645|0.023457588627934456|-0.02020604163408...|-0.02163529209792614|-0.02086707018315792|-0.02553000301122...|-0.01444437168538...|-0.03124700859189...|-0.03439136222004...|0.019491415470838547|-0.01988445967435...|0.006007322110235691|-0.05298949405550957| 0.06142207607626915|0.051238659769296646| 0.03035372495651245|-0.02683419361710...|-0.07482130825519562|-0.00211037904955...|0.006775544956326485|-0.08253926783800125|0.008392385207116604|0.031247008591890335|-0.02029536850750...| 0.07253450900316238|-0.02306454442441...|-0.03590993955731392|-0.05002379789948...|-0.00136002199724...|-0.02611956931650...|0.007079260423779488|-0.00818693079054...|-0.01441757287830...|0.023403991013765335|0.012514881789684296|0.024243677034974098| -0.0248868390917778|-0.05531202629208565|0.005600878968834877|-0.02803119271993637|-0.03973318636417389|-0.03376606479287...|0.009089145809412003|-0.03297997638583183|-0.00762862898409...|5.496476660482585E-4| 0.01145187672227621|-0.06499520689249039|-0.00788768101483...|-0.11076697707176208|-0.00524356588721...| 0.00961171556264162|-0.02720937319099903|-0.10061929374933243| 0.07560739666223526|0.032301079481840134| 0.06949734687805176| -0.0355168953537941| -0.0334087498486042| 0.03548116609454155|0.017928171902894974|-0.00991543103009...| 0.06295852363109589| 0.02333252876996994| 0.05681274086236954|-0.02286802232265...|-0.02326106652617...|-0.00452894018962...|-0.01322057470679...|-0.03467721119523...|-0.04359216615557...| 0.00509617431089282|0.007052462082356...| 0.05223913863301277|0.028138386085629463| 0.08346828073263168|-0.03026439808309...|-0.01184492092579...| 0.01785670965909958| 0.04273461550474167|0.010987370274960995|-0.03539183735847473|-0.13056211173534393|-0.04652213305234909|-0.04284181073307991|-0.02192114293575287|8.318689651787281E-5|0.025351345539093018|0.014533699490129948|-0.01934849098324...|-0.00904001481831...|-0.03816100955009...| 0.07660787552595139|-0.05334680527448654|-0.06585275381803513| 0.07432106882333755| 0.01815149188041687| -0.0981895700097084|-0.01627559959888...| 0.07024770230054855|0.047129563987255096|-0.04923770949244499|-0.03373033180832863|-0.06260120868682861|0.006092183757573366|-0.00470313010737...|7.665476878173649E-4| 0.12262976914644241|0.008218195289373398| 0.06320863962173462|-0.07875175029039383|-0.09368743002414703|-0.03655310347676277|0.004022002685815096|-0.04627201333642006|0.006360168568789959| 0.02395782619714737|0.027120044454932213|0.025887316092848778|-0.07675080001354218| 0.01449796836823225|-0.03087182901799...|-0.10998088866472244|0.001098737004213035|-0.04437825456261635|  0.0676393210887909|-0.03733919188380...|-0.05316815152764...|-0.03598140180110...| 0.02904953435063362|0.012586344964802265|0.010353139601647854|0.010835511609911919|0.011434011161327362| 0.03601713478565216|-0.03676749020814...|-0.00527929700911...|-0.03657096996903...|-0.09061453491449356|0.027262968942523003| 0.07489277422428131|0.009701043367385864|  0.0873987227678299|-0.04294900223612785| 0.08375412970781326| 0.01970580220222473| 0.01659718155860901|-0.04652213305234909|-0.00164810544811...|-0.01669544167816639|-0.02368984185159...|-0.06942588835954666|-0.03633871674537659|0.05591946095228195|-0.00715965591371...| -0.0402691587805748|0.001540911616757512|-0.00367808900773...|-0.00298132910393...|0.011657331138849258|-0.01817829161882...| 0.01751726120710373| 0.05681274086236954|-0.07010477781295776|0.025726525112986565|-0.05609811469912529|0.016418524086475372|-0.05449020862579346| 0.06045733392238617| 0.06903284043073654| 0.04041208326816559|0.007557166740298271| -0.0628155991435051| 0.03349807858467102|0.01389053650200367|-0.07221292704343796|0.005623210687190294|  -0.057991873472929|  0.0600285567343235|2.266703377244994E-4|-0.03694614768028259|-0.03916148841381073|-0.00941519346088171|-0.07106952369213104|-3.55637923348695...|0.011684129945933819| 0.07042635977268219|0.014194252900779247|1.570222375448793...|-0.02937111631035...|-0.03783943131566048|  0.0470581017434597|-0.02360051311552...| 0.03930441290140152|-0.03296210989356041| -0.0505240373313427| 0.04180560261011124|0.03196163475513458|0.051238659769296646|0.006132381502538...|0.003617792390286...|-0.02109932340681553|-0.03258693218231201|-0.06038587167859...|-0.00303939240984...|-0.01698129251599312|-0.00131200812757...|-0.02669126912951...|0.050452571362257004| 0.03894709795713425|-0.05470459535717964|0.023100275546312332| 0.04287753999233246|-0.00376295088790...| 0.06860406696796417| 0.03244400769472122| 0.09911858290433884|-0.03919721767306328| 0.05202474817633629|-0.00727131636813283| 0.06563837081193924| 0.02075987681746483|  0.0737493708729744|-0.06599567830562592|-0.04001903906464577|0.009879699908196926|0.025351345539093018|0.015462713316082954|0.029371116310358047| 0.03844686225056648| 0.06453070044517517|0.003653523745015...|-0.00453117350116...|0.02197474054992199|-0.01999165304005146|-0.02027750387787819|-0.01548057887703...|-0.04941636696457863|-0.02681632898747921|-0.09776079654693604| 0.04016196355223656|-0.01950928196310997|-0.05613384768366814| 0.01761552318930626|0.06142207607626915|-0.06470935791730881| 0.05102427303791046| 0.04652213305234909| 0.08625531941652298| 0.03131847083568573|-0.03453428670763...|-0.03666029870510101|-0.01402452867478...|0.002072414383292198| 0.03639231249690056|-0.04988087341189...|-0.00454457290470...|-0.02626249380409...|-0.04634347558021...|0.020920665934681892| 0.05223913863301277|-0.04380655288696289|-0.04709383100271225| 0.06628153473138809| 0.03414124250411987|-0.02379703521728...| -0.0859694704413414|0.014274648390710354|-0.03555262833833...| -0.0805383175611496|-0.05102427303791046|-0.04184133186936...|-0.03589207306504...|-0.02233205176889...| 0.00803507212549448|-0.00240739528089...|-0.05159597471356392|0.014783819206058979|-0.00857550837099...| 0.02604810521006584|-0.04898758977651596| 0.02608383819460869|0.010737250559031963|-0.02268936485052...|-0.03719626739621...|-0.02544067427515...|-0.01571283303201...|0.046486400067806244|-0.06006428971886635|0.021760351955890656| 0.01940208673477173|0.002789273392409...|-0.00175083288922...| 0.00900428369641304|0.050559766590595245|-0.02015244401991...|-0.01720461249351...|0.018419476225972176|-0.01834801398217678|0.062029510736465454|-0.05263218283653259|0.058063335716724396| 0.01766912080347538|0.017445798963308334| 0.11476888507604599|-0.02126011438667...|-0.02785253524780...|0.007181988097727299| 0.05334680527448654|-0.03934014216065407|0.022546440362930298|-0.00382324727252...|-0.03783943131566048|0.02812051959335804| 0.0689971074461937| 0.03058597818017006|-0.01716888137161...|-0.05341827124357...|0.033515945076942444| 0.02134944126009941| 0.06989039480686188|-0.02956763841211...|-0.02885301224887371|0.044842761009931564|0.048773203045129776|0.027798939496278763| 0.09733201563358307| 0.08825626969337463|2.745446690823883E-4|-0.02308240905404091|0.009915431030094624| 0.06388753652572632|-0.03201523050665...| 0.04816577211022377|-0.07271316647529602|-0.00189264141954...|-0.04573604464530945|-0.01475702039897...|-0.01218436751514...|0.046879444271326065| 0.03616005927324295|0.020402563735842705| 0.07532154768705368|-0.00816013198345...| 0.06099330261349678| -0.0647808164358139|  0.0478084571659565|0.026637671515345573|-8.88257403858006E-4|-0.02463672123849392| 0.07682225853204727|-0.06470935791730881|-0.04537872970104...|-0.03042518906295...|0.028835145756602287|0.003340875031426549| 0.03987611457705498|0.026691269129514694| 0.12184368073940277| 0.04084085673093796|0.003532930742949...|-0.05109573528170...|  0.0716412216424942|-0.05088134855031967|-0.03524891287088394|-0.00914274249225...| -0.0368032231926918|-0.01925916224718094| 0.04952355846762657| 0.04384228587150574| -0.1023343950510025|-0.09082892537117004|0.007597364485263...|-0.00738744297996...|-0.02749522216618061| 0.09811810404062271|  0.0348380021750927|-0.08068124204874039|-0.00250342302024...|-0.06538824737071991|-0.00541775580495...|-0.00313542014919...| 0.04873747006058693|-0.00896855257451...| 0.05649115890264511|0.009665312245488167|-0.02456525713205...|0.007012264337390661|-0.01150547340512...|  0.0545974001288414|0.010933772660791874|-0.06260120868682861|-0.06077891588211...|0.014435438439249992|0.023546915501356125|-0.08718433231115341| 0.03267626091837883|-0.02368984185159...| 0.06503093987703323|-0.00334534142166...|0.042770348489284515|-0.00965637993067503|0.010692587122321129| 0.04427105933427811|-0.06671030819416046|0.062315359711647034|-0.02987135387957096|-0.06974746286869049|0.009602782316505909|0.025083361193537712|0.001069147023372...| 0.09197232872247696|-0.04041208326816559|-0.02302881330251...|-0.04520007595419884|0.012845396995544434|0.027030715718865395| 0.04269888252019882|0.023922095075249672|-0.00400190381333...|-0.01368508208543...|-0.05984989926218...|-0.06277986615896225|0.001922789728268981|-0.00893282145261...|-0.03594567254185...|-0.03162218630313873|-0.01263994164764...|0.008664836175739765|-0.02812051959335804| 0.08418290317058563|-0.04427105933427811|-0.04087658971548...| 0.02347545325756073|-0.01900904253125...|-0.00296569662168622|-0.01781204529106617|-3.17115132929757...|-0.03022866696119...|-0.03585634380578995|-0.04602189362049103| 0.11019527912139893|-0.03113981336355...| 0.03653523698449135|0.030746769160032272| 0.03297997638583183|-0.08961406350135803| 0.02274296246469021| 0.05359692499041557|  0.0613863468170166| 0.02304667793214321| 0.00336990668438375|0.022832291200757027|0.015266191214323044| 0.04423533007502556|  0|\n",
            "|0.035387322306632996|0.013333739712834358|0.022400682792067528|-0.01416339445859...| -0.0888577327132225|-0.03647095337510109|0.004423415288329...| 0.01598355546593666|0.040128208696842194| 0.07287418097257614|-0.01098022889345...|0.035150278359651566|-0.00739916739985...|-0.00753038842231...|0.047882940620183945| -0.081746406853199|-0.01661849580705166| -0.0339311920106411|-0.07957914471626282|  0.1306452602148056|0.003885832848027...| 0.07375463098287582|-0.02588861994445324|-0.03081575408577919|-0.02456794492900...| 0.04022979736328125|0.020335011184215546|  0.0696910172700882| 0.04473363980650902|-0.03548891097307205|-0.02614259533584118|-0.06390035897493362|-0.03647095337510109|-0.04229547083377838|-0.02478805743157...|-0.01420572400093...|-0.01667775772511959|-0.00464776065200...|0.042261604219675064|-0.04253251478075981|0.028513038530945778|0.013782430440187454|-0.02643043547868...|-0.00147729367017...|0.008084902539849281|0.005071054212749004|0.006074259057641029|0.041279565542936325| 0.04266796633601189|-0.00334825017489...|-0.00898228399455...| 0.05221746489405632|-0.07300963252782822| 0.04327750951051712|-0.08066277951002121| 0.10843081772327423|-0.01811695471405983|-0.01945456117391...|7.820344180800021E-4|-0.02050432935357...|-0.08276230841875076|-0.04886498302221298| 0.03381267189979553|-0.06346013396978378|0.021096939221024513|0.005435086321085...|-0.01214005239307...|-0.01171675976365...|-0.08973818272352219|0.006683801766484976|  0.0348455086350441| -0.0414150208234787|-0.04144888371229172|-0.01483219861984253|0.004139808937907219|-0.01735502667725...|-0.05607790127396...| 0.03335551545023918| 0.03806253522634506|0.025262145325541496|-0.02448328584432602|0.012021530419588089|-0.08106914162635803|0.002211707644164...|0.006590676959604025|-0.00137993623502...|-0.07131645828485489| -0.0658644437789917|-0.03972184658050537|0.029342694208025932| 0.05435086414217949|-0.04957611486315727|  0.0925149917602539|-0.03819799050688...|-0.04178751632571...|-0.07002964615821838|-0.04937293380498886|-0.01663542725145...|0.039654120802879333|0.041042521595954895| 0.04822157695889473|0.014722142368555069|-0.01749048009514...|-0.02692145481705...|0.008821433410048485|-0.05116769671440...|-0.02109693922102...|-0.04632522165775299|-0.02627805061638...| 0.06820102035999298|-0.03680958971381...|-0.03924775868654251|0.005883777048438...|-0.06159764528274536|-0.01347765978425...|-0.01665235869586...| 0.08567456901073456| 0.02048739790916443|0.048560209572315216|0.006552580744028091|-0.04872952774167061| 0.03498096019029617|0.020859895274043083|-0.13050979375839233| 0.01000665407627821|-0.02031807973980...|-0.05594244599342346|0.010032052174210548| 0.03381267189979553| 0.04497068375349045| 0.05787266418337822|0.005350427702069...|0.018878882750868797|-0.00259267166256...|-0.04310819134116173|0.005426620598882437|-0.01835399866104126|-0.02705691009759903|0.020114898681640625|-0.02786963246762...|0.036098454147577286|-0.03938321024179...| 0.02441556006669998|-0.04202456027269...|-0.01908206380903721|0.040331389755010605|-0.07077464461326599|8.741007186472416E-4|-0.05800811946392059|-0.00605732761323452|-0.12001212686300278|-0.04405637085437775|-0.06369718164205551|-0.03211949765682...|0.011699827387928963|-0.05733084678649902|-0.00443611387163...| 0.03462539613246918|-0.02074137330055...|-0.03345710411667824|-0.04300660267472267|0.001135484315454...|-0.09000909328460693|  0.0375884473323822|-0.01776138879358...|0.013113627210259438| 0.04683317244052887|-0.01328294444829...|-0.10043904185295105| 0.00288474396802485|-0.01947149261832...|-0.04876339063048363|-0.06935238093137741| 0.04588499665260315| 0.06325695663690567|0.001463536638766...|0.010624662972986698|-0.06122514605522156| 0.03379574045538902|0.030392460525035858|-0.03718208521604538|-0.02979985065758...| 0.05621335282921791|-0.02979985065758...|-0.02893633209168911|-0.02841144800186...| 0.02871621958911419| 0.06305377185344696|-0.02021648921072483|-0.02570237033069...|0.042464785277843475| 0.07341599464416504|-0.03572595864534378|-0.01188607700169...|-0.02096148580312729|-0.00653988216072...|0.012478687800467014|-0.03061257302761078|0.005435086321085...|-0.01491685677319...| 0.06776079535484314|-0.03687731549143791|0.007060532923787832| 0.02043660171329975|-0.08892546594142914|-0.02876701392233...|-0.02157102897763...| 0.01342686451971531|-4.55834000604227...|-0.02907178550958...|0.07747960835695267|0.021063076332211494|0.002654049079865217|-0.01170829311013...|-0.00113865907769...|0.001075165113434...|-0.05797425284981...|0.013266013003885746|0.002709077205508...|0.008249986916780472|-0.01115801185369...|0.009117738343775272|0.017829114571213722|0.015949692577123642|-0.01835399866104126|0.019115926697850227|-0.00135559693444...|-0.02802201919257641| 0.04751044511795044|   0.011174944229424|-0.00637056445702...|0.06322309374809265|-0.01718570850789547|-0.06894601881504059|-0.03416823595762253| 0.02732781693339348| 0.03579368442296982|-0.02604100480675...|-0.02627805061638...|-0.01589889824390...|-0.00678962515667...|9.106097859330475E-4| 0.06318923085927963| 0.09766224026679993|-0.04012820869684...| -0.0644083097577095|-0.03340630978345871|-0.02978291921317...|0.014197258278727531|-0.05868538841605...|0.021943526342511177| 0.05384290963411331| 0.08601320534944534|-0.02858076617121...|0.06688034534454346| 0.09393725544214249|-0.10612810403108597|0.001948207500390...|-0.00198101275600...|-0.04388705268502...|0.014510495588183403|-0.02876701392233...|0.016940198838710785| 0.03647095337510109| 0.03132370486855507|0.003424443071708083| 0.05008406564593315| 0.01047227717936039| 0.03061257302761078|0.013951747678220272| 0.07030055671930313|-0.01266493648290...|0.011361192911863327|0.016880938783288002|-0.07002964615821838| 0.11066580563783646| 0.07524462044239044|-0.00236409320496...| 0.04348069056868553|-0.04073774814605713|-0.02541453205049038|-0.07185827195644379|-0.00699703861027956|0.018692633137106895|-0.04202456027269...|-0.07165509462356567| 0.04185524582862854| 0.08784183114767075|0.007822460494935513|-0.08235595375299454|0.04019593447446823| 0.04320978373289108|-0.05753402784466...|0.028360653668642044| 0.03337244689464569|-0.00578218698501...|0.003132370533421...|   0.068234883248806|0.007179054897278547|-0.07091009616851807|-0.04205842688679695|0.08269458264112473|0.057263121008872986|-0.01476447097957...| 0.02184193581342697|0.014874527230858803|0.014552824199199677|-0.02494044229388237|-0.01588196493685...|-0.02529601007699...|0.037249814718961716| 0.01375703327357769|-0.01274959463626...|-0.03999275341629982|0.027920428663492203| 0.02094455435872078|-0.01284271944314...|-0.02595634758472...|-0.02016569487750...|-0.03012155368924141|-0.05394450202584267|-0.04192297160625458|-0.00329322204925...|-0.03962025418877...|-0.00686581758782...|-0.04957611486315727|-0.01840479485690...|-0.05303018912672...|-0.03833344206213951| 0.04449659585952759|-0.02722622640430...|0.012783458456397057| 0.12360165268182755|-0.07212918251752853|-0.01054846961051...| 0.07307735830545425|-0.03724981471896...|0.012267041020095348|-0.01114108040928...| 0.03362642228603363| 0.01469674427062273|-0.01524702552706...|-0.05401222780346...|  0.0799177810549736|0.020267285406589508|  0.0498131588101387|  0.0810014083981514|0.012791924178600311| 0.03802867233753204|  0.1253625452518463| -0.0414150208234787| 0.04659612849354744| 0.08289776742458344|0.002452984917908907|  0.0479845330119133|2.308271505171433E-4| 0.09881359338760376|-0.04002661630511284|0.043582282960414886|0.002785270102322...|-0.03249199688434601| 0.06180082634091377|-0.02675213851034...| -0.0144597003236413| 0.00405515031889081|0.050659745931625366| 0.01329987682402134| 0.06826874613761902|-0.09319225698709488|-0.05621335282921791|-0.0399588905274868|0.09549497812986374|-0.01575497724115...|0.051641784608364105|-0.11581305414438248| 0.06159764528274536| 0.04236319661140442| 0.02143557369709015|0.017575139179825783|-0.01269033364951...| 0.04304046556353569|-0.02729395404458046|-0.01818468235433...|-2.18789733480662...|-0.03284756094217...| 0.00705206673592329| -0.0343036912381649|-0.05506199598312378|-0.02991837263107...|0.005121849477291107|0.025042032822966576|-0.03555664047598839|0.030003031715750694|-0.02786963246762...|-0.04067002236843109|-0.02187579870223999| 0.05157405883073807|-9.38123848754912...|0.023806016892194748| -0.0046519935131073|-0.03144222870469093|-0.05414768308401108|-0.11208807677030563| 0.06501785665750504|-0.03809639811515808|-0.01358771603554...| 0.01815081760287285| 0.10172585397958755|  0.0441579595208168|-0.02641350403428...|-0.03843503445386...|-0.12549801170825958| 0.05645039677619934| 0.08777410537004471|-0.02250227332115...|-0.00858015567064...|-0.02070751041173935|0.041313428431749344|0.001775715500116...|-0.09156681597232819| 0.03167927265167236|0.028580766171216965|-0.02355204150080681|-0.02516055479645729|-0.07361917942762375|-0.02488964796066...|-0.06278286874294281|0.030697232112288475|0.002738707931712...|-0.03779162839055061|0.054486315697431564|0.009016147814691067|0.002601137617602...| 0.06027697026729584|0.004120760597288...| 0.05787266418337822|-0.00788595434278...|  0.1133071556687355|0.025211350992321968|0.010793980211019516|-0.00448267627507...|-0.02881781011819...|-0.02306102029979229|-0.01636452041566372|-0.02397533506155014| 0.02446635439991951|-0.03369414806365967|  0.0664062574505806|-0.04510613530874252| 0.05617948994040489|-0.03386346623301506|0.021587960422039032|0.003619157942011...| 0.07422871887683868|-0.03327085450291...| 0.00564250024035573|0.024297036230564117| 0.05208200961351395|0.010641594417393208|-0.01031989138573...|-0.00611658859997...|-0.00815262924879...|-0.00520650809630...|-0.08052732050418854|-0.03337244689464569|-0.01376549899578...|-0.00416520657017827|0.006256275344640...| 0.05536676570773125|0.010760116390883923|-0.03015541657805...|-0.02080910094082...|-0.02052126079797...|-0.06176696345210...| 0.03508255258202553| 0.05238678306341171|  0.0757187083363533| 0.06525489687919617| 0.01224164292216301|4.031868884339928...|-0.04916975274682045| 0.06044628843665123|-0.03708049654960632|0.005621335469186306|-0.01799843274056...|  0.0726032704114914|0.052827008068561554| 0.05878697708249092| -0.0176090020686388|-0.03931548446416855|-0.02316261082887...|-0.00899921637028...|-0.01609361171722412|-0.01389248669147...| 0.05661971494555473|0.007962147705256939|-0.02700611390173...|-0.03552277758717537|-0.05431700125336647| 0.06684648245573044|2.497430541552603E-4|0.028157472610473633| 0.04730726405978203| 0.03487937152385712| 0.04534318298101425| 0.02961360104382038|0.028089744970202446|-0.00662030745297...|-0.05773720890283...| 0.04260024055838585|-0.01573804579675...|0.005104917567223...|  1|\n",
            "| 0.03585880994796753|-0.05905061215162277|0.011400307528674603| 0.04865621402859688|-0.04645811766386032|-0.04563848674297333|-0.00804261863231659|0.032915595918893814|0.010673817247152328|-0.05059352144598961|-0.03341854736208916|0.011456191539764404|-0.02879881672561...|-0.00525774015113...|0.010264002718031406|0.02682425267994404| 0.04630909115076065|-0.04958761110901...|-0.04534044116735...| 0.04910328611731529|-0.04396197199821472|-0.00465000281110...|-0.06352132558822632|-0.07823740690946579| 0.11832476407289505|-0.02041623741388321|0.010459596291184425|-0.00654306868091...| 0.08091983199119568|-0.03058709949254...|-0.05122687295079231|-0.03576567023992...|-0.01682104170322...|-0.09537512063980103|0.031108682975172997|-0.05234454944729805|-0.02063977345824...|-0.00573275284841...|  -0.016336714848876|0.019820142537355423|-0.02324768714606762| 0.04366392269730568|0.035188205540180206|-0.03671569749712944|0.026041878387331963|0.042322710156440735| 0.05588386207818985|0.008820336312055588|-0.00809850264340...| 0.09492804855108261| 0.03129496052861214|0.028482140973210335|-0.04984840378165245|-0.06367034465074539|0.004072536248713732| 0.01366360392421484|9.452231461182237E-5|0.012508670799434185|-0.00911372620612...|-0.01348663866519928|-0.00662689469754...|-0.06240364536643028| 0.08047275990247726|-0.07235097140073776|-0.04139131307601929|0.025855598971247673|-0.08896710723638535| 0.03401464223861694| 0.02131037972867489|-0.04899151995778084| 0.08561407774686813|6.950555252842605E-4|-0.02941353805363...|-0.01506070047616...|0.051748454570770264|0.003960768692195...| 0.04209917411208153|-0.03468525037169...| 0.07957861572504044|-0.02164568193256855|0.015228352509438992|0.001112438156269...|-0.04273252561688423| 0.03993833437561989|0.023881036788225174|-0.01063656155019...|0.015852387994527817|-0.05413283407688141|0.006682778242975473|-0.01543325930833...| 0.08822198957204819|-3.92351270420476...| -0.0603545717895031|-0.02062114514410...|7.008767570368946E-4|-0.01625289022922516| 0.06117419898509979|-0.06802928447723389|-0.04235996678471565| 0.05975847691297531|7.998377550393343E-4|-0.00794947892427...|-0.04303057491779...| 0.03926772624254227|-0.08524151891469955|-0.06799203157424927| 0.03388424962759018|-0.00291061773896...|0.022279033437371254|  0.0168582983314991|-0.06065261736512184|-0.02419771254062...|0.019745631143450737| 0.01790146343410015|0.016904868185520172|-0.03982656449079...|-0.01805980131030...|0.056517209857702255|-0.01207091379910...| -0.0397520549595356| 0.03323226794600487| 0.03543036803603172| -0.0507798008620739| -0.0759647935628891| -0.0674331933259964|-0.02198098599910736|-0.06448997557163239|0.030084144324064255|-0.06013103574514389|-0.02224177680909...| 0.03466662019491196|-0.08665724098682404| 0.10312435030937195| -0.0776413083076477|-0.07853545248508453|0.010683131404221058|-0.03086651861667633|0.047613050788640976|0.026358554139733315|-0.00498763471841...| 0.07853545248508453|-0.07779033482074738|-0.08099434524774551|0.012322391383349895|-0.04064619541168213|0.001904708216898...|-4.56603156635537...|0.050668034702539444|0.045489463955163956|0.006692092400044203|-0.01239690277725...| 0.03410778194665909|-0.01349595282226801| 0.03548625111579895|-0.02449575997889042|-0.03708825632929802| 0.06594295799732208|-0.02484969049692154|-0.06359583139419556|-0.00548127526417...|-0.02516636624932289|-0.01830196380615...| 0.04999742656946182| 0.02874293178319931| 0.05215827003121376| 0.08986125141382217|-0.03805691003799...| 0.03923046961426735|-0.09172404557466507|-0.06650179624557495|  0.0765981450676918|-0.02231628820300...|-0.01622494682669...|0.061807550489902496| 0.02557617984712124|-0.02127312310039997|-0.01182875037193...|0.028109582141041756|0.017435764893889427|-0.01955935172736...|0.005001605488359928|0.014036162756383419| 0.05711330473423004|0.016280831769108772|-0.14626669883728027|0.005374164786189...|-0.01399890705943...| 0.08926515281200409|-0.03231950104236603| 0.09619475156068802|0.009313976392149925|-0.02063977345824...| 0.03878340125083923| 0.03174203261733055|-0.01251798495650...|3.029953222721815E-4|-0.00639404496178031|0.036641184240579605|-0.04429727420210838|0.026488950476050377|-0.00275460863485...|0.007902909070253372| 0.03500192612409592|-0.01109294686466...|0.002407663036137...|2.928081376012414...|-0.14850205183029175| 0.03153712674975395|-0.07644911855459213| -0.0874023586511612|0.04697969928383827|-0.01781763695180416|-0.04202466458082199| 0.03235675394535065|0.005788636393845081| -0.0149861890822649| 0.08002568781375885| 0.02252119593322277|-0.01348663866519928|  0.0478738397359848|-0.05271710827946663| 0.03570978716015816|0.020714284852147102| 0.01455774623900652|-0.04884249344468117|-0.00359519501216...| 0.00430771429091692|-0.07290980964899063|-0.04001284390687...|0.012955741956830025| -0.0262281596660614|0.02628404274582863|0.006137910764664...|0.008671312592923641|-0.01510727033019...| 0.06657630950212479|-0.03703237324953079|0.017119089141488075|0.029748842120170593|-0.03734904900193...|0.021589798852801323|0.043887458741664886|-0.05636818706989288| 0.08181397616863251|-0.08278262615203857|-0.00596094503998...|-0.04254624620079994|-0.07965312898159027| 0.06020554527640343| 0.04235996678471565|0.029208632186055183| 0.06564491242170334| 0.04634634777903557| 0.02447713166475296|0.07484711706638336|-3.16347759508062...| -0.0306988675147295|-0.01044096797704...|-0.06635276973247528| 0.01648573949933052|0.004982977639883757|-4.86655277200043...|-0.06937050074338913|-0.00591437518596...| 0.03105279803276062|-0.00267311139032...|-0.00397939654067...|0.028239978477358818|-0.01918679289519787|0.029413538053631783|0.001241087447851...|-0.02151528745889...|-0.01610386557877...| 0.06694886833429337|0.030046889558434486| 0.04846993461251259|-0.05629367753863335|-0.01942895539104...| 0.06739593297243118|0.002708038780838251|-0.04321685433387...|-0.09246916323900223| 0.01116745825856924|-0.08308067172765732| 0.04452081024646759| 0.00843846332281828|0.003308790270239...|0.013514580205082893|-0.00453590694814...| 0.00420991750434041|0.04314234107732773|0.012015029788017273|-0.02810958214104...|0.032878339290618896|-3.51311551639810...|-0.01460431609302...| -0.0647135078907013|0.028966467827558517| 0.03231950104236603|-0.05323868989944458|-0.02755074389278...|0.01952209509909153| 0.01954072341322899|-0.06728416681289673|-0.02879881672561...|0.056479956954717636|0.010645875707268715|-0.12853288650512695| -0.0472404919564724|-0.01618769206106...|-0.01529354974627...|0.020826052874326706| -0.0761883333325386|-7.56032968638464...|-0.01681172847747...| -0.0322636142373085|-0.00670606316998601|-0.02255845256149769|-0.02814683876931...|-0.04571299999952316| 0.05852903053164482|-0.01285328809171915| 0.07935508340597153|0.010245374403893948|0.026544833555817604|-0.04366392269730568|-0.07779033482074738|0.018935315310955048|-0.00860145781189...|0.014930305071175098|-0.01398959290236...| 0.00934657547622919|0.001113020232878...|0.008461748249828815|-0.02524087764322...|0.010347828269004822|-0.04973663762211...|-0.02352710627019...|0.021608427166938782| 0.06899794191122055|-0.06504881381988525|-0.07875898480415344|-0.07227645814418793| 0.07667265832424164|-0.00722298910841...|0.045340441167354584| 0.05398381128907204|0.015125898644328117| 0.01656956411898136| 0.07518242299556732|-0.02879881672561...| 0.07104701548814774|0.008578172884881496|-0.00481532607227...|-0.02078879624605179|0.019950538873672485|0.047091465443372726|-0.03060572780668...|-0.04090698808431...|-0.00272433832287...|0.006915627978742123|0.007274216040968895|-0.01950346678495407| 0.01931718736886978|  0.0306988675147295|0.015992097556591034| 0.03217047452926636|0.031816545873880386| 0.01800391636788845|-0.03597057983279228|0.07756680250167847|0.03923046961426735|4.985888372175395E-4|-0.01525629404932...|-0.02850076928734...| 0.02339670993387699|0.027215439826250076|0.006883028894662857|-0.04429727420210838|-0.02943216636776924|-0.03790788725018501| 0.10066546499729156| 0.03833632916212082|0.034163668751716614|0.027550743892788887|0.020881935954093933|-0.03014002926647663|0.019428955391049385|-5.25075418408960...|0.003050327533856...|-0.02954393438994...|-0.06005652248859...|-0.02188784629106...|-0.04235996678471565|0.015405317768454552|-0.02984198182821...|-0.01504207216203...|-2.26737131015397...|-0.02671248652040...|0.011335110291838646|0.024383991956710815|-0.04727774485945...|-0.03028905205428...|-0.02887332811951...|-0.06009377911686897|-0.00802864786237...|0.009057842195034027|-0.01775244064629078|0.034312691539525986|  -0.069109708070755|-0.02870567701756...|-0.05927414819598198|-0.01179149467498064|0.051748454570770264|-0.09664182364940643| 0.11184223741292953|0.017780382186174393|0.034498970955610275|-0.02244668453931...|-0.03826181590557...|-0.08181397616863251| 0.03543036803603172|-0.06508606672286987|-0.00167418736964...|-0.02158979885280...|-0.00116017227992...| 0.01047822367399931|-0.05092882364988327|-0.09507707506418228| 0.01573130674660206|0.020155446603894234|0.011549331247806549| 0.02358298934996128| 0.02786741964519024|-0.06214285269379616|-0.00174171372782439|-0.05305241048336029| 0.05413283407688141|-0.00233780825510...|-0.02540852874517...|-0.01370085962116...|-0.01534943375736475|-0.01542394608259201|0.040683452039957047|-0.06814105808734894|-0.07860996574163437| 0.04832091182470322|0.021925101056694984|0.006016829051077366|0.014138616621494293|-0.02982335351407528|-0.01662544906139...|-0.01537737622857...|0.046197324991226196| 0.08993575721979141| 0.04936407878994942|-0.02911549247801304|0.001550777116790...| 0.06273894757032394|-0.05934866145253...| 0.10610482096672058|0.002293566707521677|0.002064210129901...|-5.46031864359974...| 0.02216726541519165|-0.00992869958281517| 0.05316418036818504|0.009081127122044563|0.032878339290618896|-0.06899794191122055|-0.05610739812254906|-0.04690518602728844|0.008000706322491169| -0.0803237333893776|0.049252308905124664|-0.06191931664943695|0.024924201890826225| 0.03960302844643593|0.001199174555949...|-0.01396165136247...|-0.00454289233312...|0.014185186475515366|-0.02529676072299...|  0.0118101229891181|-1.02235444501275...| 0.11981499940156937|-0.03418229520320892|-0.02462615445256...|-0.00472451467067...|-0.01413861662149...|-0.05394655466079712|0.011372365988790989| 0.06761947274208069|-0.01887943036854267| 0.03712551295757294|-0.00996595527976...|-0.00312251085415...|-0.10945785790681839| 0.07682167738676071|-0.01651368103921...|0.040199123322963715|0.010031153447926044|-0.02022995799779892| 0.04098149761557579|0.003967754077166319| 0.08978673815727234| 0.03863437473773956|3.222053928766399...|-0.05990749970078468| 0.09485354274511337|-0.02335945330560...| 0.06575667858123779|  2|\n",
            "|-0.05833666026592...| -0.0079921530559659|0.019299231469631195|0.015189630910754204|-0.02885046042501...|-0.03581332042813301| -0.0176796093583107|-0.00691745011135...| 0.02944078855216503|-0.03738753125071...|-0.01208661682903...|0.004257183521986008|-0.08367541432380676|0.006663911510258913| 0.08379650861024857| 0.0848863497376442|-0.01966251246631...|0.004056622739881277|-0.04147442802786827| 0.05482495576143265|0.018890542909502983|-0.01497771777212...|-0.03098472766578...|-0.07695474475622177| 0.04150469973683357|-0.04002130776643753|-0.03160532936453819| -0.0424734465777874|-0.02668591775000...|-0.02055557444691658|-0.02715515531599...|-0.04262481257319...| 0.04634843021631241|-0.03047008253633976| 0.02766980044543743|0.031242050230503082| 0.01628703810274601|0.013842469081282616|-0.00988423451781...|-0.01045185886323452|0.009959917515516281| 0.04922439530491829|-0.02153945714235...|-0.02343153767287731| 0.02373427152633667|0.008544640615582466|-0.08082972466945648|0.019768469035625458|-0.01319916080683...|-0.03275571763515...| 0.06993133574724197| 0.07580435276031494|-0.04220098629593849|-0.03133287280797...|-0.00320518622174...| 0.02270497940480709| 0.03853791579604149|-0.02714001759886...|-0.01251044310629...|-0.01521990448236...|0.007223967462778091|-0.06157590448856354|-0.05748900771141052|0.024354873225092888|-0.04032404348254204|-0.00678500439971...|0.025232799351215363| 0.03617659956216812|-0.00692880293354...|-0.04117169603705406|0.003863630583509803|-0.01583293825387...|-0.01864835619926...|0.034844573587179184| 0.02273525297641754|-0.01005830522626...|-0.04828592017292...|-0.04413847997784...|-0.02706433460116...| 0.02408241480588913|-0.10371634364128113|-0.01630217581987381|0.010141557082533836|-0.04371465370059...|-9.03468928299844...| 0.01451604999601841|0.004821023903787136| 0.03496566787362099|-0.09287849813699722| 0.05073805898427963|-0.05331129208207...|-0.05273609608411789|-0.01340350601822...|-0.00656930729746...|-0.03484457358717...|0.012336371466517448| 0.06351339817047119|2.077742101391777...|0.015492363832890987|  0.0639977678656578| 0.06327120959758759|-0.02279579825699...|-0.01036103907972...|-0.02744275145232...|-0.00301787001080...|-0.05152516439557...|-0.00647470308467...|0.010784865356981754|-0.02408241480588913|-0.01910245604813099|-0.02579285576939...|-0.04892165958881378|-0.01094380021095...|-0.04504667967557907|-0.03599495813250542|0.023915911093354225|0.026125863194465637|-0.04065704718232155|-0.01367596536874...|-0.01967764832079...|  0.0742906928062439| 0.03160532936453819|-0.05724681913852...|-0.14264781773090363|0.003216538578271866| 0.07665200531482697|-0.10238432139158249| 0.05761009827256203| -0.0919703021645546|-0.03417856246232...|0.024612197652459145|-0.04323028028011322|0.028547726571559906|-0.04465312510728836|-0.01039888057857...|-0.00544919492676...|-0.02314394153654...| 0.07144500315189362|-0.00541135342791...|0.022871481254696846|  0.0532204695045948|0.004147442989051342| 0.13235488533973694|-0.00828731711953...|-0.01290399674326...|4.831903206650167...|-0.04005158320069313| 0.01879972219467163|-0.02709460817277...| 0.06448213756084442|-0.02158486656844616|0.021009674295783043| 0.06063742935657501|-0.03944611549377...|-0.00269810832105577|-0.10371634364128113| 0.06460323184728622|0.008885215036571026|-0.06272628903388977| -0.0159237589687109|-0.03311899676918...|-0.02446082979440689|0.008923056535422802|-0.03133287280797...| 0.01451604999601841|-0.00464316830039...|-0.00949824973940...|-0.03118150494992733|-0.04280645400285721| 0.03859846293926239| 0.07677309960126877| 0.12018502503633499| 0.05603588744997978|  0.0706578940153122|-0.00392039306461...|-0.00923335831612...|0.009354451671242714|-0.00270567671395...| 0.08924570679664612|0.011102735064923763|0.005464331712573767| 0.02544471248984337|0.007488858886063099|-0.03169615194201...|0.002874071942642331|-0.02066153101623...| 0.06508760899305344|-0.00200749863870...|-0.00437827687710...| -0.0459851510822773|-0.04416875168681145|-0.05882103368639946|-0.01409979164600...|-0.00206426088698...| 0.05848802626132965|-0.05131325125694275|-0.00386363058350...|  0.1133432537317276|  0.0319080650806427|  0.0354803130030632|-0.07998207211494446|-0.01825480349361...|0.002380238613113761| 0.03408773988485336|-0.07659146189689636|-0.10595656931400299|-0.02262929640710354|-0.01708928123116...|0.032725442200899124| 0.06581416726112366|0.03007652796804905| 0.08531017601490021|0.030909044668078423|0.005104836076498032|-0.00761752063408494|-0.00936958752572...|0.036630697548389435|-0.03018248453736...| 0.05067751184105873|-6.36212411336600...|-0.07047625631093979|0.040959782898426056|0.013070499524474144|-0.06142453476786...|-0.03009166568517685|-2.67493043793365...|  0.0133051173761487|0.008453820832073689|-0.02688269503414631|-0.00896846689283...|-0.01684709452092...|0.03578304499387741|-0.05558178946375847|-0.01543938554823...|-0.02582312934100628|-0.03290708363056183|-0.06920477747917175|-0.01379705872386694| 0.02794226072728634|0.046197064220905304|-0.07350358366966248|0.013509462587535381|0.029910026118159294|0.016438404098153114|-3.87403706554323...|-0.00505564175546...|-0.00845382083207...|-0.03717561811208725| 0.05960813909769058|0.012548284605145454|-0.01537883933633...|-0.02028311416506...|-0.03956720978021622| 0.00795431062579155|0.07017352432012558|-0.01416790671646595|-0.01798234321177...| -0.0355408601462841|-0.04671170935034752|-0.03675179183483124|-0.06648017466068268|-1.66621437529101...|-0.01500042248517...| 0.07519888877868652| 0.01772502064704895|-0.01572698168456...|0.032725442200899124| 0.02654968947172165| 0.08785313367843628| 0.02727624773979187| 0.03929474949836731|0.049375761300325394| 0.08440197259187698|0.020434480160474777| 0.07386686652898788|0.029985709115862846|-0.06829657405614853|0.015348565764725208|0.031665876507759094|0.017497969791293144|-0.01524260919541...| -0.0883375033736229|-0.01998038217425...|0.057943105697631836|-0.04195880144834...|-0.01825480349361...|0.017558516934514046| 0.01872403919696808|0.005850316025316715|0.008075403980910778|0.06865985691547394| 0.06436105072498322|-0.00786349084228...|-0.03208970278501...|0.027064334601163864|-0.02329530753195...|0.003487106412649...| 0.08646056056022644|0.013199160806834698|-0.09457380324602127| 0.09469489753246307|0.10595656931400299| 0.05279664322733879|-0.01633244752883911|-0.00935445167124...|0.029546745121479034| 0.01363055594265461|-0.07053679972887039|0.014674984849989414|-0.03696370497345...|0.014909602701663971| 0.01630217581987381| 0.01736173965036869|-0.02337099239230156| 0.07840786129236221|-0.05034450814127922|-0.10910499095916748| 0.07689419388771057| 0.04065704718232155|0.022432519122958183| 0.17195236682891846| 0.06163644790649414| 0.04462285339832306|-0.01780070364475...| 0.04901248216629028| 0.01808829978108406|0.051494892686605453|-0.06987078487873077| 0.02978893183171749|-0.06478487700223923|0.011836862191557884|0.005066994577646...|-2.99185398034751...|-0.04707498848438263|-0.05900267139077...|0.012306098826229572|0.010232376866042614|-0.01004316937178...|-0.01825480349361...|0.015651298686861992|0.024899793788790703|-0.07011297345161438|1.338647707598284E-4|0.036993980407714844|-0.01610539853572...| 0.03139341622591019|-0.00695529207587...|-0.10553274303674698|0.011087598279118538| 0.04992068186402321|-0.04622733592987...|0.013441347517073154|-0.02303798496723175|  0.0603044256567955|0.004843728616833687|-0.08101136237382889|0.022402245551347733|-0.06327120959758759|-0.03950666263699...|0.019253822043538094| 0.04825564846396446|  0.0355408601462841|-0.05228199809789...|0.007696988061070442|0.033149268478155136|-0.00360441533848...|  0.0531599223613739|-0.02900182642042637|-0.03296763077378273|-0.05285719037055969|0.04816482961177826| 0.0919097512960434|0.002204274991527...| 0.03826545923948288|-0.03099986538290...|  0.0742906928062439|-0.04368437826633...|-0.00115322368219...|-0.01364569272845...|-0.02411268837749958|0.059305403381586075|-4.21224656747654...|-0.07477506250143051|-0.08052699267864227|0.059668686240911484|-0.02025284059345...| 0.04537968337535858| 0.06944695860147476| 0.02405214123427868|-0.04768045619130...|-0.01456902828067...| 0.04525859281420708| 0.10456399619579315|-0.06926532089710236| 0.04713553562760353|0.017210373654961586|  0.0283963605761528|-0.00967232137918...|-0.05007204785943031|-0.02821472100913...| 0.02093399129807949|-0.10129448026418686|0.012298529967665672|0.001705711591057...|-0.01177631597965...| 0.03614632785320282| 0.08288831263780594|-0.02026797831058...|0.023582905530929565|-0.05561206117272377|-0.03653987869620323|-0.05116188526153...| 0.03756917268037796| 7.13314744643867E-4|-0.03345200046896...|0.004673441406339407| 0.02444569393992424|-0.02859313599765...|-0.04537968337535858|-0.02179677970707...|-0.03145396336913109|-0.00709530571475625|-0.03657015413045883|0.001909110345877707|0.007424528244882822| 0.04777127504348755|-0.01547722704708...|0.019374914467334747|-0.04547050595283508| -0.0353592187166214| 0.00515024596825242| -0.0674489215016365|-0.00851436704397...|-0.04020294919610...|-0.03917365521192551|-0.08912461251020432|0.017876386642456055|-0.07598599791526794|0.040959782898426056|0.042655088007450104|-0.04316973313689232|-0.01814884692430...|-0.01539397612214...|-0.02187246270477...|-0.06142453476786...| 0.05994114279747009|-0.03375473618507385|-0.02941051684319973| -0.0816773772239685|-0.02144863642752...|0.001152277691289...|-0.02212978526949...| -0.0778629407286644|0.012185005471110344| 0.07005243003368378|-0.01424358971416...|0.048043735325336456|-0.00438206084072...|-0.01005830522626...|0.012964542955160141| 0.06296847760677338|-0.03393637388944626|-0.02347694896161...|0.002554310020059347| 0.05412866920232773| 0.04313946142792702|-0.00589951034635...| 0.01662004366517067| 0.08385705202817917|-0.02209951356053...|-0.12521038949489594| 0.02724597416818142| 0.05530932918190956| 0.00291948183439672|-6.75473129376769...|-0.05470386147499...|0.006039524450898...|-0.02956188283860...|0.025005750358104706| 0.03796272352337837|-0.07507779449224472|0.007765102665871382|-0.01448577642440...|-0.00201317481696...|0.028593135997653008| 0.04117169603705406|-0.04307891428470...|  0.0354803130030632|-0.03735725954174...|-0.04447148367762...|-0.04540995880961418|0.014122497290372849|0.009944780729711056|-0.01082270685583353| 0.07314030826091766|-0.02589881233870983| 0.06672236323356628|-0.06908368319272995|-0.06448213756084442|0.021494045853614807|0.023159079253673553|0.027200564742088318|0.011155713349580765|0.017089281231164932| 0.03047008253633976|-0.00252214469946...|0.018315348774194717|0.008385705761611462| 0.06999187916517258|-0.04335137456655502|-0.00614926498383...|-0.02312880568206...|  3|\n",
            "|0.020017404109239578| 0.05078849568963051|-0.01053505018353...|-0.01781484298408...|-0.03776746615767479|-0.08389171212911606|-0.00136141839902848| 0.03221247345209122| 0.03501426428556442|-0.01484300289303...|   0.036925308406353|-0.05713705718517...|-0.05590621381998062|-0.02053565531969...| 0.04609185457229614|0.06027894839644432|-0.00971718691289...|-0.03527338802814...|-0.05707227811217308|0.025005560368299484|-0.00952284317463...|0.014478608034551144|-0.00614207191392...|-0.04019676148891449| 0.13306067883968353| 0.09276674687862396|-0.06196326017379761|-3.89952736441046E-4|0.003943558316677809| 0.01702127233147621|-0.03779985755681...|-0.03799420222640...|0.049460481852293015|0.008073362521827221|-0.01509403064846...|-0.04680445045232773|0.043047137558460236|-0.00729598756879...|0.036439452320337296|0.009036983363330364| 0.03556490316987038| 0.01417089719325304|0.030690114945173264|0.002957668853923...| 0.10203046351671219|-0.02468165382742...|-0.02327266335487...| 0.07197196036577225|-0.00779804261401...| 0.06105632334947586|0.014591975137591362|0.005769579671323299|0.015596085228025913| 0.04709596559405327|-0.02618781849741...| 0.00923132710158825|-0.03637466952204704|0.014373338781297207| 0.04962243512272835| 0.03446362167596817|0.024633068591356277|-0.00823531579226...|-0.05623012036085129|-0.01362025644630...|0.006465977989137173|-0.02196084149181...|-0.01368503831326...|-0.02004979550838...|-0.12230699509382248|-0.02466545999050...|-0.01697268709540367|-0.05901571363210678| -0.0779966190457344|-0.01129622943699...| 0.04754943400621414| 0.04991395026445389|4.291757650207728E-4|-0.03397776186466217|-0.01888373307883...|-0.04162194952368736|-0.04971960559487343| 0.09814358502626419|-0.02066521719098091|-0.02328885719180107|0.028892435133457184| 0.04210780933499336|-0.03294126316905022|-0.03527338802814...|0.005866751540452242|-0.05661880970001221|0.059857871383428574|-0.00464400555938...| 0.07721924781799316|-0.00935279205441475|-0.02192845195531845|-0.02068141289055...|-0.03358907625079155| 0.05545274540781975|-0.04521730914711952|-0.00232402724213...|0.027645396068692207|-0.00556308962404...| 0.04291757568717003|-0.04233454540371895|  0.0184626542031765|-0.00978196784853...|-0.00334838056005...|-0.09509886801242828|-0.01039738953113...|-0.00109217129647...|-0.09477496147155762|-0.02280299924314022| 0.03072250634431839| 0.02095673233270645|-0.00154867663513...|-0.02586391195654869| 0.08402127772569656|0.003977973479777...| 0.04884506016969681|-0.00984674971550703|0.011142374016344547|0.014818710274994373|-0.10902683436870575|-0.10280783474445343|-0.06614165008068085| 0.06957505643367767|-0.01935339719057083|-0.03469035774469...| 0.06082959100604057|-0.03491709008812...|-0.04635098204016...| 0.03305463120341301| 0.06225477531552315|0.007162376306951046|-0.04473144933581352| 0.04356538876891136|0.014397631399333477|-0.05953396484255791|-0.09963355213403702|0.004830251447856426|-0.01294815167784...|0.009887238033115864|0.024730240926146507|-0.02370993606746...|-0.01268902607262...|0.003405064111575...|-0.02738627232611...|0.013158690184354782| -0.0691215917468071|0.004976009484380484| 0.02596108429133892|-0.05930722877383232|0.033621467649936676|-0.04278801381587982|-0.03177520260214...|   -0.05308822914958| 0.06795552372932434|-0.03002610802650...|-0.05146870017051697|-0.04567077755928...|-7.09050975274294...| 0.05950157344341278| 0.07929224520921707| 0.04388929530978203|0.036828137934207916|0.014543389901518822|0.004291757475584745|-0.08622384071350098|-0.07229586690664291|-0.01548271812498...| 0.05360648036003113|-0.00226936792023...| -0.0351114347577095|-0.05302345007658005|-0.02638216316699...| 0.02484360709786415|-0.01387128420174...|-0.00647002691403...|-0.02226855233311653|0.003909143153578043|-0.04618902876973152|-0.01046217139810...|0.028228428214788437|0.038091372698545456|-0.03413971513509...|0.019418178126215935|-0.03575924783945...|-0.03320038691163063|0.037799857556819916|-0.05658641830086708|-0.01645443588495...|0.060246556997299194|-0.00191610783804...|-0.07112980633974075|-0.03679574653506279|-0.06180130690336...|-0.01198453083634...| 0.04418081045150757|0.018171139061450958| 0.06581774353981018|-0.07320281118154526| 0.09095286577939987| 0.04716074839234352|0.009709089063107967|-0.02348320186138153|  0.0770248994231224| -0.0360831543803215|0.036439452320337296| 0.05195455998182297|-0.02675465494394...| 0.0660768672823906|-0.02557239681482315|  0.0385124497115612|-0.00598011864349246| 0.09140633791685104|-0.03127314522862...|-0.01293195597827...|-0.08266086876392365|-0.02330505289137...|0.059663526713848114|-0.09380324184894562|0.019725888967514038|-0.01100471429526...|0.008648295886814594|-0.00190497352741...|  0.0098710423335433| 0.07074111700057983|-0.03064152970910...|-0.01771767064929...|-0.01251087803393...|-0.04285279288887...|0.06795552372932434|-0.02842277102172...|-0.02126444317400...|-0.02268963120877...|-0.03090065345168...|-0.10481605678796768|0.040909357368946075|0.020244140177965164|0.029038192704319954|-0.12399130314588547|-0.00881024915724...| 0.02071380242705345|0.014470511116087437|-0.00737696420401...|-0.01029212027788...| 0.01283478457480669|-0.01212219055742...|-0.01568515971302986| 0.09995745867490768|-0.04638337343931198|-0.10345564782619476|0.029200145974755287|0.053444527089595795|0.04272323101758957|0.026382163166999817| -0.0324392095208168|-0.01259185466915369|0.040909357368946075| -0.0101139722391963| 0.02873048186302185|-0.00104358536191...|-0.03588880971074104| 0.00649027107283473|-0.01943437382578...|0.011053300462663174|0.014519096352159977|-0.05982547998428345| 0.01620340906083584|0.015183104202151299| 0.06011699512600899|0.051792606711387634|-0.01424377597868...|0.034690357744693756|-0.01810635812580...|-0.07935702800750732|0.009109863080084324|-0.03148368373513222|0.035759247839450836|0.052764326333999634| 0.02396906167268753| 0.04881266877055168| 0.05143630877137184| 0.07236064970493317| 0.05545274540781975|-0.01187116280198...|  0.0394841693341732| 0.02401764690876007|0.022576263174414635|7.869909168221056E-4|0.03919265419244766|0.006393099203705788|-0.00783853046596...| -0.0399700291454792|0.042464107275009155|0.018770365044474602|-0.03020425513386...|-0.00156082317698...|-0.04884506016969681|-0.08654774725437164|0.012802394106984138|0.04502296447753906|0.039160262793302536|0.001424175221472...|0.028309404850006104| 0.06665990501642227| 0.04855354502797127|-0.06963983923196793|-0.02578293532133...|-0.05182499811053276|0.003919265232980251|-0.01208980008959...|-0.02087575569748...|0.016397753730416298|0.001255136681720...|-0.10688905417919159|-0.01429236214607954| 0.03550012409687042|-0.05337974801659584|  -0.107148177921772|0.011863065883517265|-0.00864829588681...| 0.05778487026691437|-0.01927242055535...|-9.87914041616022...|0.003593334695324...| -0.0648784190416336|-0.04686922952532768|-0.00347794312983...|-0.03776746615767479|-0.04204303026199341|6.776725640520453E-4|0.010980420745909214|0.027596810832619667| 0.03870679438114166|0.021523568779230118|-0.02460067719221115|-0.00755916163325...| 0.06338845193386078|-0.00781828630715...|-0.08097656071186066|-0.00703281396999...| 0.04152477905154228| 0.05865941941738129| 0.06189848110079765|-0.03456079587340355| 0.06274063885211945|-0.02686802111566...|0.018219726160168648|0.012948151677846909|-0.03088445961475...|-0.01799299009144...| 0.02795310690999031| 0.04366255924105644|-0.03103021718561...| 0.00869688205420971|-0.07475756108760834|-0.10300218313932419|-0.04981677606701851| 0.06931593269109726|-0.08259608596563339| 0.06873290240764618|-0.03941938653588295|-0.06254629045724869|  0.0663359984755516| 0.05765530839562416| -0.1052047461271286|-0.05292627587914467|0.023596568033099174|-0.01094803027808...|0.04651293531060219|0.09108243137598038|0.011879260651767254|-0.01422758121043...|-0.02278680354356...| 0.05593860521912575|0.004591370932757...|0.018009185791015625|-0.00469259126111...|0.032827895134687424|-0.01668117009103...|  0.0331679992377758|0.013061518780887127|0.005077230278402567|-0.00153653020970...|-0.00838917121291...|-0.01567706093192...| 0.10293740034103394| 0.03951656073331833|-0.01373362448066473|0.029831763356924057|-0.06905680894851685|0.014867295511066914|-0.01977447606623...|0.010640319436788559|-0.01454338990151...|   0.071194589138031|0.008397269062697887|-0.00211551249958...|-0.02213899046182...| 0.01038119476288557|-0.01674595288932...|-0.00284430151805...|-0.08227217942476273|0.014195190742611885| -0.0404558889567852|-0.06361518055200577| 0.09393280744552612|-0.01033260859549...|-0.06957505643367767|  0.0749519020318985| 0.02144259214401245|0.003018401097506...|0.025167513638734818|0.009919628500938416|-0.00187663175165...| 0.04845637083053589| -0.0749519020318985|-0.07514624297618866| 0.05914527550339699|-0.04729031026363373|-0.01990403793752...|-0.02230094373226...|0.027645396068692207|0.013029128313064575|-0.01800918579101...| 0.00798023957759142|-0.00583436107262969|0.013960358686745167| 0.00984674971550703|-0.00169443443883...|-0.00392938731238246|0.011636331677436829|  0.1011883020401001|-0.06491080671548843|-0.01860841363668...|-0.03728160634636879|-0.03582403063774109|0.016430143266916275| 0.06730771064758301|-0.06665990501642227|-0.02656031027436...|-0.01602526009082...|-0.02027652971446514|0.007931653410196304| 0.08227217942476273|-0.04090935736894...|-0.02934590354561...| -0.0626758560538292|-0.04395407438278198|0.056456856429576874|-0.01575803756713...|0.006048948969691992|0.008923616260290146|-0.04797051101922989|0.034981872886419296|0.047322701662778854|-0.04087696596980095|-0.01703746803104...|0.007259548176079...|0.057234231382608414| -0.0321962796151638| 0.03452840447425842|-0.01935339719057083|-8.27479176223278E-4|-0.04184868559241295|  0.0658501386642456|0.046253807842731476| 0.04009959101676941| 0.01373362448066473|-0.01492397952824831| 0.01896470971405506|-0.06066763773560524|-0.00396785140037...| 0.04395407438278198| 0.08143002539873123|0.049557652324438095| 0.03728160634636879|-0.04897462204098...| -0.0194991547614336|-0.05075610429048538|-0.01379030756652...|-0.12301958352327347|-0.03156466037034...|0.023224076256155968|0.003911167848855257|  0.0102354371920228|0.055679481476545334|-0.13293111324310303|-0.00596797233447...|-0.05639207363128662|-0.01687551476061344|-0.00471283541992...|-0.01186306588351...|-0.02315929532051...|0.027645396068692207|-0.03103021718561...|-0.06491080671548843| 0.04113608971238136| 0.02732148952782154|0.014575780369341373|-0.01472153794020...|-0.04204303026199341|-0.04032632708549...|-0.04327387362718582|0.004716884344816208|0.005453770980238...|-0.00142923626117...|-0.02029272541403...|0.012276045978069305|  0.0081098023802042| 0.10002224147319794|  4|\n",
            "+--------------------+--------------------+--------------------+--------------------+--------------------+--------------------+--------------------+--------------------+--------------------+--------------------+--------------------+--------------------+--------------------+--------------------+--------------------+-------------------+--------------------+--------------------+--------------------+--------------------+--------------------+--------------------+--------------------+--------------------+--------------------+--------------------+--------------------+--------------------+--------------------+--------------------+--------------------+--------------------+--------------------+--------------------+--------------------+--------------------+--------------------+--------------------+--------------------+--------------------+--------------------+--------------------+--------------------+--------------------+--------------------+--------------------+--------------------+--------------------+--------------------+--------------------+--------------------+--------------------+--------------------+--------------------+--------------------+--------------------+--------------------+--------------------+--------------------+--------------------+--------------------+--------------------+--------------------+--------------------+--------------------+--------------------+--------------------+--------------------+--------------------+--------------------+--------------------+--------------------+--------------------+--------------------+--------------------+--------------------+--------------------+--------------------+--------------------+--------------------+--------------------+--------------------+--------------------+--------------------+--------------------+--------------------+--------------------+--------------------+--------------------+--------------------+--------------------+--------------------+--------------------+--------------------+--------------------+--------------------+--------------------+--------------------+--------------------+--------------------+--------------------+--------------------+--------------------+--------------------+--------------------+--------------------+--------------------+--------------------+--------------------+--------------------+--------------------+--------------------+--------------------+--------------------+--------------------+--------------------+--------------------+--------------------+--------------------+--------------------+--------------------+--------------------+--------------------+--------------------+--------------------+--------------------+--------------------+--------------------+--------------------+--------------------+--------------------+--------------------+--------------------+--------------------+--------------------+--------------------+--------------------+--------------------+--------------------+--------------------+--------------------+--------------------+--------------------+--------------------+--------------------+--------------------+--------------------+--------------------+--------------------+--------------------+--------------------+--------------------+--------------------+--------------------+--------------------+--------------------+--------------------+--------------------+--------------------+--------------------+--------------------+--------------------+--------------------+--------------------+--------------------+--------------------+--------------------+--------------------+--------------------+--------------------+--------------------+--------------------+--------------------+--------------------+--------------------+--------------------+--------------------+--------------------+--------------------+--------------------+--------------------+--------------------+--------------------+--------------------+--------------------+--------------------+--------------------+--------------------+--------------------+--------------------+--------------------+--------------------+--------------------+--------------------+--------------------+--------------------+--------------------+--------------------+--------------------+--------------------+--------------------+--------------------+--------------------+--------------------+--------------------+--------------------+--------------------+--------------------+--------------------+--------------------+-------------------+--------------------+--------------------+--------------------+--------------------+--------------------+--------------------+--------------------+--------------------+--------------------+--------------------+--------------------+--------------------+--------------------+--------------------+--------------------+--------------------+--------------------+--------------------+--------------------+--------------------+-------------------+--------------------+--------------------+--------------------+--------------------+--------------------+--------------------+--------------------+--------------------+--------------------+--------------------+--------------------+--------------------+--------------------+--------------------+--------------------+--------------------+--------------------+--------------------+--------------------+--------------------+--------------------+--------------------+-------------------+--------------------+--------------------+--------------------+--------------------+--------------------+--------------------+--------------------+--------------------+--------------------+--------------------+--------------------+--------------------+--------------------+--------------------+--------------------+--------------------+--------------------+--------------------+--------------------+--------------------+--------------------+--------------------+--------------------+--------------------+--------------------+--------------------+--------------------+--------------------+--------------------+--------------------+--------------------+--------------------+--------------------+--------------------+--------------------+-------------------+--------------------+--------------------+--------------------+--------------------+--------------------+--------------------+--------------------+--------------------+--------------------+--------------------+-------------------+--------------------+--------------------+--------------------+--------------------+--------------------+--------------------+--------------------+--------------------+--------------------+--------------------+--------------------+--------------------+--------------------+--------------------+--------------------+--------------------+--------------------+--------------------+--------------------+--------------------+--------------------+--------------------+--------------------+--------------------+--------------------+--------------------+--------------------+--------------------+--------------------+--------------------+--------------------+--------------------+--------------------+--------------------+--------------------+--------------------+--------------------+--------------------+--------------------+--------------------+--------------------+--------------------+--------------------+--------------------+--------------------+--------------------+--------------------+--------------------+--------------------+--------------------+--------------------+--------------------+--------------------+--------------------+--------------------+--------------------+--------------------+--------------------+--------------------+--------------------+--------------------+--------------------+--------------------+--------------------+--------------------+--------------------+--------------------+--------------------+-------------------+-------------------+--------------------+--------------------+--------------------+--------------------+--------------------+--------------------+--------------------+--------------------+--------------------+--------------------+--------------------+--------------------+--------------------+--------------------+--------------------+--------------------+--------------------+--------------------+--------------------+--------------------+--------------------+--------------------+--------------------+--------------------+--------------------+--------------------+--------------------+--------------------+--------------------+--------------------+--------------------+--------------------+--------------------+--------------------+--------------------+--------------------+--------------------+--------------------+--------------------+--------------------+--------------------+--------------------+--------------------+--------------------+--------------------+--------------------+--------------------+--------------------+--------------------+--------------------+--------------------+--------------------+--------------------+--------------------+--------------------+--------------------+--------------------+--------------------+--------------------+--------------------+--------------------+--------------------+--------------------+--------------------+--------------------+--------------------+--------------------+--------------------+--------------------+--------------------+--------------------+--------------------+--------------------+--------------------+--------------------+--------------------+--------------------+--------------------+--------------------+--------------------+--------------------+--------------------+--------------------+--------------------+--------------------+--------------------+--------------------+--------------------+--------------------+--------------------+--------------------+--------------------+--------------------+--------------------+--------------------+--------------------+--------------------+--------------------+--------------------+--------------------+--------------------+--------------------+--------------------+--------------------+--------------------+--------------------+--------------------+--------------------+--------------------+--------------------+--------------------+--------------------+--------------------+--------------------+--------------------+--------------------+--------------------+--------------------+--------------------+--------------------+--------------------+--------------------+--------------------+--------------------+--------------------+--------------------+--------------------+--------------------+--------------------+--------------------+--------------------+--------------------+--------------------+--------------------+--------------------+--------------------+--------------------+--------------------+--------------------+--------------------+---+\n",
            "only showing top 5 rows\n",
            "\n"
          ]
        }
      ],
      "source": [
        "embeddings_df = embeddings_df.repartition(1).withColumn(\"id\", F.monotonically_increasing_id()) \n",
        "embeddings_df.show(5)"
      ]
    },
    {
      "cell_type": "markdown",
      "metadata": {
        "id": "S2DhHJRXoJo7"
      },
      "source": [
        "Add unique `row_id` to each row in our main pyspark dataframe `df`"
      ]
    },
    {
      "cell_type": "code",
      "execution_count": 14,
      "metadata": {
        "id": "c8V61FsgnkLs"
      },
      "outputs": [
        {
          "name": "stdout",
          "output_type": "stream",
          "text": [
            "+----------+--------------------+--------------------+--------------------+---+\n",
            "|product_id|               title|         description|       combined_text| id|\n",
            "+----------+--------------------+--------------------+--------------------+---+\n",
            "|        P0|Men's 3X Large Ca...|This heavyweight,...|Men's 3X Large Ca...|  0|\n",
            "|        P1|Turmode 30 ft. RP...|If you need more ...|Turmode 30 ft. RP...|  1|\n",
            "|        P2|Large Tapestry Bo...|Polyester cover r...|Large Tapestry Bo...|  2|\n",
            "|        P3|16-Gauge-Sinks Ve...|It features a rec...|16-Gauge-Sinks Ve...|  3|\n",
            "|        P4|Men's Crazy Horse...|This 9 in. black ...|Men's Crazy Horse...|  4|\n",
            "+----------+--------------------+--------------------+--------------------+---+\n",
            "only showing top 5 rows\n",
            "\n"
          ]
        }
      ],
      "source": [
        "df = df.repartition(1).withColumn(\"id\", F.monotonically_increasing_id())\n",
        "df.show(5)"
      ]
    },
    {
      "cell_type": "markdown",
      "metadata": {
        "id": "pgvT5LdZoPp3"
      },
      "source": [
        "Let's join the two dataframes"
      ]
    },
    {
      "cell_type": "code",
      "execution_count": 15,
      "metadata": {
        "id": "uTELw9sknntv"
      },
      "outputs": [
        {
          "name": "stdout",
          "output_type": "stream",
          "text": [
            "+----------+--------------------+--------------------+--------------------+--------------------+--------------------+--------------------+--------------------+--------------------+--------------------+--------------------+--------------------+--------------------+--------------------+--------------------+--------------------+--------------------+--------------------+--------------------+-------------------+--------------------+--------------------+--------------------+--------------------+--------------------+--------------------+--------------------+--------------------+--------------------+--------------------+--------------------+--------------------+--------------------+--------------------+--------------------+--------------------+--------------------+--------------------+--------------------+--------------------+--------------------+--------------------+--------------------+--------------------+--------------------+--------------------+--------------------+--------------------+--------------------+--------------------+--------------------+--------------------+--------------------+--------------------+--------------------+--------------------+--------------------+--------------------+--------------------+--------------------+--------------------+--------------------+--------------------+--------------------+--------------------+--------------------+--------------------+--------------------+--------------------+--------------------+--------------------+--------------------+--------------------+--------------------+--------------------+--------------------+--------------------+--------------------+--------------------+--------------------+--------------------+--------------------+--------------------+--------------------+--------------------+--------------------+--------------------+--------------------+--------------------+--------------------+--------------------+--------------------+--------------------+--------------------+--------------------+--------------------+--------------------+--------------------+--------------------+--------------------+--------------------+--------------------+--------------------+--------------------+--------------------+--------------------+--------------------+--------------------+--------------------+--------------------+--------------------+--------------------+--------------------+--------------------+--------------------+--------------------+--------------------+--------------------+--------------------+--------------------+--------------------+--------------------+--------------------+--------------------+--------------------+--------------------+--------------------+--------------------+--------------------+--------------------+--------------------+--------------------+--------------------+--------------------+--------------------+--------------------+--------------------+--------------------+--------------------+--------------------+--------------------+--------------------+--------------------+--------------------+--------------------+--------------------+--------------------+--------------------+--------------------+--------------------+--------------------+--------------------+--------------------+--------------------+--------------------+--------------------+--------------------+--------------------+--------------------+--------------------+--------------------+--------------------+--------------------+--------------------+--------------------+--------------------+--------------------+--------------------+--------------------+--------------------+--------------------+--------------------+--------------------+--------------------+--------------------+--------------------+--------------------+--------------------+--------------------+--------------------+--------------------+--------------------+--------------------+--------------------+--------------------+--------------------+--------------------+--------------------+--------------------+--------------------+--------------------+--------------------+--------------------+--------------------+--------------------+--------------------+--------------------+--------------------+--------------------+--------------------+--------------------+--------------------+--------------------+--------------------+--------------------+--------------------+--------------------+--------------------+--------------------+--------------------+--------------------+--------------------+--------------------+--------------------+-------------------+--------------------+--------------------+--------------------+--------------------+--------------------+--------------------+--------------------+--------------------+--------------------+--------------------+--------------------+--------------------+--------------------+--------------------+--------------------+--------------------+--------------------+--------------------+--------------------+--------------------+-------------------+--------------------+--------------------+--------------------+--------------------+--------------------+--------------------+--------------------+--------------------+--------------------+--------------------+--------------------+--------------------+--------------------+--------------------+--------------------+--------------------+--------------------+--------------------+--------------------+--------------------+--------------------+--------------------+-------------------+--------------------+--------------------+--------------------+--------------------+--------------------+--------------------+--------------------+--------------------+--------------------+--------------------+--------------------+--------------------+--------------------+--------------------+--------------------+--------------------+--------------------+--------------------+--------------------+--------------------+--------------------+--------------------+--------------------+--------------------+--------------------+--------------------+--------------------+--------------------+--------------------+--------------------+--------------------+--------------------+--------------------+--------------------+--------------------+-------------------+--------------------+--------------------+--------------------+--------------------+--------------------+--------------------+--------------------+--------------------+--------------------+--------------------+-------------------+--------------------+--------------------+--------------------+--------------------+--------------------+--------------------+--------------------+--------------------+--------------------+--------------------+--------------------+--------------------+--------------------+--------------------+--------------------+--------------------+--------------------+--------------------+--------------------+--------------------+--------------------+--------------------+--------------------+--------------------+--------------------+--------------------+--------------------+--------------------+--------------------+--------------------+--------------------+--------------------+--------------------+--------------------+--------------------+--------------------+--------------------+--------------------+--------------------+--------------------+--------------------+--------------------+--------------------+--------------------+--------------------+--------------------+--------------------+--------------------+--------------------+--------------------+--------------------+--------------------+--------------------+--------------------+--------------------+--------------------+--------------------+--------------------+--------------------+--------------------+--------------------+--------------------+--------------------+--------------------+--------------------+--------------------+--------------------+--------------------+-------------------+-------------------+--------------------+--------------------+--------------------+--------------------+--------------------+--------------------+--------------------+--------------------+--------------------+--------------------+--------------------+--------------------+--------------------+--------------------+--------------------+--------------------+--------------------+--------------------+--------------------+--------------------+--------------------+--------------------+--------------------+--------------------+--------------------+--------------------+--------------------+--------------------+--------------------+--------------------+--------------------+--------------------+--------------------+--------------------+--------------------+--------------------+--------------------+--------------------+--------------------+--------------------+--------------------+--------------------+--------------------+--------------------+--------------------+--------------------+--------------------+--------------------+--------------------+--------------------+--------------------+--------------------+--------------------+--------------------+--------------------+--------------------+--------------------+--------------------+--------------------+--------------------+--------------------+--------------------+--------------------+--------------------+--------------------+--------------------+--------------------+--------------------+--------------------+--------------------+--------------------+--------------------+--------------------+--------------------+--------------------+--------------------+--------------------+--------------------+--------------------+--------------------+--------------------+--------------------+--------------------+--------------------+--------------------+--------------------+--------------------+--------------------+--------------------+--------------------+--------------------+--------------------+--------------------+--------------------+--------------------+--------------------+--------------------+--------------------+--------------------+--------------------+--------------------+--------------------+--------------------+--------------------+--------------------+--------------------+--------------------+--------------------+--------------------+--------------------+--------------------+--------------------+--------------------+--------------------+--------------------+--------------------+--------------------+--------------------+--------------------+--------------------+--------------------+--------------------+--------------------+--------------------+--------------------+--------------------+--------------------+--------------------+--------------------+--------------------+--------------------+--------------------+--------------------+--------------------+--------------------+--------------------+--------------------+--------------------+--------------------+--------------------+\n",
            "|product_id|               title|         description|       combined_text|         embedding_0|         embedding_1|         embedding_2|         embedding_3|         embedding_4|         embedding_5|         embedding_6|         embedding_7|         embedding_8|         embedding_9|        embedding_10|        embedding_11|        embedding_12|        embedding_13|        embedding_14|       embedding_15|        embedding_16|        embedding_17|        embedding_18|        embedding_19|        embedding_20|        embedding_21|        embedding_22|        embedding_23|        embedding_24|        embedding_25|        embedding_26|        embedding_27|        embedding_28|        embedding_29|        embedding_30|        embedding_31|        embedding_32|        embedding_33|        embedding_34|        embedding_35|        embedding_36|        embedding_37|        embedding_38|        embedding_39|        embedding_40|        embedding_41|        embedding_42|        embedding_43|        embedding_44|        embedding_45|        embedding_46|        embedding_47|        embedding_48|        embedding_49|        embedding_50|        embedding_51|        embedding_52|        embedding_53|        embedding_54|        embedding_55|        embedding_56|        embedding_57|        embedding_58|        embedding_59|        embedding_60|        embedding_61|        embedding_62|        embedding_63|        embedding_64|        embedding_65|        embedding_66|        embedding_67|        embedding_68|        embedding_69|        embedding_70|        embedding_71|        embedding_72|        embedding_73|        embedding_74|        embedding_75|        embedding_76|        embedding_77|        embedding_78|        embedding_79|        embedding_80|        embedding_81|        embedding_82|        embedding_83|        embedding_84|        embedding_85|        embedding_86|        embedding_87|        embedding_88|        embedding_89|        embedding_90|        embedding_91|        embedding_92|        embedding_93|        embedding_94|        embedding_95|        embedding_96|        embedding_97|        embedding_98|        embedding_99|       embedding_100|       embedding_101|       embedding_102|       embedding_103|       embedding_104|       embedding_105|       embedding_106|       embedding_107|       embedding_108|       embedding_109|       embedding_110|       embedding_111|       embedding_112|       embedding_113|       embedding_114|       embedding_115|       embedding_116|       embedding_117|       embedding_118|       embedding_119|       embedding_120|       embedding_121|       embedding_122|       embedding_123|       embedding_124|       embedding_125|       embedding_126|       embedding_127|       embedding_128|       embedding_129|       embedding_130|       embedding_131|       embedding_132|       embedding_133|       embedding_134|       embedding_135|       embedding_136|       embedding_137|       embedding_138|       embedding_139|       embedding_140|       embedding_141|       embedding_142|       embedding_143|       embedding_144|       embedding_145|       embedding_146|       embedding_147|       embedding_148|       embedding_149|       embedding_150|       embedding_151|       embedding_152|       embedding_153|       embedding_154|       embedding_155|       embedding_156|       embedding_157|       embedding_158|       embedding_159|       embedding_160|       embedding_161|       embedding_162|       embedding_163|       embedding_164|       embedding_165|       embedding_166|       embedding_167|       embedding_168|       embedding_169|       embedding_170|       embedding_171|       embedding_172|       embedding_173|       embedding_174|       embedding_175|       embedding_176|       embedding_177|       embedding_178|       embedding_179|       embedding_180|       embedding_181|       embedding_182|       embedding_183|       embedding_184|       embedding_185|       embedding_186|       embedding_187|       embedding_188|       embedding_189|       embedding_190|       embedding_191|       embedding_192|       embedding_193|       embedding_194|       embedding_195|       embedding_196|       embedding_197|       embedding_198|       embedding_199|       embedding_200|       embedding_201|       embedding_202|       embedding_203|       embedding_204|       embedding_205|       embedding_206|       embedding_207|       embedding_208|       embedding_209|      embedding_210|       embedding_211|       embedding_212|       embedding_213|       embedding_214|       embedding_215|       embedding_216|       embedding_217|       embedding_218|       embedding_219|       embedding_220|       embedding_221|       embedding_222|       embedding_223|       embedding_224|       embedding_225|       embedding_226|       embedding_227|       embedding_228|       embedding_229|       embedding_230|      embedding_231|       embedding_232|       embedding_233|       embedding_234|       embedding_235|       embedding_236|       embedding_237|       embedding_238|       embedding_239|       embedding_240|       embedding_241|       embedding_242|       embedding_243|       embedding_244|       embedding_245|       embedding_246|       embedding_247|       embedding_248|       embedding_249|       embedding_250|       embedding_251|       embedding_252|       embedding_253|      embedding_254|       embedding_255|       embedding_256|       embedding_257|       embedding_258|       embedding_259|       embedding_260|       embedding_261|       embedding_262|       embedding_263|       embedding_264|       embedding_265|       embedding_266|       embedding_267|       embedding_268|       embedding_269|       embedding_270|       embedding_271|       embedding_272|       embedding_273|       embedding_274|       embedding_275|       embedding_276|       embedding_277|       embedding_278|       embedding_279|       embedding_280|       embedding_281|       embedding_282|       embedding_283|       embedding_284|       embedding_285|       embedding_286|       embedding_287|       embedding_288|       embedding_289|      embedding_290|       embedding_291|       embedding_292|       embedding_293|       embedding_294|       embedding_295|       embedding_296|       embedding_297|       embedding_298|       embedding_299|       embedding_300|      embedding_301|       embedding_302|       embedding_303|       embedding_304|       embedding_305|       embedding_306|       embedding_307|       embedding_308|       embedding_309|       embedding_310|       embedding_311|       embedding_312|       embedding_313|       embedding_314|       embedding_315|       embedding_316|       embedding_317|       embedding_318|       embedding_319|       embedding_320|       embedding_321|       embedding_322|       embedding_323|       embedding_324|       embedding_325|       embedding_326|       embedding_327|       embedding_328|       embedding_329|       embedding_330|       embedding_331|       embedding_332|       embedding_333|       embedding_334|       embedding_335|       embedding_336|       embedding_337|       embedding_338|       embedding_339|       embedding_340|       embedding_341|       embedding_342|       embedding_343|       embedding_344|       embedding_345|       embedding_346|       embedding_347|       embedding_348|       embedding_349|       embedding_350|       embedding_351|       embedding_352|       embedding_353|       embedding_354|       embedding_355|       embedding_356|       embedding_357|       embedding_358|       embedding_359|       embedding_360|       embedding_361|       embedding_362|       embedding_363|       embedding_364|       embedding_365|       embedding_366|       embedding_367|       embedding_368|       embedding_369|      embedding_370|      embedding_371|       embedding_372|       embedding_373|       embedding_374|       embedding_375|       embedding_376|       embedding_377|       embedding_378|       embedding_379|       embedding_380|       embedding_381|       embedding_382|       embedding_383|       embedding_384|       embedding_385|       embedding_386|       embedding_387|       embedding_388|       embedding_389|       embedding_390|       embedding_391|       embedding_392|       embedding_393|       embedding_394|       embedding_395|       embedding_396|       embedding_397|       embedding_398|       embedding_399|       embedding_400|       embedding_401|       embedding_402|       embedding_403|       embedding_404|       embedding_405|       embedding_406|       embedding_407|       embedding_408|       embedding_409|       embedding_410|       embedding_411|       embedding_412|       embedding_413|       embedding_414|       embedding_415|       embedding_416|       embedding_417|       embedding_418|       embedding_419|       embedding_420|       embedding_421|       embedding_422|       embedding_423|       embedding_424|       embedding_425|       embedding_426|       embedding_427|       embedding_428|       embedding_429|       embedding_430|       embedding_431|       embedding_432|       embedding_433|       embedding_434|       embedding_435|       embedding_436|       embedding_437|       embedding_438|       embedding_439|       embedding_440|       embedding_441|       embedding_442|       embedding_443|       embedding_444|       embedding_445|       embedding_446|       embedding_447|       embedding_448|       embedding_449|       embedding_450|       embedding_451|       embedding_452|       embedding_453|       embedding_454|       embedding_455|       embedding_456|       embedding_457|       embedding_458|       embedding_459|       embedding_460|       embedding_461|       embedding_462|       embedding_463|       embedding_464|       embedding_465|       embedding_466|       embedding_467|       embedding_468|       embedding_469|       embedding_470|       embedding_471|       embedding_472|       embedding_473|       embedding_474|       embedding_475|       embedding_476|       embedding_477|       embedding_478|       embedding_479|       embedding_480|       embedding_481|       embedding_482|       embedding_483|       embedding_484|       embedding_485|       embedding_486|       embedding_487|       embedding_488|       embedding_489|       embedding_490|       embedding_491|       embedding_492|       embedding_493|       embedding_494|       embedding_495|       embedding_496|       embedding_497|       embedding_498|       embedding_499|       embedding_500|       embedding_501|       embedding_502|       embedding_503|       embedding_504|       embedding_505|       embedding_506|       embedding_507|       embedding_508|       embedding_509|       embedding_510|       embedding_511|\n",
            "+----------+--------------------+--------------------+--------------------+--------------------+--------------------+--------------------+--------------------+--------------------+--------------------+--------------------+--------------------+--------------------+--------------------+--------------------+--------------------+--------------------+--------------------+--------------------+-------------------+--------------------+--------------------+--------------------+--------------------+--------------------+--------------------+--------------------+--------------------+--------------------+--------------------+--------------------+--------------------+--------------------+--------------------+--------------------+--------------------+--------------------+--------------------+--------------------+--------------------+--------------------+--------------------+--------------------+--------------------+--------------------+--------------------+--------------------+--------------------+--------------------+--------------------+--------------------+--------------------+--------------------+--------------------+--------------------+--------------------+--------------------+--------------------+--------------------+--------------------+--------------------+--------------------+--------------------+--------------------+--------------------+--------------------+--------------------+--------------------+--------------------+--------------------+--------------------+--------------------+--------------------+--------------------+--------------------+--------------------+--------------------+--------------------+--------------------+--------------------+--------------------+--------------------+--------------------+--------------------+--------------------+--------------------+--------------------+--------------------+--------------------+--------------------+--------------------+--------------------+--------------------+--------------------+--------------------+--------------------+--------------------+--------------------+--------------------+--------------------+--------------------+--------------------+--------------------+--------------------+--------------------+--------------------+--------------------+--------------------+--------------------+--------------------+--------------------+--------------------+--------------------+--------------------+--------------------+--------------------+--------------------+--------------------+--------------------+--------------------+--------------------+--------------------+--------------------+--------------------+--------------------+--------------------+--------------------+--------------------+--------------------+--------------------+--------------------+--------------------+--------------------+--------------------+--------------------+--------------------+--------------------+--------------------+--------------------+--------------------+--------------------+--------------------+--------------------+--------------------+--------------------+--------------------+--------------------+--------------------+--------------------+--------------------+--------------------+--------------------+--------------------+--------------------+--------------------+--------------------+--------------------+--------------------+--------------------+--------------------+--------------------+--------------------+--------------------+--------------------+--------------------+--------------------+--------------------+--------------------+--------------------+--------------------+--------------------+--------------------+--------------------+--------------------+--------------------+--------------------+--------------------+--------------------+--------------------+--------------------+--------------------+--------------------+--------------------+--------------------+--------------------+--------------------+--------------------+--------------------+--------------------+--------------------+--------------------+--------------------+--------------------+--------------------+--------------------+--------------------+--------------------+--------------------+--------------------+--------------------+--------------------+--------------------+--------------------+--------------------+--------------------+--------------------+--------------------+--------------------+--------------------+--------------------+--------------------+--------------------+--------------------+--------------------+-------------------+--------------------+--------------------+--------------------+--------------------+--------------------+--------------------+--------------------+--------------------+--------------------+--------------------+--------------------+--------------------+--------------------+--------------------+--------------------+--------------------+--------------------+--------------------+--------------------+--------------------+-------------------+--------------------+--------------------+--------------------+--------------------+--------------------+--------------------+--------------------+--------------------+--------------------+--------------------+--------------------+--------------------+--------------------+--------------------+--------------------+--------------------+--------------------+--------------------+--------------------+--------------------+--------------------+--------------------+-------------------+--------------------+--------------------+--------------------+--------------------+--------------------+--------------------+--------------------+--------------------+--------------------+--------------------+--------------------+--------------------+--------------------+--------------------+--------------------+--------------------+--------------------+--------------------+--------------------+--------------------+--------------------+--------------------+--------------------+--------------------+--------------------+--------------------+--------------------+--------------------+--------------------+--------------------+--------------------+--------------------+--------------------+--------------------+--------------------+-------------------+--------------------+--------------------+--------------------+--------------------+--------------------+--------------------+--------------------+--------------------+--------------------+--------------------+-------------------+--------------------+--------------------+--------------------+--------------------+--------------------+--------------------+--------------------+--------------------+--------------------+--------------------+--------------------+--------------------+--------------------+--------------------+--------------------+--------------------+--------------------+--------------------+--------------------+--------------------+--------------------+--------------------+--------------------+--------------------+--------------------+--------------------+--------------------+--------------------+--------------------+--------------------+--------------------+--------------------+--------------------+--------------------+--------------------+--------------------+--------------------+--------------------+--------------------+--------------------+--------------------+--------------------+--------------------+--------------------+--------------------+--------------------+--------------------+--------------------+--------------------+--------------------+--------------------+--------------------+--------------------+--------------------+--------------------+--------------------+--------------------+--------------------+--------------------+--------------------+--------------------+--------------------+--------------------+--------------------+--------------------+--------------------+--------------------+--------------------+-------------------+-------------------+--------------------+--------------------+--------------------+--------------------+--------------------+--------------------+--------------------+--------------------+--------------------+--------------------+--------------------+--------------------+--------------------+--------------------+--------------------+--------------------+--------------------+--------------------+--------------------+--------------------+--------------------+--------------------+--------------------+--------------------+--------------------+--------------------+--------------------+--------------------+--------------------+--------------------+--------------------+--------------------+--------------------+--------------------+--------------------+--------------------+--------------------+--------------------+--------------------+--------------------+--------------------+--------------------+--------------------+--------------------+--------------------+--------------------+--------------------+--------------------+--------------------+--------------------+--------------------+--------------------+--------------------+--------------------+--------------------+--------------------+--------------------+--------------------+--------------------+--------------------+--------------------+--------------------+--------------------+--------------------+--------------------+--------------------+--------------------+--------------------+--------------------+--------------------+--------------------+--------------------+--------------------+--------------------+--------------------+--------------------+--------------------+--------------------+--------------------+--------------------+--------------------+--------------------+--------------------+--------------------+--------------------+--------------------+--------------------+--------------------+--------------------+--------------------+--------------------+--------------------+--------------------+--------------------+--------------------+--------------------+--------------------+--------------------+--------------------+--------------------+--------------------+--------------------+--------------------+--------------------+--------------------+--------------------+--------------------+--------------------+--------------------+--------------------+--------------------+--------------------+--------------------+--------------------+--------------------+--------------------+--------------------+--------------------+--------------------+--------------------+--------------------+--------------------+--------------------+--------------------+--------------------+--------------------+--------------------+--------------------+--------------------+--------------------+--------------------+--------------------+--------------------+--------------------+--------------------+--------------------+--------------------+--------------------+--------------------+--------------------+\n",
            "|        P0|Men's 3X Large Ca...|This heavyweight,...|Men's 3X Large Ca...|0.037482116371393204|0.030425189062952995|-0.01366721652448...|-0.00152527913451...|0.007516968995332718|-0.03558835759758949|0.021474501118063927|  0.0818961039185524|  0.0491662472486496|-0.05770602449774742| 0.04201998934149742| 0.04255595803260803| -0.0586707666516304|0.031104082241654396|0.022832291200757027|0.06453070044517517| 0.10433535277843475|-0.03748211637139...|-0.08775603026151657| 0.06442350149154663|-0.05638396739959717| 0.05842065066099167|-0.02669126912951...|-0.07710810750722885|0.026262493804097176| 0.03805381804704666|-0.04809430986642...|0.032551199197769165|0.055633608251810074|-0.01589148864150...|0.003608859609812498|-0.02358264662325...|0.018508804962038994|-0.02608383819460869|0.044163867831230164|-0.07074794173240662|-0.02156382985413...| 0.10948065668344498|-0.03380179405212402| 0.02860289253294468| 0.03126487508416176|-0.05749163776636124|0.013953066430985928| -0.0593496635556221| 0.02681632898747921| 0.03698188066482544|0.014006663113832474| 0.02545854076743126|-0.02981775626540184|0.021867545321583748|-0.03439136222004...|-0.01866959594190...|-0.05449020862579346| 0.04473556578159332|-0.02956763841211...|-0.02876368351280...|-0.04212718456983566|-0.04227010905742645|0.023457588627934456|-0.02020604163408...|-0.02163529209792614|-0.02086707018315792|-0.02553000301122...|-0.01444437168538...|-0.03124700859189...|-0.03439136222004...|0.019491415470838547|-0.01988445967435...|0.006007322110235691|-0.05298949405550957| 0.06142207607626915|0.051238659769296646| 0.03035372495651245|-0.02683419361710...|-0.07482130825519562|-0.00211037904955...|0.006775544956326485|-0.08253926783800125|0.008392385207116604|0.031247008591890335|-0.02029536850750...| 0.07253450900316238|-0.02306454442441...|-0.03590993955731392|-0.05002379789948...|-0.00136002199724...|-0.02611956931650...|0.007079260423779488|-0.00818693079054...|-0.01441757287830...|0.023403991013765335|0.012514881789684296|0.024243677034974098| -0.0248868390917778|-0.05531202629208565|0.005600878968834877|-0.02803119271993637|-0.03973318636417389|-0.03376606479287...|0.009089145809412003|-0.03297997638583183|-0.00762862898409...|5.496476660482585E-4| 0.01145187672227621|-0.06499520689249039|-0.00788768101483...|-0.11076697707176208|-0.00524356588721...| 0.00961171556264162|-0.02720937319099903|-0.10061929374933243| 0.07560739666223526|0.032301079481840134| 0.06949734687805176| -0.0355168953537941| -0.0334087498486042| 0.03548116609454155|0.017928171902894974|-0.00991543103009...| 0.06295852363109589| 0.02333252876996994| 0.05681274086236954|-0.02286802232265...|-0.02326106652617...|-0.00452894018962...|-0.01322057470679...|-0.03467721119523...|-0.04359216615557...| 0.00509617431089282|0.007052462082356...| 0.05223913863301277|0.028138386085629463| 0.08346828073263168|-0.03026439808309...|-0.01184492092579...| 0.01785670965909958| 0.04273461550474167|0.010987370274960995|-0.03539183735847473|-0.13056211173534393|-0.04652213305234909|-0.04284181073307991|-0.02192114293575287|8.318689651787281E-5|0.025351345539093018|0.014533699490129948|-0.01934849098324...|-0.00904001481831...|-0.03816100955009...| 0.07660787552595139|-0.05334680527448654|-0.06585275381803513| 0.07432106882333755| 0.01815149188041687| -0.0981895700097084|-0.01627559959888...| 0.07024770230054855|0.047129563987255096|-0.04923770949244499|-0.03373033180832863|-0.06260120868682861|0.006092183757573366|-0.00470313010737...|7.665476878173649E-4| 0.12262976914644241|0.008218195289373398| 0.06320863962173462|-0.07875175029039383|-0.09368743002414703|-0.03655310347676277|0.004022002685815096|-0.04627201333642006|0.006360168568789959| 0.02395782619714737|0.027120044454932213|0.025887316092848778|-0.07675080001354218| 0.01449796836823225|-0.03087182901799...|-0.10998088866472244|0.001098737004213035|-0.04437825456261635|  0.0676393210887909|-0.03733919188380...|-0.05316815152764...|-0.03598140180110...| 0.02904953435063362|0.012586344964802265|0.010353139601647854|0.010835511609911919|0.011434011161327362| 0.03601713478565216|-0.03676749020814...|-0.00527929700911...|-0.03657096996903...|-0.09061453491449356|0.027262968942523003| 0.07489277422428131|0.009701043367385864|  0.0873987227678299|-0.04294900223612785| 0.08375412970781326| 0.01970580220222473| 0.01659718155860901|-0.04652213305234909|-0.00164810544811...|-0.01669544167816639|-0.02368984185159...|-0.06942588835954666|-0.03633871674537659|0.05591946095228195|-0.00715965591371...| -0.0402691587805748|0.001540911616757512|-0.00367808900773...|-0.00298132910393...|0.011657331138849258|-0.01817829161882...| 0.01751726120710373| 0.05681274086236954|-0.07010477781295776|0.025726525112986565|-0.05609811469912529|0.016418524086475372|-0.05449020862579346| 0.06045733392238617| 0.06903284043073654| 0.04041208326816559|0.007557166740298271| -0.0628155991435051| 0.03349807858467102|0.01389053650200367|-0.07221292704343796|0.005623210687190294|  -0.057991873472929|  0.0600285567343235|2.266703377244994E-4|-0.03694614768028259|-0.03916148841381073|-0.00941519346088171|-0.07106952369213104|-3.55637923348695...|0.011684129945933819| 0.07042635977268219|0.014194252900779247|1.570222375448793...|-0.02937111631035...|-0.03783943131566048|  0.0470581017434597|-0.02360051311552...| 0.03930441290140152|-0.03296210989356041| -0.0505240373313427| 0.04180560261011124|0.03196163475513458|0.051238659769296646|0.006132381502538...|0.003617792390286...|-0.02109932340681553|-0.03258693218231201|-0.06038587167859...|-0.00303939240984...|-0.01698129251599312|-0.00131200812757...|-0.02669126912951...|0.050452571362257004| 0.03894709795713425|-0.05470459535717964|0.023100275546312332| 0.04287753999233246|-0.00376295088790...| 0.06860406696796417| 0.03244400769472122| 0.09911858290433884|-0.03919721767306328| 0.05202474817633629|-0.00727131636813283| 0.06563837081193924| 0.02075987681746483|  0.0737493708729744|-0.06599567830562592|-0.04001903906464577|0.009879699908196926|0.025351345539093018|0.015462713316082954|0.029371116310358047| 0.03844686225056648| 0.06453070044517517|0.003653523745015...|-0.00453117350116...|0.02197474054992199|-0.01999165304005146|-0.02027750387787819|-0.01548057887703...|-0.04941636696457863|-0.02681632898747921|-0.09776079654693604| 0.04016196355223656|-0.01950928196310997|-0.05613384768366814| 0.01761552318930626|0.06142207607626915|-0.06470935791730881| 0.05102427303791046| 0.04652213305234909| 0.08625531941652298| 0.03131847083568573|-0.03453428670763...|-0.03666029870510101|-0.01402452867478...|0.002072414383292198| 0.03639231249690056|-0.04988087341189...|-0.00454457290470...|-0.02626249380409...|-0.04634347558021...|0.020920665934681892| 0.05223913863301277|-0.04380655288696289|-0.04709383100271225| 0.06628153473138809| 0.03414124250411987|-0.02379703521728...| -0.0859694704413414|0.014274648390710354|-0.03555262833833...| -0.0805383175611496|-0.05102427303791046|-0.04184133186936...|-0.03589207306504...|-0.02233205176889...| 0.00803507212549448|-0.00240739528089...|-0.05159597471356392|0.014783819206058979|-0.00857550837099...| 0.02604810521006584|-0.04898758977651596| 0.02608383819460869|0.010737250559031963|-0.02268936485052...|-0.03719626739621...|-0.02544067427515...|-0.01571283303201...|0.046486400067806244|-0.06006428971886635|0.021760351955890656| 0.01940208673477173|0.002789273392409...|-0.00175083288922...| 0.00900428369641304|0.050559766590595245|-0.02015244401991...|-0.01720461249351...|0.018419476225972176|-0.01834801398217678|0.062029510736465454|-0.05263218283653259|0.058063335716724396| 0.01766912080347538|0.017445798963308334| 0.11476888507604599|-0.02126011438667...|-0.02785253524780...|0.007181988097727299| 0.05334680527448654|-0.03934014216065407|0.022546440362930298|-0.00382324727252...|-0.03783943131566048|0.02812051959335804| 0.0689971074461937| 0.03058597818017006|-0.01716888137161...|-0.05341827124357...|0.033515945076942444| 0.02134944126009941| 0.06989039480686188|-0.02956763841211...|-0.02885301224887371|0.044842761009931564|0.048773203045129776|0.027798939496278763| 0.09733201563358307| 0.08825626969337463|2.745446690823883E-4|-0.02308240905404091|0.009915431030094624| 0.06388753652572632|-0.03201523050665...| 0.04816577211022377|-0.07271316647529602|-0.00189264141954...|-0.04573604464530945|-0.01475702039897...|-0.01218436751514...|0.046879444271326065| 0.03616005927324295|0.020402563735842705| 0.07532154768705368|-0.00816013198345...| 0.06099330261349678| -0.0647808164358139|  0.0478084571659565|0.026637671515345573|-8.88257403858006E-4|-0.02463672123849392| 0.07682225853204727|-0.06470935791730881|-0.04537872970104...|-0.03042518906295...|0.028835145756602287|0.003340875031426549| 0.03987611457705498|0.026691269129514694| 0.12184368073940277| 0.04084085673093796|0.003532930742949...|-0.05109573528170...|  0.0716412216424942|-0.05088134855031967|-0.03524891287088394|-0.00914274249225...| -0.0368032231926918|-0.01925916224718094| 0.04952355846762657| 0.04384228587150574| -0.1023343950510025|-0.09082892537117004|0.007597364485263...|-0.00738744297996...|-0.02749522216618061| 0.09811810404062271|  0.0348380021750927|-0.08068124204874039|-0.00250342302024...|-0.06538824737071991|-0.00541775580495...|-0.00313542014919...| 0.04873747006058693|-0.00896855257451...| 0.05649115890264511|0.009665312245488167|-0.02456525713205...|0.007012264337390661|-0.01150547340512...|  0.0545974001288414|0.010933772660791874|-0.06260120868682861|-0.06077891588211...|0.014435438439249992|0.023546915501356125|-0.08718433231115341| 0.03267626091837883|-0.02368984185159...| 0.06503093987703323|-0.00334534142166...|0.042770348489284515|-0.00965637993067503|0.010692587122321129| 0.04427105933427811|-0.06671030819416046|0.062315359711647034|-0.02987135387957096|-0.06974746286869049|0.009602782316505909|0.025083361193537712|0.001069147023372...| 0.09197232872247696|-0.04041208326816559|-0.02302881330251...|-0.04520007595419884|0.012845396995544434|0.027030715718865395| 0.04269888252019882|0.023922095075249672|-0.00400190381333...|-0.01368508208543...|-0.05984989926218...|-0.06277986615896225|0.001922789728268981|-0.00893282145261...|-0.03594567254185...|-0.03162218630313873|-0.01263994164764...|0.008664836175739765|-0.02812051959335804| 0.08418290317058563|-0.04427105933427811|-0.04087658971548...| 0.02347545325756073|-0.01900904253125...|-0.00296569662168622|-0.01781204529106617|-3.17115132929757...|-0.03022866696119...|-0.03585634380578995|-0.04602189362049103| 0.11019527912139893|-0.03113981336355...| 0.03653523698449135|0.030746769160032272| 0.03297997638583183|-0.08961406350135803| 0.02274296246469021| 0.05359692499041557|  0.0613863468170166| 0.02304667793214321| 0.00336990668438375|0.022832291200757027|0.015266191214323044| 0.04423533007502556|\n",
            "|        P1|Turmode 30 ft. RP...|If you need more ...|Turmode 30 ft. RP...|0.035387322306632996|0.013333739712834358|0.022400682792067528|-0.01416339445859...| -0.0888577327132225|-0.03647095337510109|0.004423415288329...| 0.01598355546593666|0.040128208696842194| 0.07287418097257614|-0.01098022889345...|0.035150278359651566|-0.00739916739985...|-0.00753038842231...|0.047882940620183945| -0.081746406853199|-0.01661849580705166| -0.0339311920106411|-0.07957914471626282|  0.1306452602148056|0.003885832848027...| 0.07375463098287582|-0.02588861994445324|-0.03081575408577919|-0.02456794492900...| 0.04022979736328125|0.020335011184215546|  0.0696910172700882| 0.04473363980650902|-0.03548891097307205|-0.02614259533584118|-0.06390035897493362|-0.03647095337510109|-0.04229547083377838|-0.02478805743157...|-0.01420572400093...|-0.01667775772511959|-0.00464776065200...|0.042261604219675064|-0.04253251478075981|0.028513038530945778|0.013782430440187454|-0.02643043547868...|-0.00147729367017...|0.008084902539849281|0.005071054212749004|0.006074259057641029|0.041279565542936325| 0.04266796633601189|-0.00334825017489...|-0.00898228399455...| 0.05221746489405632|-0.07300963252782822| 0.04327750951051712|-0.08066277951002121| 0.10843081772327423|-0.01811695471405983|-0.01945456117391...|7.820344180800021E-4|-0.02050432935357...|-0.08276230841875076|-0.04886498302221298| 0.03381267189979553|-0.06346013396978378|0.021096939221024513|0.005435086321085...|-0.01214005239307...|-0.01171675976365...|-0.08973818272352219|0.006683801766484976|  0.0348455086350441| -0.0414150208234787|-0.04144888371229172|-0.01483219861984253|0.004139808937907219|-0.01735502667725...|-0.05607790127396...| 0.03335551545023918| 0.03806253522634506|0.025262145325541496|-0.02448328584432602|0.012021530419588089|-0.08106914162635803|0.002211707644164...|0.006590676959604025|-0.00137993623502...|-0.07131645828485489| -0.0658644437789917|-0.03972184658050537|0.029342694208025932| 0.05435086414217949|-0.04957611486315727|  0.0925149917602539|-0.03819799050688...|-0.04178751632571...|-0.07002964615821838|-0.04937293380498886|-0.01663542725145...|0.039654120802879333|0.041042521595954895| 0.04822157695889473|0.014722142368555069|-0.01749048009514...|-0.02692145481705...|0.008821433410048485|-0.05116769671440...|-0.02109693922102...|-0.04632522165775299|-0.02627805061638...| 0.06820102035999298|-0.03680958971381...|-0.03924775868654251|0.005883777048438...|-0.06159764528274536|-0.01347765978425...|-0.01665235869586...| 0.08567456901073456| 0.02048739790916443|0.048560209572315216|0.006552580744028091|-0.04872952774167061| 0.03498096019029617|0.020859895274043083|-0.13050979375839233| 0.01000665407627821|-0.02031807973980...|-0.05594244599342346|0.010032052174210548| 0.03381267189979553| 0.04497068375349045| 0.05787266418337822|0.005350427702069...|0.018878882750868797|-0.00259267166256...|-0.04310819134116173|0.005426620598882437|-0.01835399866104126|-0.02705691009759903|0.020114898681640625|-0.02786963246762...|0.036098454147577286|-0.03938321024179...| 0.02441556006669998|-0.04202456027269...|-0.01908206380903721|0.040331389755010605|-0.07077464461326599|8.741007186472416E-4|-0.05800811946392059|-0.00605732761323452|-0.12001212686300278|-0.04405637085437775|-0.06369718164205551|-0.03211949765682...|0.011699827387928963|-0.05733084678649902|-0.00443611387163...| 0.03462539613246918|-0.02074137330055...|-0.03345710411667824|-0.04300660267472267|0.001135484315454...|-0.09000909328460693|  0.0375884473323822|-0.01776138879358...|0.013113627210259438| 0.04683317244052887|-0.01328294444829...|-0.10043904185295105| 0.00288474396802485|-0.01947149261832...|-0.04876339063048363|-0.06935238093137741| 0.04588499665260315| 0.06325695663690567|0.001463536638766...|0.010624662972986698|-0.06122514605522156| 0.03379574045538902|0.030392460525035858|-0.03718208521604538|-0.02979985065758...| 0.05621335282921791|-0.02979985065758...|-0.02893633209168911|-0.02841144800186...| 0.02871621958911419| 0.06305377185344696|-0.02021648921072483|-0.02570237033069...|0.042464785277843475| 0.07341599464416504|-0.03572595864534378|-0.01188607700169...|-0.02096148580312729|-0.00653988216072...|0.012478687800467014|-0.03061257302761078|0.005435086321085...|-0.01491685677319...| 0.06776079535484314|-0.03687731549143791|0.007060532923787832| 0.02043660171329975|-0.08892546594142914|-0.02876701392233...|-0.02157102897763...| 0.01342686451971531|-4.55834000604227...|-0.02907178550958...|0.07747960835695267|0.021063076332211494|0.002654049079865217|-0.01170829311013...|-0.00113865907769...|0.001075165113434...|-0.05797425284981...|0.013266013003885746|0.002709077205508...|0.008249986916780472|-0.01115801185369...|0.009117738343775272|0.017829114571213722|0.015949692577123642|-0.01835399866104126|0.019115926697850227|-0.00135559693444...|-0.02802201919257641| 0.04751044511795044|   0.011174944229424|-0.00637056445702...|0.06322309374809265|-0.01718570850789547|-0.06894601881504059|-0.03416823595762253| 0.02732781693339348| 0.03579368442296982|-0.02604100480675...|-0.02627805061638...|-0.01589889824390...|-0.00678962515667...|9.106097859330475E-4| 0.06318923085927963| 0.09766224026679993|-0.04012820869684...| -0.0644083097577095|-0.03340630978345871|-0.02978291921317...|0.014197258278727531|-0.05868538841605...|0.021943526342511177| 0.05384290963411331| 0.08601320534944534|-0.02858076617121...|0.06688034534454346| 0.09393725544214249|-0.10612810403108597|0.001948207500390...|-0.00198101275600...|-0.04388705268502...|0.014510495588183403|-0.02876701392233...|0.016940198838710785| 0.03647095337510109| 0.03132370486855507|0.003424443071708083| 0.05008406564593315| 0.01047227717936039| 0.03061257302761078|0.013951747678220272| 0.07030055671930313|-0.01266493648290...|0.011361192911863327|0.016880938783288002|-0.07002964615821838| 0.11066580563783646| 0.07524462044239044|-0.00236409320496...| 0.04348069056868553|-0.04073774814605713|-0.02541453205049038|-0.07185827195644379|-0.00699703861027956|0.018692633137106895|-0.04202456027269...|-0.07165509462356567| 0.04185524582862854| 0.08784183114767075|0.007822460494935513|-0.08235595375299454|0.04019593447446823| 0.04320978373289108|-0.05753402784466...|0.028360653668642044| 0.03337244689464569|-0.00578218698501...|0.003132370533421...|   0.068234883248806|0.007179054897278547|-0.07091009616851807|-0.04205842688679695|0.08269458264112473|0.057263121008872986|-0.01476447097957...| 0.02184193581342697|0.014874527230858803|0.014552824199199677|-0.02494044229388237|-0.01588196493685...|-0.02529601007699...|0.037249814718961716| 0.01375703327357769|-0.01274959463626...|-0.03999275341629982|0.027920428663492203| 0.02094455435872078|-0.01284271944314...|-0.02595634758472...|-0.02016569487750...|-0.03012155368924141|-0.05394450202584267|-0.04192297160625458|-0.00329322204925...|-0.03962025418877...|-0.00686581758782...|-0.04957611486315727|-0.01840479485690...|-0.05303018912672...|-0.03833344206213951| 0.04449659585952759|-0.02722622640430...|0.012783458456397057| 0.12360165268182755|-0.07212918251752853|-0.01054846961051...| 0.07307735830545425|-0.03724981471896...|0.012267041020095348|-0.01114108040928...| 0.03362642228603363| 0.01469674427062273|-0.01524702552706...|-0.05401222780346...|  0.0799177810549736|0.020267285406589508|  0.0498131588101387|  0.0810014083981514|0.012791924178600311| 0.03802867233753204|  0.1253625452518463| -0.0414150208234787| 0.04659612849354744| 0.08289776742458344|0.002452984917908907|  0.0479845330119133|2.308271505171433E-4| 0.09881359338760376|-0.04002661630511284|0.043582282960414886|0.002785270102322...|-0.03249199688434601| 0.06180082634091377|-0.02675213851034...| -0.0144597003236413| 0.00405515031889081|0.050659745931625366| 0.01329987682402134| 0.06826874613761902|-0.09319225698709488|-0.05621335282921791|-0.0399588905274868|0.09549497812986374|-0.01575497724115...|0.051641784608364105|-0.11581305414438248| 0.06159764528274536| 0.04236319661140442| 0.02143557369709015|0.017575139179825783|-0.01269033364951...| 0.04304046556353569|-0.02729395404458046|-0.01818468235433...|-2.18789733480662...|-0.03284756094217...| 0.00705206673592329| -0.0343036912381649|-0.05506199598312378|-0.02991837263107...|0.005121849477291107|0.025042032822966576|-0.03555664047598839|0.030003031715750694|-0.02786963246762...|-0.04067002236843109|-0.02187579870223999| 0.05157405883073807|-9.38123848754912...|0.023806016892194748| -0.0046519935131073|-0.03144222870469093|-0.05414768308401108|-0.11208807677030563| 0.06501785665750504|-0.03809639811515808|-0.01358771603554...| 0.01815081760287285| 0.10172585397958755|  0.0441579595208168|-0.02641350403428...|-0.03843503445386...|-0.12549801170825958| 0.05645039677619934| 0.08777410537004471|-0.02250227332115...|-0.00858015567064...|-0.02070751041173935|0.041313428431749344|0.001775715500116...|-0.09156681597232819| 0.03167927265167236|0.028580766171216965|-0.02355204150080681|-0.02516055479645729|-0.07361917942762375|-0.02488964796066...|-0.06278286874294281|0.030697232112288475|0.002738707931712...|-0.03779162839055061|0.054486315697431564|0.009016147814691067|0.002601137617602...| 0.06027697026729584|0.004120760597288...| 0.05787266418337822|-0.00788595434278...|  0.1133071556687355|0.025211350992321968|0.010793980211019516|-0.00448267627507...|-0.02881781011819...|-0.02306102029979229|-0.01636452041566372|-0.02397533506155014| 0.02446635439991951|-0.03369414806365967|  0.0664062574505806|-0.04510613530874252| 0.05617948994040489|-0.03386346623301506|0.021587960422039032|0.003619157942011...| 0.07422871887683868|-0.03327085450291...| 0.00564250024035573|0.024297036230564117| 0.05208200961351395|0.010641594417393208|-0.01031989138573...|-0.00611658859997...|-0.00815262924879...|-0.00520650809630...|-0.08052732050418854|-0.03337244689464569|-0.01376549899578...|-0.00416520657017827|0.006256275344640...| 0.05536676570773125|0.010760116390883923|-0.03015541657805...|-0.02080910094082...|-0.02052126079797...|-0.06176696345210...| 0.03508255258202553| 0.05238678306341171|  0.0757187083363533| 0.06525489687919617| 0.01224164292216301|4.031868884339928...|-0.04916975274682045| 0.06044628843665123|-0.03708049654960632|0.005621335469186306|-0.01799843274056...|  0.0726032704114914|0.052827008068561554| 0.05878697708249092| -0.0176090020686388|-0.03931548446416855|-0.02316261082887...|-0.00899921637028...|-0.01609361171722412|-0.01389248669147...| 0.05661971494555473|0.007962147705256939|-0.02700611390173...|-0.03552277758717537|-0.05431700125336647| 0.06684648245573044|2.497430541552603E-4|0.028157472610473633| 0.04730726405978203| 0.03487937152385712| 0.04534318298101425| 0.02961360104382038|0.028089744970202446|-0.00662030745297...|-0.05773720890283...| 0.04260024055838585|-0.01573804579675...|0.005104917567223...|\n",
            "|        P2|Large Tapestry Bo...|Polyester cover r...|Large Tapestry Bo...| 0.03585880994796753|-0.05905061215162277|0.011400307528674603| 0.04865621402859688|-0.04645811766386032|-0.04563848674297333|-0.00804261863231659|0.032915595918893814|0.010673817247152328|-0.05059352144598961|-0.03341854736208916|0.011456191539764404|-0.02879881672561...|-0.00525774015113...|0.010264002718031406|0.02682425267994404| 0.04630909115076065|-0.04958761110901...|-0.04534044116735...| 0.04910328611731529|-0.04396197199821472|-0.00465000281110...|-0.06352132558822632|-0.07823740690946579| 0.11832476407289505|-0.02041623741388321|0.010459596291184425|-0.00654306868091...| 0.08091983199119568|-0.03058709949254...|-0.05122687295079231|-0.03576567023992...|-0.01682104170322...|-0.09537512063980103|0.031108682975172997|-0.05234454944729805|-0.02063977345824...|-0.00573275284841...|  -0.016336714848876|0.019820142537355423|-0.02324768714606762| 0.04366392269730568|0.035188205540180206|-0.03671569749712944|0.026041878387331963|0.042322710156440735| 0.05588386207818985|0.008820336312055588|-0.00809850264340...| 0.09492804855108261| 0.03129496052861214|0.028482140973210335|-0.04984840378165245|-0.06367034465074539|0.004072536248713732| 0.01366360392421484|9.452231461182237E-5|0.012508670799434185|-0.00911372620612...|-0.01348663866519928|-0.00662689469754...|-0.06240364536643028| 0.08047275990247726|-0.07235097140073776|-0.04139131307601929|0.025855598971247673|-0.08896710723638535| 0.03401464223861694| 0.02131037972867489|-0.04899151995778084| 0.08561407774686813|6.950555252842605E-4|-0.02941353805363...|-0.01506070047616...|0.051748454570770264|0.003960768692195...| 0.04209917411208153|-0.03468525037169...| 0.07957861572504044|-0.02164568193256855|0.015228352509438992|0.001112438156269...|-0.04273252561688423| 0.03993833437561989|0.023881036788225174|-0.01063656155019...|0.015852387994527817|-0.05413283407688141|0.006682778242975473|-0.01543325930833...| 0.08822198957204819|-3.92351270420476...| -0.0603545717895031|-0.02062114514410...|7.008767570368946E-4|-0.01625289022922516| 0.06117419898509979|-0.06802928447723389|-0.04235996678471565| 0.05975847691297531|7.998377550393343E-4|-0.00794947892427...|-0.04303057491779...| 0.03926772624254227|-0.08524151891469955|-0.06799203157424927| 0.03388424962759018|-0.00291061773896...|0.022279033437371254|  0.0168582983314991|-0.06065261736512184|-0.02419771254062...|0.019745631143450737| 0.01790146343410015|0.016904868185520172|-0.03982656449079...|-0.01805980131030...|0.056517209857702255|-0.01207091379910...| -0.0397520549595356| 0.03323226794600487| 0.03543036803603172| -0.0507798008620739| -0.0759647935628891| -0.0674331933259964|-0.02198098599910736|-0.06448997557163239|0.030084144324064255|-0.06013103574514389|-0.02224177680909...| 0.03466662019491196|-0.08665724098682404| 0.10312435030937195| -0.0776413083076477|-0.07853545248508453|0.010683131404221058|-0.03086651861667633|0.047613050788640976|0.026358554139733315|-0.00498763471841...| 0.07853545248508453|-0.07779033482074738|-0.08099434524774551|0.012322391383349895|-0.04064619541168213|0.001904708216898...|-4.56603156635537...|0.050668034702539444|0.045489463955163956|0.006692092400044203|-0.01239690277725...| 0.03410778194665909|-0.01349595282226801| 0.03548625111579895|-0.02449575997889042|-0.03708825632929802| 0.06594295799732208|-0.02484969049692154|-0.06359583139419556|-0.00548127526417...|-0.02516636624932289|-0.01830196380615...| 0.04999742656946182| 0.02874293178319931| 0.05215827003121376| 0.08986125141382217|-0.03805691003799...| 0.03923046961426735|-0.09172404557466507|-0.06650179624557495|  0.0765981450676918|-0.02231628820300...|-0.01622494682669...|0.061807550489902496| 0.02557617984712124|-0.02127312310039997|-0.01182875037193...|0.028109582141041756|0.017435764893889427|-0.01955935172736...|0.005001605488359928|0.014036162756383419| 0.05711330473423004|0.016280831769108772|-0.14626669883728027|0.005374164786189...|-0.01399890705943...| 0.08926515281200409|-0.03231950104236603| 0.09619475156068802|0.009313976392149925|-0.02063977345824...| 0.03878340125083923| 0.03174203261733055|-0.01251798495650...|3.029953222721815E-4|-0.00639404496178031|0.036641184240579605|-0.04429727420210838|0.026488950476050377|-0.00275460863485...|0.007902909070253372| 0.03500192612409592|-0.01109294686466...|0.002407663036137...|2.928081376012414...|-0.14850205183029175| 0.03153712674975395|-0.07644911855459213| -0.0874023586511612|0.04697969928383827|-0.01781763695180416|-0.04202466458082199| 0.03235675394535065|0.005788636393845081| -0.0149861890822649| 0.08002568781375885| 0.02252119593322277|-0.01348663866519928|  0.0478738397359848|-0.05271710827946663| 0.03570978716015816|0.020714284852147102| 0.01455774623900652|-0.04884249344468117|-0.00359519501216...| 0.00430771429091692|-0.07290980964899063|-0.04001284390687...|0.012955741956830025| -0.0262281596660614|0.02628404274582863|0.006137910764664...|0.008671312592923641|-0.01510727033019...| 0.06657630950212479|-0.03703237324953079|0.017119089141488075|0.029748842120170593|-0.03734904900193...|0.021589798852801323|0.043887458741664886|-0.05636818706989288| 0.08181397616863251|-0.08278262615203857|-0.00596094503998...|-0.04254624620079994|-0.07965312898159027| 0.06020554527640343| 0.04235996678471565|0.029208632186055183| 0.06564491242170334| 0.04634634777903557| 0.02447713166475296|0.07484711706638336|-3.16347759508062...| -0.0306988675147295|-0.01044096797704...|-0.06635276973247528| 0.01648573949933052|0.004982977639883757|-4.86655277200043...|-0.06937050074338913|-0.00591437518596...| 0.03105279803276062|-0.00267311139032...|-0.00397939654067...|0.028239978477358818|-0.01918679289519787|0.029413538053631783|0.001241087447851...|-0.02151528745889...|-0.01610386557877...| 0.06694886833429337|0.030046889558434486| 0.04846993461251259|-0.05629367753863335|-0.01942895539104...| 0.06739593297243118|0.002708038780838251|-0.04321685433387...|-0.09246916323900223| 0.01116745825856924|-0.08308067172765732| 0.04452081024646759| 0.00843846332281828|0.003308790270239...|0.013514580205082893|-0.00453590694814...| 0.00420991750434041|0.04314234107732773|0.012015029788017273|-0.02810958214104...|0.032878339290618896|-3.51311551639810...|-0.01460431609302...| -0.0647135078907013|0.028966467827558517| 0.03231950104236603|-0.05323868989944458|-0.02755074389278...|0.01952209509909153| 0.01954072341322899|-0.06728416681289673|-0.02879881672561...|0.056479956954717636|0.010645875707268715|-0.12853288650512695| -0.0472404919564724|-0.01618769206106...|-0.01529354974627...|0.020826052874326706| -0.0761883333325386|-7.56032968638464...|-0.01681172847747...| -0.0322636142373085|-0.00670606316998601|-0.02255845256149769|-0.02814683876931...|-0.04571299999952316| 0.05852903053164482|-0.01285328809171915| 0.07935508340597153|0.010245374403893948|0.026544833555817604|-0.04366392269730568|-0.07779033482074738|0.018935315310955048|-0.00860145781189...|0.014930305071175098|-0.01398959290236...| 0.00934657547622919|0.001113020232878...|0.008461748249828815|-0.02524087764322...|0.010347828269004822|-0.04973663762211...|-0.02352710627019...|0.021608427166938782| 0.06899794191122055|-0.06504881381988525|-0.07875898480415344|-0.07227645814418793| 0.07667265832424164|-0.00722298910841...|0.045340441167354584| 0.05398381128907204|0.015125898644328117| 0.01656956411898136| 0.07518242299556732|-0.02879881672561...| 0.07104701548814774|0.008578172884881496|-0.00481532607227...|-0.02078879624605179|0.019950538873672485|0.047091465443372726|-0.03060572780668...|-0.04090698808431...|-0.00272433832287...|0.006915627978742123|0.007274216040968895|-0.01950346678495407| 0.01931718736886978|  0.0306988675147295|0.015992097556591034| 0.03217047452926636|0.031816545873880386| 0.01800391636788845|-0.03597057983279228|0.07756680250167847|0.03923046961426735|4.985888372175395E-4|-0.01525629404932...|-0.02850076928734...| 0.02339670993387699|0.027215439826250076|0.006883028894662857|-0.04429727420210838|-0.02943216636776924|-0.03790788725018501| 0.10066546499729156| 0.03833632916212082|0.034163668751716614|0.027550743892788887|0.020881935954093933|-0.03014002926647663|0.019428955391049385|-5.25075418408960...|0.003050327533856...|-0.02954393438994...|-0.06005652248859...|-0.02188784629106...|-0.04235996678471565|0.015405317768454552|-0.02984198182821...|-0.01504207216203...|-2.26737131015397...|-0.02671248652040...|0.011335110291838646|0.024383991956710815|-0.04727774485945...|-0.03028905205428...|-0.02887332811951...|-0.06009377911686897|-0.00802864786237...|0.009057842195034027|-0.01775244064629078|0.034312691539525986|  -0.069109708070755|-0.02870567701756...|-0.05927414819598198|-0.01179149467498064|0.051748454570770264|-0.09664182364940643| 0.11184223741292953|0.017780382186174393|0.034498970955610275|-0.02244668453931...|-0.03826181590557...|-0.08181397616863251| 0.03543036803603172|-0.06508606672286987|-0.00167418736964...|-0.02158979885280...|-0.00116017227992...| 0.01047822367399931|-0.05092882364988327|-0.09507707506418228| 0.01573130674660206|0.020155446603894234|0.011549331247806549| 0.02358298934996128| 0.02786741964519024|-0.06214285269379616|-0.00174171372782439|-0.05305241048336029| 0.05413283407688141|-0.00233780825510...|-0.02540852874517...|-0.01370085962116...|-0.01534943375736475|-0.01542394608259201|0.040683452039957047|-0.06814105808734894|-0.07860996574163437| 0.04832091182470322|0.021925101056694984|0.006016829051077366|0.014138616621494293|-0.02982335351407528|-0.01662544906139...|-0.01537737622857...|0.046197324991226196| 0.08993575721979141| 0.04936407878994942|-0.02911549247801304|0.001550777116790...| 0.06273894757032394|-0.05934866145253...| 0.10610482096672058|0.002293566707521677|0.002064210129901...|-5.46031864359974...| 0.02216726541519165|-0.00992869958281517| 0.05316418036818504|0.009081127122044563|0.032878339290618896|-0.06899794191122055|-0.05610739812254906|-0.04690518602728844|0.008000706322491169| -0.0803237333893776|0.049252308905124664|-0.06191931664943695|0.024924201890826225| 0.03960302844643593|0.001199174555949...|-0.01396165136247...|-0.00454289233312...|0.014185186475515366|-0.02529676072299...|  0.0118101229891181|-1.02235444501275...| 0.11981499940156937|-0.03418229520320892|-0.02462615445256...|-0.00472451467067...|-0.01413861662149...|-0.05394655466079712|0.011372365988790989| 0.06761947274208069|-0.01887943036854267| 0.03712551295757294|-0.00996595527976...|-0.00312251085415...|-0.10945785790681839| 0.07682167738676071|-0.01651368103921...|0.040199123322963715|0.010031153447926044|-0.02022995799779892| 0.04098149761557579|0.003967754077166319| 0.08978673815727234| 0.03863437473773956|3.222053928766399...|-0.05990749970078468| 0.09485354274511337|-0.02335945330560...| 0.06575667858123779|\n",
            "|        P3|16-Gauge-Sinks Ve...|It features a rec...|16-Gauge-Sinks Ve...|-0.05833666026592...| -0.0079921530559659|0.019299231469631195|0.015189630910754204|-0.02885046042501...|-0.03581332042813301| -0.0176796093583107|-0.00691745011135...| 0.02944078855216503|-0.03738753125071...|-0.01208661682903...|0.004257183521986008|-0.08367541432380676|0.006663911510258913| 0.08379650861024857| 0.0848863497376442|-0.01966251246631...|0.004056622739881277|-0.04147442802786827| 0.05482495576143265|0.018890542909502983|-0.01497771777212...|-0.03098472766578...|-0.07695474475622177| 0.04150469973683357|-0.04002130776643753|-0.03160532936453819| -0.0424734465777874|-0.02668591775000...|-0.02055557444691658|-0.02715515531599...|-0.04262481257319...| 0.04634843021631241|-0.03047008253633976| 0.02766980044543743|0.031242050230503082| 0.01628703810274601|0.013842469081282616|-0.00988423451781...|-0.01045185886323452|0.009959917515516281| 0.04922439530491829|-0.02153945714235...|-0.02343153767287731| 0.02373427152633667|0.008544640615582466|-0.08082972466945648|0.019768469035625458|-0.01319916080683...|-0.03275571763515...| 0.06993133574724197| 0.07580435276031494|-0.04220098629593849|-0.03133287280797...|-0.00320518622174...| 0.02270497940480709| 0.03853791579604149|-0.02714001759886...|-0.01251044310629...|-0.01521990448236...|0.007223967462778091|-0.06157590448856354|-0.05748900771141052|0.024354873225092888|-0.04032404348254204|-0.00678500439971...|0.025232799351215363| 0.03617659956216812|-0.00692880293354...|-0.04117169603705406|0.003863630583509803|-0.01583293825387...|-0.01864835619926...|0.034844573587179184| 0.02273525297641754|-0.01005830522626...|-0.04828592017292...|-0.04413847997784...|-0.02706433460116...| 0.02408241480588913|-0.10371634364128113|-0.01630217581987381|0.010141557082533836|-0.04371465370059...|-9.03468928299844...| 0.01451604999601841|0.004821023903787136| 0.03496566787362099|-0.09287849813699722| 0.05073805898427963|-0.05331129208207...|-0.05273609608411789|-0.01340350601822...|-0.00656930729746...|-0.03484457358717...|0.012336371466517448| 0.06351339817047119|2.077742101391777...|0.015492363832890987|  0.0639977678656578| 0.06327120959758759|-0.02279579825699...|-0.01036103907972...|-0.02744275145232...|-0.00301787001080...|-0.05152516439557...|-0.00647470308467...|0.010784865356981754|-0.02408241480588913|-0.01910245604813099|-0.02579285576939...|-0.04892165958881378|-0.01094380021095...|-0.04504667967557907|-0.03599495813250542|0.023915911093354225|0.026125863194465637|-0.04065704718232155|-0.01367596536874...|-0.01967764832079...|  0.0742906928062439| 0.03160532936453819|-0.05724681913852...|-0.14264781773090363|0.003216538578271866| 0.07665200531482697|-0.10238432139158249| 0.05761009827256203| -0.0919703021645546|-0.03417856246232...|0.024612197652459145|-0.04323028028011322|0.028547726571559906|-0.04465312510728836|-0.01039888057857...|-0.00544919492676...|-0.02314394153654...| 0.07144500315189362|-0.00541135342791...|0.022871481254696846|  0.0532204695045948|0.004147442989051342| 0.13235488533973694|-0.00828731711953...|-0.01290399674326...|4.831903206650167...|-0.04005158320069313| 0.01879972219467163|-0.02709460817277...| 0.06448213756084442|-0.02158486656844616|0.021009674295783043| 0.06063742935657501|-0.03944611549377...|-0.00269810832105577|-0.10371634364128113| 0.06460323184728622|0.008885215036571026|-0.06272628903388977| -0.0159237589687109|-0.03311899676918...|-0.02446082979440689|0.008923056535422802|-0.03133287280797...| 0.01451604999601841|-0.00464316830039...|-0.00949824973940...|-0.03118150494992733|-0.04280645400285721| 0.03859846293926239| 0.07677309960126877| 0.12018502503633499| 0.05603588744997978|  0.0706578940153122|-0.00392039306461...|-0.00923335831612...|0.009354451671242714|-0.00270567671395...| 0.08924570679664612|0.011102735064923763|0.005464331712573767| 0.02544471248984337|0.007488858886063099|-0.03169615194201...|0.002874071942642331|-0.02066153101623...| 0.06508760899305344|-0.00200749863870...|-0.00437827687710...| -0.0459851510822773|-0.04416875168681145|-0.05882103368639946|-0.01409979164600...|-0.00206426088698...| 0.05848802626132965|-0.05131325125694275|-0.00386363058350...|  0.1133432537317276|  0.0319080650806427|  0.0354803130030632|-0.07998207211494446|-0.01825480349361...|0.002380238613113761| 0.03408773988485336|-0.07659146189689636|-0.10595656931400299|-0.02262929640710354|-0.01708928123116...|0.032725442200899124| 0.06581416726112366|0.03007652796804905| 0.08531017601490021|0.030909044668078423|0.005104836076498032|-0.00761752063408494|-0.00936958752572...|0.036630697548389435|-0.03018248453736...| 0.05067751184105873|-6.36212411336600...|-0.07047625631093979|0.040959782898426056|0.013070499524474144|-0.06142453476786...|-0.03009166568517685|-2.67493043793365...|  0.0133051173761487|0.008453820832073689|-0.02688269503414631|-0.00896846689283...|-0.01684709452092...|0.03578304499387741|-0.05558178946375847|-0.01543938554823...|-0.02582312934100628|-0.03290708363056183|-0.06920477747917175|-0.01379705872386694| 0.02794226072728634|0.046197064220905304|-0.07350358366966248|0.013509462587535381|0.029910026118159294|0.016438404098153114|-3.87403706554323...|-0.00505564175546...|-0.00845382083207...|-0.03717561811208725| 0.05960813909769058|0.012548284605145454|-0.01537883933633...|-0.02028311416506...|-0.03956720978021622| 0.00795431062579155|0.07017352432012558|-0.01416790671646595|-0.01798234321177...| -0.0355408601462841|-0.04671170935034752|-0.03675179183483124|-0.06648017466068268|-1.66621437529101...|-0.01500042248517...| 0.07519888877868652| 0.01772502064704895|-0.01572698168456...|0.032725442200899124| 0.02654968947172165| 0.08785313367843628| 0.02727624773979187| 0.03929474949836731|0.049375761300325394| 0.08440197259187698|0.020434480160474777| 0.07386686652898788|0.029985709115862846|-0.06829657405614853|0.015348565764725208|0.031665876507759094|0.017497969791293144|-0.01524260919541...| -0.0883375033736229|-0.01998038217425...|0.057943105697631836|-0.04195880144834...|-0.01825480349361...|0.017558516934514046| 0.01872403919696808|0.005850316025316715|0.008075403980910778|0.06865985691547394| 0.06436105072498322|-0.00786349084228...|-0.03208970278501...|0.027064334601163864|-0.02329530753195...|0.003487106412649...| 0.08646056056022644|0.013199160806834698|-0.09457380324602127| 0.09469489753246307|0.10595656931400299| 0.05279664322733879|-0.01633244752883911|-0.00935445167124...|0.029546745121479034| 0.01363055594265461|-0.07053679972887039|0.014674984849989414|-0.03696370497345...|0.014909602701663971| 0.01630217581987381| 0.01736173965036869|-0.02337099239230156| 0.07840786129236221|-0.05034450814127922|-0.10910499095916748| 0.07689419388771057| 0.04065704718232155|0.022432519122958183| 0.17195236682891846| 0.06163644790649414| 0.04462285339832306|-0.01780070364475...| 0.04901248216629028| 0.01808829978108406|0.051494892686605453|-0.06987078487873077| 0.02978893183171749|-0.06478487700223923|0.011836862191557884|0.005066994577646...|-2.99185398034751...|-0.04707498848438263|-0.05900267139077...|0.012306098826229572|0.010232376866042614|-0.01004316937178...|-0.01825480349361...|0.015651298686861992|0.024899793788790703|-0.07011297345161438|1.338647707598284E-4|0.036993980407714844|-0.01610539853572...| 0.03139341622591019|-0.00695529207587...|-0.10553274303674698|0.011087598279118538| 0.04992068186402321|-0.04622733592987...|0.013441347517073154|-0.02303798496723175|  0.0603044256567955|0.004843728616833687|-0.08101136237382889|0.022402245551347733|-0.06327120959758759|-0.03950666263699...|0.019253822043538094| 0.04825564846396446|  0.0355408601462841|-0.05228199809789...|0.007696988061070442|0.033149268478155136|-0.00360441533848...|  0.0531599223613739|-0.02900182642042637|-0.03296763077378273|-0.05285719037055969|0.04816482961177826| 0.0919097512960434|0.002204274991527...| 0.03826545923948288|-0.03099986538290...|  0.0742906928062439|-0.04368437826633...|-0.00115322368219...|-0.01364569272845...|-0.02411268837749958|0.059305403381586075|-4.21224656747654...|-0.07477506250143051|-0.08052699267864227|0.059668686240911484|-0.02025284059345...| 0.04537968337535858| 0.06944695860147476| 0.02405214123427868|-0.04768045619130...|-0.01456902828067...| 0.04525859281420708| 0.10456399619579315|-0.06926532089710236| 0.04713553562760353|0.017210373654961586|  0.0283963605761528|-0.00967232137918...|-0.05007204785943031|-0.02821472100913...| 0.02093399129807949|-0.10129448026418686|0.012298529967665672|0.001705711591057...|-0.01177631597965...| 0.03614632785320282| 0.08288831263780594|-0.02026797831058...|0.023582905530929565|-0.05561206117272377|-0.03653987869620323|-0.05116188526153...| 0.03756917268037796| 7.13314744643867E-4|-0.03345200046896...|0.004673441406339407| 0.02444569393992424|-0.02859313599765...|-0.04537968337535858|-0.02179677970707...|-0.03145396336913109|-0.00709530571475625|-0.03657015413045883|0.001909110345877707|0.007424528244882822| 0.04777127504348755|-0.01547722704708...|0.019374914467334747|-0.04547050595283508| -0.0353592187166214| 0.00515024596825242| -0.0674489215016365|-0.00851436704397...|-0.04020294919610...|-0.03917365521192551|-0.08912461251020432|0.017876386642456055|-0.07598599791526794|0.040959782898426056|0.042655088007450104|-0.04316973313689232|-0.01814884692430...|-0.01539397612214...|-0.02187246270477...|-0.06142453476786...| 0.05994114279747009|-0.03375473618507385|-0.02941051684319973| -0.0816773772239685|-0.02144863642752...|0.001152277691289...|-0.02212978526949...| -0.0778629407286644|0.012185005471110344| 0.07005243003368378|-0.01424358971416...|0.048043735325336456|-0.00438206084072...|-0.01005830522626...|0.012964542955160141| 0.06296847760677338|-0.03393637388944626|-0.02347694896161...|0.002554310020059347| 0.05412866920232773| 0.04313946142792702|-0.00589951034635...| 0.01662004366517067| 0.08385705202817917|-0.02209951356053...|-0.12521038949489594| 0.02724597416818142| 0.05530932918190956| 0.00291948183439672|-6.75473129376769...|-0.05470386147499...|0.006039524450898...|-0.02956188283860...|0.025005750358104706| 0.03796272352337837|-0.07507779449224472|0.007765102665871382|-0.01448577642440...|-0.00201317481696...|0.028593135997653008| 0.04117169603705406|-0.04307891428470...|  0.0354803130030632|-0.03735725954174...|-0.04447148367762...|-0.04540995880961418|0.014122497290372849|0.009944780729711056|-0.01082270685583353| 0.07314030826091766|-0.02589881233870983| 0.06672236323356628|-0.06908368319272995|-0.06448213756084442|0.021494045853614807|0.023159079253673553|0.027200564742088318|0.011155713349580765|0.017089281231164932| 0.03047008253633976|-0.00252214469946...|0.018315348774194717|0.008385705761611462| 0.06999187916517258|-0.04335137456655502|-0.00614926498383...|-0.02312880568206...|\n",
            "|        P4|Men's Crazy Horse...|This 9 in. black ...|Men's Crazy Horse...|0.020017404109239578| 0.05078849568963051|-0.01053505018353...|-0.01781484298408...|-0.03776746615767479|-0.08389171212911606|-0.00136141839902848| 0.03221247345209122| 0.03501426428556442|-0.01484300289303...|   0.036925308406353|-0.05713705718517...|-0.05590621381998062|-0.02053565531969...| 0.04609185457229614|0.06027894839644432|-0.00971718691289...|-0.03527338802814...|-0.05707227811217308|0.025005560368299484|-0.00952284317463...|0.014478608034551144|-0.00614207191392...|-0.04019676148891449| 0.13306067883968353| 0.09276674687862396|-0.06196326017379761|-3.89952736441046E-4|0.003943558316677809| 0.01702127233147621|-0.03779985755681...|-0.03799420222640...|0.049460481852293015|0.008073362521827221|-0.01509403064846...|-0.04680445045232773|0.043047137558460236|-0.00729598756879...|0.036439452320337296|0.009036983363330364| 0.03556490316987038| 0.01417089719325304|0.030690114945173264|0.002957668853923...| 0.10203046351671219|-0.02468165382742...|-0.02327266335487...| 0.07197196036577225|-0.00779804261401...| 0.06105632334947586|0.014591975137591362|0.005769579671323299|0.015596085228025913| 0.04709596559405327|-0.02618781849741...| 0.00923132710158825|-0.03637466952204704|0.014373338781297207| 0.04962243512272835| 0.03446362167596817|0.024633068591356277|-0.00823531579226...|-0.05623012036085129|-0.01362025644630...|0.006465977989137173|-0.02196084149181...|-0.01368503831326...|-0.02004979550838...|-0.12230699509382248|-0.02466545999050...|-0.01697268709540367|-0.05901571363210678| -0.0779966190457344|-0.01129622943699...| 0.04754943400621414| 0.04991395026445389|4.291757650207728E-4|-0.03397776186466217|-0.01888373307883...|-0.04162194952368736|-0.04971960559487343| 0.09814358502626419|-0.02066521719098091|-0.02328885719180107|0.028892435133457184| 0.04210780933499336|-0.03294126316905022|-0.03527338802814...|0.005866751540452242|-0.05661880970001221|0.059857871383428574|-0.00464400555938...| 0.07721924781799316|-0.00935279205441475|-0.02192845195531845|-0.02068141289055...|-0.03358907625079155| 0.05545274540781975|-0.04521730914711952|-0.00232402724213...|0.027645396068692207|-0.00556308962404...| 0.04291757568717003|-0.04233454540371895|  0.0184626542031765|-0.00978196784853...|-0.00334838056005...|-0.09509886801242828|-0.01039738953113...|-0.00109217129647...|-0.09477496147155762|-0.02280299924314022| 0.03072250634431839| 0.02095673233270645|-0.00154867663513...|-0.02586391195654869| 0.08402127772569656|0.003977973479777...| 0.04884506016969681|-0.00984674971550703|0.011142374016344547|0.014818710274994373|-0.10902683436870575|-0.10280783474445343|-0.06614165008068085| 0.06957505643367767|-0.01935339719057083|-0.03469035774469...| 0.06082959100604057|-0.03491709008812...|-0.04635098204016...| 0.03305463120341301| 0.06225477531552315|0.007162376306951046|-0.04473144933581352| 0.04356538876891136|0.014397631399333477|-0.05953396484255791|-0.09963355213403702|0.004830251447856426|-0.01294815167784...|0.009887238033115864|0.024730240926146507|-0.02370993606746...|-0.01268902607262...|0.003405064111575...|-0.02738627232611...|0.013158690184354782| -0.0691215917468071|0.004976009484380484| 0.02596108429133892|-0.05930722877383232|0.033621467649936676|-0.04278801381587982|-0.03177520260214...|   -0.05308822914958| 0.06795552372932434|-0.03002610802650...|-0.05146870017051697|-0.04567077755928...|-7.09050975274294...| 0.05950157344341278| 0.07929224520921707| 0.04388929530978203|0.036828137934207916|0.014543389901518822|0.004291757475584745|-0.08622384071350098|-0.07229586690664291|-0.01548271812498...| 0.05360648036003113|-0.00226936792023...| -0.0351114347577095|-0.05302345007658005|-0.02638216316699...| 0.02484360709786415|-0.01387128420174...|-0.00647002691403...|-0.02226855233311653|0.003909143153578043|-0.04618902876973152|-0.01046217139810...|0.028228428214788437|0.038091372698545456|-0.03413971513509...|0.019418178126215935|-0.03575924783945...|-0.03320038691163063|0.037799857556819916|-0.05658641830086708|-0.01645443588495...|0.060246556997299194|-0.00191610783804...|-0.07112980633974075|-0.03679574653506279|-0.06180130690336...|-0.01198453083634...| 0.04418081045150757|0.018171139061450958| 0.06581774353981018|-0.07320281118154526| 0.09095286577939987| 0.04716074839234352|0.009709089063107967|-0.02348320186138153|  0.0770248994231224| -0.0360831543803215|0.036439452320337296| 0.05195455998182297|-0.02675465494394...| 0.0660768672823906|-0.02557239681482315|  0.0385124497115612|-0.00598011864349246| 0.09140633791685104|-0.03127314522862...|-0.01293195597827...|-0.08266086876392365|-0.02330505289137...|0.059663526713848114|-0.09380324184894562|0.019725888967514038|-0.01100471429526...|0.008648295886814594|-0.00190497352741...|  0.0098710423335433| 0.07074111700057983|-0.03064152970910...|-0.01771767064929...|-0.01251087803393...|-0.04285279288887...|0.06795552372932434|-0.02842277102172...|-0.02126444317400...|-0.02268963120877...|-0.03090065345168...|-0.10481605678796768|0.040909357368946075|0.020244140177965164|0.029038192704319954|-0.12399130314588547|-0.00881024915724...| 0.02071380242705345|0.014470511116087437|-0.00737696420401...|-0.01029212027788...| 0.01283478457480669|-0.01212219055742...|-0.01568515971302986| 0.09995745867490768|-0.04638337343931198|-0.10345564782619476|0.029200145974755287|0.053444527089595795|0.04272323101758957|0.026382163166999817| -0.0324392095208168|-0.01259185466915369|0.040909357368946075| -0.0101139722391963| 0.02873048186302185|-0.00104358536191...|-0.03588880971074104| 0.00649027107283473|-0.01943437382578...|0.011053300462663174|0.014519096352159977|-0.05982547998428345| 0.01620340906083584|0.015183104202151299| 0.06011699512600899|0.051792606711387634|-0.01424377597868...|0.034690357744693756|-0.01810635812580...|-0.07935702800750732|0.009109863080084324|-0.03148368373513222|0.035759247839450836|0.052764326333999634| 0.02396906167268753| 0.04881266877055168| 0.05143630877137184| 0.07236064970493317| 0.05545274540781975|-0.01187116280198...|  0.0394841693341732| 0.02401764690876007|0.022576263174414635|7.869909168221056E-4|0.03919265419244766|0.006393099203705788|-0.00783853046596...| -0.0399700291454792|0.042464107275009155|0.018770365044474602|-0.03020425513386...|-0.00156082317698...|-0.04884506016969681|-0.08654774725437164|0.012802394106984138|0.04502296447753906|0.039160262793302536|0.001424175221472...|0.028309404850006104| 0.06665990501642227| 0.04855354502797127|-0.06963983923196793|-0.02578293532133...|-0.05182499811053276|0.003919265232980251|-0.01208980008959...|-0.02087575569748...|0.016397753730416298|0.001255136681720...|-0.10688905417919159|-0.01429236214607954| 0.03550012409687042|-0.05337974801659584|  -0.107148177921772|0.011863065883517265|-0.00864829588681...| 0.05778487026691437|-0.01927242055535...|-9.87914041616022...|0.003593334695324...| -0.0648784190416336|-0.04686922952532768|-0.00347794312983...|-0.03776746615767479|-0.04204303026199341|6.776725640520453E-4|0.010980420745909214|0.027596810832619667| 0.03870679438114166|0.021523568779230118|-0.02460067719221115|-0.00755916163325...| 0.06338845193386078|-0.00781828630715...|-0.08097656071186066|-0.00703281396999...| 0.04152477905154228| 0.05865941941738129| 0.06189848110079765|-0.03456079587340355| 0.06274063885211945|-0.02686802111566...|0.018219726160168648|0.012948151677846909|-0.03088445961475...|-0.01799299009144...| 0.02795310690999031| 0.04366255924105644|-0.03103021718561...| 0.00869688205420971|-0.07475756108760834|-0.10300218313932419|-0.04981677606701851| 0.06931593269109726|-0.08259608596563339| 0.06873290240764618|-0.03941938653588295|-0.06254629045724869|  0.0663359984755516| 0.05765530839562416| -0.1052047461271286|-0.05292627587914467|0.023596568033099174|-0.01094803027808...|0.04651293531060219|0.09108243137598038|0.011879260651767254|-0.01422758121043...|-0.02278680354356...| 0.05593860521912575|0.004591370932757...|0.018009185791015625|-0.00469259126111...|0.032827895134687424|-0.01668117009103...|  0.0331679992377758|0.013061518780887127|0.005077230278402567|-0.00153653020970...|-0.00838917121291...|-0.01567706093192...| 0.10293740034103394| 0.03951656073331833|-0.01373362448066473|0.029831763356924057|-0.06905680894851685|0.014867295511066914|-0.01977447606623...|0.010640319436788559|-0.01454338990151...|   0.071194589138031|0.008397269062697887|-0.00211551249958...|-0.02213899046182...| 0.01038119476288557|-0.01674595288932...|-0.00284430151805...|-0.08227217942476273|0.014195190742611885| -0.0404558889567852|-0.06361518055200577| 0.09393280744552612|-0.01033260859549...|-0.06957505643367767|  0.0749519020318985| 0.02144259214401245|0.003018401097506...|0.025167513638734818|0.009919628500938416|-0.00187663175165...| 0.04845637083053589| -0.0749519020318985|-0.07514624297618866| 0.05914527550339699|-0.04729031026363373|-0.01990403793752...|-0.02230094373226...|0.027645396068692207|0.013029128313064575|-0.01800918579101...| 0.00798023957759142|-0.00583436107262969|0.013960358686745167| 0.00984674971550703|-0.00169443443883...|-0.00392938731238246|0.011636331677436829|  0.1011883020401001|-0.06491080671548843|-0.01860841363668...|-0.03728160634636879|-0.03582403063774109|0.016430143266916275| 0.06730771064758301|-0.06665990501642227|-0.02656031027436...|-0.01602526009082...|-0.02027652971446514|0.007931653410196304| 0.08227217942476273|-0.04090935736894...|-0.02934590354561...| -0.0626758560538292|-0.04395407438278198|0.056456856429576874|-0.01575803756713...|0.006048948969691992|0.008923616260290146|-0.04797051101922989|0.034981872886419296|0.047322701662778854|-0.04087696596980095|-0.01703746803104...|0.007259548176079...|0.057234231382608414| -0.0321962796151638| 0.03452840447425842|-0.01935339719057083|-8.27479176223278E-4|-0.04184868559241295|  0.0658501386642456|0.046253807842731476| 0.04009959101676941| 0.01373362448066473|-0.01492397952824831| 0.01896470971405506|-0.06066763773560524|-0.00396785140037...| 0.04395407438278198| 0.08143002539873123|0.049557652324438095| 0.03728160634636879|-0.04897462204098...| -0.0194991547614336|-0.05075610429048538|-0.01379030756652...|-0.12301958352327347|-0.03156466037034...|0.023224076256155968|0.003911167848855257|  0.0102354371920228|0.055679481476545334|-0.13293111324310303|-0.00596797233447...|-0.05639207363128662|-0.01687551476061344|-0.00471283541992...|-0.01186306588351...|-0.02315929532051...|0.027645396068692207|-0.03103021718561...|-0.06491080671548843| 0.04113608971238136| 0.02732148952782154|0.014575780369341373|-0.01472153794020...|-0.04204303026199341|-0.04032632708549...|-0.04327387362718582|0.004716884344816208|0.005453770980238...|-0.00142923626117...|-0.02029272541403...|0.012276045978069305|  0.0081098023802042| 0.10002224147319794|\n",
            "+----------+--------------------+--------------------+--------------------+--------------------+--------------------+--------------------+--------------------+--------------------+--------------------+--------------------+--------------------+--------------------+--------------------+--------------------+--------------------+--------------------+--------------------+--------------------+-------------------+--------------------+--------------------+--------------------+--------------------+--------------------+--------------------+--------------------+--------------------+--------------------+--------------------+--------------------+--------------------+--------------------+--------------------+--------------------+--------------------+--------------------+--------------------+--------------------+--------------------+--------------------+--------------------+--------------------+--------------------+--------------------+--------------------+--------------------+--------------------+--------------------+--------------------+--------------------+--------------------+--------------------+--------------------+--------------------+--------------------+--------------------+--------------------+--------------------+--------------------+--------------------+--------------------+--------------------+--------------------+--------------------+--------------------+--------------------+--------------------+--------------------+--------------------+--------------------+--------------------+--------------------+--------------------+--------------------+--------------------+--------------------+--------------------+--------------------+--------------------+--------------------+--------------------+--------------------+--------------------+--------------------+--------------------+--------------------+--------------------+--------------------+--------------------+--------------------+--------------------+--------------------+--------------------+--------------------+--------------------+--------------------+--------------------+--------------------+--------------------+--------------------+--------------------+--------------------+--------------------+--------------------+--------------------+--------------------+--------------------+--------------------+--------------------+--------------------+--------------------+--------------------+--------------------+--------------------+--------------------+--------------------+--------------------+--------------------+--------------------+--------------------+--------------------+--------------------+--------------------+--------------------+--------------------+--------------------+--------------------+--------------------+--------------------+--------------------+--------------------+--------------------+--------------------+--------------------+--------------------+--------------------+--------------------+--------------------+--------------------+--------------------+--------------------+--------------------+--------------------+--------------------+--------------------+--------------------+--------------------+--------------------+--------------------+--------------------+--------------------+--------------------+--------------------+--------------------+--------------------+--------------------+--------------------+--------------------+--------------------+--------------------+--------------------+--------------------+--------------------+--------------------+--------------------+--------------------+--------------------+--------------------+--------------------+--------------------+--------------------+--------------------+--------------------+--------------------+--------------------+--------------------+--------------------+--------------------+--------------------+--------------------+--------------------+--------------------+--------------------+--------------------+--------------------+--------------------+--------------------+--------------------+--------------------+--------------------+--------------------+--------------------+--------------------+--------------------+--------------------+--------------------+--------------------+--------------------+--------------------+--------------------+--------------------+--------------------+--------------------+--------------------+--------------------+--------------------+--------------------+--------------------+--------------------+--------------------+--------------------+--------------------+--------------------+-------------------+--------------------+--------------------+--------------------+--------------------+--------------------+--------------------+--------------------+--------------------+--------------------+--------------------+--------------------+--------------------+--------------------+--------------------+--------------------+--------------------+--------------------+--------------------+--------------------+--------------------+-------------------+--------------------+--------------------+--------------------+--------------------+--------------------+--------------------+--------------------+--------------------+--------------------+--------------------+--------------------+--------------------+--------------------+--------------------+--------------------+--------------------+--------------------+--------------------+--------------------+--------------------+--------------------+--------------------+-------------------+--------------------+--------------------+--------------------+--------------------+--------------------+--------------------+--------------------+--------------------+--------------------+--------------------+--------------------+--------------------+--------------------+--------------------+--------------------+--------------------+--------------------+--------------------+--------------------+--------------------+--------------------+--------------------+--------------------+--------------------+--------------------+--------------------+--------------------+--------------------+--------------------+--------------------+--------------------+--------------------+--------------------+--------------------+--------------------+-------------------+--------------------+--------------------+--------------------+--------------------+--------------------+--------------------+--------------------+--------------------+--------------------+--------------------+-------------------+--------------------+--------------------+--------------------+--------------------+--------------------+--------------------+--------------------+--------------------+--------------------+--------------------+--------------------+--------------------+--------------------+--------------------+--------------------+--------------------+--------------------+--------------------+--------------------+--------------------+--------------------+--------------------+--------------------+--------------------+--------------------+--------------------+--------------------+--------------------+--------------------+--------------------+--------------------+--------------------+--------------------+--------------------+--------------------+--------------------+--------------------+--------------------+--------------------+--------------------+--------------------+--------------------+--------------------+--------------------+--------------------+--------------------+--------------------+--------------------+--------------------+--------------------+--------------------+--------------------+--------------------+--------------------+--------------------+--------------------+--------------------+--------------------+--------------------+--------------------+--------------------+--------------------+--------------------+--------------------+--------------------+--------------------+--------------------+--------------------+-------------------+-------------------+--------------------+--------------------+--------------------+--------------------+--------------------+--------------------+--------------------+--------------------+--------------------+--------------------+--------------------+--------------------+--------------------+--------------------+--------------------+--------------------+--------------------+--------------------+--------------------+--------------------+--------------------+--------------------+--------------------+--------------------+--------------------+--------------------+--------------------+--------------------+--------------------+--------------------+--------------------+--------------------+--------------------+--------------------+--------------------+--------------------+--------------------+--------------------+--------------------+--------------------+--------------------+--------------------+--------------------+--------------------+--------------------+--------------------+--------------------+--------------------+--------------------+--------------------+--------------------+--------------------+--------------------+--------------------+--------------------+--------------------+--------------------+--------------------+--------------------+--------------------+--------------------+--------------------+--------------------+--------------------+--------------------+--------------------+--------------------+--------------------+--------------------+--------------------+--------------------+--------------------+--------------------+--------------------+--------------------+--------------------+--------------------+--------------------+--------------------+--------------------+--------------------+--------------------+--------------------+--------------------+--------------------+--------------------+--------------------+--------------------+--------------------+--------------------+--------------------+--------------------+--------------------+--------------------+--------------------+--------------------+--------------------+--------------------+--------------------+--------------------+--------------------+--------------------+--------------------+--------------------+--------------------+--------------------+--------------------+--------------------+--------------------+--------------------+--------------------+--------------------+--------------------+--------------------+--------------------+--------------------+--------------------+--------------------+--------------------+--------------------+--------------------+--------------------+--------------------+--------------------+--------------------+--------------------+--------------------+--------------------+--------------------+--------------------+--------------------+--------------------+--------------------+--------------------+--------------------+--------------------+--------------------+--------------------+--------------------+--------------------+\n",
            "only showing top 5 rows\n",
            "\n"
          ]
        }
      ],
      "source": [
        "df=df.join(embeddings_df, on=\"id\", how=\"inner\").drop(\"id\")\n",
        "df.show(5)"
      ]
    },
    {
      "cell_type": "markdown",
      "metadata": {
        "id": "hY4One5i4VXh"
      },
      "source": [
        "### Task 3 - Cluster products using K-means"
      ]
    },
    {
      "cell_type": "markdown",
      "metadata": {
        "id": "QVGiIJZC22Yo"
      },
      "source": [
        "Assemble the 512 Embedding Columns into a Single 'features' Column"
      ]
    },
    {
      "cell_type": "code",
      "execution_count": 16,
      "metadata": {
        "id": "uCBdSiRb23Wx"
      },
      "outputs": [
        {
          "name": "stdout",
          "output_type": "stream",
          "text": [
            "+----------+--------------------+--------------------+--------------------+\n",
            "|product_id|               title|         description|            features|\n",
            "+----------+--------------------+--------------------+--------------------+\n",
            "|        P0|Men's 3X Large Ca...|This heavyweight,...|[0.03748211637139...|\n",
            "|        P1|Turmode 30 ft. RP...|If you need more ...|[0.03538732230663...|\n",
            "|        P2|Large Tapestry Bo...|Polyester cover r...|[0.03585880994796...|\n",
            "|        P3|16-Gauge-Sinks Ve...|It features a rec...|[-0.0583366602659...|\n",
            "|        P4|Men's Crazy Horse...|This 9 in. black ...|[0.02001740410923...|\n",
            "+----------+--------------------+--------------------+--------------------+\n",
            "only showing top 5 rows\n",
            "\n"
          ]
        }
      ],
      "source": [
        "# Create a VectorAssembler to combine the embedding columns into a single vector column\n",
        "vector_assembler = VectorAssembler(inputCols=features_column_names, outputCol=\"features\")\n",
        "df_vector = vector_assembler.transform(df)\n",
        "df_vector = df_vector.select(\"product_id\", \"title\", \"description\", \"features\")\n",
        "df_vector.show(5)"
      ]
    },
    {
      "cell_type": "markdown",
      "metadata": {
        "id": "7VFW7IQN3nGw"
      },
      "source": [
        "Apply K-Means Clustering with 5 Clusters on the `features` Column"
      ]
    },
    {
      "cell_type": "code",
      "execution_count": 17,
      "metadata": {
        "id": "rW42NbueuByN"
      },
      "outputs": [
        {
          "name": "stdout",
          "output_type": "stream",
          "text": [
            "+----------+--------------------+--------------------+--------------------+-------+\n",
            "|product_id|               title|         description|            features|cluster|\n",
            "+----------+--------------------+--------------------+--------------------+-------+\n",
            "|        P0|Men's 3X Large Ca...|This heavyweight,...|[0.03748211637139...|      4|\n",
            "|        P1|Turmode 30 ft. RP...|If you need more ...|[0.03538732230663...|      4|\n",
            "|        P2|Large Tapestry Bo...|Polyester cover r...|[0.03585880994796...|      3|\n",
            "|        P3|16-Gauge-Sinks Ve...|It features a rec...|[-0.0583366602659...|      1|\n",
            "|        P4|Men's Crazy Horse...|This 9 in. black ...|[0.02001740410923...|      4|\n",
            "+----------+--------------------+--------------------+--------------------+-------+\n",
            "only showing top 5 rows\n",
            "\n"
          ]
        }
      ],
      "source": [
        "#Apply KMeans clustering to the vectorized data\n",
        "kmeans = KMeans(k=5, featuresCol=\"features\", predictionCol=\"cluster\")\n",
        "kmeans_model = kmeans.fit(df_vector)\n",
        "# Make predictions\n",
        "clustered_data = kmeans_model.transform(df_vector)\n",
        "clustered_data.show(5)"
      ]
    },
    {
      "cell_type": "markdown",
      "metadata": {
        "id": "tmQsXruiibQN"
      },
      "source": [
        "### Task 4 - Visualize the clusters"
      ]
    },
    {
      "cell_type": "markdown",
      "metadata": {
        "id": "RcKNghIQ7tmW"
      },
      "source": [
        "Let's reduce the dimensionality of our features for visualization purpose\n",
        "\n",
        "`512 dimensions => 2 dimensions`"
      ]
    },
    {
      "cell_type": "code",
      "execution_count": 18,
      "metadata": {
        "id": "j4nInmIO3kef"
      },
      "outputs": [
        {
          "name": "stdout",
          "output_type": "stream",
          "text": [
            "+----------+--------------------+--------------------+--------------------+-------+--------------------+\n",
            "|product_id|               title|         description|            features|cluster|        pca_features|\n",
            "+----------+--------------------+--------------------+--------------------+-------+--------------------+\n",
            "|        P0|Men's 3X Large Ca...|This heavyweight,...|[0.03748211637139...|      4|[0.17182252527565...|\n",
            "|        P1|Turmode 30 ft. RP...|If you need more ...|[0.03538732230663...|      4|[-0.1713116207975...|\n",
            "|        P2|Large Tapestry Bo...|Polyester cover r...|[0.03585880994796...|      3|[-0.0156937687209...|\n",
            "|        P3|16-Gauge-Sinks Ve...|It features a rec...|[-0.0583366602659...|      1|[0.00186577371176...|\n",
            "|        P4|Men's Crazy Horse...|This 9 in. black ...|[0.02001740410923...|      4|[-0.0289821929329...|\n",
            "+----------+--------------------+--------------------+--------------------+-------+--------------------+\n",
            "only showing top 5 rows\n",
            "\n"
          ]
        }
      ],
      "source": [
        "#Reduce the dimensionality of the data using PCA\n",
        "pca = PCA(k=2, inputCol=\"features\", outputCol=\"pca_features\")\n",
        "pca_model = pca.fit(clustered_data)\n",
        "# Transform the data using PCA\n",
        "pca_predictions = pca_model.transform(clustered_data)\n",
        "pca_predictions.show(5)"
      ]
    },
    {
      "cell_type": "code",
      "execution_count": 19,
      "metadata": {
        "id": "GTDBB6hfl5B1"
      },
      "outputs": [
        {
          "data": {
            "text/html": [
              "<div>\n",
              "<style scoped>\n",
              "    .dataframe tbody tr th:only-of-type {\n",
              "        vertical-align: middle;\n",
              "    }\n",
              "\n",
              "    .dataframe tbody tr th {\n",
              "        vertical-align: top;\n",
              "    }\n",
              "\n",
              "    .dataframe thead th {\n",
              "        text-align: right;\n",
              "    }\n",
              "</style>\n",
              "<table border=\"1\" class=\"dataframe\">\n",
              "  <thead>\n",
              "    <tr style=\"text-align: right;\">\n",
              "      <th></th>\n",
              "      <th>product_id</th>\n",
              "      <th>cluster</th>\n",
              "      <th>pca_features</th>\n",
              "    </tr>\n",
              "  </thead>\n",
              "  <tbody>\n",
              "    <tr>\n",
              "      <th>0</th>\n",
              "      <td>P0</td>\n",
              "      <td>4</td>\n",
              "      <td>[0.17182252527565395, -0.03081721970236098]</td>\n",
              "    </tr>\n",
              "    <tr>\n",
              "      <th>1</th>\n",
              "      <td>P1</td>\n",
              "      <td>4</td>\n",
              "      <td>[-0.17131162079758153, 0.13221598409066537]</td>\n",
              "    </tr>\n",
              "    <tr>\n",
              "      <th>2</th>\n",
              "      <td>P2</td>\n",
              "      <td>3</td>\n",
              "      <td>[-0.015693768720934424, -0.31012649245082896]</td>\n",
              "    </tr>\n",
              "    <tr>\n",
              "      <th>3</th>\n",
              "      <td>P3</td>\n",
              "      <td>1</td>\n",
              "      <td>[0.0018657737117699826, -0.05688727143212571]</td>\n",
              "    </tr>\n",
              "    <tr>\n",
              "      <th>4</th>\n",
              "      <td>P4</td>\n",
              "      <td>4</td>\n",
              "      <td>[-0.028982192932957198, 0.03979818215450777]</td>\n",
              "    </tr>\n",
              "  </tbody>\n",
              "</table>\n",
              "</div>"
            ],
            "text/plain": [
              "  product_id  cluster                                   pca_features\n",
              "0         P0        4    [0.17182252527565395, -0.03081721970236098]\n",
              "1         P1        4    [-0.17131162079758153, 0.13221598409066537]\n",
              "2         P2        3  [-0.015693768720934424, -0.31012649245082896]\n",
              "3         P3        1  [0.0018657737117699826, -0.05688727143212571]\n",
              "4         P4        4   [-0.028982192932957198, 0.03979818215450777]"
            ]
          },
          "execution_count": 19,
          "metadata": {},
          "output_type": "execute_result"
        }
      ],
      "source": [
        "pca_df = pca_predictions.select(\"product_id\", \"cluster\", \"pca_features\").toPandas()\n",
        "pca_df.head(5)"
      ]
    },
    {
      "cell_type": "markdown",
      "metadata": {
        "id": "7aKKtmrtz6JI"
      },
      "source": [
        "Let's plot the Clusters"
      ]
    },
    {
      "cell_type": "code",
      "execution_count": 20,
      "metadata": {},
      "outputs": [
        {
          "data": {
            "text/html": [
              "<div>\n",
              "<style scoped>\n",
              "    .dataframe tbody tr th:only-of-type {\n",
              "        vertical-align: middle;\n",
              "    }\n",
              "\n",
              "    .dataframe tbody tr th {\n",
              "        vertical-align: top;\n",
              "    }\n",
              "\n",
              "    .dataframe thead th {\n",
              "        text-align: right;\n",
              "    }\n",
              "</style>\n",
              "<table border=\"1\" class=\"dataframe\">\n",
              "  <thead>\n",
              "    <tr style=\"text-align: right;\">\n",
              "      <th></th>\n",
              "      <th>product_id</th>\n",
              "      <th>cluster</th>\n",
              "      <th>pca_features</th>\n",
              "      <th>x</th>\n",
              "      <th>y</th>\n",
              "    </tr>\n",
              "  </thead>\n",
              "  <tbody>\n",
              "    <tr>\n",
              "      <th>0</th>\n",
              "      <td>P0</td>\n",
              "      <td>4</td>\n",
              "      <td>[0.17182252527565395, -0.03081721970236098]</td>\n",
              "      <td>0.171823</td>\n",
              "      <td>-0.030817</td>\n",
              "    </tr>\n",
              "    <tr>\n",
              "      <th>1</th>\n",
              "      <td>P1</td>\n",
              "      <td>4</td>\n",
              "      <td>[-0.17131162079758153, 0.13221598409066537]</td>\n",
              "      <td>-0.171312</td>\n",
              "      <td>0.132216</td>\n",
              "    </tr>\n",
              "    <tr>\n",
              "      <th>2</th>\n",
              "      <td>P2</td>\n",
              "      <td>3</td>\n",
              "      <td>[-0.015693768720934424, -0.31012649245082896]</td>\n",
              "      <td>-0.015694</td>\n",
              "      <td>-0.310126</td>\n",
              "    </tr>\n",
              "    <tr>\n",
              "      <th>3</th>\n",
              "      <td>P3</td>\n",
              "      <td>1</td>\n",
              "      <td>[0.0018657737117699826, -0.05688727143212571]</td>\n",
              "      <td>0.001866</td>\n",
              "      <td>-0.056887</td>\n",
              "    </tr>\n",
              "    <tr>\n",
              "      <th>4</th>\n",
              "      <td>P4</td>\n",
              "      <td>4</td>\n",
              "      <td>[-0.028982192932957198, 0.03979818215450777]</td>\n",
              "      <td>-0.028982</td>\n",
              "      <td>0.039798</td>\n",
              "    </tr>\n",
              "  </tbody>\n",
              "</table>\n",
              "</div>"
            ],
            "text/plain": [
              "  product_id  cluster                                   pca_features  \\\n",
              "0         P0        4    [0.17182252527565395, -0.03081721970236098]   \n",
              "1         P1        4    [-0.17131162079758153, 0.13221598409066537]   \n",
              "2         P2        3  [-0.015693768720934424, -0.31012649245082896]   \n",
              "3         P3        1  [0.0018657737117699826, -0.05688727143212571]   \n",
              "4         P4        4   [-0.028982192932957198, 0.03979818215450777]   \n",
              "\n",
              "          x         y  \n",
              "0  0.171823 -0.030817  \n",
              "1 -0.171312  0.132216  \n",
              "2 -0.015694 -0.310126  \n",
              "3  0.001866 -0.056887  \n",
              "4 -0.028982  0.039798  "
            ]
          },
          "execution_count": 20,
          "metadata": {},
          "output_type": "execute_result"
        }
      ],
      "source": [
        "pca_df['x'] = pca_df['pca_features'].apply(lambda x: x[0])\n",
        "pca_df['y'] = pca_df['pca_features'].apply(lambda x: x[1])\n",
        "pca_df.head(5)"
      ]
    },
    {
      "cell_type": "code",
      "execution_count": 21,
      "metadata": {
        "id": "wyWDqBw63yyo"
      },
      "outputs": [
        {
          "data": {
            "application/vnd.plotly.v1+json": {
              "config": {
                "plotlyServerURL": "https://plot.ly"
              },
              "data": [
                {
                  "customdata": [
                    [
                      "P0"
                    ],
                    [
                      "P1"
                    ],
                    [
                      "P4"
                    ],
                    [
                      "P7"
                    ],
                    [
                      "P13"
                    ],
                    [
                      "P23"
                    ],
                    [
                      "P28"
                    ],
                    [
                      "P37"
                    ],
                    [
                      "P46"
                    ],
                    [
                      "P47"
                    ],
                    [
                      "P57"
                    ],
                    [
                      "P61"
                    ],
                    [
                      "P68"
                    ],
                    [
                      "P82"
                    ],
                    [
                      "P94"
                    ],
                    [
                      "P102"
                    ],
                    [
                      "P110"
                    ],
                    [
                      "P114"
                    ],
                    [
                      "P115"
                    ],
                    [
                      "P139"
                    ],
                    [
                      "P150"
                    ],
                    [
                      "P151"
                    ],
                    [
                      "P153"
                    ],
                    [
                      "P163"
                    ],
                    [
                      "P169"
                    ],
                    [
                      "P170"
                    ],
                    [
                      "P174"
                    ],
                    [
                      "P181"
                    ],
                    [
                      "P190"
                    ],
                    [
                      "P191"
                    ],
                    [
                      "P202"
                    ],
                    [
                      "P206"
                    ],
                    [
                      "P216"
                    ],
                    [
                      "P217"
                    ],
                    [
                      "P226"
                    ],
                    [
                      "P232"
                    ],
                    [
                      "P239"
                    ],
                    [
                      "P245"
                    ],
                    [
                      "P256"
                    ],
                    [
                      "P266"
                    ],
                    [
                      "P273"
                    ],
                    [
                      "P274"
                    ],
                    [
                      "P284"
                    ],
                    [
                      "P285"
                    ],
                    [
                      "P288"
                    ],
                    [
                      "P289"
                    ],
                    [
                      "P307"
                    ],
                    [
                      "P308"
                    ],
                    [
                      "P309"
                    ],
                    [
                      "P319"
                    ],
                    [
                      "P322"
                    ],
                    [
                      "P326"
                    ],
                    [
                      "P331"
                    ],
                    [
                      "P334"
                    ],
                    [
                      "P344"
                    ],
                    [
                      "P346"
                    ],
                    [
                      "P348"
                    ],
                    [
                      "P349"
                    ],
                    [
                      "P354"
                    ],
                    [
                      "P357"
                    ],
                    [
                      "P358"
                    ],
                    [
                      "P360"
                    ],
                    [
                      "P367"
                    ],
                    [
                      "P368"
                    ],
                    [
                      "P373"
                    ],
                    [
                      "P374"
                    ],
                    [
                      "P395"
                    ],
                    [
                      "P403"
                    ],
                    [
                      "P410"
                    ],
                    [
                      "P411"
                    ],
                    [
                      "P419"
                    ],
                    [
                      "P431"
                    ],
                    [
                      "P434"
                    ],
                    [
                      "P437"
                    ],
                    [
                      "P439"
                    ],
                    [
                      "P446"
                    ],
                    [
                      "P455"
                    ],
                    [
                      "P457"
                    ],
                    [
                      "P467"
                    ],
                    [
                      "P472"
                    ],
                    [
                      "P475"
                    ],
                    [
                      "P494"
                    ],
                    [
                      "P495"
                    ],
                    [
                      "P499"
                    ],
                    [
                      "P507"
                    ],
                    [
                      "P514"
                    ],
                    [
                      "P517"
                    ],
                    [
                      "P519"
                    ],
                    [
                      "P523"
                    ],
                    [
                      "P525"
                    ],
                    [
                      "P527"
                    ],
                    [
                      "P544"
                    ],
                    [
                      "P547"
                    ],
                    [
                      "P553"
                    ],
                    [
                      "P554"
                    ],
                    [
                      "P556"
                    ],
                    [
                      "P572"
                    ],
                    [
                      "P577"
                    ],
                    [
                      "P579"
                    ],
                    [
                      "P582"
                    ],
                    [
                      "P587"
                    ],
                    [
                      "P597"
                    ],
                    [
                      "P605"
                    ],
                    [
                      "P609"
                    ],
                    [
                      "P615"
                    ],
                    [
                      "P617"
                    ],
                    [
                      "P618"
                    ],
                    [
                      "P624"
                    ],
                    [
                      "P626"
                    ],
                    [
                      "P628"
                    ],
                    [
                      "P633"
                    ],
                    [
                      "P636"
                    ],
                    [
                      "P637"
                    ],
                    [
                      "P643"
                    ],
                    [
                      "P646"
                    ],
                    [
                      "P648"
                    ],
                    [
                      "P654"
                    ],
                    [
                      "P661"
                    ],
                    [
                      "P662"
                    ],
                    [
                      "P669"
                    ],
                    [
                      "P670"
                    ],
                    [
                      "P671"
                    ],
                    [
                      "P674"
                    ],
                    [
                      "P675"
                    ],
                    [
                      "P676"
                    ],
                    [
                      "P680"
                    ],
                    [
                      "P697"
                    ],
                    [
                      "P698"
                    ],
                    [
                      "P700"
                    ],
                    [
                      "P701"
                    ],
                    [
                      "P706"
                    ],
                    [
                      "P709"
                    ],
                    [
                      "P711"
                    ],
                    [
                      "P714"
                    ],
                    [
                      "P740"
                    ],
                    [
                      "P743"
                    ],
                    [
                      "P745"
                    ],
                    [
                      "P746"
                    ],
                    [
                      "P748"
                    ],
                    [
                      "P757"
                    ],
                    [
                      "P760"
                    ],
                    [
                      "P764"
                    ],
                    [
                      "P773"
                    ],
                    [
                      "P784"
                    ],
                    [
                      "P788"
                    ],
                    [
                      "P790"
                    ],
                    [
                      "P793"
                    ],
                    [
                      "P795"
                    ],
                    [
                      "P800"
                    ],
                    [
                      "P804"
                    ],
                    [
                      "P805"
                    ],
                    [
                      "P808"
                    ],
                    [
                      "P809"
                    ],
                    [
                      "P814"
                    ],
                    [
                      "P815"
                    ],
                    [
                      "P818"
                    ],
                    [
                      "P822"
                    ],
                    [
                      "P823"
                    ],
                    [
                      "P828"
                    ],
                    [
                      "P830"
                    ],
                    [
                      "P838"
                    ],
                    [
                      "P842"
                    ],
                    [
                      "P855"
                    ],
                    [
                      "P870"
                    ],
                    [
                      "P885"
                    ],
                    [
                      "P896"
                    ],
                    [
                      "P897"
                    ],
                    [
                      "P903"
                    ],
                    [
                      "P905"
                    ],
                    [
                      "P908"
                    ],
                    [
                      "P912"
                    ],
                    [
                      "P919"
                    ],
                    [
                      "P923"
                    ],
                    [
                      "P929"
                    ],
                    [
                      "P939"
                    ],
                    [
                      "P957"
                    ],
                    [
                      "P961"
                    ],
                    [
                      "P962"
                    ],
                    [
                      "P965"
                    ],
                    [
                      "P969"
                    ],
                    [
                      "P972"
                    ],
                    [
                      "P981"
                    ],
                    [
                      "P982"
                    ],
                    [
                      "P984"
                    ],
                    [
                      "P985"
                    ],
                    [
                      "P996"
                    ],
                    [
                      "P997"
                    ],
                    [
                      "P1010"
                    ],
                    [
                      "P1012"
                    ],
                    [
                      "P1014"
                    ],
                    [
                      "P1016"
                    ],
                    [
                      "P1022"
                    ],
                    [
                      "P1028"
                    ],
                    [
                      "P1032"
                    ],
                    [
                      "P1034"
                    ],
                    [
                      "P1036"
                    ],
                    [
                      "P1049"
                    ],
                    [
                      "P1053"
                    ],
                    [
                      "P1055"
                    ],
                    [
                      "P1066"
                    ],
                    [
                      "P1067"
                    ],
                    [
                      "P1068"
                    ],
                    [
                      "P1075"
                    ],
                    [
                      "P1092"
                    ],
                    [
                      "P1093"
                    ],
                    [
                      "P1097"
                    ],
                    [
                      "P1098"
                    ],
                    [
                      "P1100"
                    ],
                    [
                      "P1106"
                    ],
                    [
                      "P1111"
                    ],
                    [
                      "P1124"
                    ],
                    [
                      "P1127"
                    ],
                    [
                      "P1152"
                    ],
                    [
                      "P1156"
                    ],
                    [
                      "P1158"
                    ],
                    [
                      "P1160"
                    ],
                    [
                      "P1161"
                    ],
                    [
                      "P1163"
                    ],
                    [
                      "P1177"
                    ],
                    [
                      "P1178"
                    ],
                    [
                      "P1182"
                    ],
                    [
                      "P1184"
                    ],
                    [
                      "P1192"
                    ],
                    [
                      "P1193"
                    ],
                    [
                      "P1210"
                    ],
                    [
                      "P1219"
                    ],
                    [
                      "P1227"
                    ],
                    [
                      "P1230"
                    ],
                    [
                      "P1238"
                    ],
                    [
                      "P1241"
                    ],
                    [
                      "P1244"
                    ],
                    [
                      "P1250"
                    ],
                    [
                      "P1251"
                    ],
                    [
                      "P1256"
                    ],
                    [
                      "P1264"
                    ],
                    [
                      "P1273"
                    ],
                    [
                      "P1280"
                    ],
                    [
                      "P1288"
                    ],
                    [
                      "P1293"
                    ],
                    [
                      "P1294"
                    ],
                    [
                      "P1304"
                    ],
                    [
                      "P1307"
                    ],
                    [
                      "P1314"
                    ],
                    [
                      "P1319"
                    ],
                    [
                      "P1329"
                    ],
                    [
                      "P1338"
                    ],
                    [
                      "P1340"
                    ],
                    [
                      "P1347"
                    ],
                    [
                      "P1353"
                    ],
                    [
                      "P1366"
                    ],
                    [
                      "P1367"
                    ],
                    [
                      "P1369"
                    ],
                    [
                      "P1371"
                    ],
                    [
                      "P1379"
                    ],
                    [
                      "P1390"
                    ],
                    [
                      "P1392"
                    ],
                    [
                      "P1393"
                    ],
                    [
                      "P1395"
                    ],
                    [
                      "P1396"
                    ],
                    [
                      "P1427"
                    ],
                    [
                      "P1431"
                    ],
                    [
                      "P1439"
                    ],
                    [
                      "P1442"
                    ],
                    [
                      "P1449"
                    ],
                    [
                      "P1451"
                    ],
                    [
                      "P1464"
                    ],
                    [
                      "P1472"
                    ],
                    [
                      "P1473"
                    ],
                    [
                      "P1482"
                    ],
                    [
                      "P1485"
                    ],
                    [
                      "P1488"
                    ],
                    [
                      "P1493"
                    ],
                    [
                      "P1507"
                    ],
                    [
                      "P1508"
                    ],
                    [
                      "P1509"
                    ],
                    [
                      "P1512"
                    ],
                    [
                      "P1513"
                    ],
                    [
                      "P1514"
                    ],
                    [
                      "P1517"
                    ],
                    [
                      "P1520"
                    ],
                    [
                      "P1525"
                    ],
                    [
                      "P1535"
                    ],
                    [
                      "P1547"
                    ],
                    [
                      "P1552"
                    ],
                    [
                      "P1554"
                    ],
                    [
                      "P1562"
                    ],
                    [
                      "P1566"
                    ],
                    [
                      "P1570"
                    ],
                    [
                      "P1576"
                    ],
                    [
                      "P1577"
                    ],
                    [
                      "P1582"
                    ],
                    [
                      "P1587"
                    ],
                    [
                      "P1588"
                    ],
                    [
                      "P1589"
                    ],
                    [
                      "P1592"
                    ],
                    [
                      "P1603"
                    ],
                    [
                      "P1607"
                    ],
                    [
                      "P1609"
                    ],
                    [
                      "P1614"
                    ],
                    [
                      "P1620"
                    ],
                    [
                      "P1630"
                    ],
                    [
                      "P1631"
                    ],
                    [
                      "P1633"
                    ],
                    [
                      "P1653"
                    ],
                    [
                      "P1656"
                    ],
                    [
                      "P1658"
                    ],
                    [
                      "P1659"
                    ],
                    [
                      "P1668"
                    ],
                    [
                      "P1682"
                    ],
                    [
                      "P1684"
                    ],
                    [
                      "P1686"
                    ],
                    [
                      "P1687"
                    ],
                    [
                      "P1688"
                    ],
                    [
                      "P1692"
                    ],
                    [
                      "P1708"
                    ],
                    [
                      "P1720"
                    ],
                    [
                      "P1723"
                    ],
                    [
                      "P1724"
                    ],
                    [
                      "P1737"
                    ],
                    [
                      "P1740"
                    ],
                    [
                      "P1744"
                    ],
                    [
                      "P1753"
                    ],
                    [
                      "P1757"
                    ],
                    [
                      "P1763"
                    ],
                    [
                      "P1776"
                    ],
                    [
                      "P1779"
                    ],
                    [
                      "P1783"
                    ],
                    [
                      "P1784"
                    ],
                    [
                      "P1785"
                    ],
                    [
                      "P1800"
                    ],
                    [
                      "P1806"
                    ],
                    [
                      "P1809"
                    ],
                    [
                      "P1810"
                    ],
                    [
                      "P1814"
                    ],
                    [
                      "P1820"
                    ],
                    [
                      "P1821"
                    ],
                    [
                      "P1823"
                    ],
                    [
                      "P1829"
                    ],
                    [
                      "P1839"
                    ],
                    [
                      "P1841"
                    ],
                    [
                      "P1843"
                    ],
                    [
                      "P1844"
                    ],
                    [
                      "P1847"
                    ],
                    [
                      "P1848"
                    ],
                    [
                      "P1850"
                    ],
                    [
                      "P1857"
                    ],
                    [
                      "P1872"
                    ],
                    [
                      "P1875"
                    ],
                    [
                      "P1879"
                    ],
                    [
                      "P1881"
                    ],
                    [
                      "P1883"
                    ],
                    [
                      "P1887"
                    ],
                    [
                      "P1888"
                    ],
                    [
                      "P1897"
                    ],
                    [
                      "P1902"
                    ],
                    [
                      "P1914"
                    ],
                    [
                      "P1919"
                    ],
                    [
                      "P1923"
                    ],
                    [
                      "P1941"
                    ],
                    [
                      "P1948"
                    ],
                    [
                      "P1949"
                    ],
                    [
                      "P1954"
                    ],
                    [
                      "P1956"
                    ],
                    [
                      "P1960"
                    ],
                    [
                      "P1972"
                    ],
                    [
                      "P1980"
                    ],
                    [
                      "P1982"
                    ],
                    [
                      "P1985"
                    ],
                    [
                      "P1986"
                    ],
                    [
                      "P1993"
                    ]
                  ],
                  "hovertemplate": "color=4<br>PCA Component 1=%{x}<br>PCA Component 2=%{y}<br>product_id=%{customdata[0]}<extra></extra>",
                  "legendgroup": "4",
                  "marker": {
                    "color": "#636efa",
                    "opacity": 0.6,
                    "symbol": "circle"
                  },
                  "mode": "markers",
                  "name": "4",
                  "showlegend": true,
                  "type": "scattergl",
                  "x": {
                    "bdata": "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",
                    "dtype": "f8"
                  },
                  "xaxis": "x",
                  "y": {
                    "bdata": "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",
                    "dtype": "f8"
                  },
                  "yaxis": "y"
                },
                {
                  "customdata": [
                    [
                      "P2"
                    ],
                    [
                      "P21"
                    ],
                    [
                      "P39"
                    ],
                    [
                      "P42"
                    ],
                    [
                      "P52"
                    ],
                    [
                      "P60"
                    ],
                    [
                      "P71"
                    ],
                    [
                      "P73"
                    ],
                    [
                      "P75"
                    ],
                    [
                      "P87"
                    ],
                    [
                      "P95"
                    ],
                    [
                      "P96"
                    ],
                    [
                      "P101"
                    ],
                    [
                      "P108"
                    ],
                    [
                      "P119"
                    ],
                    [
                      "P126"
                    ],
                    [
                      "P134"
                    ],
                    [
                      "P140"
                    ],
                    [
                      "P145"
                    ],
                    [
                      "P148"
                    ],
                    [
                      "P149"
                    ],
                    [
                      "P176"
                    ],
                    [
                      "P179"
                    ],
                    [
                      "P180"
                    ],
                    [
                      "P187"
                    ],
                    [
                      "P188"
                    ],
                    [
                      "P193"
                    ],
                    [
                      "P207"
                    ],
                    [
                      "P210"
                    ],
                    [
                      "P214"
                    ],
                    [
                      "P224"
                    ],
                    [
                      "P251"
                    ],
                    [
                      "P257"
                    ],
                    [
                      "P261"
                    ],
                    [
                      "P262"
                    ],
                    [
                      "P263"
                    ],
                    [
                      "P265"
                    ],
                    [
                      "P269"
                    ],
                    [
                      "P275"
                    ],
                    [
                      "P279"
                    ],
                    [
                      "P292"
                    ],
                    [
                      "P297"
                    ],
                    [
                      "P302"
                    ],
                    [
                      "P306"
                    ],
                    [
                      "P316"
                    ],
                    [
                      "P325"
                    ],
                    [
                      "P333"
                    ],
                    [
                      "P339"
                    ],
                    [
                      "P343"
                    ],
                    [
                      "P355"
                    ],
                    [
                      "P370"
                    ],
                    [
                      "P371"
                    ],
                    [
                      "P379"
                    ],
                    [
                      "P383"
                    ],
                    [
                      "P389"
                    ],
                    [
                      "P393"
                    ],
                    [
                      "P404"
                    ],
                    [
                      "P405"
                    ],
                    [
                      "P407"
                    ],
                    [
                      "P408"
                    ],
                    [
                      "P421"
                    ],
                    [
                      "P422"
                    ],
                    [
                      "P424"
                    ],
                    [
                      "P436"
                    ],
                    [
                      "P443"
                    ],
                    [
                      "P445"
                    ],
                    [
                      "P451"
                    ],
                    [
                      "P465"
                    ],
                    [
                      "P466"
                    ],
                    [
                      "P468"
                    ],
                    [
                      "P470"
                    ],
                    [
                      "P481"
                    ],
                    [
                      "P487"
                    ],
                    [
                      "P488"
                    ],
                    [
                      "P492"
                    ],
                    [
                      "P502"
                    ],
                    [
                      "P510"
                    ],
                    [
                      "P522"
                    ],
                    [
                      "P531"
                    ],
                    [
                      "P534"
                    ],
                    [
                      "P535"
                    ],
                    [
                      "P536"
                    ],
                    [
                      "P538"
                    ],
                    [
                      "P543"
                    ],
                    [
                      "P552"
                    ],
                    [
                      "P565"
                    ],
                    [
                      "P568"
                    ],
                    [
                      "P571"
                    ],
                    [
                      "P573"
                    ],
                    [
                      "P578"
                    ],
                    [
                      "P584"
                    ],
                    [
                      "P589"
                    ],
                    [
                      "P591"
                    ],
                    [
                      "P593"
                    ],
                    [
                      "P595"
                    ],
                    [
                      "P598"
                    ],
                    [
                      "P602"
                    ],
                    [
                      "P614"
                    ],
                    [
                      "P622"
                    ],
                    [
                      "P644"
                    ],
                    [
                      "P652"
                    ],
                    [
                      "P655"
                    ],
                    [
                      "P658"
                    ],
                    [
                      "P666"
                    ],
                    [
                      "P682"
                    ],
                    [
                      "P683"
                    ],
                    [
                      "P684"
                    ],
                    [
                      "P708"
                    ],
                    [
                      "P717"
                    ],
                    [
                      "P737"
                    ],
                    [
                      "P738"
                    ],
                    [
                      "P741"
                    ],
                    [
                      "P744"
                    ],
                    [
                      "P769"
                    ],
                    [
                      "P807"
                    ],
                    [
                      "P817"
                    ],
                    [
                      "P821"
                    ],
                    [
                      "P824"
                    ],
                    [
                      "P831"
                    ],
                    [
                      "P834"
                    ],
                    [
                      "P835"
                    ],
                    [
                      "P836"
                    ],
                    [
                      "P848"
                    ],
                    [
                      "P849"
                    ],
                    [
                      "P856"
                    ],
                    [
                      "P861"
                    ],
                    [
                      "P862"
                    ],
                    [
                      "P872"
                    ],
                    [
                      "P874"
                    ],
                    [
                      "P884"
                    ],
                    [
                      "P894"
                    ],
                    [
                      "P901"
                    ],
                    [
                      "P911"
                    ],
                    [
                      "P927"
                    ],
                    [
                      "P942"
                    ],
                    [
                      "P953"
                    ],
                    [
                      "P954"
                    ],
                    [
                      "P956"
                    ],
                    [
                      "P966"
                    ],
                    [
                      "P967"
                    ],
                    [
                      "P968"
                    ],
                    [
                      "P970"
                    ],
                    [
                      "P980"
                    ],
                    [
                      "P987"
                    ],
                    [
                      "P995"
                    ],
                    [
                      "P999"
                    ],
                    [
                      "P1001"
                    ],
                    [
                      "P1018"
                    ],
                    [
                      "P1027"
                    ],
                    [
                      "P1029"
                    ],
                    [
                      "P1038"
                    ],
                    [
                      "P1041"
                    ],
                    [
                      "P1043"
                    ],
                    [
                      "P1045"
                    ],
                    [
                      "P1050"
                    ],
                    [
                      "P1076"
                    ],
                    [
                      "P1077"
                    ],
                    [
                      "P1078"
                    ],
                    [
                      "P1081"
                    ],
                    [
                      "P1085"
                    ],
                    [
                      "P1091"
                    ],
                    [
                      "P1095"
                    ],
                    [
                      "P1103"
                    ],
                    [
                      "P1105"
                    ],
                    [
                      "P1113"
                    ],
                    [
                      "P1115"
                    ],
                    [
                      "P1119"
                    ],
                    [
                      "P1120"
                    ],
                    [
                      "P1134"
                    ],
                    [
                      "P1146"
                    ],
                    [
                      "P1147"
                    ],
                    [
                      "P1149"
                    ],
                    [
                      "P1151"
                    ],
                    [
                      "P1166"
                    ],
                    [
                      "P1167"
                    ],
                    [
                      "P1168"
                    ],
                    [
                      "P1172"
                    ],
                    [
                      "P1173"
                    ],
                    [
                      "P1179"
                    ],
                    [
                      "P1188"
                    ],
                    [
                      "P1190"
                    ],
                    [
                      "P1195"
                    ],
                    [
                      "P1198"
                    ],
                    [
                      "P1206"
                    ],
                    [
                      "P1213"
                    ],
                    [
                      "P1217"
                    ],
                    [
                      "P1223"
                    ],
                    [
                      "P1226"
                    ],
                    [
                      "P1228"
                    ],
                    [
                      "P1231"
                    ],
                    [
                      "P1236"
                    ],
                    [
                      "P1237"
                    ],
                    [
                      "P1249"
                    ],
                    [
                      "P1252"
                    ],
                    [
                      "P1253"
                    ],
                    [
                      "P1265"
                    ],
                    [
                      "P1279"
                    ],
                    [
                      "P1281"
                    ],
                    [
                      "P1290"
                    ],
                    [
                      "P1309"
                    ],
                    [
                      "P1315"
                    ],
                    [
                      "P1318"
                    ],
                    [
                      "P1321"
                    ],
                    [
                      "P1322"
                    ],
                    [
                      "P1323"
                    ],
                    [
                      "P1326"
                    ],
                    [
                      "P1337"
                    ],
                    [
                      "P1343"
                    ],
                    [
                      "P1349"
                    ],
                    [
                      "P1373"
                    ],
                    [
                      "P1376"
                    ],
                    [
                      "P1380"
                    ],
                    [
                      "P1386"
                    ],
                    [
                      "P1388"
                    ],
                    [
                      "P1397"
                    ],
                    [
                      "P1398"
                    ],
                    [
                      "P1403"
                    ],
                    [
                      "P1404"
                    ],
                    [
                      "P1408"
                    ],
                    [
                      "P1413"
                    ],
                    [
                      "P1422"
                    ],
                    [
                      "P1430"
                    ],
                    [
                      "P1433"
                    ],
                    [
                      "P1437"
                    ],
                    [
                      "P1448"
                    ],
                    [
                      "P1457"
                    ],
                    [
                      "P1461"
                    ],
                    [
                      "P1462"
                    ],
                    [
                      "P1476"
                    ],
                    [
                      "P1478"
                    ],
                    [
                      "P1479"
                    ],
                    [
                      "P1491"
                    ],
                    [
                      "P1502"
                    ],
                    [
                      "P1518"
                    ],
                    [
                      "P1523"
                    ],
                    [
                      "P1526"
                    ],
                    [
                      "P1528"
                    ],
                    [
                      "P1540"
                    ],
                    [
                      "P1542"
                    ],
                    [
                      "P1543"
                    ],
                    [
                      "P1544"
                    ],
                    [
                      "P1548"
                    ],
                    [
                      "P1559"
                    ],
                    [
                      "P1586"
                    ],
                    [
                      "P1599"
                    ],
                    [
                      "P1604"
                    ],
                    [
                      "P1605"
                    ],
                    [
                      "P1615"
                    ],
                    [
                      "P1617"
                    ],
                    [
                      "P1634"
                    ],
                    [
                      "P1639"
                    ],
                    [
                      "P1642"
                    ],
                    [
                      "P1654"
                    ],
                    [
                      "P1667"
                    ],
                    [
                      "P1669"
                    ],
                    [
                      "P1671"
                    ],
                    [
                      "P1677"
                    ],
                    [
                      "P1680"
                    ],
                    [
                      "P1685"
                    ],
                    [
                      "P1690"
                    ],
                    [
                      "P1691"
                    ],
                    [
                      "P1703"
                    ],
                    [
                      "P1706"
                    ],
                    [
                      "P1707"
                    ],
                    [
                      "P1714"
                    ],
                    [
                      "P1721"
                    ],
                    [
                      "P1735"
                    ],
                    [
                      "P1736"
                    ],
                    [
                      "P1738"
                    ],
                    [
                      "P1743"
                    ],
                    [
                      "P1746"
                    ],
                    [
                      "P1754"
                    ],
                    [
                      "P1756"
                    ],
                    [
                      "P1767"
                    ],
                    [
                      "P1768"
                    ],
                    [
                      "P1774"
                    ],
                    [
                      "P1780"
                    ],
                    [
                      "P1796"
                    ],
                    [
                      "P1805"
                    ],
                    [
                      "P1807"
                    ],
                    [
                      "P1808"
                    ],
                    [
                      "P1811"
                    ],
                    [
                      "P1824"
                    ],
                    [
                      "P1826"
                    ],
                    [
                      "P1842"
                    ],
                    [
                      "P1859"
                    ],
                    [
                      "P1863"
                    ],
                    [
                      "P1873"
                    ],
                    [
                      "P1880"
                    ],
                    [
                      "P1885"
                    ],
                    [
                      "P1894"
                    ],
                    [
                      "P1895"
                    ],
                    [
                      "P1903"
                    ],
                    [
                      "P1908"
                    ],
                    [
                      "P1910"
                    ],
                    [
                      "P1915"
                    ],
                    [
                      "P1916"
                    ],
                    [
                      "P1917"
                    ],
                    [
                      "P1921"
                    ],
                    [
                      "P1927"
                    ],
                    [
                      "P1931"
                    ],
                    [
                      "P1932"
                    ],
                    [
                      "P1933"
                    ],
                    [
                      "P1936"
                    ],
                    [
                      "P1951"
                    ],
                    [
                      "P1959"
                    ],
                    [
                      "P1967"
                    ],
                    [
                      "P1973"
                    ],
                    [
                      "P1974"
                    ],
                    [
                      "P1978"
                    ],
                    [
                      "P1983"
                    ],
                    [
                      "P1991"
                    ],
                    [
                      "P1995"
                    ],
                    [
                      "P1996"
                    ],
                    [
                      "P1999"
                    ]
                  ],
                  "hovertemplate": "color=3<br>PCA Component 1=%{x}<br>PCA Component 2=%{y}<br>product_id=%{customdata[0]}<extra></extra>",
                  "legendgroup": "3",
                  "marker": {
                    "color": "#EF553B",
                    "opacity": 0.6,
                    "symbol": "circle"
                  },
                  "mode": "markers",
                  "name": "3",
                  "showlegend": true,
                  "type": "scattergl",
                  "x": {
                    "bdata": "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",
                    "dtype": "f8"
                  },
                  "xaxis": "x",
                  "y": {
                    "bdata": "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",
                    "dtype": "f8"
                  },
                  "yaxis": "y"
                },
                {
                  "customdata": [
                    [
                      "P3"
                    ],
                    [
                      "P5"
                    ],
                    [
                      "P8"
                    ],
                    [
                      "P9"
                    ],
                    [
                      "P10"
                    ],
                    [
                      "P12"
                    ],
                    [
                      "P14"
                    ],
                    [
                      "P15"
                    ],
                    [
                      "P19"
                    ],
                    [
                      "P20"
                    ],
                    [
                      "P25"
                    ],
                    [
                      "P29"
                    ],
                    [
                      "P31"
                    ],
                    [
                      "P34"
                    ],
                    [
                      "P35"
                    ],
                    [
                      "P36"
                    ],
                    [
                      "P38"
                    ],
                    [
                      "P41"
                    ],
                    [
                      "P43"
                    ],
                    [
                      "P45"
                    ],
                    [
                      "P48"
                    ],
                    [
                      "P49"
                    ],
                    [
                      "P51"
                    ],
                    [
                      "P54"
                    ],
                    [
                      "P55"
                    ],
                    [
                      "P56"
                    ],
                    [
                      "P62"
                    ],
                    [
                      "P66"
                    ],
                    [
                      "P70"
                    ],
                    [
                      "P74"
                    ],
                    [
                      "P76"
                    ],
                    [
                      "P77"
                    ],
                    [
                      "P79"
                    ],
                    [
                      "P83"
                    ],
                    [
                      "P84"
                    ],
                    [
                      "P91"
                    ],
                    [
                      "P92"
                    ],
                    [
                      "P97"
                    ],
                    [
                      "P100"
                    ],
                    [
                      "P103"
                    ],
                    [
                      "P104"
                    ],
                    [
                      "P107"
                    ],
                    [
                      "P109"
                    ],
                    [
                      "P112"
                    ],
                    [
                      "P116"
                    ],
                    [
                      "P120"
                    ],
                    [
                      "P123"
                    ],
                    [
                      "P124"
                    ],
                    [
                      "P127"
                    ],
                    [
                      "P128"
                    ],
                    [
                      "P130"
                    ],
                    [
                      "P136"
                    ],
                    [
                      "P137"
                    ],
                    [
                      "P138"
                    ],
                    [
                      "P141"
                    ],
                    [
                      "P143"
                    ],
                    [
                      "P144"
                    ],
                    [
                      "P146"
                    ],
                    [
                      "P152"
                    ],
                    [
                      "P155"
                    ],
                    [
                      "P158"
                    ],
                    [
                      "P162"
                    ],
                    [
                      "P164"
                    ],
                    [
                      "P168"
                    ],
                    [
                      "P171"
                    ],
                    [
                      "P172"
                    ],
                    [
                      "P173"
                    ],
                    [
                      "P175"
                    ],
                    [
                      "P178"
                    ],
                    [
                      "P184"
                    ],
                    [
                      "P186"
                    ],
                    [
                      "P192"
                    ],
                    [
                      "P195"
                    ],
                    [
                      "P196"
                    ],
                    [
                      "P197"
                    ],
                    [
                      "P203"
                    ],
                    [
                      "P204"
                    ],
                    [
                      "P209"
                    ],
                    [
                      "P218"
                    ],
                    [
                      "P223"
                    ],
                    [
                      "P227"
                    ],
                    [
                      "P228"
                    ],
                    [
                      "P230"
                    ],
                    [
                      "P231"
                    ],
                    [
                      "P233"
                    ],
                    [
                      "P234"
                    ],
                    [
                      "P235"
                    ],
                    [
                      "P240"
                    ],
                    [
                      "P243"
                    ],
                    [
                      "P244"
                    ],
                    [
                      "P249"
                    ],
                    [
                      "P250"
                    ],
                    [
                      "P252"
                    ],
                    [
                      "P255"
                    ],
                    [
                      "P258"
                    ],
                    [
                      "P259"
                    ],
                    [
                      "P260"
                    ],
                    [
                      "P268"
                    ],
                    [
                      "P271"
                    ],
                    [
                      "P272"
                    ],
                    [
                      "P277"
                    ],
                    [
                      "P282"
                    ],
                    [
                      "P286"
                    ],
                    [
                      "P293"
                    ],
                    [
                      "P294"
                    ],
                    [
                      "P296"
                    ],
                    [
                      "P298"
                    ],
                    [
                      "P299"
                    ],
                    [
                      "P301"
                    ],
                    [
                      "P303"
                    ],
                    [
                      "P311"
                    ],
                    [
                      "P313"
                    ],
                    [
                      "P315"
                    ],
                    [
                      "P317"
                    ],
                    [
                      "P320"
                    ],
                    [
                      "P321"
                    ],
                    [
                      "P330"
                    ],
                    [
                      "P332"
                    ],
                    [
                      "P335"
                    ],
                    [
                      "P337"
                    ],
                    [
                      "P340"
                    ],
                    [
                      "P341"
                    ],
                    [
                      "P347"
                    ],
                    [
                      "P352"
                    ],
                    [
                      "P353"
                    ],
                    [
                      "P361"
                    ],
                    [
                      "P362"
                    ],
                    [
                      "P363"
                    ],
                    [
                      "P372"
                    ],
                    [
                      "P375"
                    ],
                    [
                      "P376"
                    ],
                    [
                      "P384"
                    ],
                    [
                      "P385"
                    ],
                    [
                      "P396"
                    ],
                    [
                      "P399"
                    ],
                    [
                      "P401"
                    ],
                    [
                      "P413"
                    ],
                    [
                      "P415"
                    ],
                    [
                      "P416"
                    ],
                    [
                      "P417"
                    ],
                    [
                      "P420"
                    ],
                    [
                      "P423"
                    ],
                    [
                      "P429"
                    ],
                    [
                      "P433"
                    ],
                    [
                      "P435"
                    ],
                    [
                      "P440"
                    ],
                    [
                      "P441"
                    ],
                    [
                      "P442"
                    ],
                    [
                      "P450"
                    ],
                    [
                      "P454"
                    ],
                    [
                      "P458"
                    ],
                    [
                      "P460"
                    ],
                    [
                      "P462"
                    ],
                    [
                      "P463"
                    ],
                    [
                      "P474"
                    ],
                    [
                      "P477"
                    ],
                    [
                      "P478"
                    ],
                    [
                      "P479"
                    ],
                    [
                      "P484"
                    ],
                    [
                      "P485"
                    ],
                    [
                      "P489"
                    ],
                    [
                      "P496"
                    ],
                    [
                      "P497"
                    ],
                    [
                      "P500"
                    ],
                    [
                      "P501"
                    ],
                    [
                      "P509"
                    ],
                    [
                      "P511"
                    ],
                    [
                      "P512"
                    ],
                    [
                      "P515"
                    ],
                    [
                      "P516"
                    ],
                    [
                      "P526"
                    ],
                    [
                      "P528"
                    ],
                    [
                      "P532"
                    ],
                    [
                      "P533"
                    ],
                    [
                      "P537"
                    ],
                    [
                      "P539"
                    ],
                    [
                      "P540"
                    ],
                    [
                      "P541"
                    ],
                    [
                      "P542"
                    ],
                    [
                      "P551"
                    ],
                    [
                      "P555"
                    ],
                    [
                      "P557"
                    ],
                    [
                      "P558"
                    ],
                    [
                      "P561"
                    ],
                    [
                      "P562"
                    ],
                    [
                      "P563"
                    ],
                    [
                      "P566"
                    ],
                    [
                      "P569"
                    ],
                    [
                      "P570"
                    ],
                    [
                      "P574"
                    ],
                    [
                      "P585"
                    ],
                    [
                      "P586"
                    ],
                    [
                      "P588"
                    ],
                    [
                      "P596"
                    ],
                    [
                      "P599"
                    ],
                    [
                      "P600"
                    ],
                    [
                      "P603"
                    ],
                    [
                      "P606"
                    ],
                    [
                      "P612"
                    ],
                    [
                      "P613"
                    ],
                    [
                      "P616"
                    ],
                    [
                      "P621"
                    ],
                    [
                      "P625"
                    ],
                    [
                      "P629"
                    ],
                    [
                      "P630"
                    ],
                    [
                      "P631"
                    ],
                    [
                      "P634"
                    ],
                    [
                      "P638"
                    ],
                    [
                      "P639"
                    ],
                    [
                      "P640"
                    ],
                    [
                      "P650"
                    ],
                    [
                      "P651"
                    ],
                    [
                      "P653"
                    ],
                    [
                      "P657"
                    ],
                    [
                      "P660"
                    ],
                    [
                      "P663"
                    ],
                    [
                      "P667"
                    ],
                    [
                      "P668"
                    ],
                    [
                      "P673"
                    ],
                    [
                      "P679"
                    ],
                    [
                      "P681"
                    ],
                    [
                      "P685"
                    ],
                    [
                      "P687"
                    ],
                    [
                      "P688"
                    ],
                    [
                      "P689"
                    ],
                    [
                      "P690"
                    ],
                    [
                      "P691"
                    ],
                    [
                      "P693"
                    ],
                    [
                      "P694"
                    ],
                    [
                      "P696"
                    ],
                    [
                      "P702"
                    ],
                    [
                      "P707"
                    ],
                    [
                      "P710"
                    ],
                    [
                      "P712"
                    ],
                    [
                      "P715"
                    ],
                    [
                      "P718"
                    ],
                    [
                      "P719"
                    ],
                    [
                      "P720"
                    ],
                    [
                      "P721"
                    ],
                    [
                      "P726"
                    ],
                    [
                      "P727"
                    ],
                    [
                      "P728"
                    ],
                    [
                      "P730"
                    ],
                    [
                      "P734"
                    ],
                    [
                      "P736"
                    ],
                    [
                      "P739"
                    ],
                    [
                      "P742"
                    ],
                    [
                      "P747"
                    ],
                    [
                      "P751"
                    ],
                    [
                      "P752"
                    ],
                    [
                      "P753"
                    ],
                    [
                      "P756"
                    ],
                    [
                      "P759"
                    ],
                    [
                      "P761"
                    ],
                    [
                      "P762"
                    ],
                    [
                      "P763"
                    ],
                    [
                      "P765"
                    ],
                    [
                      "P767"
                    ],
                    [
                      "P768"
                    ],
                    [
                      "P770"
                    ],
                    [
                      "P771"
                    ],
                    [
                      "P772"
                    ],
                    [
                      "P774"
                    ],
                    [
                      "P775"
                    ],
                    [
                      "P776"
                    ],
                    [
                      "P779"
                    ],
                    [
                      "P780"
                    ],
                    [
                      "P781"
                    ],
                    [
                      "P782"
                    ],
                    [
                      "P785"
                    ],
                    [
                      "P786"
                    ],
                    [
                      "P794"
                    ],
                    [
                      "P796"
                    ],
                    [
                      "P797"
                    ],
                    [
                      "P810"
                    ],
                    [
                      "P812"
                    ],
                    [
                      "P832"
                    ],
                    [
                      "P833"
                    ],
                    [
                      "P837"
                    ],
                    [
                      "P839"
                    ],
                    [
                      "P840"
                    ],
                    [
                      "P844"
                    ],
                    [
                      "P846"
                    ],
                    [
                      "P847"
                    ],
                    [
                      "P853"
                    ],
                    [
                      "P858"
                    ],
                    [
                      "P859"
                    ],
                    [
                      "P864"
                    ],
                    [
                      "P867"
                    ],
                    [
                      "P871"
                    ],
                    [
                      "P875"
                    ],
                    [
                      "P876"
                    ],
                    [
                      "P878"
                    ],
                    [
                      "P883"
                    ],
                    [
                      "P886"
                    ],
                    [
                      "P889"
                    ],
                    [
                      "P891"
                    ],
                    [
                      "P892"
                    ],
                    [
                      "P893"
                    ],
                    [
                      "P895"
                    ],
                    [
                      "P898"
                    ],
                    [
                      "P899"
                    ],
                    [
                      "P900"
                    ],
                    [
                      "P904"
                    ],
                    [
                      "P915"
                    ],
                    [
                      "P917"
                    ],
                    [
                      "P918"
                    ],
                    [
                      "P920"
                    ],
                    [
                      "P921"
                    ],
                    [
                      "P925"
                    ],
                    [
                      "P928"
                    ],
                    [
                      "P931"
                    ],
                    [
                      "P932"
                    ],
                    [
                      "P933"
                    ],
                    [
                      "P936"
                    ],
                    [
                      "P937"
                    ],
                    [
                      "P940"
                    ],
                    [
                      "P941"
                    ],
                    [
                      "P946"
                    ],
                    [
                      "P947"
                    ],
                    [
                      "P948"
                    ],
                    [
                      "P959"
                    ],
                    [
                      "P964"
                    ],
                    [
                      "P971"
                    ],
                    [
                      "P974"
                    ],
                    [
                      "P975"
                    ],
                    [
                      "P977"
                    ],
                    [
                      "P983"
                    ],
                    [
                      "P990"
                    ],
                    [
                      "P991"
                    ],
                    [
                      "P993"
                    ],
                    [
                      "P994"
                    ],
                    [
                      "P1000"
                    ],
                    [
                      "P1003"
                    ],
                    [
                      "P1005"
                    ],
                    [
                      "P1006"
                    ],
                    [
                      "P1007"
                    ],
                    [
                      "P1011"
                    ],
                    [
                      "P1013"
                    ],
                    [
                      "P1019"
                    ],
                    [
                      "P1020"
                    ],
                    [
                      "P1021"
                    ],
                    [
                      "P1023"
                    ],
                    [
                      "P1025"
                    ],
                    [
                      "P1026"
                    ],
                    [
                      "P1030"
                    ],
                    [
                      "P1033"
                    ],
                    [
                      "P1035"
                    ],
                    [
                      "P1039"
                    ],
                    [
                      "P1040"
                    ],
                    [
                      "P1047"
                    ],
                    [
                      "P1052"
                    ],
                    [
                      "P1056"
                    ],
                    [
                      "P1057"
                    ],
                    [
                      "P1064"
                    ],
                    [
                      "P1065"
                    ],
                    [
                      "P1069"
                    ],
                    [
                      "P1071"
                    ],
                    [
                      "P1072"
                    ],
                    [
                      "P1073"
                    ],
                    [
                      "P1074"
                    ],
                    [
                      "P1080"
                    ],
                    [
                      "P1083"
                    ],
                    [
                      "P1084"
                    ],
                    [
                      "P1087"
                    ],
                    [
                      "P1088"
                    ],
                    [
                      "P1089"
                    ],
                    [
                      "P1102"
                    ],
                    [
                      "P1104"
                    ],
                    [
                      "P1108"
                    ],
                    [
                      "P1109"
                    ],
                    [
                      "P1110"
                    ],
                    [
                      "P1118"
                    ],
                    [
                      "P1122"
                    ],
                    [
                      "P1123"
                    ],
                    [
                      "P1130"
                    ],
                    [
                      "P1132"
                    ],
                    [
                      "P1136"
                    ],
                    [
                      "P1137"
                    ],
                    [
                      "P1138"
                    ],
                    [
                      "P1142"
                    ],
                    [
                      "P1143"
                    ],
                    [
                      "P1148"
                    ],
                    [
                      "P1153"
                    ],
                    [
                      "P1155"
                    ],
                    [
                      "P1162"
                    ],
                    [
                      "P1165"
                    ],
                    [
                      "P1169"
                    ],
                    [
                      "P1170"
                    ],
                    [
                      "P1171"
                    ],
                    [
                      "P1174"
                    ],
                    [
                      "P1176"
                    ],
                    [
                      "P1180"
                    ],
                    [
                      "P1185"
                    ],
                    [
                      "P1187"
                    ],
                    [
                      "P1197"
                    ],
                    [
                      "P1200"
                    ],
                    [
                      "P1202"
                    ],
                    [
                      "P1204"
                    ],
                    [
                      "P1205"
                    ],
                    [
                      "P1208"
                    ],
                    [
                      "P1209"
                    ],
                    [
                      "P1214"
                    ],
                    [
                      "P1216"
                    ],
                    [
                      "P1218"
                    ],
                    [
                      "P1220"
                    ],
                    [
                      "P1221"
                    ],
                    [
                      "P1222"
                    ],
                    [
                      "P1224"
                    ],
                    [
                      "P1232"
                    ],
                    [
                      "P1233"
                    ],
                    [
                      "P1234"
                    ],
                    [
                      "P1239"
                    ],
                    [
                      "P1242"
                    ],
                    [
                      "P1243"
                    ],
                    [
                      "P1247"
                    ],
                    [
                      "P1254"
                    ],
                    [
                      "P1257"
                    ],
                    [
                      "P1258"
                    ],
                    [
                      "P1259"
                    ],
                    [
                      "P1261"
                    ],
                    [
                      "P1262"
                    ],
                    [
                      "P1271"
                    ],
                    [
                      "P1272"
                    ],
                    [
                      "P1275"
                    ],
                    [
                      "P1278"
                    ],
                    [
                      "P1283"
                    ],
                    [
                      "P1284"
                    ],
                    [
                      "P1287"
                    ],
                    [
                      "P1289"
                    ],
                    [
                      "P1295"
                    ],
                    [
                      "P1298"
                    ],
                    [
                      "P1301"
                    ],
                    [
                      "P1303"
                    ],
                    [
                      "P1305"
                    ],
                    [
                      "P1308"
                    ],
                    [
                      "P1311"
                    ],
                    [
                      "P1316"
                    ],
                    [
                      "P1317"
                    ],
                    [
                      "P1324"
                    ],
                    [
                      "P1325"
                    ],
                    [
                      "P1330"
                    ],
                    [
                      "P1331"
                    ],
                    [
                      "P1336"
                    ],
                    [
                      "P1341"
                    ],
                    [
                      "P1344"
                    ],
                    [
                      "P1351"
                    ],
                    [
                      "P1352"
                    ],
                    [
                      "P1354"
                    ],
                    [
                      "P1355"
                    ],
                    [
                      "P1357"
                    ],
                    [
                      "P1358"
                    ],
                    [
                      "P1363"
                    ],
                    [
                      "P1365"
                    ],
                    [
                      "P1377"
                    ],
                    [
                      "P1382"
                    ],
                    [
                      "P1384"
                    ],
                    [
                      "P1385"
                    ],
                    [
                      "P1389"
                    ],
                    [
                      "P1394"
                    ],
                    [
                      "P1401"
                    ],
                    [
                      "P1406"
                    ],
                    [
                      "P1412"
                    ],
                    [
                      "P1414"
                    ],
                    [
                      "P1416"
                    ],
                    [
                      "P1418"
                    ],
                    [
                      "P1419"
                    ],
                    [
                      "P1421"
                    ],
                    [
                      "P1423"
                    ],
                    [
                      "P1424"
                    ],
                    [
                      "P1425"
                    ],
                    [
                      "P1429"
                    ],
                    [
                      "P1435"
                    ],
                    [
                      "P1436"
                    ],
                    [
                      "P1443"
                    ],
                    [
                      "P1446"
                    ],
                    [
                      "P1447"
                    ],
                    [
                      "P1453"
                    ],
                    [
                      "P1454"
                    ],
                    [
                      "P1456"
                    ],
                    [
                      "P1459"
                    ],
                    [
                      "P1465"
                    ],
                    [
                      "P1466"
                    ],
                    [
                      "P1467"
                    ],
                    [
                      "P1468"
                    ],
                    [
                      "P1469"
                    ],
                    [
                      "P1474"
                    ],
                    [
                      "P1486"
                    ],
                    [
                      "P1489"
                    ],
                    [
                      "P1494"
                    ],
                    [
                      "P1495"
                    ],
                    [
                      "P1496"
                    ],
                    [
                      "P1498"
                    ],
                    [
                      "P1499"
                    ],
                    [
                      "P1511"
                    ],
                    [
                      "P1516"
                    ],
                    [
                      "P1519"
                    ],
                    [
                      "P1521"
                    ],
                    [
                      "P1529"
                    ],
                    [
                      "P1531"
                    ],
                    [
                      "P1532"
                    ],
                    [
                      "P1534"
                    ],
                    [
                      "P1538"
                    ],
                    [
                      "P1539"
                    ],
                    [
                      "P1545"
                    ],
                    [
                      "P1555"
                    ],
                    [
                      "P1557"
                    ],
                    [
                      "P1558"
                    ],
                    [
                      "P1560"
                    ],
                    [
                      "P1561"
                    ],
                    [
                      "P1565"
                    ],
                    [
                      "P1567"
                    ],
                    [
                      "P1569"
                    ],
                    [
                      "P1571"
                    ],
                    [
                      "P1574"
                    ],
                    [
                      "P1575"
                    ],
                    [
                      "P1579"
                    ],
                    [
                      "P1581"
                    ],
                    [
                      "P1583"
                    ],
                    [
                      "P1590"
                    ],
                    [
                      "P1593"
                    ],
                    [
                      "P1594"
                    ],
                    [
                      "P1595"
                    ],
                    [
                      "P1596"
                    ],
                    [
                      "P1597"
                    ],
                    [
                      "P1600"
                    ],
                    [
                      "P1601"
                    ],
                    [
                      "P1602"
                    ],
                    [
                      "P1611"
                    ],
                    [
                      "P1612"
                    ],
                    [
                      "P1613"
                    ],
                    [
                      "P1616"
                    ],
                    [
                      "P1622"
                    ],
                    [
                      "P1624"
                    ],
                    [
                      "P1625"
                    ],
                    [
                      "P1627"
                    ],
                    [
                      "P1628"
                    ],
                    [
                      "P1635"
                    ],
                    [
                      "P1636"
                    ],
                    [
                      "P1637"
                    ],
                    [
                      "P1638"
                    ],
                    [
                      "P1641"
                    ],
                    [
                      "P1643"
                    ],
                    [
                      "P1649"
                    ],
                    [
                      "P1650"
                    ],
                    [
                      "P1651"
                    ],
                    [
                      "P1655"
                    ],
                    [
                      "P1657"
                    ],
                    [
                      "P1663"
                    ],
                    [
                      "P1665"
                    ],
                    [
                      "P1666"
                    ],
                    [
                      "P1673"
                    ],
                    [
                      "P1674"
                    ],
                    [
                      "P1679"
                    ],
                    [
                      "P1694"
                    ],
                    [
                      "P1695"
                    ],
                    [
                      "P1696"
                    ],
                    [
                      "P1698"
                    ],
                    [
                      "P1700"
                    ],
                    [
                      "P1704"
                    ],
                    [
                      "P1709"
                    ],
                    [
                      "P1711"
                    ],
                    [
                      "P1715"
                    ],
                    [
                      "P1722"
                    ],
                    [
                      "P1726"
                    ],
                    [
                      "P1727"
                    ],
                    [
                      "P1728"
                    ],
                    [
                      "P1730"
                    ],
                    [
                      "P1731"
                    ],
                    [
                      "P1734"
                    ],
                    [
                      "P1739"
                    ],
                    [
                      "P1741"
                    ],
                    [
                      "P1742"
                    ],
                    [
                      "P1745"
                    ],
                    [
                      "P1749"
                    ],
                    [
                      "P1751"
                    ],
                    [
                      "P1755"
                    ],
                    [
                      "P1758"
                    ],
                    [
                      "P1760"
                    ],
                    [
                      "P1761"
                    ],
                    [
                      "P1762"
                    ],
                    [
                      "P1764"
                    ],
                    [
                      "P1766"
                    ],
                    [
                      "P1769"
                    ],
                    [
                      "P1770"
                    ],
                    [
                      "P1772"
                    ],
                    [
                      "P1773"
                    ],
                    [
                      "P1775"
                    ],
                    [
                      "P1777"
                    ],
                    [
                      "P1778"
                    ],
                    [
                      "P1781"
                    ],
                    [
                      "P1787"
                    ],
                    [
                      "P1788"
                    ],
                    [
                      "P1789"
                    ],
                    [
                      "P1790"
                    ],
                    [
                      "P1793"
                    ],
                    [
                      "P1794"
                    ],
                    [
                      "P1797"
                    ],
                    [
                      "P1798"
                    ],
                    [
                      "P1799"
                    ],
                    [
                      "P1802"
                    ],
                    [
                      "P1803"
                    ],
                    [
                      "P1804"
                    ],
                    [
                      "P1812"
                    ],
                    [
                      "P1825"
                    ],
                    [
                      "P1827"
                    ],
                    [
                      "P1828"
                    ],
                    [
                      "P1834"
                    ],
                    [
                      "P1840"
                    ],
                    [
                      "P1849"
                    ],
                    [
                      "P1852"
                    ],
                    [
                      "P1854"
                    ],
                    [
                      "P1855"
                    ],
                    [
                      "P1858"
                    ],
                    [
                      "P1860"
                    ],
                    [
                      "P1864"
                    ],
                    [
                      "P1865"
                    ],
                    [
                      "P1866"
                    ],
                    [
                      "P1867"
                    ],
                    [
                      "P1868"
                    ],
                    [
                      "P1869"
                    ],
                    [
                      "P1874"
                    ],
                    [
                      "P1876"
                    ],
                    [
                      "P1877"
                    ],
                    [
                      "P1884"
                    ],
                    [
                      "P1889"
                    ],
                    [
                      "P1893"
                    ],
                    [
                      "P1896"
                    ],
                    [
                      "P1898"
                    ],
                    [
                      "P1900"
                    ],
                    [
                      "P1905"
                    ],
                    [
                      "P1906"
                    ],
                    [
                      "P1912"
                    ],
                    [
                      "P1918"
                    ],
                    [
                      "P1922"
                    ],
                    [
                      "P1926"
                    ],
                    [
                      "P1929"
                    ],
                    [
                      "P1934"
                    ],
                    [
                      "P1939"
                    ],
                    [
                      "P1943"
                    ],
                    [
                      "P1944"
                    ],
                    [
                      "P1945"
                    ],
                    [
                      "P1946"
                    ],
                    [
                      "P1947"
                    ],
                    [
                      "P1952"
                    ],
                    [
                      "P1955"
                    ],
                    [
                      "P1957"
                    ],
                    [
                      "P1958"
                    ],
                    [
                      "P1966"
                    ],
                    [
                      "P1976"
                    ],
                    [
                      "P1981"
                    ],
                    [
                      "P1984"
                    ],
                    [
                      "P1987"
                    ],
                    [
                      "P1989"
                    ],
                    [
                      "P1997"
                    ]
                  ],
                  "hovertemplate": "color=1<br>PCA Component 1=%{x}<br>PCA Component 2=%{y}<br>product_id=%{customdata[0]}<extra></extra>",
                  "legendgroup": "1",
                  "marker": {
                    "color": "#00cc96",
                    "opacity": 0.6,
                    "symbol": "circle"
                  },
                  "mode": "markers",
                  "name": "1",
                  "showlegend": true,
                  "type": "scattergl",
                  "x": {
                    "bdata": "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",
                    "dtype": "f8"
                  },
                  "xaxis": "x",
                  "y": {
                    "bdata": "tCS4FFQgrb/ssGV7dY3Qv2YiDsCapcS/XYX14mpyzr/QGzJodOFtv9NEHuDITsK/Z2NRXVZhvL8RHx6kj8DAv/umFUvnUMO/TuqObkPcy7+L7tV3wP6Tvz1AD3WcSsq/+FgwZSGQfr9kralV1ZfRv/zdM2LPXMO/NBNLqs6rsL/ZDoZ44bupv4Y/8LYr+MS/nz4cxzWUtr//Wsm/U76hP8BYrXMIM7S/wdO5U8xmwr8md5+0ODqWv+y2ZwZXSao/a1wjiL+3xr9xPNzsZQy+v2HXLZXYOLe/vKh9s2RXb7/G3e61ejvCv/TXgC8kl86/K2PyPNJQw79itXmcwjOIv6FmkHZpgcO/pNbJPIdCv7/1nfmGIS+aPzi1TpI3D7q/ycZc0lKGk7+kiGkF/Ha7v4QZajKp0c0/n5OlTR8ux78IqJtHULbHvz1BFyz/asa/tQK/AlNrt7+neJnHDCaDP/mKYzKuJ48/aKkqk/IbgT97NFp7FQynv693P4vu0p+/0rJ8pXnar7/SQKmLEdTDv1UAgC8Tc86/U5ejSybxwL+j+mDweC3Kvy5XAeoMNbG/MnAJe89Zx79NkKFLNSiIP/lXA5gzRoc/mAdBhWqnuD98FYkDfoasv9474V9X2qm/H7pwm0J2w7/2LF6fRYC+v3/nZ8jnynW/5o+2mnJkv787JYOzh4OfPxTVBoDletC/YNwL6UxMrD9DCi18GU2kP/XZIESIO4K/s0qdpziWl78HNs9GeRW7v9r/C9yhvcG/GKdVl6bLdL/5nuaLOZe2P7Qg9++lpMC/KKjYkty5w78Lur8YRmWpv4enT7HlXnS/HZgO42pQsT/73fPbDJrCv1lSA3ptZ8y/y8R4gpznyL86fLnTIUa3vxoL4HyZwpY/E4Gn0f0i0L9H8lSluIKVv+rzvUjIGq6/GsN+LbWhwb/VSkD7CuvCv8PwYm+6kMK/SzGmOwCRxj8IETvpGjbNv+mEa1JSprA/nOTnz6OK0L9f0y5n4KuYv4M2jzfbmLO/zhSl4YIuzL+6D4tvw5q0vyXLFp7tV5k/FCSKWCdVyT/pUjT/2hvDvy7osfR1aJ2/L4ARBTU5sr8Zfr+apfO+v+yoPnSAf7y/CSD1BZF4vb/9E/9+DA6zP4+SPWzVO7S/8rgT4sWHw78y+P27eGHIv4fj4EfW+L6/t5w6ClV2tD8zS4uCsiPAv9XDZBaDtL+/8BPEJqS3nT82gcST9aiaP6idpjS2ddK/f3IAvwLZmb8U16JaF3OCPyYNvxSjtcC/ln4mJxbjib/BI4fvo5a+vwQMWO6ZaMC/7s5rWfLbrL95eIA6sg24v5ZM6H8ToMK/9ynRrgtyoj9orpqjMtrMv2pJwEIGp8C/MSeyutWUS78eL/le0Ai8v9OYUpGs848/xSFIvyycs78CHJTd9GS9v4FkPvuZSoW/DVsd4jgvtL9O+ZWP7T/Evx7VSO1h/7a/xRahmLHnpj+vcLW6p1XCv99loY65fsO/tJKjTYp3h790cYdltsyyv5zA5AczfrW/gQKz0f17pT/URm2jpaPGv/r82n1KF8G/6w9Cacgqy7/TwgBPO7qxv6JJTtSDB8m/7U9DMPAUuL8S4ehC0+a7v/FCIKrweJw/z3J2mM1zlb9F65DU6VnAv/sE0s1xBYi/1At7a85MxL8+UYMK12axv5sjgWIEO8K/H9d2v9mpwL98S1vQztS7vzRnEmZhAs2/FM//W38NgT9+eIkWOcTOv1UmJ4f8drU/fO79H8Kswr88zdtdFRijv//8zylPmMO/JuvX34I5yz/aZnjMtTyjv54L4OUUBb6/+j/Ho0IDkz/3D0EEIBK/v2YFJOWv27a/4XEe+d7fsD+bbT04GrvKvyh6Yfzu+aW/450LcUwQwL/FtjrUehmgP8xI3B2zh8a/SJ+7olVQbL8sD0ly8qB/P6+rUyzYtau/uxtqZhv0ub/Gksw5pQXRv2VLInTM0Mm/O3lLkk90dz/Wl0zo6nXDv3dWW4/rNKG/eW1ITC1Gk78QeXq0AKu5v9ww8O1M3FK/WF9YtDvFub/8JhmHQwLFv72ydgCTf6g/osLUESD+0L/dJLu80PySP90HM6W38MS/hZFT+zi4pz//Ap1WGoqpv/bn6gkPw8C/mV+ZB2nRxr/pj3TpiPLKvxv48BpP6Mm/vrrpEmbtnb8z+TJmigikP5ppF1BJysG/8OqaSpX0rD8GYXlxdtusP/Y6famTLrq/WO5q5IAfxT9Fjs5eOe3Bv4Tf0dAEALC/06ffiYDmt7/YJVz9y/WzP2p5go2z/8C/GjWgyP+ujj8LvypAHRm2vyWJSFpiJcW/OXiCB6UmlL+2MLMg9Xuxv2UyFBywutC/lq0aq483wb8EaS3vcnKwP0M/7Xk96ZC/we8RGqRrsz+ytG0PM32yPzYw3pI9TEM/jSrACXynwL8Ss159prfSv09dmi4wXLi/wkbiYt3gxr/ErnxguEClv2b4wGyA22Y/0dB4o5Zjx7/sap5dhCy+PxGopCKYz8K/GmNwKG+kzL9cqFxfqSTVv13oIrWB7bK/W9C6I4CTwr+Fh6PWomzIv3nFmT9B14S/zLFyAnIxqr/5mVPU2UPLv7PzMAQ4Eqi/gVkU2yZ6tL/gPRyn83K8v7s6nZh8hbK/7OAP0ypWyb9TLdoTxiycv34VG8wuF3i/nq8UILSMyL/BsBq2bMeNv3RnezpCgKq/pV1NnZ7drb8/XSDq8q3Nv8pwx2V5IMK/boaZ1jFzwb93wCuIEQyuv8hdu6nyIqi/jIGt8p39xb/4DvqhkKOkv/iUYgE7HbY/98jzOgbPt7/5j2Fa+FlZv30sPtzLwsK/2tBXMK2svb9P3UhYn6S0v8LKHEPWXMi/gxO0VNDxmT/DOjWJJ3fGv4wbQb0aELI/nAaulYBUxr89wsiapNKzv31W88170bu/711Y0JBfqb8TSjj1pBS4v0xXu78go7e/b0irFoVYYj8knxlRE4Kwv57K2NqsRYY/jUKNNBMtzr/c0NOWle7Pv2FKy4okN6a/Oak3RFnbuL+GynrA6dDEvwmqYjV51m+/F3S544Omur+Yh2BePV7Gvxlibq1+FJ+/EeI+L9cXkT8ejmelQ6vFv76L8kA8+6E/Tt6XZ4/ulj98i3xLUmDAP6GJlcR/25Y/hT2jWK8Aw7+v9mPOhkvRv5FF0GBggJs/6tmddQCQqL9tFqLY5MHAv3/sEkSRQsK/F1tilJOtkr9U1duC/myYP1rNSLOlk8a/dO/NuhIrhb9etqrQf8y9PzGqURtAe8S/ee4TjqsiZD9GFoCpw7GQP1jTrvGGbsa/gxAueVAPcT/LLInMI7q1v9CCrjBweM2/bepD63cCm78E7AhgfQvJv6SAw7SZVbs/yZqmlYXEwL+4JWDh7/7Iv+R5kcPImay/m92nKXFhqb+5sAlYCNi0vwL1LQYIIm8/KRz1u8QIxb8gFLWWCna2v1sJGHVmOcK/CScR1uI/wr8nVfIhIP6aP/Deau3rKc2/jAf/f3ZZt78brV1sMlO0P23o+nxDFMO/GPJqoluYtT/vXvyq36q+v4ycL57FJI4/PIWVpLjRhL8pAiNRswGqP0qRjfsJyEm/51lig10IqL9mcNLGSY3Fv7PaDU1i0bK/AJm6XlXM0r+UcCJGTVHDvw865dBrz8i/pPxU2byusr9MfZp3dlTDvzU0aqKdZ8K/C6eTG3Kiob9DecnkYdrCv42i9nE+l5w/va3EsDRHgL+inhZSeS6+v/CYY9Dj1cW/aMmg+rs+wr/sFahREQLIvxUC7b677Ki/CwDkGRiJwr9i2+ws9KLCvxGiWkeDAMO/OQhaWYSHx7/mLU3M91OhP875ss3bgcW/DqYZWcoIuj8TcwWpUW2WP34iqshVwsS/4Xv0XI7WaL+XK0C5Exy9v1Ug9rCpK9G/7Qazt7T/s78p9ge8DRekP9aTS9SG+bE/DUoSFtwYy79waS8/G9y0v3Zqih9py5E/7uxttRE7wL8e7L2yr6ykvxKuJt+oPLC/UejuUoXtp78GvOrvb9hav2O/iQIViJQ/U8Vn58UGtb/VEHxDOQnLv1le67U0qsK/qxOU4N9ukT+wpcB/he+IP4zD9Eb8F6M/7VJH33m3wL/gNTWknHnSv0gOsT3fdKA/TOZFrClft78lPY6hibO0v9VzYQKYH7O/nMdJkxuexr+gL3JXP4K7vyFKmXVEn7M/NaUVfrfQwr8KFdp8rj/Hv9ulAqvgsae/Wg/MNjPZmL/LIDUbOZGiv5Nu19MmZpW/ydTryC3Qxb8ZqhewecCwPwsNRlqotbW/ULC6PhUxqr88Cfdk01meP28xBO2p67E/jOX5z5tjvT9veh1nvLvQvzEwDqQvErq/7fuzZoXRxb/AlGd32KW1P53m7/qW3Wq/PjO5Bqpaxb+ZIz4JEy2oP3MzoyKP7Ly/W0b8TjRbvL/wM7iaBXulv4LSMG9yMse/5GyqgrKGe7+cpRrDasbFv54mrVv2gbI/djL6asgtx7+SGZq0E3W7v86lBZvtv32/PY6dt/bKoL/iOMc3/8uTP5fjwfdlLZ4/7wOtF1ojtL8/k4egZ7OSv2lJNp7YNca/tDgjEsvUxL9O8nE3SGbRv/oQ7GfVkMm/yq9JWhBukL/6Ucaxsv/Gv4Z99Xz8SLe/aIJLhZ620r+cdzrN4C7CvxlZdB9cLLI/r+cf7hyN0r9pJ8Ifz+TKv/rNoCKmJLO/Dnkm70PCv79voFTOhlezvw8EHAeWEau/jKiMCzdfw7/76uJKoy+Ov1O+0mBV4cK/Oov6rFGdSb9XZnkN+/rDv5Glpo6MuM+/04wcLwe9wb+tJgA3F5LIvwxCGCJXVay/G/7BI9pCyr/++Ysv1XbSv/FGv+BTCca/EyuMZWdUvb+81Z/pMKGaP7B2aREgGLG/DhOmgpSSsr+ETIijlsWtP53dEk/7ra6/pYPPFDyQu7/PPWOwLW66vxD46CYCU8+/tlAdw1sPx7+kSTzhJTS4v/4e4PREZ1C/QroaTBjHlL8LgJdenc7Mv6uuqFgQjr0/lXvRa5gymL+kgKkaapOTv+k5wXWwrMO/HstYkCXjmD/SU7MQdDe1v62mKbpuFqa/jGo65xTidj8FL27YK86lP1JQECQkELC/HJp0IVYFnD//ZtGLpaXOv371S5ZXZbC/9ORs9UMXy7+ijxkUNi7GP/k5wY+dbcq/UAlxKqsrxL/pyulxyKDCv9fEpViYxJk/FQ3vozS+tb8kk6WYPHKDP7gLaTc3mc+/XhhCzBea1b8f0Qwf91SfP4NgJN68Bqm/hhGf/I0DwT9/bqO92aHNvwmYAVtc9o6/OxsUCB/G0b8C+r+DlsO0vzmE4DSoPsE/fX/0bHH8wr8cZKFVdXukv+nWjU2zsMy/DHIcSkjMoz/ShjzJcLO+v8PVkp/PJsG/v+t6Tutubb+5o8wPGqGQP5CSWrMK+tC/7BRdSXajzr/wAx6EzazOvwn2K/Ozrqs/BU71jgR8wr9z+hPezJFbP8xFnj1sgKI/L0Agfuuuob8eF2og3/aqvyUBBGLAJ8C/HdF9gmluqr/ACwbFsCfNvyRISByJBYa/8EC7cXQhnb8zNpBRmo6fPx1ZU06nVLW/9AQ7Un3Etb88oGTGDQy1v2t6XbGuj8C/onMdg/eqnj9Ig1TuUaqIP2t5RkSCP6W/vTHupEiFqz/+VUW/t06zPzVyZTW9Pba/ms6hTK1coj+7PdISS5ixvyrFw25w9tO/dEiU2TEdt7/v6jCWLZPIvxCj8De/+MW/ldxw2V4rsr/VWWpKIJ2xv6SoAX5aPcC/nlVuFES/t7+YA64T9Xu7v5KHiVzcqMS/9W8TWxOslb9Cvk+Sbmy3v/+jR+KA9Lq/k4S9ZUfsVD+/GGWUPwOjP/9AA6PbYMc/jbCIqRdxtb9GxwM8yNONPwHSSlXf7MG/xUw6YxDNyb8X3MTqmmJxv1NQEw4isFk/tOw8TWQFvT8kajbeMJC9v3LBXnuzJ8u/sR0sjacwy7+8YABRPQC2vyiSkcqoMr6/0sdZfA4Asr/s9nQCK+aOP9dR1Iqz58W/39DX4ZEu0L9ceCkNlEyfP5thE9l3s8q/flK0xpgspD91VqB83sm+Pwfu0kvlANK/sodvlZPWwL8A+Nc71lugvxYsilmdGcG/pHwVSIbbvT9XzHPGGo+sv1TdjQZbqLC/hCk6wRnlw79sqTwd4k7TvwmZXewsxau/qXyZGFWBcr/iWmK4PAOjPyeRZtmU2bu/hsG3hNxFiz91537KVAnDvwoFpgsqdMa/YpLk0jHTyL84GQdlloCgv4u7/OPKj4C/6gWNU24eu79uZPJ03uPBvwNn78Kjmrm/vJH4v3Hmr7/2ZTkDD9Q3v+dlxjvHRLy/Xu0XgFs3wr8R1DQwNsGwv12lCdwMM86/FwV4tDj5yb+SqK1DzyzBv2f4oCfUAL6/bzw9GI2CoL8ybnP7yDy8v7oIJjHHL6W/HXnPSaZPrL+bOfLip3OtP9DCKOOz2dC/gMgVjZ/0ur8Gvi7KlAOuPxlC4CorhcC/JPN06VS3vb/SkvKLJHq2P6tJEYLKNrW/C7M5BkQ/nj/U14l2jrzFv3PkW6Nloa2/dgUXAJ8zwL+T7I0t+aDNvyiCcRK8lpq/HW5PRIUw0L+sS/rb83Nav91qFwO7FrY/4ckbW44hor92dA38puSgP9WNPXTLacm/E1eCSXoapb9AQVzi7fqzP+vEgLZs+rq/cCo1RD5Ukj/jWuMr4QS8v1m29clzX3q/vtEGpR9Xpb9hFgDsRSeev2yeFsq8i7q/XNlEcAnFtr+o3lT0HiWxPxU8p1jkZ6I/qyYeObTVc79u5Um5zOWzP1uu0iIUnKq/43b89wQ2dT/oYXOZVm/Kv3iMd4pT/Jo/8EQpt/wN0D8LYxSSsgd4P1ERFpFsaKA/JDGImUpay791QdbuT6iwP1uYeW7YybS/PFglYNRBXD8=",
                    "dtype": "f8"
                  },
                  "yaxis": "y"
                },
                {
                  "customdata": [
                    [
                      "P6"
                    ],
                    [
                      "P11"
                    ],
                    [
                      "P16"
                    ],
                    [
                      "P18"
                    ],
                    [
                      "P24"
                    ],
                    [
                      "P26"
                    ],
                    [
                      "P30"
                    ],
                    [
                      "P33"
                    ],
                    [
                      "P40"
                    ],
                    [
                      "P50"
                    ],
                    [
                      "P53"
                    ],
                    [
                      "P58"
                    ],
                    [
                      "P59"
                    ],
                    [
                      "P63"
                    ],
                    [
                      "P65"
                    ],
                    [
                      "P69"
                    ],
                    [
                      "P72"
                    ],
                    [
                      "P80"
                    ],
                    [
                      "P81"
                    ],
                    [
                      "P88"
                    ],
                    [
                      "P89"
                    ],
                    [
                      "P90"
                    ],
                    [
                      "P93"
                    ],
                    [
                      "P98"
                    ],
                    [
                      "P105"
                    ],
                    [
                      "P106"
                    ],
                    [
                      "P111"
                    ],
                    [
                      "P113"
                    ],
                    [
                      "P117"
                    ],
                    [
                      "P118"
                    ],
                    [
                      "P122"
                    ],
                    [
                      "P125"
                    ],
                    [
                      "P129"
                    ],
                    [
                      "P131"
                    ],
                    [
                      "P132"
                    ],
                    [
                      "P133"
                    ],
                    [
                      "P135"
                    ],
                    [
                      "P142"
                    ],
                    [
                      "P154"
                    ],
                    [
                      "P156"
                    ],
                    [
                      "P157"
                    ],
                    [
                      "P159"
                    ],
                    [
                      "P160"
                    ],
                    [
                      "P165"
                    ],
                    [
                      "P166"
                    ],
                    [
                      "P167"
                    ],
                    [
                      "P177"
                    ],
                    [
                      "P182"
                    ],
                    [
                      "P183"
                    ],
                    [
                      "P185"
                    ],
                    [
                      "P189"
                    ],
                    [
                      "P198"
                    ],
                    [
                      "P199"
                    ],
                    [
                      "P200"
                    ],
                    [
                      "P201"
                    ],
                    [
                      "P205"
                    ],
                    [
                      "P208"
                    ],
                    [
                      "P211"
                    ],
                    [
                      "P212"
                    ],
                    [
                      "P213"
                    ],
                    [
                      "P215"
                    ],
                    [
                      "P219"
                    ],
                    [
                      "P220"
                    ],
                    [
                      "P221"
                    ],
                    [
                      "P222"
                    ],
                    [
                      "P225"
                    ],
                    [
                      "P229"
                    ],
                    [
                      "P237"
                    ],
                    [
                      "P241"
                    ],
                    [
                      "P242"
                    ],
                    [
                      "P246"
                    ],
                    [
                      "P248"
                    ],
                    [
                      "P253"
                    ],
                    [
                      "P254"
                    ],
                    [
                      "P264"
                    ],
                    [
                      "P267"
                    ],
                    [
                      "P278"
                    ],
                    [
                      "P280"
                    ],
                    [
                      "P283"
                    ],
                    [
                      "P287"
                    ],
                    [
                      "P291"
                    ],
                    [
                      "P295"
                    ],
                    [
                      "P300"
                    ],
                    [
                      "P305"
                    ],
                    [
                      "P312"
                    ],
                    [
                      "P314"
                    ],
                    [
                      "P318"
                    ],
                    [
                      "P323"
                    ],
                    [
                      "P324"
                    ],
                    [
                      "P327"
                    ],
                    [
                      "P329"
                    ],
                    [
                      "P336"
                    ],
                    [
                      "P338"
                    ],
                    [
                      "P342"
                    ],
                    [
                      "P350"
                    ],
                    [
                      "P351"
                    ],
                    [
                      "P359"
                    ],
                    [
                      "P364"
                    ],
                    [
                      "P365"
                    ],
                    [
                      "P366"
                    ],
                    [
                      "P377"
                    ],
                    [
                      "P378"
                    ],
                    [
                      "P380"
                    ],
                    [
                      "P381"
                    ],
                    [
                      "P382"
                    ],
                    [
                      "P386"
                    ],
                    [
                      "P387"
                    ],
                    [
                      "P390"
                    ],
                    [
                      "P391"
                    ],
                    [
                      "P394"
                    ],
                    [
                      "P397"
                    ],
                    [
                      "P398"
                    ],
                    [
                      "P400"
                    ],
                    [
                      "P402"
                    ],
                    [
                      "P406"
                    ],
                    [
                      "P409"
                    ],
                    [
                      "P412"
                    ],
                    [
                      "P414"
                    ],
                    [
                      "P418"
                    ],
                    [
                      "P425"
                    ],
                    [
                      "P426"
                    ],
                    [
                      "P427"
                    ],
                    [
                      "P428"
                    ],
                    [
                      "P430"
                    ],
                    [
                      "P432"
                    ],
                    [
                      "P444"
                    ],
                    [
                      "P447"
                    ],
                    [
                      "P448"
                    ],
                    [
                      "P449"
                    ],
                    [
                      "P452"
                    ],
                    [
                      "P453"
                    ],
                    [
                      "P456"
                    ],
                    [
                      "P459"
                    ],
                    [
                      "P464"
                    ],
                    [
                      "P469"
                    ],
                    [
                      "P473"
                    ],
                    [
                      "P476"
                    ],
                    [
                      "P480"
                    ],
                    [
                      "P486"
                    ],
                    [
                      "P490"
                    ],
                    [
                      "P491"
                    ],
                    [
                      "P493"
                    ],
                    [
                      "P498"
                    ],
                    [
                      "P503"
                    ],
                    [
                      "P504"
                    ],
                    [
                      "P505"
                    ],
                    [
                      "P506"
                    ],
                    [
                      "P508"
                    ],
                    [
                      "P513"
                    ],
                    [
                      "P518"
                    ],
                    [
                      "P520"
                    ],
                    [
                      "P521"
                    ],
                    [
                      "P524"
                    ],
                    [
                      "P529"
                    ],
                    [
                      "P545"
                    ],
                    [
                      "P549"
                    ],
                    [
                      "P550"
                    ],
                    [
                      "P560"
                    ],
                    [
                      "P564"
                    ],
                    [
                      "P567"
                    ],
                    [
                      "P575"
                    ],
                    [
                      "P576"
                    ],
                    [
                      "P580"
                    ],
                    [
                      "P581"
                    ],
                    [
                      "P583"
                    ],
                    [
                      "P592"
                    ],
                    [
                      "P594"
                    ],
                    [
                      "P601"
                    ],
                    [
                      "P604"
                    ],
                    [
                      "P607"
                    ],
                    [
                      "P608"
                    ],
                    [
                      "P610"
                    ],
                    [
                      "P619"
                    ],
                    [
                      "P620"
                    ],
                    [
                      "P623"
                    ],
                    [
                      "P627"
                    ],
                    [
                      "P632"
                    ],
                    [
                      "P635"
                    ],
                    [
                      "P642"
                    ],
                    [
                      "P645"
                    ],
                    [
                      "P647"
                    ],
                    [
                      "P659"
                    ],
                    [
                      "P664"
                    ],
                    [
                      "P672"
                    ],
                    [
                      "P678"
                    ],
                    [
                      "P686"
                    ],
                    [
                      "P692"
                    ],
                    [
                      "P695"
                    ],
                    [
                      "P699"
                    ],
                    [
                      "P703"
                    ],
                    [
                      "P705"
                    ],
                    [
                      "P716"
                    ],
                    [
                      "P723"
                    ],
                    [
                      "P724"
                    ],
                    [
                      "P725"
                    ],
                    [
                      "P729"
                    ],
                    [
                      "P731"
                    ],
                    [
                      "P733"
                    ],
                    [
                      "P735"
                    ],
                    [
                      "P749"
                    ],
                    [
                      "P750"
                    ],
                    [
                      "P755"
                    ],
                    [
                      "P758"
                    ],
                    [
                      "P766"
                    ],
                    [
                      "P777"
                    ],
                    [
                      "P783"
                    ],
                    [
                      "P789"
                    ],
                    [
                      "P792"
                    ],
                    [
                      "P799"
                    ],
                    [
                      "P802"
                    ],
                    [
                      "P803"
                    ],
                    [
                      "P806"
                    ],
                    [
                      "P811"
                    ],
                    [
                      "P813"
                    ],
                    [
                      "P816"
                    ],
                    [
                      "P819"
                    ],
                    [
                      "P820"
                    ],
                    [
                      "P825"
                    ],
                    [
                      "P829"
                    ],
                    [
                      "P841"
                    ],
                    [
                      "P843"
                    ],
                    [
                      "P845"
                    ],
                    [
                      "P850"
                    ],
                    [
                      "P851"
                    ],
                    [
                      "P852"
                    ],
                    [
                      "P854"
                    ],
                    [
                      "P857"
                    ],
                    [
                      "P860"
                    ],
                    [
                      "P863"
                    ],
                    [
                      "P865"
                    ],
                    [
                      "P866"
                    ],
                    [
                      "P868"
                    ],
                    [
                      "P869"
                    ],
                    [
                      "P873"
                    ],
                    [
                      "P877"
                    ],
                    [
                      "P880"
                    ],
                    [
                      "P881"
                    ],
                    [
                      "P882"
                    ],
                    [
                      "P887"
                    ],
                    [
                      "P888"
                    ],
                    [
                      "P906"
                    ],
                    [
                      "P907"
                    ],
                    [
                      "P909"
                    ],
                    [
                      "P910"
                    ],
                    [
                      "P913"
                    ],
                    [
                      "P922"
                    ],
                    [
                      "P924"
                    ],
                    [
                      "P926"
                    ],
                    [
                      "P934"
                    ],
                    [
                      "P935"
                    ],
                    [
                      "P938"
                    ],
                    [
                      "P943"
                    ],
                    [
                      "P944"
                    ],
                    [
                      "P945"
                    ],
                    [
                      "P949"
                    ],
                    [
                      "P950"
                    ],
                    [
                      "P951"
                    ],
                    [
                      "P952"
                    ],
                    [
                      "P955"
                    ],
                    [
                      "P958"
                    ],
                    [
                      "P960"
                    ],
                    [
                      "P963"
                    ],
                    [
                      "P976"
                    ],
                    [
                      "P978"
                    ],
                    [
                      "P979"
                    ],
                    [
                      "P986"
                    ],
                    [
                      "P988"
                    ],
                    [
                      "P989"
                    ],
                    [
                      "P998"
                    ],
                    [
                      "P1002"
                    ],
                    [
                      "P1004"
                    ],
                    [
                      "P1015"
                    ],
                    [
                      "P1017"
                    ],
                    [
                      "P1024"
                    ],
                    [
                      "P1031"
                    ],
                    [
                      "P1037"
                    ],
                    [
                      "P1042"
                    ],
                    [
                      "P1044"
                    ],
                    [
                      "P1046"
                    ],
                    [
                      "P1048"
                    ],
                    [
                      "P1051"
                    ],
                    [
                      "P1054"
                    ],
                    [
                      "P1058"
                    ],
                    [
                      "P1059"
                    ],
                    [
                      "P1061"
                    ],
                    [
                      "P1062"
                    ],
                    [
                      "P1063"
                    ],
                    [
                      "P1070"
                    ],
                    [
                      "P1079"
                    ],
                    [
                      "P1082"
                    ],
                    [
                      "P1086"
                    ],
                    [
                      "P1094"
                    ],
                    [
                      "P1096"
                    ],
                    [
                      "P1099"
                    ],
                    [
                      "P1101"
                    ],
                    [
                      "P1107"
                    ],
                    [
                      "P1112"
                    ],
                    [
                      "P1114"
                    ],
                    [
                      "P1116"
                    ],
                    [
                      "P1117"
                    ],
                    [
                      "P1121"
                    ],
                    [
                      "P1125"
                    ],
                    [
                      "P1129"
                    ],
                    [
                      "P1131"
                    ],
                    [
                      "P1133"
                    ],
                    [
                      "P1135"
                    ],
                    [
                      "P1139"
                    ],
                    [
                      "P1141"
                    ],
                    [
                      "P1144"
                    ],
                    [
                      "P1145"
                    ],
                    [
                      "P1164"
                    ],
                    [
                      "P1175"
                    ],
                    [
                      "P1181"
                    ],
                    [
                      "P1183"
                    ],
                    [
                      "P1189"
                    ],
                    [
                      "P1194"
                    ],
                    [
                      "P1196"
                    ],
                    [
                      "P1199"
                    ],
                    [
                      "P1201"
                    ],
                    [
                      "P1203"
                    ],
                    [
                      "P1207"
                    ],
                    [
                      "P1211"
                    ],
                    [
                      "P1212"
                    ],
                    [
                      "P1215"
                    ],
                    [
                      "P1225"
                    ],
                    [
                      "P1235"
                    ],
                    [
                      "P1240"
                    ],
                    [
                      "P1246"
                    ],
                    [
                      "P1248"
                    ],
                    [
                      "P1255"
                    ],
                    [
                      "P1260"
                    ],
                    [
                      "P1263"
                    ],
                    [
                      "P1266"
                    ],
                    [
                      "P1267"
                    ],
                    [
                      "P1268"
                    ],
                    [
                      "P1270"
                    ],
                    [
                      "P1274"
                    ],
                    [
                      "P1276"
                    ],
                    [
                      "P1277"
                    ],
                    [
                      "P1282"
                    ],
                    [
                      "P1285"
                    ],
                    [
                      "P1291"
                    ],
                    [
                      "P1292"
                    ],
                    [
                      "P1296"
                    ],
                    [
                      "P1297"
                    ],
                    [
                      "P1299"
                    ],
                    [
                      "P1300"
                    ],
                    [
                      "P1302"
                    ],
                    [
                      "P1306"
                    ],
                    [
                      "P1310"
                    ],
                    [
                      "P1312"
                    ],
                    [
                      "P1313"
                    ],
                    [
                      "P1320"
                    ],
                    [
                      "P1327"
                    ],
                    [
                      "P1333"
                    ],
                    [
                      "P1334"
                    ],
                    [
                      "P1339"
                    ],
                    [
                      "P1342"
                    ],
                    [
                      "P1345"
                    ],
                    [
                      "P1346"
                    ],
                    [
                      "P1350"
                    ],
                    [
                      "P1359"
                    ],
                    [
                      "P1361"
                    ],
                    [
                      "P1364"
                    ],
                    [
                      "P1370"
                    ],
                    [
                      "P1372"
                    ],
                    [
                      "P1374"
                    ],
                    [
                      "P1375"
                    ],
                    [
                      "P1378"
                    ],
                    [
                      "P1381"
                    ],
                    [
                      "P1387"
                    ],
                    [
                      "P1400"
                    ],
                    [
                      "P1402"
                    ],
                    [
                      "P1405"
                    ],
                    [
                      "P1407"
                    ],
                    [
                      "P1409"
                    ],
                    [
                      "P1410"
                    ],
                    [
                      "P1411"
                    ],
                    [
                      "P1415"
                    ],
                    [
                      "P1417"
                    ],
                    [
                      "P1426"
                    ],
                    [
                      "P1428"
                    ],
                    [
                      "P1432"
                    ],
                    [
                      "P1434"
                    ],
                    [
                      "P1440"
                    ],
                    [
                      "P1441"
                    ],
                    [
                      "P1444"
                    ],
                    [
                      "P1445"
                    ],
                    [
                      "P1450"
                    ],
                    [
                      "P1452"
                    ],
                    [
                      "P1455"
                    ],
                    [
                      "P1460"
                    ],
                    [
                      "P1463"
                    ],
                    [
                      "P1470"
                    ],
                    [
                      "P1471"
                    ],
                    [
                      "P1475"
                    ],
                    [
                      "P1477"
                    ],
                    [
                      "P1480"
                    ],
                    [
                      "P1481"
                    ],
                    [
                      "P1483"
                    ],
                    [
                      "P1484"
                    ],
                    [
                      "P1487"
                    ],
                    [
                      "P1490"
                    ],
                    [
                      "P1492"
                    ],
                    [
                      "P1497"
                    ],
                    [
                      "P1501"
                    ],
                    [
                      "P1503"
                    ],
                    [
                      "P1504"
                    ],
                    [
                      "P1505"
                    ],
                    [
                      "P1510"
                    ],
                    [
                      "P1515"
                    ],
                    [
                      "P1522"
                    ],
                    [
                      "P1527"
                    ],
                    [
                      "P1533"
                    ],
                    [
                      "P1536"
                    ],
                    [
                      "P1537"
                    ],
                    [
                      "P1541"
                    ],
                    [
                      "P1546"
                    ],
                    [
                      "P1549"
                    ],
                    [
                      "P1551"
                    ],
                    [
                      "P1553"
                    ],
                    [
                      "P1556"
                    ],
                    [
                      "P1564"
                    ],
                    [
                      "P1573"
                    ],
                    [
                      "P1578"
                    ],
                    [
                      "P1580"
                    ],
                    [
                      "P1584"
                    ],
                    [
                      "P1585"
                    ],
                    [
                      "P1591"
                    ],
                    [
                      "P1598"
                    ],
                    [
                      "P1606"
                    ],
                    [
                      "P1608"
                    ],
                    [
                      "P1618"
                    ],
                    [
                      "P1621"
                    ],
                    [
                      "P1623"
                    ],
                    [
                      "P1626"
                    ],
                    [
                      "P1629"
                    ],
                    [
                      "P1632"
                    ],
                    [
                      "P1640"
                    ],
                    [
                      "P1644"
                    ],
                    [
                      "P1645"
                    ],
                    [
                      "P1646"
                    ],
                    [
                      "P1647"
                    ],
                    [
                      "P1648"
                    ],
                    [
                      "P1652"
                    ],
                    [
                      "P1660"
                    ],
                    [
                      "P1661"
                    ],
                    [
                      "P1662"
                    ],
                    [
                      "P1664"
                    ],
                    [
                      "P1670"
                    ],
                    [
                      "P1672"
                    ],
                    [
                      "P1675"
                    ],
                    [
                      "P1676"
                    ],
                    [
                      "P1678"
                    ],
                    [
                      "P1689"
                    ],
                    [
                      "P1693"
                    ],
                    [
                      "P1699"
                    ],
                    [
                      "P1701"
                    ],
                    [
                      "P1702"
                    ],
                    [
                      "P1705"
                    ],
                    [
                      "P1710"
                    ],
                    [
                      "P1712"
                    ],
                    [
                      "P1713"
                    ],
                    [
                      "P1716"
                    ],
                    [
                      "P1717"
                    ],
                    [
                      "P1718"
                    ],
                    [
                      "P1719"
                    ],
                    [
                      "P1725"
                    ],
                    [
                      "P1729"
                    ],
                    [
                      "P1732"
                    ],
                    [
                      "P1733"
                    ],
                    [
                      "P1747"
                    ],
                    [
                      "P1748"
                    ],
                    [
                      "P1750"
                    ],
                    [
                      "P1759"
                    ],
                    [
                      "P1771"
                    ],
                    [
                      "P1782"
                    ],
                    [
                      "P1786"
                    ],
                    [
                      "P1791"
                    ],
                    [
                      "P1792"
                    ],
                    [
                      "P1801"
                    ],
                    [
                      "P1813"
                    ],
                    [
                      "P1815"
                    ],
                    [
                      "P1816"
                    ],
                    [
                      "P1817"
                    ],
                    [
                      "P1818"
                    ],
                    [
                      "P1819"
                    ],
                    [
                      "P1822"
                    ],
                    [
                      "P1830"
                    ],
                    [
                      "P1831"
                    ],
                    [
                      "P1832"
                    ],
                    [
                      "P1833"
                    ],
                    [
                      "P1835"
                    ],
                    [
                      "P1836"
                    ],
                    [
                      "P1837"
                    ],
                    [
                      "P1838"
                    ],
                    [
                      "P1845"
                    ],
                    [
                      "P1846"
                    ],
                    [
                      "P1851"
                    ],
                    [
                      "P1853"
                    ],
                    [
                      "P1861"
                    ],
                    [
                      "P1862"
                    ],
                    [
                      "P1870"
                    ],
                    [
                      "P1871"
                    ],
                    [
                      "P1878"
                    ],
                    [
                      "P1882"
                    ],
                    [
                      "P1886"
                    ],
                    [
                      "P1891"
                    ],
                    [
                      "P1892"
                    ],
                    [
                      "P1899"
                    ],
                    [
                      "P1901"
                    ],
                    [
                      "P1904"
                    ],
                    [
                      "P1907"
                    ],
                    [
                      "P1909"
                    ],
                    [
                      "P1920"
                    ],
                    [
                      "P1925"
                    ],
                    [
                      "P1928"
                    ],
                    [
                      "P1930"
                    ],
                    [
                      "P1937"
                    ],
                    [
                      "P1938"
                    ],
                    [
                      "P1942"
                    ],
                    [
                      "P1950"
                    ],
                    [
                      "P1953"
                    ],
                    [
                      "P1962"
                    ],
                    [
                      "P1963"
                    ],
                    [
                      "P1964"
                    ],
                    [
                      "P1965"
                    ],
                    [
                      "P1968"
                    ],
                    [
                      "P1969"
                    ],
                    [
                      "P1970"
                    ],
                    [
                      "P1975"
                    ],
                    [
                      "P1977"
                    ],
                    [
                      "P1979"
                    ],
                    [
                      "P1988"
                    ],
                    [
                      "P1990"
                    ],
                    [
                      "P1994"
                    ],
                    [
                      "P1998"
                    ]
                  ],
                  "hovertemplate": "color=0<br>PCA Component 1=%{x}<br>PCA Component 2=%{y}<br>product_id=%{customdata[0]}<extra></extra>",
                  "legendgroup": "0",
                  "marker": {
                    "color": "#ab63fa",
                    "opacity": 0.6,
                    "symbol": "circle"
                  },
                  "mode": "markers",
                  "name": "0",
                  "showlegend": true,
                  "type": "scattergl",
                  "x": {
                    "bdata": "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",
                    "dtype": "f8"
                  },
                  "xaxis": "x",
                  "y": {
                    "bdata": "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",
                    "dtype": "f8"
                  },
                  "yaxis": "y"
                },
                {
                  "customdata": [
                    [
                      "P17"
                    ],
                    [
                      "P22"
                    ],
                    [
                      "P27"
                    ],
                    [
                      "P32"
                    ],
                    [
                      "P44"
                    ],
                    [
                      "P64"
                    ],
                    [
                      "P67"
                    ],
                    [
                      "P78"
                    ],
                    [
                      "P85"
                    ],
                    [
                      "P86"
                    ],
                    [
                      "P99"
                    ],
                    [
                      "P121"
                    ],
                    [
                      "P147"
                    ],
                    [
                      "P161"
                    ],
                    [
                      "P194"
                    ],
                    [
                      "P236"
                    ],
                    [
                      "P238"
                    ],
                    [
                      "P247"
                    ],
                    [
                      "P270"
                    ],
                    [
                      "P276"
                    ],
                    [
                      "P281"
                    ],
                    [
                      "P290"
                    ],
                    [
                      "P304"
                    ],
                    [
                      "P310"
                    ],
                    [
                      "P328"
                    ],
                    [
                      "P345"
                    ],
                    [
                      "P356"
                    ],
                    [
                      "P369"
                    ],
                    [
                      "P388"
                    ],
                    [
                      "P392"
                    ],
                    [
                      "P438"
                    ],
                    [
                      "P461"
                    ],
                    [
                      "P471"
                    ],
                    [
                      "P482"
                    ],
                    [
                      "P483"
                    ],
                    [
                      "P530"
                    ],
                    [
                      "P546"
                    ],
                    [
                      "P548"
                    ],
                    [
                      "P559"
                    ],
                    [
                      "P590"
                    ],
                    [
                      "P611"
                    ],
                    [
                      "P641"
                    ],
                    [
                      "P649"
                    ],
                    [
                      "P656"
                    ],
                    [
                      "P665"
                    ],
                    [
                      "P677"
                    ],
                    [
                      "P704"
                    ],
                    [
                      "P713"
                    ],
                    [
                      "P722"
                    ],
                    [
                      "P732"
                    ],
                    [
                      "P754"
                    ],
                    [
                      "P778"
                    ],
                    [
                      "P787"
                    ],
                    [
                      "P791"
                    ],
                    [
                      "P798"
                    ],
                    [
                      "P801"
                    ],
                    [
                      "P826"
                    ],
                    [
                      "P827"
                    ],
                    [
                      "P879"
                    ],
                    [
                      "P890"
                    ],
                    [
                      "P902"
                    ],
                    [
                      "P914"
                    ],
                    [
                      "P916"
                    ],
                    [
                      "P930"
                    ],
                    [
                      "P973"
                    ],
                    [
                      "P992"
                    ],
                    [
                      "P1008"
                    ],
                    [
                      "P1009"
                    ],
                    [
                      "P1060"
                    ],
                    [
                      "P1090"
                    ],
                    [
                      "P1126"
                    ],
                    [
                      "P1128"
                    ],
                    [
                      "P1140"
                    ],
                    [
                      "P1150"
                    ],
                    [
                      "P1154"
                    ],
                    [
                      "P1157"
                    ],
                    [
                      "P1159"
                    ],
                    [
                      "P1186"
                    ],
                    [
                      "P1191"
                    ],
                    [
                      "P1229"
                    ],
                    [
                      "P1245"
                    ],
                    [
                      "P1269"
                    ],
                    [
                      "P1286"
                    ],
                    [
                      "P1328"
                    ],
                    [
                      "P1332"
                    ],
                    [
                      "P1335"
                    ],
                    [
                      "P1348"
                    ],
                    [
                      "P1356"
                    ],
                    [
                      "P1360"
                    ],
                    [
                      "P1362"
                    ],
                    [
                      "P1368"
                    ],
                    [
                      "P1383"
                    ],
                    [
                      "P1391"
                    ],
                    [
                      "P1399"
                    ],
                    [
                      "P1420"
                    ],
                    [
                      "P1438"
                    ],
                    [
                      "P1458"
                    ],
                    [
                      "P1500"
                    ],
                    [
                      "P1506"
                    ],
                    [
                      "P1524"
                    ],
                    [
                      "P1530"
                    ],
                    [
                      "P1550"
                    ],
                    [
                      "P1563"
                    ],
                    [
                      "P1568"
                    ],
                    [
                      "P1572"
                    ],
                    [
                      "P1610"
                    ],
                    [
                      "P1619"
                    ],
                    [
                      "P1681"
                    ],
                    [
                      "P1683"
                    ],
                    [
                      "P1697"
                    ],
                    [
                      "P1752"
                    ],
                    [
                      "P1765"
                    ],
                    [
                      "P1795"
                    ],
                    [
                      "P1856"
                    ],
                    [
                      "P1890"
                    ],
                    [
                      "P1911"
                    ],
                    [
                      "P1913"
                    ],
                    [
                      "P1924"
                    ],
                    [
                      "P1935"
                    ],
                    [
                      "P1940"
                    ],
                    [
                      "P1961"
                    ],
                    [
                      "P1971"
                    ],
                    [
                      "P1992"
                    ]
                  ],
                  "hovertemplate": "color=2<br>PCA Component 1=%{x}<br>PCA Component 2=%{y}<br>product_id=%{customdata[0]}<extra></extra>",
                  "legendgroup": "2",
                  "marker": {
                    "color": "#FFA15A",
                    "opacity": 0.6,
                    "symbol": "circle"
                  },
                  "mode": "markers",
                  "name": "2",
                  "showlegend": true,
                  "type": "scattergl",
                  "x": {
                    "bdata": "6SakA7/FXz8py/0GYdXDP7kirngqnpo/aXs9soFunL8gJ21kwM2Mv6lkhveygam/Mw2RYAsXpL+4SEf+oUyqv6YAk1+kNIC/5JIcMIbjpL+07+IWJDWPv13DDqvNoKS/FqTokXZ1nb9BHnv9I8Jiv5ayVPOBepC/X+TPbNRjnT9LGh94gXGTP8hUXR0K8m8/+3sH918Shz/0vIHibVa3P7/6xTkpdbs/0yCAdKsTnr+6FPIEIr5Rv9fTyAvTV7K/DQAVwECXnD81BAR+h06vv3E3OgffCX6/kJ5/gA0bqz/CjP/183yFvyxbGbIA0II/gk3Olo6ooT8NIuY/HWq7P0AaeAHrdMY/lh6VnFl1iT+zRi5u97etP8acHdUcd0s/rcy9L6gskb/psIpc9LWqP1LY/+Yrrpk/sARY1mSblj+jeWv5+KaNP0DEZmzaWaU/ct5R7t4+pr9ENcR6MGuQvzBFfeKsoq6/rIo/GJeppT9T9ITbhbWYP82hABT5vHW/uM4NWTshuT9ZaBJUu8+kv8vpvsn30Im/1vbhC3d6qr9ww+S4UmHAv9Z1A+syiXU/7qg8Gf04mD+GurUCVn28v4L5x7pOnrK/ILlaX2fTqT/sLacFCb2tv7wUDFDJv5G/DCZTgLkfsr8XTJ/NE9Cov0Ql9zd1YpI/E4QwhamZkj/4lMksLBmmv6ECHpyE/pi/8BywnhMNnz/VXoBI0ya0v+X3hh68j5s/5zncyXF2sb9RBRz2diWgPwcc2woqQZC/p17G+ARsgz9dFGhItsuvPzeAVc7IXJe/nKNz5CfruL9kXfajpFaoP+Uk7OjjYaE/uyUIEyBmo7+9BpAjMdGzvxmpcm32KWS/NMVYPSuypj+eNoiP/kGPP3grZDVS1Km/Q1mYVtIuoj/P1sG5/tCrP4poVHcIram/hWz11ooBrz9NCFC1uAusPxgGnFPW/rO/WDbiUBLcib9ndb82E1WjvyKrO7U7iLG/Xbv/leX/n79tLWpZqxigv/oC5DtVHKm/0bdGCLHdlr8vTUlBpeOXPxxfQcdfk5a/WPV+0Akmm79iahkfL6WtPyLjfqQ7m6y/AL0pQCgpgD9YBXURyIChP2ZP050ibZE/wewxqqHRq7+zU0/mPM+Cv6U9bjSkf7Y/5/apgvvHtL8gidMp13OVP4Zjlu6uEqQ/G3EYidCppj82PdXdcVGiv79A/6a0v6I/kqAmjyqelz/JpxDQok2Kv569jF09C22/ipe/NbzDlb9MSPJhS8F4v8+ZyTpG5aE/Nnri2hd5mb99gNssSTKpP78MXn/Wn52/",
                    "dtype": "f8"
                  },
                  "xaxis": "x",
                  "y": {
                    "bdata": "FnAs2qtHkz+vRRekvuO6P9GgqpOOZLq/YXw7TcFExb8YxzTMrwe1v7QwFHdgQb2/0gWcpjcXpb/uzx60qp7Nv0Y1/2sQesC/R0fSGK3Lwb8eH6VWyB2BP4vRsa6e0cC/WjvnnIkq0r9Km/4EgGC1PxNTI5SfO8e/o4wFS0bCwb/zxoCvMZ62v2ppFRN0c7C/cmKgZoZmqr9WRCgrMSjBv2I2E8PO74s/zIFZmfVvx79eSJVyivfAv6YSIFN6ybK/QyqTMveemD8aPUniocmvPxeHFSEWsMi/DsE0679zu7/tKG0sJVqzvzuYsGR/4Lm/lfruyHJQhz/wq8UwaObGv9ZQGiq6tYY/F/RvT/mWtT/lmdLBAWegP+wljNwS16Q/uit7FQ1Yv7/ilWB5d+apP847IWjP0aW/6CbqV2l7s7+TPi95MDinP0b9VDfWcIs/cbk3s67mnr/JoY+maCaPP+P20s74z7Y/RkODLO5ltL8ANmlMn1LBv6Bhi2ZVVbs/uOCoOW8Yw7/E9aQcEi+1v0i2ZW2fmMC/db4jFTirwz/S+B8AtGfJv6+let59mNO/8UYsxXMt0b+ezxM4r823v6RyzBjqsLq/C9kYN2qSuD+pOwRPmQquvw1xMTW8f8q/qBFeISIB0L/8FZM2ha61vwNWyi1qS7K/bvmzUju9zL8/ZiyCI7uhv+llwkT5BsG/K1GgRVOTrb8CjmoBFAG5v2V0KSjT/sG/qkJjJKM9uT/Ok65J2vu1v8nHY/T5Tri/tNlPCENhpL99/afmi6XAvzjvAfZwA7m/ZFdG9tkcq7+XjDhPl8ShvzkcgJEiR62/tk2qN2eysj91dRnkOdS9vzS2U3j5ArE/vVZTWXAtcT8mBTDpghu8v9YDDavi86i/9AILuwVTsj9UhZ5tfK+9v9e65FWxr8y/buyUiYS10785jVkRMZGmv9QzIef1apO/nglkwYIisL9w0HLJ/8LFv+DBq4gXn8S/YdlwZANzsD8gB37MfLy4v+CRDvLG3c+/6RgfucxPlj+bHq2I5CHFP4BdT3dZypu/9VzGY0lkfz/aEKxAArWYvy23N2DNtMW/ng4G279v0r8MJJNYTMa4PwjTX2/pXGe/o91+x1Ubyr+wV7K9lSTDv8gSjzFUOag/YQ4QMKPQw79klmkqRXe6v516bitw8ci/yvjylpCjrL+UljdlYTy/vwX8PQ0+sNG/tvgrd8s6mz97APFScuGLvxzyLKlAC86/XgxN1EzAt7/dE00JYLzDv0RZobtNLae/p3mDa8Bgv78yydIbDVCwv4h7v/x7zsm/",
                    "dtype": "f8"
                  },
                  "yaxis": "y"
                }
              ],
              "layout": {
                "height": 500,
                "legend": {
                  "title": {
                    "text": "Clusters"
                  },
                  "tracegroupgap": 0,
                  "x": 1,
                  "y": 1
                },
                "template": {
                  "data": {
                    "bar": [
                      {
                        "error_x": {
                          "color": "#2a3f5f"
                        },
                        "error_y": {
                          "color": "#2a3f5f"
                        },
                        "marker": {
                          "line": {
                            "color": "#E5ECF6",
                            "width": 0.5
                          },
                          "pattern": {
                            "fillmode": "overlay",
                            "size": 10,
                            "solidity": 0.2
                          }
                        },
                        "type": "bar"
                      }
                    ],
                    "barpolar": [
                      {
                        "marker": {
                          "line": {
                            "color": "#E5ECF6",
                            "width": 0.5
                          },
                          "pattern": {
                            "fillmode": "overlay",
                            "size": 10,
                            "solidity": 0.2
                          }
                        },
                        "type": "barpolar"
                      }
                    ],
                    "carpet": [
                      {
                        "aaxis": {
                          "endlinecolor": "#2a3f5f",
                          "gridcolor": "white",
                          "linecolor": "white",
                          "minorgridcolor": "white",
                          "startlinecolor": "#2a3f5f"
                        },
                        "baxis": {
                          "endlinecolor": "#2a3f5f",
                          "gridcolor": "white",
                          "linecolor": "white",
                          "minorgridcolor": "white",
                          "startlinecolor": "#2a3f5f"
                        },
                        "type": "carpet"
                      }
                    ],
                    "choropleth": [
                      {
                        "colorbar": {
                          "outlinewidth": 0,
                          "ticks": ""
                        },
                        "type": "choropleth"
                      }
                    ],
                    "contour": [
                      {
                        "colorbar": {
                          "outlinewidth": 0,
                          "ticks": ""
                        },
                        "colorscale": [
                          [
                            0,
                            "#0d0887"
                          ],
                          [
                            0.1111111111111111,
                            "#46039f"
                          ],
                          [
                            0.2222222222222222,
                            "#7201a8"
                          ],
                          [
                            0.3333333333333333,
                            "#9c179e"
                          ],
                          [
                            0.4444444444444444,
                            "#bd3786"
                          ],
                          [
                            0.5555555555555556,
                            "#d8576b"
                          ],
                          [
                            0.6666666666666666,
                            "#ed7953"
                          ],
                          [
                            0.7777777777777778,
                            "#fb9f3a"
                          ],
                          [
                            0.8888888888888888,
                            "#fdca26"
                          ],
                          [
                            1,
                            "#f0f921"
                          ]
                        ],
                        "type": "contour"
                      }
                    ],
                    "contourcarpet": [
                      {
                        "colorbar": {
                          "outlinewidth": 0,
                          "ticks": ""
                        },
                        "type": "contourcarpet"
                      }
                    ],
                    "heatmap": [
                      {
                        "colorbar": {
                          "outlinewidth": 0,
                          "ticks": ""
                        },
                        "colorscale": [
                          [
                            0,
                            "#0d0887"
                          ],
                          [
                            0.1111111111111111,
                            "#46039f"
                          ],
                          [
                            0.2222222222222222,
                            "#7201a8"
                          ],
                          [
                            0.3333333333333333,
                            "#9c179e"
                          ],
                          [
                            0.4444444444444444,
                            "#bd3786"
                          ],
                          [
                            0.5555555555555556,
                            "#d8576b"
                          ],
                          [
                            0.6666666666666666,
                            "#ed7953"
                          ],
                          [
                            0.7777777777777778,
                            "#fb9f3a"
                          ],
                          [
                            0.8888888888888888,
                            "#fdca26"
                          ],
                          [
                            1,
                            "#f0f921"
                          ]
                        ],
                        "type": "heatmap"
                      }
                    ],
                    "histogram": [
                      {
                        "marker": {
                          "pattern": {
                            "fillmode": "overlay",
                            "size": 10,
                            "solidity": 0.2
                          }
                        },
                        "type": "histogram"
                      }
                    ],
                    "histogram2d": [
                      {
                        "colorbar": {
                          "outlinewidth": 0,
                          "ticks": ""
                        },
                        "colorscale": [
                          [
                            0,
                            "#0d0887"
                          ],
                          [
                            0.1111111111111111,
                            "#46039f"
                          ],
                          [
                            0.2222222222222222,
                            "#7201a8"
                          ],
                          [
                            0.3333333333333333,
                            "#9c179e"
                          ],
                          [
                            0.4444444444444444,
                            "#bd3786"
                          ],
                          [
                            0.5555555555555556,
                            "#d8576b"
                          ],
                          [
                            0.6666666666666666,
                            "#ed7953"
                          ],
                          [
                            0.7777777777777778,
                            "#fb9f3a"
                          ],
                          [
                            0.8888888888888888,
                            "#fdca26"
                          ],
                          [
                            1,
                            "#f0f921"
                          ]
                        ],
                        "type": "histogram2d"
                      }
                    ],
                    "histogram2dcontour": [
                      {
                        "colorbar": {
                          "outlinewidth": 0,
                          "ticks": ""
                        },
                        "colorscale": [
                          [
                            0,
                            "#0d0887"
                          ],
                          [
                            0.1111111111111111,
                            "#46039f"
                          ],
                          [
                            0.2222222222222222,
                            "#7201a8"
                          ],
                          [
                            0.3333333333333333,
                            "#9c179e"
                          ],
                          [
                            0.4444444444444444,
                            "#bd3786"
                          ],
                          [
                            0.5555555555555556,
                            "#d8576b"
                          ],
                          [
                            0.6666666666666666,
                            "#ed7953"
                          ],
                          [
                            0.7777777777777778,
                            "#fb9f3a"
                          ],
                          [
                            0.8888888888888888,
                            "#fdca26"
                          ],
                          [
                            1,
                            "#f0f921"
                          ]
                        ],
                        "type": "histogram2dcontour"
                      }
                    ],
                    "mesh3d": [
                      {
                        "colorbar": {
                          "outlinewidth": 0,
                          "ticks": ""
                        },
                        "type": "mesh3d"
                      }
                    ],
                    "parcoords": [
                      {
                        "line": {
                          "colorbar": {
                            "outlinewidth": 0,
                            "ticks": ""
                          }
                        },
                        "type": "parcoords"
                      }
                    ],
                    "pie": [
                      {
                        "automargin": true,
                        "type": "pie"
                      }
                    ],
                    "scatter": [
                      {
                        "fillpattern": {
                          "fillmode": "overlay",
                          "size": 10,
                          "solidity": 0.2
                        },
                        "type": "scatter"
                      }
                    ],
                    "scatter3d": [
                      {
                        "line": {
                          "colorbar": {
                            "outlinewidth": 0,
                            "ticks": ""
                          }
                        },
                        "marker": {
                          "colorbar": {
                            "outlinewidth": 0,
                            "ticks": ""
                          }
                        },
                        "type": "scatter3d"
                      }
                    ],
                    "scattercarpet": [
                      {
                        "marker": {
                          "colorbar": {
                            "outlinewidth": 0,
                            "ticks": ""
                          }
                        },
                        "type": "scattercarpet"
                      }
                    ],
                    "scattergeo": [
                      {
                        "marker": {
                          "colorbar": {
                            "outlinewidth": 0,
                            "ticks": ""
                          }
                        },
                        "type": "scattergeo"
                      }
                    ],
                    "scattergl": [
                      {
                        "marker": {
                          "colorbar": {
                            "outlinewidth": 0,
                            "ticks": ""
                          }
                        },
                        "type": "scattergl"
                      }
                    ],
                    "scattermap": [
                      {
                        "marker": {
                          "colorbar": {
                            "outlinewidth": 0,
                            "ticks": ""
                          }
                        },
                        "type": "scattermap"
                      }
                    ],
                    "scattermapbox": [
                      {
                        "marker": {
                          "colorbar": {
                            "outlinewidth": 0,
                            "ticks": ""
                          }
                        },
                        "type": "scattermapbox"
                      }
                    ],
                    "scatterpolar": [
                      {
                        "marker": {
                          "colorbar": {
                            "outlinewidth": 0,
                            "ticks": ""
                          }
                        },
                        "type": "scatterpolar"
                      }
                    ],
                    "scatterpolargl": [
                      {
                        "marker": {
                          "colorbar": {
                            "outlinewidth": 0,
                            "ticks": ""
                          }
                        },
                        "type": "scatterpolargl"
                      }
                    ],
                    "scatterternary": [
                      {
                        "marker": {
                          "colorbar": {
                            "outlinewidth": 0,
                            "ticks": ""
                          }
                        },
                        "type": "scatterternary"
                      }
                    ],
                    "surface": [
                      {
                        "colorbar": {
                          "outlinewidth": 0,
                          "ticks": ""
                        },
                        "colorscale": [
                          [
                            0,
                            "#0d0887"
                          ],
                          [
                            0.1111111111111111,
                            "#46039f"
                          ],
                          [
                            0.2222222222222222,
                            "#7201a8"
                          ],
                          [
                            0.3333333333333333,
                            "#9c179e"
                          ],
                          [
                            0.4444444444444444,
                            "#bd3786"
                          ],
                          [
                            0.5555555555555556,
                            "#d8576b"
                          ],
                          [
                            0.6666666666666666,
                            "#ed7953"
                          ],
                          [
                            0.7777777777777778,
                            "#fb9f3a"
                          ],
                          [
                            0.8888888888888888,
                            "#fdca26"
                          ],
                          [
                            1,
                            "#f0f921"
                          ]
                        ],
                        "type": "surface"
                      }
                    ],
                    "table": [
                      {
                        "cells": {
                          "fill": {
                            "color": "#EBF0F8"
                          },
                          "line": {
                            "color": "white"
                          }
                        },
                        "header": {
                          "fill": {
                            "color": "#C8D4E3"
                          },
                          "line": {
                            "color": "white"
                          }
                        },
                        "type": "table"
                      }
                    ]
                  },
                  "layout": {
                    "annotationdefaults": {
                      "arrowcolor": "#2a3f5f",
                      "arrowhead": 0,
                      "arrowwidth": 1
                    },
                    "autotypenumbers": "strict",
                    "coloraxis": {
                      "colorbar": {
                        "outlinewidth": 0,
                        "ticks": ""
                      }
                    },
                    "colorscale": {
                      "diverging": [
                        [
                          0,
                          "#8e0152"
                        ],
                        [
                          0.1,
                          "#c51b7d"
                        ],
                        [
                          0.2,
                          "#de77ae"
                        ],
                        [
                          0.3,
                          "#f1b6da"
                        ],
                        [
                          0.4,
                          "#fde0ef"
                        ],
                        [
                          0.5,
                          "#f7f7f7"
                        ],
                        [
                          0.6,
                          "#e6f5d0"
                        ],
                        [
                          0.7,
                          "#b8e186"
                        ],
                        [
                          0.8,
                          "#7fbc41"
                        ],
                        [
                          0.9,
                          "#4d9221"
                        ],
                        [
                          1,
                          "#276419"
                        ]
                      ],
                      "sequential": [
                        [
                          0,
                          "#0d0887"
                        ],
                        [
                          0.1111111111111111,
                          "#46039f"
                        ],
                        [
                          0.2222222222222222,
                          "#7201a8"
                        ],
                        [
                          0.3333333333333333,
                          "#9c179e"
                        ],
                        [
                          0.4444444444444444,
                          "#bd3786"
                        ],
                        [
                          0.5555555555555556,
                          "#d8576b"
                        ],
                        [
                          0.6666666666666666,
                          "#ed7953"
                        ],
                        [
                          0.7777777777777778,
                          "#fb9f3a"
                        ],
                        [
                          0.8888888888888888,
                          "#fdca26"
                        ],
                        [
                          1,
                          "#f0f921"
                        ]
                      ],
                      "sequentialminus": [
                        [
                          0,
                          "#0d0887"
                        ],
                        [
                          0.1111111111111111,
                          "#46039f"
                        ],
                        [
                          0.2222222222222222,
                          "#7201a8"
                        ],
                        [
                          0.3333333333333333,
                          "#9c179e"
                        ],
                        [
                          0.4444444444444444,
                          "#bd3786"
                        ],
                        [
                          0.5555555555555556,
                          "#d8576b"
                        ],
                        [
                          0.6666666666666666,
                          "#ed7953"
                        ],
                        [
                          0.7777777777777778,
                          "#fb9f3a"
                        ],
                        [
                          0.8888888888888888,
                          "#fdca26"
                        ],
                        [
                          1,
                          "#f0f921"
                        ]
                      ]
                    },
                    "colorway": [
                      "#636efa",
                      "#EF553B",
                      "#00cc96",
                      "#ab63fa",
                      "#FFA15A",
                      "#19d3f3",
                      "#FF6692",
                      "#B6E880",
                      "#FF97FF",
                      "#FECB52"
                    ],
                    "font": {
                      "color": "#2a3f5f"
                    },
                    "geo": {
                      "bgcolor": "white",
                      "lakecolor": "white",
                      "landcolor": "#E5ECF6",
                      "showlakes": true,
                      "showland": true,
                      "subunitcolor": "white"
                    },
                    "hoverlabel": {
                      "align": "left"
                    },
                    "hovermode": "closest",
                    "mapbox": {
                      "style": "light"
                    },
                    "paper_bgcolor": "white",
                    "plot_bgcolor": "#E5ECF6",
                    "polar": {
                      "angularaxis": {
                        "gridcolor": "white",
                        "linecolor": "white",
                        "ticks": ""
                      },
                      "bgcolor": "#E5ECF6",
                      "radialaxis": {
                        "gridcolor": "white",
                        "linecolor": "white",
                        "ticks": ""
                      }
                    },
                    "scene": {
                      "xaxis": {
                        "backgroundcolor": "#E5ECF6",
                        "gridcolor": "white",
                        "gridwidth": 2,
                        "linecolor": "white",
                        "showbackground": true,
                        "ticks": "",
                        "zerolinecolor": "white"
                      },
                      "yaxis": {
                        "backgroundcolor": "#E5ECF6",
                        "gridcolor": "white",
                        "gridwidth": 2,
                        "linecolor": "white",
                        "showbackground": true,
                        "ticks": "",
                        "zerolinecolor": "white"
                      },
                      "zaxis": {
                        "backgroundcolor": "#E5ECF6",
                        "gridcolor": "white",
                        "gridwidth": 2,
                        "linecolor": "white",
                        "showbackground": true,
                        "ticks": "",
                        "zerolinecolor": "white"
                      }
                    },
                    "shapedefaults": {
                      "line": {
                        "color": "#2a3f5f"
                      }
                    },
                    "ternary": {
                      "aaxis": {
                        "gridcolor": "white",
                        "linecolor": "white",
                        "ticks": ""
                      },
                      "baxis": {
                        "gridcolor": "white",
                        "linecolor": "white",
                        "ticks": ""
                      },
                      "bgcolor": "#E5ECF6",
                      "caxis": {
                        "gridcolor": "white",
                        "linecolor": "white",
                        "ticks": ""
                      }
                    },
                    "title": {
                      "x": 0.05
                    },
                    "xaxis": {
                      "automargin": true,
                      "gridcolor": "white",
                      "linecolor": "white",
                      "ticks": "",
                      "title": {
                        "standoff": 15
                      },
                      "zerolinecolor": "white",
                      "zerolinewidth": 2
                    },
                    "yaxis": {
                      "automargin": true,
                      "gridcolor": "white",
                      "linecolor": "white",
                      "ticks": "",
                      "title": {
                        "standoff": 15
                      },
                      "zerolinecolor": "white",
                      "zerolinewidth": 2
                    }
                  }
                },
                "title": {
                  "text": "2D Visualization of Clusters with Recently Viewed Products"
                },
                "width": 600,
                "xaxis": {
                  "anchor": "y",
                  "domain": [
                    0,
                    1
                  ],
                  "title": {
                    "text": "PCA Component 1"
                  }
                },
                "yaxis": {
                  "anchor": "x",
                  "domain": [
                    0,
                    1
                  ],
                  "title": {
                    "text": "PCA Component 2"
                  }
                }
              }
            }
          },
          "metadata": {},
          "output_type": "display_data"
        }
      ],
      "source": [
        "def plot_clusters(pca_df, num_clusters=5):\n",
        "    \"\"\"\n",
        "    Plots a 2D visualization of clusters using Plotly Express.\n",
        "\n",
        "    Parameters:\n",
        "    - pca_df (DataFrame): A Pandas DataFrame containing columns 'x', 'y', and 'cluster'.\n",
        "      'x' and 'y' are the 2D PCA components, and 'cluster' indicates the cluster label.\n",
        "    - num_clusters (int): The number of unique clusters to display.\n",
        "    - recently_viewed_df (DataFrame, optional): DataFrame with 'x' and 'y' coordinates for recently viewed products.\n",
        "\n",
        "    This function creates an interactive scatter plot where each point is colored according to its cluster.\n",
        "    Recently viewed products are marked as black crosses if provided.\n",
        "\n",
        "    Returns:\n",
        "    - fig (Figure): The Plotly figure object for the plot.\n",
        "    \"\"\"\n",
        "\n",
        "    # Create the base cluster plot\n",
        "    fig = px.scatter(\n",
        "        pca_df,\n",
        "        x='x',\n",
        "        y='y',\n",
        "        opacity=0.6,\n",
        "        size_max=4,\n",
        "        color= pca_df.cluster.astype(str),\n",
        "        title='2D Visualization of Clusters with Recently Viewed Products',\n",
        "        labels={'x': 'PCA Component 1', 'y': 'PCA Component 2'},\n",
        "        category_orders={'cluster': list(range(num_clusters))},\n",
        "        # show the product id in the tooltip\n",
        "        hover_data={'product_id': True}\n",
        "\n",
        "    )\n",
        "\n",
        "    # Update layout to add legend title and adjust plot settings\n",
        "    fig.update_layout(legend_title_text='Clusters', legend=dict(x=1, y=1), width=600, height=500)\n",
        "\n",
        "    return fig\n",
        "\n",
        "fig = plot_clusters(pca_df)\n",
        "fig.show()"
      ]
    },
    {
      "cell_type": "markdown",
      "metadata": {
        "id": "wUf0_1QE9x36"
      },
      "source": [
        "### Task 5 - Highlight recently viewed products"
      ]
    },
    {
      "cell_type": "code",
      "execution_count": 22,
      "metadata": {
        "id": "5aVSaE-194HQ"
      },
      "outputs": [
        {
          "name": "stdout",
          "output_type": "stream",
          "text": [
            "The user has recently viewed the following products:  ['P316', 'P333', 'P1115', 'P1691', 'P1082', 'P397', 'P1441', 'P1054']\n"
          ]
        }
      ],
      "source": [
        "print(\"The user has recently viewed the following products: \", recently_viewed_products)"
      ]
    },
    {
      "cell_type": "markdown",
      "metadata": {
        "id": "-7XYwmVhKviT"
      },
      "source": [
        "Let's have a look at the records in our `clustered_data` dataframe related to the recently viewed products."
      ]
    },
    {
      "cell_type": "code",
      "execution_count": 23,
      "metadata": {
        "id": "G__WrqP3RreI"
      },
      "outputs": [
        {
          "name": "stdout",
          "output_type": "stream",
          "text": [
            "+----------+--------------------+--------------------+--------------------+-------+\n",
            "|product_id|               title|         description|            features|cluster|\n",
            "+----------+--------------------+--------------------+--------------------+-------+\n",
            "|      P316|Mystic Fitz Roy B...|With its distress...|[-0.0203542355448...|      3|\n",
            "|      P333|Florida Shag Beig...|Lavish natural mo...|[-0.0176313053816...|      3|\n",
            "|      P397|1 gal. #M250-3 Ap...|BEHR ULTRA SCUFF ...|[-0.0042055491358...|      0|\n",
            "|     P1054|1 gal. #HDPG60 Mi...|The improved PPG ...|[-0.0088454978540...|      0|\n",
            "|     P1082|1 qt. #S220-7 Mol...|BEHR ULTRA SCUFF ...|[-0.0200847387313...|      0|\n",
            "|     P1115|Modern Gray/Multi...|This Modern Gray/...|[-0.0280903037637...|      3|\n",
            "|     P1441|1 qt. #PPU6-06 Ho...|BEHR PREMIUM PLUS...|[-0.0061709149740...|      0|\n",
            "|     P1691|Genet Rust/Red-Br...|Add a refreshing ...|[-0.0352701097726...|      3|\n",
            "+----------+--------------------+--------------------+--------------------+-------+\n",
            "\n"
          ]
        }
      ],
      "source": [
        "filtered_data = clustered_data.filter(clustered_data.product_id.isin(recently_viewed_products))\n",
        "filtered_data.show()"
      ]
    },
    {
      "cell_type": "code",
      "execution_count": 24,
      "metadata": {},
      "outputs": [
        {
          "data": {
            "text/plain": [
              "[3, 0]"
            ]
          },
          "execution_count": 24,
          "metadata": {},
          "output_type": "execute_result"
        }
      ],
      "source": [
        "unique_clusters = filtered_data.select(\"cluster\").distinct().rdd.flatMap(lambda x:x).collect()\n",
        "unique_clusters"
      ]
    },
    {
      "cell_type": "markdown",
      "metadata": {
        "id": "IgvR7IZBdfRP"
      },
      "source": [
        "### Task 6 - Recommend products based on recently viewed products"
      ]
    },
    {
      "cell_type": "markdown",
      "metadata": {
        "id": "WGXK0C8iHcqv"
      },
      "source": [
        "Let's have a look at the recently viewed products titles"
      ]
    },
    {
      "cell_type": "markdown",
      "metadata": {
        "id": "-VDv_TunhyAx"
      },
      "source": [
        "Let's see the distinct clusters of the recenetly viewed products."
      ]
    },
    {
      "cell_type": "code",
      "execution_count": 25,
      "metadata": {
        "id": "vcIpAoXdDgjK"
      },
      "outputs": [
        {
          "data": {
            "text/plain": [
              "[\"Mystic Fitz Roy Beige 9' 0 x 12' 0 Area Rug\",\n",
              " 'Florida Shag Beige/Multi 3 ft. x 5 ft. Floral Area Rug',\n",
              " '1 gal. #M250-3 Apple Turnover Extra Durable Flat Interior Paint & Primer',\n",
              " '1 gal. #HDPG60 Misty Emerald Lake Flat Interior Paint and Primer',\n",
              " '1 qt. #S220-7 Molasses Extra Durable Flat Interior Paint & Primer',\n",
              " 'Modern Gray/Multi 9 ft. x 12 ft. Vibrant Abstract Polyester Area Rug',\n",
              " '1 qt. #PPU6-06 Honey Locust Eggshell Enamel Low Odor Interior Paint & Primer',\n",
              " 'Genet Rust/Red-Brown 8 ft. x 11 ft. Abstract Wool Area Rug']"
            ]
          },
          "execution_count": 25,
          "metadata": {},
          "output_type": "execute_result"
        }
      ],
      "source": [
        "filtered_data.select(\"title\").rdd.flatMap(lambda x: x).collect()"
      ]
    },
    {
      "cell_type": "markdown",
      "metadata": {
        "id": "fmoLOKthh2f_"
      },
      "source": [
        "Let's find the possible products for the recommendation."
      ]
    },
    {
      "cell_type": "code",
      "execution_count": 26,
      "metadata": {
        "id": "unKBWkemiLR4"
      },
      "outputs": [
        {
          "name": "stdout",
          "output_type": "stream",
          "text": [
            "+----------+--------------------+--------------------+--------------------+-------+\n",
            "|product_id|               title|         description|            features|cluster|\n",
            "+----------+--------------------+--------------------+--------------------+-------+\n",
            "|        P2|Large Tapestry Bo...|Polyester cover r...|[0.03585880994796...|      3|\n",
            "|        P6|5 gal. #650C-2 Po...|BEHR PRO i300 Sem...|[0.00168563472107...|      0|\n",
            "|       P11|1 qt. #350F-7 Wil...|BEHR PREMIUM PLUS...|[0.00113753252662...|      0|\n",
            "|       P16|5 gal. #BL-W10 Ma...|BEHR PREMIUM PLUS...|[-0.0087030595168...|      0|\n",
            "|       P18|1 qt. #M400-5 Bab...|BEHR PREMIUM PLUS...|[0.00725652417168...|      0|\n",
            "|       P21|Whimsicle Blue Mu...|In true bohemian ...|[0.03497285023331...|      3|\n",
            "|       P24|5-gal. #HDGO64U C...|The Glidden 5-gal...|[-0.0456367768347...|      0|\n",
            "|       P26|5 gal. #W-B-320 W...|BEHR ULTRA SCUFF ...|[0.00333938119001...|      0|\n",
            "|       P30|1 qt. Bermuda San...|This Glidden Exte...|[-0.0576894320547...|      0|\n",
            "|       P33|1 gal. #N210-6 Sw...|Love your space l...|[0.03455348685383...|      0|\n",
            "|       P39|Quartz Yellow Pap...|An amazing retro ...|[-0.0280124060809...|      3|\n",
            "|       P40|1 gal. #110B-6 Cr...|BEHR PREMIUM PLUS...|[-0.0088543901219...|      0|\n",
            "|       P42|\"24 in. x 30 in. ...|First came wood, ...|[0.05692498385906...|      3|\n",
            "|       P50|1 qt. #640A-1 Sof...|BEHR PREMIUM PLUS...|[-0.0330652855336...|      0|\n",
            "|       P52|Irenea Tan/Ivory ...|Inspired by the v...|[-0.0244985260069...|      3|\n",
            "|       P53|8 oz. #P140-7 No ...|The BEHR PREMIUM ...|[-0.0029355734586...|      0|\n",
            "|       P58|1 qt. #MQ2-4 Butt...|BEHR ULTRA SCUFF ...|[0.00689891679212...|      0|\n",
            "|       P59|1 gal. #HDGV43U I...|Glidden Premium e...|[0.00914397276937...|      0|\n",
            "|       P60|Maddie 5-Piece Gr...|Bring a cozy casu...|[0.09108056873083...|      3|\n",
            "|       P63|1 qt. #BIC-44 Cha...|BEHR PREMIUM PLUS...|[0.04775575548410...|      0|\n",
            "+----------+--------------------+--------------------+--------------------+-------+\n",
            "only showing top 20 rows\n",
            "\n"
          ]
        }
      ],
      "source": [
        "possible_recommendations = clustered_data.filter(clustered_data.cluster.isin(unique_clusters)).filter(~clustered_data.product_id.isin(recently_viewed_products))\n",
        "possible_recommendations.show()"
      ]
    },
    {
      "cell_type": "markdown",
      "metadata": {
        "id": "zZxLGRiN41hy"
      },
      "source": [
        "Let's perform a groupby and generate a list of product IDs that can be recommended for each of the clusters."
      ]
    },
    {
      "cell_type": "code",
      "execution_count": null,
      "metadata": {
        "id": "JdjExGZS5HNV"
      },
      "outputs": [
        {
          "name": "stdout",
          "output_type": "stream",
          "text": [
            "\n",
            "\n",
            "Recommendations for Cluster: 4\n",
            "Lyndhurst Multi/Green 10 ft. x 14 ft. Border Area Rug\n",
            "Milana Home Ocean Blue 2 ft. 6 in. x 4 ft. Indoor/Outdoor Rug\n",
            "Blossom Blue/Multi 8 ft. x 8 ft. Square Solid Floral Distressed Area Rug\n",
            "Cora Fairway Oaks Blue Transitional Vintage 5 ft. x 7 ft. Area Rug\n",
            "Vision Gray 2 ft. x 10 ft. Solid Runner Rug\n",
            "\n",
            "\n",
            "Recommendations for Cluster: 1\n",
            "8 oz. #S220-5 Nutshell One-Coat Hide Semi-Gloss Enamel Stain-Blocking Interior/Exterior Paint and Primer Sample\n",
            "5 gal. #790F-5 Amazon Stone Semi-Gloss Enamel Exterior Paint & Primer\n",
            "1 gal. #260F-6 Smokey Topaz Semi-Gloss Enamel Interior Paint & Primer\n",
            "5 gal. #PPU24-07 Barnwood Gray Extra Durable Flat Interior Paint & Primer\n",
            "5 gal. #390D-7 Marsh Grass Eggshell Interior Paint\n"
          ]
        },
        {
          "data": {
            "text/plain": [
              "0    None\n",
              "1    None\n",
              "dtype: object"
            ]
          },
          "execution_count": 99,
          "metadata": {},
          "output_type": "execute_result"
        }
      ],
      "source": [
        "# write a python function to display the recommendations\n",
        "def display_recommendation(row):\n",
        "    # find the title of the product in df\n",
        "    product_ids = row['random_recommendations']\n",
        "    cluster = row.cluster\n",
        "\n",
        "    titles = df.filter(df[\"product_id\"].isin(product_ids)).select(\"title\").collect()\n",
        "\n",
        "    print(\"\\n\")\n",
        "    print(\"Recommendations for Cluster:\", cluster)\n",
        "    for title in titles:\n",
        "        print(title[0])\n",
        "\n",
        "recommendation_df.apply(display_recommendation, axis=1)\n",
        "# End of the notebook"
      ]
    }
  ],
  "metadata": {
    "colab": {
      "collapsed_sections": [
        "WSq024bak3oY",
        "p8GVRghclHxs",
        "hY4One5i4VXh",
        "tmQsXruiibQN",
        "wUf0_1QE9x36",
        "IgvR7IZBdfRP"
      ],
      "provenance": []
    },
    "kernelspec": {
      "display_name": "openai_env",
      "language": "python",
      "name": "python3"
    },
    "language_info": {
      "codemirror_mode": {
        "name": "ipython",
        "version": 3
      },
      "file_extension": ".py",
      "mimetype": "text/x-python",
      "name": "python",
      "nbconvert_exporter": "python",
      "pygments_lexer": "ipython3",
      "version": "3.11.9"
    }
  },
  "nbformat": 4,
  "nbformat_minor": 0
}
